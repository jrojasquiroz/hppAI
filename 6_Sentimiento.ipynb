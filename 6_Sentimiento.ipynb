{
  "cells": [
    {
      "cell_type": "code",
      "source": [
        "pip install pysentimiento factor_analyzer"
      ],
      "metadata": {
        "id": "C3if2qxDjKv-"
      },
      "id": "C3if2qxDjKv-",
      "execution_count": null,
      "outputs": []
    },
    {
      "cell_type": "code",
      "source": [
        "from google.colab import drive\n",
        "drive.mount('/content/drive')"
      ],
      "metadata": {
        "id": "Vhl7kCllkCQB",
        "colab": {
          "base_uri": "https://localhost:8080/"
        },
        "outputId": "1f47feaf-8b15-4fd2-8c7d-989b4ca0a6b8"
      },
      "id": "Vhl7kCllkCQB",
      "execution_count": null,
      "outputs": [
        {
          "output_type": "stream",
          "name": "stdout",
          "text": [
            "Drive already mounted at /content/drive; to attempt to forcibly remount, call drive.mount(\"/content/drive\", force_remount=True).\n"
          ]
        }
      ]
    },
    {
      "cell_type": "markdown",
      "id": "9d54edc0-64fc-4650-b926-525b06e424af",
      "metadata": {
        "id": "9d54edc0-64fc-4650-b926-525b06e424af"
      },
      "source": [
        "# Análisis de sentimiento"
      ]
    },
    {
      "cell_type": "markdown",
      "id": "ac3da77b-4506-46aa-b277-53714ddbac7c",
      "metadata": {
        "id": "ac3da77b-4506-46aa-b277-53714ddbac7c"
      },
      "source": [
        "## 1. Importación de librerías y revisión del *dataframe*"
      ]
    },
    {
      "cell_type": "code",
      "execution_count": null,
      "id": "4a944f2c-e114-446a-a47d-2f232b67dc8f",
      "metadata": {
        "tags": [],
        "id": "4a944f2c-e114-446a-a47d-2f232b67dc8f"
      },
      "outputs": [],
      "source": [
        "import pandas as pd\n",
        "import numpy as np\n",
        "from matplotlib import pyplot as plt\n",
        "import seaborn as sns\n",
        "from pysentimiento import create_analyzer #para el analisis de sentimiento\n",
        "from factor_analyzer import FactorAnalyzer #para hacer ACP\n",
        "import time"
      ]
    },
    {
      "cell_type": "markdown",
      "id": "9bf90fef-a747-4d1c-a291-f29092760a92",
      "metadata": {
        "id": "9bf90fef-a747-4d1c-a291-f29092760a92"
      },
      "source": [
        "Noten que vamos a usar una librería llamada `pysentimiento`, que funciona con base en un modelo llamado ROBERTuito. Pueden leer más sobre ello [en este paper](https://arxiv.org/abs/2106.09462)."
      ]
    },
    {
      "cell_type": "code",
      "execution_count": null,
      "id": "320a005e-3ced-43c2-ba44-08148708af8b",
      "metadata": {
        "tags": [],
        "id": "320a005e-3ced-43c2-ba44-08148708af8b"
      },
      "outputs": [],
      "source": [
        "base=pd.read_excel('/content/drive/MyDrive/Documentos personales/9-Documentos Doctorado/Doctorado 2023/7-Clases/SRGVUA/data/clases/habitaclia3971_1y2.xlsx')"
      ]
    },
    {
      "cell_type": "markdown",
      "id": "4979da7e-fe4f-4c61-b6f7-27a8ba815b84",
      "metadata": {
        "id": "4979da7e-fe4f-4c61-b6f7-27a8ba815b84"
      },
      "source": [
        "## 2. Análisis de sentimiento"
      ]
    },
    {
      "cell_type": "markdown",
      "id": "c1ac5baa-e91a-4309-9b2a-09764a1e7669",
      "metadata": {
        "id": "c1ac5baa-e91a-4309-9b2a-09764a1e7669"
      },
      "source": [
        "La columna `cl_descrip` es aquella que tiene las descripciones sobre las que queremos realizar el análisis de sentimiento."
      ]
    },
    {
      "cell_type": "code",
      "execution_count": null,
      "id": "70135bf4-3512-4bfb-bc18-f59fa2d8838c",
      "metadata": {
        "tags": [],
        "id": "70135bf4-3512-4bfb-bc18-f59fa2d8838c",
        "colab": {
          "base_uri": "https://localhost:8080/"
        },
        "outputId": "6061bf21-f600-4adb-aedd-ee2aea4507c0"
      },
      "outputs": [
        {
          "output_type": "stream",
          "name": "stderr",
          "text": [
            "/usr/local/lib/python3.10/dist-packages/huggingface_hub/utils/_token.py:89: UserWarning: \n",
            "The secret `HF_TOKEN` does not exist in your Colab secrets.\n",
            "To authenticate with the Hugging Face Hub, create a token in your settings tab (https://huggingface.co/settings/tokens), set it as secret in your Google Colab and restart your session.\n",
            "You will be able to reuse this secret in all of your notebooks.\n",
            "Please note that authentication is recommended but still optional to access public models or datasets.\n",
            "  warnings.warn(\n"
          ]
        }
      ],
      "source": [
        "# Reemplazar los valores NaN o no válidos con una cadena vacía ''\n",
        "base['cl_descrip'] = base['cl_descrip'].fillna('')\n",
        "\n",
        "start_time = time.time()\n",
        "\n",
        "# Crear el analizador de sentimientos\n",
        "analyzer = create_analyzer(task=\"sentiment\", lang=\"es\")\n",
        "\n",
        "# Aplicar el análisis de sentimientos a todas las filas de la columna 'Description'\n",
        "sentiments = base['cl_descrip'].apply(analyzer.predict)\n",
        "\n",
        "end_time = time.time()\n",
        "\n",
        "# Extraer los valores de probabilidad para cada categoría y crear las nuevas columnas\n",
        "base['POS'] = [result.probas.get('POS', 0) for result in sentiments]\n",
        "base['NEU'] = [result.probas.get('NEU', 0) for result in sentiments]\n",
        "base['NEG'] = [result.probas.get('NEG', 0) for result in sentiments]"
      ]
    },
    {
      "cell_type": "code",
      "source": [
        "elapsed_time = end_time - start_time\n",
        "print(\"Tiempo de ejecución: {:.2f} segundos\".format(elapsed_time))"
      ],
      "metadata": {
        "colab": {
          "base_uri": "https://localhost:8080/"
        },
        "id": "Q_w_F8n3ol3T",
        "outputId": "bf439d4c-d13e-4b1a-a258-566679869247"
      },
      "id": "Q_w_F8n3ol3T",
      "execution_count": null,
      "outputs": [
        {
          "output_type": "stream",
          "name": "stdout",
          "text": [
            "Tiempo de ejecución: 1925.82 segundos\n"
          ]
        }
      ]
    },
    {
      "cell_type": "code",
      "execution_count": null,
      "id": "288ab64c-f6db-4d4e-aa71-80965362ae6d",
      "metadata": {
        "tags": [],
        "id": "288ab64c-f6db-4d4e-aa71-80965362ae6d",
        "outputId": "4a79d532-f5c4-4869-a392-e284990971a5",
        "colab": {
          "base_uri": "https://localhost:8080/",
          "height": 206
        }
      },
      "outputs": [
        {
          "output_type": "execute_result",
          "data": {
            "text/plain": [
              "                                          cl_descrip       POS       NEU  \\\n",
              "0  Espectacular dúplex en finca de pocos vecinos,...  0.644762  0.340604   \n",
              "1  Espectacular piso en venta de obra seminueva d...  0.743992  0.239967   \n",
              "2  PISAZO, EL MEJOR DE LA ZONA.FENOMENAL PISO SIN...  0.933685  0.057009   \n",
              "3  Piso de 95 m², distribuidos en: recibidor, 4 h...  0.203656  0.765074   \n",
              "4  Piso de OBRA NUEVA en calle Riera de la Creu, ...  0.624696  0.346660   \n",
              "\n",
              "        NEG  \n",
              "0  0.014634  \n",
              "1  0.016042  \n",
              "2  0.009306  \n",
              "3  0.031270  \n",
              "4  0.028644  "
            ],
            "text/html": [
              "\n",
              "  <div id=\"df-7b73955f-245f-4bd5-bf65-e2fe3e1242b7\" class=\"colab-df-container\">\n",
              "    <div>\n",
              "<style scoped>\n",
              "    .dataframe tbody tr th:only-of-type {\n",
              "        vertical-align: middle;\n",
              "    }\n",
              "\n",
              "    .dataframe tbody tr th {\n",
              "        vertical-align: top;\n",
              "    }\n",
              "\n",
              "    .dataframe thead th {\n",
              "        text-align: right;\n",
              "    }\n",
              "</style>\n",
              "<table border=\"1\" class=\"dataframe\">\n",
              "  <thead>\n",
              "    <tr style=\"text-align: right;\">\n",
              "      <th></th>\n",
              "      <th>cl_descrip</th>\n",
              "      <th>POS</th>\n",
              "      <th>NEU</th>\n",
              "      <th>NEG</th>\n",
              "    </tr>\n",
              "  </thead>\n",
              "  <tbody>\n",
              "    <tr>\n",
              "      <th>0</th>\n",
              "      <td>Espectacular dúplex en finca de pocos vecinos,...</td>\n",
              "      <td>0.644762</td>\n",
              "      <td>0.340604</td>\n",
              "      <td>0.014634</td>\n",
              "    </tr>\n",
              "    <tr>\n",
              "      <th>1</th>\n",
              "      <td>Espectacular piso en venta de obra seminueva d...</td>\n",
              "      <td>0.743992</td>\n",
              "      <td>0.239967</td>\n",
              "      <td>0.016042</td>\n",
              "    </tr>\n",
              "    <tr>\n",
              "      <th>2</th>\n",
              "      <td>PISAZO, EL MEJOR DE LA ZONA.FENOMENAL PISO SIN...</td>\n",
              "      <td>0.933685</td>\n",
              "      <td>0.057009</td>\n",
              "      <td>0.009306</td>\n",
              "    </tr>\n",
              "    <tr>\n",
              "      <th>3</th>\n",
              "      <td>Piso de 95 m², distribuidos en: recibidor, 4 h...</td>\n",
              "      <td>0.203656</td>\n",
              "      <td>0.765074</td>\n",
              "      <td>0.031270</td>\n",
              "    </tr>\n",
              "    <tr>\n",
              "      <th>4</th>\n",
              "      <td>Piso de OBRA NUEVA en calle Riera de la Creu, ...</td>\n",
              "      <td>0.624696</td>\n",
              "      <td>0.346660</td>\n",
              "      <td>0.028644</td>\n",
              "    </tr>\n",
              "  </tbody>\n",
              "</table>\n",
              "</div>\n",
              "    <div class=\"colab-df-buttons\">\n",
              "\n",
              "  <div class=\"colab-df-container\">\n",
              "    <button class=\"colab-df-convert\" onclick=\"convertToInteractive('df-7b73955f-245f-4bd5-bf65-e2fe3e1242b7')\"\n",
              "            title=\"Convert this dataframe to an interactive table.\"\n",
              "            style=\"display:none;\">\n",
              "\n",
              "  <svg xmlns=\"http://www.w3.org/2000/svg\" height=\"24px\" viewBox=\"0 -960 960 960\">\n",
              "    <path d=\"M120-120v-720h720v720H120Zm60-500h600v-160H180v160Zm220 220h160v-160H400v160Zm0 220h160v-160H400v160ZM180-400h160v-160H180v160Zm440 0h160v-160H620v160ZM180-180h160v-160H180v160Zm440 0h160v-160H620v160Z\"/>\n",
              "  </svg>\n",
              "    </button>\n",
              "\n",
              "  <style>\n",
              "    .colab-df-container {\n",
              "      display:flex;\n",
              "      gap: 12px;\n",
              "    }\n",
              "\n",
              "    .colab-df-convert {\n",
              "      background-color: #E8F0FE;\n",
              "      border: none;\n",
              "      border-radius: 50%;\n",
              "      cursor: pointer;\n",
              "      display: none;\n",
              "      fill: #1967D2;\n",
              "      height: 32px;\n",
              "      padding: 0 0 0 0;\n",
              "      width: 32px;\n",
              "    }\n",
              "\n",
              "    .colab-df-convert:hover {\n",
              "      background-color: #E2EBFA;\n",
              "      box-shadow: 0px 1px 2px rgba(60, 64, 67, 0.3), 0px 1px 3px 1px rgba(60, 64, 67, 0.15);\n",
              "      fill: #174EA6;\n",
              "    }\n",
              "\n",
              "    .colab-df-buttons div {\n",
              "      margin-bottom: 4px;\n",
              "    }\n",
              "\n",
              "    [theme=dark] .colab-df-convert {\n",
              "      background-color: #3B4455;\n",
              "      fill: #D2E3FC;\n",
              "    }\n",
              "\n",
              "    [theme=dark] .colab-df-convert:hover {\n",
              "      background-color: #434B5C;\n",
              "      box-shadow: 0px 1px 3px 1px rgba(0, 0, 0, 0.15);\n",
              "      filter: drop-shadow(0px 1px 2px rgba(0, 0, 0, 0.3));\n",
              "      fill: #FFFFFF;\n",
              "    }\n",
              "  </style>\n",
              "\n",
              "    <script>\n",
              "      const buttonEl =\n",
              "        document.querySelector('#df-7b73955f-245f-4bd5-bf65-e2fe3e1242b7 button.colab-df-convert');\n",
              "      buttonEl.style.display =\n",
              "        google.colab.kernel.accessAllowed ? 'block' : 'none';\n",
              "\n",
              "      async function convertToInteractive(key) {\n",
              "        const element = document.querySelector('#df-7b73955f-245f-4bd5-bf65-e2fe3e1242b7');\n",
              "        const dataTable =\n",
              "          await google.colab.kernel.invokeFunction('convertToInteractive',\n",
              "                                                    [key], {});\n",
              "        if (!dataTable) return;\n",
              "\n",
              "        const docLinkHtml = 'Like what you see? Visit the ' +\n",
              "          '<a target=\"_blank\" href=https://colab.research.google.com/notebooks/data_table.ipynb>data table notebook</a>'\n",
              "          + ' to learn more about interactive tables.';\n",
              "        element.innerHTML = '';\n",
              "        dataTable['output_type'] = 'display_data';\n",
              "        await google.colab.output.renderOutput(dataTable, element);\n",
              "        const docLink = document.createElement('div');\n",
              "        docLink.innerHTML = docLinkHtml;\n",
              "        element.appendChild(docLink);\n",
              "      }\n",
              "    </script>\n",
              "  </div>\n",
              "\n",
              "\n",
              "<div id=\"df-5d5ac1d3-7d2b-45c2-9060-62e2ceb1735b\">\n",
              "  <button class=\"colab-df-quickchart\" onclick=\"quickchart('df-5d5ac1d3-7d2b-45c2-9060-62e2ceb1735b')\"\n",
              "            title=\"Suggest charts\"\n",
              "            style=\"display:none;\">\n",
              "\n",
              "<svg xmlns=\"http://www.w3.org/2000/svg\" height=\"24px\"viewBox=\"0 0 24 24\"\n",
              "     width=\"24px\">\n",
              "    <g>\n",
              "        <path d=\"M19 3H5c-1.1 0-2 .9-2 2v14c0 1.1.9 2 2 2h14c1.1 0 2-.9 2-2V5c0-1.1-.9-2-2-2zM9 17H7v-7h2v7zm4 0h-2V7h2v10zm4 0h-2v-4h2v4z\"/>\n",
              "    </g>\n",
              "</svg>\n",
              "  </button>\n",
              "\n",
              "<style>\n",
              "  .colab-df-quickchart {\n",
              "      --bg-color: #E8F0FE;\n",
              "      --fill-color: #1967D2;\n",
              "      --hover-bg-color: #E2EBFA;\n",
              "      --hover-fill-color: #174EA6;\n",
              "      --disabled-fill-color: #AAA;\n",
              "      --disabled-bg-color: #DDD;\n",
              "  }\n",
              "\n",
              "  [theme=dark] .colab-df-quickchart {\n",
              "      --bg-color: #3B4455;\n",
              "      --fill-color: #D2E3FC;\n",
              "      --hover-bg-color: #434B5C;\n",
              "      --hover-fill-color: #FFFFFF;\n",
              "      --disabled-bg-color: #3B4455;\n",
              "      --disabled-fill-color: #666;\n",
              "  }\n",
              "\n",
              "  .colab-df-quickchart {\n",
              "    background-color: var(--bg-color);\n",
              "    border: none;\n",
              "    border-radius: 50%;\n",
              "    cursor: pointer;\n",
              "    display: none;\n",
              "    fill: var(--fill-color);\n",
              "    height: 32px;\n",
              "    padding: 0;\n",
              "    width: 32px;\n",
              "  }\n",
              "\n",
              "  .colab-df-quickchart:hover {\n",
              "    background-color: var(--hover-bg-color);\n",
              "    box-shadow: 0 1px 2px rgba(60, 64, 67, 0.3), 0 1px 3px 1px rgba(60, 64, 67, 0.15);\n",
              "    fill: var(--button-hover-fill-color);\n",
              "  }\n",
              "\n",
              "  .colab-df-quickchart-complete:disabled,\n",
              "  .colab-df-quickchart-complete:disabled:hover {\n",
              "    background-color: var(--disabled-bg-color);\n",
              "    fill: var(--disabled-fill-color);\n",
              "    box-shadow: none;\n",
              "  }\n",
              "\n",
              "  .colab-df-spinner {\n",
              "    border: 2px solid var(--fill-color);\n",
              "    border-color: transparent;\n",
              "    border-bottom-color: var(--fill-color);\n",
              "    animation:\n",
              "      spin 1s steps(1) infinite;\n",
              "  }\n",
              "\n",
              "  @keyframes spin {\n",
              "    0% {\n",
              "      border-color: transparent;\n",
              "      border-bottom-color: var(--fill-color);\n",
              "      border-left-color: var(--fill-color);\n",
              "    }\n",
              "    20% {\n",
              "      border-color: transparent;\n",
              "      border-left-color: var(--fill-color);\n",
              "      border-top-color: var(--fill-color);\n",
              "    }\n",
              "    30% {\n",
              "      border-color: transparent;\n",
              "      border-left-color: var(--fill-color);\n",
              "      border-top-color: var(--fill-color);\n",
              "      border-right-color: var(--fill-color);\n",
              "    }\n",
              "    40% {\n",
              "      border-color: transparent;\n",
              "      border-right-color: var(--fill-color);\n",
              "      border-top-color: var(--fill-color);\n",
              "    }\n",
              "    60% {\n",
              "      border-color: transparent;\n",
              "      border-right-color: var(--fill-color);\n",
              "    }\n",
              "    80% {\n",
              "      border-color: transparent;\n",
              "      border-right-color: var(--fill-color);\n",
              "      border-bottom-color: var(--fill-color);\n",
              "    }\n",
              "    90% {\n",
              "      border-color: transparent;\n",
              "      border-bottom-color: var(--fill-color);\n",
              "    }\n",
              "  }\n",
              "</style>\n",
              "\n",
              "  <script>\n",
              "    async function quickchart(key) {\n",
              "      const quickchartButtonEl =\n",
              "        document.querySelector('#' + key + ' button');\n",
              "      quickchartButtonEl.disabled = true;  // To prevent multiple clicks.\n",
              "      quickchartButtonEl.classList.add('colab-df-spinner');\n",
              "      try {\n",
              "        const charts = await google.colab.kernel.invokeFunction(\n",
              "            'suggestCharts', [key], {});\n",
              "      } catch (error) {\n",
              "        console.error('Error during call to suggestCharts:', error);\n",
              "      }\n",
              "      quickchartButtonEl.classList.remove('colab-df-spinner');\n",
              "      quickchartButtonEl.classList.add('colab-df-quickchart-complete');\n",
              "    }\n",
              "    (() => {\n",
              "      let quickchartButtonEl =\n",
              "        document.querySelector('#df-5d5ac1d3-7d2b-45c2-9060-62e2ceb1735b button');\n",
              "      quickchartButtonEl.style.display =\n",
              "        google.colab.kernel.accessAllowed ? 'block' : 'none';\n",
              "    })();\n",
              "  </script>\n",
              "</div>\n",
              "    </div>\n",
              "  </div>\n"
            ],
            "application/vnd.google.colaboratory.intrinsic+json": {
              "type": "dataframe",
              "summary": "{\n  \"name\": \"base[['cl_descrip','POS','NEU','NEG']]\",\n  \"rows\": 5,\n  \"fields\": [\n    {\n      \"column\": \"cl_descrip\",\n      \"properties\": {\n        \"dtype\": \"string\",\n        \"num_unique_values\": 5,\n        \"samples\": [\n          \"Espectacular piso en venta de obra seminueva del a\\u00f1o situado en una 2\\u00aa planta real junto al CC Gran Via 2 en l\\u2019Hospitalet. La vivienda dispone de 97 m\\u00b2 distribuidos en un amplio sal\\u00f3n comedor de 28 m\\u00b2 con salida al amplio balc\\u00f3n de 14 m\\u00b2, 1 cocina independiente, 3 habitaciones (1 doble y 2 individuales) y 2 ba\\u00f1os completos. Cuenta adem\\u00e1s con la opci\\u00f3n de adquirir una plaza de aparcamiento con trastero por 25.000 euros.Fant\\u00e1stica ubicaci\\u00f3n en zona muy tranquila de l\\u2019Hospitalet, junto a la Fira de Barcelona y el CC Gran Via 2, un centro de ocio y comercio donde puede disfrutar toda la familia. F\\u00e1cil acceso a la entrada y salida de la ciudad por la Gran Via y muy bien comunicado con transporte p\\u00fablico.Las fotos son orientativasFORCADELL le ofrece asesoramiento y le ayuda en las gestiones para la obtenci\\u00f3n de la hipoteca.FINCAS FORCADELL, SLU AICAT 163 Pl. Universitat, 3 Baixos. BARCELONA\",\n          \"Piso de OBRA NUEVA en calle Riera de la Creu, de 135 m\\u00b2. Se divide en un amplio y luminoso sal\\u00f3n comedor, totalmente exterior. Tiene 4 habitaciones, 2 ba\\u00f1os y un aseo. Equipado con aire acondicionado y calefacci\\u00f3n. Los acabados son de gran calidad. Plaza de aparcamiento y trastero opcionales.Se encuentra muy cerca del Ayuntamiento y la Rambla de Just Oliveras, zona con excelentes comunicaciones (autob\\u00fas, metro y tren de cercan\\u00edas), y dotada de toda clase de servicios (centros comerciales, peque\\u00f1o comercio, escuelas, ocio, cultura, \\u2026). A 20 minutos de Pla\\u00e7a Catalunya. El precio no incluye impuestos ni gastos de la compra venta. Producto Apialia | Eurofincas International Real Estate | Referencia V1945GI-AR\",\n          \"PISAZO, EL MEJOR DE LA ZONA.FENOMENAL PISO SIN VECINOS DELANTE EN LA ZONA DE CAN SERRA, MUY CERCA DE TODOS LOS SERVICIOS, TANTO DE METRO, COMERCIOS, M\\u00c9DICOS Y GRANDES SUPERFICIES, ZONA MUY TRANQUILA...PISO DISTRIBUIDO EN 3 HABITACIONES EXTERIORES CON MUCH\\u00cdSIMO SOL Y CLARIDAD, UNA DOBLE Y DOS INDIVIDUALES..........GRAN SAL\\u00d3N COMEDOR DE 20M2 APROXIMADAMENTE CON SALIDA A BALC\\u00d3N CUADRADO DONDE CABE MESA Y SILLAS, VISTAS DESPAJADAS Y PANOR\\u00c1MICAS SIN VECINOS DELANTE, BONITO BA\\u00d1O COMPLETO REFORMADO CON BA\\u00d1ERA Y ASEO DE CORTES\\u00cdA, COCINA A 2 NIVELES ALARGADA TOTALMENTE REFORMADA CON SALIDA A AMPLIA GALER\\u00cdA.SUELOS DE PARKET, VENTANAS DE ALUMINIO, PUERTAS DE HAYA, AIRE ACONDICIONADO CON BOMBA DE CALOR.LISTO PARA ENTRAR A VIVIR, POR NO NECESITAR, NO NECESITA NI PINTARSE Y LA POSIBILIDAD DE QUEDARSE AMUEBLADO.GESTI\\u00d3N HIPOTECARIA TOTALMENTE GRATUITA COMPRANDO CON NOSOTROS, NOS ENCARGAMOS DE TODO, RECOPILE SU DOCUMENTACI\\u00d3N Y TR\\u00c1IGANOSLA, LE HAREMOS SU ESTUDIO HIPOTECARIO SIN COMPROMISO Y SIN COSTE... ASEG\\u00daRESE DE COMPRAR EN BUENAS MANOS, EN O\\u00b4DONELL FINCAS NOS COMPROMETEMOS A REALIZAR LA GESTI\\u00d3N DE LA COMPRAVENTA DE INMUEBLES CON LA MAYOR FLUIDEZ Y TRANSPARENCIA DEL MERCADO, VENGA A CONOCERNOS, LA RECOMENDACI\\u00d3N ES LO QUE NOS MUEVE.... COMPROMETIDOS CON TU ILUSI\\u00d3N .....\"\n        ],\n        \"semantic_type\": \"\",\n        \"description\": \"\"\n      }\n    },\n    {\n      \"column\": \"POS\",\n      \"properties\": {\n        \"dtype\": \"number\",\n        \"std\": 0.2679709432763899,\n        \"min\": 0.20365582406520844,\n        \"max\": 0.9336845874786377,\n        \"num_unique_values\": 5,\n        \"samples\": [\n          0.7439916133880615,\n          0.6246959567070007,\n          0.9336845874786377\n        ],\n        \"semantic_type\": \"\",\n        \"description\": \"\"\n      }\n    },\n    {\n      \"column\": \"NEU\",\n      \"properties\": {\n        \"dtype\": \"number\",\n        \"std\": 0.25996953434284936,\n        \"min\": 0.057008977979421616,\n        \"max\": 0.7650737762451172,\n        \"num_unique_values\": 5,\n        \"samples\": [\n          0.23996677994728088,\n          0.34666046500205994,\n          0.057008977979421616\n        ],\n        \"semantic_type\": \"\",\n        \"description\": \"\"\n      }\n    },\n    {\n      \"column\": \"NEG\",\n      \"properties\": {\n        \"dtype\": \"number\",\n        \"std\": 0.009494019571656853,\n        \"min\": 0.009306419640779495,\n        \"max\": 0.03127032145857811,\n        \"num_unique_values\": 5,\n        \"samples\": [\n          0.016041642054915428,\n          0.028643574565649033,\n          0.009306419640779495\n        ],\n        \"semantic_type\": \"\",\n        \"description\": \"\"\n      }\n    }\n  ]\n}"
            }
          },
          "metadata": {},
          "execution_count": 9
        }
      ],
      "source": [
        "base[['cl_descrip','POS','NEU','NEG']].head()"
      ]
    },
    {
      "cell_type": "markdown",
      "id": "3aeb56d7-6e49-4023-82a7-31294eed45fb",
      "metadata": {
        "id": "3aeb56d7-6e49-4023-82a7-31294eed45fb"
      },
      "source": [
        "En este momento, recomiendo abrir el documento en Excel y ver qué tal ha quedado y si hay algo que se nos esté pasando."
      ]
    },
    {
      "cell_type": "code",
      "execution_count": null,
      "id": "df8d5940-fc26-407d-9e52-46d8137cf96d",
      "metadata": {
        "id": "df8d5940-fc26-407d-9e52-46d8137cf96d"
      },
      "outputs": [],
      "source": [
        "#base[['cl_descrip','cantidad_palabras',\n",
        "#      'POS','NEU','NEG']].to_excel('/content/drive/MyDrive/Documentos personales/9-Documentos Doctorado/Doctorado 2023/7-Clases/SRGVUA/rawdata/clases/sentimiento_borrar_luego.xlsx')"
      ]
    },
    {
      "cell_type": "markdown",
      "id": "a884824f-782f-433d-8327-e6af2d5b77f4",
      "metadata": {
        "id": "a884824f-782f-433d-8327-e6af2d5b77f4"
      },
      "source": [
        "Lo que me encuentro es que hay celdas con descripción vacía (`cantidad_palabras`= 0), pero en donde se han ponderado los sentimientos. Creo que es algo que deberíamos mejorar.\n",
        "\n",
        "Me parece que aquellas que no tienen descripción es porque deberían tener un sentimiento negativo asociado, pero no deberían tener nada de positivo ni de neutral. Si fuese así, ¿qué valor `NEG` le deberíamos poner? Podría ser el valor promedio, siempre que la distribución de la variable sea normal. Empecemos revisando eso."
      ]
    },
    {
      "cell_type": "code",
      "execution_count": null,
      "id": "faa1589a-6a0a-4c3e-bb2f-9742443d0fc4",
      "metadata": {
        "tags": [],
        "id": "faa1589a-6a0a-4c3e-bb2f-9742443d0fc4",
        "outputId": "b36ca8ff-c7d6-4502-ff1b-8ead6ed9971f",
        "colab": {
          "base_uri": "https://localhost:8080/",
          "height": 472
        }
      },
      "outputs": [
        {
          "output_type": "display_data",
          "data": {
            "text/plain": [
              "<Figure size 640x480 with 1 Axes>"
            ],
            "image/png": "[encoded data removed]"
          },
          "metadata": {}
        }
      ],
      "source": [
        "# Filtra el DataFrame para incluir solo las filas donde 'cantidad_palabras' es mayor o igual que 1\n",
        "filtered_df = base[base['cantidad_palabras'] >= 1]\n",
        "\n",
        "# Crea el histograma de la columna 'NEG' en el DataFrame filtrado\n",
        "plt.hist(filtered_df['NEG'], bins=20, color='blue', alpha=0.7)\n",
        "plt.xlabel('NEG')\n",
        "plt.ylabel('Frecuencia')\n",
        "plt.title('Histograma de NEG con cantidad_palabras >= 1')\n",
        "plt.show()"
      ]
    },
    {
      "cell_type": "markdown",
      "id": "1b9bc479-76a0-4d23-976d-c332e8c7cec5",
      "metadata": {
        "id": "1b9bc479-76a0-4d23-976d-c332e8c7cec5"
      },
      "source": [
        "Como no es una distribución normal, usar el promedio no capturaría la distribución de los datos. En esos casos, es preferible **usar la mediana**: el valor que está justo en el centro de los datos.\n",
        "\n",
        "Ahora sí arreglemos los valores de esas filas."
      ]
    },
    {
      "cell_type": "code",
      "execution_count": null,
      "id": "b4e816a2-05d4-4022-be86-d508a221c218",
      "metadata": {
        "tags": [],
        "id": "b4e816a2-05d4-4022-be86-d508a221c218"
      },
      "outputs": [],
      "source": [
        "#Obtengo la mediana\n",
        "median_neg = filtered_df['NEG'].median() #noten que lo hago sobre 'filtered_df'\n",
        "\n",
        "# Función para actualizar 'POS', 'NEU' y 'NEG' cuando la cantidad de palabras es igual a 0\n",
        "def update_sentiment_values(row):\n",
        "    if row['cantidad_palabras'] == 0:\n",
        "        row['POS'] = 0\n",
        "        row['NEU'] = 0\n",
        "        row['NEG'] = median_neg\n",
        "    return row\n",
        "\n",
        "# Aplica la función a cada fila del DataFrame\n",
        "base = base.apply(update_sentiment_values, axis=1)\n",
        "\n",
        "# Si quieren, pueden exportar para explorar los resultados\n",
        "#base[['cl_descrip','POS','NEU','NEG']].to_excel('/content/drive/MyDrive/Documentos personales/9-Documentos Doctorado/Doctorado 2023/7-Clases/SRGVUA/rawdata/sentimiento_borrar_luego.xlsx')"
      ]
    },
    {
      "cell_type": "markdown",
      "id": "5d4c6d34-e6d0-44e7-b128-232aa6da66be",
      "metadata": {
        "id": "5d4c6d34-e6d0-44e7-b128-232aa6da66be"
      },
      "source": [
        "## 5. Análisis de Componentes Principales"
      ]
    },
    {
      "cell_type": "markdown",
      "id": "ac0f0368-5cc8-447d-9b68-77cd9552b2a4",
      "metadata": {
        "id": "ac0f0368-5cc8-447d-9b68-77cd9552b2a4"
      },
      "source": [
        "Con el análisis hecho, notamos que tenemos tres nuevas variables. Podríamos intentar hacer un ACP para ver si es posible tener una sola variable que las sintetice."
      ]
    },
    {
      "cell_type": "code",
      "execution_count": null,
      "id": "f030b73a-1a62-4a71-956c-96535eb14472",
      "metadata": {
        "tags": [],
        "id": "f030b73a-1a62-4a71-956c-96535eb14472",
        "outputId": "8d539ccf-54b3-4e48-cfb9-0aa5212ac923",
        "colab": {
          "base_uri": "https://localhost:8080/"
        }
      },
      "outputs": [
        {
          "output_type": "stream",
          "name": "stdout",
          "text": [
            "Tabla de Varianza Total Explicada:\n",
            "         SS Loadings  Proportion Var  Cumulative Var\n",
            "Factor1     1.923686        0.641229        0.641229\n",
            "Factor2     1.054200        0.351400        0.992629\n",
            "Factor3     0.022114        0.007371        1.000000\n"
          ]
        }
      ],
      "source": [
        "#Le indicamos en qué columnas se va a centrar\n",
        "df = base[['POS','NEU','NEG']]\n",
        "\n",
        "#Le pedimos un ACP con rotación varimax y N factores\n",
        "fa = FactorAnalyzer(rotation='varimax',\n",
        "                    n_factors=3, ## esto lo indican ustedes, deben ir probando ##\n",
        "                    method='principal')\n",
        "fa.fit(df)\n",
        "\n",
        "# Obtener la varianza total explicada\n",
        "total_variance = fa.get_factor_variance()\n",
        "\n",
        "# Crear un DataFrame para mostrar la tabla de la varianza total explicada\n",
        "explained_variance_df = pd.DataFrame(total_variance,\n",
        "                                     columns=['Factor1', 'Factor2',\n",
        "                                              'Factor3'], #Deben aumentar o disminuir según la\n",
        "                                                          #cantidad de factores que\n",
        "                                                          #hayan indicado\n",
        "                                     index=['SS Loadings', 'Proportion Var', 'Cumulative Var'])\n",
        "\n",
        "#Esto es solo para que la tabla se vea mejor\n",
        "explained_variance_df = explained_variance_df.transpose()\n",
        "\n",
        "print(\"Tabla de Varianza Total Explicada:\")\n",
        "print(explained_variance_df)"
      ]
    },
    {
      "cell_type": "markdown",
      "id": "49ccfd3c-ae28-4194-8088-d8b0548dc052",
      "metadata": {
        "id": "49ccfd3c-ae28-4194-8088-d8b0548dc052"
      },
      "source": [
        "Fíjense siempre en *Cumulative Var*, que es la varianza acumulada explicada. Usualmente se utiliza un umbral del 70%: la cantidad de factores necesarios para explicar todas las variables es aquella que acumula ese porcentaje.\n",
        "\n",
        "Noto que a partir del segundo factor ya explico un 94% de las tres variables, lo que podría entenderse como un número aceptable.\n",
        "\n",
        "Ahora tratemos de interpretar cada factor."
      ]
    },
    {
      "cell_type": "code",
      "execution_count": null,
      "id": "d50d8c50-a839-4e16-8fae-838c4afd379e",
      "metadata": {
        "tags": [],
        "id": "d50d8c50-a839-4e16-8fae-838c4afd379e",
        "outputId": "c9c98a50-bd47-4281-f9c0-8231dc6a9ab5",
        "colab": {
          "base_uri": "https://localhost:8080/",
          "height": 256
        }
      },
      "outputs": [
        {
          "output_type": "display_data",
          "data": {
            "text/plain": [
              "<Figure size 1000x200 with 1 Axes>"
            ],
            "image/png": "[encoded data removed]"
          },
          "metadata": {}
        }
      ],
      "source": [
        "#Creamos una matriz de cargas rotadas\n",
        "rotated_loadings = fa.loadings_\n",
        "\n",
        "# Transponer la matriz de cargas rotadas para que las columnas coincidan con las variables\n",
        "rotated_loadings_transposed = rotated_loadings.T\n",
        "\n",
        "rotated_df = pd.DataFrame(rotated_loadings_transposed, columns=df.columns)\n",
        "\n",
        "# Definir los colores para el mapa de calor\n",
        "cmap = sns.diverging_palette(20, 220, as_cmap=True)\n",
        "\n",
        "# Crear el mapa de calor\n",
        "plt.figure(figsize=(10, 2)) #Altura y ancho, lo pueden variar\n",
        "sns.heatmap(rotated_df, cmap=cmap, annot=True, fmt=\".2f\", cbar=False, vmin=rotated_df.min().min(), vmax=rotated_df.max().max())\n",
        "plt.title('Mapa de Calor de Cargas Rotadas')\n",
        "plt.xlabel('Variables')\n",
        "plt.ylabel('Factores')\n",
        "plt.show()"
      ]
    },
    {
      "cell_type": "markdown",
      "id": "df28a158-97be-45a0-bee4-abd0de2e7bfe",
      "metadata": {
        "id": "df28a158-97be-45a0-bee4-abd0de2e7bfe"
      },
      "source": [
        "El primer factor (`0`) es totalmente neutro y para nada positivo; mientras que el segundo (`1`), es totalmente negativo. A partir de aquí podríamos tomar tres caminos:\n",
        "\n",
        "1. Usamos los dos factores obtenidos (`0` y `1`).\n",
        "2. Usamos sólo la 'positividad' (`POS`) como una variable en nuestro modelo.\n",
        "3. Usamos las tres variables iniciales del análisis del sentimiento (`POS`, `NEU`, `NEG`)."
      ]
    },
    {
      "cell_type": "markdown",
      "id": "5d90eb41-7fed-4e19-89fb-6cfb2a2367c1",
      "metadata": {
        "tags": [],
        "id": "5d90eb41-7fed-4e19-89fb-6cfb2a2367c1"
      },
      "source": [
        "En caso quieran añadir los factores al dataframe, aquí el código:"
      ]
    },
    {
      "cell_type": "code",
      "execution_count": null,
      "id": "11d43d7b-f211-483e-8bae-5956770295fc",
      "metadata": {
        "tags": [],
        "id": "11d43d7b-f211-483e-8bae-5956770295fc",
        "outputId": "d300500c-f353-4e86-dd3c-0df9d8fd5ee9",
        "colab": {
          "base_uri": "https://localhost:8080/"
        }
      },
      "outputs": [
        {
          "output_type": "stream",
          "name": "stderr",
          "text": [
            "<ipython-input-15-67219453485e>:5: PerformanceWarning: DataFrame is highly fragmented.  This is usually the result of calling `frame.insert` many times, which has poor performance.  Consider joining all columns at once using pd.concat(axis=1) instead. To get a de-fragmented frame, use `newframe = frame.copy()`\n",
            "  base['ACP_NEU_noPOS'] = factors[:, 0] #Este es el número que me interesa\n",
            "<ipython-input-15-67219453485e>:6: PerformanceWarning: DataFrame is highly fragmented.  This is usually the result of calling `frame.insert` many times, which has poor performance.  Consider joining all columns at once using pd.concat(axis=1) instead. To get a de-fragmented frame, use `newframe = frame.copy()`\n",
            "  base['ACP_NEG'] = factors[:, 1] #Este es el número que me interesa\n"
          ]
        }
      ],
      "source": [
        "# Obtener los factores extraídos\n",
        "factors = fa.transform(df)\n",
        "\n",
        "# Agregar los factores al DataFrame original\n",
        "base['ACP_NEU_noPOS'] = factors[:, 0] #Este es el número que me interesa\n",
        "base['ACP_NEG'] = factors[:, 1] #Este es el número que me interesa"
      ]
    },
    {
      "cell_type": "code",
      "execution_count": null,
      "id": "1f80673d-6292-4d90-9163-db8dcf883e9c",
      "metadata": {
        "tags": [],
        "id": "1f80673d-6292-4d90-9163-db8dcf883e9c"
      },
      "outputs": [],
      "source": [
        "base.to_excel('/content/drive/MyDrive/Documentos personales/9-Documentos Doctorado/Doctorado 2023/7-Clases/SRGVUA/data/clases/habitaclia3971_1y2.xlsx')"
      ]
    }
  ],
  "metadata": {
    "kernelspec": {
      "display_name": "Python 3 (ipykernel)",
      "language": "python",
      "name": "python3"
    },
    "language_info": {
      "codemirror_mode": {
        "name": "ipython",
        "version": 3
      },
      "file_extension": ".py",
      "mimetype": "text/x-python",
      "name": "python",
      "nbconvert_exporter": "python",
      "pygments_lexer": "ipython3",
      "version": "3.11.5"
    },
    "colab": {
      "provenance": []
    }
  },
  "nbformat": 4,
  "nbformat_minor": 5
}