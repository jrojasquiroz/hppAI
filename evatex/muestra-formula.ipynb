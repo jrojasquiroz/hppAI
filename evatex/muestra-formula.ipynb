{
 "cells": [
  {
   "cell_type": "code",
   "execution_count": 1,
   "id": "a452b5d6-2717-42a4-a5b0-2807d5461f9b",
   "metadata": {
    "tags": []
   },
   "outputs": [],
   "source": [
    "import pandas as pd\n",
    "import numpy as np\n",
    "import geopandas as gpd\n",
    "from shapely.geometry import Point\n",
    "import matplotlib.pyplot as plt"
   ]
  },
  {
   "cell_type": "markdown",
   "id": "d66dc79d-795c-424b-bd26-dd5c4bfcda2b",
   "metadata": {},
   "source": [
    "En el caso de Madrid tenía casos para toda la CC.AA., pero en realidad sólo necesito para el municipio de Madrid. Por tanto importo la geometría del municipio y filtro sólo las observaciones que están en él. "
   ]
  },
  {
   "cell_type": "code",
   "execution_count": 2,
   "id": "6fd85e80-5464-45dc-b603-c4adec1e1315",
   "metadata": {
    "tags": []
   },
   "outputs": [],
   "source": [
    "amb=pd.read_excel('G:/Mi unidad/Documentos personales/9-Documentos Doctorado/Doctorado 2023/11-Web scrapping/data/a-amb-marzo24.xlsx')\n",
    "mad=pd.read_excel('G:/Mi unidad/Documentos personales/9-Documentos Doctorado/Doctorado 2023/11-Web scrapping/data/a-prov_mad-marzo24.xlsx')\n",
    "\n",
    "#Le creo un ID\n",
    "mad.reset_index(drop=True, inplace=True)\n",
    "mad.index = mad.index + 1\n",
    "mad.insert(0, 'ID', mad.index)\n",
    "\n",
    "# Convertir el DataFrame a un GeoDataFrame\n",
    "geometry = [Point(lon, lat) for lon, lat in zip(mad['Lon_X'], mad['Lat_Y'])]\n",
    "crs = 'epsg:4326'  # Definir sistema de coordenadas WGS84\n",
    "gdf_puntos = gpd.GeoDataFrame(mad, crs=crs, geometry=geometry)\n",
    "gdf_puntos = gdf_puntos.to_crs(epsg=32631)\n",
    "\n",
    "geomad=gpd.read_file('G:/Mi unidad/Datos/españa/vectores/MUNICIPOS-ESPAÑA-31N.gpkg')\n",
    "geomad=geomad[geomad['NAMEUNIT']=='Madrid']\n",
    "\n",
    "munmad = gpd.sjoin(gdf_puntos, geomad[['geometry']], how='inner', predicate='intersects')\n",
    "munmad=munmad.drop(['geometry','index_right'],axis=1)"
   ]
  },
  {
   "cell_type": "code",
   "execution_count": 3,
   "id": "d6a87bf4-3678-49e9-a296-3ee040b75c35",
   "metadata": {
    "tags": []
   },
   "outputs": [
    {
     "name": "stdout",
     "output_type": "stream",
     "text": [
      "2405\n",
      "1983\n"
     ]
    }
   ],
   "source": [
    "print(len(mad))\n",
    "print(len(munmad))"
   ]
  },
  {
   "cell_type": "markdown",
   "id": "c9c87248-945b-469c-8a28-ccc03ef946d7",
   "metadata": {},
   "source": [
    "Creo una columna que me indique los quintiles a los que pertenece cada observación."
   ]
  },
  {
   "cell_type": "code",
   "execution_count": 4,
   "id": "34a5cd99-bd3f-450c-88db-91fcf9474efd",
   "metadata": {
    "tags": []
   },
   "outputs": [],
   "source": [
    "# Creas una nueva columna en cada DataFrame con los quintiles\n",
    "amb['qprecio'] = pd.qcut(amb['precio_euros'], 5, labels=False)\n",
    "munmad['qprecio'] = pd.qcut(munmad['precio_euros'], 5, labels=False)"
   ]
  },
  {
   "cell_type": "code",
   "execution_count": 5,
   "id": "8eeea929-7213-4521-8a32-f18360d867f7",
   "metadata": {
    "tags": []
   },
   "outputs": [
    {
     "data": {
      "text/plain": [
       "2417"
      ]
     },
     "execution_count": 5,
     "metadata": {},
     "output_type": "execute_result"
    }
   ],
   "source": [
    "len(amb)"
   ]
  },
  {
   "cell_type": "code",
   "execution_count": 6,
   "id": "103c5d52-319c-4f3d-a4c3-745bc48969e1",
   "metadata": {
    "tags": []
   },
   "outputs": [
    {
     "name": "stdout",
     "output_type": "stream",
     "text": [
      "[0 1 2 3 4]\n",
      "[0 1 4 2 3]\n"
     ]
    }
   ],
   "source": [
    "print(amb['qprecio'].unique())\n",
    "print(munmad['qprecio'].unique())"
   ]
  },
  {
   "cell_type": "code",
   "execution_count": 7,
   "id": "b5543045-d6d6-4040-8717-b50c5432ea78",
   "metadata": {
    "tags": []
   },
   "outputs": [
    {
     "name": "stdout",
     "output_type": "stream",
     "text": [
      "517\n",
      "467\n",
      "468\n",
      "489\n",
      "476\n"
     ]
    }
   ],
   "source": [
    "print(len(amb[amb['qprecio']==0]))\n",
    "print(len(amb[amb['qprecio']==1]))\n",
    "print(len(amb[amb['qprecio']==2]))\n",
    "print(len(amb[amb['qprecio']==3]))\n",
    "print(len(amb[amb['qprecio']==4]))"
   ]
  },
  {
   "cell_type": "code",
   "execution_count": 26,
   "id": "87b5403f-5cff-4376-818a-3ae8e756def9",
   "metadata": {
    "tags": []
   },
   "outputs": [],
   "source": [
    "muestra_amb = pd.DataFrame()\n",
    "\n",
    "# Iterar sobre cada quintil\n",
    "for quintil in range(5):  # Los quintiles van de 0 a 4\n",
    "    # Filtrar el DataFrame para obtener solo las observaciones que pertenecen al quintil actual\n",
    "    quintil_actual = munmad[munmad['qprecio'] == quintil]\n",
    "\n",
    "    # Calcular el tamaño de la muestra para un nivel de confianza del 95%\n",
    "    Z = 1.96  # Para un nivel de confianza del 95%\n",
    "    p = 0.5   # Valor medio para maximizar el tamaño de la muestra\n",
    "    e = 0.05  # Margen de error del 5%\n",
    "    n = int((Z**2 * p * (1-p)) / e**2)  # Calcular el tamaño de la muestra\n",
    "    \n",
    "    # Verificar si el tamaño de la muestra es mayor que el número de observaciones en el quintil actual\n",
    "    if n > len(quintil_actual):\n",
    "        # Si es así, ajustar el tamaño de la muestra\n",
    "        n = len(quintil_actual)\n",
    "    \n",
    "    # Obtener una muestra aleatoria del quintil actual\n",
    "    muestra_actual = quintil_actual.sample(n, replace=False)\n",
    "    \n",
    "    # Agregar la muestra al DataFrame de muestras\n",
    "    muestra_amb = pd.concat([muestra_amb, muestra_actual])"
   ]
  },
  {
   "cell_type": "code",
   "execution_count": 27,
   "id": "24d51fc8-75fa-4d7d-9654-28f15fe376ff",
   "metadata": {
    "tags": []
   },
   "outputs": [
    {
     "data": {
      "text/plain": [
       "1859"
      ]
     },
     "execution_count": 27,
     "metadata": {},
     "output_type": "execute_result"
    }
   ],
   "source": [
    "len(muestra_amb)"
   ]
  },
  {
   "cell_type": "code",
   "execution_count": 28,
   "id": "bcaad08a-d297-4564-a67e-a2b798ebc661",
   "metadata": {
    "tags": []
   },
   "outputs": [
    {
     "name": "stdout",
     "output_type": "stream",
     "text": [
      "384\n",
      "338\n",
      "384\n",
      "369\n",
      "384\n"
     ]
    }
   ],
   "source": [
    "print(len(muestra_amb[muestra_amb['qprecio']==0]))\n",
    "print(len(muestra_amb[muestra_amb['qprecio']==1]))\n",
    "print(len(muestra_amb[muestra_amb['qprecio']==2]))\n",
    "print(len(muestra_amb[muestra_amb['qprecio']==3]))\n",
    "print(len(muestra_amb[muestra_amb['qprecio']==4]))"
   ]
  },
  {
   "cell_type": "code",
   "execution_count": 25,
   "id": "92c9f3c7-2797-4d00-97f7-c06aa30f8a69",
   "metadata": {
    "tags": []
   },
   "outputs": [
    {
     "name": "stdout",
     "output_type": "stream",
     "text": [
      "517\n",
      "467\n",
      "468\n",
      "489\n",
      "476\n"
     ]
    }
   ],
   "source": [
    "print(len(amb[amb['qprecio']==0]))\n",
    "print(len(amb[amb['qprecio']==1]))\n",
    "print(len(amb[amb['qprecio']==2]))\n",
    "print(len(amb[amb['qprecio']==3]))\n",
    "print(len(amb[amb['qprecio']==4]))"
   ]
  },
  {
   "cell_type": "markdown",
   "id": "34f9a322-35aa-457c-a002-8c95967f7993",
   "metadata": {},
   "source": [
    "Calculo la muestra aleatoria."
   ]
  },
  {
   "cell_type": "code",
   "execution_count": 20,
   "id": "2753c4b5-f61a-4868-9182-3643c3edfb2f",
   "metadata": {
    "tags": []
   },
   "outputs": [],
   "source": [
    "muestra_munmad = pd.DataFrame()\n",
    "\n",
    "# Iterar sobre cada quintil\n",
    "for quintil in range(5):  # Los quintiles van de 0 a 4\n",
    "    # Filtrar el DataFrame para obtener solo las observaciones que pertenecen al quintil actual\n",
    "    quintil_actual = munmad[munmad['qprecio'] == quintil]\n",
    "\n",
    "    # Calcular el tamaño de la muestra para un nivel de confianza del 95%\n",
    "    Z = 1.96  # Para un nivel de confianza del 95%\n",
    "    p = 0.5   # Valor medio para maximizar el tamaño de la muestra\n",
    "    e = 0.05  # Margen de error del 5%\n",
    "    n = int((Z**2 * p * (1-p)) / e**2)  # Calcular el tamaño de la muestra\n",
    "    \n",
    "    # Verificar si el tamaño de la muestra es mayor que el número de observaciones en el quintil actual\n",
    "    if n > len(quintil_actual):\n",
    "        # Si es así, ajustar el tamaño de la muestra\n",
    "        n = len(quintil_actual)\n",
    "    \n",
    "    # Obtener una muestra aleatoria del quintil actual\n",
    "    muestra_actual = quintil_actual.sample(n, replace=False)\n",
    "    \n",
    "    # Agregar la muestra al DataFrame de muestras\n",
    "    muestra_munmad = pd.concat([muestra_munmad, muestra_actual])"
   ]
  },
  {
   "cell_type": "code",
   "execution_count": 23,
   "id": "26657835-9bc5-4491-aaf5-62d0c2ea7391",
   "metadata": {
    "tags": []
   },
   "outputs": [
    {
     "name": "stdout",
     "output_type": "stream",
     "text": [
      "384\n",
      "338\n",
      "384\n",
      "369\n",
      "384\n"
     ]
    }
   ],
   "source": [
    "print(len(muestra_munmad[muestra_munmad['qprecio']==0]))\n",
    "print(len(muestra_munmad[muestra_munmad['qprecio']==1]))\n",
    "print(len(muestra_munmad[muestra_munmad['qprecio']==2]))\n",
    "print(len(muestra_munmad[muestra_munmad['qprecio']==3]))\n",
    "print(len(muestra_munmad[muestra_munmad['qprecio']==4]))"
   ]
  },
  {
   "cell_type": "code",
   "execution_count": 24,
   "id": "b618713d-dc19-48d8-b52f-e931dc3d62c4",
   "metadata": {
    "tags": []
   },
   "outputs": [
    {
     "name": "stdout",
     "output_type": "stream",
     "text": [
      "455\n",
      "338\n",
      "424\n",
      "369\n",
      "397\n"
     ]
    }
   ],
   "source": [
    "print(len(munmad[munmad['qprecio']==0]))\n",
    "print(len(munmad[munmad['qprecio']==1]))\n",
    "print(len(munmad[munmad['qprecio']==2]))\n",
    "print(len(munmad[munmad['qprecio']==3]))\n",
    "print(len(munmad[munmad['qprecio']==4]))"
   ]
  },
  {
   "cell_type": "markdown",
   "id": "7df2022a-0baa-4dad-a15a-17bb21111b44",
   "metadata": {},
   "source": [
    "Reviso la distribución tanto de los datos originales como de la muestra."
   ]
  },
  {
   "cell_type": "code",
   "execution_count": 29,
   "id": "520b84bf-18c9-49b2-aad6-229703255ebd",
   "metadata": {
    "tags": []
   },
   "outputs": [
    {
     "data": {
      "image/png": "[encoded data removed]",
      "text/plain": [
       "<Figure size 1200x800 with 4 Axes>"
      ]
     },
     "metadata": {},
     "output_type": "display_data"
    }
   ],
   "source": [
    "# Crear subgráficos para mostrar los histogramas\n",
    "fig, axs = plt.subplots(2, 2, figsize=(12, 8))\n",
    "\n",
    "# Definir los límites y la separación del eje x\n",
    "x_min = 0\n",
    "x_max = 15000\n",
    "bin_width = 1500\n",
    "num_bins = int((x_max - x_min) / bin_width)\n",
    "\n",
    "# Histograma de los datos originales de amb\n",
    "axs[0, 0].hist(amb['precio_euros'], bins=np.arange(x_min, x_max + bin_width, bin_width), color='blue', alpha=0.5, label='Original')\n",
    "axs[0, 0].set_title('Distribución de precios en amb (Original)')\n",
    "axs[0, 0].legend()\n",
    "\n",
    "# Histograma de los datos de la muestra de amb\n",
    "axs[0, 1].hist(muestra_amb['precio_euros'], bins=np.arange(x_min, x_max + bin_width, bin_width), color='green', alpha=0.5, label='Muestra')\n",
    "axs[0, 1].set_title('Distribución de precios en amb (Muestra)')\n",
    "axs[0, 1].legend()\n",
    "\n",
    "# Histograma de los datos originales de munmad\n",
    "axs[1, 0].hist(munmad['precio_euros'], bins=np.arange(x_min, x_max + bin_width, bin_width), color='red', alpha=0.5, label='Original')\n",
    "axs[1, 0].set_title('Distribución de precios en munmad (Original)')\n",
    "axs[1, 0].legend()\n",
    "\n",
    "# Histograma de los datos de la muestra de munmad\n",
    "axs[1, 1].hist(muestra_munmad['precio_euros'], bins=np.arange(x_min, x_max + bin_width, bin_width), color='orange', alpha=0.5, label='Muestra')\n",
    "axs[1, 1].set_title('Distribución de precios en munmad (Muestra)')\n",
    "axs[1, 1].legend()\n",
    "\n",
    "# Ajustar los límites del eje x\n",
    "for ax in axs.flat:\n",
    "    ax.set_xlim(x_min, x_max)\n",
    "\n",
    "plt.tight_layout()\n",
    "plt.show()"
   ]
  },
  {
   "cell_type": "code",
   "execution_count": 9,
   "id": "6497e4d2-a551-4b0a-8168-26fee9e0468f",
   "metadata": {
    "tags": []
   },
   "outputs": [
    {
     "name": "stdout",
     "output_type": "stream",
     "text": [
      "['ID', 'Title', 'Link', 'precio_euros', 'codigo_inmueble', 'Description', 'last_mod', 'dummy_indice', 'indice_alquiler', 'area', 'n_rooms', 'price_m2', 'n_baths', 'n_aseo', 'laundry', 'buhardilla', 'despacho', 'trastero', 'terrace', 'kwhm2_year', 'kgCO2m2_year', 'dummy_consum_EPC', 'dummy_emission_EPC', 'consum_A', 'consum_B', 'consum_C', 'consum_D', 'consum_E', 'consum_F', 'consum_G', 'emission_A', 'emission_B', 'emission_C', 'emission_D', 'emission_E', 'emission_F', 'emission_G', 'AC', 'parking', 'pool', 'lift', 'furniture', 'public_transp', 'barrio', 'codigo_inmueble_numero', 'Lat_Y', 'Lon_X', 'multifam', 'atico', 'duplex', 'estudio', 'loft', 'piso', 'triplex', 'qprecio']\n",
      "['ID', 'Title', 'Link', 'precio_euros', 'codigo_inmueble', 'Description', 'last_mod', 'dummy_indice', 'indice_alquiler', 'area', 'n_rooms', 'price_m2', 'n_baths', 'n_aseo', 'laundry', 'buhardilla', 'despacho', 'trastero', 'terrace', 'kwhm2_year', 'kgCO2m2_year', 'dummy_consum_EPC', 'dummy_emission_EPC', 'consum_A', 'consum_B', 'consum_C', 'consum_D', 'consum_E', 'consum_F', 'consum_G', 'emission_A', 'emission_B', 'emission_C', 'emission_D', 'emission_E', 'emission_F', 'emission_G', 'AC', 'parking', 'pool', 'lift', 'furniture', 'public_transp', 'barrio', 'codigo_inmueble_numero', 'Lat_Y', 'Lon_X', 'multifam', 'atico', 'duplex', 'estudio', 'loft', 'piso', 'triplex', 'qprecio']\n"
     ]
    }
   ],
   "source": [
    "print(muestra_amb.columns.tolist())\n",
    "print(muestra_munmad.columns.tolist())"
   ]
  },
  {
   "cell_type": "markdown",
   "id": "da0e7cb7-3b0e-4fcd-9f5b-5096b14f1e9a",
   "metadata": {},
   "source": [
    "Entre los estudiantes tendrían esta cantidad de muestras por revisar."
   ]
  },
  {
   "cell_type": "code",
   "execution_count": 14,
   "id": "ddf8b1b7-622f-4d4a-8597-821ee36edae5",
   "metadata": {
    "tags": []
   },
   "outputs": [
    {
     "data": {
      "text/plain": [
       "219.5"
      ]
     },
     "execution_count": 14,
     "metadata": {},
     "output_type": "execute_result"
    }
   ],
   "source": [
    "(990+1205)/10"
   ]
  },
  {
   "cell_type": "code",
   "execution_count": 11,
   "id": "acc89863-956b-4936-9e9e-7ea67e001a49",
   "metadata": {
    "tags": []
   },
   "outputs": [],
   "source": [
    "muestra_amb2=muestra_amb.drop(columns=['ID','qprecio'])\n",
    "muestra_amb2['AMB']=1\n",
    "muestra_amb2['MAD']=0\n",
    "\n",
    "muestra_munmad2=muestra_amb.drop(columns=['ID','qprecio'])\n",
    "muestra_munmad2['AMB']=0\n",
    "muestra_munmad2['MAD']=1"
   ]
  },
  {
   "cell_type": "code",
   "execution_count": 12,
   "id": "ac0f24db-8403-4de2-b866-f2119abce7f5",
   "metadata": {
    "tags": []
   },
   "outputs": [],
   "source": [
    "evatex = pd.concat([muestra_amb2, muestra_munmad2], ignore_index=True)\n",
    "\n",
    "evatex.reset_index(drop=True, inplace=True)\n",
    "evatex.index = evatex.index + 1\n",
    "evatex.insert(0, 'ID', evatex.index)"
   ]
  },
  {
   "cell_type": "code",
   "execution_count": 13,
   "id": "492e9ec6-4eb4-4ae6-b6d6-be7f4da7fe10",
   "metadata": {
    "tags": []
   },
   "outputs": [],
   "source": [
    "#evatex.to_excel(\"data/a-amb+mad-marzo24.xlsx\", index=False)"
   ]
  }
 ],
 "metadata": {
  "kernelspec": {
   "display_name": "Python 3 (ipykernel)",
   "language": "python",
   "name": "python3"
  },
  "language_info": {
   "codemirror_mode": {
    "name": "ipython",
    "version": 3
   },
   "file_extension": ".py",
   "mimetype": "text/x-python",
   "name": "python",
   "nbconvert_exporter": "python",
   "pygments_lexer": "ipython3",
   "version": "3.11.5"
  }
 },
 "nbformat": 4,
 "nbformat_minor": 5
}
