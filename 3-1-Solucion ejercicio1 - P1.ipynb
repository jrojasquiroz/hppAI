{
 "cells": [
  {
   "cell_type": "markdown",
   "id": "2ebd2319-b438-47e8-b5c0-cb96367183ce",
   "metadata": {},
   "source": [
    "Cuando hacemos modelos me gusta pensar que nos convertimos en cocineros/as: si bien seguimos una receta básica, podemos modificarla en función de nuestras necesidades. Este primer ejercicio es una muestra de ello, pues como ya se habrán dado cuenta hemos tenido que modificar algunos pasos del ejemplo que hicimos en clase la semana pasada.\n",
    "\n",
    "No tengan miedo modificar los pasos que aquí se indican, pues finalmente ustedes pueden añadirle o quitarle 'ingredientes' en función de lo que les parezca más fácil o de aquello que crean les dará mejores resultados. En estos cuadernos sólo busco organizar un flujo de trabajo que recomiendo seguir para obtener un modelo OLS."
   ]
  },
  {
   "cell_type": "markdown",
   "id": "49f96c5a-e84d-4bf6-adc6-49af9f97ef3c",
   "metadata": {
    "tags": []
   },
   "source": [
    "# 1. Importación de librerías"
   ]
  },
  {
   "cell_type": "code",
   "execution_count": 1,
   "id": "90dfd804-3129-4989-a78c-53b128395520",
   "metadata": {
    "tags": []
   },
   "outputs": [],
   "source": [
    "import pandas as pd\n",
    "import numpy as np\n",
    "from statsmodels.stats.outliers_influence import variance_inflation_factor #para calcular el VIF\n",
    "import statsmodels.api as sm #para modelos\n",
    "import scipy.stats as stats #para calcular los residuos estandarizados\n",
    "from scipy.stats import pearsonr #para calcular correlaciones\n",
    "from sklearn.metrics import mean_squared_error #para calcular el MSE\n",
    "import matplotlib.pyplot as plt #para gráficos\n",
    "import plotly.graph_objects as go #para hacer gráficos interactivos"
   ]
  },
  {
   "cell_type": "code",
   "execution_count": 2,
   "id": "111b49cb-fbe7-496f-91e2-860419dabb6c",
   "metadata": {
    "tags": []
   },
   "outputs": [],
   "source": [
    "bdd=pd.read_csv('rawdata/clases/habitaclia4043.csv')"
   ]
  },
  {
   "cell_type": "markdown",
   "id": "5786042e-c13e-4283-9a32-fb1043d5ba44",
   "metadata": {},
   "source": [
    "# 2. Revisión de variables"
   ]
  },
  {
   "cell_type": "markdown",
   "id": "03f60e03-77e8-426d-81e3-3317b2227870",
   "metadata": {},
   "source": [
    "Me interesa ver qué variables tengo. Casi siempre hay variables que no me sirven de nada, mi interés es quitarlas antes de ponerme a trabajar."
   ]
  },
  {
   "cell_type": "code",
   "execution_count": 3,
   "id": "e2711c3e-672c-4192-811a-d009970e398e",
   "metadata": {
    "tags": []
   },
   "outputs": [
    {
     "name": "stdout",
     "output_type": "stream",
     "text": [
      "<class 'pandas.core.frame.DataFrame'>\n",
      "RangeIndex: 4043 entries, 0 to 4042\n",
      "Columns: 204 entries, Unnamed: 0 to EPC_G_emision_2023\n",
      "dtypes: float64(189), int64(1), object(14)\n",
      "memory usage: 6.3+ MB\n"
     ]
    }
   ],
   "source": [
    "bdd.info()"
   ]
  },
  {
   "cell_type": "code",
   "execution_count": 4,
   "id": "fea5b61d-35c2-4628-b15d-753eb8fe8f89",
   "metadata": {
    "tags": []
   },
   "outputs": [
    {
     "name": "stdout",
     "output_type": "stream",
     "text": [
      "['Unnamed: 0', 'OBJECTID_1', 'codigo_inmueble1', 'Title', 'Type_build', 'Type_opera', 'Link', 'Location', 'Lat_X', 'Lon_Y', 'Climatic_Z', 'Nom_Mun', 'precio_eur', 'superficie', 'superficie_2', 'Unit_price', 'Ln_total_pr', 'Ln_unit_pr', 'numero_habitaciones', 'numero_bano', 'ratio_bano_hab', 'numero_aseo', 'ascensor', 'interac_planta', 'numero_de_piso', 'anyo_constr', 'anyo_constr_ponderad', 'antig_ponderad', 'Inverse_Age', 'Year_Before_1981', 'Year_1982_2006', 'Year_After_2007', 'superficie_terraza_m2', 'grand_terr_20m2', 'superficie_jardin_m2', 'superficie_salon', 'bool_despacho', 'bool_buhardilla', 'bool_trastero', 'bool_lavadero', 'bool_piscina_comunitaria', 'bool_jardin_comunitario', 'bool_amueblado', 'bool_ascensor', 'descripcion', 'bool_aire_acondicionado', 'bool_calefaccion', 'bool_chimenea', 'texto_destacado', 'Description', 'calificacion_consumo_letra', 'calificacion_consumo_valor', 'calificacion_emision_letra', 'calificacion_emision_valor', 'Dum_EPC', 'EPC_A_emision', 'EPC_B_emision', 'EPC_C_emision', 'EPC_D_emision', 'EPC_E_emision', 'EPC_F_emision', 'EPC_G_emision', 'COD_MUN', 'temp_enero', 'temp_julio', 'radiacion_enero', 'radiacion_julio', 'POB_91', 'POB_01', 'POB_06', 'POR_01', 'LTL1991_M', 'LTL_2001', 'DLTL_MUN', 'RW', 'FLE', 'FLS', 'SUP_URB_90', 'SUP_URB_00', 'Job_ratio_01', 'Autocontencion_01', 'Nodalidad_01', 'Dist_CBD', 'Dist_CBD2', 'Dist_sub_center', 'Elevation_Mean', 'dum_acces_viappal', 'IND_pr', 'FIRE_pr', 'Div_LandUse', 'COD_SEC', 'pr_directivo', 'pr_tecnico_prof', 'pr_tecnico_apoyo', 'pr_empl_admin', 'pr_restaur_comer', 'pr_agri_calificado', 'pr_artesano', 'pr_operador', 'pr_no_calif', 'desplaz_ponderado', 'plant_ras_pond', 'edif_ruin_pr', 'edif_malo_pr', 'edif_deficient_pr', 'edif_bueno_pr', 'Doorman_pr', 'opin_ruido_si_pr', 'opin_contam_si_pr', 'opin_calle_sucia_pr', 'opin_mala_comunic_pr', 'opin_pocazonaverde_pr', 'opin_delincuencia_pr', 'opin_falta_aseo_pr', 'local_salud_pr', 'local_edu_pr', 'local_social_pr', 'local_cult_pr', 'local_comerc_pr', 'local_oficinas_pr', 'local_industr_pr', 'local_agrar_pr', 'POB_TOTAL', 'POB_RESID', 'LOC_TOTAL', 'POR_TOTAL', 'LOC_VIV_TOTAL', 'dens_loc_100hab', 'dens_loc_sup', 'dens_pob_sup', 'estud_sin_pr', 'estud_primer_pr', 'estud_segund_pr', 'estud_tercer_pr', 'VIV_ppales_TOTAL', 'Sup_viv_sec', 'viv_ppales_pr', 'viv_no_ppales_pr', 'viv_secundarias_pr', 'viv_vacias_pr', 'viv_unifam_pr', 'viv_aptos_pr', 'resi_euro_pr', 'resi_africa_pr', 'resi_america_pr', 'resi_asia_pr', 'resi_oceania_pr', 'H_ocup_POR', 'H_loc_INE', 'H_tamaviv', 'H_ocup_POR_Xpor', 'H_loc_INE_XLOCS', 'H_tamaviv_Xvivs', 'CT_renta_alta_CPA', 'CT_renta_meda_CPA', 'CT_renta_medb_CPA', 'Income_Household_2016', 'DP2e', 'Dens_Time_total', 'Dens_Time_total_work', 'Dens_Time_total_Nwork', 'Dens_pers_act_total', 'Dens_pers_act_working', 'Dens_pers_act_Nworking', 'Div_total_work', 'Div_act_work', 'Div_socio_work', 'Div_total_Nwork', 'Div_act_Nwork', 'Div_socio_Nwork', 'calidad_cocina', 'diseny_cocina', 'alta_calidad', 'reform_inmob', 'dum_mar_200m', 'dum_ttpp_riel_urb', 'dist_near_riel_km', 'dist_near_viappal_km', 'C_contempo', 'C_estado', 'C_armarios', 'B_contempo', 'B_estado', 'B_lavamano', 'R_contempo', 'R_estado', 'R_carpinte', 'R_singular', 'R_ventana', 'Dum_precio', 'Precio_red', 'scrap_year', 'persona', 'filter_$', 'Estado_contemporaneidad_calidad', 'Ausencia_singulares_presencia_arm_cocina', 'Muestra_2023', 'EPC_A_emision_2023', 'EPC_B_emision_2023', 'EPC_C_emision_2023', 'EPC_D_emision_2023', 'EPC_E_emision_2023', 'EPC_F_emision_2023', 'EPC_G_emision_2023']\n"
     ]
    }
   ],
   "source": [
    "print(bdd.columns.tolist())"
   ]
  },
  {
   "cell_type": "markdown",
   "id": "bebc203f-cda3-49bf-b907-08635b1709d2",
   "metadata": {},
   "source": [
    "De la revisión de la lista, hay algunas que **creo** no pueden ser muy útiles. Veámoslas."
   ]
  },
  {
   "cell_type": "code",
   "execution_count": 5,
   "id": "7089e273-b6d6-4c3a-b72b-9a12d5250323",
   "metadata": {
    "tags": []
   },
   "outputs": [
    {
     "data": {
      "text/html": [
       "<div>\n",
       "<style scoped>\n",
       "    .dataframe tbody tr th:only-of-type {\n",
       "        vertical-align: middle;\n",
       "    }\n",
       "\n",
       "    .dataframe tbody tr th {\n",
       "        vertical-align: top;\n",
       "    }\n",
       "\n",
       "    .dataframe thead th {\n",
       "        text-align: right;\n",
       "    }\n",
       "</style>\n",
       "<table border=\"1\" class=\"dataframe\">\n",
       "  <thead>\n",
       "    <tr style=\"text-align: right;\">\n",
       "      <th></th>\n",
       "      <th>Unnamed: 0</th>\n",
       "      <th>OBJECTID_1</th>\n",
       "      <th>codigo_inmueble1</th>\n",
       "      <th>Title</th>\n",
       "      <th>Type_build</th>\n",
       "      <th>Type_opera</th>\n",
       "      <th>Link</th>\n",
       "      <th>Location</th>\n",
       "      <th>Lat_X</th>\n",
       "      <th>Lon_Y</th>\n",
       "      <th>Climatic_Z</th>\n",
       "      <th>Nom_Mun</th>\n",
       "      <th>Dum_precio</th>\n",
       "    </tr>\n",
       "  </thead>\n",
       "  <tbody>\n",
       "    <tr>\n",
       "      <th>0</th>\n",
       "      <td>0</td>\n",
       "      <td>1.0</td>\n",
       "      <td>2.872004e+12</td>\n",
       "      <td>Dúplex  Carrer mercader. Unico!!! dúplex en co...</td>\n",
       "      <td>Multifamilia</td>\n",
       "      <td>Selling</td>\n",
       "      <td>https://www.habitaclia.com/comprar-duplex-unic...</td>\n",
       "      <td>Hospitalet de Llobregat (L´) - Collblanc</td>\n",
       "      <td>2.114740</td>\n",
       "      <td>41.375476</td>\n",
       "      <td>C2</td>\n",
       "      <td>Hospitalet de Llobregat</td>\n",
       "      <td>0.0</td>\n",
       "    </tr>\n",
       "    <tr>\n",
       "      <th>1</th>\n",
       "      <td>1</td>\n",
       "      <td>2.0</td>\n",
       "      <td>5.020004e+12</td>\n",
       "      <td>Piso  en  Granvia LH. Piso en venta con amplio...</td>\n",
       "      <td>Multifamilia</td>\n",
       "      <td>Selling</td>\n",
       "      <td>https://www.habitaclia.com/comprar-piso-en_ven...</td>\n",
       "      <td>Hospitalet de Llobregat (L´) - Granvia LH</td>\n",
       "      <td>2.132418</td>\n",
       "      <td>41.359122</td>\n",
       "      <td>C2</td>\n",
       "      <td>Hospitalet de Llobregat</td>\n",
       "      <td>0.0</td>\n",
       "    </tr>\n",
       "    <tr>\n",
       "      <th>2</th>\n",
       "      <td>2</td>\n",
       "      <td>3.0</td>\n",
       "      <td>8.700366e+10</td>\n",
       "      <td>Piso  Carrer oriental. Todo exterior y reformado</td>\n",
       "      <td>Multifamilia</td>\n",
       "      <td>Selling</td>\n",
       "      <td>https://www.habitaclia.com/comprar-piso-todo_e...</td>\n",
       "      <td>Hospitalet de Llobregat (L´) - Can Serra</td>\n",
       "      <td>2.100272</td>\n",
       "      <td>41.369421</td>\n",
       "      <td>C2</td>\n",
       "      <td>Hospitalet de Llobregat</td>\n",
       "      <td>0.0</td>\n",
       "    </tr>\n",
       "    <tr>\n",
       "      <th>3</th>\n",
       "      <td>3</td>\n",
       "      <td>4.0</td>\n",
       "      <td>5.000037e+11</td>\n",
       "      <td>Piso  en  Carrer garraf, 41. Piso para entrar ...</td>\n",
       "      <td>Multifamilia</td>\n",
       "      <td>Selling</td>\n",
       "      <td>https://www.habitaclia.com/comprar-piso-para_e...</td>\n",
       "      <td>Hospitalet de Llobregat (L´) - La Florida</td>\n",
       "      <td>2.114315</td>\n",
       "      <td>41.370422</td>\n",
       "      <td>C2</td>\n",
       "      <td>Hospitalet de Llobregat</td>\n",
       "      <td>1.0</td>\n",
       "    </tr>\n",
       "    <tr>\n",
       "      <th>4</th>\n",
       "      <td>4</td>\n",
       "      <td>5.0</td>\n",
       "      <td>5.380035e+11</td>\n",
       "      <td>Piso  Carrer riera de la creu. De obra nueva a...</td>\n",
       "      <td>Multifamilia</td>\n",
       "      <td>Selling</td>\n",
       "      <td>https://www.habitaclia.com/comprar-piso-de_obr...</td>\n",
       "      <td>Hospitalet de Llobregat (L´) - Centre</td>\n",
       "      <td>2.099040</td>\n",
       "      <td>41.359801</td>\n",
       "      <td>C2</td>\n",
       "      <td>Hospitalet de Llobregat</td>\n",
       "      <td>0.0</td>\n",
       "    </tr>\n",
       "  </tbody>\n",
       "</table>\n",
       "</div>"
      ],
      "text/plain": [
       "   Unnamed: 0  OBJECTID_1  codigo_inmueble1  \\\n",
       "0           0         1.0      2.872004e+12   \n",
       "1           1         2.0      5.020004e+12   \n",
       "2           2         3.0      8.700366e+10   \n",
       "3           3         4.0      5.000037e+11   \n",
       "4           4         5.0      5.380035e+11   \n",
       "\n",
       "                                               Title    Type_build Type_opera  \\\n",
       "0  Dúplex  Carrer mercader. Unico!!! dúplex en co...  Multifamilia    Selling   \n",
       "1  Piso  en  Granvia LH. Piso en venta con amplio...  Multifamilia    Selling   \n",
       "2   Piso  Carrer oriental. Todo exterior y reformado  Multifamilia    Selling   \n",
       "3  Piso  en  Carrer garraf, 41. Piso para entrar ...  Multifamilia    Selling   \n",
       "4  Piso  Carrer riera de la creu. De obra nueva a...  Multifamilia    Selling   \n",
       "\n",
       "                                                Link  \\\n",
       "0  https://www.habitaclia.com/comprar-duplex-unic...   \n",
       "1  https://www.habitaclia.com/comprar-piso-en_ven...   \n",
       "2  https://www.habitaclia.com/comprar-piso-todo_e...   \n",
       "3  https://www.habitaclia.com/comprar-piso-para_e...   \n",
       "4  https://www.habitaclia.com/comprar-piso-de_obr...   \n",
       "\n",
       "                                    Location     Lat_X      Lon_Y Climatic_Z  \\\n",
       "0   Hospitalet de Llobregat (L´) - Collblanc  2.114740  41.375476         C2   \n",
       "1  Hospitalet de Llobregat (L´) - Granvia LH  2.132418  41.359122         C2   \n",
       "2   Hospitalet de Llobregat (L´) - Can Serra  2.100272  41.369421         C2   \n",
       "3  Hospitalet de Llobregat (L´) - La Florida  2.114315  41.370422         C2   \n",
       "4      Hospitalet de Llobregat (L´) - Centre  2.099040  41.359801         C2   \n",
       "\n",
       "                   Nom_Mun  Dum_precio  \n",
       "0  Hospitalet de Llobregat         0.0  \n",
       "1  Hospitalet de Llobregat         0.0  \n",
       "2  Hospitalet de Llobregat         0.0  \n",
       "3  Hospitalet de Llobregat         1.0  \n",
       "4  Hospitalet de Llobregat         0.0  "
      ]
     },
     "execution_count": 5,
     "metadata": {},
     "output_type": "execute_result"
    }
   ],
   "source": [
    "noimportan=bdd[['Unnamed: 0', 'OBJECTID_1', 'codigo_inmueble1', 'Title', 'Type_build', 'Type_opera', \n",
    "     'Link', 'Location', 'Lat_X', 'Lon_Y', 'Climatic_Z', 'Nom_Mun','Dum_precio']]\n",
    "noimportan.head()"
   ]
  },
  {
   "cell_type": "markdown",
   "id": "ef1c150f-2b66-428a-b929-1fd31316ca59",
   "metadata": {},
   "source": [
    "En efecto, ninguna de ellas me brinda información importante. Las puedo eliminar."
   ]
  },
  {
   "cell_type": "code",
   "execution_count": 6,
   "id": "57c765aa-79fc-4c33-ad3a-6287e582aa2d",
   "metadata": {
    "tags": []
   },
   "outputs": [],
   "source": [
    "bdd=bdd.drop(noimportan.columns,axis=1)"
   ]
  },
  {
   "cell_type": "markdown",
   "id": "125ca74f-0b45-49ff-9540-68a06abc583d",
   "metadata": {},
   "source": [
    "Ahora quiero ver aquellas que quedan. Si ejecutara `bdd.dtypes` tendría que ver de qué tipo es cada columna de `bdd`. Sin embargo, como son muchas columnas, no se podrán ver bien. Para solucionarlo, ejecuto este código (se le pregunté a ChatGPT como *quiero ver qué tipo de columna tengo en mi dataframe, pero son muchas columnas, ¿cómo podría hacerlo?*)"
   ]
  },
  {
   "cell_type": "code",
   "execution_count": 7,
   "id": "1d0f135f-b471-4487-a2f9-1fc6811d3867",
   "metadata": {
    "scrolled": true,
    "tags": []
   },
   "outputs": [
    {
     "name": "stdout",
     "output_type": "stream",
     "text": [
      "Columna 'precio_eur': float64\n",
      "Columna 'superficie': float64\n",
      "Columna 'superficie_2': float64\n",
      "Columna 'Unit_price': float64\n",
      "Columna 'Ln_total_pr': float64\n",
      "Columna 'Ln_unit_pr': float64\n",
      "Columna 'numero_habitaciones': float64\n",
      "Columna 'numero_bano': float64\n",
      "Columna 'ratio_bano_hab': float64\n",
      "Columna 'numero_aseo': float64\n",
      "Columna 'ascensor': float64\n",
      "Columna 'interac_planta': float64\n",
      "Columna 'numero_de_piso': float64\n",
      "Columna 'anyo_constr': float64\n",
      "Columna 'anyo_constr_ponderad': float64\n",
      "Columna 'antig_ponderad': float64\n",
      "Columna 'Inverse_Age': float64\n",
      "Columna 'Year_Before_1981': float64\n",
      "Columna 'Year_1982_2006': float64\n",
      "Columna 'Year_After_2007': float64\n",
      "Columna 'superficie_terraza_m2': float64\n",
      "Columna 'grand_terr_20m2': float64\n",
      "Columna 'superficie_jardin_m2': float64\n",
      "Columna 'superficie_salon': float64\n",
      "Columna 'bool_despacho': float64\n",
      "Columna 'bool_buhardilla': float64\n",
      "Columna 'bool_trastero': float64\n",
      "Columna 'bool_lavadero': float64\n",
      "Columna 'bool_piscina_comunitaria': float64\n",
      "Columna 'bool_jardin_comunitario': float64\n",
      "Columna 'bool_amueblado': float64\n",
      "Columna 'bool_ascensor': float64\n",
      "Columna 'descripcion': object\n",
      "Columna 'bool_aire_acondicionado': float64\n",
      "Columna 'bool_calefaccion': float64\n",
      "Columna 'bool_chimenea': float64\n",
      "Columna 'texto_destacado': object\n",
      "Columna 'Description': object\n",
      "Columna 'calificacion_consumo_letra': object\n",
      "Columna 'calificacion_consumo_valor': float64\n",
      "Columna 'calificacion_emision_letra': object\n",
      "Columna 'calificacion_emision_valor': float64\n",
      "Columna 'Dum_EPC': float64\n",
      "Columna 'EPC_A_emision': float64\n",
      "Columna 'EPC_B_emision': float64\n",
      "Columna 'EPC_C_emision': float64\n",
      "Columna 'EPC_D_emision': float64\n",
      "Columna 'EPC_E_emision': float64\n",
      "Columna 'EPC_F_emision': float64\n",
      "Columna 'EPC_G_emision': float64\n",
      "Columna 'COD_MUN': float64\n",
      "Columna 'temp_enero': float64\n",
      "Columna 'temp_julio': float64\n",
      "Columna 'radiacion_enero': float64\n",
      "Columna 'radiacion_julio': float64\n",
      "Columna 'POB_91': float64\n",
      "Columna 'POB_01': float64\n",
      "Columna 'POB_06': float64\n",
      "Columna 'POR_01': float64\n",
      "Columna 'LTL1991_M': float64\n",
      "Columna 'LTL_2001': float64\n",
      "Columna 'DLTL_MUN': float64\n",
      "Columna 'RW': float64\n",
      "Columna 'FLE': float64\n",
      "Columna 'FLS': float64\n",
      "Columna 'SUP_URB_90': float64\n",
      "Columna 'SUP_URB_00': float64\n",
      "Columna 'Job_ratio_01': float64\n",
      "Columna 'Autocontencion_01': float64\n",
      "Columna 'Nodalidad_01': float64\n",
      "Columna 'Dist_CBD': float64\n",
      "Columna 'Dist_CBD2': float64\n",
      "Columna 'Dist_sub_center': float64\n",
      "Columna 'Elevation_Mean': float64\n",
      "Columna 'dum_acces_viappal': float64\n",
      "Columna 'IND_pr': float64\n",
      "Columna 'FIRE_pr': float64\n",
      "Columna 'Div_LandUse': float64\n",
      "Columna 'COD_SEC': float64\n",
      "Columna 'pr_directivo': float64\n",
      "Columna 'pr_tecnico_prof': float64\n",
      "Columna 'pr_tecnico_apoyo': float64\n",
      "Columna 'pr_empl_admin': float64\n",
      "Columna 'pr_restaur_comer': float64\n",
      "Columna 'pr_agri_calificado': float64\n",
      "Columna 'pr_artesano': float64\n",
      "Columna 'pr_operador': float64\n",
      "Columna 'pr_no_calif': float64\n",
      "Columna 'desplaz_ponderado': float64\n",
      "Columna 'plant_ras_pond': float64\n",
      "Columna 'edif_ruin_pr': float64\n",
      "Columna 'edif_malo_pr': float64\n",
      "Columna 'edif_deficient_pr': float64\n",
      "Columna 'edif_bueno_pr': float64\n",
      "Columna 'Doorman_pr': float64\n",
      "Columna 'opin_ruido_si_pr': float64\n",
      "Columna 'opin_contam_si_pr': float64\n",
      "Columna 'opin_calle_sucia_pr': float64\n",
      "Columna 'opin_mala_comunic_pr': float64\n",
      "Columna 'opin_pocazonaverde_pr': float64\n",
      "Columna 'opin_delincuencia_pr': float64\n",
      "Columna 'opin_falta_aseo_pr': float64\n",
      "Columna 'local_salud_pr': float64\n",
      "Columna 'local_edu_pr': float64\n",
      "Columna 'local_social_pr': float64\n",
      "Columna 'local_cult_pr': float64\n",
      "Columna 'local_comerc_pr': float64\n",
      "Columna 'local_oficinas_pr': float64\n",
      "Columna 'local_industr_pr': float64\n",
      "Columna 'local_agrar_pr': float64\n",
      "Columna 'POB_TOTAL': float64\n",
      "Columna 'POB_RESID': float64\n",
      "Columna 'LOC_TOTAL': float64\n",
      "Columna 'POR_TOTAL': float64\n",
      "Columna 'LOC_VIV_TOTAL': float64\n",
      "Columna 'dens_loc_100hab': float64\n",
      "Columna 'dens_loc_sup': float64\n",
      "Columna 'dens_pob_sup': float64\n",
      "Columna 'estud_sin_pr': float64\n",
      "Columna 'estud_primer_pr': float64\n",
      "Columna 'estud_segund_pr': float64\n",
      "Columna 'estud_tercer_pr': float64\n",
      "Columna 'VIV_ppales_TOTAL': float64\n",
      "Columna 'Sup_viv_sec': float64\n",
      "Columna 'viv_ppales_pr': float64\n",
      "Columna 'viv_no_ppales_pr': float64\n",
      "Columna 'viv_secundarias_pr': float64\n",
      "Columna 'viv_vacias_pr': float64\n",
      "Columna 'viv_unifam_pr': float64\n",
      "Columna 'viv_aptos_pr': float64\n",
      "Columna 'resi_euro_pr': float64\n",
      "Columna 'resi_africa_pr': float64\n",
      "Columna 'resi_america_pr': float64\n",
      "Columna 'resi_asia_pr': float64\n",
      "Columna 'resi_oceania_pr': float64\n",
      "Columna 'H_ocup_POR': float64\n",
      "Columna 'H_loc_INE': float64\n",
      "Columna 'H_tamaviv': float64\n",
      "Columna 'H_ocup_POR_Xpor': float64\n",
      "Columna 'H_loc_INE_XLOCS': float64\n",
      "Columna 'H_tamaviv_Xvivs': float64\n",
      "Columna 'CT_renta_alta_CPA': float64\n",
      "Columna 'CT_renta_meda_CPA': float64\n",
      "Columna 'CT_renta_medb_CPA': float64\n",
      "Columna 'Income_Household_2016': float64\n",
      "Columna 'DP2e': float64\n",
      "Columna 'Dens_Time_total': float64\n",
      "Columna 'Dens_Time_total_work': float64\n",
      "Columna 'Dens_Time_total_Nwork': float64\n",
      "Columna 'Dens_pers_act_total': float64\n",
      "Columna 'Dens_pers_act_working': float64\n",
      "Columna 'Dens_pers_act_Nworking': float64\n",
      "Columna 'Div_total_work': float64\n",
      "Columna 'Div_act_work': float64\n",
      "Columna 'Div_socio_work': float64\n",
      "Columna 'Div_total_Nwork': float64\n",
      "Columna 'Div_act_Nwork': float64\n",
      "Columna 'Div_socio_Nwork': float64\n",
      "Columna 'calidad_cocina': float64\n",
      "Columna 'diseny_cocina': float64\n",
      "Columna 'alta_calidad': float64\n",
      "Columna 'reform_inmob': float64\n",
      "Columna 'dum_mar_200m': float64\n",
      "Columna 'dum_ttpp_riel_urb': float64\n",
      "Columna 'dist_near_riel_km': float64\n",
      "Columna 'dist_near_viappal_km': float64\n",
      "Columna 'C_contempo': float64\n",
      "Columna 'C_estado': float64\n",
      "Columna 'C_armarios': float64\n",
      "Columna 'B_contempo': float64\n",
      "Columna 'B_estado': float64\n",
      "Columna 'B_lavamano': float64\n",
      "Columna 'R_contempo': float64\n",
      "Columna 'R_estado': float64\n",
      "Columna 'R_carpinte': float64\n",
      "Columna 'R_singular': float64\n",
      "Columna 'R_ventana': float64\n",
      "Columna 'Precio_red': float64\n",
      "Columna 'scrap_year': float64\n",
      "Columna 'persona': object\n",
      "Columna 'filter_$': object\n",
      "Columna 'Estado_contemporaneidad_calidad': float64\n",
      "Columna 'Ausencia_singulares_presencia_arm_cocina': float64\n",
      "Columna 'Muestra_2023': float64\n",
      "Columna 'EPC_A_emision_2023': float64\n",
      "Columna 'EPC_B_emision_2023': float64\n",
      "Columna 'EPC_C_emision_2023': float64\n",
      "Columna 'EPC_D_emision_2023': float64\n",
      "Columna 'EPC_E_emision_2023': float64\n",
      "Columna 'EPC_F_emision_2023': float64\n",
      "Columna 'EPC_G_emision_2023': float64\n"
     ]
    }
   ],
   "source": [
    "for columna in bdd.columns:\n",
    "    tipo_de_dato = bdd[columna].dtype\n",
    "    print(f\"Columna '{columna}': {tipo_de_dato}\")"
   ]
  },
  {
   "cell_type": "markdown",
   "id": "25da57c7-b28c-42c5-836a-d2e6fde7926c",
   "metadata": {},
   "source": [
    "Para simplificar las cosas, voy a ver qué columnas no tienen valores numéricos, pues serán las primeras a eliminar de mi dataframe."
   ]
  },
  {
   "cell_type": "code",
   "execution_count": 8,
   "id": "a1c9e0f8-d253-4861-bd6b-c35a22c56a20",
   "metadata": {
    "tags": []
   },
   "outputs": [
    {
     "data": {
      "text/plain": [
       "Index(['descripcion', 'texto_destacado', 'Description',\n",
       "       'calificacion_consumo_letra', 'calificacion_emision_letra', 'persona',\n",
       "       'filter_$'],\n",
       "      dtype='object')"
      ]
     },
     "execution_count": 8,
     "metadata": {},
     "output_type": "execute_result"
    }
   ],
   "source": [
    "# Obtener las columnas que no son numéricas\n",
    "no_numericas = bdd.select_dtypes(exclude=['number']).columns\n",
    "no_numericas"
   ]
  },
  {
   "cell_type": "markdown",
   "id": "464e7923-9dea-4a86-bd53-4270c3528ee5",
   "metadata": {},
   "source": [
    "`calificacion_emision_letra` podría ser de mi interés, da información importante, pero si se dan cuenta ya tenemos `EPC_A_emision_2023`, `EPC_B_emision_2023`, `EPC_C_emision_2023`, `EPC_D_emision_2023`, `EPC_E_emision_2023`, `EPC_F_emision_2023`, `EPC_G_emision_2023`, que son el resultado de un one-hot encoding de esa columna.\n",
    "\n",
    "También podría obtener variables binarias sobre la columna `calificacion_consumo_letra`, pero de momento no me interesa (si a ustedes sí, le pueden preguntar a ChatGPT *cómo hacer un one-hot encoding de una variable categórica en pandas*)."
   ]
  },
  {
   "cell_type": "markdown",
   "id": "74362045-d0a2-4f90-a2e7-00085d637fae",
   "metadata": {},
   "source": [
    "Ahora que ya estoy seguro de que estas variables no me aportarán mucho, las elimino."
   ]
  },
  {
   "cell_type": "code",
   "execution_count": 9,
   "id": "1088ef3e-ef92-4f3b-90e9-75ced489b7b7",
   "metadata": {
    "tags": []
   },
   "outputs": [
    {
     "name": "stdout",
     "output_type": "stream",
     "text": [
      "<class 'pandas.core.frame.DataFrame'>\n",
      "RangeIndex: 4043 entries, 0 to 4042\n",
      "Columns: 184 entries, precio_eur to EPC_G_emision_2023\n",
      "dtypes: float64(184)\n",
      "memory usage: 5.7 MB\n"
     ]
    }
   ],
   "source": [
    "bdd=bdd.drop(no_numericas, axis=1)\n",
    "bdd.info()"
   ]
  },
  {
   "cell_type": "markdown",
   "id": "1fe8ab53-88cf-4e8c-804d-9d327ee64d1a",
   "metadata": {},
   "source": [
    "Noten que he pasado de 204 variables a 185 tras esta limpieza."
   ]
  },
  {
   "cell_type": "markdown",
   "id": "3e719776-519d-4eae-8403-53d84c2a5eb3",
   "metadata": {},
   "source": [
    "# 3. Eliminación de filas vacías"
   ]
  },
  {
   "cell_type": "markdown",
   "id": "0a6af782-20c8-41f1-b329-aef258ebd3e2",
   "metadata": {
    "tags": []
   },
   "source": [
    "Recién ahora que he limpiado mis variables puedo quitar las filas vacías. Si lo hubiera hecho antes, podría haber eliminado filas con base en columnas que no me interesaban."
   ]
  },
  {
   "cell_type": "code",
   "execution_count": 10,
   "id": "515446d1-e192-478c-b6bd-982772244fb1",
   "metadata": {
    "tags": []
   },
   "outputs": [
    {
     "name": "stdout",
     "output_type": "stream",
     "text": [
      "<class 'pandas.core.frame.DataFrame'>\n",
      "Index: 3846 entries, 0 to 4042\n",
      "Columns: 184 entries, precio_eur to EPC_G_emision_2023\n",
      "dtypes: float64(184)\n",
      "memory usage: 5.4 MB\n"
     ]
    }
   ],
   "source": [
    "bdd=bdd.dropna()\n",
    "bdd.info()"
   ]
  },
  {
   "cell_type": "markdown",
   "id": "91e63518-f26f-420e-915b-aba9c6e6e1eb",
   "metadata": {
    "tags": []
   },
   "source": [
    "# 4. Revisión del histograma"
   ]
  },
  {
   "cell_type": "markdown",
   "id": "a68d6260-1af3-45c7-a850-9fc0a038fa21",
   "metadata": {},
   "source": [
    "Podría revisar la distribución de todas mis variables con las estadísticas de Kolmogorov-Smirnov como vimos durante clase, pero al ser tantas, de momento, no me parece muy útil hacerlo.\n",
    "Lo que me interesa ahora es hacer un modelo lo más rápido posible y evaluar las variables que resulten de él."
   ]
  },
  {
   "cell_type": "markdown",
   "id": "2ceb4c83-99dd-498c-9b6b-fc69f02d6cca",
   "metadata": {},
   "source": [
    "Para empezar a hacer el modelo, reviso la distribución de mi variable independiente."
   ]
  },
  {
   "cell_type": "code",
   "execution_count": 11,
   "id": "1b31d85d-6657-4bdb-b299-f5eb7bce5ebb",
   "metadata": {
    "tags": []
   },
   "outputs": [
    {
     "data": {
      "image/png": "[encoded data removed]",
      "text/plain": [
       "<Figure size 640x480 with 1 Axes>"
      ]
     },
     "metadata": {},
     "output_type": "display_data"
    }
   ],
   "source": [
    "# Datos\n",
    "data = bdd['Ln_total_pr']\n",
    "\n",
    "# Crear histograma\n",
    "plt.hist(data, bins=5, color='skyblue', edgecolor='black', density=True)\n",
    "\n",
    "# Calcular la media y la desviación estándar para la campana de Gauss\n",
    "mu = np.mean(data)\n",
    "sigma = np.std(data)\n",
    "\n",
    "# Definir el rango de valores para la campana de Gauss\n",
    "x = np.linspace(min(data), max(data), 100)\n",
    "\n",
    "# Calcular la función de densidad de probabilidad para la campana de Gauss\n",
    "pdf = 1/(sigma * np.sqrt(2 * np.pi)) * np.exp(-0.5 * ((x - mu) / sigma) ** 2)\n",
    "\n",
    "# Graficar la campana de Gauss\n",
    "plt.plot(x, pdf, color='red')\n",
    "\n",
    "# Mostrar el gráfico\n",
    "plt.show()"
   ]
  },
  {
   "cell_type": "markdown",
   "id": "0d36ff60-f5e7-4ff8-bb94-8fa0c6a0e141",
   "metadata": {},
   "source": [
    "Veo que sí tiene una distribución normal."
   ]
  },
  {
   "cell_type": "markdown",
   "id": "05229c97-d4e0-4c2f-9fd3-fcf3f2f50955",
   "metadata": {},
   "source": [
    "# 5. Identificación de outliers"
   ]
  },
  {
   "cell_type": "code",
   "execution_count": 12,
   "id": "cf11567f-dc89-4422-80af-948cc0eb0d47",
   "metadata": {
    "tags": []
   },
   "outputs": [
    {
     "data": {
      "image/png": "[encoded data removed]",
      "text/plain": [
       "<Figure size 800x600 with 1 Axes>"
      ]
     },
     "metadata": {},
     "output_type": "display_data"
    }
   ],
   "source": [
    "plt.figure(figsize=(8, 6))\n",
    "bdd.boxplot(column='Ln_total_pr',whis=1.5) ## revisar 'bdd' ##\n",
    "plt.title('Boxplot de la SalePrice')\n",
    "plt.xlabel('Columna')\n",
    "plt.ylabel('Valores')\n",
    "plt.grid(True)\n",
    "plt.show()"
   ]
  },
  {
   "cell_type": "markdown",
   "id": "4b27d268-913f-46b6-93ab-f59563fe5b3e",
   "metadata": {},
   "source": [
    "¿Por qué creen que el gráfico me sugiere que no hay outliers? ¡Porque tiene una distribución normal! Son cosas que están correlacionadas."
   ]
  },
  {
   "cell_type": "markdown",
   "id": "cae5b19b-0f59-48b9-a69a-30bcb75b3a7f",
   "metadata": {},
   "source": [
    "# 6. Identificación de variables a eliminar"
   ]
  },
  {
   "cell_type": "markdown",
   "id": "b9c2a8dd-ed3f-4661-80a7-d106c6005e72",
   "metadata": {},
   "source": [
    "Sepan que nos encontramos ante un caso de análisis atípico: como ya hemos visto en el apartado 1, tenemos **185 variables** en nuestro dataset. **¡Es un montón!** Usualmente estos análisis se suelen hacer con 10-20 variables explicativas.\n",
    "\n",
    "Si nuestra estrategia fuera la típica, ahora podríamos pasar a realizar correlaciones para entender cómo se comportan nuestras variables. ¿Pero tiene sentido hacerlo con este caso? Yo no me creo capaz de entender una matriz de correlación de 185 x 185. Me tardaría semanas tratando de analizar todas esas relaciones. Por tanto, **nuestra estrategia debe ser distinta a la que habíamos conocido**. \n",
    "\n",
    "Mi punto de partida es este: como en la vida real todo está relacionado, es muy probable que esas variables, que intentan capturar una realidad, también lo estén (es decir, es muy probable que algunas expliquen lo mismo, sean redudantes); por tanto, pueden causar problemas de **multicolinealidad**. En ese sentido, creo que nuestra estrategia debería enfocarse en reducir en la medida de lo posible esa cantidad de variables."
   ]
  },
  {
   "cell_type": "markdown",
   "id": "8115b630-b532-42b1-934b-04c9ce5c046f",
   "metadata": {},
   "source": [
    "## 6.1. Primera limpieza"
   ]
  },
  {
   "cell_type": "markdown",
   "id": "28050fed-830e-4499-b2fe-3b3575a81b3b",
   "metadata": {},
   "source": [
    "Antes que nada, sólo voy a considerar a las $X$ que tengan una correlación significativa con mi $y$. O al menos se acerquen mucho: noten que en el código asumo que la correlación es significativa si es menor de 0.1 y no 0.05 como debería ser normalmente."
   ]
  },
  {
   "cell_type": "code",
   "execution_count": 13,
   "id": "9c406121-701c-4c34-933c-1d0df511de25",
   "metadata": {
    "tags": []
   },
   "outputs": [
    {
     "name": "stderr",
     "output_type": "stream",
     "text": [
      "C:\\Users\\rojas\\anaconda3\\Lib\\site-packages\\scipy\\stats\\_stats_py.py:4781: ConstantInputWarning: An input array is constant; the correlation coefficient is not defined.\n",
      "  warnings.warn(stats.ConstantInputWarning(msg))\n"
     ]
    },
    {
     "name": "stdout",
     "output_type": "stream",
     "text": [
      "Correlaciones significativas:\n",
      "                    Correlation with Ln_total_pr       p-value\n",
      "precio_eur                              0.950864  0.000000e+00\n",
      "superficie                              0.703626  0.000000e+00\n",
      "superficie_2                            0.588357  0.000000e+00\n",
      "Unit_price                              0.761584  0.000000e+00\n",
      "Ln_unit_pr                              0.777964  0.000000e+00\n",
      "...                                          ...           ...\n",
      "EPC_C_emision_2023                      0.044758  5.500239e-03\n",
      "EPC_D_emision_2023                      0.039766  1.365036e-02\n",
      "EPC_E_emision_2023                     -0.044657  5.606750e-03\n",
      "EPC_F_emision_2023                     -0.063080  9.054850e-05\n",
      "EPC_G_emision_2023                     -0.130510  4.442070e-16\n",
      "\n",
      "[171 rows x 2 columns]\n",
      "\n",
      "Variables incluidas:\n",
      "['precio_eur', 'superficie', 'superficie_2', 'Unit_price', 'Ln_unit_pr', 'numero_habitaciones', 'numero_bano', 'ratio_bano_hab', 'numero_aseo', 'ascensor', 'interac_planta', 'numero_de_piso', 'anyo_constr', 'anyo_constr_ponderad', 'antig_ponderad', 'Inverse_Age', 'Year_Before_1981', 'Year_1982_2006', 'Year_After_2007', 'superficie_terraza_m2', 'grand_terr_20m2', 'superficie_salon', 'bool_despacho', 'bool_trastero', 'bool_piscina_comunitaria', 'bool_jardin_comunitario', 'bool_ascensor', 'bool_aire_acondicionado', 'bool_calefaccion', 'bool_chimenea', 'calificacion_consumo_valor', 'calificacion_emision_valor', 'Dum_EPC', 'EPC_A_emision', 'EPC_B_emision', 'EPC_C_emision', 'EPC_D_emision', 'EPC_E_emision', 'EPC_F_emision', 'EPC_G_emision', 'COD_MUN', 'radiacion_enero', 'radiacion_julio', 'POB_91', 'POB_01', 'POB_06', 'POR_01', 'LTL1991_M', 'LTL_2001', 'DLTL_MUN', 'RW', 'FLE', 'FLS', 'SUP_URB_90', 'SUP_URB_00', 'Job_ratio_01', 'Autocontencion_01', 'Nodalidad_01', 'Dist_CBD', 'Dist_CBD2', 'Dist_sub_center', 'Elevation_Mean', 'IND_pr', 'FIRE_pr', 'Div_LandUse', 'COD_SEC', 'pr_directivo', 'pr_tecnico_prof', 'pr_tecnico_apoyo', 'pr_restaur_comer', 'pr_agri_calificado', 'pr_artesano', 'pr_operador', 'pr_no_calif', 'desplaz_ponderado', 'plant_ras_pond', 'edif_ruin_pr', 'edif_malo_pr', 'edif_deficient_pr', 'Doorman_pr', 'opin_ruido_si_pr', 'opin_contam_si_pr', 'opin_calle_sucia_pr', 'opin_mala_comunic_pr', 'opin_delincuencia_pr', 'opin_falta_aseo_pr', 'local_salud_pr', 'local_edu_pr', 'local_social_pr', 'local_cult_pr', 'local_comerc_pr', 'local_oficinas_pr', 'local_industr_pr', 'local_agrar_pr', 'POB_TOTAL', 'POB_RESID', 'LOC_TOTAL', 'POR_TOTAL', 'LOC_VIV_TOTAL', 'dens_loc_100hab', 'dens_loc_sup', 'dens_pob_sup', 'estud_sin_pr', 'estud_primer_pr', 'estud_segund_pr', 'estud_tercer_pr', 'Sup_viv_sec', 'viv_ppales_pr', 'viv_no_ppales_pr', 'viv_secundarias_pr', 'viv_vacias_pr', 'viv_unifam_pr', 'viv_aptos_pr', 'resi_euro_pr', 'resi_africa_pr', 'resi_america_pr', 'resi_asia_pr', 'resi_oceania_pr', 'H_ocup_POR', 'H_loc_INE', 'H_tamaviv', 'H_ocup_POR_Xpor', 'H_loc_INE_XLOCS', 'H_tamaviv_Xvivs', 'CT_renta_alta_CPA', 'CT_renta_medb_CPA', 'Income_Household_2016', 'DP2e', 'Dens_Time_total', 'Dens_Time_total_work', 'Dens_Time_total_Nwork', 'Dens_pers_act_total', 'Dens_pers_act_working', 'Dens_pers_act_Nworking', 'Div_total_work', 'Div_act_work', 'Div_socio_work', 'Div_total_Nwork', 'Div_act_Nwork', 'Div_socio_Nwork', 'calidad_cocina', 'diseny_cocina', 'alta_calidad', 'reform_inmob', 'dum_mar_200m', 'dum_ttpp_riel_urb', 'dist_near_riel_km', 'dist_near_viappal_km', 'C_contempo', 'C_estado', 'C_armarios', 'B_contempo', 'B_estado', 'B_lavamano', 'R_contempo', 'R_estado', 'R_carpinte', 'R_singular', 'R_ventana', 'Precio_red', 'scrap_year', 'Estado_contemporaneidad_calidad', 'Ausencia_singulares_presencia_arm_cocina', 'Muestra_2023', 'EPC_A_emision_2023', 'EPC_B_emision_2023', 'EPC_C_emision_2023', 'EPC_D_emision_2023', 'EPC_E_emision_2023', 'EPC_F_emision_2023', 'EPC_G_emision_2023']\n",
      "\n",
      "Correlaciones no significativas:\n",
      "                       Correlation with Ln_total_pr   p-value\n",
      "Ln_total_pr                                1.000000  1.000000\n",
      "superficie_jardin_m2                       0.007632  0.636097\n",
      "bool_buhardilla                            0.024706  0.125544\n",
      "bool_lavadero                              0.004234  0.792926\n",
      "bool_amueblado                            -0.016401  0.309230\n",
      "temp_enero                                 0.018238  0.258149\n",
      "temp_julio                                 0.025824  0.109323\n",
      "pr_empl_admin                             -0.006284  0.696852\n",
      "edif_bueno_pr                             -0.008670  0.590902\n",
      "opin_pocazonaverde_pr                     -0.024172  0.133933\n",
      "VIV_ppales_TOTAL                           0.023591  0.143538\n",
      "CT_renta_meda_CPA                         -0.024143  0.134393\n",
      "\n",
      "Variables incluidas:\n",
      "['Ln_total_pr', 'superficie_jardin_m2', 'bool_buhardilla', 'bool_lavadero', 'bool_amueblado', 'temp_enero', 'temp_julio', 'pr_empl_admin', 'edif_bueno_pr', 'opin_pocazonaverde_pr', 'VIV_ppales_TOTAL', 'CT_renta_meda_CPA']\n"
     ]
    }
   ],
   "source": [
    "# Calcular la matriz de correlación y los p-valores\n",
    "matriz_correlacion = bdd.corr() ## 'bdd' es donde están mis datos ##\n",
    "matriz_p_valor = bdd.corr( ## 'bdd' es donde están mis datos ##\n",
    "    method=lambda x, y: pearsonr(x, y)[1]) \n",
    "\n",
    "# Calcular las correlaciones entre todas las variables y la variable dependiente (SalePrice)\n",
    "correlation_with_saleprice = matriz_correlacion['Ln_total_pr']\n",
    "#Ojo: 'matriz_correlacion' es una variable/objeto que obtuve en el paso anterior\n",
    "\n",
    "# Filtrar correlaciones significativas y no significativas\n",
    "significant_correlations = correlation_with_saleprice[matriz_p_valor['Ln_total_pr'] < 0.1]\n",
    "insignificant_correlations = correlation_with_saleprice[matriz_p_valor['Ln_total_pr'] >= 0.1]\n",
    "#Ojo: 'matriz_p_valor' es una variable/objeto que obtuve en el paso anterior\n",
    "\n",
    "# Crear DataFrames para cada tipo de correlación\n",
    "significant_table = pd.DataFrame({'Correlation with Ln_total_pr': significant_correlations,\n",
    "                                  'p-value': matriz_p_valor.loc[significant_correlations.index, 'Ln_total_pr']})\n",
    "\n",
    "insignificant_table = pd.DataFrame({'Correlation with Ln_total_pr': insignificant_correlations,\n",
    "                                    'p-value': matriz_p_valor.loc[insignificant_correlations.index, 'Ln_total_pr']})\n",
    "\n",
    "# Mostrar las tablas\n",
    "print(\"Correlaciones significativas:\")\n",
    "print(significant_table)\n",
    "print(\"\\nVariables incluidas:\")\n",
    "print(list(significant_table.index))\n",
    "print(\"\\nCorrelaciones no significativas:\")\n",
    "print(insignificant_table)\n",
    "print(\"\\nVariables incluidas:\")\n",
    "print(list(insignificant_table.index))"
   ]
  },
  {
   "cell_type": "markdown",
   "id": "c7f3774d-e046-4db2-b2db-4f27bdbce1ca",
   "metadata": {},
   "source": [
    "Voy a definir un objeto que almacene todas estas $X$ que son significativas (sólo estoy copiando las variables que me aparecieron en la celda anterior):"
   ]
  },
  {
   "cell_type": "code",
   "execution_count": 14,
   "id": "fa815ac0-36dc-43ca-840e-95a2eb6cd7d3",
   "metadata": {
    "tags": []
   },
   "outputs": [],
   "source": [
    "X=bdd[['precio_eur', 'superficie', 'superficie_2', 'Unit_price', 'Ln_unit_pr', 'numero_habitaciones', 'numero_bano', 'ratio_bano_hab', 'numero_aseo', 'ascensor', 'interac_planta', 'numero_de_piso', 'anyo_constr', 'anyo_constr_ponderad', 'antig_ponderad', 'Inverse_Age', 'Year_Before_1981', 'Year_1982_2006', 'Year_After_2007', 'superficie_terraza_m2', 'grand_terr_20m2', 'superficie_salon', 'bool_despacho', 'bool_trastero', 'bool_piscina_comunitaria', 'bool_jardin_comunitario', 'bool_ascensor', 'bool_aire_acondicionado', 'bool_calefaccion', 'bool_chimenea', 'calificacion_consumo_valor', 'calificacion_emision_valor', 'Dum_EPC', 'EPC_A_emision', 'EPC_B_emision', 'EPC_C_emision', 'EPC_D_emision', 'EPC_E_emision', 'EPC_F_emision', 'EPC_G_emision', 'COD_MUN', 'radiacion_enero', 'radiacion_julio', 'POB_91', 'POB_01', 'POB_06', 'POR_01', 'LTL1991_M', 'LTL_2001', 'DLTL_MUN', 'RW', 'FLE', 'FLS', 'SUP_URB_90', 'SUP_URB_00', 'Job_ratio_01', 'Autocontencion_01', 'Nodalidad_01', 'Dist_CBD', 'Dist_CBD2', 'Dist_sub_center', 'Elevation_Mean', 'IND_pr', 'FIRE_pr', 'Div_LandUse', 'COD_SEC', 'pr_directivo', 'pr_tecnico_prof', 'pr_tecnico_apoyo', 'pr_restaur_comer', 'pr_agri_calificado', 'pr_artesano', 'pr_operador', 'pr_no_calif', 'desplaz_ponderado', 'plant_ras_pond', 'edif_ruin_pr', 'edif_malo_pr', 'edif_deficient_pr', 'Doorman_pr', 'opin_ruido_si_pr', 'opin_contam_si_pr', 'opin_calle_sucia_pr', 'opin_mala_comunic_pr', 'opin_delincuencia_pr', 'opin_falta_aseo_pr', 'local_salud_pr', 'local_edu_pr', 'local_social_pr', 'local_cult_pr', 'local_comerc_pr', 'local_oficinas_pr', 'local_industr_pr', 'local_agrar_pr', 'POB_TOTAL', 'POB_RESID', 'LOC_TOTAL', 'POR_TOTAL', 'LOC_VIV_TOTAL', 'dens_loc_100hab', 'dens_loc_sup', 'dens_pob_sup', 'estud_sin_pr', 'estud_primer_pr', 'estud_segund_pr', 'estud_tercer_pr', 'Sup_viv_sec', 'viv_ppales_pr', 'viv_no_ppales_pr', 'viv_secundarias_pr', 'viv_vacias_pr', 'viv_unifam_pr', 'viv_aptos_pr', 'resi_euro_pr', 'resi_africa_pr', 'resi_america_pr', 'resi_asia_pr', 'resi_oceania_pr', 'H_ocup_POR', 'H_loc_INE', 'H_tamaviv', 'H_ocup_POR_Xpor', 'H_loc_INE_XLOCS', 'H_tamaviv_Xvivs', 'CT_renta_alta_CPA', 'CT_renta_medb_CPA', 'Income_Household_2016', 'DP2e', 'Dens_Time_total', 'Dens_Time_total_work', 'Dens_Time_total_Nwork', 'Dens_pers_act_total', 'Dens_pers_act_working', 'Dens_pers_act_Nworking', 'Div_total_work', 'Div_act_work', 'Div_socio_work', 'Div_total_Nwork', 'Div_act_Nwork', 'Div_socio_Nwork', 'calidad_cocina', 'diseny_cocina', 'alta_calidad', 'reform_inmob', 'dum_mar_200m', 'dum_ttpp_riel_urb', 'dist_near_riel_km', 'dist_near_viappal_km', 'C_contempo', 'C_estado', 'C_armarios', 'B_contempo', 'B_estado', 'B_lavamano', 'R_contempo', 'R_estado', 'R_carpinte', 'R_singular', 'R_ventana', 'Precio_red', 'scrap_year', 'Estado_contemporaneidad_calidad', 'Ausencia_singulares_presencia_arm_cocina', 'Muestra_2023', 'EPC_A_emision_2023', 'EPC_B_emision_2023', 'EPC_C_emision_2023', 'EPC_D_emision_2023', 'EPC_E_emision_2023', 'EPC_F_emision_2023', 'EPC_G_emision_2023']]"
   ]
  },
  {
   "cell_type": "markdown",
   "id": "1b4c466e-1036-48a0-9ecb-33935d1a4f3c",
   "metadata": {},
   "source": [
    "Noten que hay algunas variables que voy a eliminar de mis $X$ por no ser importantes (o porque son lo mismo que mi $y$); es decir, se 'colaron' del procedimiento del primer apartado: `precio_eur`, `Unit_price`, `Ln_unit_pr`,`COD_MUN`, `calificacion_emision_valor`, `ascensor` (dado que es lo mismo que `bool_ascensor`). Lo mismo con todas las variables de *calidad* y *contemporaneidad* (`C_estado`, `C_armarios`, `R_estado`, etc.), dado que todas se resumen en  `Estado_contemporaneidad_calidad` y `Ausencia_singulares_presencia_arm_cocina` (si Carlos no se los ha explicado, me lo recuerdan en clase y les comento brevemente cómo se hace eso).\n",
    "\n",
    "Y aprovecho en definir mis $y$."
   ]
  },
  {
   "cell_type": "code",
   "execution_count": 15,
   "id": "167b23ca-e098-4e83-a888-0e9460490e15",
   "metadata": {
    "tags": []
   },
   "outputs": [],
   "source": [
    "X=X.drop(['COD_MUN','precio_eur','Unit_price','Ln_unit_pr',\n",
    "            'calificacion_emision_valor','ascensor','C_contempo', 'C_estado', 'C_armarios', 'B_contempo', \n",
    "            'B_estado', 'B_lavamano', 'R_contempo', 'R_estado', 'R_carpinte', 'R_singular', \n",
    "            'R_ventana', 'Precio_red', 'scrap_year'],axis=1)\n",
    "y = bdd['Ln_total_pr']"
   ]
  },
  {
   "cell_type": "markdown",
   "id": "2fdf7286-8890-4058-9fa9-be8f1c6c235b",
   "metadata": {},
   "source": [
    "## 6.2. Segunda limpieza"
   ]
  },
  {
   "cell_type": "markdown",
   "id": "6260d3df-c40a-4b3a-be13-f0c97d1161de",
   "metadata": {},
   "source": [
    "Ahora sí. Aquí viene lo interesante. \n",
    "\n",
    "Yo creo que podríamos empezar calculando estos datasets:\n",
    "1. Correlación entre todas mis $X$\n",
    "2. Correlación de todas las $X$ con $y$ \n",
    "3. VIF de mis $X$\n",
    "\n",
    "Mi finalidad es obtener un cuarto dataset:\n",
    "\n",
    "4. Lista de nuevas variables sin autocorrelación\n",
    "\n",
    "Por tanto, podría definir estos pasos:\n",
    "1. Ordenar los VIF de mayor a menor (dataset 3).\n",
    "2. Si una variable tiene un VIF **inferior** a 5 (dataset 3), ingresarla a una lista de nuevas variables (dataset 4).\n",
    "3. Si una variable tiene VIF **superior** a 5 (dataset 3), revisar las correlaciones entre ellas (dataset 1) y armar una *lista provisional* con todas aquellas variables con las que tiene una correlación significativa o muy cercana a la significancia (p-valor<0.1). Este valor lo pongo de manera arbitraria para ser más flexible en los resultados.\n",
    "3. Sobre esa *lista provisional*, eliminar a aquellas que tengan un VIF inferior a 18 (revisando el dataset 3).\n",
    "4. Sobre la misma *lista provisional*, elegir únicamente a la variable con la mayor correlación con $y$ (dataset 2) para ingresarla a la lista de nuevas variables (dataset 4)."
   ]
  },
  {
   "cell_type": "markdown",
   "id": "6072238a-0742-4342-b7a7-11656072acf0",
   "metadata": {},
   "source": [
    "Tras haberle preguntado a ChatGPT que necesito seguir los cinco pasos, obtengo este código:"
   ]
  },
  {
   "cell_type": "code",
   "execution_count": 16,
   "id": "63e95acc-7f1c-4ea0-9bdc-8454faa644de",
   "metadata": {
    "tags": []
   },
   "outputs": [
    {
     "name": "stderr",
     "output_type": "stream",
     "text": [
      "C:\\Users\\rojas\\anaconda3\\Lib\\site-packages\\statsmodels\\stats\\outliers_influence.py:195: RuntimeWarning: divide by zero encountered in scalar divide\n",
      "  vif = 1. / (1. - r_squared_i)\n"
     ]
    },
    {
     "name": "stdout",
     "output_type": "stream",
     "text": [
      "['pr_tecnico_prof', 'CT_renta_alta_CPA', 'anyo_constr_ponderad', 'Income_Household_2016', 'Year_1982_2006', 'pr_tecnico_apoyo', 'viv_no_ppales_pr', 'opin_falta_aseo_pr', 'Dum_EPC', 'superficie', 'numero_bano', 'dens_loc_sup', 'bool_ascensor', 'Year_After_2007', 'EPC_E_emision_2023', 'EPC_E_emision', 'H_tamaviv_Xvivs', 'resi_america_pr', 'viv_vacias_pr', 'estud_tercer_pr', 'viv_aptos_pr', 'H_ocup_POR_Xpor', 'H_loc_INE_XLOCS', 'superficie_2', 'Dist_CBD', 'local_industr_pr', 'opin_delincuencia_pr', 'opin_calle_sucia_pr', 'Div_socio_work', 'opin_contam_si_pr', 'opin_ruido_si_pr', 'dens_pob_sup', 'interac_planta', 'calificacion_consumo_valor', 'ratio_bano_hab', 'opin_mala_comunic_pr', 'numero_habitaciones', 'dist_near_riel_km', 'dum_mar_200m', 'edif_malo_pr', 'plant_ras_pond', 'dist_near_viappal_km', 'EPC_G_emision_2023', 'pr_agri_calificado', 'local_salud_pr', 'H_loc_INE', 'EPC_B_emision_2023', 'EPC_A_emision_2023', 'edif_deficient_pr', 'edif_ruin_pr', 'superficie_terraza_m2', 'grand_terr_20m2', 'numero_de_piso', 'Inverse_Age', 'dum_ttpp_riel_urb', 'local_edu_pr', 'local_cult_pr', 'EPC_F_emision_2023', 'local_social_pr', 'EPC_C_emision_2023', 'EPC_D_emision_2023', 'Doorman_pr', 'local_agrar_pr', 'Estado_contemporaneidad_calidad', 'bool_calefaccion', 'bool_piscina_comunitaria', 'bool_aire_acondicionado', 'bool_jardin_comunitario', 'superficie_salon', 'reform_inmob', 'calidad_cocina', 'anyo_constr', 'bool_trastero', 'numero_aseo', 'Ausencia_singulares_presencia_arm_cocina', 'alta_calidad', 'bool_despacho', 'diseny_cocina', 'bool_chimenea']\n"
     ]
    }
   ],
   "source": [
    "# 1. Calcular correlación entre X (dataset 1) y sus p-valores\n",
    "correlation_matrix = X.corr()\n",
    "p_values = X.apply(lambda x: pd.Series(pearsonr(x, y)), axis=0).transpose()[1]\n",
    "\n",
    "# 2. Calcular correlación de todas las X con y (dataset 2)\n",
    "correlation_with_y = X.apply(lambda x: pearsonr(x, y)[0])\n",
    "\n",
    "# 3. Calcular VIF de mis X (dataset 3)\n",
    "vif_data = pd.DataFrame()\n",
    "vif_data[\"feature\"] = X.columns\n",
    "vif_data[\"VIF\"] = [variance_inflation_factor(X.values, i) for i in range(X.shape[1])]\n",
    "\n",
    "# 4. Inicializar lista de nuevas variables (dataset 4)\n",
    "new_variables = []\n",
    "\n",
    "# 5. Ordenar los VIF de mayor a menor\n",
    "vif_data = vif_data.sort_values(by='VIF', ascending=False)\n",
    "\n",
    "# 6. Recorrer las variables y aplicar las reglas\n",
    "for index, row in vif_data.iterrows():\n",
    "    if row['VIF'] < 18:\n",
    "        new_variables.append(row['feature'])\n",
    "    else:\n",
    "        correlated_features = correlation_matrix.loc[row['feature'], (correlation_matrix[row['feature']] > 0.1) & (p_values < 0.1)].index.tolist()\n",
    "        high_vif_correlated_features = [feature for feature in correlated_features if vif_data.loc[vif_data['feature'] == feature, 'VIF'].values[0] >= 5]\n",
    "        if high_vif_correlated_features:\n",
    "            max_corr_with_y_feature = max(high_vif_correlated_features, key=lambda x: correlation_with_y[x])\n",
    "            new_variables.append(max_corr_with_y_feature)\n",
    "\n",
    "# 7. Crear dataframe final con las nuevas variables (dataset 4)\n",
    "new_variables_df = pd.DataFrame(new_variables, columns=['new_variables'])\n",
    "new_variables_df.drop_duplicates(inplace=True)\n",
    "\n",
    "print(new_variables_df['new_variables'].tolist())"
   ]
  },
  {
   "cell_type": "markdown",
   "id": "7e232458-178d-4ef1-a590-288dcad49aae",
   "metadata": {},
   "source": [
    "Pueden copiar la advertencia (eso que aparece en rojo) y copiársela a ChatGPT (denle contexto de qué están elaborando) y verán que no se trata de nada malo."
   ]
  },
  {
   "cell_type": "code",
   "execution_count": 17,
   "id": "fcf12245-0774-4f91-a8df-220e9ca5455d",
   "metadata": {
    "tags": []
   },
   "outputs": [
    {
     "data": {
      "text/plain": [
       "79"
      ]
     },
     "execution_count": 17,
     "metadata": {},
     "output_type": "execute_result"
    }
   ],
   "source": [
    "len(new_variables_df)"
   ]
  },
  {
   "cell_type": "code",
   "execution_count": 18,
   "id": "3bef8719-1bb5-45e4-bce4-3be08600f8cc",
   "metadata": {
    "tags": []
   },
   "outputs": [
    {
     "data": {
      "text/html": [
       "<div>\n",
       "<style scoped>\n",
       "    .dataframe tbody tr th:only-of-type {\n",
       "        vertical-align: middle;\n",
       "    }\n",
       "\n",
       "    .dataframe tbody tr th {\n",
       "        vertical-align: top;\n",
       "    }\n",
       "\n",
       "    .dataframe thead th {\n",
       "        text-align: right;\n",
       "    }\n",
       "</style>\n",
       "<table border=\"1\" class=\"dataframe\">\n",
       "  <thead>\n",
       "    <tr style=\"text-align: right;\">\n",
       "      <th></th>\n",
       "      <th>new_variables</th>\n",
       "    </tr>\n",
       "  </thead>\n",
       "  <tbody>\n",
       "    <tr>\n",
       "      <th>0</th>\n",
       "      <td>pr_tecnico_prof</td>\n",
       "    </tr>\n",
       "    <tr>\n",
       "      <th>8</th>\n",
       "      <td>CT_renta_alta_CPA</td>\n",
       "    </tr>\n",
       "    <tr>\n",
       "      <th>16</th>\n",
       "      <td>anyo_constr_ponderad</td>\n",
       "    </tr>\n",
       "    <tr>\n",
       "      <th>23</th>\n",
       "      <td>Income_Household_2016</td>\n",
       "    </tr>\n",
       "    <tr>\n",
       "      <th>25</th>\n",
       "      <td>Year_1982_2006</td>\n",
       "    </tr>\n",
       "  </tbody>\n",
       "</table>\n",
       "</div>"
      ],
      "text/plain": [
       "            new_variables\n",
       "0         pr_tecnico_prof\n",
       "8       CT_renta_alta_CPA\n",
       "16   anyo_constr_ponderad\n",
       "23  Income_Household_2016\n",
       "25         Year_1982_2006"
      ]
     },
     "execution_count": 18,
     "metadata": {},
     "output_type": "execute_result"
    }
   ],
   "source": [
    "new_variables_df.head()"
   ]
  },
  {
   "cell_type": "markdown",
   "id": "ae91a04a-db7e-45a7-ba26-2955f02f1b5b",
   "metadata": {},
   "source": [
    "Ahora creo un nuevo objeto que tenga estas $X$ con un buen VIF (sólo estoy seleccionando el resultado de arriba y pegándolo)."
   ]
  },
  {
   "cell_type": "code",
   "execution_count": 19,
   "id": "7d862d8a-22b6-420b-8842-220065bd573a",
   "metadata": {
    "tags": []
   },
   "outputs": [],
   "source": [
    "X_buenvif=bdd[['pr_tecnico_prof', 'anyo_constr_ponderad', 'pr_tecnico_apoyo', 'Income_Household_2016', 'CT_renta_alta_CPA', 'opin_falta_aseo_pr', 'Year_1982_2006', 'superficie', 'Dum_EPC', 'viv_no_ppales_pr', 'numero_bano', 'dens_loc_sup', 'bool_ascensor', 'Year_After_2007', 'EPC_E_emision_2023', 'EPC_E_emision', 'H_tamaviv_Xvivs', 'resi_america_pr', 'viv_vacias_pr', 'estud_tercer_pr', 'viv_aptos_pr', 'H_ocup_POR_Xpor', 'H_loc_INE_XLOCS', 'superficie_2', 'Dist_CBD', 'local_industr_pr', 'opin_delincuencia_pr', 'opin_calle_sucia_pr', 'Div_socio_work', 'opin_contam_si_pr', 'opin_ruido_si_pr', 'dens_pob_sup', 'interac_planta', 'calificacion_consumo_valor', 'ratio_bano_hab', 'opin_mala_comunic_pr', 'numero_habitaciones', 'dist_near_riel_km', 'dum_mar_200m', 'edif_malo_pr', 'plant_ras_pond', 'dist_near_viappal_km', 'EPC_G_emision_2023', 'pr_agri_calificado', 'local_salud_pr', 'H_loc_INE', 'EPC_B_emision_2023', 'EPC_A_emision_2023', 'edif_deficient_pr', 'edif_ruin_pr', 'superficie_terraza_m2', 'grand_terr_20m2', 'numero_de_piso', 'Inverse_Age', 'dum_ttpp_riel_urb', 'local_edu_pr', 'local_cult_pr', 'EPC_F_emision_2023', 'local_social_pr', 'EPC_C_emision_2023', 'EPC_D_emision_2023', 'Doorman_pr', 'local_agrar_pr', 'Estado_contemporaneidad_calidad', 'bool_calefaccion', 'bool_piscina_comunitaria', 'bool_aire_acondicionado', 'bool_jardin_comunitario', 'superficie_salon', 'reform_inmob', 'calidad_cocina', 'anyo_constr', 'bool_trastero', 'numero_aseo', 'Ausencia_singulares_presencia_arm_cocina', 'alta_calidad', 'bool_despacho', 'diseny_cocina', 'bool_chimenea']]"
   ]
  },
  {
   "cell_type": "markdown",
   "id": "418b1f9f-b754-44ab-b124-6f94358c0f58",
   "metadata": {},
   "source": [
    "**Cuestión importante: ¿Por qué considero eliminar aquellas variables con un VIF menor a 9 y no a 3?** Por experiencia. Normalmente las variables con un VIF muy elevado (>50) también elevan el VIF de otras; por tanto, al quitarlas, algunas que podrían haber tenido un VIF de 9 (escojo el número sólo por ser múltiplo de 3) ahora podrían bajar a 2 o a 3."
   ]
  },
  {
   "cell_type": "markdown",
   "id": "9f50c3b4-6fc1-4f9e-951c-fde519748b0f",
   "metadata": {},
   "source": [
    "Sin embargo, la tarea no está terminada: tras haber hecho la segunda limpieza, aún es posible que las variables que queden tengan una correlación entre ellas. \n",
    "\n",
    "Esto porque el VIF está condicionado a las variables con las que comparas una variable en específico. Si ahora cada variable las comparas con otro conjunto, su VIF puede modificarse (usualmente disminuyendo, pero no necesariamente)."
   ]
  },
  {
   "cell_type": "code",
   "execution_count": 20,
   "id": "a2d16848-a656-423c-a398-194ca1ea9137",
   "metadata": {
    "tags": []
   },
   "outputs": [
    {
     "name": "stdout",
     "output_type": "stream",
     "text": [
      "                                    Variable          VIF\n",
      "0                            pr_tecnico_prof   563.165855\n",
      "1                       anyo_constr_ponderad  1261.034964\n",
      "2                           pr_tecnico_apoyo   117.089676\n",
      "3                      Income_Household_2016   154.170973\n",
      "4                          CT_renta_alta_CPA    39.919621\n",
      "..                                       ...          ...\n",
      "74  Ausencia_singulares_presencia_arm_cocina     1.137811\n",
      "75                              alta_calidad     1.393963\n",
      "76                             bool_despacho     1.178533\n",
      "77                             diseny_cocina     1.148659\n",
      "78                             bool_chimenea     1.111554\n",
      "\n",
      "[79 rows x 2 columns]\n"
     ]
    }
   ],
   "source": [
    "# Calcular el VIF para cada variable independiente\n",
    "vif = pd.DataFrame()\n",
    "vif[\"Variable\"] = X_buenvif.columns ## revisar 'X' ##\n",
    "vif[\"VIF\"] = [variance_inflation_factor(X_buenvif.values, i) ## revisar 'X' ##\n",
    "              for i in range(X_buenvif.shape[1])] ## revisar 'X' ##\n",
    "\n",
    "# Imprimir el resultado\n",
    "print(vif)"
   ]
  },
  {
   "cell_type": "markdown",
   "id": "1e1543c3-8683-494e-a322-9febed4863bf",
   "metadata": {},
   "source": [
    "Ordenamos de mayor a menor."
   ]
  },
  {
   "cell_type": "code",
   "execution_count": 21,
   "id": "4945795a-e8bf-499d-b50c-c302e1f34a52",
   "metadata": {
    "tags": []
   },
   "outputs": [
    {
     "name": "stdout",
     "output_type": "stream",
     "text": [
      "                                    Variable          VIF\n",
      "1                       anyo_constr_ponderad  1261.034964\n",
      "20                              viv_aptos_pr   916.515571\n",
      "19                           estud_tercer_pr   589.613728\n",
      "0                            pr_tecnico_prof   563.165855\n",
      "28                            Div_socio_work   365.657165\n",
      "..                                       ...          ...\n",
      "76                             bool_despacho     1.178533\n",
      "59                        EPC_C_emision_2023     1.161098\n",
      "77                             diseny_cocina     1.148659\n",
      "74  Ausencia_singulares_presencia_arm_cocina     1.137811\n",
      "78                             bool_chimenea     1.111554\n",
      "\n",
      "[79 rows x 2 columns]\n"
     ]
    }
   ],
   "source": [
    "vif = vif.sort_values(by='VIF', ascending=False)\n",
    "print(vif)"
   ]
  },
  {
   "cell_type": "markdown",
   "id": "07b52155-9a26-4b12-bd52-50a61a4d8f7d",
   "metadata": {},
   "source": [
    "## 6.3. Tercera limpieza"
   ]
  },
  {
   "cell_type": "markdown",
   "id": "6eab82cc-83b0-4ee9-9061-3875b0d57e7a",
   "metadata": {},
   "source": [
    "Lo que necesitamos ahora es añadir un paso a los cinco previamente definidos:\n",
    "\n",
    "6. Calcular el VIF sobre la nueva lista de variables, pero esta vez revisar que no tenemos variables con VIF por encima de 9. Si no hubiera, entregar la lista como \"lista_final\". Si sí lo hubiera, iterar los pasos anteriores.\n",
    "\n",
    "Noten que ahora nuestro umbral ya es 6, porque la cantidad de variables con un VIF muy alto es menor que al inicio. Es parte de mi *receta*. Ustedes pueden probar con otros valores. "
   ]
  },
  {
   "cell_type": "code",
   "execution_count": 22,
   "id": "c62740df-7ca8-4955-a11d-dbb3ffd4cd60",
   "metadata": {
    "tags": []
   },
   "outputs": [
    {
     "name": "stdout",
     "output_type": "stream",
     "text": [
      "['opin_falta_aseo_pr', 'Year_1982_2006', 'Year_After_2007', 'EPC_E_emision_2023', 'EPC_E_emision', 'H_loc_INE_XLOCS', 'Dist_CBD', 'local_industr_pr', 'interac_planta', 'calificacion_consumo_valor', 'opin_mala_comunic_pr', 'dum_mar_200m', 'edif_malo_pr', 'dist_near_viappal_km', 'EPC_G_emision_2023', 'pr_agri_calificado', 'local_salud_pr', 'EPC_B_emision_2023', 'EPC_A_emision_2023', 'edif_ruin_pr', 'superficie_terraza_m2', 'grand_terr_20m2', 'Inverse_Age', 'dum_ttpp_riel_urb', 'local_edu_pr', 'local_cult_pr', 'EPC_F_emision_2023', 'local_social_pr', 'EPC_C_emision_2023', 'EPC_D_emision_2023', 'Doorman_pr', 'local_agrar_pr', 'Estado_contemporaneidad_calidad', 'bool_calefaccion', 'bool_piscina_comunitaria', 'bool_aire_acondicionado', 'bool_jardin_comunitario', 'superficie_salon', 'reform_inmob', 'calidad_cocina', 'anyo_constr', 'bool_trastero', 'numero_aseo', 'Ausencia_singulares_presencia_arm_cocina', 'alta_calidad', 'bool_despacho', 'diseny_cocina', 'bool_chimenea']\n"
     ]
    }
   ],
   "source": [
    "# Inicializar lista de variables con VIF > 9\n",
    "high_vif_variables = []\n",
    "\n",
    "# Iterar hasta que no haya variables con VIF > 9 o no haya nuevas variables para agregar\n",
    "while True:\n",
    "    # Calcular VIF sobre la lista actual de variables\n",
    "    vif_data_new = pd.DataFrame()\n",
    "    vif_data_new[\"feature\"] = X_buenvif.columns\n",
    "    vif_data_new[\"VIF\"] = [variance_inflation_factor(bdd[X_buenvif.columns].values, i) for i in range(len(X_buenvif.columns))]\n",
    "    \n",
    "    # Verificar si hay variables con VIF > 9\n",
    "    high_vif_variables = vif_data_new[vif_data_new['VIF'] > 9]['feature'].tolist()\n",
    "    \n",
    "    # Si no hay variables con VIF > 9, salir del bucle\n",
    "    if not high_vif_variables:\n",
    "        break\n",
    "    \n",
    "    # Depurar la lista de variables eliminando aquellas con VIF > 9\n",
    "    X_buenvif = X_buenvif.drop(columns=high_vif_variables)\n",
    "    \n",
    "# Finalmente, obtener la lista final de variables\n",
    "lista_final = X_buenvif.columns.tolist()\n",
    "print(lista_final)"
   ]
  },
  {
   "cell_type": "code",
   "execution_count": null,
   "id": "e6664d38-bbd1-417d-88bf-2994704b6ac3",
   "metadata": {
    "tags": []
   },
   "outputs": [],
   "source": [
    "X_buenvif2=X_buenvif[['opin_falta_aseo_pr', 'Year_1982_2006', 'Year_After_2007', 'EPC_E_emision_2023', 'EPC_E_emision', 'H_loc_INE_XLOCS', 'Dist_CBD', 'local_industr_pr', 'interac_planta', 'calificacion_consumo_valor', 'opin_mala_comunic_pr', 'dum_mar_200m', 'edif_malo_pr', 'dist_near_viappal_km', 'EPC_G_emision_2023', 'pr_agri_calificado', 'local_salud_pr', 'EPC_B_emision_2023', 'EPC_A_emision_2023', 'edif_ruin_pr', 'superficie_terraza_m2', 'grand_terr_20m2', 'Inverse_Age', 'dum_ttpp_riel_urb', 'local_edu_pr', 'local_cult_pr', 'EPC_F_emision_2023', 'local_social_pr', 'EPC_C_emision_2023', 'EPC_D_emision_2023', 'Doorman_pr', 'local_agrar_pr', 'Estado_contemporaneidad_calidad', 'bool_calefaccion', 'bool_piscina_comunitaria', 'bool_aire_acondicionado', 'bool_jardin_comunitario', 'superficie_salon', 'reform_inmob', 'calidad_cocina', 'anyo_constr', 'bool_trastero', 'numero_aseo', 'Ausencia_singulares_presencia_arm_cocina', 'alta_calidad', 'bool_despacho', 'diseny_cocina', 'bool_chimenea']]\n",
    "\n",
    "# Calcular el VIF para cada variable independiente\n",
    "vif = pd.DataFrame()\n",
    "vif[\"Variable\"] = X_buenvif2.columns ## revisar 'X' ##\n",
    "vif[\"VIF\"] = [variance_inflation_factor(X_buenvif2.values, i) ## revisar 'X' ##\n",
    "              for i in range(X_buenvif2.shape[1])] ## revisar 'X' ##\n",
    "\n",
    "# Imprimir el resultado\n",
    "print(vif)"
   ]
  },
  {
   "cell_type": "markdown",
   "id": "d35cab43-8727-4c6d-9f59-35c07283bfbf",
   "metadata": {},
   "source": [
    "# 7. Elaboración del modelo de pasos sucesivos"
   ]
  },
  {
   "cell_type": "markdown",
   "id": "811fa8b9-62db-408a-8e80-e3c2d11312b8",
   "metadata": {
    "tags": []
   },
   "source": [
    "## 7.1. $p$ valores"
   ]
  },
  {
   "cell_type": "markdown",
   "id": "22f85b60-78d3-45c4-b1ce-86d590803f9a",
   "metadata": {},
   "source": [
    "Los pasos sucesivos (*stepwises*) crean varias combinaciones de variables hasta encontrar una estadística que tu definas: en este caso, hasta encontrar un modelo con variables cuyos p-valores sean menores a 0.2 (una vez más, estoy siendo flexible con estos umbrales, ustedes pueden ajustar el valor). \n",
    "\n",
    "Hay dos maneras de hacer un paso sucesivo: hacia adelante o *forward* (empieza con una variable y va añadiendo más), y hacia atrás o *backward* (empieza con todas las variables y las va quitando hasta conseguir la estadística que tú le pediste). \n",
    "\n",
    "Lo primero que necesitamos es instalar una librería llamada `stepwise-regression` (no la tienen instalada por defecto) con `pip`. Este paso sólo se debe hacer una vez."
   ]
  },
  {
   "cell_type": "code",
   "execution_count": null,
   "id": "57158889-ae2b-4e9d-8632-29587e6557bb",
   "metadata": {
    "tags": []
   },
   "outputs": [],
   "source": [
    "pip install stepwise-regression"
   ]
  },
  {
   "cell_type": "markdown",
   "id": "e264a185-3038-4fd0-8077-770994fff0dd",
   "metadata": {},
   "source": [
    "En este caso, yo lo definiré hacia atrás (porque está pensada para tener la mayor cantidad de variables posibles), pero si quisiera hacerlo al revés sólo deben cambiar `backward_regression` por `forward regression`."
   ]
  },
  {
   "cell_type": "code",
   "execution_count": null,
   "id": "328649ce-70a8-4598-8031-971941440043",
   "metadata": {
    "tags": []
   },
   "outputs": [],
   "source": [
    "from stepwise_regression import step_reg\n",
    "\n",
    "backselect=step_reg.backward_regression(X_buenvif2,y,0.2,verbose=False)\n",
    "print(len(backselect))\n",
    "print(backselect)"
   ]
  },
  {
   "cell_type": "markdown",
   "id": "8f6f36e4-b04d-4bc3-b75a-d9ff0103ca21",
   "metadata": {},
   "source": [
    "Lo que hace `step_reg` es devolver una lista de variables que cumple con la condición pedida: que su combinación entregue un modelo con p-valores menores a 0.2. Ojo: sólo se está centrando en los p-valores de las variables, no en el R$^2$ del modelo ni en niguna otra estadística.\n",
    "\n",
    "Ahora podemos crear un objeto llamado `X_mejor` que tome en cuenta sólo a esas variables para crear un modelo y ver su rendimiento."
   ]
  },
  {
   "cell_type": "code",
   "execution_count": null,
   "id": "66ee5db1-3f55-41e9-8d1e-c6ac89152514",
   "metadata": {
    "tags": []
   },
   "outputs": [],
   "source": [
    "X_mejor=X_buenvif2[['opin_falta_aseo_pr', 'Year_1982_2006', 'Year_After_2007', 'H_loc_INE_XLOCS', 'Dist_CBD', 'local_industr_pr', 'interac_planta', 'calificacion_consumo_valor', 'opin_mala_comunic_pr', 'dum_mar_200m', 'edif_malo_pr', 'dist_near_viappal_km', 'EPC_G_emision_2023', 'pr_agri_calificado', 'EPC_B_emision_2023', 'EPC_A_emision_2023', 'edif_ruin_pr', 'superficie_terraza_m2', 'Inverse_Age', 'local_edu_pr', 'local_cult_pr', 'EPC_F_emision_2023', 'EPC_C_emision_2023', 'EPC_D_emision_2023', 'Doorman_pr', 'local_agrar_pr', 'Estado_contemporaneidad_calidad', 'bool_calefaccion', 'bool_piscina_comunitaria', 'bool_aire_acondicionado', 'bool_jardin_comunitario', 'reform_inmob', 'calidad_cocina', 'anyo_constr', 'bool_trastero', 'numero_aseo', 'Ausencia_singulares_presencia_arm_cocina', 'alta_calidad', 'bool_despacho', 'diseny_cocina', 'bool_chimenea']]\n",
    "# Agregar una constante (Beta) a la matriz X para el término de intercepción del modelo\n",
    "X_mejor = sm.add_constant(X_mejor)\n",
    "\n",
    "# Crear el modelo de regresión lineal\n",
    "ols = sm.OLS(y, X_mejor) #noten que seguimos pidiendole que use 'sm' \n",
    "\n",
    "# Ajustar el modelo a los datos\n",
    "results = ols.fit()\n",
    "\n",
    "# Imprimir el resumen del modelo\n",
    "print(results.summary())"
   ]
  },
  {
   "cell_type": "markdown",
   "id": "fd891549-470f-4f17-909a-2ccabbaeafa5",
   "metadata": {},
   "source": [
    "Me parece un modelo aceptable. No necesariamente todas las variables de un modelo de precios hedónicos deben ser significativas, aunque sólo podamos hacer aseveraciones sobre aquellas que sí. "
   ]
  },
  {
   "cell_type": "markdown",
   "id": "5c14cb4d-f65e-481b-a0dc-47d438e813b5",
   "metadata": {
    "tags": []
   },
   "source": [
    "Por si las dudas reviso el VIF. Para eso necesario primero quitar la constante."
   ]
  },
  {
   "cell_type": "code",
   "execution_count": null,
   "id": "f48559f6-1c7f-4b30-b2fd-7280b09e8945",
   "metadata": {
    "tags": []
   },
   "outputs": [],
   "source": [
    "X_mejor=X_mejor.drop(['const'],axis=1)\n",
    "\n",
    "# Calcular el VIF para cada variable independiente\n",
    "vif = pd.DataFrame()\n",
    "vif[\"Variable\"] = X_mejor.columns ## revisar 'X' ##\n",
    "vif[\"VIF\"] = [variance_inflation_factor(X_mejor.values, i) ## revisar 'X' ##\n",
    "              for i in range(X_mejor.shape[1])] ## revisar 'X' ##\n",
    "\n",
    "# Imprimir el resultado\n",
    "print(vif)"
   ]
  },
  {
   "cell_type": "markdown",
   "id": "be716b7f-1287-4e0d-8198-7a3060f40cc0",
   "metadata": {},
   "source": [
    "En general, un buen rendimiento también. Como les comenté en clase: **Si bien puede entenderse como ideal que el VIF de mis variables sea menor o igual a 3, si algunas no cumplen con eso no es el fin del mundo**. Sólo hay que reportarlo."
   ]
  },
  {
   "cell_type": "markdown",
   "id": "c9789ab4-a3fe-434d-8784-29da0ee4c8f4",
   "metadata": {},
   "source": [
    "### 7.1.1. Revisión de supuestos"
   ]
  },
  {
   "cell_type": "code",
   "execution_count": null,
   "id": "9fb4741c-7bb9-45c5-9abf-bfca637e814a",
   "metadata": {
    "tags": []
   },
   "outputs": [],
   "source": [
    "# Calcular los residuos del modelo\n",
    "residuos = results.resid # 'results' es como llamé al objeto que contiene los resultados de mi modelo \n",
    "                         # en la celda 29\n",
    "# Graficar los residuos\n",
    "plt.figure(figsize=(8, 6))\n",
    "plt.scatter(results.fittedvalues, residuos) # le indico que trabaje sobre 'results'\n",
    "plt.axhline(y=0, color='r', linestyle='--')\n",
    "plt.title('Gráfico de residuos')\n",
    "plt.xlabel('Valores ajustados')\n",
    "plt.ylabel('Residuos')\n",
    "plt.show()"
   ]
  },
  {
   "cell_type": "code",
   "execution_count": null,
   "id": "7396389a-b2df-4ad2-ab64-279c5e75072e",
   "metadata": {
    "tags": []
   },
   "outputs": [],
   "source": [
    "plt.figure(figsize=(8, 6))\n",
    "plt.hist(residuos, ## revisar 'residuos' ## \n",
    "         bins=30, density=True, alpha=0.6, color='b')\n",
    "plt.title('Histograma de los errores')\n",
    "plt.xlabel('Errores')\n",
    "plt.ylabel('Densidad')\n",
    "plt.grid(True)\n",
    "plt.show()"
   ]
  },
  {
   "cell_type": "markdown",
   "id": "637d4ceb-2859-4c4a-b5ac-3d161b420ced",
   "metadata": {},
   "source": [
    "Una manera de corroborar si los residuos realmente tienen una distribución normal, es aplicando las pruebas de Shapiro-Wilk y Kolmogorov-Smirnov. Si el p-valor es menor a 0.05, confirmamos que tenemos una distribución normal."
   ]
  },
  {
   "cell_type": "code",
   "execution_count": null,
   "id": "78ecfec3-099f-4ce6-aec5-062c4b9ec15c",
   "metadata": {},
   "outputs": [],
   "source": [
    "# Prueba de Shapiro-Wilk\n",
    "shapiro_test = stats.shapiro(residuos)\n",
    "print(\"Prueba de Shapiro-Wilk:\")\n",
    "print(\"Estadística de prueba:\", shapiro_test.statistic)\n",
    "print(\"Valor p:\", shapiro_test.pvalue)\n",
    "\n",
    "# Prueba de Kolmogorov-Smirnov\n",
    "kolmogorov_test = stats.kstest(residuos, 'norm')\n",
    "print(\"\\nPrueba de Kolmogorov-Smirnov:\")\n",
    "print(\"Estadística de prueba:\", kolmogorov_test.statistic)\n",
    "print(\"Valor p:\", kolmogorov_test.pvalue)"
   ]
  },
  {
   "cell_type": "code",
   "execution_count": null,
   "id": "1c84b3e7-0eba-48b8-8858-f98101335988",
   "metadata": {
    "tags": []
   },
   "outputs": [],
   "source": [
    "# Calcular los residuos estandarizados\n",
    "residuos_estandarizados = results.get_influence().resid_studentized_internal ## revisar 'mod_antiguo' ##\n",
    "\n",
    "# Calcular la distribución acumulativa de los residuos estandarizados\n",
    "distribucion_acumulativa = stats.probplot(residuos_estandarizados, dist=\"norm\", plot=plt)\n",
    "\n",
    "# Personalizar el gráfico\n",
    "plt.title('Gráfico P-P normal de residuos estandarizados')\n",
    "plt.xlabel('Cuantiles teóricos')\n",
    "plt.ylabel('Cuantiles de los residuos estandarizados')\n",
    "plt.grid(True)\n",
    "plt.show()"
   ]
  },
  {
   "cell_type": "markdown",
   "id": "e9059e23-fb6c-4051-a6b2-9f2f6bdeb2a7",
   "metadata": {},
   "source": [
    "Una vez más, confirmo que se trata de un buen modelo."
   ]
  },
  {
   "cell_type": "markdown",
   "id": "761969d4-1b9e-4a1e-be9e-85485ed66e9d",
   "metadata": {},
   "source": [
    "### 7.1.2. Afinación del modelo"
   ]
  },
  {
   "cell_type": "markdown",
   "id": "cafcd3ac-fd81-4542-9d43-dfd22964b01f",
   "metadata": {},
   "source": [
    "Si quisieran mejorar el modelo para que tenga un R$^2$ mayor, pueden ir añadiendo o quitando variables manualmente.\n",
    "\n",
    "Por ejemplo, yo revisaría todas las variables que resultaron significativas con $y$, que ya hemos obtenido en el apartado 6.1.\n",
    "\n",
    "Estas variables y su respectiva correlación se guardaron en el objeto `significant_table`. Por tanto, puedo exportarlo a Excel y revisarlo paciencia."
   ]
  },
  {
   "cell_type": "code",
   "execution_count": null,
   "id": "de8e6e4d-26a2-4318-9811-2b327fb6afe3",
   "metadata": {
    "tags": []
   },
   "outputs": [],
   "source": [
    "significant_table.to_excel('data/clases/significant_table.xlsx')"
   ]
  },
  {
   "cell_type": "markdown",
   "id": "a940acec-96c8-4ca3-ada2-9bbb1f5675a1",
   "metadata": {},
   "source": [
    "De su revisión, yo veo que `Job_ratio_01` y `FIRE_pr` son variables que tienen una correlación significativa y fuerte (>0.50). Por tanto, probaría con ingresarla al modelo. Dado que ambas variables están en el dataframe original (`bdd`), primero creo un nuevo dataframe que las contenga."
   ]
  },
  {
   "cell_type": "code",
   "execution_count": null,
   "id": "47272e2f-4d25-491f-a641-d8849e6d1714",
   "metadata": {
    "tags": []
   },
   "outputs": [],
   "source": [
    "adicional=bdd[['Job_ratio_01','FIRE_pr']]"
   ]
  },
  {
   "cell_type": "markdown",
   "id": "22210788-950a-46cf-b403-362dd1b941e4",
   "metadata": {
    "tags": []
   },
   "source": [
    "Y la concateno con `X_mejor`, que es el dataframe que usé para mi modelo."
   ]
  },
  {
   "cell_type": "code",
   "execution_count": null,
   "id": "3c564f85-40c8-4eaa-ac1d-aaf0138399be",
   "metadata": {
    "tags": []
   },
   "outputs": [],
   "source": [
    "# Concatenar a lo largo de las columnas (uno al lado del otro)\n",
    "X_mejor2 = pd.concat([X_mejor, adicional], axis=1)\n",
    "print(X_mejor2.columns.tolist())"
   ]
  },
  {
   "cell_type": "markdown",
   "id": "a7a5f9e2-7705-4b15-8f19-78ef349d6e29",
   "metadata": {},
   "source": [
    "Revisando esta lista me doy cuenta que tengo `Inverse_Age` y `anyo_constr`, que pese a no tener un VIF alto cuentan lo mismo, por tanto eliminaré aquella que en el modelo mostró un p-valor mayor."
   ]
  },
  {
   "cell_type": "code",
   "execution_count": null,
   "id": "28ecf1ba-f143-47c2-af94-bc443a2aac58",
   "metadata": {
    "tags": []
   },
   "outputs": [],
   "source": [
    "X_mejor2 = X_mejor2.drop(['anyo_constr'],axis=1)\n",
    "print(X_mejor2.columns.tolist())"
   ]
  },
  {
   "cell_type": "markdown",
   "id": "3176ab5a-76da-44aa-a93c-7cd2ebb0e2a4",
   "metadata": {
    "tags": []
   },
   "source": [
    "Ahora veamos el modelo."
   ]
  },
  {
   "cell_type": "code",
   "execution_count": null,
   "id": "792b076e-44b1-423d-9f93-9a8a24fdbea1",
   "metadata": {
    "tags": []
   },
   "outputs": [],
   "source": [
    "#No necesito agregar una constante porque ya veo en el resultado anterior que está incluida\n",
    "\n",
    "# Crear el modelo de regresión lineal\n",
    "ols2 = sm.OLS(y, X_mejor2) #noten que seguimos pidiendole que use 'sm' \n",
    "\n",
    "# Ajustar el modelo a los datos\n",
    "results2 = ols2.fit()\n",
    "\n",
    "# Imprimir el resumen del modelo\n",
    "print(results2.summary())"
   ]
  },
  {
   "cell_type": "markdown",
   "id": "be011142-3f73-4ae0-b5e6-9c0682aab9ef",
   "metadata": {},
   "source": [
    "En este caso el modelo mejora ligeramente por ser pocas las variables que hemos manipulado. Pero ya será trabajo de ustedes jugar con más variables dependiendo de su análisis sobre la correlación con $y$.\n",
    "\n",
    "**Aquí ya tiene sentido que hagas un gráfico de correlación con estas variables**."
   ]
  },
  {
   "cell_type": "code",
   "execution_count": null,
   "id": "e05a91e4-db54-4a07-848e-3f234b9b89b5",
   "metadata": {
    "tags": []
   },
   "outputs": [],
   "source": [
    "import numpy as np\n",
    "import seaborn as sns\n",
    "import matplotlib.pyplot as plt\n",
    "from scipy.stats import pearsonr\n",
    "import pandas as pd\n",
    "\n",
    "# Calcular la matriz de correlación\n",
    "correlation_matrix = X_mejor2.corr()\n",
    "\n",
    "# Crear una máscara para las correlaciones significativas (p < 0.05)\n",
    "mask = np.abs(correlation_matrix) > 0.5  # Cambia el umbral según tu criterio\n",
    "\n",
    "# Crear un mapa de calor con seaborn\n",
    "plt.figure(figsize=(10, 8))\n",
    "sns.heatmap(correlation_matrix, mask=mask, cmap='viridis', annot=False, square=True)\n",
    "\n",
    "# Marcar correlaciones significativas con \"X\"\n",
    "for i in range(len(correlation_matrix)):\n",
    "    for j in range(len(correlation_matrix)):\n",
    "        if i < j and mask.iloc[i, j]:  # Comprobamos la máscara en el DataFrame\n",
    "            plt.text(j + 0.5, i + 0.5, 'X', ha='center', va='center', color='black')\n",
    "\n",
    "plt.title('Matriz de correlación')\n",
    "plt.show()"
   ]
  },
  {
   "cell_type": "code",
   "execution_count": null,
   "id": "8b26a266-41c7-4337-bb31-e83071952f6d",
   "metadata": {},
   "outputs": [],
   "source": []
  },
  {
   "cell_type": "markdown",
   "id": "e5deee4d-ff71-4d7b-b471-f2b81b0f2497",
   "metadata": {},
   "source": [
    "## 7.2. R$^2$"
   ]
  },
  {
   "cell_type": "markdown",
   "id": "6d378573-c9b9-46c2-b2d4-250ed2990e55",
   "metadata": {},
   "source": [
    "Otra manera de hacer los pasos sucesivos es pedirle a la computadora que busque aquella combinación de variables que de el R$^2$ más alto posible. Para ello es necesario usar otra librería, que también necesitan descargar una sola vez: `mlxtend`."
   ]
  },
  {
   "cell_type": "code",
   "execution_count": null,
   "id": "7e02d9aa-bcb2-4cc5-b058-23431a14584c",
   "metadata": {
    "collapsed": true,
    "jupyter": {
     "outputs_hidden": true
    },
    "tags": []
   },
   "outputs": [],
   "source": [
    "pip install mlxtend"
   ]
  },
  {
   "cell_type": "code",
   "execution_count": null,
   "id": "1670781e-b157-45ad-bd55-4a9c7809761c",
   "metadata": {
    "tags": []
   },
   "outputs": [],
   "source": [
    "from mlxtend.feature_selection import SequentialFeatureSelector as SFS\n",
    "from sklearn.linear_model import LinearRegression\n",
    "\n",
    "# Inicializa el selector de características stepwise forward\n",
    "sfs = SFS(LinearRegression(), k_features='best',forward=True, #si quieren el metodo backward colocan forward=False\n",
    "           floating=False, scoring='r2',cv=2)\n",
    "\n",
    "# Encuentra el mejor conjunto de características\n",
    "sfs = sfs.fit(X_buenvif2, y) ## noten que le pido que se fije en 'X_sig' ##\n",
    "\n",
    "# Muestra los resultados\n",
    "print('Mejor conjunto de características:')\n",
    "print(sfs.k_feature_names_)\n",
    "print('R^2:', sfs.k_score_)"
   ]
  },
  {
   "cell_type": "markdown",
   "id": "0eec0278-34a8-4f75-a473-9e90c1c10f73",
   "metadata": {},
   "source": [
    "Ahora creamos un objeto que tome en encuenta esas variables que nos indica el resultado y corremos el modelo para ver qué características tiene."
   ]
  },
  {
   "cell_type": "code",
   "execution_count": null,
   "id": "44c24d9a-41d2-47e7-809a-a7712b419077",
   "metadata": {
    "tags": []
   },
   "outputs": [],
   "source": [
    "X_mejor3=bdd[['opin_falta_aseo_pr', 'Year_1982_2006', 'Year_After_2007', 'EPC_E_emision_2023', 'H_loc_INE_XLOCS', 'Dist_CBD', 'local_industr_pr', 'interac_planta', 'edif_malo_pr', 'pr_agri_calificado', 'EPC_B_emision_2023', 'EPC_A_emision_2023', 'superficie_terraza_m2', 'local_cult_pr', 'EPC_C_emision_2023', 'EPC_D_emision_2023', 'Doorman_pr', 'local_agrar_pr', 'Estado_contemporaneidad_calidad', 'bool_calefaccion', 'bool_piscina_comunitaria', 'bool_aire_acondicionado', 'bool_jardin_comunitario', 'reform_inmob', 'calidad_cocina', 'bool_trastero', 'numero_aseo', 'bool_despacho', 'diseny_cocina', 'bool_chimenea']]\n",
    "\n",
    "##Aquí sí es necesario añadir una constante\n",
    "X_mejor3=sm.add_constant(X_mejor3)\n",
    "\n",
    "# Crear el modelo de regresión lineal\n",
    "ols3 = sm.OLS(y, X_mejor3) #noten que seguimos pidiendole que use 'sm' \n",
    "\n",
    "# Ajustar el modelo a los datos\n",
    "results3 = ols3.fit()\n",
    "\n",
    "# Imprimir el resumen del modelo\n",
    "print(results3.summary())"
   ]
  },
  {
   "cell_type": "markdown",
   "id": "78b68013-6cd2-4403-bbc0-e16f13fcb575",
   "metadata": {
    "tags": []
   },
   "source": [
    "Ahora vemos los gráficos para corroborar los supuestos."
   ]
  },
  {
   "cell_type": "code",
   "execution_count": null,
   "id": "03e48f3d-e277-45e6-9662-d9b330a721c9",
   "metadata": {
    "tags": []
   },
   "outputs": [],
   "source": [
    "# Calcular los residuos del modelo\n",
    "residuos3 = results3.resid # 'results' es como llamé al objeto que contiene los resultados de mi modelo \n",
    "                         # en la celda 29\n",
    "# Graficar los residuos\n",
    "plt.figure(figsize=(8, 6))\n",
    "plt.scatter(results.fittedvalues, residuos) # le indico que trabaje sobre 'results'\n",
    "plt.axhline(y=0, color='r', linestyle='--')\n",
    "plt.title('Gráfico de residuos')\n",
    "plt.xlabel('Valores ajustados')\n",
    "plt.ylabel('Residuos')\n",
    "plt.show()"
   ]
  },
  {
   "cell_type": "code",
   "execution_count": null,
   "id": "447c805e-0a6f-4f17-8240-e04fc5200ed1",
   "metadata": {
    "tags": []
   },
   "outputs": [],
   "source": [
    "plt.figure(figsize=(8, 6))\n",
    "plt.hist(residuos3, ## revisar 'residuos' ## \n",
    "         bins=30, density=True, alpha=0.6, color='b')\n",
    "plt.title('Histograma de los errores')\n",
    "plt.xlabel('Errores')\n",
    "plt.ylabel('Densidad')\n",
    "plt.grid(True)\n",
    "plt.show()"
   ]
  },
  {
   "cell_type": "code",
   "execution_count": null,
   "id": "9beb6c34-907d-4c9f-8bdc-ffae96ef5892",
   "metadata": {
    "tags": []
   },
   "outputs": [],
   "source": [
    "# Calcular los residuos estandarizados\n",
    "residuos_estandarizados = results3.get_influence().resid_studentized_internal ## revisar 'mod_antiguo' ##\n",
    "\n",
    "# Calcular la distribución acumulativa de los residuos estandarizados\n",
    "distribucion_acumulativa = stats.probplot(residuos_estandarizados, dist=\"norm\", plot=plt)\n",
    "\n",
    "# Personalizar el gráfico\n",
    "plt.title('Gráfico P-P normal de residuos estandarizados')\n",
    "plt.xlabel('Cuantiles teóricos')\n",
    "plt.ylabel('Cuantiles de los residuos estandarizados')\n",
    "plt.grid(True)\n",
    "plt.show()"
   ]
  },
  {
   "cell_type": "markdown",
   "id": "cd0df471-8c3c-494f-8478-b48eecbf9c8a",
   "metadata": {},
   "source": [
    "Por la revisión de supuestos también veo que es un buen modelo. Si esta versión les convence más, podrían una vez más revisar las correlaciones (que ya he mostrado como exportar a Excel en el apartado 7.1) para ver qué variables pueden añadir manualmente a este modelo base. "
   ]
  }
 ],
 "metadata": {
  "kernelspec": {
   "display_name": "Python 3 (ipykernel)",
   "language": "python",
   "name": "python3"
  },
  "language_info": {
   "codemirror_mode": {
    "name": "ipython",
    "version": 3
   },
   "file_extension": ".py",
   "mimetype": "text/x-python",
   "name": "python",
   "nbconvert_exporter": "python",
   "pygments_lexer": "ipython3",
   "version": "3.11.5"
  }
 },
 "nbformat": 4,
 "nbformat_minor": 5
}
