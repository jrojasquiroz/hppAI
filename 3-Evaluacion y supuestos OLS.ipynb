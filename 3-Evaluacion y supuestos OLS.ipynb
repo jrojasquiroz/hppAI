{
 "cells": [
  {
   "cell_type": "markdown",
   "id": "39f8323e-35e6-49ff-9246-e6e6424198de",
   "metadata": {
    "tags": []
   },
   "source": [
    "# 3. Evaluación de un modelo OLS y supuestos a cumplir"
   ]
  },
  {
   "cell_type": "code",
   "execution_count": 1,
   "id": "16932ce0-be93-451d-9ccd-d19270e7735f",
   "metadata": {
    "tags": []
   },
   "outputs": [],
   "source": [
    "import matplotlib.pyplot as plt #para gráficos\n",
    "import statsmodels.api as sm #para modelos\n",
    "import pandas as pd\n",
    "from statsmodels.stats.outliers_influence import variance_inflation_factor #para calcular el VIF\n",
    "import scipy.stats as stats #para calcular los residuos estandarizados\n",
    "from sklearn.metrics import mean_squared_error #para calcular el MSE\n",
    "import numpy as np"
   ]
  },
  {
   "cell_type": "code",
   "execution_count": 2,
   "id": "9fe180b6-3989-4cdf-8957-46fc67d0eff6",
   "metadata": {
    "jupyter": {
     "source_hidden": true
    },
    "tags": []
   },
   "outputs": [
    {
     "data": {
      "text/plain": [
       "{'python': '3.11.5 | packaged by Anaconda, Inc. | (main, Sep 11 2023, 13:26:23) [MSC v.1916 64 bit (AMD64)]',\n",
       " 'jupyterlab': '3.6.3',\n",
       " 'pandas': '2.0.3',\n",
       " 'numpy': '1.24.3',\n",
       " 'statsmodels': '0.14.0',\n",
       " 'matplotlib': '3.7.2',\n",
       " 'sklearn': '1.3.0',\n",
       " 'scipy': '1.11.1'}"
      ]
     },
     "execution_count": 2,
     "metadata": {},
     "output_type": "execute_result"
    }
   ],
   "source": [
    "import matplotlib\n",
    "import statsmodels\n",
    "import scipy\n",
    "import sklearn\n",
    "import sys\n",
    "\n",
    "# Function to get the version of JupyterLab\n",
    "def get_jupyterlab_version():\n",
    "    try:\n",
    "        import jupyterlab\n",
    "        return jupyterlab.__version__\n",
    "    except ImportError:\n",
    "        return 'Not Installed'\n",
    "    \n",
    "library_versions = {\n",
    "    \"python\": sys.version,\n",
    "    \"jupyterlab\": get_jupyterlab_version(),\n",
    "    \"pandas\": pd.__version__,\n",
    "    \"numpy\": np.__version__,\n",
    "    \"statsmodels\": sm.__version__,\n",
    "    \"matplotlib\": matplotlib.__version__,\n",
    "    \"sklearn\": sklearn.__version__,  # Add this line\n",
    "    \"scipy\": scipy.__version__,\n",
    "}\n",
    "\n",
    "library_versions"
   ]
  },
  {
   "cell_type": "markdown",
   "id": "48d1041f-e14b-43d8-acc3-aff948b51927",
   "metadata": {
    "tags": []
   },
   "source": [
    "## 3.1. Cargamos el modelo obtenido"
   ]
  },
  {
   "cell_type": "code",
   "execution_count": 2,
   "id": "74477682-64ab-4477-bf17-4512ea227880",
   "metadata": {
    "tags": []
   },
   "outputs": [],
   "source": [
    "mod_antiguo = sm.load('modelos/clases/modeloOLS_c1.pkl')"
   ]
  },
  {
   "cell_type": "code",
   "execution_count": 3,
   "id": "1525af8c-eda0-467f-bd06-fdc542720997",
   "metadata": {
    "tags": []
   },
   "outputs": [
    {
     "name": "stdout",
     "output_type": "stream",
     "text": [
      "                            OLS Regression Results                            \n",
      "==============================================================================\n",
      "Dep. Variable:              SalePrice   R-squared:                       0.674\n",
      "Model:                            OLS   Adj. R-squared:                  0.672\n",
      "Method:                 Least Squares   F-statistic:                     358.8\n",
      "Date:                Wed, 13 Mar 2024   Prob (F-statistic):               0.00\n",
      "Time:                        17:17:21   Log-Likelihood:                -16575.\n",
      "No. Observations:                1399   AIC:                         3.317e+04\n",
      "Df Residuals:                    1390   BIC:                         3.322e+04\n",
      "Df Model:                           8                                         \n",
      "Covariance Type:            nonrobust                                         \n",
      "================================================================================\n",
      "                   coef    std err          t      P>|t|      [0.025      0.975]\n",
      "--------------------------------------------------------------------------------\n",
      "const        -9.912e+05   1.38e+06     -0.719      0.472   -3.69e+06    1.71e+06\n",
      "YearBuilt      839.0413     40.215     20.864      0.000     760.153     917.930\n",
      "2ndFlrSF       -20.4224      3.781     -5.401      0.000     -27.840     -13.005\n",
      "GrLivArea       89.7873      3.863     23.244      0.000      82.210      97.365\n",
      "FullBath      3397.8437   2633.955      1.290      0.197   -1769.112    8564.799\n",
      "HalfBath      -950.0014   2634.194     -0.361      0.718   -6117.426    4217.424\n",
      "BedroomAbvGr -8098.6069   1616.196     -5.011      0.000   -1.13e+04   -4928.160\n",
      "TotRmsAbvGrd   369.5097   1202.816      0.307      0.759   -1990.022    2729.041\n",
      "YrSold        -299.3928    684.212     -0.438      0.662   -1641.592    1042.806\n",
      "==============================================================================\n",
      "Omnibus:                      585.271   Durbin-Watson:                   2.021\n",
      "Prob(Omnibus):                  0.000   Jarque-Bera (JB):            20326.648\n",
      "Skew:                          -1.279   Prob(JB):                         0.00\n",
      "Kurtosis:                      21.498   Cond. No.                     4.87e+06\n",
      "==============================================================================\n",
      "\n",
      "Notes:\n",
      "[1] Standard Errors assume that the covariance matrix of the errors is correctly specified.\n",
      "[2] The condition number is large, 4.87e+06. This might indicate that there are\n",
      "strong multicollinearity or other numerical problems.\n"
     ]
    }
   ],
   "source": [
    "print(mod_antiguo.summary())"
   ]
  },
  {
   "cell_type": "markdown",
   "id": "e291eeb0-4945-4a40-be31-5a5221d9cb78",
   "metadata": {
    "tags": []
   },
   "source": [
    "## 3.2. Capacidad de explicación e impacto de variables"
   ]
  },
  {
   "cell_type": "markdown",
   "id": "9ded1825-ea1c-412a-b341-d115a23b4fb5",
   "metadata": {
    "tags": []
   },
   "source": [
    "### 3.2.1. Raíz del Error Cuadrático Medio (RMSE)"
   ]
  },
  {
   "cell_type": "markdown",
   "id": "96853500-9405-4950-b271-5db71e997431",
   "metadata": {},
   "source": [
    "El RMSE es una medida de la diferencia promedio entre los valores reales y las predicciones del modelo, en la misma unidad que los datos originales. Cuanto menor sea el valor del RMSE, mejor será la capacidad predictiva del modelo."
   ]
  },
  {
   "cell_type": "markdown",
   "id": "59191945-5c4d-4ddd-a244-6b113e0e3bb1",
   "metadata": {},
   "source": [
    "Primero, importemos nuestros datos."
   ]
  },
  {
   "cell_type": "code",
   "execution_count": 4,
   "id": "034e59d7-f276-43c5-b3ee-e7d33aec6da3",
   "metadata": {
    "tags": []
   },
   "outputs": [
    {
     "name": "stdout",
     "output_type": "stream",
     "text": [
      "<class 'pandas.core.frame.DataFrame'>\n",
      "RangeIndex: 1399 entries, 0 to 1398\n",
      "Data columns (total 9 columns):\n",
      " #   Column        Non-Null Count  Dtype\n",
      "---  ------        --------------  -----\n",
      " 0   YearBuilt     1399 non-null   int64\n",
      " 1   2ndFlrSF      1399 non-null   int64\n",
      " 2   GrLivArea     1399 non-null   int64\n",
      " 3   FullBath      1399 non-null   int64\n",
      " 4   HalfBath      1399 non-null   int64\n",
      " 5   BedroomAbvGr  1399 non-null   int64\n",
      " 6   TotRmsAbvGrd  1399 non-null   int64\n",
      " 7   YrSold        1399 non-null   int64\n",
      " 8   SalePrice     1399 non-null   int64\n",
      "dtypes: int64(9)\n",
      "memory usage: 98.5 KB\n"
     ]
    }
   ],
   "source": [
    "#Importo el archivo que usé\n",
    "bdd_usada=pd.read_csv('data/clases/HousingPrices_Filtered_C1.csv')\n",
    "bdd_usada.info()"
   ]
  },
  {
   "cell_type": "markdown",
   "id": "b62ef475-aadd-4b4c-9d1f-fa52bc009701",
   "metadata": {},
   "source": [
    "En el cuaderno anterior, si al guardar mi archivo filtrado no hubiera escrito `index=False`, ahora tendría una columna llamada `Unnamed: 0` en mi *dataframe*. Y tendríamos que ponernos a editar el *dataframe* para eliminarlo."
   ]
  },
  {
   "cell_type": "markdown",
   "id": "a29071c3-7027-4d72-911c-00fa4b1afbb4",
   "metadata": {},
   "source": [
    "¿Qué creen que necesitamos para encontrar los errores? Si ya teníamos nuestro modelo con una constante y un coeficiente, sólo nos faltaría aplicarlo a nuestros valores reales del *dataframe* para compararlos."
   ]
  },
  {
   "cell_type": "markdown",
   "id": "247f57d9-684c-4a77-9147-a367b33e7385",
   "metadata": {},
   "source": [
    "Empecemos creando objetos para indicarle a Python cuáles son mis *X* y mis *Y*."
   ]
  },
  {
   "cell_type": "code",
   "execution_count": 5,
   "id": "c3ba9b04-52ca-47af-98a1-bbc418f3c5c0",
   "metadata": {
    "tags": []
   },
   "outputs": [],
   "source": [
    "X=bdd_usada.drop(['SalePrice'],axis=1)\n",
    "y=bdd_usada['SalePrice']"
   ]
  },
  {
   "cell_type": "markdown",
   "id": "2e322cfa-6282-4885-9da9-a8dfb19c18f8",
   "metadata": {},
   "source": [
    "A mis *X* les añado una constante. Recuerden que nuestro modelo tiene una."
   ]
  },
  {
   "cell_type": "code",
   "execution_count": 6,
   "id": "5154c1b0-4075-44a8-b8fe-4b662aae865d",
   "metadata": {
    "tags": []
   },
   "outputs": [],
   "source": [
    "X = sm.add_constant(X) #es una función de la libería 'sm'"
   ]
  },
  {
   "cell_type": "code",
   "execution_count": 7,
   "id": "740af05e-63c3-4e49-9c3b-a5e05c7269e9",
   "metadata": {
    "tags": []
   },
   "outputs": [
    {
     "data": {
      "text/html": [
       "<div>\n",
       "<style scoped>\n",
       "    .dataframe tbody tr th:only-of-type {\n",
       "        vertical-align: middle;\n",
       "    }\n",
       "\n",
       "    .dataframe tbody tr th {\n",
       "        vertical-align: top;\n",
       "    }\n",
       "\n",
       "    .dataframe thead th {\n",
       "        text-align: right;\n",
       "    }\n",
       "</style>\n",
       "<table border=\"1\" class=\"dataframe\">\n",
       "  <thead>\n",
       "    <tr style=\"text-align: right;\">\n",
       "      <th></th>\n",
       "      <th>const</th>\n",
       "      <th>YearBuilt</th>\n",
       "      <th>2ndFlrSF</th>\n",
       "      <th>GrLivArea</th>\n",
       "      <th>FullBath</th>\n",
       "      <th>HalfBath</th>\n",
       "      <th>BedroomAbvGr</th>\n",
       "      <th>TotRmsAbvGrd</th>\n",
       "      <th>YrSold</th>\n",
       "    </tr>\n",
       "  </thead>\n",
       "  <tbody>\n",
       "    <tr>\n",
       "      <th>0</th>\n",
       "      <td>1.0</td>\n",
       "      <td>2003</td>\n",
       "      <td>854</td>\n",
       "      <td>1710</td>\n",
       "      <td>2</td>\n",
       "      <td>1</td>\n",
       "      <td>3</td>\n",
       "      <td>8</td>\n",
       "      <td>2008</td>\n",
       "    </tr>\n",
       "    <tr>\n",
       "      <th>1</th>\n",
       "      <td>1.0</td>\n",
       "      <td>1976</td>\n",
       "      <td>0</td>\n",
       "      <td>1262</td>\n",
       "      <td>2</td>\n",
       "      <td>0</td>\n",
       "      <td>3</td>\n",
       "      <td>6</td>\n",
       "      <td>2007</td>\n",
       "    </tr>\n",
       "    <tr>\n",
       "      <th>2</th>\n",
       "      <td>1.0</td>\n",
       "      <td>2001</td>\n",
       "      <td>866</td>\n",
       "      <td>1786</td>\n",
       "      <td>2</td>\n",
       "      <td>1</td>\n",
       "      <td>3</td>\n",
       "      <td>6</td>\n",
       "      <td>2008</td>\n",
       "    </tr>\n",
       "    <tr>\n",
       "      <th>3</th>\n",
       "      <td>1.0</td>\n",
       "      <td>1915</td>\n",
       "      <td>756</td>\n",
       "      <td>1717</td>\n",
       "      <td>1</td>\n",
       "      <td>0</td>\n",
       "      <td>3</td>\n",
       "      <td>7</td>\n",
       "      <td>2006</td>\n",
       "    </tr>\n",
       "    <tr>\n",
       "      <th>4</th>\n",
       "      <td>1.0</td>\n",
       "      <td>2000</td>\n",
       "      <td>1053</td>\n",
       "      <td>2198</td>\n",
       "      <td>2</td>\n",
       "      <td>1</td>\n",
       "      <td>4</td>\n",
       "      <td>9</td>\n",
       "      <td>2008</td>\n",
       "    </tr>\n",
       "    <tr>\n",
       "      <th>...</th>\n",
       "      <td>...</td>\n",
       "      <td>...</td>\n",
       "      <td>...</td>\n",
       "      <td>...</td>\n",
       "      <td>...</td>\n",
       "      <td>...</td>\n",
       "      <td>...</td>\n",
       "      <td>...</td>\n",
       "      <td>...</td>\n",
       "    </tr>\n",
       "    <tr>\n",
       "      <th>1394</th>\n",
       "      <td>1.0</td>\n",
       "      <td>1999</td>\n",
       "      <td>694</td>\n",
       "      <td>1647</td>\n",
       "      <td>2</td>\n",
       "      <td>1</td>\n",
       "      <td>3</td>\n",
       "      <td>7</td>\n",
       "      <td>2007</td>\n",
       "    </tr>\n",
       "    <tr>\n",
       "      <th>1395</th>\n",
       "      <td>1.0</td>\n",
       "      <td>1978</td>\n",
       "      <td>0</td>\n",
       "      <td>2073</td>\n",
       "      <td>2</td>\n",
       "      <td>0</td>\n",
       "      <td>3</td>\n",
       "      <td>7</td>\n",
       "      <td>2010</td>\n",
       "    </tr>\n",
       "    <tr>\n",
       "      <th>1396</th>\n",
       "      <td>1.0</td>\n",
       "      <td>1941</td>\n",
       "      <td>1152</td>\n",
       "      <td>2340</td>\n",
       "      <td>2</td>\n",
       "      <td>0</td>\n",
       "      <td>4</td>\n",
       "      <td>9</td>\n",
       "      <td>2010</td>\n",
       "    </tr>\n",
       "    <tr>\n",
       "      <th>1397</th>\n",
       "      <td>1.0</td>\n",
       "      <td>1950</td>\n",
       "      <td>0</td>\n",
       "      <td>1078</td>\n",
       "      <td>1</td>\n",
       "      <td>0</td>\n",
       "      <td>2</td>\n",
       "      <td>5</td>\n",
       "      <td>2010</td>\n",
       "    </tr>\n",
       "    <tr>\n",
       "      <th>1398</th>\n",
       "      <td>1.0</td>\n",
       "      <td>1965</td>\n",
       "      <td>0</td>\n",
       "      <td>1256</td>\n",
       "      <td>1</td>\n",
       "      <td>1</td>\n",
       "      <td>3</td>\n",
       "      <td>6</td>\n",
       "      <td>2008</td>\n",
       "    </tr>\n",
       "  </tbody>\n",
       "</table>\n",
       "<p>1399 rows × 9 columns</p>\n",
       "</div>"
      ],
      "text/plain": [
       "      const  YearBuilt  2ndFlrSF  GrLivArea  FullBath  HalfBath  BedroomAbvGr  \\\n",
       "0       1.0       2003       854       1710         2         1             3   \n",
       "1       1.0       1976         0       1262         2         0             3   \n",
       "2       1.0       2001       866       1786         2         1             3   \n",
       "3       1.0       1915       756       1717         1         0             3   \n",
       "4       1.0       2000      1053       2198         2         1             4   \n",
       "...     ...        ...       ...        ...       ...       ...           ...   \n",
       "1394    1.0       1999       694       1647         2         1             3   \n",
       "1395    1.0       1978         0       2073         2         0             3   \n",
       "1396    1.0       1941      1152       2340         2         0             4   \n",
       "1397    1.0       1950         0       1078         1         0             2   \n",
       "1398    1.0       1965         0       1256         1         1             3   \n",
       "\n",
       "      TotRmsAbvGrd  YrSold  \n",
       "0                8    2008  \n",
       "1                6    2007  \n",
       "2                6    2008  \n",
       "3                7    2006  \n",
       "4                9    2008  \n",
       "...            ...     ...  \n",
       "1394             7    2007  \n",
       "1395             7    2010  \n",
       "1396             9    2010  \n",
       "1397             5    2010  \n",
       "1398             6    2008  \n",
       "\n",
       "[1399 rows x 9 columns]"
      ]
     },
     "execution_count": 7,
     "metadata": {},
     "output_type": "execute_result"
    }
   ],
   "source": [
    "#Reviso que esté en orden\n",
    "X"
   ]
  },
  {
   "cell_type": "markdown",
   "id": "7939b8b5-cc44-461b-b43a-df90f86427ec",
   "metadata": {},
   "source": [
    "Ahora sí calculo el RMSE"
   ]
  },
  {
   "cell_type": "code",
   "execution_count": 8,
   "id": "02520bb9-4faa-4c16-941e-96c29d613b40",
   "metadata": {
    "tags": []
   },
   "outputs": [
    {
     "data": {
      "text/plain": [
       "33821.01127443376"
      ]
     },
     "execution_count": 8,
     "metadata": {},
     "output_type": "execute_result"
    }
   ],
   "source": [
    "# Hacer predicciones con el modelo\n",
    "predicciones = mod_antiguo.predict(X)\n",
    "\n",
    "# Calcular el MSE\n",
    "mse = mean_squared_error(y, predicciones) #mean_squared_error ya es una función predefinida de 'sm'\n",
    "\n",
    "#Ahora el RMSE\n",
    "rmse = np.sqrt(mse) #usamos numpy (cargada como 'np' al inicio) para sacar la raíz cuadrada\n",
    "\n",
    "#Le pido que me muestre cuál es el valor\n",
    "rmse "
   ]
  },
  {
   "cell_type": "markdown",
   "id": "5dedde11-aaef-4663-92a7-a06bbed98d1c",
   "metadata": {},
   "source": [
    "En este caso, podemos decir que **estamos alejados US$ 33.821 del valor real** de las viviendas de nuestros datos."
   ]
  },
  {
   "cell_type": "markdown",
   "id": "5d1a8133-4afa-4d21-a9ff-1edcff5d4c5d",
   "metadata": {
    "tags": []
   },
   "source": [
    "### 3.2.2. $R^2$"
   ]
  },
  {
   "cell_type": "markdown",
   "id": "86b56349-2d3b-46d0-b98c-04a19bdd0ecf",
   "metadata": {
    "tags": []
   },
   "source": [
    "El $R^2$ es la medida estadística de **qué tan cerca están los datos de la línea de regresión**. También se conoce como coeficiente de determinación, mide cuánta varianza en la variable Y es explicada por todas nuestras X.\n",
    "\n",
    "En términos sencillos, **qué porcentaje de Y nos permite explicar nuestro modelo**. Cuando estamos tratando de estimar o predecir un valor, es un valor importante.\n",
    "\n",
    "En nuestro modelo, su valor es de 67.4%."
   ]
  },
  {
   "cell_type": "markdown",
   "id": "0062c4a3-2a5e-4954-9d96-2da9aba19718",
   "metadata": {
    "tags": []
   },
   "source": [
    "### 3.2.3. Los p-valores"
   ]
  },
  {
   "cell_type": "markdown",
   "id": "30dc07e8-9292-4c16-bf59-0755c5fed4dc",
   "metadata": {},
   "source": [
    "Es lo que aparece en nuestra tabla como `P>|t|`. Se refiere a la significancia estadística de los coeficientes de las variables X. \n",
    "\n",
    "Dicho de otro modo, nos indican qué tan confiables son esos coeficientes, y, por tanto, esas variables. Se asume que **si su valor es menor a 0.05, el coeficiente es estadísticamente significativo**. Cuando se hacen modelos de precios hedónicos, se prefiere que sólo se tomen en cuenta variables que cumplen con esta característica.\n",
    "\n",
    "En nuestro modelo, `FullBath`, `HalfBath`, `TotRmsAbvGrd` y `YrSold` no tienen coeficientes signifativos, por lo que no podemos 'confiar' en ellas."
   ]
  },
  {
   "cell_type": "markdown",
   "id": "97ad1b67-21d0-42c4-985b-72baeb04da69",
   "metadata": {
    "tags": []
   },
   "source": [
    "## 3.3. Supuestos a cumplir"
   ]
  },
  {
   "cell_type": "markdown",
   "id": "8f342710-798e-4300-a95d-a13ba70b0cfb",
   "metadata": {},
   "source": [
    "Más allá de qué tan bueno sea un modelo a partir de lo revisado en el apartado anterior, es necesario que estén muy seguros/as de que cumpla con algunos supuestos.\n",
    "\n",
    "Como les comenté al inicio, hemos elaborado un modelo de regresión OLS. Este tipo de modelos requieren que se cumpla con lo siguiente:"
   ]
  },
  {
   "cell_type": "markdown",
   "id": "78288db8-78fb-4017-bf13-c46b39f56956",
   "metadata": {
    "tags": []
   },
   "source": [
    "### 3.3.1. Linealidad de los datos"
   ]
  },
  {
   "cell_type": "markdown",
   "id": "3de92874-ffff-40fe-b51d-d7107bdc3e2a",
   "metadata": {},
   "source": [
    "Se espera una relación lineal $X$ e $y$. Esto es sencillo de ver a través de un gráfico de dispersión cuando tenemos una regresión lineal simple (una $X$ y una $y$), pero en el caso de una regresión lineal múltiple usualmente se utilizan los *gráficos de residuos*. Idealmente, en este gráfico no se va a observar ningún patrón claro de relación entre el eje vertical y horizontal. Si no fuese así, **se recomienda transformar las variables** ($\\log(X)$, $\\sqrt{X}$, $X^2$).\n",
    "\n",
    "Esta transformación suele hacerse primero en la variable a estimar ($y$), y si aún así el modelo sigue presentando errores, se puede hacer en las variables independientes. Ten en cuenta que eso implicará una [interpretación distinta de los coeficientes del modelo](https://economipedia.com/definiciones/logaritmos-en-econometria.html)."
   ]
  },
  {
   "cell_type": "markdown",
   "id": "63127977-2c89-4d34-bc5d-3b3045a456e2",
   "metadata": {
    "tags": []
   },
   "source": [
    "### 3.3.2. Homosedasticidad"
   ]
  },
  {
   "cell_type": "markdown",
   "id": "8e0fbdc3-3a69-4e57-b03a-207a988f7f30",
   "metadata": {},
   "source": [
    "En términos sencillos, la homocedasticidad significa que la variabilidad de los errores (o residuos) de un modelo estadístico es constante en todas las posibles combinaciones de valores de las variables independientes.\n",
    "\n",
    "Si estuviéramos construyendo un modelo de regresión para predecir el precio de pisos basado únicamente en su superficie, la homocedasticidad implicaría que, sin importar el tamaño de la casa, la variabilidad en los errores del modelo es constante. En otras palabras, los errores no se vuelven más grandes ni más pequeños a medida que cambia el tamaño de la casa.\n",
    "\n",
    "Esto también se puede observar con el *gráfico de residuos*: si los residuos están distribuidos uniformemente alrededor de la línea horizontal en $y$=0, esto sugiere que la varianza de los errores es constante a lo largo de los valores ajustados.\n",
    "\n",
    "Tengan en cuenta que la homosedasticidad (aquello que **sí buscamos**) es lo contrario de la heterosedasticidad."
   ]
  },
  {
   "cell_type": "code",
   "execution_count": 9,
   "id": "af18d57e-08c0-4d3c-b722-4270ea4c4b7c",
   "metadata": {
    "tags": []
   },
   "outputs": [
    {
     "data": {
      "image/png": "[encoded data removed]",
      "text/plain": [
       "<Figure size 800x600 with 1 Axes>"
      ]
     },
     "metadata": {},
     "output_type": "display_data"
    }
   ],
   "source": [
    "# Calcular los residuos del modelo\n",
    "residuos = mod_antiguo.resid ## 'mod_antiguo' es como llamé a mi modelo al cargarlo ##\n",
    "\n",
    "# Graficar los residuos\n",
    "plt.figure(figsize=(8, 6))\n",
    "plt.scatter(mod_antiguo.fittedvalues, residuos) ## revisa 'mod_antiguo' ##\n",
    "plt.axhline(y=0, color='r', linestyle='--')\n",
    "plt.title('Gráfico de residuos')\n",
    "plt.xlabel('Valores ajustados')\n",
    "plt.ylabel('Residuos')\n",
    "plt.show()"
   ]
  },
  {
   "cell_type": "markdown",
   "id": "c5b64643-c7d7-4b83-b7a1-d137a9e57771",
   "metadata": {
    "tags": []
   },
   "source": [
    "#### 3.3.2.1. Detección de outliers"
   ]
  },
  {
   "cell_type": "markdown",
   "id": "bd7062ec-b080-41e0-9260-0a81826d005b",
   "metadata": {
    "tags": []
   },
   "source": [
    "Si bien los resultados del gráfico nos indican que tenemos linealidad en los datos y también cumplimos con el supuesto de homosedasticidad, notamos que existen dos outliers: aquellos que tienen un error menor de US$ -250.000. Si bien podríamos pensar que al ser sólo dos no tienen un gran impacto en nuestro modelo, sí \"fastidian\" nuestro error. Por tanto, idealmente deberíamos quitarlos y volver a correr el modelo."
   ]
  },
  {
   "cell_type": "code",
   "execution_count": 17,
   "id": "04db9cf8-c5a7-4e4d-9a44-7bc568c5771b",
   "metadata": {
    "tags": []
   },
   "outputs": [
    {
     "data": {
      "text/plain": [
       "0        -318.565692\n",
       "1       17609.123625\n",
       "2       10519.772420\n",
       "3        4605.722838\n",
       "4       11675.527163\n",
       "            ...     \n",
       "1455   -28003.273097\n",
       "1456   -27857.770227\n",
       "1457    66599.772302\n",
       "1458    13136.979924\n",
       "1459    -1975.460941\n",
       "Length: 1399, dtype: float64"
      ]
     },
     "execution_count": 17,
     "metadata": {},
     "output_type": "execute_result"
    }
   ],
   "source": [
    "#Noten que llamé 'residuos' al objeto que \n",
    "#contiene los residuos de mi modelo en la celda anterior \n",
    "residuos"
   ]
  },
  {
   "cell_type": "markdown",
   "id": "92cc0604-2b28-41f0-ba9d-8f2ae2c5eea3",
   "metadata": {},
   "source": [
    "¡Noten para qué nos sirve el índice! Si ahora filtramos aquellos valores por debajo de US$ -250.000, podemos saber qué filas son los outliers."
   ]
  },
  {
   "cell_type": "code",
   "execution_count": 11,
   "id": "3cee15ef-7f07-403c-a722-cf43277a2a42",
   "metadata": {
    "tags": []
   },
   "outputs": [
    {
     "data": {
      "text/plain": [
       "[(498, -284570.61729873205), (1241, -405574.82405305805)]"
      ]
     },
     "execution_count": 11,
     "metadata": {},
     "output_type": "execute_result"
    }
   ],
   "source": [
    "outliers2= [(indice, valor) for \n",
    "            indice, valor in enumerate(residuos) ## revisar 'residuos' ##\n",
    "            if valor < -250000]\n",
    "\n",
    "outliers2"
   ]
  },
  {
   "cell_type": "markdown",
   "id": "9c9644f9-6a49-49d9-876f-c32fc1d90e14",
   "metadata": {
    "tags": []
   },
   "source": [
    "Revisamos el *dataframe* que usamos para el modelo. Ya lo habíamos cargado en los pasos anteriores de este cuaderno."
   ]
  },
  {
   "cell_type": "code",
   "execution_count": 12,
   "id": "0a85ffa2-664a-43bf-bbb9-aeac7fda92be",
   "metadata": {
    "tags": []
   },
   "outputs": [
    {
     "name": "stdout",
     "output_type": "stream",
     "text": [
      "<class 'pandas.core.frame.DataFrame'>\n",
      "RangeIndex: 1399 entries, 0 to 1398\n",
      "Data columns (total 9 columns):\n",
      " #   Column        Non-Null Count  Dtype\n",
      "---  ------        --------------  -----\n",
      " 0   YearBuilt     1399 non-null   int64\n",
      " 1   2ndFlrSF      1399 non-null   int64\n",
      " 2   GrLivArea     1399 non-null   int64\n",
      " 3   FullBath      1399 non-null   int64\n",
      " 4   HalfBath      1399 non-null   int64\n",
      " 5   BedroomAbvGr  1399 non-null   int64\n",
      " 6   TotRmsAbvGrd  1399 non-null   int64\n",
      " 7   YrSold        1399 non-null   int64\n",
      " 8   SalePrice     1399 non-null   int64\n",
      "dtypes: int64(9)\n",
      "memory usage: 98.5 KB\n"
     ]
    }
   ],
   "source": [
    "bdd_usada.info()"
   ]
  },
  {
   "cell_type": "markdown",
   "id": "b0a32e88-6dd4-45a5-b35a-b40061bc7855",
   "metadata": {},
   "source": [
    "Noten que tenemos 1399 filas, con un índice que va desde 0 a 1398. Quitemos de una vez esos dos outliers."
   ]
  },
  {
   "cell_type": "code",
   "execution_count": 13,
   "id": "7c46478e-8131-441e-8b66-75eb80ed2e10",
   "metadata": {
    "tags": []
   },
   "outputs": [
    {
     "name": "stdout",
     "output_type": "stream",
     "text": [
      "<class 'pandas.core.frame.DataFrame'>\n",
      "Index: 1397 entries, 0 to 1398\n",
      "Data columns (total 9 columns):\n",
      " #   Column        Non-Null Count  Dtype\n",
      "---  ------        --------------  -----\n",
      " 0   YearBuilt     1397 non-null   int64\n",
      " 1   2ndFlrSF      1397 non-null   int64\n",
      " 2   GrLivArea     1397 non-null   int64\n",
      " 3   FullBath      1397 non-null   int64\n",
      " 4   HalfBath      1397 non-null   int64\n",
      " 5   BedroomAbvGr  1397 non-null   int64\n",
      " 6   TotRmsAbvGrd  1397 non-null   int64\n",
      " 7   YrSold        1397 non-null   int64\n",
      " 8   SalePrice     1397 non-null   int64\n",
      "dtypes: int64(9)\n",
      "memory usage: 109.1 KB\n"
     ]
    }
   ],
   "source": [
    "nueva_bdd = bdd_usada.drop([498,1241], axis=0) ## revisar 'nueva_bdd' ## \n",
    "                                               #axis 0 son filas\n",
    "nueva_bdd.info()"
   ]
  },
  {
   "cell_type": "markdown",
   "id": "53dce5e5-64be-4555-a6d3-9021a8bbb8b5",
   "metadata": {},
   "source": [
    "A partir de aquí podríamos guardar la nueva base de datos y volver a correr el modelo."
   ]
  },
  {
   "cell_type": "markdown",
   "id": "79401de3-f280-468c-bbf9-5bde1abe2f0a",
   "metadata": {
    "tags": []
   },
   "source": [
    "### 3.3.3. Normalidad de los errores"
   ]
  },
  {
   "cell_type": "markdown",
   "id": "330f8be5-811d-4024-b40b-2b53346b0fd2",
   "metadata": {},
   "source": [
    "Suponer que los errores tienen una distribución normal ayuda a que el modelo se ajuste bien a los datos reales. Esto significa que los valores reales tienden a estar cerca de los valores predichos por el modelo en la mayoría de los casos."
   ]
  },
  {
   "cell_type": "code",
   "execution_count": 14,
   "id": "88699506-3253-464b-b0b7-846eb2b1f373",
   "metadata": {
    "tags": []
   },
   "outputs": [
    {
     "data": {
      "image/png": "[encoded data removed]",
      "text/plain": [
       "<Figure size 800x600 with 1 Axes>"
      ]
     },
     "metadata": {},
     "output_type": "display_data"
    }
   ],
   "source": [
    "plt.figure(figsize=(8, 6))\n",
    "plt.hist(residuos, ## revisar 'residuos' ## \n",
    "         bins=30, density=True, alpha=0.6, color='b')\n",
    "plt.title('Histograma de los errores')\n",
    "plt.xlabel('Errores')\n",
    "plt.ylabel('Densidad')\n",
    "plt.grid(True)\n",
    "plt.show()"
   ]
  },
  {
   "cell_type": "markdown",
   "id": "704fe00f-6847-4609-8cf7-cca174f9afe3",
   "metadata": {},
   "source": [
    "El gráfico nos muestra una distribución normal, pero con datos que lo distorsionan hacia la izquierda. ¿Adivinen cuáles son? Los outliers que encontramos hace un rato.\n",
    "\n",
    "Usualmente, se suele complementar con la generación del siguiente gráfico:"
   ]
  },
  {
   "cell_type": "code",
   "execution_count": 15,
   "id": "ecbc70f1-ccda-460b-97fa-6d857cd42830",
   "metadata": {
    "tags": []
   },
   "outputs": [
    {
     "data": {
      "image/png": "[encoded data removed]",
      "text/plain": [
       "<Figure size 640x480 with 1 Axes>"
      ]
     },
     "metadata": {},
     "output_type": "display_data"
    }
   ],
   "source": [
    "# Calcular los residuos estandarizados\n",
    "residuos_estandarizados = mod_antiguo.get_influence().resid_studentized_internal ## revisar 'mod_antiguo' ##\n",
    "\n",
    "# Calcular la distribución acumulativa de los residuos estandarizados\n",
    "distribucion_acumulativa = stats.probplot(residuos_estandarizados, dist=\"norm\", plot=plt)\n",
    "\n",
    "# Personalizar el gráfico\n",
    "plt.title('Gráfico P-P normal de residuos estandarizados')\n",
    "plt.xlabel('Cuantiles teóricos')\n",
    "plt.ylabel('Cuantiles de los residuos estandarizados')\n",
    "plt.grid(True)\n",
    "plt.show()"
   ]
  },
  {
   "cell_type": "markdown",
   "id": "3f8aee69-58d6-4879-888e-ff6e39e0da72",
   "metadata": {},
   "source": [
    "Si los puntos en el gráfico se aproximan a una línea diagonal, eso sugiere que los residuos siguen una distribución normal. Si hay desviaciones significativas de la línea diagonal, eso podría indicar que los residuos no siguen una distribución normal y podría requerir una investigación adicional."
   ]
  },
  {
   "cell_type": "markdown",
   "id": "d5d82a51-7bb4-4801-8425-fcc976821f9e",
   "metadata": {
    "tags": []
   },
   "source": [
    "### 3.3.4. Multicolinealidad"
   ]
  },
  {
   "cell_type": "markdown",
   "id": "4d7686fb-4675-4c4f-8c4f-1929975ec336",
   "metadata": {},
   "source": [
    "La presencia de multicolinealidad puede hacer difícil separar los efectos individuales de las variables colineales en la respuesta. Esto puede engañar tanto al modelo (influenciando en el p-valor de las variables) como a nosotros al momento de interpretar los resultados.\n",
    "\n",
    "Nosotros ya hemos hecho un análisis de correlación y hemos visto que la mayoría de nuestras variables se relacionan significativamente entre ellas. Sin embargo, hay un punto hasta el que suele ser permitido ese nivel de correlación. Eso se mide a través del Factor de Inflación de la Varianza (VIF, por sus siglas en inglés). Si hay valores por encima de 3, se asume que esas variables no son recomendables de tomar en cuenta.\n",
    "\n",
    "Ojo: este valor varía mucho entre investigaciones. Algunas consideran 3, otras 10, otras 40. Consulten bibliografía reciente sobre el tema que están tratando para tener un estándar (o consulten con Carlos)."
   ]
  },
  {
   "cell_type": "code",
   "execution_count": 16,
   "id": "64d943cc-962c-4b4b-af8e-756019b5ccb1",
   "metadata": {
    "tags": []
   },
   "outputs": [
    {
     "name": "stdout",
     "output_type": "stream",
     "text": [
      "       Variable           VIF\n",
      "0         const  2.306952e+06\n",
      "1     YearBuilt  1.768579e+00\n",
      "2      2ndFlrSF  3.083363e+00\n",
      "3     GrLivArea  4.184106e+00\n",
      "4      FullBath  2.431363e+00\n",
      "5      HalfBath  2.110762e+00\n",
      "6  BedroomAbvGr  2.060995e+00\n",
      "7  TotRmsAbvGrd  4.192325e+00\n",
      "8        YrSold  1.002196e+00\n"
     ]
    }
   ],
   "source": [
    "#Al inicio de este cuaderno, importé todas mis X en una variable llamada 'X'\n",
    "\n",
    "# Calcular el VIF para cada variable independiente\n",
    "vif = pd.DataFrame()\n",
    "vif[\"Variable\"] = X.columns ## revisar 'X' ##\n",
    "vif[\"VIF\"] = [variance_inflation_factor(X.values, i) ## revisar 'X' ##\n",
    "              for i in range(X.shape[1])] ## revisar 'X' ##\n",
    "\n",
    "# Imprimir el resultado\n",
    "print(vif)"
   ]
  },
  {
   "cell_type": "markdown",
   "id": "2aa5f4be-e009-4739-90f8-a2b42f9e1346",
   "metadata": {},
   "source": [
    "Vemos que tanto `GrLivArea` como `TotRmsAbvGrd` tienen un VIF más alto de lo esperado, probablemente porque su correlación es muy alta. A partir de aquí pueden ir eliminando aquellas que les parecen menos relevantes, volver a correr un modelo y medir el VIF para ver si cumplen con un valor menor al esperado."
   ]
  },
  {
   "cell_type": "markdown",
   "id": "475b133f-c0d1-4fa9-a68c-0793627950c8",
   "metadata": {
    "tags": []
   },
   "source": [
    "### 3.3.5. Autocorrelación de errores"
   ]
  },
  {
   "cell_type": "markdown",
   "id": "12b12bc0-16af-4d0e-9921-7412ba250f46",
   "metadata": {},
   "source": [
    "De manera ideal, los errores de cada fila son independientes unos de otros. Cuando eso no sucede, hablamos de una autocorrelación de los errores o residuos del modelo. \n",
    "\n",
    "La autocorrelación es un fenómeno que se presenta en muestras que contengan de datos asociados al tiempo, aunque también puede presentarse cuando se trabaja con datos de corte transversal, usualmente cuando están georreferenciados (lo que se conoce como *autocorrelación espacial*).\n",
    "\n",
    "Además, puede presentarse porque nuestra variable a estimar (*Y*) presenta un comportamiento cíclico que no viene explicado por las variables explicativas (*X*), si no que dicho comportamiento cíclico está recogido en el término de error del modelo. Esto nos habla de que nuestro modelo es malo: le falta algo, una variable que no hemos sido capaces de introducir en el modelo (¡y que no sabemos cuál es!).\n",
    "\n",
    "Para medir esta autocorrelación de los errores, hay una medida llamada **Durbin-Watson**, que aparece en el resumen de nuestro modelo. **Si su valor está entre 1.5 y 2.5, se entiende que no existe una autocorrelación de los errores del modelo**."
   ]
  }
 ],
 "metadata": {
  "kernelspec": {
   "display_name": "Python 3 (ipykernel)",
   "language": "python",
   "name": "python3"
  },
  "language_info": {
   "codemirror_mode": {
    "name": "ipython",
    "version": 3
   },
   "file_extension": ".py",
   "mimetype": "text/x-python",
   "name": "python",
   "nbconvert_exporter": "python",
   "pygments_lexer": "ipython3",
   "version": "3.11.5"
  }
 },
 "nbformat": 4,
 "nbformat_minor": 5
}
