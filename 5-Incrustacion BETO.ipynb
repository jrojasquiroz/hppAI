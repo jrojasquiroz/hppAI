{
  "nbformat": 4,
  "nbformat_minor": 0,
  "metadata": {
    "colab": {
      "provenance": [],
      "gpuType": "T4"
    },
    "kernelspec": {
      "name": "python3",
      "display_name": "Python 3"
    },
    "language_info": {
      "name": "python"
    },
    "accelerator": "GPU"
  },
  "cells": [
    {
      "cell_type": "markdown",
      "source": [
        "# Incrustaciones con BETO"
      ],
      "metadata": {
        "id": "qfpezJEfW-wG"
      }
    },
    {
      "cell_type": "markdown",
      "source": [
        "La incrustación (*embedding*) es el proceso por el que obtenemos números a partir de palabras. En este caso, realizaremos ese proceso con [BETO](https://huggingface.co/dccuchile/bert-base-spanish-wwm-cased), la versión de BERT en español.\n",
        "\n",
        "Lo que obtenemos finalmente es una columna llamada `mpBERT`, el mean-pooling de la incrustación."
      ],
      "metadata": {
        "id": "B8f9KJ-YW36R"
      }
    },
    {
      "cell_type": "markdown",
      "source": [
        "Si bien algunas ya vienen pre-instaladas (como `pandas` o `numpy`, por ejemplo), en Google Colab debemos instalar las librerías cada vez que usemos un cuaderno."
      ],
      "metadata": {
        "id": "rf6B2uD-XDP4"
      }
    },
    {
      "cell_type": "code",
      "source": [
        "pip install matplotlib langdetect deep_translator"
      ],
      "metadata": {
        "colab": {
          "base_uri": "https://localhost:8080/"
        },
        "id": "JlLHCJmF3uu_",
        "outputId": "5a8f0bd8-8334-4f45-f9bc-578cc91f16cb"
      },
      "execution_count": null,
      "outputs": [
        {
          "output_type": "stream",
          "name": "stdout",
          "text": [
            "Requirement already satisfied: matplotlib in /usr/local/lib/python3.10/dist-packages (3.7.1)\n",
            "Requirement already satisfied: langdetect in /usr/local/lib/python3.10/dist-packages (1.0.9)\n",
            "Requirement already satisfied: deep_translator in /usr/local/lib/python3.10/dist-packages (1.11.4)\n",
            "Requirement already satisfied: contourpy>=1.0.1 in /usr/local/lib/python3.10/dist-packages (from matplotlib) (1.2.1)\n",
            "Requirement already satisfied: cycler>=0.10 in /usr/local/lib/python3.10/dist-packages (from matplotlib) (0.12.1)\n",
            "Requirement already satisfied: fonttools>=4.22.0 in /usr/local/lib/python3.10/dist-packages (from matplotlib) (4.51.0)\n",
            "Requirement already satisfied: kiwisolver>=1.0.1 in /usr/local/lib/python3.10/dist-packages (from matplotlib) (1.4.5)\n",
            "Requirement already satisfied: numpy>=1.20 in /usr/local/lib/python3.10/dist-packages (from matplotlib) (1.25.2)\n",
            "Requirement already satisfied: packaging>=20.0 in /usr/local/lib/python3.10/dist-packages (from matplotlib) (24.0)\n",
            "Requirement already satisfied: pillow>=6.2.0 in /usr/local/lib/python3.10/dist-packages (from matplotlib) (9.4.0)\n",
            "Requirement already satisfied: pyparsing>=2.3.1 in /usr/local/lib/python3.10/dist-packages (from matplotlib) (3.1.2)\n",
            "Requirement already satisfied: python-dateutil>=2.7 in /usr/local/lib/python3.10/dist-packages (from matplotlib) (2.8.2)\n",
            "Requirement already satisfied: six in /usr/local/lib/python3.10/dist-packages (from langdetect) (1.16.0)\n",
            "Requirement already satisfied: beautifulsoup4<5.0.0,>=4.9.1 in /usr/local/lib/python3.10/dist-packages (from deep_translator) (4.12.3)\n",
            "Requirement already satisfied: requests<3.0.0,>=2.23.0 in /usr/local/lib/python3.10/dist-packages (from deep_translator) (2.31.0)\n",
            "Requirement already satisfied: soupsieve>1.2 in /usr/local/lib/python3.10/dist-packages (from beautifulsoup4<5.0.0,>=4.9.1->deep_translator) (2.5)\n",
            "Requirement already satisfied: charset-normalizer<4,>=2 in /usr/local/lib/python3.10/dist-packages (from requests<3.0.0,>=2.23.0->deep_translator) (3.3.2)\n",
            "Requirement already satisfied: idna<4,>=2.5 in /usr/local/lib/python3.10/dist-packages (from requests<3.0.0,>=2.23.0->deep_translator) (3.7)\n",
            "Requirement already satisfied: urllib3<3,>=1.21.1 in /usr/local/lib/python3.10/dist-packages (from requests<3.0.0,>=2.23.0->deep_translator) (2.0.7)\n",
            "Requirement already satisfied: certifi>=2017.4.17 in /usr/local/lib/python3.10/dist-packages (from requests<3.0.0,>=2.23.0->deep_translator) (2024.2.2)\n"
          ]
        }
      ]
    },
    {
      "cell_type": "markdown",
      "source": [
        "## 1. Importación de librerías y revisión del *dataframe*"
      ],
      "metadata": {
        "id": "h2KBjPFgW5Oj"
      }
    },
    {
      "cell_type": "code",
      "source": [
        "import pandas as pd\n",
        "import numpy as np\n",
        "import re #para identificar patrones en textos\n",
        "from matplotlib import pyplot as plt\n",
        "from langdetect import detect #para detectar idiomas, se tiene que instalar\n",
        "from deep_translator import GoogleTranslator #para traducir texto, se tiene que instalar\n",
        "import seaborn as sns\n",
        "import os #para manipular archivos del sistema operativo\n",
        "import torch\n",
        "from transformers import BertTokenizer, BertModel\n",
        "import time #para medir el tiempo de ejecución de algunas celdas"
      ],
      "metadata": {
        "id": "yOuNEzaP_Dhq"
      },
      "execution_count": null,
      "outputs": []
    },
    {
      "cell_type": "markdown",
      "source": [
        "Con esto permitimos que importe archivos de nuestro Google Drive:"
      ],
      "metadata": {
        "id": "vimq0fKS_5RA"
      }
    },
    {
      "cell_type": "code",
      "source": [
        "from google.colab import drive\n",
        "drive.mount('/content/drive')"
      ],
      "metadata": {
        "colab": {
          "base_uri": "https://localhost:8080/"
        },
        "id": "UhosW0PT_xU0",
        "outputId": "41eb7fbf-4975-4424-db8e-0b9a463e9dc1"
      },
      "execution_count": null,
      "outputs": [
        {
          "output_type": "stream",
          "name": "stdout",
          "text": [
            "Drive already mounted at /content/drive; to attempt to forcibly remount, call drive.mount(\"/content/drive\", force_remount=True).\n"
          ]
        }
      ]
    },
    {
      "cell_type": "markdown",
      "source": [
        "Reviso las columnas que tengo en mi dataframe."
      ],
      "metadata": {
        "id": "PJIg5GSSXlhk"
      }
    },
    {
      "cell_type": "code",
      "source": [
        "base=pd.read_excel('/content/drive/MyDrive/Documentos personales/9-Documentos Doctorado/Doctorado 2023/7-Clases/SRGVUA/rawdata/clases/habitaclia3971.xlsx')\n",
        "print(base.columns.tolist())"
      ],
      "metadata": {
        "colab": {
          "base_uri": "https://localhost:8080/"
        },
        "id": "a61WvUrU_uEQ",
        "outputId": "7439d888-c680-4508-dd18-7333b7848ac8"
      },
      "execution_count": null,
      "outputs": [
        {
          "output_type": "stream",
          "name": "stdout",
          "text": [
            "['OBJECTID_1', 'codigo_inmueble1', 'Title', 'Type_build', 'Type_opera', 'Link', 'Location', 'Lat_X', 'Lon_Y', 'Climatic_Z', 'Nom_Mun', 'precio_eur', 'superficie', 'superficie_2', 'Unit_price', 'Ln_total_pr', 'Ln_unit_pr', 'numero_habitaciones', 'numero_bano', 'ratio_bano_hab', 'numero_aseo', 'ascensor', 'interac_planta', 'numero_de_piso', 'anyo_constr', 'anyo_constr_ponderad', 'antig_ponderad', 'Inverse_Age', 'Year_Before_1981', 'Year_1982_2006', 'Year_After_2007', 'superficie_terraza_m2', 'grand_terr_20m2', 'superficie_jardin_m2', 'superficie_salon', 'bool_despacho', 'bool_buhardilla', 'bool_trastero', 'bool_lavadero', 'bool_piscina_comunitaria', 'bool_jardin_comunitario', 'bool_amueblado', 'bool_ascensor', 'descripcion', 'bool_aire_acondicionado', 'bool_calefaccion', 'bool_chimenea', 'texto_destacado', 'calificacion_consumo_letra', 'calificacion_consumo_valor', 'calificacion_emision_letra', 'calificacion_emision_valor', 'Dum_EPC', 'EPC_A_emision', 'EPC_B_emision', 'EPC_C_emision', 'EPC_D_emision', 'EPC_E_emision', 'EPC_F_emision', 'EPC_G_emision', 'COD_MUN', 'temp_enero', 'temp_julio', 'radiacion_enero', 'radiacion_julio', 'POB_91', 'POB_01', 'POB_06', 'POR_01', 'LTL1991_M', 'LTL_2001', 'DLTL_MUN', 'RW', 'FLE', 'FLS', 'SUP_URB_90', 'SUP_URB_00', 'Job_ratio_01', 'Autocontencion_01', 'Nodalidad_01', 'Dist_CBD', 'Dist_CBD2', 'Dist_sub_center', 'Elevation_Mean', 'dum_acces_viappal', 'IND_pr', 'FIRE_pr', 'Div_LandUse', 'COD_SEC', 'pr_directivo', 'pr_tecnico_prof', 'pr_tecnico_apoyo', 'pr_empl_admin', 'pr_restaur_comer', 'pr_agri_calificado', 'pr_artesano', 'pr_operador', 'pr_no_calif', 'desplaz_ponderado', 'plant_ras_pond', 'edif_ruin_pr', 'edif_malo_pr', 'edif_deficient_pr', 'edif_bueno_pr', 'Doorman_pr', 'opin_ruido_si_pr', 'opin_contam_si_pr', 'opin_calle_sucia_pr', 'opin_mala_comunic_pr', 'opin_pocazonaverde_pr', 'opin_delincuencia_pr', 'opin_falta_aseo_pr', 'local_salud_pr', 'local_edu_pr', 'local_social_pr', 'local_cult_pr', 'local_comerc_pr', 'local_oficinas_pr', 'local_industr_pr', 'local_agrar_pr', 'POB_TOTAL', 'POB_RESID', 'LOC_TOTAL', 'POR_TOTAL', 'LOC_VIV_TOTAL', 'dens_loc_100hab', 'dens_loc_sup', 'dens_pob_sup', 'estud_sin_pr', 'estud_primer_pr', 'estud_segund_pr', 'estud_tercer_pr', 'VIV_ppales_TOTAL', 'Sup_viv_sec', 'viv_ppales_pr', 'viv_no_ppales_pr', 'viv_secundarias_pr', 'viv_vacias_pr', 'viv_unifam_pr', 'viv_aptos_pr', 'resi_euro_pr', 'resi_africa_pr', 'resi_america_pr', 'resi_asia_pr', 'resi_oceania_pr', 'H_ocup_POR', 'H_loc_INE', 'H_tamaviv', 'H_ocup_POR_Xpor', 'H_loc_INE_XLOCS', 'H_tamaviv_Xvivs', 'CT_renta_alta_CPA', 'CT_renta_meda_CPA', 'CT_renta_medb_CPA', 'Income_Household_2016', 'DP2e', 'Dens_Time_total', 'Dens_Time_total_work', 'Dens_Time_total_Nwork', 'Dens_pers_act_total', 'Dens_pers_act_working', 'Dens_pers_act_Nworking', 'Div_total_work', 'Div_act_work', 'Div_socio_work', 'Div_total_Nwork', 'Div_act_Nwork', 'Div_socio_Nwork', 'calidad_cocina', 'diseny_cocina', 'alta_calidad', 'reform_inmob', 'dum_mar_200m', 'dum_ttpp_riel_urb', 'dist_near_riel_km', 'dist_near_viappal_km', 'C_contempo', 'C_estado', 'C_armarios', 'B_contempo', 'B_estado', 'B_lavamano', 'R_contempo', 'R_estado', 'R_carpinte', 'R_singular', 'R_ventana', 'Dum_precio', 'Precio_red', 'scrap_year', 'persona', 'filter_$', 'Estado_contemporaneidad_calidad', 'Ausencia_singulares_presencia_arm_cocina', 'Muestra_2023', 'EPC_A_emision_2023', 'EPC_B_emision_2023', 'EPC_C_emision_2023', 'EPC_D_emision_2023', 'EPC_E_emision_2023', 'EPC_F_emision_2023', 'EPC_G_emision_2023', 'cod_unico', 'Description']\n"
          ]
        }
      ]
    },
    {
      "cell_type": "markdown",
      "source": [
        "Con `Ctrl+F` puedo ver que hay dos que podrían tener la descripción de los anuncios. Las reviso."
      ],
      "metadata": {
        "id": "5eDGLk3XXo0h"
      }
    },
    {
      "cell_type": "code",
      "source": [
        "base[['Description','descripcion']].head()"
      ],
      "metadata": {
        "colab": {
          "base_uri": "https://localhost:8080/",
          "height": 206
        },
        "id": "4wnUfAQfAK1c",
        "outputId": "46ca8c15-33b9-455a-fa41-57a281dc7259"
      },
      "execution_count": null,
      "outputs": [
        {
          "output_type": "execute_result",
          "data": {
            "text/plain": [
              "                                         Description descripcion\n",
              "0  Espectacular dúplex en finca de pocos vecinos,...   excelente\n",
              "1  Espectacular piso en venta de obra seminueva d...         NaN\n",
              "2  [A2977]PISAZO, EL MEJOR DE LA ZONA.FENOMENAL P...   reformada\n",
              "3  Piso de 95 m2, distribuidos en: recibidor, 4 h...   muy bueno\n",
              "4  Piso de OBRA NUEVA en calle Riera de la Creu, ...  a estrenar"
            ],
            "text/html": [
              "\n",
              "  <div id=\"df-1f37073f-a33e-4273-a1e2-bbd55e113c13\" class=\"colab-df-container\">\n",
              "    <div>\n",
              "<style scoped>\n",
              "    .dataframe tbody tr th:only-of-type {\n",
              "        vertical-align: middle;\n",
              "    }\n",
              "\n",
              "    .dataframe tbody tr th {\n",
              "        vertical-align: top;\n",
              "    }\n",
              "\n",
              "    .dataframe thead th {\n",
              "        text-align: right;\n",
              "    }\n",
              "</style>\n",
              "<table border=\"1\" class=\"dataframe\">\n",
              "  <thead>\n",
              "    <tr style=\"text-align: right;\">\n",
              "      <th></th>\n",
              "      <th>Description</th>\n",
              "      <th>descripcion</th>\n",
              "    </tr>\n",
              "  </thead>\n",
              "  <tbody>\n",
              "    <tr>\n",
              "      <th>0</th>\n",
              "      <td>Espectacular dúplex en finca de pocos vecinos,...</td>\n",
              "      <td>excelente</td>\n",
              "    </tr>\n",
              "    <tr>\n",
              "      <th>1</th>\n",
              "      <td>Espectacular piso en venta de obra seminueva d...</td>\n",
              "      <td>NaN</td>\n",
              "    </tr>\n",
              "    <tr>\n",
              "      <th>2</th>\n",
              "      <td>[A2977]PISAZO, EL MEJOR DE LA ZONA.FENOMENAL P...</td>\n",
              "      <td>reformada</td>\n",
              "    </tr>\n",
              "    <tr>\n",
              "      <th>3</th>\n",
              "      <td>Piso de 95 m2, distribuidos en: recibidor, 4 h...</td>\n",
              "      <td>muy bueno</td>\n",
              "    </tr>\n",
              "    <tr>\n",
              "      <th>4</th>\n",
              "      <td>Piso de OBRA NUEVA en calle Riera de la Creu, ...</td>\n",
              "      <td>a estrenar</td>\n",
              "    </tr>\n",
              "  </tbody>\n",
              "</table>\n",
              "</div>\n",
              "    <div class=\"colab-df-buttons\">\n",
              "\n",
              "  <div class=\"colab-df-container\">\n",
              "    <button class=\"colab-df-convert\" onclick=\"convertToInteractive('df-1f37073f-a33e-4273-a1e2-bbd55e113c13')\"\n",
              "            title=\"Convert this dataframe to an interactive table.\"\n",
              "            style=\"display:none;\">\n",
              "\n",
              "  <svg xmlns=\"http://www.w3.org/2000/svg\" height=\"24px\" viewBox=\"0 -960 960 960\">\n",
              "    <path d=\"M120-120v-720h720v720H120Zm60-500h600v-160H180v160Zm220 220h160v-160H400v160Zm0 220h160v-160H400v160ZM180-400h160v-160H180v160Zm440 0h160v-160H620v160ZM180-180h160v-160H180v160Zm440 0h160v-160H620v160Z\"/>\n",
              "  </svg>\n",
              "    </button>\n",
              "\n",
              "  <style>\n",
              "    .colab-df-container {\n",
              "      display:flex;\n",
              "      gap: 12px;\n",
              "    }\n",
              "\n",
              "    .colab-df-convert {\n",
              "      background-color: #E8F0FE;\n",
              "      border: none;\n",
              "      border-radius: 50%;\n",
              "      cursor: pointer;\n",
              "      display: none;\n",
              "      fill: #1967D2;\n",
              "      height: 32px;\n",
              "      padding: 0 0 0 0;\n",
              "      width: 32px;\n",
              "    }\n",
              "\n",
              "    .colab-df-convert:hover {\n",
              "      background-color: #E2EBFA;\n",
              "      box-shadow: 0px 1px 2px rgba(60, 64, 67, 0.3), 0px 1px 3px 1px rgba(60, 64, 67, 0.15);\n",
              "      fill: #174EA6;\n",
              "    }\n",
              "\n",
              "    .colab-df-buttons div {\n",
              "      margin-bottom: 4px;\n",
              "    }\n",
              "\n",
              "    [theme=dark] .colab-df-convert {\n",
              "      background-color: #3B4455;\n",
              "      fill: #D2E3FC;\n",
              "    }\n",
              "\n",
              "    [theme=dark] .colab-df-convert:hover {\n",
              "      background-color: #434B5C;\n",
              "      box-shadow: 0px 1px 3px 1px rgba(0, 0, 0, 0.15);\n",
              "      filter: drop-shadow(0px 1px 2px rgba(0, 0, 0, 0.3));\n",
              "      fill: #FFFFFF;\n",
              "    }\n",
              "  </style>\n",
              "\n",
              "    <script>\n",
              "      const buttonEl =\n",
              "        document.querySelector('#df-1f37073f-a33e-4273-a1e2-bbd55e113c13 button.colab-df-convert');\n",
              "      buttonEl.style.display =\n",
              "        google.colab.kernel.accessAllowed ? 'block' : 'none';\n",
              "\n",
              "      async function convertToInteractive(key) {\n",
              "        const element = document.querySelector('#df-1f37073f-a33e-4273-a1e2-bbd55e113c13');\n",
              "        const dataTable =\n",
              "          await google.colab.kernel.invokeFunction('convertToInteractive',\n",
              "                                                    [key], {});\n",
              "        if (!dataTable) return;\n",
              "\n",
              "        const docLinkHtml = 'Like what you see? Visit the ' +\n",
              "          '<a target=\"_blank\" href=https://colab.research.google.com/notebooks/data_table.ipynb>data table notebook</a>'\n",
              "          + ' to learn more about interactive tables.';\n",
              "        element.innerHTML = '';\n",
              "        dataTable['output_type'] = 'display_data';\n",
              "        await google.colab.output.renderOutput(dataTable, element);\n",
              "        const docLink = document.createElement('div');\n",
              "        docLink.innerHTML = docLinkHtml;\n",
              "        element.appendChild(docLink);\n",
              "      }\n",
              "    </script>\n",
              "  </div>\n",
              "\n",
              "\n",
              "<div id=\"df-e153e19c-6220-4f16-8dfd-05701cb1e9a1\">\n",
              "  <button class=\"colab-df-quickchart\" onclick=\"quickchart('df-e153e19c-6220-4f16-8dfd-05701cb1e9a1')\"\n",
              "            title=\"Suggest charts\"\n",
              "            style=\"display:none;\">\n",
              "\n",
              "<svg xmlns=\"http://www.w3.org/2000/svg\" height=\"24px\"viewBox=\"0 0 24 24\"\n",
              "     width=\"24px\">\n",
              "    <g>\n",
              "        <path d=\"M19 3H5c-1.1 0-2 .9-2 2v14c0 1.1.9 2 2 2h14c1.1 0 2-.9 2-2V5c0-1.1-.9-2-2-2zM9 17H7v-7h2v7zm4 0h-2V7h2v10zm4 0h-2v-4h2v4z\"/>\n",
              "    </g>\n",
              "</svg>\n",
              "  </button>\n",
              "\n",
              "<style>\n",
              "  .colab-df-quickchart {\n",
              "      --bg-color: #E8F0FE;\n",
              "      --fill-color: #1967D2;\n",
              "      --hover-bg-color: #E2EBFA;\n",
              "      --hover-fill-color: #174EA6;\n",
              "      --disabled-fill-color: #AAA;\n",
              "      --disabled-bg-color: #DDD;\n",
              "  }\n",
              "\n",
              "  [theme=dark] .colab-df-quickchart {\n",
              "      --bg-color: #3B4455;\n",
              "      --fill-color: #D2E3FC;\n",
              "      --hover-bg-color: #434B5C;\n",
              "      --hover-fill-color: #FFFFFF;\n",
              "      --disabled-bg-color: #3B4455;\n",
              "      --disabled-fill-color: #666;\n",
              "  }\n",
              "\n",
              "  .colab-df-quickchart {\n",
              "    background-color: var(--bg-color);\n",
              "    border: none;\n",
              "    border-radius: 50%;\n",
              "    cursor: pointer;\n",
              "    display: none;\n",
              "    fill: var(--fill-color);\n",
              "    height: 32px;\n",
              "    padding: 0;\n",
              "    width: 32px;\n",
              "  }\n",
              "\n",
              "  .colab-df-quickchart:hover {\n",
              "    background-color: var(--hover-bg-color);\n",
              "    box-shadow: 0 1px 2px rgba(60, 64, 67, 0.3), 0 1px 3px 1px rgba(60, 64, 67, 0.15);\n",
              "    fill: var(--button-hover-fill-color);\n",
              "  }\n",
              "\n",
              "  .colab-df-quickchart-complete:disabled,\n",
              "  .colab-df-quickchart-complete:disabled:hover {\n",
              "    background-color: var(--disabled-bg-color);\n",
              "    fill: var(--disabled-fill-color);\n",
              "    box-shadow: none;\n",
              "  }\n",
              "\n",
              "  .colab-df-spinner {\n",
              "    border: 2px solid var(--fill-color);\n",
              "    border-color: transparent;\n",
              "    border-bottom-color: var(--fill-color);\n",
              "    animation:\n",
              "      spin 1s steps(1) infinite;\n",
              "  }\n",
              "\n",
              "  @keyframes spin {\n",
              "    0% {\n",
              "      border-color: transparent;\n",
              "      border-bottom-color: var(--fill-color);\n",
              "      border-left-color: var(--fill-color);\n",
              "    }\n",
              "    20% {\n",
              "      border-color: transparent;\n",
              "      border-left-color: var(--fill-color);\n",
              "      border-top-color: var(--fill-color);\n",
              "    }\n",
              "    30% {\n",
              "      border-color: transparent;\n",
              "      border-left-color: var(--fill-color);\n",
              "      border-top-color: var(--fill-color);\n",
              "      border-right-color: var(--fill-color);\n",
              "    }\n",
              "    40% {\n",
              "      border-color: transparent;\n",
              "      border-right-color: var(--fill-color);\n",
              "      border-top-color: var(--fill-color);\n",
              "    }\n",
              "    60% {\n",
              "      border-color: transparent;\n",
              "      border-right-color: var(--fill-color);\n",
              "    }\n",
              "    80% {\n",
              "      border-color: transparent;\n",
              "      border-right-color: var(--fill-color);\n",
              "      border-bottom-color: var(--fill-color);\n",
              "    }\n",
              "    90% {\n",
              "      border-color: transparent;\n",
              "      border-bottom-color: var(--fill-color);\n",
              "    }\n",
              "  }\n",
              "</style>\n",
              "\n",
              "  <script>\n",
              "    async function quickchart(key) {\n",
              "      const quickchartButtonEl =\n",
              "        document.querySelector('#' + key + ' button');\n",
              "      quickchartButtonEl.disabled = true;  // To prevent multiple clicks.\n",
              "      quickchartButtonEl.classList.add('colab-df-spinner');\n",
              "      try {\n",
              "        const charts = await google.colab.kernel.invokeFunction(\n",
              "            'suggestCharts', [key], {});\n",
              "      } catch (error) {\n",
              "        console.error('Error during call to suggestCharts:', error);\n",
              "      }\n",
              "      quickchartButtonEl.classList.remove('colab-df-spinner');\n",
              "      quickchartButtonEl.classList.add('colab-df-quickchart-complete');\n",
              "    }\n",
              "    (() => {\n",
              "      let quickchartButtonEl =\n",
              "        document.querySelector('#df-e153e19c-6220-4f16-8dfd-05701cb1e9a1 button');\n",
              "      quickchartButtonEl.style.display =\n",
              "        google.colab.kernel.accessAllowed ? 'block' : 'none';\n",
              "    })();\n",
              "  </script>\n",
              "</div>\n",
              "    </div>\n",
              "  </div>\n"
            ],
            "application/vnd.google.colaboratory.intrinsic+json": {
              "type": "dataframe",
              "summary": "{\n  \"name\": \"base[['Description','descripcion']]\",\n  \"rows\": 5,\n  \"fields\": [\n    {\n      \"column\": \"Description\",\n      \"properties\": {\n        \"dtype\": \"string\",\n        \"num_unique_values\": 5,\n        \"samples\": [\n          \"Espectacular piso en venta de obra seminueva del a\\u00f1o 2009 situado en una 2\\u00aa planta real junto al CC Gran Via 2 en l\\u2019Hospitalet.  La vivienda dispone de 97m\\u00b2 distribuidos en un amplio sal\\u00f3n comedor de 28m\\u00b2 con salida al amplio balc\\u00f3n de 14m\\u00b2, 1 cocina independiente, 3 habitaciones (1 doble y 2 individuales) y 2 ba\\u00f1os completos. Cuenta adem\\u00e1s con la opci\\u00f3n de adquirir una plaza de aparcamiento con trastero por 25.000\\u20ac.Fant\\u00e1stica ubicaci\\u00f3n en zona muy tranquila de l\\u2019Hospitalet, junto a la Fira de Barcelona y el CC Gran Via 2, un centro de ocio y comercio donde puede disfrutar toda la familia. F\\u00e1cil acceso a la entrada y salida de la ciudad por la Gran Via y muy bien comunicado con transporte p\\u00fablico.*Las fotos son orientativasFORCADELL le ofrece asesoramiento y le ayuda en las gestiones para la obtenci\\u00f3n de la hipoteca.FINCAS FORCADELL, SLU AICAT 163 Pl. Universitat, 3 Baixos. BARCELONA\",\n          \"Piso de OBRA NUEVA en calle Riera de la Creu, de 135m2. Se divide en un amplio y luminoso sal\\u00f3n comedor, totalmente exterior. Tiene 4 habitaciones, 2 ba\\u00f1os y un aseo. Equipado con aire acondicionado y calefacci\\u00f3n. Los acabados son de gran calidad. Plaza de aparcamiento y trastero opcionales.Se encuentra muy cerca del Ayuntamiento y la Rambla de Just Oliveras, zona con excelentes comunicaciones (autob\\u00fas, metro y tren de cercan\\u00edas), y dotada de toda clase de servicios (centros comerciales, peque\\u00f1o comercio, escuelas, ocio, cultura, \\u2026). A 20 minutos de Pla\\u00e7a Catalunya. El precio no incluye impuestos ni gastos de la compra venta. Producto Apialia | Eurofincas International Real Estate | Referencia V1945GI-AR\",\n          \"[A2977]PISAZO, EL MEJOR DE LA ZONA.FENOMENAL PISO SIN VECINOS DELANTE EN LA ZONA DE CAN SERRA, MUY CERCA DE TODOS LOS SERVICIOS, TANTO DE METRO, COMERCIOS, M\\u00c9DICOS Y GRANDES SUPERFICIES, ZONA MUY TRANQUILA...PISO DISTRIBUIDO EN 3 HABITACIONES EXTERIORES CON MUCH\\u00cdSIMO SOL Y CLARIDAD, UNA DOBLE Y DOS INDIVIDUALES..........GRAN SAL\\u00d3N COMEDOR DE 20M2 APROXIMADAMENTE CON SALIDA A BALC\\u00d3N CUADRADO DONDE CABE MESA Y SILLAS, VISTAS DESPAJADAS Y PANOR\\u00c1MICAS SIN VECINOS DELANTE, BONITO BA\\u00d1O COMPLETO REFORMADO CON BA\\u00d1ERA Y ASEO DE CORTES\\u00cdA, COCINA A 2 NIVELES ALARGADA TOTALMENTE REFORMADA CON SALIDA A AMPLIA GALER\\u00cdA.SUELOS DE PARKET, VENTANAS DE ALUMINIO, PUERTAS DE HAYA, AIRE ACONDICIONADO CON BOMBA DE CALOR.LISTO PARA ENTRAR A VIVIR, POR NO NECESITAR, NO NECESITA NI PINTARSE Y LA POSIBILIDAD DE QUEDARSE AMUEBLADO.GESTI\\u00d3N HIPOTECARIA TOTALMENTE GRATUITA COMPRANDO CON NOSOTROS, NOS ENCARGAMOS DE TODO, RECOPILE SU DOCUMENTACI\\u00d3N Y TR\\u00c1IGANOSLA, LE HAREMOS SU ESTUDIO HIPOTECARIO SIN COMPROMISO Y SIN COSTE... ASEG\\u00daRESE DE COMPRAR EN BUENAS MANOS, EN O\\u00b4DONELL FINCAS NOS COMPROMETEMOS A REALIZAR LA GESTI\\u00d3N DE LA COMPRAVENTA DE INMUEBLES CON LA MAYOR FLUIDEZ Y TRANSPARENCIA DEL MERCADO, VENGA A CONOCERNOS, LA RECOMENDACI\\u00d3N ES LO QUE NOS MUEVE.... COMPROMETIDOS CON TU ILUSI\\u00d3N .....\"\n        ],\n        \"semantic_type\": \"\",\n        \"description\": \"\"\n      }\n    },\n    {\n      \"column\": \"descripcion\",\n      \"properties\": {\n        \"dtype\": \"string\",\n        \"num_unique_values\": 4,\n        \"samples\": [\n          \"reformada\",\n          \"a estrenar\",\n          \"excelente\"\n        ],\n        \"semantic_type\": \"\",\n        \"description\": \"\"\n      }\n    }\n  ]\n}"
            }
          },
          "metadata": {},
          "execution_count": 5
        }
      ]
    },
    {
      "cell_type": "code",
      "source": [
        "len(base)"
      ],
      "metadata": {
        "colab": {
          "base_uri": "https://localhost:8080/"
        },
        "id": "wh4vvtw3AMJo",
        "outputId": "f2881f68-49d5-440b-bcdd-f23c7c707528"
      },
      "execution_count": null,
      "outputs": [
        {
          "output_type": "execute_result",
          "data": {
            "text/plain": [
              "3971"
            ]
          },
          "metadata": {},
          "execution_count": 6
        }
      ]
    },
    {
      "cell_type": "markdown",
      "source": [
        "## 2. Limpieza de `Description`"
      ],
      "metadata": {
        "id": "yCxD-mjPAW8f"
      }
    },
    {
      "cell_type": "markdown",
      "source": [
        "Paso a limpiar el texto. Defino una serie de funciones."
      ],
      "metadata": {
        "id": "quC1GuipAdVT"
      }
    },
    {
      "cell_type": "code",
      "source": [
        "def treat_euro(text):\n",
        "    text = re.sub(r'(euro[^s])|(euros)|(€)', ' euros', text)\n",
        "    return text\n",
        "\n",
        "def treat_m2(text):\n",
        "    text = re.sub(r'(m2)|(m²)', ' m²', text)\n",
        "    return text\n",
        "\n",
        "def filter_ibans(text):\n",
        "    pattern = r'ES\\d{2}[ ]\\d{4}[ ]\\d{4}[ ]\\d{4}[ ]\\d{4}[ ]\\d{2}|ES\\d{20}|ES[ ]\\d{2}[ ]\\d{3}[ ]\\d{3}[ ]\\d{3}[ ]\\d{5}'\n",
        "    text = re.sub(pattern, '', text)\n",
        "    return text\n",
        "\n",
        "def remove_space_between_numbers(text):\n",
        "    text = re.sub(r'(\\d)\\s+(\\d)', r'\\1\\2', text)\n",
        "    return text\n",
        "\n",
        "def filter_emails(text):\n",
        "    pattern = r'(?:(?!.*?[.]{2})[a-zA-Z0-9](?:[a-zA-Z0-9.+!%-]{1,64}|)|\\\"[a-zA-Z0-9.+!% -]{1,64}\\\")@[a-zA-Z0-9][a-zA-Z0-9.-]+(.[a-z]{2,}|.[0-9]{1,})'\n",
        "    text = re.sub(pattern, '', text)\n",
        "    return text\n",
        "\n",
        "def filter_ref(text):\n",
        "    pattern = r'(\\(*)(ref|REF)(\\.|[ ])\\d+(\\)*)'\n",
        "    text = re.sub(pattern, '', text)\n",
        "    return text\n",
        "\n",
        "def filter_websites(text):\n",
        "    pattern = r'(http\\:\\/\\/|https\\:\\/\\/)?([a-z0-9][a-z0-9\\-]*\\.)+[a-z][a-z\\-]*'\n",
        "    text = re.sub(pattern, '', text)\n",
        "    return text\n",
        "\n",
        "def filter_phone_numbers(text):\n",
        "    pattern = r'(?:(?:\\+|00)33[\\s.-]{0,3}(?:\\(0\\)[\\s.-]{0,3})?|0)[1-9](?:(?:[\\s.-]?\\d{2}){4}|\\d{2}(?:[\\s.-]?\\d{3}){2})|(\\d{2}[ ]\\d{2}[ ]\\d{3}[ ]\\d{3})'\n",
        "    text = re.sub(pattern, '', text)\n",
        "    return text\n",
        "\n",
        "def remove_large_numbers(text):\n",
        "    pattern = r'\\b\\d{4,}\\b'\n",
        "    text = re.sub(pattern, '', text)\n",
        "    return text\n",
        "\n",
        "def remove_text_in_brackets(text):\n",
        "    pattern = r'\\[[^\\]]*\\]|\\{[^}]*\\}'\n",
        "    text = re.sub(pattern, '', text)\n",
        "    return text\n",
        "\n",
        "def remove_asterisks(text):\n",
        "    text = re.sub(r'\\*', '', text)\n",
        "    return text\n",
        "\n",
        "def remove_multiple_dashes(text):\n",
        "    text = re.sub(r'(-{2,})', '', text)\n",
        "    return text\n",
        "\n",
        "def remove_multiple_spaces(text):\n",
        "    text = re.sub(r'\\s{2,}', ' ', text)\n",
        "    return text"
      ],
      "metadata": {
        "id": "qtLRaTMOAYBf"
      },
      "execution_count": null,
      "outputs": []
    },
    {
      "cell_type": "markdown",
      "source": [
        "Ahora agrupo todas esas funciones y las aplico a `base` para crear una nueva columna."
      ],
      "metadata": {
        "id": "Xs8ptQ5IAgrq"
      }
    },
    {
      "cell_type": "code",
      "source": [
        "start_time = time.time()\n",
        "\n",
        "def clean_text(text):\n",
        "    if isinstance(text, str):  # Verifica si text es una cadena de texto\n",
        "        text = text.replace(u'\\xa0', u' ')\n",
        "        text = treat_m2(text)\n",
        "        text = treat_euro(text)\n",
        "        text = filter_phone_numbers(text)\n",
        "        text = filter_emails(text)\n",
        "        text = filter_ibans(text)\n",
        "        text = filter_ref(text)\n",
        "        text = filter_websites(text)\n",
        "        text = remove_space_between_numbers(text)\n",
        "        text = remove_large_numbers(text)\n",
        "        text = remove_text_in_brackets(text)\n",
        "        text = remove_asterisks(text)\n",
        "        text = remove_multiple_dashes(text)\n",
        "        text = remove_multiple_spaces(text)\n",
        "    return text\n",
        "\n",
        "base['cl_descrip'] = base.Description.apply(clean_text)\n",
        "base['cl_descrip'].head()\n",
        "\n",
        "end_time = time.time()"
      ],
      "metadata": {
        "id": "kYvoBrUtAefe"
      },
      "execution_count": null,
      "outputs": []
    },
    {
      "cell_type": "code",
      "source": [
        "elapsed_time = end_time - start_time\n",
        "print(\"Tiempo de ejecución: {:.2f} segundos\".format(elapsed_time))"
      ],
      "metadata": {
        "colab": {
          "base_uri": "https://localhost:8080/"
        },
        "id": "vzhst2dnqr3P",
        "outputId": "ee48c46c-2c02-496d-c1f6-9ebd2a1083b0"
      },
      "execution_count": null,
      "outputs": [
        {
          "output_type": "stream",
          "name": "stdout",
          "text": [
            "Tiempo de ejecución: 85.33 segundos\n"
          ]
        }
      ]
    },
    {
      "cell_type": "markdown",
      "source": [
        "Tenemos un problema más: **¡Hay texto en catalán!** Y probablemente en algún otro idioma, dado que algunos anuncios los ponen en distintos idiomas a la vez."
      ],
      "metadata": {
        "id": "oWY74VtCAnQe"
      }
    },
    {
      "cell_type": "markdown",
      "source": [
        "## 3. Corte de la descripción y traducción al español"
      ],
      "metadata": {
        "id": "Oa5EiWHRAqUJ"
      }
    },
    {
      "cell_type": "markdown",
      "source": [
        "Debido al tamaño de nuestro dataframe, es probable que convenga cortar la cantidad de palabras por celda. Primero, veamos la extensión de cada anuncio."
      ],
      "metadata": {
        "id": "E7u2NAzhAtYe"
      }
    },
    {
      "cell_type": "code",
      "source": [
        "# Reemplazar los valores NaN o no válidos con una cadena vacía ''\n",
        "base['cl_descrip'] = base['cl_descrip'].fillna('')\n",
        "\n",
        "# Dividir cada elemento de la columna 'cl_descrip' en palabras y contar la cantidad de palabras\n",
        "base['cantidad_palabras'] = base['cl_descrip'].apply(lambda x: len(x.split()))\n",
        "\n",
        "# Crear un histograma de la cantidad de palabras\n",
        "plt.hist(base['cantidad_palabras'], bins=10, color='skyblue', edgecolor='black')\n",
        "plt.xlabel('Cantidad de palabras')\n",
        "plt.ylabel('Frecuencia')\n",
        "plt.title('Histograma de cantidad de palabras')\n",
        "plt.show()"
      ],
      "metadata": {
        "colab": {
          "base_uri": "https://localhost:8080/",
          "height": 472
        },
        "id": "VzemJluQAn9M",
        "outputId": "20035a4e-f697-43f9-f137-928a85a1910a"
      },
      "execution_count": null,
      "outputs": [
        {
          "output_type": "display_data",
          "data": {
            "text/plain": [
              "<Figure size 640x480 with 1 Axes>"
            ],
            "image/png": "[encoded data removed]"
          },
          "metadata": {}
        }
      ]
    },
    {
      "cell_type": "markdown",
      "source": [
        "Podemos exportar el archivo para ver qué características tienen aquellos anuncios más largos."
      ],
      "metadata": {
        "id": "nPPepZW_A6DH"
      }
    },
    {
      "cell_type": "code",
      "source": [
        "#base[['Description','cl_descrip','cantidad_palabras']].to_excel('/content/drive/MyDrive/Documentos personales/9-Documentos Doctorado/Doctorado 2023/7-Clases/SRGVUA/rawdata/clases/extension_borrar_luego.xlsx')"
      ],
      "metadata": {
        "id": "FhIpvDYVA4VQ"
      },
      "execution_count": null,
      "outputs": []
    },
    {
      "cell_type": "markdown",
      "source": [
        "Lo que veo es que aquellos que están por arriba de 350 usualmente tienen texto repetido, sólo que en distintos idiomas. Por tanto, pongo ese límite para mi dataframe. Ustedes, si lo consideran necesario, pueden cambiarlo.\n",
        "\n",
        "Empiezo creando una columna que me indique el idioma en el que está cada fila con la función `detect` de `langdetect`."
      ],
      "metadata": {
        "id": "ISc9aTltBT9J"
      }
    },
    {
      "cell_type": "code",
      "source": [
        "# Función para detectar el idioma de un texto\n",
        "def detect_language(text):\n",
        "    try:\n",
        "        return detect(text)\n",
        "    except:\n",
        "        return None\n",
        "\n",
        "# Agrega una nueva columna 'Language' con el idioma detectado para cada descripción\n",
        "base['Language'] = base['cl_descrip'].apply(detect_language)"
      ],
      "metadata": {
        "id": "IYCipl2BA7dc"
      },
      "execution_count": null,
      "outputs": []
    },
    {
      "cell_type": "code",
      "source": [
        "base['Language'].head()"
      ],
      "metadata": {
        "colab": {
          "base_uri": "https://localhost:8080/"
        },
        "id": "2Wv4ecMyBXd_",
        "outputId": "df33690e-0a09-423a-8fb3-c763fc14b45f"
      },
      "execution_count": null,
      "outputs": [
        {
          "output_type": "execute_result",
          "data": {
            "text/plain": [
              "0    es\n",
              "1    es\n",
              "2    en\n",
              "3    es\n",
              "4    es\n",
              "Name: Language, dtype: object"
            ]
          },
          "metadata": {},
          "execution_count": 13
        }
      ]
    },
    {
      "cell_type": "markdown",
      "source": [
        "Los resultados no parecen ser tan buenos, pues reconoce el catalán como alemán, y en algunos casos, el mismo español como alemán (esto lo noté al haber exportado el Excel y revisar caso por caso).\n",
        "Sin embargo, esto no debería ser un gran problema: si a continuación le pido que todas aquellas filas con un idioma distinto al español (`!= 'es'`) sean traducidas a ese idioma, aquellas que ya estén en español no sufrirán mayores cambios."
      ],
      "metadata": {
        "id": "gwKlK-JbBa1V"
      }
    },
    {
      "cell_type": "code",
      "source": [
        "start_time = time.time()\n",
        "\n",
        "#En caso haya alguna celda en blanco, la relleno con un espacio en blanco\n",
        "base['cl_descrip'] = base['cl_descrip'].fillna('')\n",
        "\n",
        "# Función para cortar el texto a un máximo de 350 palabras\n",
        "def truncate_text(text):\n",
        "    words = text.split()[:350]\n",
        "    truncated_text = ' '.join(words)\n",
        "    return truncated_text\n",
        "\n",
        "# Aplico la función para truncar el texto en la columna 'cl_descrip'\n",
        "base['cl_descrip'] = base['cl_descrip'].apply(truncate_text)\n",
        "\n",
        "# Filtro las filas que tienen 'Language' algo distinto al español ('es')\n",
        "no_esp_descriptions = base[base['Language'] != 'es']['cl_descrip']\n",
        "\n",
        "# Traduzco las descripciones al español\n",
        "translated_descriptions = []\n",
        "for description in no_esp_descriptions:\n",
        "    translated_description = GoogleTranslator(source='auto', target='es').translate(description)\n",
        "    translated_descriptions.append(translated_description)\n",
        "\n",
        "end_time = time.time()\n",
        "\n",
        "# Reemplazo las descripciones traducidas en el DataFrame original\n",
        "base.loc[base['Language'] != 'es', 'cl_descrip'] = translated_descriptions\n",
        "\n",
        "base['cl_descrip'].head()"
      ],
      "metadata": {
        "colab": {
          "base_uri": "https://localhost:8080/"
        },
        "id": "k7CKIB7-BbiM",
        "outputId": "4dfa92cc-3abb-49df-90d6-66bb9255d0e2"
      },
      "execution_count": null,
      "outputs": [
        {
          "output_type": "execute_result",
          "data": {
            "text/plain": [
              "0    Espectacular dúplex en finca de pocos vecinos,...\n",
              "1    Espectacular piso en venta de obra seminueva d...\n",
              "2    PISAZO, EL MEJOR DE LA ZONA.FENOMENAL PISO SIN...\n",
              "3    Piso de 95 m², distribuidos en: recibidor, 4 h...\n",
              "4    Piso de OBRA NUEVA en calle Riera de la Creu, ...\n",
              "Name: cl_descrip, dtype: object"
            ]
          },
          "metadata": {},
          "execution_count": 14
        }
      ]
    },
    {
      "cell_type": "code",
      "source": [
        "base['cl_descrip'].tail()"
      ],
      "metadata": {
        "colab": {
          "base_uri": "https://localhost:8080/"
        },
        "id": "s9V9v5t2BgEN",
        "outputId": "a807643a-08d6-49d4-9d58-3354071a7d67"
      },
      "execution_count": null,
      "outputs": [
        {
          "output_type": "execute_result",
          "data": {
            "text/plain": [
              "3966    \n",
              "3967    \n",
              "3968    \n",
              "3969    \n",
              "3970    \n",
              "Name: cl_descrip, dtype: object"
            ]
          },
          "metadata": {},
          "execution_count": 15
        }
      ]
    },
    {
      "cell_type": "code",
      "source": [
        "elapsed_time = end_time - start_time\n",
        "print(\"Tiempo de ejecución: {:.2f} segundos\".format(elapsed_time))"
      ],
      "metadata": {
        "colab": {
          "base_uri": "https://localhost:8080/"
        },
        "id": "_LxRfPm8qh3w",
        "outputId": "1a24dcb6-e0c4-4e36-e1d5-b272ccc520d2"
      },
      "execution_count": null,
      "outputs": [
        {
          "output_type": "stream",
          "name": "stdout",
          "text": [
            "Tiempo de ejecución: 78.97 segundos\n"
          ]
        }
      ]
    },
    {
      "cell_type": "markdown",
      "source": [
        "## 4. Incrustación"
      ],
      "metadata": {
        "id": "H-0aClZkWazc"
      }
    },
    {
      "cell_type": "code",
      "source": [
        "import tensorflow as tf\n",
        "with tf.device('/device:GPU:0'):\n",
        "  print(\"Ya estoy usando la GPU\")"
      ],
      "metadata": {
        "colab": {
          "base_uri": "https://localhost:8080/"
        },
        "id": "w65naqJ5mEnh",
        "outputId": "56a4e202-9830-406e-e65c-80a4f35424e5"
      },
      "execution_count": null,
      "outputs": [
        {
          "output_type": "stream",
          "name": "stdout",
          "text": [
            "Ya estoy usando la GPU\n"
          ]
        }
      ]
    },
    {
      "cell_type": "markdown",
      "source": [
        "La columna que había obtenido se llama `cl_descrip`. Así que sobre ella realizo la incrustación.\n",
        "\n",
        "**Cuidado**: la siguiente celda de código puede tomar entre 5-10 minutos para ejecutarse."
      ],
      "metadata": {
        "id": "e8N60lCdWbbv"
      }
    },
    {
      "cell_type": "code",
      "source": [
        "start_time = time.time()\n",
        "\n",
        "# Cargar el modelo pre-entrenado y el tokenizador\n",
        "model_name = \"dccuchile/bert-base-spanish-wwm-cased\"\n",
        "tokenizer = BertTokenizer.from_pretrained(model_name)\n",
        "model = BertModel.from_pretrained(model_name)\n",
        "\n",
        "def generate_bert_embeddings(description):\n",
        "    if not isinstance(description, str) or not description.strip():\n",
        "        return None  # Devolver None para descripciones vacías\n",
        "    else:\n",
        "        tokens = tokenizer(description, return_tensors='pt', padding=True, truncation=True)\n",
        "\n",
        "        with torch.no_grad():\n",
        "            outputs = model(**tokens)\n",
        "            embeddings = outputs.last_hidden_state\n",
        "\n",
        "        return embeddings.squeeze()\n",
        "\n",
        "# Aplicar la función a la columna 'cl_descrip' y almacenar los resultados en una nueva columna 'mpBERT'\n",
        "base['BERT'] = base['cl_descrip'].apply(lambda x: generate_bert_embeddings(x))\n",
        "\n",
        "end_time = time.time()\n",
        "\n",
        "# Ver el DataFrame resultante\n",
        "base['BERT'].head()"
      ],
      "metadata": {
        "colab": {
          "base_uri": "https://localhost:8080/"
        },
        "id": "jhMx7UCKBjF9",
        "outputId": "a4ebb7b0-fc0b-4c5a-9252-2d4c6cd2b2d3"
      },
      "execution_count": null,
      "outputs": [
        {
          "output_type": "stream",
          "name": "stderr",
          "text": [
            "/usr/local/lib/python3.10/dist-packages/huggingface_hub/utils/_token.py:88: UserWarning: \n",
            "The secret `HF_TOKEN` does not exist in your Colab secrets.\n",
            "To authenticate with the Hugging Face Hub, create a token in your settings tab (https://huggingface.co/settings/tokens), set it as secret in your Google Colab and restart your session.\n",
            "You will be able to reuse this secret in all of your notebooks.\n",
            "Please note that authentication is recommended but still optional to access public models or datasets.\n",
            "  warnings.warn(\n",
            "Some weights of BertModel were not initialized from the model checkpoint at dccuchile/bert-base-spanish-wwm-cased and are newly initialized: ['bert.pooler.dense.bias', 'bert.pooler.dense.weight']\n",
            "You should probably TRAIN this model on a down-stream task to be able to use it for predictions and inference.\n"
          ]
        },
        {
          "output_type": "execute_result",
          "data": {
            "text/plain": [
              "0    [[tensor(0.0822), tensor(0.7222), tensor(0.328...\n",
              "1    [[tensor(-0.0469), tensor(0.6554), tensor(0.00...\n",
              "2    [[tensor(-0.9820), tensor(-0.6322), tensor(0.7...\n",
              "3    [[tensor(0.5501), tensor(1.0593), tensor(0.347...\n",
              "4    [[tensor(0.4380), tensor(0.9332), tensor(0.409...\n",
              "Name: BERT, dtype: object"
            ]
          },
          "metadata": {},
          "execution_count": 18
        }
      ]
    },
    {
      "cell_type": "code",
      "source": [
        "elapsed_time = end_time - start_time\n",
        "print(\"Tiempo de ejecución: {:.2f} segundos\".format(elapsed_time))"
      ],
      "metadata": {
        "colab": {
          "base_uri": "https://localhost:8080/"
        },
        "id": "RV_64A6Hq2cm",
        "outputId": "a62e3c1e-7828-4868-8641-fa4a2c12e53e"
      },
      "execution_count": null,
      "outputs": [
        {
          "output_type": "stream",
          "name": "stdout",
          "text": [
            "Tiempo de ejecución: 1976.35 segundos\n"
          ]
        }
      ]
    },
    {
      "cell_type": "markdown",
      "source": [
        "Se han generado varios valores, pero por 768 dimensiones, que es el número de dimensiones con las que trabaja BETO. Ahora tenemos que hacer el mean-pooling."
      ],
      "metadata": {
        "id": "lfDK5LTMWgBu"
      }
    },
    {
      "cell_type": "code",
      "source": [
        "start_time = time.time()\n",
        "\n",
        "def mean_pooling(embeddings):\n",
        "    if embeddings is None:\n",
        "        return None\n",
        "\n",
        "    # Filtrar filas con valores vacíos\n",
        "    valid_embeddings = [emb for emb in embeddings if emb is not None]\n",
        "\n",
        "    if not valid_embeddings:\n",
        "        return None  # Si no hay embeddings válidos, devolver None\n",
        "\n",
        "    # Concatenar los embeddings válidos a lo largo de la dimensión 0\n",
        "    concatenated = torch.cat(valid_embeddings, dim=0)\n",
        "\n",
        "    # Calcular el promedio a lo largo de la dimensión 0\n",
        "    pooled = torch.mean(concatenated, dim=0)\n",
        "\n",
        "    # Extraer el valor escalar del tensor resultante\n",
        "    pooled_scalar = pooled.item()\n",
        "    return pooled_scalar\n",
        "\n",
        "# Aplicar mean-pooling a cada fila en la columna 'BERT'\n",
        "base['mpBERT'] = base['BERT'].apply(lambda x: mean_pooling(x))\n",
        "\n",
        "end_time = time.time()\n",
        "\n",
        "# Ver el DataFrame resultante\n",
        "print(base['mpBERT'].head())"
      ],
      "metadata": {
        "colab": {
          "base_uri": "https://localhost:8080/"
        },
        "id": "p4hQMRAcWHhA",
        "outputId": "7959872b-4fbe-4a2c-89ba-cdbf8707cd10"
      },
      "execution_count": null,
      "outputs": [
        {
          "output_type": "stream",
          "name": "stdout",
          "text": [
            "0   -0.028735\n",
            "1   -0.028817\n",
            "2   -0.029287\n",
            "3   -0.028404\n",
            "4   -0.028375\n",
            "Name: mpBERT, dtype: float64\n"
          ]
        }
      ]
    },
    {
      "cell_type": "code",
      "source": [
        "elapsed_time = end_time - start_time\n",
        "print(\"Tiempo de ejecución: {:.2f} segundos\".format(elapsed_time))"
      ],
      "metadata": {
        "colab": {
          "base_uri": "https://localhost:8080/"
        },
        "id": "_0Do5mhUq91G",
        "outputId": "1ab37d1f-74a1-4b9c-9c3e-0b3d9defb322"
      },
      "execution_count": null,
      "outputs": [
        {
          "output_type": "stream",
          "name": "stdout",
          "text": [
            "Tiempo de ejecución: 3.14 segundos\n"
          ]
        }
      ]
    },
    {
      "cell_type": "markdown",
      "source": [
        "Si quieren, pueden exportar a Excel lo que han obtenido para ir revisando un poco su estructura."
      ],
      "metadata": {
        "id": "fqllLVKfWjpo"
      }
    },
    {
      "cell_type": "code",
      "source": [
        "#base[['cl_descrip','mpBERT']].to_excel('/content/drive/MyDrive/Documentos personales/9-Documentos Doctorado/Doctorado 2023/7-Clases/SRGVUA/rawdata/clases/bert_borrar_luego.xlsx')"
      ],
      "metadata": {
        "id": "EsKHodc_WMzA"
      },
      "execution_count": null,
      "outputs": []
    },
    {
      "cell_type": "markdown",
      "source": [
        "He notado que he obtenido el mean-pooling de cada fila, con excepción de aquellas vacías. A ellas les asignaré automáticamente 0."
      ],
      "metadata": {
        "id": "EDd8c1huWmT9"
      }
    },
    {
      "cell_type": "code",
      "source": [
        "base['mpBERT'] = base['mpBERT'].fillna(0)"
      ],
      "metadata": {
        "id": "cqOcqVX4WN8V"
      },
      "execution_count": null,
      "outputs": []
    },
    {
      "cell_type": "markdown",
      "source": [
        "Vuelvo a exportar."
      ],
      "metadata": {
        "id": "_8XyB-cZWp6E"
      }
    },
    {
      "cell_type": "code",
      "source": [
        "base.to_excel('/content/drive/MyDrive/Documentos personales/9-Documentos Doctorado/Doctorado 2023/7-Clases/SRGVUA/data/clases/habitaclia3971_1y2.xlsx')\n"
      ],
      "metadata": {
        "id": "-WwHiazEWPH-"
      },
      "execution_count": null,
      "outputs": []
    }
  ]
}