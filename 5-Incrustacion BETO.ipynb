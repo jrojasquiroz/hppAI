{
 "cells": [
  {
   "cell_type": "markdown",
   "id": "b0e5da72-ef5d-43f0-95ee-2dc1b146070d",
   "metadata": {},
   "source": [
    "# Incrustaciones con BETO"
   ]
  },
  {
   "cell_type": "markdown",
   "id": "e596d664-2dcd-4536-b615-647bd23dcb89",
   "metadata": {},
   "source": [
    "La incrustación (*embedding*) es el proceso por el que obtenemos números a partir de palabras. En este caso, realizaremos ese proceso con [BETO](https://huggingface.co/dccuchile/bert-base-spanish-wwm-cased), la versión de BERT en español.\n",
    "\n",
    "Lo que obtenemos finalmente es una columna llamada `mpBERT`, el mean-pooling de la incrustación."
   ]
  },
  {
   "cell_type": "markdown",
   "id": "1e245a1e-3d8a-4f37-b768-48d5f45886df",
   "metadata": {},
   "source": [
    "## 1. Importación de librerías y revisión del *dataframe*"
   ]
  },
  {
   "cell_type": "code",
   "execution_count": 1,
   "id": "c8bb98d8-7ffd-40e3-8f00-7cb97c6f583d",
   "metadata": {
    "tags": []
   },
   "outputs": [],
   "source": [
    "import pandas as pd\n",
    "import numpy as np\n",
    "import re #para identificar patrones en textos\n",
    "from matplotlib import pyplot as plt\n",
    "from langdetect import detect #para detectar idiomas, se tiene que instalar\n",
    "from deep_translator import GoogleTranslator #para traducir texto, se tiene que instalar\n",
    "import seaborn as sns\n",
    "import os #para manipular archivos del sistema operativo"
   ]
  },
  {
   "cell_type": "markdown",
   "id": "7bad6c86-c0a7-47da-8ebd-8bee6618a636",
   "metadata": {},
   "source": [
    "Reviso las columnas que tengo en mi dataframe."
   ]
  },
  {
   "cell_type": "code",
   "execution_count": 2,
   "id": "6eb86b0c-dff6-477c-8168-12df22e9e4f5",
   "metadata": {
    "tags": []
   },
   "outputs": [
    {
     "name": "stdout",
     "output_type": "stream",
     "text": [
      "['Unnamed: 0', 'OBJECTID', 'codigo_inmueble1', 'Title', 'Type_build', 'Type_opera', 'Link', 'Location', 'Lat_X', 'Lon_Y', 'Climatic_Z', 'Nom_Mun', 'precio_eur', 'superficie', 'superficie2', 'Unit_price', 'Ln_total_pr', 'Ln_unit_pr', 'numero_habitaciones', 'numero_bano', 'ratio_bano_hab', 'numero_aseo', 'ascensor', 'interac_planta', 'numero_de_piso', 'anyo_constr_ponderad', 'antig_ponderad', 'Inverse_Age', 'Year_Before_1981', 'Year_1982_2006', 'Year_After_2007', 'superficie_terraza_m2', 'grand_terr_20m2', 'superficie_jardin_m2', 'superficie_salon', 'bool_despacho', 'bool_buhardilla', 'bool_trastero', 'bool_lavadero', 'bool_piscina_comunitaria', 'bool_jardin_comunitario', 'bool_amueblado', 'bool_ascensor', 'descripcion', 'bool_aire_acondicionado', 'bool_calefaccion', 'bool_chimenea', 'texto_destacado', 'Description', 'calificacion_consumo_letra', 'calificacion_consumo_valor', 'calificacion_emision_letra', 'calificacion_emision_valor', 'Dum_EPC', 'EPC_A_emision', 'EPC_B_emision', 'EPC_C_emision', 'EPC_D_emision', 'EPC_E_emision', 'EPC_F_emision', 'EPC_G_emision', 'COD_MUN', 'temp_enero', 'temp_julio', 'radiacion_enero', 'radiacion_julio', 'POB_91', 'POB_01', 'POB_06', 'POR_01', 'LTL1991_M', 'LTL_2001', 'DLTL_MUN', 'RW', 'FLE', 'FLS', 'SUP_URB_90', 'SUP_URB_00', 'Job_ratio_01', 'Autocontencion_01', 'Nodalidad_01', 'Dist_CBD2', 'Dist_sub_center', 'Elevation_Mean', 'dum_acces_viappal', 'IND_pr', 'FIRE_pr', 'Div_LandUse', 'COD_SEC', 'pr_directivo', 'pr_tecnico_prof', 'pr_tecnico_apoyo', 'pr_empl_admin', 'pr_restaur_comer', 'pr_agri_calificado', 'pr_artesano', 'pr_operador', 'pr_no_calif', 'desplaz_ponderado', 'plant_ras_pond', 'edif_ruin_pr', 'edif_malo_pr', 'edif_deficient_pr', 'edif_bueno_pr', 'Doorman_pr', 'opin_ruido_si_pr', 'opin_contam_si_pr', 'opin_calle_sucia_pr', 'opin_mala_comunic_pr', 'opin_pocazonaverde_pr', 'opin_delincuencia_pr', 'opin_falta_aseo_pr', 'local_salud_pr', 'local_edu_pr', 'local_social_pr', 'local_cult_pr', 'local_comerc_pr', 'local_oficinas_pr', 'local_industr_pr', 'local_agrar_pr', 'POB_TOTAL', 'POB_RESID', 'LOC_TOTAL', 'POR_TOTAL', 'LOC_VIV_TOTAL', 'dens_loc_100hab', 'dens_loc_sup', 'dens_pob_sup', 'estud_sin_pr', 'estud_primer_pr', 'estud_segund_pr', 'estud_tercer_pr', 'VIV_ppales_TOTAL', 'Sup_viv_sec', 'viv_ppales_pr', 'viv_no_ppales_pr', 'viv_secundarias_pr', 'viv_vacias_pr', 'viv_unifam_pr', 'viv_aptos_pr', 'resi_euro_pr', 'resi_africa_pr', 'resi_america_pr', 'resi_asia_pr', 'resi_oceania_pr', 'H_ocup_POR', 'H_loc_INE', 'H_tamaviv', 'H_ocup_POR_Xpor', 'H_loc_INE_XLOCS', 'H_tamaviv_Xvivs', 'CT_renta_alta_CPA', 'CT_renta_meda_CPA', 'CT_renta_medb_CPA', 'Income_Household_2016', 'DP2e', 'Dens_Time_total', 'Dens_Time_total_work', 'Dens_Time_total_Nwork', 'Dens_pers_act_total', 'Dens_pers_act_working', 'Dens_pers_act_Nworking', 'Div_total_work', 'Div_act_work', 'Div_socio_work', 'Div_total_Nwork', 'Div_act_Nwork', 'Div_socio_Nwork', 'calidad_cocina', 'diseny_cocina', 'alta_calidad', 'reform_inmob', 'dum_mar_200m', 'dum_ttpp_riel_urb', 'dist_near_riel_km', 'dist_near_viappal_km', 'C_contempo', 'C_estado', 'C_armarios', 'B_contempo', 'B_estado', 'B_lavamano', 'R_contempo', 'R_estado', 'R_carpinte', 'R_singular', 'R_ventana', 'Dum_precio', 'Precio_red', 'scrap_year', 'persona', 'Y_2023', 'Filtro', 'filter_$', 'EPC_AB', 'EPC_ABC', 'EPC_ORD', 'Contempo_all', 'Closets_all', 'Contempo_seg', 'Conservation_seg', 'MAH_1', 'MAH_2', 'Estado_contemporaneidad_calidad', 'Ausencia_singulares_presencia_arm_cocina', 'FAC3_1', 'FAC4_1', 'FAC5_1', 'FAC6_1', 'FAC7_1', 'QCL_1', 'EPC_A_emission_2023', 'EPC_B_emission_2023', 'EPC_C_emission_2023', 'EPC_D_emission_2023', 'EPC_E_emission_2023', 'EPC_F_emission_2023', 'EPC_G_emission_2023', 'EPC_AB_2023', 'EPC_ABC_2023', 'Cluster_1', 'Cluster_2', 'Cluster_3', 'EPC_ABC_2023_CL1', 'EPC_ABC_2023_CL2', 'EPC_ABC_2023_CL3', 'EPC_ABC_CL3', 'EPC_ABC_CL2', 'EPC_ABC_CL1', 'IMR', 'Dist_CBD2_2023', 'Dist_sub_center_2023', 'DP2e_2023', 'Dummie_Terraza', 'Dummie_Terraza_2023', 'Inv_sup_terraza', 'Inv_sup_terraza_2023', 'Bool_piscina_comunitaria_2023', 'Contempo_PC_seg_2023', 'Conservation_PC_seg_2023', 'viv_aptos_pr_2023', 'Div_landUse_2023', 'Inverse_Age_2023', 'desplaz_ponderado_2023', 'Ratio_bano_hab_2023', 'Superficie_2023', 'bool_calefacción_2023', 'bool_aire_acondicionado_2023', 'interac_planta_2023', 'bool_trastero_2023', 'ascensor_2023', 'Precio_red_2023', 'grand_terr_20m2_2023', 'dum_mar200m_2023', 'Income_household_2016_2023', 'CT_renta_alta_2023', 'CT_renta_meda_2023', 'Inv_dist_sub_center', 'Inv_dist_sub_center_2023', 'emp_2020', 'emp_2022', 'Tevolu_20_23', 'Tevolu_2023', 'dum_cercanies', 'dum_cercanies_2023', 'cercanies_CBD_2023', 'AUTOP_NEAR', 'PEAJE_2020', 'PEAJE_2023', 'peaje_cambio', 'dummy_sub_center', 'pobxdum_sub_center', 'pobxdist_sub_center', 'near_sub_centerp', 'Inv_near_sub_centerp', 'NEARsub_km', 'Inv_NEARsub_km', 'dum_sub_center', 'dum_sub_center_MOD', 'poblaxdum_sub_center', 'poblaxdum_sub_center_2023', 'poblaxnear_sub_center']\n"
     ]
    }
   ],
   "source": [
    "base=pd.read_csv('rawdata/clases/habitaclia5467_ejercicio2.csv')\n",
    "print(base.columns.tolist())"
   ]
  },
  {
   "cell_type": "markdown",
   "id": "5aaec62f-ba25-48cc-bc00-a2855dfe968d",
   "metadata": {},
   "source": [
    "Con `Ctrl+F` puedo ver que hay dos que podrían tener la descripción de los anuncios. Las reviso."
   ]
  },
  {
   "cell_type": "code",
   "execution_count": 3,
   "id": "59d6e366-48b9-44db-a033-75a5b5dbbe76",
   "metadata": {
    "tags": []
   },
   "outputs": [
    {
     "data": {
      "text/html": [
       "<div>\n",
       "<style scoped>\n",
       "    .dataframe tbody tr th:only-of-type {\n",
       "        vertical-align: middle;\n",
       "    }\n",
       "\n",
       "    .dataframe tbody tr th {\n",
       "        vertical-align: top;\n",
       "    }\n",
       "\n",
       "    .dataframe thead th {\n",
       "        text-align: right;\n",
       "    }\n",
       "</style>\n",
       "<table border=\"1\" class=\"dataframe\">\n",
       "  <thead>\n",
       "    <tr style=\"text-align: right;\">\n",
       "      <th></th>\n",
       "      <th>Description</th>\n",
       "      <th>descripcion</th>\n",
       "    </tr>\n",
       "  </thead>\n",
       "  <tbody>\n",
       "    <tr>\n",
       "      <th>0</th>\n",
       "      <td>Piso reformado de 4 habitaciones, salón comedo...</td>\n",
       "      <td>NaN</td>\n",
       "    </tr>\n",
       "    <tr>\n",
       "      <th>1</th>\n",
       "      <td>BENET MATEU, PIS D´ORIGEN AMB MOLT BONA DISTRI...</td>\n",
       "      <td>NaN</td>\n",
       "    </tr>\n",
       "    <tr>\n",
       "      <th>2</th>\n",
       "      <td>Apartamento pero con acceso independiente desd...</td>\n",
       "      <td>conservada</td>\n",
       "    </tr>\n",
       "    <tr>\n",
       "      <th>3</th>\n",
       "      <td>[A2977]PISAZO, EL MEJOR DE LA ZONA.FENOMENAL P...</td>\n",
       "      <td>reformada</td>\n",
       "    </tr>\n",
       "    <tr>\n",
       "      <th>4</th>\n",
       "      <td>[A3001]VIVIENDA EN LA CALLE GARROFER DE SANT I...</td>\n",
       "      <td>reformada</td>\n",
       "    </tr>\n",
       "  </tbody>\n",
       "</table>\n",
       "</div>"
      ],
      "text/plain": [
       "                                         Description descripcion\n",
       "0  Piso reformado de 4 habitaciones, salón comedo...         NaN\n",
       "1  BENET MATEU, PIS D´ORIGEN AMB MOLT BONA DISTRI...         NaN\n",
       "2  Apartamento pero con acceso independiente desd...  conservada\n",
       "3  [A2977]PISAZO, EL MEJOR DE LA ZONA.FENOMENAL P...   reformada\n",
       "4  [A3001]VIVIENDA EN LA CALLE GARROFER DE SANT I...   reformada"
      ]
     },
     "execution_count": 3,
     "metadata": {},
     "output_type": "execute_result"
    }
   ],
   "source": [
    "base[['Description','descripcion']].head()"
   ]
  },
  {
   "cell_type": "code",
   "execution_count": 4,
   "id": "599f9e5c-8ec9-4549-98b9-5c257d633ee1",
   "metadata": {
    "tags": []
   },
   "outputs": [
    {
     "data": {
      "text/plain": [
       "5467"
      ]
     },
     "execution_count": 4,
     "metadata": {},
     "output_type": "execute_result"
    }
   ],
   "source": [
    "len(base)"
   ]
  },
  {
   "cell_type": "markdown",
   "id": "8fe5f546-8ba2-427d-8053-ba57754ff560",
   "metadata": {},
   "source": [
    "## 2. Limpieza de `Description`"
   ]
  },
  {
   "cell_type": "markdown",
   "id": "a1ef92c1-30dd-4edf-a1c7-664b71d2fc3e",
   "metadata": {},
   "source": [
    "Paso a limpiar el texto. Defino una serie de funciones."
   ]
  },
  {
   "cell_type": "code",
   "execution_count": 5,
   "id": "610dc010-d34f-433f-adc8-46cc59c213aa",
   "metadata": {
    "tags": []
   },
   "outputs": [],
   "source": [
    "def treat_euro(text):\n",
    "    text = re.sub(r'(euro[^s])|(euros)|(€)', ' euros', text)\n",
    "    return text\n",
    "\n",
    "def treat_m2(text):\n",
    "    text = re.sub(r'(m2)|(m²)', ' m²', text)\n",
    "    return text\n",
    "\n",
    "def filter_ibans(text):\n",
    "    pattern = r'ES\\d{2}[ ]\\d{4}[ ]\\d{4}[ ]\\d{4}[ ]\\d{4}[ ]\\d{2}|ES\\d{20}|ES[ ]\\d{2}[ ]\\d{3}[ ]\\d{3}[ ]\\d{3}[ ]\\d{5}'\n",
    "    text = re.sub(pattern, '', text)\n",
    "    return text\n",
    "\n",
    "def remove_space_between_numbers(text):\n",
    "    text = re.sub(r'(\\d)\\s+(\\d)', r'\\1\\2', text)\n",
    "    return text\n",
    "\n",
    "def filter_emails(text):\n",
    "    pattern = r'(?:(?!.*?[.]{2})[a-zA-Z0-9](?:[a-zA-Z0-9.+!%-]{1,64}|)|\\\"[a-zA-Z0-9.+!% -]{1,64}\\\")@[a-zA-Z0-9][a-zA-Z0-9.-]+(.[a-z]{2,}|.[0-9]{1,})'\n",
    "    text = re.sub(pattern, '', text)\n",
    "    return text\n",
    "\n",
    "def filter_ref(text):\n",
    "    pattern = r'(\\(*)(ref|REF)(\\.|[ ])\\d+(\\)*)'\n",
    "    text = re.sub(pattern, '', text)\n",
    "    return text\n",
    "\n",
    "def filter_websites(text):\n",
    "    pattern = r'(http\\:\\/\\/|https\\:\\/\\/)?([a-z0-9][a-z0-9\\-]*\\.)+[a-z][a-z\\-]*'\n",
    "    text = re.sub(pattern, '', text)\n",
    "    return text\n",
    "\n",
    "def filter_phone_numbers(text):\n",
    "    pattern = r'(?:(?:\\+|00)33[\\s.-]{0,3}(?:\\(0\\)[\\s.-]{0,3})?|0)[1-9](?:(?:[\\s.-]?\\d{2}){4}|\\d{2}(?:[\\s.-]?\\d{3}){2})|(\\d{2}[ ]\\d{2}[ ]\\d{3}[ ]\\d{3})'\n",
    "    text = re.sub(pattern, '', text)\n",
    "    return text\n",
    "\n",
    "def remove_large_numbers(text):\n",
    "    pattern = r'\\b\\d{4,}\\b'\n",
    "    text = re.sub(pattern, '', text)\n",
    "    return text\n",
    "\n",
    "def remove_text_in_brackets(text):\n",
    "    pattern = r'\\[[^\\]]*\\]|\\{[^}]*\\}'\n",
    "    text = re.sub(pattern, '', text)\n",
    "    return text"
   ]
  },
  {
   "cell_type": "markdown",
   "id": "d0276e5f-ff5b-4e32-9ae5-332b83ac3ff8",
   "metadata": {},
   "source": [
    "Ahora agrupo todas esas funciones y las aplico a `base` para crear una nueva columna."
   ]
  },
  {
   "cell_type": "code",
   "execution_count": 6,
   "id": "2845fc08-c058-4fd5-b689-ed8a4f23808a",
   "metadata": {
    "tags": []
   },
   "outputs": [
    {
     "data": {
      "text/plain": [
       "0    Piso reformado de 4 habitaciones, salón comedo...\n",
       "1    BENET MATEU, PIS D´ORIGEN AMB MOLT BONA DISTRI...\n",
       "2    Apartamento pero con acceso independiente desd...\n",
       "3    PISAZO, EL MEJOR DE LA ZONA.FENOMENAL PISO SIN...\n",
       "4    VIVIENDA EN LA CALLE GARROFER DE SANT IDELFONS...\n",
       "Name: cl_descrip, dtype: object"
      ]
     },
     "execution_count": 6,
     "metadata": {},
     "output_type": "execute_result"
    }
   ],
   "source": [
    "def clean_text(text):\n",
    "    if isinstance(text, str):  # Verifica si text es una cadena de texto\n",
    "        text = text.replace(u'\\xa0', u' ')\n",
    "        text = treat_m2(text)\n",
    "        text = treat_euro(text)\n",
    "        text = filter_phone_numbers(text)\n",
    "        text = filter_emails(text)\n",
    "        text = filter_ibans(text)\n",
    "        text = filter_ref(text)\n",
    "        text = filter_websites(text)\n",
    "        text = remove_space_between_numbers(text)\n",
    "        text = remove_large_numbers(text)\n",
    "        text = remove_text_in_brackets(text)\n",
    "    return text\n",
    "\n",
    "base['cl_descrip'] = base.Description.apply(clean_text)\n",
    "base['cl_descrip'].head()"
   ]
  },
  {
   "cell_type": "markdown",
   "id": "027dd162-1a7c-48fc-a959-28606a83c16f",
   "metadata": {},
   "source": [
    "Tenemos un problema más: **¡Hay texto en catalán!** Y probablemente en algún otro idioma, dado que algunos anuncios los ponen en distintos idiomas a la vez."
   ]
  },
  {
   "cell_type": "markdown",
   "id": "a4ae91b4-e5b8-4dcf-978d-f7aaa3fa20a8",
   "metadata": {
    "tags": []
   },
   "source": [
    "## 3. Corte de la descripción y traducción al español"
   ]
  },
  {
   "cell_type": "markdown",
   "id": "a6335a7d-8e77-41ce-8987-7f4bbd4eb10b",
   "metadata": {},
   "source": [
    "Debido al tamaño de nuestro dataframe, es probable que convenga cortar la cantidad de palabras por celda. Primero, veamos la extensión de cada anuncio."
   ]
  },
  {
   "cell_type": "code",
   "execution_count": 7,
   "id": "c57008b2-fd1a-43ba-85c8-1b63e98b7737",
   "metadata": {
    "tags": []
   },
   "outputs": [
    {
     "data": {
      "image/png": "[encoded data removed]",
      "text/plain": [
       "<Figure size 640x480 with 1 Axes>"
      ]
     },
     "metadata": {},
     "output_type": "display_data"
    }
   ],
   "source": [
    "# Reemplazar los valores NaN o no válidos con una cadena vacía ''\n",
    "base['cl_descrip'] = base['cl_descrip'].fillna('')\n",
    "\n",
    "# Dividir cada elemento de la columna 'Description' en palabras y contar la cantidad de palabras\n",
    "base['cantidad_palabras'] = base['cl_descrip'].apply(lambda x: len(x.split()))\n",
    "\n",
    "# Crear un histograma de la cantidad de palabras\n",
    "plt.hist(base['cantidad_palabras'], bins=10, color='skyblue', edgecolor='black')\n",
    "plt.xlabel('Cantidad de palabras')\n",
    "plt.ylabel('Frecuencia')\n",
    "plt.title('Histograma de cantidad de palabras')\n",
    "plt.show()"
   ]
  },
  {
   "cell_type": "markdown",
   "id": "e4ea194d-10a7-4c3a-873e-83e484bcbe3f",
   "metadata": {
    "tags": []
   },
   "source": [
    "Podemos exportar el archivo para ver qué características tienen aquellos anuncios más largos."
   ]
  },
  {
   "cell_type": "code",
   "execution_count": 8,
   "id": "44bf214a-a622-4606-aa70-fc19e0e73a0e",
   "metadata": {},
   "outputs": [],
   "source": [
    "#base[['cl_descrip','cantidad_palabras']].to_excel('rawdata/clases/extension_borrar_luego.xlsx')"
   ]
  },
  {
   "cell_type": "markdown",
   "id": "328e96ec-1f04-46b8-9f6b-2b643f954c60",
   "metadata": {},
   "source": [
    "Lo que veo es que aquellos que están por arriba de 300 usualmente tienen texto repetido, sólo que en distintos idiomas. Por tanto, pongo ese límite para mi dataframe. Ustedes, si lo consideran necesario, pueden cambiarlo.\n",
    "\n",
    "Empiezo creando una columna que me indique el idioma en el que está cada fila con la función `detect` de `langdetect`."
   ]
  },
  {
   "cell_type": "code",
   "execution_count": 9,
   "id": "e1e26cd4-0603-4f6b-af76-2be2394c1b69",
   "metadata": {
    "tags": []
   },
   "outputs": [],
   "source": [
    "# Función para detectar el idioma de un texto\n",
    "def detect_language(text):\n",
    "    try:\n",
    "        return detect(text)\n",
    "    except:\n",
    "        return None\n",
    "\n",
    "# Agrega una nueva columna 'Language' con el idioma detectado para cada descripción\n",
    "base['Language'] = base['cl_descrip'].apply(detect_language)"
   ]
  },
  {
   "cell_type": "code",
   "execution_count": 10,
   "id": "ecfa4296-1204-4bc4-a12e-07c48d4f8e3f",
   "metadata": {
    "tags": []
   },
   "outputs": [
    {
     "data": {
      "text/plain": [
       "0    es\n",
       "1    de\n",
       "2    es\n",
       "3    de\n",
       "4    en\n",
       "Name: Language, dtype: object"
      ]
     },
     "execution_count": 10,
     "metadata": {},
     "output_type": "execute_result"
    }
   ],
   "source": [
    "base['Language'].head()"
   ]
  },
  {
   "cell_type": "markdown",
   "id": "f0366c4f-f30a-4a5b-b962-226fe4bfa3b3",
   "metadata": {},
   "source": [
    "Los resultados no parecen ser tan buenos, pues reconoce el catalán como alemán, y en algunos casos, el mismo español como alemán.\n",
    "Sin embargo, esto no debería ser un gran problema: si a continuación le pido que todas aquellas filas con un idioma distinto al español (`!= 'es'`) sean traducidas a ese idioma, aquellas que ya estén en español no sufrirán mayores cambios."
   ]
  },
  {
   "cell_type": "code",
   "execution_count": 11,
   "id": "e5f2e081-bde2-4326-9416-efcfa585cd45",
   "metadata": {
    "tags": []
   },
   "outputs": [
    {
     "data": {
      "text/plain": [
       "0    Piso reformado de 4 habitaciones, salón comedo...\n",
       "1    BENET MATEU, PISO DE ORIGEN CON MUY BUENA DIST...\n",
       "2    Apartamento pero con acceso independiente desd...\n",
       "3    PISAZO, EL MEJOR DE LA ZONA.FENOMENAL PISO SIN...\n",
       "4    VIVIENDA EN LA CALLE GARROFER DE SANT IDELFONS...\n",
       "Name: cl_descrip, dtype: object"
      ]
     },
     "execution_count": 11,
     "metadata": {},
     "output_type": "execute_result"
    }
   ],
   "source": [
    "#En caso haya alguna celda en blanco, la relleno con un espacio en blanco\n",
    "base['cl_descrip'] = base['cl_descrip'].fillna('')\n",
    "\n",
    "# Función para cortar el texto a un máximo de 300 palabras\n",
    "def truncate_text(text):\n",
    "    words = text.split()[:300]\n",
    "    truncated_text = ' '.join(words)\n",
    "    return truncated_text\n",
    "\n",
    "# Aplico la función para truncar el texto en la columna 'cl_descrip'\n",
    "base['cl_descrip'] = base['cl_descrip'].apply(truncate_text)\n",
    "\n",
    "# Filtro las filas que tienen 'Language' algo distinto al español ('es')\n",
    "no_esp_descriptions = base[base['Language'] != 'es']['cl_descrip']\n",
    "\n",
    "# Traduzco las descripciones al español\n",
    "translated_descriptions = []\n",
    "for description in no_esp_descriptions:\n",
    "    translated_description = GoogleTranslator(source='auto', target='es').translate(description)\n",
    "    translated_descriptions.append(translated_description)\n",
    "\n",
    "# Reemplazo las descripciones traducidas en el DataFrame original\n",
    "base.loc[base['Language'] != 'es', 'cl_descrip'] = translated_descriptions\n",
    "\n",
    "base['cl_descrip'].head()"
   ]
  },
  {
   "cell_type": "code",
   "execution_count": 12,
   "id": "4366fec9-8c33-4ef9-ab1c-ad527b1d4650",
   "metadata": {
    "tags": []
   },
   "outputs": [
    {
     "data": {
      "text/plain": [
       "5462    Piso En Mollet Del Vallès!Ubicado a 600m de la...\n",
       "5463    La Casa Agency presenta en Exclusividad, esta ...\n",
       "5464    Mis Finques promociona esta planta baja con pa...\n",
       "5465    PISO CON TERRAZAPiso con TERRAZA DE 40M2. La v...\n",
       "5466    Precioso piso en una finca joven de tan solo 1...\n",
       "Name: cl_descrip, dtype: object"
      ]
     },
     "execution_count": 12,
     "metadata": {},
     "output_type": "execute_result"
    }
   ],
   "source": [
    "base['cl_descrip'].tail()"
   ]
  },
  {
   "cell_type": "markdown",
   "id": "8e12e50a-0b54-453c-8ab7-f8380c7db2ec",
   "metadata": {},
   "source": [
    "Ya tenemos listo nuestro dataframe."
   ]
  },
  {
   "cell_type": "markdown",
   "id": "72584805-820b-43e1-b4b5-2e52f936ccd4",
   "metadata": {},
   "source": [
    "## 4. Incrustación "
   ]
  },
  {
   "cell_type": "markdown",
   "id": "bcb21554-c067-452c-8a57-d11d9760e590",
   "metadata": {},
   "source": [
    "La columna que había obtenido se llama `cl_descrip`. Así que sobre ella realizo la incrustación. \n",
    "\n",
    "**Cuidado**: la siguiente celda de código puede tomar entre 10-15 minutos para ejecutarse."
   ]
  },
  {
   "cell_type": "code",
   "execution_count": 16,
   "id": "4ed2c99d-4456-4d6f-8d22-448e2916d2dc",
   "metadata": {
    "tags": []
   },
   "outputs": [
    {
     "name": "stderr",
     "output_type": "stream",
     "text": [
      "Some weights of BertModel were not initialized from the model checkpoint at dccuchile/bert-base-spanish-wwm-cased and are newly initialized: ['bert.pooler.dense.bias', 'bert.pooler.dense.weight']\n",
      "You should probably TRAIN this model on a down-stream task to be able to use it for predictions and inference.\n"
     ]
    },
    {
     "data": {
      "text/plain": [
       "0    [[tensor(0.2230), tensor(0.8936), tensor(0.015...\n",
       "1    [[tensor(-0.5705), tensor(-0.5332), tensor(0.2...\n",
       "2    [[tensor(0.2280), tensor(0.8552), tensor(0.031...\n",
       "3    [[tensor(-0.1498), tensor(-0.1150), tensor(0.3...\n",
       "4    [[tensor(-0.4635), tensor(-0.2368), tensor(0.1...\n",
       "Name: BERT, dtype: object"
      ]
     },
     "execution_count": 16,
     "metadata": {},
     "output_type": "execute_result"
    }
   ],
   "source": [
    "import torch\n",
    "from transformers import BertTokenizer, BertModel\n",
    "\n",
    "# Cargar el modelo pre-entrenado y el tokenizador\n",
    "model_name = \"dccuchile/bert-base-spanish-wwm-cased\"\n",
    "tokenizer = BertTokenizer.from_pretrained(model_name)\n",
    "model = BertModel.from_pretrained(model_name)\n",
    "\n",
    "def generate_bert_embeddings(description):\n",
    "    if not isinstance(description, str) or not description.strip():\n",
    "        return None  # Devolver None para descripciones vacías\n",
    "    else:\n",
    "        tokens = tokenizer(description, return_tensors='pt', padding=True, truncation=True)\n",
    "        \n",
    "        with torch.no_grad():\n",
    "            outputs = model(**tokens)\n",
    "            embeddings = outputs.last_hidden_state\n",
    "        \n",
    "        return embeddings.squeeze()\n",
    "    \n",
    "# Aplicar la función a la columna 'cl_descrip' y almacenar los resultados en una nueva columna 'mpBERT'\n",
    "base['BERT'] = base['cl_descrip'].apply(lambda x: generate_bert_embeddings(x))\n",
    "\n",
    "# Ver el DataFrame resultante\n",
    "base['BERT'].head()"
   ]
  },
  {
   "cell_type": "markdown",
   "id": "ef297c05-41dd-4a93-891d-34bd69b6934b",
   "metadata": {},
   "source": [
    "Se han generado varios valores, pero por 768 dimensiones, que es el número de dimensiones con las que trabaja BETO. Ahora tenemos que hacer el mean-pooling."
   ]
  },
  {
   "cell_type": "code",
   "execution_count": 28,
   "id": "0dc6db55-c9d5-40ba-9999-f5bbc1456643",
   "metadata": {
    "tags": []
   },
   "outputs": [
    {
     "name": "stdout",
     "output_type": "stream",
     "text": [
      "0   -0.028312\n",
      "1   -0.028498\n",
      "2   -0.028680\n",
      "3   -0.028602\n",
      "4   -0.028879\n",
      "Name: mpBERT, dtype: float64\n"
     ]
    }
   ],
   "source": [
    "def mean_pooling(embeddings):\n",
    "    if embeddings is None:\n",
    "        return None\n",
    "    \n",
    "    # Filtrar filas con valores vacíos\n",
    "    valid_embeddings = [emb for emb in embeddings if emb is not None]\n",
    "    \n",
    "    if not valid_embeddings:\n",
    "        return None  # Si no hay embeddings válidos, devolver None\n",
    "    \n",
    "    # Concatenar los embeddings válidos a lo largo de la dimensión 0\n",
    "    concatenated = torch.cat(valid_embeddings, dim=0)\n",
    "    \n",
    "    # Calcular el promedio a lo largo de la dimensión 0\n",
    "    pooled = torch.mean(concatenated, dim=0)\n",
    "    \n",
    "    # Extraer el valor escalar del tensor resultante\n",
    "    pooled_scalar = pooled.item()\n",
    "    return pooled_scalar\n",
    "\n",
    "# Aplicar mean-pooling a cada fila en la columna 'BERT'\n",
    "base['mpBERT'] = base['BERT'].apply(lambda x: mean_pooling(x))\n",
    "\n",
    "# Ver el DataFrame resultante\n",
    "print(base['mpBERT'].head())"
   ]
  },
  {
   "cell_type": "markdown",
   "id": "5587ba4a-fde6-47a0-bf9a-afb35434f4c0",
   "metadata": {
    "tags": []
   },
   "source": [
    "Si quieren, pueden exportar a Excel lo que han obtenido para ir revisando un poco su estructura."
   ]
  },
  {
   "cell_type": "code",
   "execution_count": 31,
   "id": "5cae691b-07d3-4e78-81df-b42655c369cf",
   "metadata": {
    "tags": []
   },
   "outputs": [],
   "source": [
    "#base[['cl_descrip','mpBERT']].to_excel('rawdata/clases/bert_borrar_luego.xlsx')"
   ]
  },
  {
   "cell_type": "markdown",
   "id": "65d68b93-b331-4dff-ad29-61d513e7a50a",
   "metadata": {},
   "source": [
    "He notado que he obtenido el mean-pooling de cada fila, con excepción de aquellas vacías. A ellas les asignaré automáticamente 0. "
   ]
  },
  {
   "cell_type": "code",
   "execution_count": 30,
   "id": "9b887f92-edac-49fe-9781-bfcc616ec08e",
   "metadata": {
    "tags": []
   },
   "outputs": [],
   "source": [
    "base['mpBERT'] = base['mpBERT'].fillna(0)"
   ]
  },
  {
   "cell_type": "markdown",
   "id": "bf338671-8120-4515-9091-4f7d88396c6b",
   "metadata": {
    "tags": []
   },
   "source": [
    "Ahora sí exporto."
   ]
  },
  {
   "cell_type": "code",
   "execution_count": 32,
   "id": "722a92ab-15f4-4c9c-8596-fa457463531d",
   "metadata": {
    "tags": []
   },
   "outputs": [],
   "source": [
    "base.to_csv('rawdata/clases/habitaclia5467_ejercicio3-1y2.csv') \n",
    "#Lo guardo en csv porque cuestión de gustos, pueden hacerlo\n",
    "#en formato xlsx."
   ]
  }
 ],
 "metadata": {
  "kernelspec": {
   "display_name": "Python 3 (ipykernel)",
   "language": "python",
   "name": "python3"
  },
  "language_info": {
   "codemirror_mode": {
    "name": "ipython",
    "version": 3
   },
   "file_extension": ".py",
   "mimetype": "text/x-python",
   "name": "python",
   "nbconvert_exporter": "python",
   "pygments_lexer": "ipython3",
   "version": "3.11.5"
  }
 },
 "nbformat": 4,
 "nbformat_minor": 5
}
