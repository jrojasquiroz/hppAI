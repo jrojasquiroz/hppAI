{
 "cells": [
  {
   "cell_type": "markdown",
   "id": "b0e5da72-ef5d-43f0-95ee-2dc1b146070d",
   "metadata": {},
   "source": [
    "# Incrustaciones con BETO"
   ]
  },
  {
   "cell_type": "markdown",
   "id": "54163a36-dd9a-4c66-b531-121fb7c892d2",
   "metadata": {},
   "source": [
    "La incrustación (*embedding*) es el proceso por el que obtenemos números a partir de palabras. En el cuadernon `5-Sentimiento.ipynb` ya he realizado la limpieza de la columna `Description`. Por tanto, usaré el dataframe que obtuve de ese proceso para obtener la tokenización con [BETO](https://huggingface.co/dccuchile/bert-base-spanish-wwm-cased), la versión de BERT en español."
   ]
  },
  {
   "cell_type": "code",
   "execution_count": 7,
   "id": "14b83774-bad8-4979-aa68-e448a1b195cf",
   "metadata": {
    "tags": []
   },
   "outputs": [],
   "source": [
    "import pandas as pd\n",
    "import numpy as np\n",
    "import re "
   ]
  },
  {
   "cell_type": "markdown",
   "id": "d7c4d88a-6e01-48e8-af96-08f03f7f5b47",
   "metadata": {},
   "source": [
    "Reviso las columnas que tengo en mi dataframe."
   ]
  },
  {
   "cell_type": "code",
   "execution_count": 36,
   "id": "beb269e4-cdb3-42f4-a3ef-68bd06afd827",
   "metadata": {
    "collapsed": true,
    "jupyter": {
     "outputs_hidden": true
    },
    "tags": []
   },
   "outputs": [
    {
     "name": "stdout",
     "output_type": "stream",
     "text": [
      "['Unnamed: 0.1', 'Unnamed: 0', 'OBJECTID', 'codigo_inmueble1', 'Title', 'Type_build', 'Type_opera', 'Link', 'Location', 'Lat_X', 'Lon_Y', 'Climatic_Z', 'Nom_Mun', 'precio_eur', 'superficie', 'superficie2', 'Unit_price', 'Ln_total_pr', 'Ln_unit_pr', 'numero_habitaciones', 'numero_bano', 'ratio_bano_hab', 'numero_aseo', 'ascensor', 'interac_planta', 'numero_de_piso', 'anyo_constr_ponderad', 'antig_ponderad', 'Inverse_Age', 'Year_Before_1981', 'Year_1982_2006', 'Year_After_2007', 'superficie_terraza_m2', 'grand_terr_20m2', 'superficie_jardin_m2', 'superficie_salon', 'bool_despacho', 'bool_buhardilla', 'bool_trastero', 'bool_lavadero', 'bool_piscina_comunitaria', 'bool_jardin_comunitario', 'bool_amueblado', 'bool_ascensor', 'descripcion', 'bool_aire_acondicionado', 'bool_calefaccion', 'bool_chimenea', 'texto_destacado', 'Description', 'calificacion_consumo_letra', 'calificacion_consumo_valor', 'calificacion_emision_letra', 'calificacion_emision_valor', 'Dum_EPC', 'EPC_A_emision', 'EPC_B_emision', 'EPC_C_emision', 'EPC_D_emision', 'EPC_E_emision', 'EPC_F_emision', 'EPC_G_emision', 'COD_MUN', 'temp_enero', 'temp_julio', 'radiacion_enero', 'radiacion_julio', 'POB_91', 'POB_01', 'POB_06', 'POR_01', 'LTL1991_M', 'LTL_2001', 'DLTL_MUN', 'RW', 'FLE', 'FLS', 'SUP_URB_90', 'SUP_URB_00', 'Job_ratio_01', 'Autocontencion_01', 'Nodalidad_01', 'Dist_CBD2', 'Dist_sub_center', 'Elevation_Mean', 'dum_acces_viappal', 'IND_pr', 'FIRE_pr', 'Div_LandUse', 'COD_SEC', 'pr_directivo', 'pr_tecnico_prof', 'pr_tecnico_apoyo', 'pr_empl_admin', 'pr_restaur_comer', 'pr_agri_calificado', 'pr_artesano', 'pr_operador', 'pr_no_calif', 'desplaz_ponderado', 'plant_ras_pond', 'edif_ruin_pr', 'edif_malo_pr', 'edif_deficient_pr', 'edif_bueno_pr', 'Doorman_pr', 'opin_ruido_si_pr', 'opin_contam_si_pr', 'opin_calle_sucia_pr', 'opin_mala_comunic_pr', 'opin_pocazonaverde_pr', 'opin_delincuencia_pr', 'opin_falta_aseo_pr', 'local_salud_pr', 'local_edu_pr', 'local_social_pr', 'local_cult_pr', 'local_comerc_pr', 'local_oficinas_pr', 'local_industr_pr', 'local_agrar_pr', 'POB_TOTAL', 'POB_RESID', 'LOC_TOTAL', 'POR_TOTAL', 'LOC_VIV_TOTAL', 'dens_loc_100hab', 'dens_loc_sup', 'dens_pob_sup', 'estud_sin_pr', 'estud_primer_pr', 'estud_segund_pr', 'estud_tercer_pr', 'VIV_ppales_TOTAL', 'Sup_viv_sec', 'viv_ppales_pr', 'viv_no_ppales_pr', 'viv_secundarias_pr', 'viv_vacias_pr', 'viv_unifam_pr', 'viv_aptos_pr', 'resi_euro_pr', 'resi_africa_pr', 'resi_america_pr', 'resi_asia_pr', 'resi_oceania_pr', 'H_ocup_POR', 'H_loc_INE', 'H_tamaviv', 'H_ocup_POR_Xpor', 'H_loc_INE_XLOCS', 'H_tamaviv_Xvivs', 'CT_renta_alta_CPA', 'CT_renta_meda_CPA', 'CT_renta_medb_CPA', 'Income_Household_2016', 'DP2e', 'Dens_Time_total', 'Dens_Time_total_work', 'Dens_Time_total_Nwork', 'Dens_pers_act_total', 'Dens_pers_act_working', 'Dens_pers_act_Nworking', 'Div_total_work', 'Div_act_work', 'Div_socio_work', 'Div_total_Nwork', 'Div_act_Nwork', 'Div_socio_Nwork', 'calidad_cocina', 'diseny_cocina', 'alta_calidad', 'reform_inmob', 'dum_mar_200m', 'dum_ttpp_riel_urb', 'dist_near_riel_km', 'dist_near_viappal_km', 'C_contempo', 'C_estado', 'C_armarios', 'B_contempo', 'B_estado', 'B_lavamano', 'R_contempo', 'R_estado', 'R_carpinte', 'R_singular', 'R_ventana', 'Dum_precio', 'Precio_red', 'scrap_year', 'persona', 'Y_2023', 'Filtro', 'filter_$', 'EPC_AB', 'EPC_ABC', 'EPC_ORD', 'Contempo_all', 'Closets_all', 'Contempo_seg', 'Conservation_seg', 'MAH_1', 'MAH_2', 'Estado_contemporaneidad_calidad', 'Ausencia_singulares_presencia_arm_cocina', 'FAC3_1', 'FAC4_1', 'FAC5_1', 'FAC6_1', 'FAC7_1', 'QCL_1', 'EPC_A_emission_2023', 'EPC_B_emission_2023', 'EPC_C_emission_2023', 'EPC_D_emission_2023', 'EPC_E_emission_2023', 'EPC_F_emission_2023', 'EPC_G_emission_2023', 'EPC_AB_2023', 'EPC_ABC_2023', 'Cluster_1', 'Cluster_2', 'Cluster_3', 'EPC_ABC_2023_CL1', 'EPC_ABC_2023_CL2', 'EPC_ABC_2023_CL3', 'EPC_ABC_CL3', 'EPC_ABC_CL2', 'EPC_ABC_CL1', 'IMR', 'Dist_CBD2_2023', 'Dist_sub_center_2023', 'DP2e_2023', 'Dummie_Terraza', 'Dummie_Terraza_2023', 'Inv_sup_terraza', 'Inv_sup_terraza_2023', 'Bool_piscina_comunitaria_2023', 'Contempo_PC_seg_2023', 'Conservation_PC_seg_2023', 'viv_aptos_pr_2023', 'Div_landUse_2023', 'Inverse_Age_2023', 'desplaz_ponderado_2023', 'Ratio_bano_hab_2023', 'Superficie_2023', 'bool_calefacción_2023', 'bool_aire_acondicionado_2023', 'interac_planta_2023', 'bool_trastero_2023', 'ascensor_2023', 'Precio_red_2023', 'grand_terr_20m2_2023', 'dum_mar200m_2023', 'Income_household_2016_2023', 'CT_renta_alta_2023', 'CT_renta_meda_2023', 'Inv_dist_sub_center', 'Inv_dist_sub_center_2023', 'emp_2020', 'emp_2022', 'Tevolu_20_23', 'Tevolu_2023', 'dum_cercanies', 'dum_cercanies_2023', 'cercanies_CBD_2023', 'AUTOP_NEAR', 'PEAJE_2020', 'PEAJE_2023', 'peaje_cambio', 'dummy_sub_center', 'pobxdum_sub_center', 'pobxdist_sub_center', 'near_sub_centerp', 'Inv_near_sub_centerp', 'NEARsub_km', 'Inv_NEARsub_km', 'dum_sub_center', 'dum_sub_center_MOD', 'poblaxdum_sub_center', 'poblaxdum_sub_center_2023', 'poblaxnear_sub_center', 'cl_descrip', 'Language', 'cantidad_palabras', 'POS', 'NEU', 'NEG', 'Sent_NEU_noPOS', 'Sent_NEG']\n"
     ]
    }
   ],
   "source": [
    "base=pd.read_csv('rawdata/clases/habitaclia5467_ejercicio3.csv')\n",
    "print(base.columns.tolist())"
   ]
  },
  {
   "cell_type": "markdown",
   "id": "010c5958-a1ee-4bed-8b85-b0a1c26e9411",
   "metadata": {},
   "source": [
    "La columna que había obtenido se llama `cl_descrip`. Así que sobre ella trabajo. \n",
    "\n",
    "**Cuidado**: la siguiente celda de código puede tomar entre 10-15 minutos para ejecutarse."
   ]
  },
  {
   "cell_type": "code",
   "execution_count": 37,
   "id": "1f788594-4527-4604-85b0-ba8ca3044ba9",
   "metadata": {
    "tags": []
   },
   "outputs": [
    {
     "name": "stderr",
     "output_type": "stream",
     "text": [
      "Some weights of BertModel were not initialized from the model checkpoint at dccuchile/bert-base-spanish-wwm-cased and are newly initialized: ['bert.pooler.dense.weight', 'bert.pooler.dense.bias']\n",
      "You should probably TRAIN this model on a down-stream task to be able to use it for predictions and inference.\n"
     ]
    },
    {
     "data": {
      "text/plain": [
       "0    [tensor(-0.0741), tensor(0.0608), tensor(-0.29...\n",
       "1    [tensor(-0.1882), tensor(-0.3323), tensor(0.08...\n",
       "2    [tensor(0.0010), tensor(0.3503), tensor(-0.295...\n",
       "3    [tensor(-0.2751), tensor(-0.1341), tensor(0.07...\n",
       "4    [tensor(-0.3513), tensor(-0.1383), tensor(0.15...\n",
       "Name: BERT, dtype: object"
      ]
     },
     "execution_count": 37,
     "metadata": {},
     "output_type": "execute_result"
    }
   ],
   "source": [
    "import torch\n",
    "from transformers import BertTokenizer, BertModel\n",
    "\n",
    "# Cargar el tokenizador y el modelo BERT preentrenado en español\n",
    "tokenizer = BertTokenizer.from_pretrained(\"dccuchile/bert-base-spanish-wwm-cased\")\n",
    "model = BertModel.from_pretrained(\"dccuchile/bert-base-spanish-wwm-cased\")\n",
    "\n",
    "# Definir una función para generar las incrustaciones BERT\n",
    "def generate_bert_embeddings(description):\n",
    "    if not isinstance(description, str) or not description.strip():\n",
    "        return torch.zeros(1, 768)  # Devolver un tensor de ceros para descripciones no válidas\n",
    "    else:\n",
    "        # Tokenizar la descripción\n",
    "        tokens = tokenizer(description, return_tensors='pt', padding=True, truncation=True)\n",
    "        \n",
    "        # Obtener las incrustaciones BERT\n",
    "        with torch.no_grad():\n",
    "            outputs = model(**tokens)\n",
    "            embeddings = outputs.last_hidden_state.mean(dim=1)  # Promedio de los embeddings de todas las palabras\n",
    "        \n",
    "        return embeddings.squeeze()\n",
    "\n",
    "# Aplicar la función a la columna 'cl_descrip' y almacenar los resultados en una nueva columna 'BERT'\n",
    "base['BERT'] = base['cl_descrip'].apply(lambda x: generate_bert_embeddings(x))\n",
    "\n",
    "# Ver el DataFrame resultante\n",
    "base['BERT'].head()"
   ]
  },
  {
   "cell_type": "markdown",
   "id": "ef297c05-41dd-4a93-891d-34bd69b6934b",
   "metadata": {},
   "source": [
    "Se han generado varios valores, pero por 768 dimensiones, que es el número de dimensiones con las que trabaja BETO. Ahora tenemos que hacer el mean-pooling. Le voy a indicar que aquellas filas sin descripción tengan únicamente valores 0."
   ]
  },
  {
   "cell_type": "code",
   "execution_count": 38,
   "id": "6d6b0723-a3e3-4a63-8e48-6c2343e39abb",
   "metadata": {
    "tags": []
   },
   "outputs": [
    {
     "data": {
      "text/plain": [
       "0   -0.028312\n",
       "1   -0.028498\n",
       "2    -0.02868\n",
       "3   -0.028602\n",
       "4   -0.028879\n",
       "Name: mpBERT, dtype: object"
      ]
     },
     "execution_count": 38,
     "metadata": {},
     "output_type": "execute_result"
    }
   ],
   "source": [
    "def mean_pooling(row):\n",
    "    # Convierte la columna 'BERT' en una matriz NumPy\n",
    "    bert_array = np.array(row['BERT'])\n",
    "    # Calcula la media a lo largo del eje 0\n",
    "    return np.mean(bert_array, axis=0)\n",
    "\n",
    "# Aplicamos la función para calcular la media de los vectores BERT\n",
    "base['mpBERT'] = base.apply(mean_pooling, axis=1)\n",
    "\n",
    "base['mpBERT'].head()"
   ]
  },
  {
   "cell_type": "markdown",
   "id": "5587ba4a-fde6-47a0-bf9a-afb35434f4c0",
   "metadata": {
    "tags": []
   },
   "source": [
    "Si quieren, pueden exportar a Excel lo que han obtenido para ir revisando un poco su estructura."
   ]
  },
  {
   "cell_type": "code",
   "execution_count": 40,
   "id": "5cae691b-07d3-4e78-81df-b42655c369cf",
   "metadata": {
    "tags": []
   },
   "outputs": [],
   "source": [
    "#base[['cl_descrip','BERT','mpBERT']].to_excel('rawdata/clases/habitaclia5467_ejercicio3-v2.xlsx')"
   ]
  },
  {
   "cell_type": "markdown",
   "id": "65d68b93-b331-4dff-ad29-61d513e7a50a",
   "metadata": {},
   "source": [
    "He notado que he obtenido el mean-pooling de cada fila, con excepción de aquellas con valores 0. Voy a corregir eso. "
   ]
  },
  {
   "cell_type": "code",
   "execution_count": 41,
   "id": "11b4a62e-ef98-4d51-8631-bdae6e78e29f",
   "metadata": {
    "tags": []
   },
   "outputs": [],
   "source": [
    "# Verificar si hay valores que no sean números en la columna 'Columna1'\n",
    "valores_no_numericos = pd.to_numeric(base['mpBERT'], errors='coerce').isnull()\n",
    "\n",
    "# Convertir los valores no numéricos a 0\n",
    "base.loc[valores_no_numericos, 'mpBERT'] = 0"
   ]
  },
  {
   "cell_type": "markdown",
   "id": "bf338671-8120-4515-9091-4f7d88396c6b",
   "metadata": {
    "tags": []
   },
   "source": [
    "Ahora sí exporto."
   ]
  },
  {
   "cell_type": "code",
   "execution_count": 42,
   "id": "722a92ab-15f4-4c9c-8596-fa457463531d",
   "metadata": {
    "tags": []
   },
   "outputs": [],
   "source": [
    "base.to_csv('rawdata/clases/habitaclia5467_ejercicio3-v2.csv') \n",
    "#Antes lo hice en excel, porque es más sencillo así explorar.\n",
    "#Ahora lo guardo en csv. Es cuestión de gustos."
   ]
  }
 ],
 "metadata": {
  "kernelspec": {
   "display_name": "Python 3 (ipykernel)",
   "language": "python",
   "name": "python3"
  },
  "language_info": {
   "codemirror_mode": {
    "name": "ipython",
    "version": 3
   },
   "file_extension": ".py",
   "mimetype": "text/x-python",
   "name": "python",
   "nbconvert_exporter": "python",
   "pygments_lexer": "ipython3",
   "version": "3.11.5"
  }
 },
 "nbformat": 4,
 "nbformat_minor": 5
}
