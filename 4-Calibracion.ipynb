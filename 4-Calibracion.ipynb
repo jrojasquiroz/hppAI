{
 "cells": [
  {
   "cell_type": "markdown",
   "id": "58c9d868-08a7-43c8-a5ce-30c7b6d9f2bb",
   "metadata": {
    "tags": []
   },
   "source": [
    "# 1. Modelo de precios hedónicos (OLS)"
   ]
  },
  {
   "cell_type": "markdown",
   "id": "c2192c9c-759a-452c-aa03-5fa9553fd05e",
   "metadata": {
    "tags": []
   },
   "source": [
    "## 1.1. Obtención y limpieza de datos"
   ]
  },
  {
   "cell_type": "markdown",
   "id": "6e782b73-1197-45a5-80e3-2cdae5c7db33",
   "metadata": {},
   "source": [
    "Primero vamos a cargar las librerías que usaremos para elaborar un modelo de precios hedónicos (OLS), y con ello la base de datos que compartió Carlos."
   ]
  },
  {
   "cell_type": "code",
   "execution_count": 1,
   "id": "48d7e649-4ffa-4391-b9b1-982adda43f92",
   "metadata": {
    "tags": []
   },
   "outputs": [
    {
     "name": "stdout",
     "output_type": "stream",
     "text": [
      "<class 'pandas.core.frame.DataFrame'>\n",
      "RangeIndex: 4043 entries, 0 to 4042\n",
      "Columns: 203 entries, OBJECTID_1 to EPC_G_emision_2023\n",
      "dtypes: category(1), float64(189), object(13)\n",
      "memory usage: 6.2+ MB\n"
     ]
    }
   ],
   "source": [
    "import pandas as pd #permite manipular los dataframes, que serían el equivalente a los Excel\n",
    "import numpy as np #en caso se necesiten cálculos numéricos, como p. ej. encontrar valores nulos \n",
    "import pyreadstat #para cargar datos que vienen de SPSS\n",
    "import statsmodels.api as sm #para elaborar modelos OLS\n",
    "\n",
    "base=pd.read_spss('rawdata/BDDHabitaclia_4043_join.sav')\n",
    "base.info()"
   ]
  },
  {
   "cell_type": "markdown",
   "id": "49db061a-0f92-4c78-8245-0a6cc2e8653c",
   "metadata": {},
   "source": [
    "Reviso los nombres de las columnas"
   ]
  },
  {
   "cell_type": "code",
   "execution_count": 2,
   "id": "8c3ddf85-45b8-4e49-989f-46a70f073389",
   "metadata": {
    "tags": []
   },
   "outputs": [
    {
     "name": "stdout",
     "output_type": "stream",
     "text": [
      "['OBJECTID_1', 'codigo_inmueble1', 'Title', 'Type_build', 'Type_opera', 'Link', 'Location', 'Lat_X', 'Lon_Y', 'Climatic_Z', 'Nom_Mun', 'precio_eur', 'superficie', 'superficie_2', 'Unit_price', 'Ln_total_pr', 'Ln_unit_pr', 'numero_habitaciones', 'numero_bano', 'ratio_bano_hab', 'numero_aseo', 'ascensor', 'interac_planta', 'numero_de_piso', 'anyo_constr', 'anyo_constr_ponderad', 'antig_ponderad', 'Inverse_Age', 'Year_Before_1981', 'Year_1982_2006', 'Year_After_2007', 'superficie_terraza_m2', 'grand_terr_20m2', 'superficie_jardin_m2', 'superficie_salon', 'bool_despacho', 'bool_buhardilla', 'bool_trastero', 'bool_lavadero', 'bool_piscina_comunitaria', 'bool_jardin_comunitario', 'bool_amueblado', 'bool_ascensor', 'descripcion', 'bool_aire_acondicionado', 'bool_calefaccion', 'bool_chimenea', 'texto_destacado', 'Description', 'calificacion_consumo_letra', 'calificacion_consumo_valor', 'calificacion_emision_letra', 'calificacion_emision_valor', 'Dum_EPC', 'EPC_A_emision', 'EPC_B_emision', 'EPC_C_emision', 'EPC_D_emision', 'EPC_E_emision', 'EPC_F_emision', 'EPC_G_emision', 'COD_MUN', 'temp_enero', 'temp_julio', 'radiacion_enero', 'radiacion_julio', 'POB_91', 'POB_01', 'POB_06', 'POR_01', 'LTL1991_M', 'LTL_2001', 'DLTL_MUN', 'RW', 'FLE', 'FLS', 'SUP_URB_90', 'SUP_URB_00', 'Job_ratio_01', 'Autocontencion_01', 'Nodalidad_01', 'Dist_CBD', 'Dist_CBD2', 'Dist_sub_center', 'Elevation_Mean', 'dum_acces_viappal', 'IND_pr', 'FIRE_pr', 'Div_LandUse', 'COD_SEC', 'pr_directivo', 'pr_tecnico_prof', 'pr_tecnico_apoyo', 'pr_empl_admin', 'pr_restaur_comer', 'pr_agri_calificado', 'pr_artesano', 'pr_operador', 'pr_no_calif', 'desplaz_ponderado', 'plant_ras_pond', 'edif_ruin_pr', 'edif_malo_pr', 'edif_deficient_pr', 'edif_bueno_pr', 'Doorman_pr', 'opin_ruido_si_pr', 'opin_contam_si_pr', 'opin_calle_sucia_pr', 'opin_mala_comunic_pr', 'opin_pocazonaverde_pr', 'opin_delincuencia_pr', 'opin_falta_aseo_pr', 'local_salud_pr', 'local_edu_pr', 'local_social_pr', 'local_cult_pr', 'local_comerc_pr', 'local_oficinas_pr', 'local_industr_pr', 'local_agrar_pr', 'POB_TOTAL', 'POB_RESID', 'LOC_TOTAL', 'POR_TOTAL', 'LOC_VIV_TOTAL', 'dens_loc_100hab', 'dens_loc_sup', 'dens_pob_sup', 'estud_sin_pr', 'estud_primer_pr', 'estud_segund_pr', 'estud_tercer_pr', 'VIV_ppales_TOTAL', 'Sup_viv_sec', 'viv_ppales_pr', 'viv_no_ppales_pr', 'viv_secundarias_pr', 'viv_vacias_pr', 'viv_unifam_pr', 'viv_aptos_pr', 'resi_euro_pr', 'resi_africa_pr', 'resi_america_pr', 'resi_asia_pr', 'resi_oceania_pr', 'H_ocup_POR', 'H_loc_INE', 'H_tamaviv', 'H_ocup_POR_Xpor', 'H_loc_INE_XLOCS', 'H_tamaviv_Xvivs', 'CT_renta_alta_CPA', 'CT_renta_meda_CPA', 'CT_renta_medb_CPA', 'Income_Household_2016', 'DP2e', 'Dens_Time_total', 'Dens_Time_total_work', 'Dens_Time_total_Nwork', 'Dens_pers_act_total', 'Dens_pers_act_working', 'Dens_pers_act_Nworking', 'Div_total_work', 'Div_act_work', 'Div_socio_work', 'Div_total_Nwork', 'Div_act_Nwork', 'Div_socio_Nwork', 'calidad_cocina', 'diseny_cocina', 'alta_calidad', 'reform_inmob', 'dum_mar_200m', 'dum_ttpp_riel_urb', 'dist_near_riel_km', 'dist_near_viappal_km', 'C_contempo', 'C_estado', 'C_armarios', 'B_contempo', 'B_estado', 'B_lavamano', 'R_contempo', 'R_estado', 'R_carpinte', 'R_singular', 'R_ventana', 'Dum_precio', 'Precio_red', 'scrap_year', 'persona', 'filter_$', 'FAC1_1', 'FAC2_1', 'Muestra_2023', 'EPC_A_emision_2023', 'EPC_B_emision_2023', 'EPC_C_emision_2023', 'EPC_D_emision_2023', 'EPC_E_emision_2023', 'EPC_F_emision_2023', 'EPC_G_emision_2023']\n"
     ]
    }
   ],
   "source": [
    "print(base.columns.tolist())"
   ]
  },
  {
   "cell_type": "markdown",
   "id": "2a5455ff-52a9-4c47-b06d-bee38681be15",
   "metadata": {},
   "source": [
    "En su modelo, Carlos usa las siguientes variables."
   ]
  },
  {
   "cell_type": "code",
   "execution_count": 3,
   "id": "42afdc16-f71d-4b98-b001-7d2bb8bc79ae",
   "metadata": {
    "tags": []
   },
   "outputs": [
    {
     "data": {
      "text/html": [
       "<div>\n",
       "<style scoped>\n",
       "    .dataframe tbody tr th:only-of-type {\n",
       "        vertical-align: middle;\n",
       "    }\n",
       "\n",
       "    .dataframe tbody tr th {\n",
       "        vertical-align: top;\n",
       "    }\n",
       "\n",
       "    .dataframe thead th {\n",
       "        text-align: right;\n",
       "    }\n",
       "</style>\n",
       "<table border=\"1\" class=\"dataframe\">\n",
       "  <thead>\n",
       "    <tr style=\"text-align: right;\">\n",
       "      <th></th>\n",
       "      <th>CT_renta_alta_CPA</th>\n",
       "      <th>CT_renta_meda_CPA</th>\n",
       "      <th>DP2e</th>\n",
       "      <th>Dist_CBD2</th>\n",
       "      <th>EPC_A_emision</th>\n",
       "      <th>EPC_B_emision</th>\n",
       "      <th>EPC_C_emision</th>\n",
       "      <th>EPC_D_emision</th>\n",
       "      <th>EPC_E_emision</th>\n",
       "      <th>EPC_F_emision</th>\n",
       "      <th>...</th>\n",
       "      <th>bool_calefaccion</th>\n",
       "      <th>bool_piscina_comunitaria</th>\n",
       "      <th>desplaz_ponderado</th>\n",
       "      <th>dum_mar_200m</th>\n",
       "      <th>grand_terr_20m2</th>\n",
       "      <th>interac_planta</th>\n",
       "      <th>opin_ruido_si_pr</th>\n",
       "      <th>ratio_bano_hab</th>\n",
       "      <th>superficie</th>\n",
       "      <th>superficie_2</th>\n",
       "    </tr>\n",
       "  </thead>\n",
       "  <tbody>\n",
       "    <tr>\n",
       "      <th>0</th>\n",
       "      <td>0.179265</td>\n",
       "      <td>0.629695</td>\n",
       "      <td>14.304224</td>\n",
       "      <td>3.143035</td>\n",
       "      <td>0.0</td>\n",
       "      <td>0.0</td>\n",
       "      <td>0.0</td>\n",
       "      <td>0.0</td>\n",
       "      <td>1.0</td>\n",
       "      <td>0.0</td>\n",
       "      <td>...</td>\n",
       "      <td>1.0</td>\n",
       "      <td>0.0</td>\n",
       "      <td>27.187629</td>\n",
       "      <td>0.0</td>\n",
       "      <td>1.0</td>\n",
       "      <td>2.0</td>\n",
       "      <td>43.530314</td>\n",
       "      <td>1.000000</td>\n",
       "      <td>86.0</td>\n",
       "      <td>7396.0</td>\n",
       "    </tr>\n",
       "    <tr>\n",
       "      <th>1</th>\n",
       "      <td>-0.400132</td>\n",
       "      <td>0.678419</td>\n",
       "      <td>9.873995</td>\n",
       "      <td>3.868774</td>\n",
       "      <td>0.0</td>\n",
       "      <td>1.0</td>\n",
       "      <td>0.0</td>\n",
       "      <td>0.0</td>\n",
       "      <td>0.0</td>\n",
       "      <td>0.0</td>\n",
       "      <td>...</td>\n",
       "      <td>1.0</td>\n",
       "      <td>0.0</td>\n",
       "      <td>26.831497</td>\n",
       "      <td>0.0</td>\n",
       "      <td>0.0</td>\n",
       "      <td>3.0</td>\n",
       "      <td>41.376779</td>\n",
       "      <td>0.666667</td>\n",
       "      <td>97.0</td>\n",
       "      <td>9409.0</td>\n",
       "    </tr>\n",
       "    <tr>\n",
       "      <th>2</th>\n",
       "      <td>-0.763527</td>\n",
       "      <td>0.215970</td>\n",
       "      <td>11.400419</td>\n",
       "      <td>4.517012</td>\n",
       "      <td>0.0</td>\n",
       "      <td>0.0</td>\n",
       "      <td>0.0</td>\n",
       "      <td>1.0</td>\n",
       "      <td>0.0</td>\n",
       "      <td>0.0</td>\n",
       "      <td>...</td>\n",
       "      <td>0.0</td>\n",
       "      <td>0.0</td>\n",
       "      <td>27.542064</td>\n",
       "      <td>0.0</td>\n",
       "      <td>0.0</td>\n",
       "      <td>-3.0</td>\n",
       "      <td>36.155690</td>\n",
       "      <td>0.666667</td>\n",
       "      <td>77.0</td>\n",
       "      <td>5929.0</td>\n",
       "    </tr>\n",
       "    <tr>\n",
       "      <th>3</th>\n",
       "      <td>-0.520908</td>\n",
       "      <td>0.403254</td>\n",
       "      <td>11.540736</td>\n",
       "      <td>3.539149</td>\n",
       "      <td>0.0</td>\n",
       "      <td>0.0</td>\n",
       "      <td>0.0</td>\n",
       "      <td>0.0</td>\n",
       "      <td>1.0</td>\n",
       "      <td>0.0</td>\n",
       "      <td>...</td>\n",
       "      <td>0.0</td>\n",
       "      <td>0.0</td>\n",
       "      <td>27.909746</td>\n",
       "      <td>0.0</td>\n",
       "      <td>0.0</td>\n",
       "      <td>2.0</td>\n",
       "      <td>36.451325</td>\n",
       "      <td>0.500000</td>\n",
       "      <td>95.0</td>\n",
       "      <td>9025.0</td>\n",
       "    </tr>\n",
       "    <tr>\n",
       "      <th>4</th>\n",
       "      <td>-0.069044</td>\n",
       "      <td>1.017454</td>\n",
       "      <td>11.120200</td>\n",
       "      <td>5.277817</td>\n",
       "      <td>0.0</td>\n",
       "      <td>1.0</td>\n",
       "      <td>0.0</td>\n",
       "      <td>0.0</td>\n",
       "      <td>0.0</td>\n",
       "      <td>0.0</td>\n",
       "      <td>...</td>\n",
       "      <td>1.0</td>\n",
       "      <td>0.0</td>\n",
       "      <td>24.657258</td>\n",
       "      <td>0.0</td>\n",
       "      <td>0.0</td>\n",
       "      <td>2.0</td>\n",
       "      <td>41.172813</td>\n",
       "      <td>0.750000</td>\n",
       "      <td>163.0</td>\n",
       "      <td>26569.0</td>\n",
       "    </tr>\n",
       "  </tbody>\n",
       "</table>\n",
       "<p>5 rows × 32 columns</p>\n",
       "</div>"
      ],
      "text/plain": [
       "   CT_renta_alta_CPA  CT_renta_meda_CPA       DP2e  Dist_CBD2  EPC_A_emision  \\\n",
       "0           0.179265           0.629695  14.304224   3.143035            0.0   \n",
       "1          -0.400132           0.678419   9.873995   3.868774            0.0   \n",
       "2          -0.763527           0.215970  11.400419   4.517012            0.0   \n",
       "3          -0.520908           0.403254  11.540736   3.539149            0.0   \n",
       "4          -0.069044           1.017454  11.120200   5.277817            0.0   \n",
       "\n",
       "   EPC_B_emision  EPC_C_emision  EPC_D_emision  EPC_E_emision  EPC_F_emision  \\\n",
       "0            0.0            0.0            0.0            1.0            0.0   \n",
       "1            1.0            0.0            0.0            0.0            0.0   \n",
       "2            0.0            0.0            1.0            0.0            0.0   \n",
       "3            0.0            0.0            0.0            1.0            0.0   \n",
       "4            1.0            0.0            0.0            0.0            0.0   \n",
       "\n",
       "   ...  bool_calefaccion  bool_piscina_comunitaria  desplaz_ponderado  \\\n",
       "0  ...               1.0                       0.0          27.187629   \n",
       "1  ...               1.0                       0.0          26.831497   \n",
       "2  ...               0.0                       0.0          27.542064   \n",
       "3  ...               0.0                       0.0          27.909746   \n",
       "4  ...               1.0                       0.0          24.657258   \n",
       "\n",
       "   dum_mar_200m  grand_terr_20m2  interac_planta  opin_ruido_si_pr  \\\n",
       "0           0.0              1.0             2.0         43.530314   \n",
       "1           0.0              0.0             3.0         41.376779   \n",
       "2           0.0              0.0            -3.0         36.155690   \n",
       "3           0.0              0.0             2.0         36.451325   \n",
       "4           0.0              0.0             2.0         41.172813   \n",
       "\n",
       "   ratio_bano_hab  superficie  superficie_2  \n",
       "0        1.000000        86.0        7396.0  \n",
       "1        0.666667        97.0        9409.0  \n",
       "2        0.666667        77.0        5929.0  \n",
       "3        0.500000        95.0        9025.0  \n",
       "4        0.750000       163.0       26569.0  \n",
       "\n",
       "[5 rows x 32 columns]"
      ]
     },
     "execution_count": 3,
     "metadata": {},
     "output_type": "execute_result"
    }
   ],
   "source": [
    "# Seleccionar las columnas especificadas\n",
    "selected_columns = ['Ln_total_pr', 'EPC_C_emision', 'EPC_F_emision', 'EPC_B_emision', 'EPC_A_emision', 'EPC_D_emision', \n",
    "                    'EPC_G_emision', 'EPC_E_emision', 'superficie', 'CT_renta_alta_CPA', 'superficie_2', \n",
    "                    'bool_ascensor', 'bool_piscina_comunitaria', 'bool_calefaccion', \n",
    "                    'desplaz_ponderado', 'Income_Household_2016', 'FIRE_pr', 'FAC1_1', 'FAC2_1', \n",
    "                    'grand_terr_20m2', 'Year_After_2007', 'CT_renta_meda_CPA', 'DP2e', 'dum_mar_200m', \n",
    "                    'bool_aire_acondicionado', 'Precio_red', 'ratio_bano_hab', 'Year_1982_2006', 'opin_ruido_si_pr', \n",
    "                    'Dist_CBD2', 'H_tamaviv', 'interac_planta']\n",
    "\n",
    "#FAC1_1 y FAC2_1 hacen referencia a 'Estado_contemporaneidad_calidad' y 'Ausencia_singulares_presencia_arm_cocina'\n",
    "\n",
    "# Seleccionar las columnas y ordenarlas alfabéticamente para que los resultados sean como\n",
    "# el Excel de Carlos\n",
    "bdd = base[selected_columns].sort_index(axis=1)\n",
    "\n",
    "# Muestra el DataFrame resultante\n",
    "bdd.head()"
   ]
  },
  {
   "cell_type": "markdown",
   "id": "638fb5f0-b925-4497-a41a-084f59c62666",
   "metadata": {},
   "source": [
    "Luego, hizo un filtro para eliminar outliers tomando en consideración la media y la desviación estándar."
   ]
  },
  {
   "cell_type": "code",
   "execution_count": 4,
   "id": "4ff4bcad-d4c5-44a5-85bc-244048636257",
   "metadata": {
    "tags": []
   },
   "outputs": [
    {
     "name": "stdout",
     "output_type": "stream",
     "text": [
      "<class 'pandas.core.frame.DataFrame'>\n",
      "Index: 3859 entries, 0 to 4042\n",
      "Data columns (total 32 columns):\n",
      " #   Column                    Non-Null Count  Dtype  \n",
      "---  ------                    --------------  -----  \n",
      " 0   CT_renta_alta_CPA         3859 non-null   float64\n",
      " 1   CT_renta_meda_CPA         3859 non-null   float64\n",
      " 2   DP2e                      3859 non-null   float64\n",
      " 3   Dist_CBD2                 3859 non-null   float64\n",
      " 4   EPC_A_emision             3859 non-null   float64\n",
      " 5   EPC_B_emision             3859 non-null   float64\n",
      " 6   EPC_C_emision             3859 non-null   float64\n",
      " 7   EPC_D_emision             3859 non-null   float64\n",
      " 8   EPC_E_emision             3859 non-null   float64\n",
      " 9   EPC_F_emision             3859 non-null   float64\n",
      " 10  EPC_G_emision             3859 non-null   float64\n",
      " 11  FAC1_1                    3859 non-null   float64\n",
      " 12  FAC2_1                    3859 non-null   float64\n",
      " 13  FIRE_pr                   3859 non-null   float64\n",
      " 14  H_tamaviv                 3859 non-null   float64\n",
      " 15  Income_Household_2016     3859 non-null   float64\n",
      " 16  Ln_total_pr               3859 non-null   float64\n",
      " 17  Precio_red                3859 non-null   float64\n",
      " 18  Year_1982_2006            3859 non-null   float64\n",
      " 19  Year_After_2007           3859 non-null   float64\n",
      " 20  bool_aire_acondicionado   3859 non-null   float64\n",
      " 21  bool_ascensor             3859 non-null   float64\n",
      " 22  bool_calefaccion          3859 non-null   float64\n",
      " 23  bool_piscina_comunitaria  3859 non-null   float64\n",
      " 24  desplaz_ponderado         3859 non-null   float64\n",
      " 25  dum_mar_200m              3859 non-null   float64\n",
      " 26  grand_terr_20m2           3859 non-null   float64\n",
      " 27  interac_planta            3859 non-null   float64\n",
      " 28  opin_ruido_si_pr          3859 non-null   float64\n",
      " 29  ratio_bano_hab            3852 non-null   float64\n",
      " 30  superficie                3859 non-null   float64\n",
      " 31  superficie_2              3859 non-null   float64\n",
      "dtypes: float64(32)\n",
      "memory usage: 994.9 KB\n"
     ]
    }
   ],
   "source": [
    "df = bdd[(bdd['Ln_total_pr'] >= 11.2842035426135) & (bdd['Ln_total_pr'] <= 13.8409882055083)]\n",
    "df.info()"
   ]
  },
  {
   "cell_type": "markdown",
   "id": "55895de4-2b22-47d7-bdd9-e598bee4fffe",
   "metadata": {},
   "source": [
    "Los resultados nos muestran que hay 3859 observaciones y no hay valores nulos (noten los *non-null*). Sin embargo, cuando a continuación intento hacer el modelo de precios hedónicos, me sale un mensaje de que existen filas vacías (en Python se les conoce como valores *NaN*-Not a Number). A veces pasan esas cosas, y diferenciar entre un valor *null* y un *NaN* suele ser complejo para quienes no venimos del mundo de la programación.\n",
    "\n",
    "Para no hacernos problemas, el primer paso es eliminar aquellas filas vacías. A continuación, identificamos las variables independientes o **explicativas** (**X**) y la dependiente o **a explicar** (**Y**), y corremos el modelo."
   ]
  },
  {
   "cell_type": "markdown",
   "id": "0dfc3c13-6d22-4b52-a35a-f477f026bae4",
   "metadata": {
    "jp-MarkdownHeadingCollapsed": true,
    "tags": []
   },
   "source": [
    "## 1.2. Elaboración del modelo"
   ]
  },
  {
   "cell_type": "code",
   "execution_count": 5,
   "id": "4834d721-53ea-450d-bfc8-aee249ea1a1c",
   "metadata": {
    "tags": []
   },
   "outputs": [
    {
     "name": "stdout",
     "output_type": "stream",
     "text": [
      "                            OLS Regression Results                            \n",
      "==============================================================================\n",
      "Dep. Variable:            Ln_total_pr   R-squared:                       0.883\n",
      "Model:                            OLS   Adj. R-squared:                  0.882\n",
      "Method:                 Least Squares   F-statistic:                     930.3\n",
      "Date:                Tue, 13 Feb 2024   Prob (F-statistic):               0.00\n",
      "Time:                        19:25:18   Log-Likelihood:                 929.74\n",
      "No. Observations:                3852   AIC:                            -1795.\n",
      "Df Residuals:                    3820   BIC:                            -1595.\n",
      "Df Model:                          31                                         \n",
      "Covariance Type:            nonrobust                                         \n",
      "============================================================================================\n",
      "                               coef    std err          t      P>|t|      [0.025      0.975]\n",
      "--------------------------------------------------------------------------------------------\n",
      "const                       10.9734      0.091    121.177      0.000      10.796      11.151\n",
      "CT_renta_alta_CPA            0.0994      0.016      6.381      0.000       0.069       0.130\n",
      "CT_renta_meda_CPA            0.0573      0.007      7.853      0.000       0.043       0.072\n",
      "DP2e                         0.0148      0.002      5.959      0.000       0.010       0.020\n",
      "Dist_CBD2                   -0.0071      0.002     -3.185      0.001      -0.012      -0.003\n",
      "EPC_A_emision                0.0501      0.025      2.030      0.042       0.002       0.099\n",
      "EPC_B_emision                0.1734      0.027      6.416      0.000       0.120       0.226\n",
      "EPC_C_emision                0.0373      0.022      1.678      0.094      -0.006       0.081\n",
      "EPC_D_emision               -0.0514      0.015     -3.441      0.001      -0.081      -0.022\n",
      "EPC_E_emision                0.0021      0.007      0.290      0.772      -0.012       0.016\n",
      "EPC_F_emision                0.0037      0.015      0.254      0.800      -0.025       0.033\n",
      "EPC_G_emision                0.0056      0.013      0.428      0.669      -0.020       0.031\n",
      "FAC1_1                       0.0567      0.004     15.932      0.000       0.050       0.064\n",
      "FAC2_1                       0.0255      0.003      7.846      0.000       0.019       0.032\n",
      "FIRE_pr                      0.0119      0.001      7.925      0.000       0.009       0.015\n",
      "H_tamaviv                    0.0981      0.029      3.382      0.001       0.041       0.155\n",
      "Income_Household_2016     7.235e-06    5.1e-07     14.174      0.000    6.23e-06    8.24e-06\n",
      "Precio_red                1.596e-07   3.17e-08      5.039      0.000    9.75e-08    2.22e-07\n",
      "Year_1982_2006               0.0349      0.012      2.919      0.004       0.011       0.058\n",
      "Year_After_2007              0.1234      0.016      7.597      0.000       0.092       0.155\n",
      "bool_aire_acondicionado      0.0306      0.007      4.310      0.000       0.017       0.045\n",
      "bool_ascensor                0.1018      0.013      7.830      0.000       0.076       0.127\n",
      "bool_calefaccion             0.0431      0.007      5.913      0.000       0.029       0.057\n",
      "bool_piscina_comunitaria     0.1709      0.019      9.085      0.000       0.134       0.208\n",
      "desplaz_ponderado           -0.0192      0.002     -8.488      0.000      -0.024      -0.015\n",
      "dum_mar_200m                 0.2771      0.040      6.896      0.000       0.198       0.356\n",
      "grand_terr_20m2              0.0976      0.012      7.902      0.000       0.073       0.122\n",
      "interac_planta               0.0035      0.002      2.334      0.020       0.001       0.007\n",
      "opin_ruido_si_pr             0.0016      0.001      2.831      0.005       0.000       0.003\n",
      "ratio_bano_hab               0.0549      0.014      3.814      0.000       0.027       0.083\n",
      "superficie                   0.0145      0.000     46.356      0.000       0.014       0.015\n",
      "superficie_2             -3.047e-05   1.17e-06    -25.938      0.000   -3.28e-05   -2.82e-05\n",
      "==============================================================================\n",
      "Omnibus:                      132.095   Durbin-Watson:                   1.845\n",
      "Prob(Omnibus):                  0.000   Jarque-Bera (JB):              298.803\n",
      "Skew:                          -0.190   Prob(JB):                     1.31e-65\n",
      "Kurtosis:                       4.310   Cond. No.                     3.22e+06\n",
      "==============================================================================\n",
      "\n",
      "Notes:\n",
      "[1] Standard Errors assume that the covariance matrix of the errors is correctly specified.\n",
      "[2] The condition number is large, 3.22e+06. This might indicate that there are\n",
      "strong multicollinearity or other numerical problems.\n"
     ]
    }
   ],
   "source": [
    "# Eliminar filas con valores infinitos o NaN en las variables independientes (X) y dependiente (y)\n",
    "df = df.replace([np.inf, -np.inf], np.nan).dropna()  #Me he dado cuenta que hay filas vacías, las elimino.\n",
    "\n",
    "# Definir las variables independientes (X) y dependiente (y)\n",
    "X_olsC = df.drop('Ln_total_pr', axis=1)  # Todas las columnas excepto 'Ln_total_pr'\n",
    "y_olsC = df['Ln_total_pr']  # Columna 'Ln_total_pr'\n",
    "\n",
    "# Agregar una constante (Beta) a la matriz X para el término de intercepción del modelo\n",
    "X_olsC = sm.add_constant(X_olsC) #'sm' es la librería 'statsmodels' que cargamos al inicio. Ya\n",
    "                            #está configurada para que 'sepa' qué tiene que hacer\n",
    "\n",
    "# Crear el modelo de regresión lineal\n",
    "olsC = sm.OLS(y_olsC, X_olsC) #noten que seguimos pidiendole que use 'sm' \n",
    "\n",
    "# Ajustar el modelo a los datos\n",
    "results = olsC.fit()\n",
    "\n",
    "# Imprimir el resumen del modelo\n",
    "print(results.summary())"
   ]
  },
  {
   "cell_type": "markdown",
   "id": "802cd930-8bce-40a9-9dea-356d1a192e65",
   "metadata": {},
   "source": [
    "Podría haber hecho correlaciones antes de correr el modelo, u obtener los gráficos de distribución del error ahora que ya lo tengo, pero como es un modelo que ya ha sido corroborado por Carlos, sólo quería estar seguro que (**1**) haciéndolo en Python tengo los mismos resultados y (**2**) que estoy manipulando los datos de la misma forma que él."
   ]
  },
  {
   "cell_type": "markdown",
   "id": "54677a6b-b263-4fd8-88d2-e8c958f9a12c",
   "metadata": {},
   "source": [
    "Akram et al. (2024) utilizan cinco parámetros para medir el rendimiento del modelo: Mean Absolute Error (MAE), Relative Absolute Error (RAE), Root Mean Squared Error (RMSE), Root Relative Squared Error (RRSE) y el Coeficiente de determinación ($R^2$).\n",
    "\n",
    "Si bien el último ya lo obtengo del modelo de Carlos, para calcular los otros parámetros es mejor subdividir las observaciones en dos muestras: una de entrenamiento (75-80%) y otra de testeo (20-25%), de lo contrario se basarían en los mismos datos que se utilizaron para entrenar el modelo (100%) y no proporcionarían una estimación imparcial de su rendimiento en datos no vistos.\n",
    "\n",
    "Tengan presente, además, que los modelos de regresión se pueden usar para entender un fenómeno (el caso del primero modelo) o para predecirlo (que es lo que intentamos hacer ahora)."
   ]
  },
  {
   "cell_type": "markdown",
   "id": "b9c8856d-0a1b-41ed-9591-dd8ef1223f29",
   "metadata": {
    "tags": []
   },
   "source": [
    "## 1.3. Elaboración del segundo modelo"
   ]
  },
  {
   "cell_type": "markdown",
   "id": "bc6a5008-1b46-4679-805a-15bc8490a04c",
   "metadata": {
    "tags": []
   },
   "source": [
    "Primero, cargamos las nuevas librerías que usaremos para esta tarea."
   ]
  },
  {
   "cell_type": "code",
   "execution_count": 6,
   "id": "f9ca7039-0a2a-4141-a364-0e0093cd5b76",
   "metadata": {
    "tags": []
   },
   "outputs": [],
   "source": [
    "from sklearn.model_selection import train_test_split #para dividir datos en entrenamiento y testeo\n",
    "import seaborn as sns #para hacer gráficos, p. ej. el de distribución de una variable\n",
    "import matplotlib.pyplot as plt #completo de sns para gráficos \n",
    "from sklearn.metrics import mean_absolute_error, mean_squared_error, r2_score #para calcular parámetros del modelo"
   ]
  },
  {
   "cell_type": "markdown",
   "id": "79f43441-6d74-4154-9ab7-fff4afe8cfb3",
   "metadata": {},
   "source": [
    "Ya no trabajaremos con el dataframe `df`, sino con `bdd`, porque el primero tiene pre-establecido un filtro para eliminar outliers."
   ]
  },
  {
   "cell_type": "code",
   "execution_count": 7,
   "id": "84cb30d0-7fea-4762-9c4f-f2e368f1fa6a",
   "metadata": {
    "tags": []
   },
   "outputs": [],
   "source": [
    "# Eliminar filas con valores infinitos o NaN en las variables independientes (X) y dependiente (y)\n",
    "bdd = bdd.replace([np.inf, -np.inf], np.nan).dropna()  #Me he dado cuenta que hay filas vacías, las elimino.\n",
    "\n",
    "# Definir las variables independientes (X) y dependiente (y)\n",
    "X_ols = bdd.drop('Ln_total_pr', axis=1)  # Todas las columnas excepto 'Ln_total_pr'\n",
    "y_ols = bdd['Ln_total_pr']  # Columna 'Ln_total_pr'"
   ]
  },
  {
   "cell_type": "code",
   "execution_count": 45,
   "id": "ac06f4a0-1ca4-4725-a513-82cfbc7e7859",
   "metadata": {
    "tags": []
   },
   "outputs": [],
   "source": [
    "# Dividir los datos en conjuntos de entrenamiento y testeo\n",
    "X_trainOLS, X_testOLS, y_trainOLS, y_testOLS = train_test_split(\n",
    "                                                    X_ols, y_ols, \n",
    "                                                    test_size=0.25, \n",
    "                                                    random_state=42 #Puede ser cualquier número\n",
    "                                                    ) "
   ]
  },
  {
   "cell_type": "markdown",
   "id": "fa880e8a-3a88-4df6-85e5-5ca764419ae0",
   "metadata": {},
   "source": [
    "Ahora debemos asegurarnos que nuestros datos de entrenamiento no tengan outliers. Para eso, vamos a ver la distribución de la Y de entrenamiento (*y_trainOLS*), que debería ser de tipo normal."
   ]
  },
  {
   "cell_type": "code",
   "execution_count": 46,
   "id": "98bb27aa-9596-4644-a7c5-671f9d363710",
   "metadata": {
    "tags": []
   },
   "outputs": [
    {
     "data": {
      "image/png": "[encoded data removed]",
      "text/plain": [
       "<Figure size 640x480 with 1 Axes>"
      ]
     },
     "metadata": {},
     "output_type": "display_data"
    }
   ],
   "source": [
    "# Crear un histograma de los datos con KDE\n",
    "sns.histplot(y_trainOLS, kde=True, color='skyblue', edgecolor='black')\n",
    "\n",
    "# Agregar etiquetas y título\n",
    "plt.xlabel('Valor')\n",
    "plt.ylabel('Frecuencia')\n",
    "plt.title('Distribución de los datos con KDE')\n",
    "\n",
    "# Mostrar el histograma\n",
    "plt.show()"
   ]
  },
  {
   "cell_type": "markdown",
   "id": "fee517fd-8979-423e-b8fc-d09242c7cf35",
   "metadata": {},
   "source": [
    "¿Qué pasa si le elimino los outliers?"
   ]
  },
  {
   "cell_type": "code",
   "execution_count": 47,
   "id": "caa80b1f-0aab-4a27-a119-5c116e06e782",
   "metadata": {
    "tags": []
   },
   "outputs": [
    {
     "data": {
      "image/png": "[encoded data removed]",
      "text/plain": [
       "<Figure size 640x480 with 1 Axes>"
      ]
     },
     "metadata": {},
     "output_type": "display_data"
    }
   ],
   "source": [
    "mean = y_trainOLS.mean()\n",
    "std_dev = y_trainOLS.std()\n",
    "\n",
    "# Definir los límites para identificar outliers\n",
    "lower_limit = mean - 2 * std_dev\n",
    "upper_limit = mean + 2 * std_dev\n",
    "\n",
    "# Filtrar los datos para eliminar los outliers\n",
    "y_trainOLS_filtered = y_trainOLS[(y_trainOLS >= lower_limit) & (y_trainOLS <= upper_limit)]\n",
    "\n",
    "# Crear un histograma de los datos con KDE\n",
    "sns.histplot(y_trainOLS_filtered, kde=True, color='skyblue', edgecolor='black')\n",
    "\n",
    "# Agregar etiquetas y título\n",
    "plt.xlabel('Valor')\n",
    "plt.ylabel('Frecuencia')\n",
    "plt.title('Distribución de los datos con KDE')\n",
    "\n",
    "# Mostrar el histograma\n",
    "plt.show()"
   ]
  },
  {
   "cell_type": "markdown",
   "id": "565f0161-7fd0-4d24-8c0c-919969a2c539",
   "metadata": {},
   "source": [
    "No mejora en gran medida, me parece que antes se acercaba más a una distribución normal, por lo que no eliminaré datos por considerar que no hay outliers.\n",
    "\n",
    "A continuación, elaboro el modelo. Vemos que los resultados son muy similares a los que encontró Carlos."
   ]
  },
  {
   "cell_type": "code",
   "execution_count": 48,
   "id": "39a9e7f5-5e7b-4117-bcbb-2c040c2fa33d",
   "metadata": {
    "tags": []
   },
   "outputs": [
    {
     "name": "stdout",
     "output_type": "stream",
     "text": [
      "                            OLS Regression Results                            \n",
      "==============================================================================\n",
      "Dep. Variable:            Ln_total_pr   R-squared:                       0.883\n",
      "Model:                            OLS   Adj. R-squared:                  0.882\n",
      "Method:                 Least Squares   F-statistic:                     695.6\n",
      "Date:                Tue, 13 Feb 2024   Prob (F-statistic):               0.00\n",
      "Time:                        19:52:42   Log-Likelihood:                 675.04\n",
      "No. Observations:                2889   AIC:                            -1286.\n",
      "Df Residuals:                    2857   BIC:                            -1095.\n",
      "Df Model:                          31                                         \n",
      "Covariance Type:            nonrobust                                         \n",
      "============================================================================================\n",
      "                               coef    std err          t      P>|t|      [0.025      0.975]\n",
      "--------------------------------------------------------------------------------------------\n",
      "const                       10.9770      0.105    104.649      0.000      10.771      11.183\n",
      "CT_renta_alta_CPA            0.1041      0.018      5.728      0.000       0.068       0.140\n",
      "CT_renta_meda_CPA            0.0526      0.009      6.147      0.000       0.036       0.069\n",
      "DP2e                         0.0119      0.003      4.176      0.000       0.006       0.018\n",
      "Dist_CBD2                   -0.0064      0.003     -2.452      0.014      -0.011      -0.001\n",
      "EPC_A_emision                0.0370      0.028      1.330      0.184      -0.018       0.092\n",
      "EPC_B_emision                0.1478      0.031      4.815      0.000       0.088       0.208\n",
      "EPC_C_emision                0.0335      0.025      1.330      0.184      -0.016       0.083\n",
      "EPC_D_emision               -0.0423      0.017     -2.471      0.014      -0.076      -0.009\n",
      "EPC_E_emision                0.0024      0.008      0.292      0.771      -0.014       0.019\n",
      "EPC_F_emision               -0.0012      0.017     -0.069      0.945      -0.034       0.032\n",
      "EPC_G_emision               -0.0089      0.016     -0.569      0.570      -0.040       0.022\n",
      "FAC1_1                       0.0550      0.004     13.232      0.000       0.047       0.063\n",
      "FAC2_1                       0.0243      0.004      6.343      0.000       0.017       0.032\n",
      "FIRE_pr                      0.0131      0.002      7.580      0.000       0.010       0.017\n",
      "H_tamaviv                    0.0992      0.034      2.910      0.004       0.032       0.166\n",
      "Income_Household_2016      7.14e-06   5.96e-07     11.973      0.000    5.97e-06    8.31e-06\n",
      "Precio_red                1.484e-07   3.78e-08      3.925      0.000    7.42e-08    2.22e-07\n",
      "Year_1982_2006               0.0382      0.014      2.734      0.006       0.011       0.066\n",
      "Year_After_2007              0.1415      0.019      7.571      0.000       0.105       0.178\n",
      "bool_aire_acondicionado      0.0290      0.008      3.489      0.000       0.013       0.045\n",
      "bool_ascensor                0.1195      0.015      7.846      0.000       0.090       0.149\n",
      "bool_calefaccion             0.0492      0.009      5.786      0.000       0.033       0.066\n",
      "bool_piscina_comunitaria     0.1581      0.022      7.190      0.000       0.115       0.201\n",
      "desplaz_ponderado           -0.0184      0.003     -7.048      0.000      -0.024      -0.013\n",
      "dum_mar_200m                 0.2675      0.048      5.556      0.000       0.173       0.362\n",
      "grand_terr_20m2              0.0909      0.015      6.222      0.000       0.062       0.120\n",
      "interac_planta               0.0029      0.002      1.610      0.108      -0.001       0.006\n",
      "opin_ruido_si_pr             0.0014      0.001      2.197      0.028       0.000       0.003\n",
      "ratio_bano_hab               0.0587      0.017      3.451      0.001       0.025       0.092\n",
      "superficie                   0.0143      0.000     40.360      0.000       0.014       0.015\n",
      "superficie_2             -2.933e-05   1.28e-06    -22.844      0.000   -3.18e-05   -2.68e-05\n",
      "==============================================================================\n",
      "Omnibus:                       73.262   Durbin-Watson:                   1.950\n",
      "Prob(Omnibus):                  0.000   Jarque-Bera (JB):              150.024\n",
      "Skew:                          -0.139   Prob(JB):                     2.65e-33\n",
      "Kurtosis:                       4.081   Cond. No.                     3.15e+06\n",
      "==============================================================================\n",
      "\n",
      "Notes:\n",
      "[1] Standard Errors assume that the covariance matrix of the errors is correctly specified.\n",
      "[2] The condition number is large, 3.15e+06. This might indicate that there are\n",
      "strong multicollinearity or other numerical problems.\n"
     ]
    }
   ],
   "source": [
    "# Añadir una constante a X_trainOLS para estimar el intercepto\n",
    "X_trainOLS = sm.add_constant(X_trainOLS)\n",
    "\n",
    "# Crear el modelo de regresión lineal\n",
    "ols = sm.OLS(y_trainOLS, X_trainOLS)\n",
    "\n",
    "# Ajustar el modelo a los datos\n",
    "resOLS = ols.fit()\n",
    "\n",
    "# Imprimir el resumen del modelo\n",
    "print(resOLS.summary())"
   ]
  },
  {
   "cell_type": "markdown",
   "id": "ffd84e24-9f15-41cc-8616-a287f9022a14",
   "metadata": {},
   "source": [
    "Ponemos **a prueba** el modelo con los **datos de testeo**."
   ]
  },
  {
   "cell_type": "code",
   "execution_count": 49,
   "id": "41248993-078e-4188-89e1-c0223914e798",
   "metadata": {
    "tags": []
   },
   "outputs": [],
   "source": [
    "X_testOLS = sm.add_constant(X_testOLS)  # Agregar una constante para el término de intercepción\n",
    "y_pred_testOLS = resOLS.predict(X_testOLS)  # Predicciones del modelo para los datos de prueba"
   ]
  },
  {
   "cell_type": "code",
   "execution_count": 50,
   "id": "85894672-724c-4da6-adbf-7909839d8038",
   "metadata": {
    "tags": []
   },
   "outputs": [
    {
     "name": "stdout",
     "output_type": "stream",
     "text": [
      "Coefficient of Determination (R2): 0.880814482391385\n",
      "Mean Absolute Error (MAE): 0.14047601815486638\n",
      "Relative Absolute Error (RAE): 0.011251891336196201\n",
      "Root Relative Squared Error (RRSE): 0.34505326080595444\n",
      "Root Mean Squared Error (RMSE): 0.18710130745690856\n"
     ]
    }
   ],
   "source": [
    "###Ojo que uso los datos de testeo\n",
    "# Calcular el R^2\n",
    "r2OLS = r2_score(y_testOLS, y_pred_testOLS)\n",
    "\n",
    "# Calcular el MAE\n",
    "maeOLS = mean_absolute_error(y_testOLS, y_pred_testOLS)\n",
    "\n",
    "# Calcular el RMSE\n",
    "rmseOLS = np.sqrt(mean_squared_error(y_testOLS, y_pred_testOLS))\n",
    "\n",
    "# Calcular el RAE\n",
    "raeOLS = maeOLS / abs(y_testOLS).mean()\n",
    "\n",
    "# Calcular el RRSE\n",
    "rrseOLS = rmseOLS / y_testOLS.std()\n",
    "\n",
    "# Imprimir resultados\n",
    "print(\"Coefficient of Determination (R2):\", r2OLS)\n",
    "print(\"Mean Absolute Error (MAE):\", maeOLS)\n",
    "print(\"Relative Absolute Error (RAE):\", raeOLS)\n",
    "print(\"Root Relative Squared Error (RRSE):\", rrseOLS)\n",
    "print(\"Root Mean Squared Error (RMSE):\", rmseOLS)"
   ]
  },
  {
   "cell_type": "markdown",
   "id": "5f934e5a-554e-4ed7-8eac-e61937e2aa88",
   "metadata": {
    "tags": []
   },
   "source": [
    "# 2. Red neuronal"
   ]
  },
  {
   "cell_type": "markdown",
   "id": "10182bb3-95fb-4875-ae1e-6e6f44d66792",
   "metadata": {
    "tags": []
   },
   "source": [
    "## 2.1. Obtención y limpieza de datos"
   ]
  },
  {
   "cell_type": "markdown",
   "id": "1b79170d-1640-4070-998c-8fc7cbe06ebb",
   "metadata": {
    "tags": []
   },
   "source": [
    "Cargamos las librerías necesarias."
   ]
  },
  {
   "cell_type": "code",
   "execution_count": 14,
   "id": "172df465-2f6b-4e0d-a846-98a47430e3da",
   "metadata": {
    "tags": []
   },
   "outputs": [
    {
     "name": "stdout",
     "output_type": "stream",
     "text": [
      "WARNING:tensorflow:From C:\\Users\\rojas\\anaconda3\\Lib\\site-packages\\keras\\src\\losses.py:2976: The name tf.losses.sparse_softmax_cross_entropy is deprecated. Please use tf.compat.v1.losses.sparse_softmax_cross_entropy instead.\n",
      "\n"
     ]
    }
   ],
   "source": [
    "from sklearn import preprocessing #para escalar/normalizar variables numéricas\n",
    "import tensorflow as tf #Esta y las de abajo las necesitamos siempre para ANN y RF\n",
    "from keras.models import Sequential\n",
    "from keras.layers import Dense\n",
    "from tensorflow.keras.callbacks import EarlyStopping"
   ]
  },
  {
   "cell_type": "markdown",
   "id": "7f3efaf6-5bb0-4cb4-acc3-31a8523df69a",
   "metadata": {
    "tags": []
   },
   "source": [
    "## 2.2. Estandarización de los datos"
   ]
  },
  {
   "cell_type": "markdown",
   "id": "54bbf223-e177-4dca-b4e6-c5410574ebe4",
   "metadata": {},
   "source": [
    "Ya habíamos dividido previamente los datos de entrenamiento y testeo. Vamos a estandarizarlos por separado.\n",
    "\n",
    "**Entrenamiento:**\n",
    "- `X_trainOLS` --> `Xtrain_scale`\n",
    "- `y_trainOLS` --> `ytrain_scale`\n",
    "\n",
    "**Testeo:**\n",
    "- `X_testOLS` --> `Xtest_scale`\n",
    "- `y_trainOLS` --> `ytest_scale`"
   ]
  },
  {
   "cell_type": "markdown",
   "id": "748ed5f1-b59e-4541-924a-cbfb50bc7569",
   "metadata": {},
   "source": [
    "Como en el camino a `X_trainOLS` se le añadió una constante para elaborar el modelos OLS, vuelvo a definirla para evitar problemas. Sólo estoy copiando y pegando el código de hace un rato. "
   ]
  },
  {
   "cell_type": "code",
   "execution_count": 51,
   "id": "caab6bd1-31fa-43c0-877c-1aad43b42a5c",
   "metadata": {
    "tags": []
   },
   "outputs": [],
   "source": [
    "# Dividir los datos en conjuntos de entrenamiento y testeo\n",
    "X_trainOLS, X_testOLS, y_trainOLS, y_testOLS = train_test_split(\n",
    "                                                    X_ols, y_ols, \n",
    "                                                    test_size=0.25, \n",
    "                                                    random_state=42 #Puede ser cualquier número\n",
    "                                                    ) "
   ]
  },
  {
   "cell_type": "markdown",
   "id": "37abbd02-df94-4afe-b338-80b23edcf940",
   "metadata": {},
   "source": [
    "De las variables de mi base de datos, debo hacer un **one-hot encoding** para las categóricas y una **estandarización para las numéricas**. \n",
    "\n",
    "Empiezo buscando aquellas que pueden ser categóricas: contaré los valores únicos en cada columna y consideraré a aquellas con un número relativamente bajo de valores únicos como categóricas."
   ]
  },
  {
   "cell_type": "markdown",
   "id": "097b3114-d600-420d-8754-ac1e3b28ae48",
   "metadata": {
    "jp-MarkdownHeadingCollapsed": true,
    "tags": []
   },
   "source": [
    "### 2.2.1. Estandarización de datos de entrenamiento"
   ]
  },
  {
   "cell_type": "code",
   "execution_count": 53,
   "id": "f61b4675-b9e0-4a93-9030-330271185d6a",
   "metadata": {
    "tags": []
   },
   "outputs": [
    {
     "data": {
      "text/plain": [
       "Index(['EPC_A_emision', 'EPC_B_emision', 'EPC_C_emision', 'EPC_D_emision',\n",
       "       'EPC_E_emision', 'EPC_F_emision', 'EPC_G_emision', 'Year_1982_2006',\n",
       "       'Year_After_2007', 'bool_aire_acondicionado', 'bool_ascensor',\n",
       "       'bool_calefaccion', 'bool_piscina_comunitaria', 'dum_mar_200m',\n",
       "       'grand_terr_20m2'],\n",
       "      dtype='object')"
      ]
     },
     "execution_count": 53,
     "metadata": {},
     "output_type": "execute_result"
    }
   ],
   "source": [
    "# Contar los valores únicos en cada columna\n",
    "unique_counts = X_trainOLS.nunique()\n",
    "\n",
    "# Filtrar las columnas con un número bajo de valores únicos (puedes ajustar este umbral según tu criterio)\n",
    "categoricas = unique_counts[unique_counts < 5].index\n",
    "\n",
    "categoricas"
   ]
  },
  {
   "cell_type": "markdown",
   "id": "20132cdc-1339-413b-b33a-3779a9c01534",
   "metadata": {},
   "source": [
    "He ido haciendo una revisión en Excel para diferenciar aquellas que ya están convertidas a un one-hot encoding (dummies) de aquellas que aún necesitan pasar por ese proceso. **Ninguna necesita pasar el proceso de one-hote encoding**."
   ]
  },
  {
   "cell_type": "code",
   "execution_count": 54,
   "id": "a3a91bc0-848b-43fa-b355-effab3b6dc83",
   "metadata": {
    "tags": []
   },
   "outputs": [],
   "source": [
    "OHE=X_trainOLS[['EPC_A_emision', 'EPC_B_emision', 'EPC_C_emision', 'EPC_D_emision',\n",
    "       'EPC_E_emision', 'EPC_F_emision', 'EPC_G_emision', \n",
    "       'Year_1982_2006', 'Year_After_2007', 'bool_aire_acondicionado',\n",
    "       'bool_ascensor', 'bool_calefaccion', 'bool_piscina_comunitaria',\n",
    "       'dum_mar_200m', 'grand_terr_20m2']]"
   ]
  },
  {
   "cell_type": "markdown",
   "id": "8a655722-b19f-4b5b-ac81-5e31b4dc95a7",
   "metadata": {
    "tags": []
   },
   "source": [
    "Selecciono las X numéricas."
   ]
  },
  {
   "cell_type": "code",
   "execution_count": 55,
   "id": "03318e15-413a-4c4a-ac33-f825b5e099dd",
   "metadata": {
    "tags": []
   },
   "outputs": [],
   "source": [
    "# Crear una lista con todas las columnas dummies\n",
    "columnas_a_eliminar = list(OHE.columns)\n",
    "\n",
    "# Eliminar las columnas dummies de X_ols para quedarme sólo con las numéricas\n",
    "X2 = X_trainOLS.drop(columns=columnas_a_eliminar)"
   ]
  },
  {
   "cell_type": "markdown",
   "id": "83ffdedc-4a5c-4691-a037-765db5b0cb5c",
   "metadata": {},
   "source": [
    "Ahora hago la **estandarización** sobre las X que son numéricas."
   ]
  },
  {
   "cell_type": "code",
   "execution_count": 56,
   "id": "275ad4ed-4e26-4fd5-bc4f-48346cbb45ec",
   "metadata": {
    "tags": []
   },
   "outputs": [],
   "source": [
    "#Estandarizamos los valores de X3\n",
    "min_max_scaler = preprocessing.MinMaxScaler() #preprocessing es una función de la librearía \n",
    "                                              #sklearn, ya sabe lo que hacer\n",
    "X3 = min_max_scaler.fit_transform(X2)"
   ]
  },
  {
   "cell_type": "markdown",
   "id": "3ea4a48e-1d34-4f94-8ef0-dacd12b03cfe",
   "metadata": {},
   "source": [
    "Si quiero ver información sobre X3 me encontraré lo siguiente..."
   ]
  },
  {
   "cell_type": "code",
   "execution_count": 23,
   "id": "75d1e78b-8740-4349-92c6-f5a9e2a10f60",
   "metadata": {
    "tags": []
   },
   "outputs": [
    {
     "ename": "AttributeError",
     "evalue": "'numpy.ndarray' object has no attribute 'info'",
     "output_type": "error",
     "traceback": [
      "\u001b[1;31m---------------------------------------------------------------------------\u001b[0m",
      "\u001b[1;31mAttributeError\u001b[0m                            Traceback (most recent call last)",
      "Cell \u001b[1;32mIn[23], line 1\u001b[0m\n\u001b[1;32m----> 1\u001b[0m X3\u001b[38;5;241m.\u001b[39minfo()\n",
      "\u001b[1;31mAttributeError\u001b[0m: 'numpy.ndarray' object has no attribute 'info'"
     ]
    }
   ],
   "source": [
    "X3.info()"
   ]
  },
  {
   "cell_type": "code",
   "execution_count": 25,
   "id": "c54a6ee2-20dd-496c-aa18-c00bf9de7da9",
   "metadata": {
    "tags": []
   },
   "outputs": [
    {
     "data": {
      "text/plain": [
       "numpy.ndarray"
      ]
     },
     "execution_count": 25,
     "metadata": {},
     "output_type": "execute_result"
    }
   ],
   "source": [
    "type(X3)"
   ]
  },
  {
   "cell_type": "markdown",
   "id": "74353885-de41-4aa8-9e7f-99efb2ab6e0d",
   "metadata": {},
   "source": [
    "X3 ya no es un dataframe, sino un array. Python los entiende de manera distinta. Es como si uno fuera un archivo XLSX y el otro un archivo CSV; es decir, contienen la misma información pero un formato distinto. Sin embargo, *keras* y *tensorflow* suelen preferir los arrays (son menos pesados); por tanto, vamos a convertir **OHE** para luego unir todos en un mismo objeto. \n",
    "\n",
    "Recuerden que tanto **OHE** como **X3** son las variables independientes de nuestro modelo: la primera tiene variables dummies o binarias (valores 0 y 1), mientras que X4 son las variables numéricas que ya hemos estandarizado."
   ]
  },
  {
   "cell_type": "code",
   "execution_count": 57,
   "id": "a0b3b71c-13a6-4121-a721-a71efd824e0f",
   "metadata": {
    "tags": []
   },
   "outputs": [],
   "source": [
    "# Convertir OHE a un array NumPy\n",
    "OHE_array=OHE.values\n",
    "\n",
    "# Concatenar X3, y OHE_array a lo largo del eje de las columnas (axis=1)\n",
    "Xtrain_scale = np.concatenate((X3,OHE_array), axis=1)"
   ]
  },
  {
   "cell_type": "markdown",
   "id": "bce6d355-f614-432e-8237-0508b907a4f8",
   "metadata": {
    "tags": []
   },
   "source": [
    "Cuando elabore el modelo de redes neuronales, voy a necesitar saber cuántas variables independientes tengo (X), asi que para eso cuento la cantidad de columnas que tienen mi array *X_scale*."
   ]
  },
  {
   "cell_type": "code",
   "execution_count": 58,
   "id": "d899490c-d8bb-43e6-9ae3-eeab065c0cb2",
   "metadata": {
    "tags": []
   },
   "outputs": [
    {
     "data": {
      "text/plain": [
       "31"
      ]
     },
     "execution_count": 58,
     "metadata": {},
     "output_type": "execute_result"
    }
   ],
   "source": [
    "Xtrain_scale.shape[1]"
   ]
  },
  {
   "cell_type": "markdown",
   "id": "37300c05-ed7a-4b28-b966-7223fb032fbe",
   "metadata": {},
   "source": [
    "Por si acaso, también convierto las Y en array."
   ]
  },
  {
   "cell_type": "code",
   "execution_count": 59,
   "id": "8b90ec9e-e6f3-4794-aa0d-79577c0b7254",
   "metadata": {
    "tags": []
   },
   "outputs": [],
   "source": [
    "ytrain_scale = y_trainOLS.values"
   ]
  },
  {
   "cell_type": "markdown",
   "id": "f5c7c886-84f4-4699-a555-67e922c3510d",
   "metadata": {
    "jp-MarkdownHeadingCollapsed": true,
    "tags": []
   },
   "source": [
    "### 2.2.2. Estandarización de datos de testeo"
   ]
  },
  {
   "cell_type": "code",
   "execution_count": 60,
   "id": "1de0aa38-456a-4586-96cc-65670fee557f",
   "metadata": {
    "tags": []
   },
   "outputs": [],
   "source": [
    "OHE2=X_testOLS[['EPC_A_emision', 'EPC_B_emision', 'EPC_C_emision', 'EPC_D_emision',\n",
    "       'EPC_E_emision', 'EPC_F_emision', 'EPC_G_emision', \n",
    "       'Year_1982_2006', 'Year_After_2007', 'bool_aire_acondicionado',\n",
    "       'bool_ascensor', 'bool_calefaccion', 'bool_piscina_comunitaria',\n",
    "       'dum_mar_200m', 'grand_terr_20m2']]\n",
    "\n",
    "# Crear una lista con todas las columnas dummies\n",
    "columnas_a_eliminar = list(OHE2.columns)\n",
    "\n",
    "# Eliminar las columnas dummies de X_ols para quedarme sólo con las numéricas\n",
    "X2_2 = X_testOLS.drop(columns=columnas_a_eliminar)\n",
    "\n",
    "#Estandarizamos los valores de X3\n",
    "X3_2 = min_max_scaler.fit_transform(X2_2)\n",
    "\n",
    "# Convertir OHE a un array NumPy\n",
    "OHE2_array=OHE2.values\n",
    "\n",
    "# Concatenar X3, y OHE_array a lo largo del eje de las columnas (axis=1)\n",
    "Xtest_scale = np.concatenate((X3_2,OHE2_array), axis=1)\n",
    "\n",
    "# Convierto la Y en array también\n",
    "ytest_scale = y_testOLS.values"
   ]
  },
  {
   "cell_type": "markdown",
   "id": "330cdd68-7db4-496d-bc84-474987521297",
   "metadata": {
    "tags": []
   },
   "source": [
    "## 2.3. Elaboración del modelo"
   ]
  },
  {
   "cell_type": "code",
   "execution_count": 62,
   "id": "94c5964f-72c7-4c20-987f-c29f4a52f491",
   "metadata": {
    "tags": []
   },
   "outputs": [],
   "source": [
    "model = Sequential([\n",
    "    Dense(128, activation='relu', #Valor usado en la literatura\n",
    "    input_shape=(31,)), #Noten que acá van la cantidad de X\n",
    "    Dense(64, activation='relu'), #Valor usado en la literatura\n",
    "    Dense(1)  #Queremos una sola salida\n",
    "])\n",
    "\n",
    "model.compile(\n",
    "    optimizer=tf.keras.optimizers.Adam(0.005), #Valor usado en la literatura\n",
    "    loss='mean_squared_error', #Error Cuadrático Medio. Le \"dice\" al modelo que es mejor tener una gran\n",
    "                               #cantidad de errores pequeños a una poca cantidad de errores grandes.\n",
    "    metrics=['accuracy'] #Valor usado en la literatura\n",
    ")\n",
    "\n",
    "nnmodel = model.fit(Xtrain_scale, ytrain_scale, epochs=1000, #Valor usado en la literatura\n",
    "               callbacks=[EarlyStopping(monitor='val_loss', patience=500, restore_best_weights=True)], #Valores usados en la literatura\n",
    "               batch_size=6, #Valor usado en la literatura\n",
    "               verbose=False, #Sólo para que no imprima muchas cosas mientras procesa el modelo\n",
    "               validation_split=0.3 #Valor usado en la literatura\n",
    "              )"
   ]
  },
  {
   "cell_type": "code",
   "execution_count": 63,
   "id": "fe652cd1-e8e5-4b77-b658-4f0839b4fc5c",
   "metadata": {
    "tags": []
   },
   "outputs": [
    {
     "name": "stdout",
     "output_type": "stream",
     "text": [
      "31/31 [==============================] - 0s 751us/step\n",
      "Coefficient of Determination (R2): 0.8241164856248226\n",
      "Mean Absolute Error (MAE): 0.17787003312243052\n",
      "Relative Absolute Error (RAE): 1374.9151678330732\n",
      "Root Relative Squared Error (RRSE): 45.467259110049895\n",
      "Root Mean Squared Error (RMSE): 0.22728859618098907\n"
     ]
    }
   ],
   "source": [
    "# Predicciones en el conjunto de testeo\n",
    "y_predANN = model.predict(Xtest_scale)\n",
    "\n",
    "# Coefficient of determination (R2)\n",
    "r2ANN = r2_score(ytest_scale, y_predANN)\n",
    "\n",
    "# Mean Absolute Error (MAE)\n",
    "maeANN = mean_absolute_error(ytest_scale, y_predANN)\n",
    "\n",
    "# Relative Absolute Error (RAE)\n",
    "raeANN = np.sum(np.abs(y_predANN - ytest_scale)) / np.sum(np.abs(np.mean(ytest_scale) - ytest_scale))\n",
    "\n",
    "# Root Relative Squared Error (RRSE)\n",
    "rrseANN = np.sqrt(np.sum((y_predANN - ytest_scale) ** 2) / np.sum((np.mean(ytest_scale) - ytest_scale) ** 2))\n",
    "\n",
    "# Root Mean Squared Error (RMSE)\n",
    "rmseANN = np.sqrt(mean_squared_error(ytest_scale, y_predANN))\n",
    "\n",
    "# Imprimir resultados\n",
    "print(\"Coefficient of Determination (R2):\", r2ANN)\n",
    "print(\"Mean Absolute Error (MAE):\", maeANN)\n",
    "print(\"Relative Absolute Error (RAE):\", raeANN)\n",
    "print(\"Root Relative Squared Error (RRSE):\", rrseANN)\n",
    "print(\"Root Mean Squared Error (RMSE):\", rmseANN)"
   ]
  },
  {
   "cell_type": "markdown",
   "id": "b9d6c5d1-d0ee-499c-b386-66668dce86ec",
   "metadata": {},
   "source": [
    "Guardamos."
   ]
  },
  {
   "cell_type": "code",
   "execution_count": 64,
   "id": "0a25812c-9525-426b-83be-5ea478034cc1",
   "metadata": {
    "tags": []
   },
   "outputs": [
    {
     "name": "stdout",
     "output_type": "stream",
     "text": [
      "INFO:tensorflow:Assets written to: modelos/NN3-BCN4K\\assets\n"
     ]
    },
    {
     "name": "stderr",
     "output_type": "stream",
     "text": [
      "INFO:tensorflow:Assets written to: modelos/NN3-BCN4K\\assets\n"
     ]
    }
   ],
   "source": [
    "import pickle\n",
    "\n",
    "# Guardar el modelo\n",
    "model.save(\"modelos/NN3-BCN4K\")\n",
    "\n",
    "# Guardar el historial\n",
    "with open(\"modelos/NN3-BCN4K/history.pkl\", \"wb\") as f:\n",
    "    pickle.dump(nnmodel.history, f)"
   ]
  },
  {
   "cell_type": "markdown",
   "id": "0d60798f-dac9-4344-8ab7-aaa3690ab084",
   "metadata": {},
   "source": [
    "## 3. Random Forest"
   ]
  },
  {
   "cell_type": "markdown",
   "id": "2b5889e4-6e46-43e0-a9a7-e57d6e599e0e",
   "metadata": {},
   "source": [
    "Sólo para estar seguros, repito el paso realizado con el segundo modelo OLS respecto de la identificación de X y Y de entrenamiento y testeo."
   ]
  },
  {
   "cell_type": "code",
   "execution_count": 68,
   "id": "1d2cc7a4-4af8-4896-8513-c7c9c0501687",
   "metadata": {
    "tags": []
   },
   "outputs": [],
   "source": [
    "# Definir las variables independientes (X) y dependiente (y)\n",
    "X_RF = bdd.drop('Ln_total_pr', axis=1)  # Todas las columnas excepto 'Ln_total_pr'\n",
    "y_RF = bdd['Ln_total_pr']  # Columna 'Ln_total_pr'\n",
    "\n",
    "# Dividir los datos en conjuntos de entrenamiento y testeo\n",
    "X_trainRF, X_testRF, y_trainRF, y_testRF = train_test_split(\n",
    "                                                    X_RF, y_RF, \n",
    "                                                    test_size=0.25, \n",
    "                                                    random_state=42 #Puede ser cualquier número\n",
    "                                                    ) "
   ]
  },
  {
   "cell_type": "code",
   "execution_count": 77,
   "id": "70483370-c1bf-4fcd-84b1-b7e699ed6047",
   "metadata": {
    "tags": []
   },
   "outputs": [],
   "source": [
    "from sklearn.ensemble import RandomForestRegressor\n",
    "from sklearn.metrics import mean_squared_error, r2_score\n",
    "\n",
    "# Crear el modelo de Random Forest\n",
    "rf_model = RandomForestRegressor(n_estimators=200, #Literatura indica que esto es prueba y error \n",
    "                                 random_state=42) #Puede ser cualquier número\n",
    "\n",
    "# Entrenar el modelo\n",
    "rf_model.fit(X_trainRF, y_trainRF)\n",
    "\n",
    "# Predecir sobre los datos de prueba\n",
    "y_predRF = rf_model.predict(X_testRF)"
   ]
  },
  {
   "cell_type": "code",
   "execution_count": 78,
   "id": "9acbb0f8-e17e-49b9-9a8e-779d8badaabe",
   "metadata": {
    "tags": []
   },
   "outputs": [
    {
     "name": "stdout",
     "output_type": "stream",
     "text": [
      "Coefficient of Determination (R2): 0.8835498856582451\n",
      "Mean Absolute Error (MAE): 0.13645861378547722\n",
      "Relative Absolute Error (RAE): 0.010930104044588228\n",
      "Root Relative Squared Error (RRSE): 0.34124787814982077\n",
      "Root Mean Squared Error (RMSE): 0.184941782255252\n"
     ]
    }
   ],
   "source": [
    "#Calcular coeficiente de determinación\n",
    "r2RF = r2_score(y_testRF, y_predRF)\n",
    "\n",
    "# Calcular MAE\n",
    "maeRF = mean_absolute_error(y_testRF, y_predRF)\n",
    "\n",
    "# Calcular RAE\n",
    "raeRF = maeRF / np.mean(np.abs(y_testRF))\n",
    "\n",
    "# Calcular RMSE\n",
    "rmseRF = np.sqrt(mean_squared_error(y_testRF, y_predRF))\n",
    "\n",
    "# Calcular RRSE\n",
    "rrseRF = rmseRF / np.std(y_testRF)\n",
    "\n",
    "# Imprimir resultados\n",
    "print(\"Coefficient of Determination (R2):\", r2RF)\n",
    "print(\"Mean Absolute Error (MAE):\", maeRF)\n",
    "print(\"Relative Absolute Error (RAE):\", raeRF)\n",
    "print(\"Root Relative Squared Error (RRSE):\", rrseRF)\n",
    "print(\"Root Mean Squared Error (RMSE):\", rmseRF)"
   ]
  },
  {
   "cell_type": "code",
   "execution_count": 73,
   "id": "52d78daa-e496-42aa-8d65-8a8c08b9bb87",
   "metadata": {
    "tags": []
   },
   "outputs": [
    {
     "data": {
      "text/plain": [
       "['modelos/RF2-BCN4K.pkl']"
      ]
     },
     "execution_count": 73,
     "metadata": {},
     "output_type": "execute_result"
    }
   ],
   "source": [
    "import joblib\n",
    "\n",
    "# Guardar el modelo de Random Forest\n",
    "joblib.dump(rf_model, 'modelos/RF2-BCN4K.pkl')"
   ]
  },
  {
   "cell_type": "markdown",
   "id": "d29f6525-b424-44b5-ab84-587f2b118c7e",
   "metadata": {},
   "source": [
    "## 4. Comparación de modelos"
   ]
  },
  {
   "cell_type": "code",
   "execution_count": 74,
   "id": "7c911da6-1a74-45d1-9101-9d7181401ec3",
   "metadata": {
    "tags": []
   },
   "outputs": [
    {
     "name": "stdout",
     "output_type": "stream",
     "text": [
      "  Modelo        R2       MAE          RAE       RRSE      RMSE\n",
      "0    OLS  0.880814  0.140476     0.011252   0.345053  0.187101\n",
      "1    ANN  0.824116  0.177870  1374.915168  45.467259  0.227289\n",
      "2     RF  0.883550  0.136459     0.010930   0.341248  0.184942\n"
     ]
    }
   ],
   "source": [
    "# Crear un diccionario con los datos\n",
    "data = {\n",
    "    'Modelo': ['OLS', 'ANN', 'RF'],\n",
    "    'R2': [r2OLS, r2ANN, r2RF],\n",
    "    'MAE': [maeOLS, maeANN, maeRF],\n",
    "    'RAE': [raeOLS, raeANN, raeRF],\n",
    "    'RRSE': [rrseOLS, rrseANN, rrseRF],\n",
    "    'RMSE': [rmseOLS, rmseANN, rmseRF ]\n",
    "}\n",
    "\n",
    "# Crear un DataFrame con los datos\n",
    "comparacion = pd.DataFrame(data)\n",
    "\n",
    "# Mostrar la tabla\n",
    "print(comparacion)"
   ]
  }
 ],
 "metadata": {
  "kernelspec": {
   "display_name": "Python 3 (ipykernel)",
   "language": "python",
   "name": "python3"
  },
  "language_info": {
   "codemirror_mode": {
    "name": "ipython",
    "version": 3
   },
   "file_extension": ".py",
   "mimetype": "text/x-python",
   "name": "python",
   "nbconvert_exporter": "python",
   "pygments_lexer": "ipython3",
   "version": "3.11.5"
  }
 },
 "nbformat": 4,
 "nbformat_minor": 5
}
