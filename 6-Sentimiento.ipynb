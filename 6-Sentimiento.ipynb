{
 "cells": [
  {
   "cell_type": "markdown",
   "id": "9d54edc0-64fc-4650-b926-525b06e424af",
   "metadata": {},
   "source": [
    "# Análisis de sentimiento"
   ]
  },
  {
   "cell_type": "markdown",
   "id": "ac3da77b-4506-46aa-b277-53714ddbac7c",
   "metadata": {},
   "source": [
    "## 1. Importación de librerías y revisión del *dataframe*"
   ]
  },
  {
   "cell_type": "code",
   "execution_count": 40,
   "id": "4a944f2c-e114-446a-a47d-2f232b67dc8f",
   "metadata": {
    "tags": []
   },
   "outputs": [],
   "source": [
    "import pandas as pd\n",
    "import numpy as np\n",
    "import re \n",
    "#from googletrans import Translator\n",
    "from matplotlib import pyplot as plt\n",
    "from langdetect import detect\n",
    "from pysentimiento import create_analyzer\n",
    "from factor_analyzer import FactorAnalyzer #librería especializada para hacer ACP\n",
    "import seaborn as sns"
   ]
  },
  {
   "cell_type": "markdown",
   "id": "0150a1df-753f-4299-84eb-537f52dfbf28",
   "metadata": {},
   "source": [
    "Reviso las columnas que tengo en mi dataframe."
   ]
  },
  {
   "cell_type": "code",
   "execution_count": 2,
   "id": "320a005e-3ced-43c2-ba44-08148708af8b",
   "metadata": {
    "tags": []
   },
   "outputs": [
    {
     "name": "stdout",
     "output_type": "stream",
     "text": [
      "['Unnamed: 0', 'OBJECTID', 'codigo_inmueble1', 'Title', 'Type_build', 'Type_opera', 'Link', 'Location', 'Lat_X', 'Lon_Y', 'Climatic_Z', 'Nom_Mun', 'precio_eur', 'superficie', 'superficie2', 'Unit_price', 'Ln_total_pr', 'Ln_unit_pr', 'numero_habitaciones', 'numero_bano', 'ratio_bano_hab', 'numero_aseo', 'ascensor', 'interac_planta', 'numero_de_piso', 'anyo_constr_ponderad', 'antig_ponderad', 'Inverse_Age', 'Year_Before_1981', 'Year_1982_2006', 'Year_After_2007', 'superficie_terraza_m2', 'grand_terr_20m2', 'superficie_jardin_m2', 'superficie_salon', 'bool_despacho', 'bool_buhardilla', 'bool_trastero', 'bool_lavadero', 'bool_piscina_comunitaria', 'bool_jardin_comunitario', 'bool_amueblado', 'bool_ascensor', 'descripcion', 'bool_aire_acondicionado', 'bool_calefaccion', 'bool_chimenea', 'texto_destacado', 'Description', 'calificacion_consumo_letra', 'calificacion_consumo_valor', 'calificacion_emision_letra', 'calificacion_emision_valor', 'Dum_EPC', 'EPC_A_emision', 'EPC_B_emision', 'EPC_C_emision', 'EPC_D_emision', 'EPC_E_emision', 'EPC_F_emision', 'EPC_G_emision', 'COD_MUN', 'temp_enero', 'temp_julio', 'radiacion_enero', 'radiacion_julio', 'POB_91', 'POB_01', 'POB_06', 'POR_01', 'LTL1991_M', 'LTL_2001', 'DLTL_MUN', 'RW', 'FLE', 'FLS', 'SUP_URB_90', 'SUP_URB_00', 'Job_ratio_01', 'Autocontencion_01', 'Nodalidad_01', 'Dist_CBD2', 'Dist_sub_center', 'Elevation_Mean', 'dum_acces_viappal', 'IND_pr', 'FIRE_pr', 'Div_LandUse', 'COD_SEC', 'pr_directivo', 'pr_tecnico_prof', 'pr_tecnico_apoyo', 'pr_empl_admin', 'pr_restaur_comer', 'pr_agri_calificado', 'pr_artesano', 'pr_operador', 'pr_no_calif', 'desplaz_ponderado', 'plant_ras_pond', 'edif_ruin_pr', 'edif_malo_pr', 'edif_deficient_pr', 'edif_bueno_pr', 'Doorman_pr', 'opin_ruido_si_pr', 'opin_contam_si_pr', 'opin_calle_sucia_pr', 'opin_mala_comunic_pr', 'opin_pocazonaverde_pr', 'opin_delincuencia_pr', 'opin_falta_aseo_pr', 'local_salud_pr', 'local_edu_pr', 'local_social_pr', 'local_cult_pr', 'local_comerc_pr', 'local_oficinas_pr', 'local_industr_pr', 'local_agrar_pr', 'POB_TOTAL', 'POB_RESID', 'LOC_TOTAL', 'POR_TOTAL', 'LOC_VIV_TOTAL', 'dens_loc_100hab', 'dens_loc_sup', 'dens_pob_sup', 'estud_sin_pr', 'estud_primer_pr', 'estud_segund_pr', 'estud_tercer_pr', 'VIV_ppales_TOTAL', 'Sup_viv_sec', 'viv_ppales_pr', 'viv_no_ppales_pr', 'viv_secundarias_pr', 'viv_vacias_pr', 'viv_unifam_pr', 'viv_aptos_pr', 'resi_euro_pr', 'resi_africa_pr', 'resi_america_pr', 'resi_asia_pr', 'resi_oceania_pr', 'H_ocup_POR', 'H_loc_INE', 'H_tamaviv', 'H_ocup_POR_Xpor', 'H_loc_INE_XLOCS', 'H_tamaviv_Xvivs', 'CT_renta_alta_CPA', 'CT_renta_meda_CPA', 'CT_renta_medb_CPA', 'Income_Household_2016', 'DP2e', 'Dens_Time_total', 'Dens_Time_total_work', 'Dens_Time_total_Nwork', 'Dens_pers_act_total', 'Dens_pers_act_working', 'Dens_pers_act_Nworking', 'Div_total_work', 'Div_act_work', 'Div_socio_work', 'Div_total_Nwork', 'Div_act_Nwork', 'Div_socio_Nwork', 'calidad_cocina', 'diseny_cocina', 'alta_calidad', 'reform_inmob', 'dum_mar_200m', 'dum_ttpp_riel_urb', 'dist_near_riel_km', 'dist_near_viappal_km', 'C_contempo', 'C_estado', 'C_armarios', 'B_contempo', 'B_estado', 'B_lavamano', 'R_contempo', 'R_estado', 'R_carpinte', 'R_singular', 'R_ventana', 'Dum_precio', 'Precio_red', 'scrap_year', 'persona', 'Y_2023', 'Filtro', 'filter_$', 'EPC_AB', 'EPC_ABC', 'EPC_ORD', 'Contempo_all', 'Closets_all', 'Contempo_seg', 'Conservation_seg', 'MAH_1', 'MAH_2', 'Estado_contemporaneidad_calidad', 'Ausencia_singulares_presencia_arm_cocina', 'FAC3_1', 'FAC4_1', 'FAC5_1', 'FAC6_1', 'FAC7_1', 'QCL_1', 'EPC_A_emission_2023', 'EPC_B_emission_2023', 'EPC_C_emission_2023', 'EPC_D_emission_2023', 'EPC_E_emission_2023', 'EPC_F_emission_2023', 'EPC_G_emission_2023', 'EPC_AB_2023', 'EPC_ABC_2023', 'Cluster_1', 'Cluster_2', 'Cluster_3', 'EPC_ABC_2023_CL1', 'EPC_ABC_2023_CL2', 'EPC_ABC_2023_CL3', 'EPC_ABC_CL3', 'EPC_ABC_CL2', 'EPC_ABC_CL1', 'IMR', 'Dist_CBD2_2023', 'Dist_sub_center_2023', 'DP2e_2023', 'Dummie_Terraza', 'Dummie_Terraza_2023', 'Inv_sup_terraza', 'Inv_sup_terraza_2023', 'Bool_piscina_comunitaria_2023', 'Contempo_PC_seg_2023', 'Conservation_PC_seg_2023', 'viv_aptos_pr_2023', 'Div_landUse_2023', 'Inverse_Age_2023', 'desplaz_ponderado_2023', 'Ratio_bano_hab_2023', 'Superficie_2023', 'bool_calefacción_2023', 'bool_aire_acondicionado_2023', 'interac_planta_2023', 'bool_trastero_2023', 'ascensor_2023', 'Precio_red_2023', 'grand_terr_20m2_2023', 'dum_mar200m_2023', 'Income_household_2016_2023', 'CT_renta_alta_2023', 'CT_renta_meda_2023', 'Inv_dist_sub_center', 'Inv_dist_sub_center_2023', 'emp_2020', 'emp_2022', 'Tevolu_20_23', 'Tevolu_2023', 'dum_cercanies', 'dum_cercanies_2023', 'cercanies_CBD_2023', 'AUTOP_NEAR', 'PEAJE_2020', 'PEAJE_2023', 'peaje_cambio', 'dummy_sub_center', 'pobxdum_sub_center', 'pobxdist_sub_center', 'near_sub_centerp', 'Inv_near_sub_centerp', 'NEARsub_km', 'Inv_NEARsub_km', 'dum_sub_center', 'dum_sub_center_MOD', 'poblaxdum_sub_center', 'poblaxdum_sub_center_2023', 'poblaxnear_sub_center']\n"
     ]
    }
   ],
   "source": [
    "base=pd.read_csv('rawdata/clases/habitaclia5467_ejercicio2.csv')\n",
    "print(base.columns.tolist())"
   ]
  },
  {
   "cell_type": "markdown",
   "id": "c0fe7494-ed38-467e-a8b0-be2f9ce222b5",
   "metadata": {},
   "source": [
    "Con `Ctrl+F` puedo ver que hay dos que podrían tener la descripción de los anuncios. Las reviso."
   ]
  },
  {
   "cell_type": "code",
   "execution_count": 3,
   "id": "7845b9e1-a66a-4dbd-9666-a1a5debdf34c",
   "metadata": {
    "tags": []
   },
   "outputs": [
    {
     "data": {
      "text/html": [
       "<div>\n",
       "<style scoped>\n",
       "    .dataframe tbody tr th:only-of-type {\n",
       "        vertical-align: middle;\n",
       "    }\n",
       "\n",
       "    .dataframe tbody tr th {\n",
       "        vertical-align: top;\n",
       "    }\n",
       "\n",
       "    .dataframe thead th {\n",
       "        text-align: right;\n",
       "    }\n",
       "</style>\n",
       "<table border=\"1\" class=\"dataframe\">\n",
       "  <thead>\n",
       "    <tr style=\"text-align: right;\">\n",
       "      <th></th>\n",
       "      <th>Description</th>\n",
       "      <th>descripcion</th>\n",
       "    </tr>\n",
       "  </thead>\n",
       "  <tbody>\n",
       "    <tr>\n",
       "      <th>0</th>\n",
       "      <td>Piso reformado de 4 habitaciones, salón comedo...</td>\n",
       "      <td>NaN</td>\n",
       "    </tr>\n",
       "    <tr>\n",
       "      <th>1</th>\n",
       "      <td>BENET MATEU, PIS D´ORIGEN AMB MOLT BONA DISTRI...</td>\n",
       "      <td>NaN</td>\n",
       "    </tr>\n",
       "    <tr>\n",
       "      <th>2</th>\n",
       "      <td>Apartamento pero con acceso independiente desd...</td>\n",
       "      <td>conservada</td>\n",
       "    </tr>\n",
       "    <tr>\n",
       "      <th>3</th>\n",
       "      <td>[A2977]PISAZO, EL MEJOR DE LA ZONA.FENOMENAL P...</td>\n",
       "      <td>reformada</td>\n",
       "    </tr>\n",
       "    <tr>\n",
       "      <th>4</th>\n",
       "      <td>[A3001]VIVIENDA EN LA CALLE GARROFER DE SANT I...</td>\n",
       "      <td>reformada</td>\n",
       "    </tr>\n",
       "  </tbody>\n",
       "</table>\n",
       "</div>"
      ],
      "text/plain": [
       "                                         Description descripcion\n",
       "0  Piso reformado de 4 habitaciones, salón comedo...         NaN\n",
       "1  BENET MATEU, PIS D´ORIGEN AMB MOLT BONA DISTRI...         NaN\n",
       "2  Apartamento pero con acceso independiente desd...  conservada\n",
       "3  [A2977]PISAZO, EL MEJOR DE LA ZONA.FENOMENAL P...   reformada\n",
       "4  [A3001]VIVIENDA EN LA CALLE GARROFER DE SANT I...   reformada"
      ]
     },
     "execution_count": 3,
     "metadata": {},
     "output_type": "execute_result"
    }
   ],
   "source": [
    "base[['Description','descripcion']].head()"
   ]
  },
  {
   "cell_type": "code",
   "execution_count": 8,
   "id": "d741d7e4-7c46-4e44-8c22-1932b37104da",
   "metadata": {
    "tags": []
   },
   "outputs": [
    {
     "data": {
      "text/plain": [
       "5467"
      ]
     },
     "execution_count": 8,
     "metadata": {},
     "output_type": "execute_result"
    }
   ],
   "source": [
    "len(base)"
   ]
  },
  {
   "cell_type": "markdown",
   "id": "ce89e08f-83c6-4ebe-9b0d-462c06e8f4bc",
   "metadata": {},
   "source": [
    "## 2. Limpieza de `Description`"
   ]
  },
  {
   "cell_type": "markdown",
   "id": "d53f2f14-5cca-4800-bdf2-02dc01468030",
   "metadata": {},
   "source": [
    "Paso a limpiar el texto. Defino una serie de funciones."
   ]
  },
  {
   "cell_type": "code",
   "execution_count": 4,
   "id": "72d8be9d-edd8-4b44-9e13-0992bf74f57e",
   "metadata": {
    "tags": []
   },
   "outputs": [],
   "source": [
    "def treat_euro(text):\n",
    "    text = re.sub(r'(euro[^s])|(euros)|(€)', ' euros', text)\n",
    "    return text\n",
    "\n",
    "def treat_m2(text):\n",
    "    text = re.sub(r'(m2)|(m²)', ' m²', text)\n",
    "    return text\n",
    "\n",
    "def filter_ibans(text):\n",
    "    pattern = r'ES\\d{2}[ ]\\d{4}[ ]\\d{4}[ ]\\d{4}[ ]\\d{4}[ ]\\d{2}|ES\\d{20}|ES[ ]\\d{2}[ ]\\d{3}[ ]\\d{3}[ ]\\d{3}[ ]\\d{5}'\n",
    "    text = re.sub(pattern, '', text)\n",
    "    return text\n",
    "\n",
    "def remove_space_between_numbers(text):\n",
    "    text = re.sub(r'(\\d)\\s+(\\d)', r'\\1\\2', text)\n",
    "    return text\n",
    "\n",
    "def filter_emails(text):\n",
    "    pattern = r'(?:(?!.*?[.]{2})[a-zA-Z0-9](?:[a-zA-Z0-9.+!%-]{1,64}|)|\\\"[a-zA-Z0-9.+!% -]{1,64}\\\")@[a-zA-Z0-9][a-zA-Z0-9.-]+(.[a-z]{2,}|.[0-9]{1,})'\n",
    "    text = re.sub(pattern, '', text)\n",
    "    return text\n",
    "\n",
    "def filter_ref(text):\n",
    "    pattern = r'(\\(*)(ref|REF)(\\.|[ ])\\d+(\\)*)'\n",
    "    text = re.sub(pattern, '', text)\n",
    "    return text\n",
    "\n",
    "def filter_websites(text):\n",
    "    pattern = r'(http\\:\\/\\/|https\\:\\/\\/)?([a-z0-9][a-z0-9\\-]*\\.)+[a-z][a-z\\-]*'\n",
    "    text = re.sub(pattern, '', text)\n",
    "    return text\n",
    "\n",
    "def filter_phone_numbers(text):\n",
    "    pattern = r'(?:(?:\\+|00)33[\\s.-]{0,3}(?:\\(0\\)[\\s.-]{0,3})?|0)[1-9](?:(?:[\\s.-]?\\d{2}){4}|\\d{2}(?:[\\s.-]?\\d{3}){2})|(\\d{2}[ ]\\d{2}[ ]\\d{3}[ ]\\d{3})'\n",
    "    text = re.sub(pattern, '', text)\n",
    "    return text\n",
    "\n",
    "def remove_large_numbers(text):\n",
    "    pattern = r'\\b\\d{4,}\\b'\n",
    "    text = re.sub(pattern, '', text)\n",
    "    return text\n",
    "\n",
    "def remove_text_in_brackets(text):\n",
    "    pattern = r'\\[[^\\]]*\\]|\\{[^}]*\\}'\n",
    "    text = re.sub(pattern, '', text)\n",
    "    return text"
   ]
  },
  {
   "cell_type": "markdown",
   "id": "a24fb0ca-41e8-4491-9526-01b44854becf",
   "metadata": {},
   "source": [
    "Ahora agrupo todas esas funciones y las aplico a `base` para crear una nueva columna."
   ]
  },
  {
   "cell_type": "code",
   "execution_count": 5,
   "id": "84f054ab-b9b4-46b6-a325-5dee95567da0",
   "metadata": {
    "tags": []
   },
   "outputs": [
    {
     "data": {
      "text/plain": [
       "0    Piso reformado de 4 habitaciones, salón comedo...\n",
       "1    BENET MATEU, PIS D´ORIGEN AMB MOLT BONA DISTRI...\n",
       "2    Apartamento pero con acceso independiente desd...\n",
       "3    PISAZO, EL MEJOR DE LA ZONA.FENOMENAL PISO SIN...\n",
       "4    VIVIENDA EN LA CALLE GARROFER DE SANT IDELFONS...\n",
       "Name: cl_descrip, dtype: object"
      ]
     },
     "execution_count": 5,
     "metadata": {},
     "output_type": "execute_result"
    }
   ],
   "source": [
    "def clean_text(text):\n",
    "    if isinstance(text, str):  # Verifica si text es una cadena de texto\n",
    "        text = text.replace(u'\\xa0', u' ')\n",
    "        text = treat_m2(text)\n",
    "        text = treat_euro(text)\n",
    "        text = filter_phone_numbers(text)\n",
    "        text = filter_emails(text)\n",
    "        text = filter_ibans(text)\n",
    "        text = filter_ref(text)\n",
    "        text = filter_websites(text)\n",
    "        text = remove_space_between_numbers(text)\n",
    "        text = remove_large_numbers(text)\n",
    "        text = remove_text_in_brackets(text)\n",
    "    return text\n",
    "\n",
    "base['cl_descrip'] = base.Description.apply(clean_text)\n",
    "base['cl_descrip'].head()"
   ]
  },
  {
   "cell_type": "markdown",
   "id": "4e7e712b-5e46-4b58-9fad-0b62b66e30fc",
   "metadata": {},
   "source": [
    "Tenemos un problema más: **¡Hay texto en catalán!** Y probablemente en algún otro idioma, dado que algunos anuncios los ponen en distintos idiomas a la vez."
   ]
  },
  {
   "cell_type": "markdown",
   "id": "291fd68d-3ead-428f-bccd-6dce5983d755",
   "metadata": {
    "tags": []
   },
   "source": [
    "## 3. Corte de la descripción y traducción al español"
   ]
  },
  {
   "cell_type": "markdown",
   "id": "e59a3f6d-664c-4965-b0e2-d51cc293c270",
   "metadata": {},
   "source": [
    "Debido al tamaño de nuestro dataframe, es probable que convenga cortar la cantidad de palabras por celda."
   ]
  },
  {
   "cell_type": "code",
   "execution_count": 30,
   "id": "43abc2be-317f-46a6-aabb-b33a7e092dad",
   "metadata": {
    "tags": []
   },
   "outputs": [
    {
     "data": {
      "image/png": "[encoded data removed]",
      "text/plain": [
       "<Figure size 640x480 with 1 Axes>"
      ]
     },
     "metadata": {},
     "output_type": "display_data"
    }
   ],
   "source": [
    "# Dividir cada elemento de la columna 'Description' en palabras y contar la cantidad de palabras\n",
    "base['cantidad_palabras'] = base['cl_descrip'].apply(lambda x: len(x.split()))\n",
    "\n",
    "# Crear un histograma de la cantidad de palabras\n",
    "plt.hist(base['cantidad_palabras'], bins=10, color='skyblue', edgecolor='black')\n",
    "plt.xlabel('Cantidad de palabras')\n",
    "plt.ylabel('Frecuencia')\n",
    "plt.title('Histograma de cantidad de palabras')\n",
    "plt.show()"
   ]
  },
  {
   "cell_type": "markdown",
   "id": "6650f302-642b-4118-83d4-f07ee9425748",
   "metadata": {},
   "source": [
    "Creo que un número entre 300 y 400 podría ser más que suficiente. Empiezo creando una columna que me indique el idioma en el que está cada fila con la función `detect` de `langdetect`."
   ]
  },
  {
   "cell_type": "code",
   "execution_count": 11,
   "id": "a829bd92-358c-46ae-8099-e5565ac40689",
   "metadata": {
    "tags": []
   },
   "outputs": [],
   "source": [
    "# Función para detectar el idioma de un texto\n",
    "def detect_language(text):\n",
    "    try:\n",
    "        return detect(text)\n",
    "    except:\n",
    "        return None\n",
    "\n",
    "# Suponiendo que `df` es tu DataFrame y 'Description' es la columna con los textos\n",
    "# Agrega una nueva columna 'Language' con el idioma detectado para cada descripción\n",
    "base['Language'] = base['cl_descrip'].apply(detect_language)"
   ]
  },
  {
   "cell_type": "code",
   "execution_count": 33,
   "id": "f23981f8-19e8-4a2f-8bf1-1a745922c7f4",
   "metadata": {
    "tags": []
   },
   "outputs": [
    {
     "data": {
      "text/plain": [
       "0    es\n",
       "1    de\n",
       "2    es\n",
       "3    de\n",
       "4    en\n",
       "Name: Language, dtype: object"
      ]
     },
     "execution_count": 33,
     "metadata": {},
     "output_type": "execute_result"
    }
   ],
   "source": [
    "base['Language'].head()"
   ]
  },
  {
   "cell_type": "markdown",
   "id": "3e1156e1-bd44-41cb-ac69-b83312728f8c",
   "metadata": {},
   "source": [
    "Los resultados no parecen ser tan buenos, pues reconoce el catalán como alemán, y en algunos casos, el mismo español como alemán.\n",
    "Sin embargo, esto no debería ser un gran problema: si a continuación le pido que todas aquellas filas con un idioma distinto al español (`!= 'es'`) sean traducidas a ese idioma, aquellas que ya estén en español no sufrirán mayores cambios."
   ]
  },
  {
   "cell_type": "code",
   "execution_count": 32,
   "id": "e2cf59b3-2c2f-4182-98c5-a9b6f6675628",
   "metadata": {
    "tags": []
   },
   "outputs": [
    {
     "data": {
      "text/plain": [
       "0    Piso reformado de 4 habitaciones, salón comedo...\n",
       "1    BENET MATEU, PISO DE ORIGEN CON MUY BUENA DIST...\n",
       "2    Apartamento pero con acceso independiente desd...\n",
       "3    PISAZO, EL MEJOR DE LA ZONA.FENOMENAL PISO SIN...\n",
       "4    VIVIENDA EN LA CALLE GARROFER DE SANT IDELFONS...\n",
       "Name: cl_descrip, dtype: object"
      ]
     },
     "execution_count": 32,
     "metadata": {},
     "output_type": "execute_result"
    }
   ],
   "source": [
    "#En caso haya alguna celda en blanco, la relleno con un espacio en blanco\n",
    "base['cl_descrip'] = base['cl_descrip'].fillna('')\n",
    "\n",
    "# Función para cortar el texto a un máximo de 300 palabras\n",
    "def truncate_text(text):\n",
    "    words = text.split()[:300]\n",
    "    truncated_text = ' '.join(words)\n",
    "    return truncated_text\n",
    "\n",
    "# Aplico la función para truncar el texto en la columna 'cl_descrip'\n",
    "base['cl_descrip'] = base['cl_descrip'].apply(truncate_text)\n",
    "\n",
    "# Filtro las filas que tienen 'Language' algo distinto al español ('es')\n",
    "no_esp_descriptions = base[base['Language'] != 'es']['cl_descrip']\n",
    "\n",
    "# Traduzco las descripciones al español\n",
    "translated_descriptions = []\n",
    "for description in no_esp_descriptions:\n",
    "    translated_description = GoogleTranslator(source='auto', target='es').translate(description)\n",
    "    translated_descriptions.append(translated_description)\n",
    "\n",
    "# Reemplazo las descripciones traducidas en el DataFrame original\n",
    "base.loc[base['Language'] != 'es', 'cl_descrip'] = translated_descriptions\n",
    "\n",
    "base['cl_descrip'].head()"
   ]
  },
  {
   "cell_type": "code",
   "execution_count": 35,
   "id": "cff46316-f9ed-4cb1-b56f-0c8fb40c1a3e",
   "metadata": {
    "tags": []
   },
   "outputs": [
    {
     "data": {
      "text/plain": [
       "5462    Piso En Mollet Del Vallès!Ubicado a 600m de la...\n",
       "5463    La Casa Agency presenta en Exclusividad, esta ...\n",
       "5464    Mis Finques promociona esta planta baja con pa...\n",
       "5465    PISO CON TERRAZAPiso con TERRAZA DE 40M2. La v...\n",
       "5466    Precioso piso en una finca joven de tan solo 1...\n",
       "Name: cl_descrip, dtype: object"
      ]
     },
     "execution_count": 35,
     "metadata": {},
     "output_type": "execute_result"
    }
   ],
   "source": [
    "base['cl_descrip'].tail()"
   ]
  },
  {
   "cell_type": "markdown",
   "id": "7ee41345-636d-4a00-a57f-b9ee187e43da",
   "metadata": {},
   "source": [
    "Ahora que ya lo tengo en español, hago el análisis de sentimiento."
   ]
  },
  {
   "cell_type": "code",
   "execution_count": 36,
   "id": "70135bf4-3512-4bfb-bc18-f59fa2d8838c",
   "metadata": {
    "tags": []
   },
   "outputs": [],
   "source": [
    "# Crear el analizador de sentimientos\n",
    "analyzer = create_analyzer(task=\"sentiment\", lang=\"es\")\n",
    "\n",
    "# Suponiendo que tienes un DataFrame llamado df con una columna 'Description'\n",
    "# Aplicar el análisis de sentimientos a todas las filas de la columna 'Description'\n",
    "sentiments = base['cl_descrip'].apply(analyzer.predict)\n",
    "\n",
    "# Extraer los valores de probabilidad para cada categoría y crear las nuevas columnas\n",
    "base['POS'] = [result.probas.get('POS', 0) for result in sentiments]\n",
    "base['NEU'] = [result.probas.get('NEU', 0) for result in sentiments]\n",
    "base['NEG'] = [result.probas.get('NEG', 0) for result in sentiments]"
   ]
  },
  {
   "cell_type": "code",
   "execution_count": 37,
   "id": "288ab64c-f6db-4d4e-aa71-80965362ae6d",
   "metadata": {
    "tags": []
   },
   "outputs": [
    {
     "data": {
      "text/html": [
       "<div>\n",
       "<style scoped>\n",
       "    .dataframe tbody tr th:only-of-type {\n",
       "        vertical-align: middle;\n",
       "    }\n",
       "\n",
       "    .dataframe tbody tr th {\n",
       "        vertical-align: top;\n",
       "    }\n",
       "\n",
       "    .dataframe thead th {\n",
       "        text-align: right;\n",
       "    }\n",
       "</style>\n",
       "<table border=\"1\" class=\"dataframe\">\n",
       "  <thead>\n",
       "    <tr style=\"text-align: right;\">\n",
       "      <th></th>\n",
       "      <th>cl_descrip</th>\n",
       "      <th>POS</th>\n",
       "      <th>NEU</th>\n",
       "      <th>NEG</th>\n",
       "    </tr>\n",
       "  </thead>\n",
       "  <tbody>\n",
       "    <tr>\n",
       "      <th>0</th>\n",
       "      <td>Piso reformado de 4 habitaciones, salón comedo...</td>\n",
       "      <td>0.634861</td>\n",
       "      <td>0.352537</td>\n",
       "      <td>0.012602</td>\n",
       "    </tr>\n",
       "    <tr>\n",
       "      <th>1</th>\n",
       "      <td>BENET MATEU, PISO DE ORIGEN CON MUY BUENA DIST...</td>\n",
       "      <td>0.736040</td>\n",
       "      <td>0.250749</td>\n",
       "      <td>0.013210</td>\n",
       "    </tr>\n",
       "    <tr>\n",
       "      <th>2</th>\n",
       "      <td>Apartamento pero con acceso independiente desd...</td>\n",
       "      <td>0.788073</td>\n",
       "      <td>0.200277</td>\n",
       "      <td>0.011651</td>\n",
       "    </tr>\n",
       "    <tr>\n",
       "      <th>3</th>\n",
       "      <td>PISAZO, EL MEJOR DE LA ZONA.FENOMENAL PISO SIN...</td>\n",
       "      <td>0.965982</td>\n",
       "      <td>0.029098</td>\n",
       "      <td>0.004920</td>\n",
       "    </tr>\n",
       "    <tr>\n",
       "      <th>4</th>\n",
       "      <td>VIVIENDA EN LA CALLE GARROFER DE SANT IDELFONS...</td>\n",
       "      <td>0.405443</td>\n",
       "      <td>0.552446</td>\n",
       "      <td>0.042112</td>\n",
       "    </tr>\n",
       "  </tbody>\n",
       "</table>\n",
       "</div>"
      ],
      "text/plain": [
       "                                          cl_descrip       POS       NEU  \\\n",
       "0  Piso reformado de 4 habitaciones, salón comedo...  0.634861  0.352537   \n",
       "1  BENET MATEU, PISO DE ORIGEN CON MUY BUENA DIST...  0.736040  0.250749   \n",
       "2  Apartamento pero con acceso independiente desd...  0.788073  0.200277   \n",
       "3  PISAZO, EL MEJOR DE LA ZONA.FENOMENAL PISO SIN...  0.965982  0.029098   \n",
       "4  VIVIENDA EN LA CALLE GARROFER DE SANT IDELFONS...  0.405443  0.552446   \n",
       "\n",
       "        NEG  \n",
       "0  0.012602  \n",
       "1  0.013210  \n",
       "2  0.011651  \n",
       "3  0.004920  \n",
       "4  0.042112  "
      ]
     },
     "execution_count": 37,
     "metadata": {},
     "output_type": "execute_result"
    }
   ],
   "source": [
    "base[['cl_descrip','POS','NEU','NEG']].head()"
   ]
  },
  {
   "cell_type": "markdown",
   "id": "3aeb56d7-6e49-4023-82a7-31294eed45fb",
   "metadata": {},
   "source": [
    "En este momento, recomiendo abrir el documento en Excel y ver qué tal ha quedado y si hay algo que se nos esté pasando."
   ]
  },
  {
   "cell_type": "code",
   "execution_count": null,
   "id": "df8d5940-fc26-407d-9e52-46d8137cf96d",
   "metadata": {},
   "outputs": [],
   "source": [
    "base.to_excel('rawdata/clases/pruebasentiment.xlsx')"
   ]
  },
  {
   "cell_type": "markdown",
   "id": "a884824f-782f-433d-8327-e6af2d5b77f4",
   "metadata": {},
   "source": [
    "Lo que me encuentro es que hay celdas con descripción vacía (`cantidad_palabras`=0), pero en donde se han ponderado los sentimientos. Creo que es algo que deberíamos mejorar. \n",
    "\n",
    "Me parece que aquellas que no tienen descripción es porque deberían tener un sentimiento negativo asociado, pero no deberían tener nada de positivo ni de neutral. Si fuese así, ¿qué valor `NEG` le deberíamos poner? Podría ser el valor promedio, siempre que la distribución de la variable sea normal. Empecemos revisando eso."
   ]
  },
  {
   "cell_type": "code",
   "execution_count": 50,
   "id": "faa1589a-6a0a-4c3e-bb2f-9742443d0fc4",
   "metadata": {
    "tags": []
   },
   "outputs": [
    {
     "data": {
      "image/png": "[encoded data removed]",
      "text/plain": [
       "<Figure size 640x480 with 1 Axes>"
      ]
     },
     "metadata": {},
     "output_type": "display_data"
    }
   ],
   "source": [
    "# Filtra el DataFrame para incluir solo las filas donde 'cantidad_palabras' es mayor o igual que 1\n",
    "filtered_df = base[base['cantidad_palabras'] >= 1]\n",
    "\n",
    "# Crea el histograma de la columna 'NEG' en el DataFrame filtrado\n",
    "plt.hist(filtered_df['NEG'], bins=20, color='blue', alpha=0.7)\n",
    "plt.xlabel('NEG')\n",
    "plt.ylabel('Frecuencia')\n",
    "plt.title('Histograma de NEG con cantidad_palabras >= 1')\n",
    "plt.show()"
   ]
  },
  {
   "cell_type": "markdown",
   "id": "1b9bc479-76a0-4d23-976d-c332e8c7cec5",
   "metadata": {},
   "source": [
    "Como no es una distribución normal, usar el promedio no capturaría la distribución de los datos. En esos casos, es preferible usar la mediana: el valor que está justo en el centro de los datos."
   ]
  },
  {
   "cell_type": "code",
   "execution_count": 52,
   "id": "b4e816a2-05d4-4022-be86-d508a221c218",
   "metadata": {
    "tags": []
   },
   "outputs": [],
   "source": [
    "#Obtengo la mediana\n",
    "median_neg = filtered_df['NEG'].median()\n",
    "\n",
    "# Función para actualizar 'POS', 'NEU' y 'NEG' cuando la cantidad de palabras es igual a 0\n",
    "def update_sentiment_values(row):\n",
    "    if row['cantidad_palabras'] == 0:\n",
    "        row['POS'] = 0\n",
    "        row['NEU'] = 0\n",
    "        row['NEG'] = median_neg\n",
    "    return row\n",
    "\n",
    "# Aplica la función a cada fila del DataFrame\n",
    "prueba = base.apply(update_sentiment_values, axis=1)\n",
    "\n",
    "# Guarda el DataFrame modificado en un archivo Excel\n",
    "prueba.to_excel('rawdata/pruebasentiment.xlsx')"
   ]
  },
  {
   "cell_type": "markdown",
   "id": "5d4c6d34-e6d0-44e7-b128-232aa6da66be",
   "metadata": {},
   "source": [
    "## 4. Análisis de Componentes Principales"
   ]
  },
  {
   "cell_type": "markdown",
   "id": "ac0f0368-5cc8-447d-9b68-77cd9552b2a4",
   "metadata": {},
   "source": [
    "Con el análisis hecho, notamos que tenemos tres nuevas variables. Podríamos intentar hacer un ACP para ver si es posible tener una sola variable que las sintetice."
   ]
  },
  {
   "cell_type": "code",
   "execution_count": 53,
   "id": "f030b73a-1a62-4a71-956c-96535eb14472",
   "metadata": {
    "tags": []
   },
   "outputs": [
    {
     "name": "stdout",
     "output_type": "stream",
     "text": [
      "Tabla de Varianza Total Explicada:\n",
      "          SS Loadings  Proportion Var  Cumulative Var\n",
      "Factor1  1.923330e+00    6.411101e-01         0.64111\n",
      "Factor2  1.076670e+00    3.588899e-01         1.00000\n",
      "Factor3  1.760636e-14    5.868786e-15         1.00000\n"
     ]
    }
   ],
   "source": [
    "#Le indicamos en qué columnas se va a centrar\n",
    "df = base[['POS','NEU','NEG']]\n",
    "\n",
    "#Le pedimos un ACP con rotación varimax y N factores\n",
    "fa = FactorAnalyzer(rotation='varimax', n_factors=3, #esto lo indican ustedes, deben ir probanod \n",
    "                    method='principal')\n",
    "fa.fit(df)\n",
    "\n",
    "# Obtener la varianza total explicada\n",
    "total_variance = fa.get_factor_variance()\n",
    "\n",
    "# Crear un DataFrame para mostrar la tabla de la varianza total explicada\n",
    "explained_variance_df = pd.DataFrame(total_variance, columns=['Factor1', 'Factor2',\n",
    "                                                             'Factor3'], #Deben aumentar o disminuir según la \n",
    "                                                                         #cantidad de factores que hayan indicado\n",
    "                                     index=['SS Loadings', 'Proportion Var', 'Cumulative Var'])\n",
    "\n",
    "#Esto es solo para que la tabla se vea mejor\n",
    "explained_variance_df = explained_variance_df.transpose()\n",
    "\n",
    "print(\"Tabla de Varianza Total Explicada:\")\n",
    "print(explained_variance_df)"
   ]
  },
  {
   "cell_type": "markdown",
   "id": "49ccfd3c-ae28-4194-8088-d8b0548dc052",
   "metadata": {},
   "source": [
    "Noto que a partir del segundo factor ya explico un 100% de las tres variables. Tratemos de interpretarlos."
   ]
  },
  {
   "cell_type": "code",
   "execution_count": 54,
   "id": "d50d8c50-a839-4e16-8fae-838c4afd379e",
   "metadata": {
    "tags": []
   },
   "outputs": [
    {
     "data": {
      "image/png": "[encoded data removed]",
      "text/plain": [
       "<Figure size 1000x200 with 1 Axes>"
      ]
     },
     "metadata": {},
     "output_type": "display_data"
    }
   ],
   "source": [
    "rotated_loadings = fa.loadings_\n",
    "\n",
    "# Transponer la matriz de cargas rotadas para que las columnas coincidan con las variables\n",
    "rotated_loadings_transposed = rotated_loadings.T\n",
    "\n",
    "rotated_df = pd.DataFrame(rotated_loadings_transposed, columns=df.columns)\n",
    "\n",
    "# Definir los colores para el mapa de calor\n",
    "cmap = sns.diverging_palette(20, 220, as_cmap=True)\n",
    "\n",
    "# Crear el mapa de calor\n",
    "plt.figure(figsize=(10, 2)) #Altura y ancho, lo pueden variar\n",
    "sns.heatmap(rotated_df, cmap=cmap, annot=True, fmt=\".2f\", cbar=False, vmin=rotated_df.min().min(), vmax=rotated_df.max().max())\n",
    "plt.title('Mapa de Calor de Cargas Rotadas')\n",
    "plt.xlabel('Variables')\n",
    "plt.ylabel('Factores')\n",
    "plt.show()"
   ]
  },
  {
   "cell_type": "markdown",
   "id": "df28a158-97be-45a0-bee4-abd0de2e7bfe",
   "metadata": {},
   "source": [
    "El primer factor (`0`) es totalmente neutral y para nada positivo. Mientras que el segundo (`1`), es totalmente negativo."
   ]
  },
  {
   "cell_type": "code",
   "execution_count": 55,
   "id": "11d43d7b-f211-483e-8bae-5956770295fc",
   "metadata": {
    "tags": []
   },
   "outputs": [],
   "source": [
    "# Obtener los factores extraídos\n",
    "factors = fa.transform(df)\n",
    "\n",
    "# Agregar los factores al DataFrame original\n",
    "base['Sent_NEU_noPOS'] = factors[:, 0] #Este es el número que me interesa\n",
    "base['Sent_NEG'] = factors[:, 1] #Este es el número que me interesa"
   ]
  },
  {
   "cell_type": "code",
   "execution_count": 56,
   "id": "1f80673d-6292-4d90-9163-db8dcf883e9c",
   "metadata": {
    "tags": []
   },
   "outputs": [],
   "source": [
    "base.to_csv('rawdata/clases/habitaclia5467_ejercicio3.csv')"
   ]
  }
 ],
 "metadata": {
  "kernelspec": {
   "display_name": "Python 3 (ipykernel)",
   "language": "python",
   "name": "python3"
  },
  "language_info": {
   "codemirror_mode": {
    "name": "ipython",
    "version": 3
   },
   "file_extension": ".py",
   "mimetype": "text/x-python",
   "name": "python",
   "nbconvert_exporter": "python",
   "pygments_lexer": "ipython3",
   "version": "3.11.5"
  }
 },
 "nbformat": 4,
 "nbformat_minor": 5
}
