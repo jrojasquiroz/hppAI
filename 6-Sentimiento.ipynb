{
 "cells": [
  {
   "cell_type": "markdown",
   "id": "9d54edc0-64fc-4650-b926-525b06e424af",
   "metadata": {},
   "source": [
    "# Análisis de sentimiento"
   ]
  },
  {
   "cell_type": "markdown",
   "id": "ac3da77b-4506-46aa-b277-53714ddbac7c",
   "metadata": {},
   "source": [
    "## 1. Importación de librerías y revisión del *dataframe*"
   ]
  },
  {
   "cell_type": "code",
   "execution_count": 1,
   "id": "4a944f2c-e114-446a-a47d-2f232b67dc8f",
   "metadata": {
    "collapsed": true,
    "jupyter": {
     "outputs_hidden": true
    },
    "tags": []
   },
   "outputs": [
    {
     "name": "stdout",
     "output_type": "stream",
     "text": [
      "WARNING:tensorflow:From C:\\Users\\rojas\\anaconda3\\Lib\\site-packages\\keras\\src\\losses.py:2976: The name tf.losses.sparse_softmax_cross_entropy is deprecated. Please use tf.compat.v1.losses.sparse_softmax_cross_entropy instead.\n",
      "\n"
     ]
    },
    {
     "name": "stderr",
     "output_type": "stream",
     "text": [
      "C:\\Users\\rojas\\anaconda3\\Lib\\site-packages\\transformers\\utils\\generic.py:260: UserWarning: torch.utils._pytree._register_pytree_node is deprecated. Please use torch.utils._pytree.register_pytree_node instead.\n",
      "  torch.utils._pytree._register_pytree_node(\n"
     ]
    }
   ],
   "source": [
    "import pandas as pd\n",
    "import numpy as np\n",
    "from matplotlib import pyplot as plt\n",
    "import seaborn as sns\n",
    "from pysentimiento import create_analyzer #para el analisis de sentimiento\n",
    "from factor_analyzer import FactorAnalyzer #para hacer ACP"
   ]
  },
  {
   "cell_type": "markdown",
   "id": "9bf90fef-a747-4d1c-a291-f29092760a92",
   "metadata": {},
   "source": [
    "Noten que vamos a usar una librería llamada `pysentimiento`, que funciona con base en un modelo llamado ROBERTuito. Pueden leer más sobre ello [en este paper](https://arxiv.org/abs/2106.09462)."
   ]
  },
  {
   "cell_type": "code",
   "execution_count": 2,
   "id": "320a005e-3ced-43c2-ba44-08148708af8b",
   "metadata": {
    "tags": []
   },
   "outputs": [],
   "source": [
    "base=pd.read_csv('rawdata/clases/habitaclia5467_ejercicio3-1y2.csv')"
   ]
  },
  {
   "cell_type": "markdown",
   "id": "4979da7e-fe4f-4c61-b6f7-27a8ba815b84",
   "metadata": {},
   "source": [
    "## 2. Análisis de sentimiento"
   ]
  },
  {
   "cell_type": "markdown",
   "id": "c1ac5baa-e91a-4309-9b2a-09764a1e7669",
   "metadata": {},
   "source": [
    "La columna `cl_descrip` es aquella que tiene las descripciones sobre las que queremos realizar el análisis de sentimiento."
   ]
  },
  {
   "cell_type": "code",
   "execution_count": 4,
   "id": "70135bf4-3512-4bfb-bc18-f59fa2d8838c",
   "metadata": {
    "tags": []
   },
   "outputs": [],
   "source": [
    "# Reemplazar los valores NaN o no válidos con una cadena vacía ''\n",
    "base['cl_descrip'] = base['cl_descrip'].fillna('')\n",
    "\n",
    "# Crear el analizador de sentimientos\n",
    "analyzer = create_analyzer(task=\"sentiment\", lang=\"es\")\n",
    "\n",
    "# Aplicar el análisis de sentimientos a todas las filas de la columna 'Description'\n",
    "sentiments = base['cl_descrip'].apply(analyzer.predict)\n",
    "\n",
    "# Extraer los valores de probabilidad para cada categoría y crear las nuevas columnas\n",
    "base['POS'] = [result.probas.get('POS', 0) for result in sentiments]\n",
    "base['NEU'] = [result.probas.get('NEU', 0) for result in sentiments]\n",
    "base['NEG'] = [result.probas.get('NEG', 0) for result in sentiments]"
   ]
  },
  {
   "cell_type": "code",
   "execution_count": 5,
   "id": "288ab64c-f6db-4d4e-aa71-80965362ae6d",
   "metadata": {
    "tags": []
   },
   "outputs": [
    {
     "data": {
      "text/html": [
       "<div>\n",
       "<style scoped>\n",
       "    .dataframe tbody tr th:only-of-type {\n",
       "        vertical-align: middle;\n",
       "    }\n",
       "\n",
       "    .dataframe tbody tr th {\n",
       "        vertical-align: top;\n",
       "    }\n",
       "\n",
       "    .dataframe thead th {\n",
       "        text-align: right;\n",
       "    }\n",
       "</style>\n",
       "<table border=\"1\" class=\"dataframe\">\n",
       "  <thead>\n",
       "    <tr style=\"text-align: right;\">\n",
       "      <th></th>\n",
       "      <th>cl_descrip</th>\n",
       "      <th>POS</th>\n",
       "      <th>NEU</th>\n",
       "      <th>NEG</th>\n",
       "    </tr>\n",
       "  </thead>\n",
       "  <tbody>\n",
       "    <tr>\n",
       "      <th>0</th>\n",
       "      <td>Piso reformado de 4 habitaciones, salón comedo...</td>\n",
       "      <td>0.634861</td>\n",
       "      <td>0.352537</td>\n",
       "      <td>0.012602</td>\n",
       "    </tr>\n",
       "    <tr>\n",
       "      <th>1</th>\n",
       "      <td>BENET MATEU, PISO DE ORIGEN CON MUY BUENA DIST...</td>\n",
       "      <td>0.736040</td>\n",
       "      <td>0.250749</td>\n",
       "      <td>0.013210</td>\n",
       "    </tr>\n",
       "    <tr>\n",
       "      <th>2</th>\n",
       "      <td>Apartamento pero con acceso independiente desd...</td>\n",
       "      <td>0.788073</td>\n",
       "      <td>0.200277</td>\n",
       "      <td>0.011651</td>\n",
       "    </tr>\n",
       "    <tr>\n",
       "      <th>3</th>\n",
       "      <td>PISAZO, EL MEJOR DE LA ZONA.FENOMENAL PISO SIN...</td>\n",
       "      <td>0.965982</td>\n",
       "      <td>0.029098</td>\n",
       "      <td>0.004920</td>\n",
       "    </tr>\n",
       "    <tr>\n",
       "      <th>4</th>\n",
       "      <td>VIVIENDA EN LA CALLE GARROFER DE SANT IDELFONS...</td>\n",
       "      <td>0.405443</td>\n",
       "      <td>0.552446</td>\n",
       "      <td>0.042112</td>\n",
       "    </tr>\n",
       "  </tbody>\n",
       "</table>\n",
       "</div>"
      ],
      "text/plain": [
       "                                          cl_descrip       POS       NEU  \\\n",
       "0  Piso reformado de 4 habitaciones, salón comedo...  0.634861  0.352537   \n",
       "1  BENET MATEU, PISO DE ORIGEN CON MUY BUENA DIST...  0.736040  0.250749   \n",
       "2  Apartamento pero con acceso independiente desd...  0.788073  0.200277   \n",
       "3  PISAZO, EL MEJOR DE LA ZONA.FENOMENAL PISO SIN...  0.965982  0.029098   \n",
       "4  VIVIENDA EN LA CALLE GARROFER DE SANT IDELFONS...  0.405443  0.552446   \n",
       "\n",
       "        NEG  \n",
       "0  0.012602  \n",
       "1  0.013210  \n",
       "2  0.011651  \n",
       "3  0.004920  \n",
       "4  0.042112  "
      ]
     },
     "execution_count": 5,
     "metadata": {},
     "output_type": "execute_result"
    }
   ],
   "source": [
    "base[['cl_descrip','POS','NEU','NEG']].head()"
   ]
  },
  {
   "cell_type": "markdown",
   "id": "3aeb56d7-6e49-4023-82a7-31294eed45fb",
   "metadata": {},
   "source": [
    "En este momento, recomiendo abrir el documento en Excel y ver qué tal ha quedado y si hay algo que se nos esté pasando."
   ]
  },
  {
   "cell_type": "code",
   "execution_count": 13,
   "id": "df8d5940-fc26-407d-9e52-46d8137cf96d",
   "metadata": {},
   "outputs": [],
   "source": [
    "base[['cl_descrip','cantidad_palabras',\n",
    "      'POS','NEU','NEG']].to_excel('rawdata/clases/sentimiento_borrar_luego.xlsx')"
   ]
  },
  {
   "cell_type": "markdown",
   "id": "a884824f-782f-433d-8327-e6af2d5b77f4",
   "metadata": {},
   "source": [
    "Lo que me encuentro es que hay celdas con descripción vacía (`cantidad_palabras`= 0), pero en donde se han ponderado los sentimientos. Creo que es algo que deberíamos mejorar. \n",
    "\n",
    "Me parece que aquellas que no tienen descripción es porque deberían tener un sentimiento negativo asociado, pero no deberían tener nada de positivo ni de neutral. Si fuese así, ¿qué valor `NEG` le deberíamos poner? Podría ser el valor promedio, siempre que la distribución de la variable sea normal. Empecemos revisando eso."
   ]
  },
  {
   "cell_type": "code",
   "execution_count": 8,
   "id": "faa1589a-6a0a-4c3e-bb2f-9742443d0fc4",
   "metadata": {
    "tags": []
   },
   "outputs": [
    {
     "data": {
      "image/png": "[encoded data removed]",
      "text/plain": [
       "<Figure size 640x480 with 1 Axes>"
      ]
     },
     "metadata": {},
     "output_type": "display_data"
    }
   ],
   "source": [
    "# Filtra el DataFrame para incluir solo las filas donde 'cantidad_palabras' es mayor o igual que 1\n",
    "filtered_df = base[base['cantidad_palabras'] >= 1]\n",
    "\n",
    "# Crea el histograma de la columna 'NEG' en el DataFrame filtrado\n",
    "plt.hist(filtered_df['NEG'], bins=20, color='blue', alpha=0.7)\n",
    "plt.xlabel('NEG')\n",
    "plt.ylabel('Frecuencia')\n",
    "plt.title('Histograma de NEG con cantidad_palabras >= 1')\n",
    "plt.show()"
   ]
  },
  {
   "cell_type": "markdown",
   "id": "1b9bc479-76a0-4d23-976d-c332e8c7cec5",
   "metadata": {},
   "source": [
    "Como no es una distribución normal, usar el promedio no capturaría la distribución de los datos. En esos casos, es preferible **usar la mediana**: el valor que está justo en el centro de los datos.\n",
    "\n",
    "Ahora sí arreglemos los valores de esas filas."
   ]
  },
  {
   "cell_type": "code",
   "execution_count": 9,
   "id": "b4e816a2-05d4-4022-be86-d508a221c218",
   "metadata": {
    "tags": []
   },
   "outputs": [],
   "source": [
    "#Obtengo la mediana\n",
    "median_neg = filtered_df['NEG'].median() #noten que lo hago sobre 'filtered_df'\n",
    "\n",
    "# Función para actualizar 'POS', 'NEU' y 'NEG' cuando la cantidad de palabras es igual a 0\n",
    "def update_sentiment_values(row):\n",
    "    if row['cantidad_palabras'] == 0:\n",
    "        row['POS'] = 0\n",
    "        row['NEU'] = 0\n",
    "        row['NEG'] = median_neg\n",
    "    return row\n",
    "\n",
    "# Aplica la función a cada fila del DataFrame\n",
    "base = base.apply(update_sentiment_values, axis=1)\n",
    "\n",
    "# Si quieren, pueden exportar para explorar los resultados \n",
    "#base[['cl_descrip','POS','NEU','NEG']].to_excel('rawdata/sentimiento_borrar_luego.xlsx')"
   ]
  },
  {
   "cell_type": "markdown",
   "id": "5d4c6d34-e6d0-44e7-b128-232aa6da66be",
   "metadata": {},
   "source": [
    "## 5. Análisis de Componentes Principales"
   ]
  },
  {
   "cell_type": "markdown",
   "id": "ac0f0368-5cc8-447d-9b68-77cd9552b2a4",
   "metadata": {},
   "source": [
    "Con el análisis hecho, notamos que tenemos tres nuevas variables. Podríamos intentar hacer un ACP para ver si es posible tener una sola variable que las sintetice."
   ]
  },
  {
   "cell_type": "code",
   "execution_count": 10,
   "id": "f030b73a-1a62-4a71-956c-96535eb14472",
   "metadata": {
    "tags": []
   },
   "outputs": [
    {
     "name": "stdout",
     "output_type": "stream",
     "text": [
      "Tabla de Varianza Total Explicada:\n",
      "         SS Loadings  Proportion Var  Cumulative Var\n",
      "Factor1     0.994427        0.331476        0.331476\n",
      "Factor2     1.002441        0.334147        0.665623\n",
      "Factor3     1.003132        0.334377        1.000000\n"
     ]
    }
   ],
   "source": [
    "#Le indicamos en qué columnas se va a centrar\n",
    "df = base[['POS','NEU','NEG']]\n",
    "\n",
    "#Le pedimos un ACP con rotación varimax y N factores\n",
    "fa = FactorAnalyzer(rotation='varimax', \n",
    "                    n_factors=3, ## esto lo indican ustedes, deben ir probando ## \n",
    "                    method='principal')\n",
    "fa.fit(df)\n",
    "\n",
    "# Obtener la varianza total explicada\n",
    "total_variance = fa.get_factor_variance()\n",
    "\n",
    "# Crear un DataFrame para mostrar la tabla de la varianza total explicada\n",
    "explained_variance_df = pd.DataFrame(total_variance, \n",
    "                                     columns=['Factor1', 'Factor2',\n",
    "                                              'Factor3'], #Deben aumentar o disminuir según la \n",
    "                                                          #cantidad de factores que \n",
    "                                                          #hayan indicado\n",
    "                                     index=['SS Loadings', 'Proportion Var', 'Cumulative Var'])\n",
    "\n",
    "#Esto es solo para que la tabla se vea mejor\n",
    "explained_variance_df = explained_variance_df.transpose()\n",
    "\n",
    "print(\"Tabla de Varianza Total Explicada:\")\n",
    "print(explained_variance_df)"
   ]
  },
  {
   "cell_type": "markdown",
   "id": "49ccfd3c-ae28-4194-8088-d8b0548dc052",
   "metadata": {},
   "source": [
    "Fíjense siempre en *Cumulative Var*, que es la varianza acumulada explicada. Usualmente se utiliza un umbral del 70%: la cantidad de factores necesarios para explicar todas las variables es aquella que acumula ese porcentaje. \n",
    "\n",
    "Noto que a partir del segundo factor ya explico un 66% de las tres variables, lo que podría entenderse como un número aceptable. \n",
    "\n",
    "Ahora tratemos de interpretar cada factor."
   ]
  },
  {
   "cell_type": "code",
   "execution_count": 12,
   "id": "d50d8c50-a839-4e16-8fae-838c4afd379e",
   "metadata": {
    "tags": []
   },
   "outputs": [
    {
     "data": {
      "image/png": "[encoded data removed]",
      "text/plain": [
       "<Figure size 1000x200 with 1 Axes>"
      ]
     },
     "metadata": {},
     "output_type": "display_data"
    }
   ],
   "source": [
    "#Creamos una matriz de cargas rotadas\n",
    "rotated_loadings = fa.loadings_\n",
    "\n",
    "# Transponer la matriz de cargas rotadas para que las columnas coincidan con las variables\n",
    "rotated_loadings_transposed = rotated_loadings.T\n",
    "\n",
    "rotated_df = pd.DataFrame(rotated_loadings_transposed, columns=df.columns)\n",
    "\n",
    "# Definir los colores para el mapa de calor\n",
    "cmap = sns.diverging_palette(20, 220, as_cmap=True)\n",
    "\n",
    "# Crear el mapa de calor\n",
    "plt.figure(figsize=(10, 2)) #Altura y ancho, lo pueden variar\n",
    "sns.heatmap(rotated_df, cmap=cmap, annot=True, fmt=\".2f\", cbar=False, vmin=rotated_df.min().min(), vmax=rotated_df.max().max())\n",
    "plt.title('Mapa de Calor de Cargas Rotadas')\n",
    "plt.xlabel('Variables')\n",
    "plt.ylabel('Factores')\n",
    "plt.show()"
   ]
  },
  {
   "cell_type": "markdown",
   "id": "df28a158-97be-45a0-bee4-abd0de2e7bfe",
   "metadata": {},
   "source": [
    "El primer factor (`0`) es totalmente negativo; mientras que el segundo (`1`), es totalmente positivo. A partir de aquí podríamos tomar tres caminos:\n",
    "\n",
    "1. Usamos sólo la 'positividad' como una variable en nuestro modelo.\n",
    "2. Usamos los dos factores obtenidos.\n",
    "3. Usamos las tres variables iniciales del análisis del sentimiento."
   ]
  },
  {
   "cell_type": "markdown",
   "id": "5d90eb41-7fed-4e19-89fb-6cfb2a2367c1",
   "metadata": {
    "tags": []
   },
   "source": [
    "En caso quieran añadir los factores al dataframe, aquí el código:"
   ]
  },
  {
   "cell_type": "code",
   "execution_count": 15,
   "id": "11d43d7b-f211-483e-8bae-5956770295fc",
   "metadata": {
    "tags": []
   },
   "outputs": [
    {
     "name": "stderr",
     "output_type": "stream",
     "text": [
      "C:\\Users\\rojas\\AppData\\Local\\Temp\\ipykernel_7796\\2389707093.py:5: PerformanceWarning: DataFrame is highly fragmented.  This is usually the result of calling `frame.insert` many times, which has poor performance.  Consider joining all columns at once using pd.concat(axis=1) instead. To get a de-fragmented frame, use `newframe = frame.copy()`\n",
      "  base['ACP_NEG'] = factors[:, 0] #Este es el número que me interesa\n",
      "C:\\Users\\rojas\\AppData\\Local\\Temp\\ipykernel_7796\\2389707093.py:6: PerformanceWarning: DataFrame is highly fragmented.  This is usually the result of calling `frame.insert` many times, which has poor performance.  Consider joining all columns at once using pd.concat(axis=1) instead. To get a de-fragmented frame, use `newframe = frame.copy()`\n",
      "  base['ACP_POS'] = factors[:, 1] #Este es el número que me interesa\n"
     ]
    }
   ],
   "source": [
    "# Obtener los factores extraídos\n",
    "factors = fa.transform(df)\n",
    "\n",
    "# Agregar los factores al DataFrame original\n",
    "base['ACP_NEG'] = factors[:, 0] #Este es el número que me interesa\n",
    "base['ACP_POS'] = factors[:, 1] #Este es el número que me interesa"
   ]
  },
  {
   "cell_type": "code",
   "execution_count": 16,
   "id": "1f80673d-6292-4d90-9163-db8dcf883e9c",
   "metadata": {
    "tags": []
   },
   "outputs": [],
   "source": [
    "base.to_csv('rawdata/clases/habitaclia5467_ejercicio3-3.csv')"
   ]
  }
 ],
 "metadata": {
  "kernelspec": {
   "display_name": "Python 3 (ipykernel)",
   "language": "python",
   "name": "python3"
  },
  "language_info": {
   "codemirror_mode": {
    "name": "ipython",
    "version": 3
   },
   "file_extension": ".py",
   "mimetype": "text/x-python",
   "name": "python",
   "nbconvert_exporter": "python",
   "pygments_lexer": "ipython3",
   "version": "3.11.5"
  }
 },
 "nbformat": 4,
 "nbformat_minor": 5
}
