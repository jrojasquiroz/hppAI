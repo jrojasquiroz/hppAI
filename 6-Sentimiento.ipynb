{
 "cells": [
  {
   "cell_type": "markdown",
   "id": "9d54edc0-64fc-4650-b926-525b06e424af",
   "metadata": {},
   "source": [
    "# Análisis de sentimiento"
   ]
  },
  {
   "cell_type": "markdown",
   "id": "ac3da77b-4506-46aa-b277-53714ddbac7c",
   "metadata": {},
   "source": [
    "## 1. Importación de librerías y revisión del *dataframe*"
   ]
  },
  {
   "cell_type": "code",
   "execution_count": 1,
   "id": "4a944f2c-e114-446a-a47d-2f232b67dc8f",
   "metadata": {
    "tags": []
   },
   "outputs": [
    {
     "ename": "ModuleNotFoundError",
     "evalue": "No module named 'pysentimiento'",
     "output_type": "error",
     "traceback": [
      "\u001b[1;31m---------------------------------------------------------------------------\u001b[0m",
      "\u001b[1;31mModuleNotFoundError\u001b[0m                       Traceback (most recent call last)",
      "Cell \u001b[1;32mIn[1], line 5\u001b[0m\n\u001b[0;32m      3\u001b[0m \u001b[38;5;28;01mfrom\u001b[39;00m \u001b[38;5;21;01mmatplotlib\u001b[39;00m \u001b[38;5;28;01mimport\u001b[39;00m pyplot \u001b[38;5;28;01mas\u001b[39;00m plt\n\u001b[0;32m      4\u001b[0m \u001b[38;5;28;01mimport\u001b[39;00m \u001b[38;5;21;01mseaborn\u001b[39;00m \u001b[38;5;28;01mas\u001b[39;00m \u001b[38;5;21;01msns\u001b[39;00m\n\u001b[1;32m----> 5\u001b[0m \u001b[38;5;28;01mfrom\u001b[39;00m \u001b[38;5;21;01mpysentimiento\u001b[39;00m \u001b[38;5;28;01mimport\u001b[39;00m create_analyzer\n\u001b[0;32m      6\u001b[0m \u001b[38;5;28;01mfrom\u001b[39;00m \u001b[38;5;21;01mfactor_analyzer\u001b[39;00m \u001b[38;5;28;01mimport\u001b[39;00m FactorAnalyzer\n",
      "\u001b[1;31mModuleNotFoundError\u001b[0m: No module named 'pysentimiento'"
     ]
    }
   ],
   "source": [
    "import pandas as pd\n",
    "import numpy as np\n",
    "from matplotlib import pyplot as plt\n",
    "import seaborn as sns\n",
    "from pysentimiento import create_analyzer #para el analisis de sentimiento\n",
    "from factor_analyzer import FactorAnalyzer #para hacer ACP"
   ]
  },
  {
   "cell_type": "markdown",
   "id": "9bf90fef-a747-4d1c-a291-f29092760a92",
   "metadata": {},
   "source": [
    "Noten que vamos a usar una librería llamada `pysentimiento`, que funciona con base en un modelo llamado ROBERTuito. Pueden leer más sobre ello [en este paper](https://arxiv.org/abs/2106.09462)."
   ]
  },
  {
   "cell_type": "code",
   "execution_count": 2,
   "id": "320a005e-3ced-43c2-ba44-08148708af8b",
   "metadata": {
    "tags": []
   },
   "outputs": [
    {
     "name": "stdout",
     "output_type": "stream",
     "text": [
      "['Unnamed: 0', 'OBJECTID', 'codigo_inmueble1', 'Title', 'Type_build', 'Type_opera', 'Link', 'Location', 'Lat_X', 'Lon_Y', 'Climatic_Z', 'Nom_Mun', 'precio_eur', 'superficie', 'superficie2', 'Unit_price', 'Ln_total_pr', 'Ln_unit_pr', 'numero_habitaciones', 'numero_bano', 'ratio_bano_hab', 'numero_aseo', 'ascensor', 'interac_planta', 'numero_de_piso', 'anyo_constr_ponderad', 'antig_ponderad', 'Inverse_Age', 'Year_Before_1981', 'Year_1982_2006', 'Year_After_2007', 'superficie_terraza_m2', 'grand_terr_20m2', 'superficie_jardin_m2', 'superficie_salon', 'bool_despacho', 'bool_buhardilla', 'bool_trastero', 'bool_lavadero', 'bool_piscina_comunitaria', 'bool_jardin_comunitario', 'bool_amueblado', 'bool_ascensor', 'descripcion', 'bool_aire_acondicionado', 'bool_calefaccion', 'bool_chimenea', 'texto_destacado', 'Description', 'calificacion_consumo_letra', 'calificacion_consumo_valor', 'calificacion_emision_letra', 'calificacion_emision_valor', 'Dum_EPC', 'EPC_A_emision', 'EPC_B_emision', 'EPC_C_emision', 'EPC_D_emision', 'EPC_E_emision', 'EPC_F_emision', 'EPC_G_emision', 'COD_MUN', 'temp_enero', 'temp_julio', 'radiacion_enero', 'radiacion_julio', 'POB_91', 'POB_01', 'POB_06', 'POR_01', 'LTL1991_M', 'LTL_2001', 'DLTL_MUN', 'RW', 'FLE', 'FLS', 'SUP_URB_90', 'SUP_URB_00', 'Job_ratio_01', 'Autocontencion_01', 'Nodalidad_01', 'Dist_CBD2', 'Dist_sub_center', 'Elevation_Mean', 'dum_acces_viappal', 'IND_pr', 'FIRE_pr', 'Div_LandUse', 'COD_SEC', 'pr_directivo', 'pr_tecnico_prof', 'pr_tecnico_apoyo', 'pr_empl_admin', 'pr_restaur_comer', 'pr_agri_calificado', 'pr_artesano', 'pr_operador', 'pr_no_calif', 'desplaz_ponderado', 'plant_ras_pond', 'edif_ruin_pr', 'edif_malo_pr', 'edif_deficient_pr', 'edif_bueno_pr', 'Doorman_pr', 'opin_ruido_si_pr', 'opin_contam_si_pr', 'opin_calle_sucia_pr', 'opin_mala_comunic_pr', 'opin_pocazonaverde_pr', 'opin_delincuencia_pr', 'opin_falta_aseo_pr', 'local_salud_pr', 'local_edu_pr', 'local_social_pr', 'local_cult_pr', 'local_comerc_pr', 'local_oficinas_pr', 'local_industr_pr', 'local_agrar_pr', 'POB_TOTAL', 'POB_RESID', 'LOC_TOTAL', 'POR_TOTAL', 'LOC_VIV_TOTAL', 'dens_loc_100hab', 'dens_loc_sup', 'dens_pob_sup', 'estud_sin_pr', 'estud_primer_pr', 'estud_segund_pr', 'estud_tercer_pr', 'VIV_ppales_TOTAL', 'Sup_viv_sec', 'viv_ppales_pr', 'viv_no_ppales_pr', 'viv_secundarias_pr', 'viv_vacias_pr', 'viv_unifam_pr', 'viv_aptos_pr', 'resi_euro_pr', 'resi_africa_pr', 'resi_america_pr', 'resi_asia_pr', 'resi_oceania_pr', 'H_ocup_POR', 'H_loc_INE', 'H_tamaviv', 'H_ocup_POR_Xpor', 'H_loc_INE_XLOCS', 'H_tamaviv_Xvivs', 'CT_renta_alta_CPA', 'CT_renta_meda_CPA', 'CT_renta_medb_CPA', 'Income_Household_2016', 'DP2e', 'Dens_Time_total', 'Dens_Time_total_work', 'Dens_Time_total_Nwork', 'Dens_pers_act_total', 'Dens_pers_act_working', 'Dens_pers_act_Nworking', 'Div_total_work', 'Div_act_work', 'Div_socio_work', 'Div_total_Nwork', 'Div_act_Nwork', 'Div_socio_Nwork', 'calidad_cocina', 'diseny_cocina', 'alta_calidad', 'reform_inmob', 'dum_mar_200m', 'dum_ttpp_riel_urb', 'dist_near_riel_km', 'dist_near_viappal_km', 'C_contempo', 'C_estado', 'C_armarios', 'B_contempo', 'B_estado', 'B_lavamano', 'R_contempo', 'R_estado', 'R_carpinte', 'R_singular', 'R_ventana', 'Dum_precio', 'Precio_red', 'scrap_year', 'persona', 'Y_2023', 'Filtro', 'filter_$', 'EPC_AB', 'EPC_ABC', 'EPC_ORD', 'Contempo_all', 'Closets_all', 'Contempo_seg', 'Conservation_seg', 'MAH_1', 'MAH_2', 'Estado_contemporaneidad_calidad', 'Ausencia_singulares_presencia_arm_cocina', 'FAC3_1', 'FAC4_1', 'FAC5_1', 'FAC6_1', 'FAC7_1', 'QCL_1', 'EPC_A_emission_2023', 'EPC_B_emission_2023', 'EPC_C_emission_2023', 'EPC_D_emission_2023', 'EPC_E_emission_2023', 'EPC_F_emission_2023', 'EPC_G_emission_2023', 'EPC_AB_2023', 'EPC_ABC_2023', 'Cluster_1', 'Cluster_2', 'Cluster_3', 'EPC_ABC_2023_CL1', 'EPC_ABC_2023_CL2', 'EPC_ABC_2023_CL3', 'EPC_ABC_CL3', 'EPC_ABC_CL2', 'EPC_ABC_CL1', 'IMR', 'Dist_CBD2_2023', 'Dist_sub_center_2023', 'DP2e_2023', 'Dummie_Terraza', 'Dummie_Terraza_2023', 'Inv_sup_terraza', 'Inv_sup_terraza_2023', 'Bool_piscina_comunitaria_2023', 'Contempo_PC_seg_2023', 'Conservation_PC_seg_2023', 'viv_aptos_pr_2023', 'Div_landUse_2023', 'Inverse_Age_2023', 'desplaz_ponderado_2023', 'Ratio_bano_hab_2023', 'Superficie_2023', 'bool_calefacción_2023', 'bool_aire_acondicionado_2023', 'interac_planta_2023', 'bool_trastero_2023', 'ascensor_2023', 'Precio_red_2023', 'grand_terr_20m2_2023', 'dum_mar200m_2023', 'Income_household_2016_2023', 'CT_renta_alta_2023', 'CT_renta_meda_2023', 'Inv_dist_sub_center', 'Inv_dist_sub_center_2023', 'emp_2020', 'emp_2022', 'Tevolu_20_23', 'Tevolu_2023', 'dum_cercanies', 'dum_cercanies_2023', 'cercanies_CBD_2023', 'AUTOP_NEAR', 'PEAJE_2020', 'PEAJE_2023', 'peaje_cambio', 'dummy_sub_center', 'pobxdum_sub_center', 'pobxdist_sub_center', 'near_sub_centerp', 'Inv_near_sub_centerp', 'NEARsub_km', 'Inv_NEARsub_km', 'dum_sub_center', 'dum_sub_center_MOD', 'poblaxdum_sub_center', 'poblaxdum_sub_center_2023', 'poblaxnear_sub_center']\n"
     ]
    }
   ],
   "source": [
    "base=pd.read_csv('rawdata/clases/habitaclia5467_ejercicio3-1y2.csv')"
   ]
  },
  {
   "cell_type": "markdown",
   "id": "4979da7e-fe4f-4c61-b6f7-27a8ba815b84",
   "metadata": {},
   "source": [
    "## 2. Análisis de sentimiento"
   ]
  },
  {
   "cell_type": "markdown",
   "id": "c1ac5baa-e91a-4309-9b2a-09764a1e7669",
   "metadata": {},
   "source": [
    "La columna `cl_descrip` es aquella que tiene las descripciones sobre las que queremos realizar el análisis de sentimiento."
   ]
  },
  {
   "cell_type": "code",
   "execution_count": 36,
   "id": "70135bf4-3512-4bfb-bc18-f59fa2d8838c",
   "metadata": {
    "tags": []
   },
   "outputs": [],
   "source": [
    "# Crear el analizador de sentimientos\n",
    "analyzer = create_analyzer(task=\"sentiment\", lang=\"es\")\n",
    "\n",
    "# Aplicar el análisis de sentimientos a todas las filas de la columna 'Description'\n",
    "sentiments = base['cl_descrip'].apply(analyzer.predict)\n",
    "\n",
    "# Extraer los valores de probabilidad para cada categoría y crear las nuevas columnas\n",
    "base['POS'] = [result.probas.get('POS', 0) for result in sentiments]\n",
    "base['NEU'] = [result.probas.get('NEU', 0) for result in sentiments]\n",
    "base['NEG'] = [result.probas.get('NEG', 0) for result in sentiments]"
   ]
  },
  {
   "cell_type": "code",
   "execution_count": 37,
   "id": "288ab64c-f6db-4d4e-aa71-80965362ae6d",
   "metadata": {
    "tags": []
   },
   "outputs": [
    {
     "data": {
      "text/html": [
       "<div>\n",
       "<style scoped>\n",
       "    .dataframe tbody tr th:only-of-type {\n",
       "        vertical-align: middle;\n",
       "    }\n",
       "\n",
       "    .dataframe tbody tr th {\n",
       "        vertical-align: top;\n",
       "    }\n",
       "\n",
       "    .dataframe thead th {\n",
       "        text-align: right;\n",
       "    }\n",
       "</style>\n",
       "<table border=\"1\" class=\"dataframe\">\n",
       "  <thead>\n",
       "    <tr style=\"text-align: right;\">\n",
       "      <th></th>\n",
       "      <th>cl_descrip</th>\n",
       "      <th>POS</th>\n",
       "      <th>NEU</th>\n",
       "      <th>NEG</th>\n",
       "    </tr>\n",
       "  </thead>\n",
       "  <tbody>\n",
       "    <tr>\n",
       "      <th>0</th>\n",
       "      <td>Piso reformado de 4 habitaciones, salón comedo...</td>\n",
       "      <td>0.634861</td>\n",
       "      <td>0.352537</td>\n",
       "      <td>0.012602</td>\n",
       "    </tr>\n",
       "    <tr>\n",
       "      <th>1</th>\n",
       "      <td>BENET MATEU, PISO DE ORIGEN CON MUY BUENA DIST...</td>\n",
       "      <td>0.736040</td>\n",
       "      <td>0.250749</td>\n",
       "      <td>0.013210</td>\n",
       "    </tr>\n",
       "    <tr>\n",
       "      <th>2</th>\n",
       "      <td>Apartamento pero con acceso independiente desd...</td>\n",
       "      <td>0.788073</td>\n",
       "      <td>0.200277</td>\n",
       "      <td>0.011651</td>\n",
       "    </tr>\n",
       "    <tr>\n",
       "      <th>3</th>\n",
       "      <td>PISAZO, EL MEJOR DE LA ZONA.FENOMENAL PISO SIN...</td>\n",
       "      <td>0.965982</td>\n",
       "      <td>0.029098</td>\n",
       "      <td>0.004920</td>\n",
       "    </tr>\n",
       "    <tr>\n",
       "      <th>4</th>\n",
       "      <td>VIVIENDA EN LA CALLE GARROFER DE SANT IDELFONS...</td>\n",
       "      <td>0.405443</td>\n",
       "      <td>0.552446</td>\n",
       "      <td>0.042112</td>\n",
       "    </tr>\n",
       "  </tbody>\n",
       "</table>\n",
       "</div>"
      ],
      "text/plain": [
       "                                          cl_descrip       POS       NEU  \\\n",
       "0  Piso reformado de 4 habitaciones, salón comedo...  0.634861  0.352537   \n",
       "1  BENET MATEU, PISO DE ORIGEN CON MUY BUENA DIST...  0.736040  0.250749   \n",
       "2  Apartamento pero con acceso independiente desd...  0.788073  0.200277   \n",
       "3  PISAZO, EL MEJOR DE LA ZONA.FENOMENAL PISO SIN...  0.965982  0.029098   \n",
       "4  VIVIENDA EN LA CALLE GARROFER DE SANT IDELFONS...  0.405443  0.552446   \n",
       "\n",
       "        NEG  \n",
       "0  0.012602  \n",
       "1  0.013210  \n",
       "2  0.011651  \n",
       "3  0.004920  \n",
       "4  0.042112  "
      ]
     },
     "execution_count": 37,
     "metadata": {},
     "output_type": "execute_result"
    }
   ],
   "source": [
    "base[['cl_descrip','POS','NEU','NEG']].head()"
   ]
  },
  {
   "cell_type": "markdown",
   "id": "3aeb56d7-6e49-4023-82a7-31294eed45fb",
   "metadata": {},
   "source": [
    "En este momento, recomiendo abrir el documento en Excel y ver qué tal ha quedado y si hay algo que se nos esté pasando."
   ]
  },
  {
   "cell_type": "code",
   "execution_count": null,
   "id": "df8d5940-fc26-407d-9e52-46d8137cf96d",
   "metadata": {},
   "outputs": [],
   "source": [
    "#base[['cl_descrip','POS','NEU','NEG']].to_excel('rawdata/clases/sentimiento_borrar_luego.xlsx')"
   ]
  },
  {
   "cell_type": "markdown",
   "id": "a884824f-782f-433d-8327-e6af2d5b77f4",
   "metadata": {},
   "source": [
    "Lo que me encuentro es que hay celdas con descripción vacía (`cantidad_palabras`, una columna que habíamos creado en el cuaderno anterior, tiene valores 0), pero en donde se han ponderado los sentimientos. Creo que es algo que deberíamos mejorar. \n",
    "\n",
    "Me parece que aquellas que no tienen descripción es porque deberían tener un sentimiento negativo asociado, pero no deberían tener nada de positivo ni de neutral. Si fuese así, ¿qué valor `NEG` le deberíamos poner? Podría ser el valor promedio, siempre que la distribución de la variable sea normal. Empecemos revisando eso."
   ]
  },
  {
   "cell_type": "code",
   "execution_count": 50,
   "id": "faa1589a-6a0a-4c3e-bb2f-9742443d0fc4",
   "metadata": {
    "tags": []
   },
   "outputs": [
    {
     "data": {
      "image/png": "[encoded data removed]",
      "text/plain": [
       "<Figure size 640x480 with 1 Axes>"
      ]
     },
     "metadata": {},
     "output_type": "display_data"
    }
   ],
   "source": [
    "# Filtra el DataFrame para incluir solo las filas donde 'cantidad_palabras' es mayor o igual que 1\n",
    "filtered_df = base[base['cantidad_palabras'] >= 1]\n",
    "\n",
    "# Crea el histograma de la columna 'NEG' en el DataFrame filtrado\n",
    "plt.hist(filtered_df['NEG'], bins=20, color='blue', alpha=0.7)\n",
    "plt.xlabel('NEG')\n",
    "plt.ylabel('Frecuencia')\n",
    "plt.title('Histograma de NEG con cantidad_palabras >= 1')\n",
    "plt.show()"
   ]
  },
  {
   "cell_type": "markdown",
   "id": "1b9bc479-76a0-4d23-976d-c332e8c7cec5",
   "metadata": {},
   "source": [
    "Como no es una distribución normal, usar el promedio no capturaría la distribución de los datos. En esos casos, es preferible **usar la mediana**: el valor que está justo en el centro de los datos.\n",
    "\n",
    "Ahora sí arreglemos los valores de esas filas."
   ]
  },
  {
   "cell_type": "code",
   "execution_count": 52,
   "id": "b4e816a2-05d4-4022-be86-d508a221c218",
   "metadata": {
    "tags": []
   },
   "outputs": [],
   "source": [
    "#Obtengo la mediana\n",
    "median_neg = filtered_df['NEG'].median() #noten que lo hago sobre 'filtered_df'\n",
    "\n",
    "# Función para actualizar 'POS', 'NEU' y 'NEG' cuando la cantidad de palabras es igual a 0\n",
    "def update_sentiment_values(row):\n",
    "    if row['cantidad_palabras'] == 0:\n",
    "        row['POS'] = 0\n",
    "        row['NEU'] = 0\n",
    "        row['NEG'] = median_neg\n",
    "    return row\n",
    "\n",
    "# Aplica la función a cada fila del DataFrame\n",
    "base = base.apply(update_sentiment_values, axis=1)\n",
    "\n",
    "# Si quieren, pueden exportar para explorar los resultados \n",
    "#base[['cl_descrip','POS','NEU','NEG']].to_excel('rawdata/sentimiento_borrar_luego.xlsx')"
   ]
  },
  {
   "cell_type": "markdown",
   "id": "5d4c6d34-e6d0-44e7-b128-232aa6da66be",
   "metadata": {},
   "source": [
    "## 5. Análisis de Componentes Principales"
   ]
  },
  {
   "cell_type": "markdown",
   "id": "ac0f0368-5cc8-447d-9b68-77cd9552b2a4",
   "metadata": {},
   "source": [
    "Con el análisis hecho, notamos que tenemos tres nuevas variables. Podríamos intentar hacer un ACP para ver si es posible tener una sola variable que las sintetice."
   ]
  },
  {
   "cell_type": "code",
   "execution_count": 53,
   "id": "f030b73a-1a62-4a71-956c-96535eb14472",
   "metadata": {
    "tags": []
   },
   "outputs": [
    {
     "name": "stdout",
     "output_type": "stream",
     "text": [
      "Tabla de Varianza Total Explicada:\n",
      "          SS Loadings  Proportion Var  Cumulative Var\n",
      "Factor1  1.923330e+00    6.411101e-01         0.64111\n",
      "Factor2  1.076670e+00    3.588899e-01         1.00000\n",
      "Factor3  1.760636e-14    5.868786e-15         1.00000\n"
     ]
    }
   ],
   "source": [
    "#Le indicamos en qué columnas se va a centrar\n",
    "df = base[['POS','NEU','NEG']]\n",
    "\n",
    "#Le pedimos un ACP con rotación varimax y N factores\n",
    "fa = FactorAnalyzer(rotation='varimax', \n",
    "                    n_factors=3, ## esto lo indican ustedes, deben ir probando ## \n",
    "                    method='principal')\n",
    "fa.fit(df)\n",
    "\n",
    "# Obtener la varianza total explicada\n",
    "total_variance = fa.get_factor_variance()\n",
    "\n",
    "# Crear un DataFrame para mostrar la tabla de la varianza total explicada\n",
    "explained_variance_df = pd.DataFrame(total_variance, \n",
    "                                     columns=['Factor1', 'Factor2',\n",
    "                                              'Factor3'], #Deben aumentar o disminuir según la \n",
    "                                                          #cantidad de factores que \n",
    "                                                          #hayan indicado\n",
    "                                     index=['SS Loadings', 'Proportion Var', 'Cumulative Var'])\n",
    "\n",
    "#Esto es solo para que la tabla se vea mejor\n",
    "explained_variance_df = explained_variance_df.transpose()\n",
    "\n",
    "print(\"Tabla de Varianza Total Explicada:\")\n",
    "print(explained_variance_df)"
   ]
  },
  {
   "cell_type": "markdown",
   "id": "49ccfd3c-ae28-4194-8088-d8b0548dc052",
   "metadata": {},
   "source": [
    "Fíjense siempre en *Cumulative Var*, que es la varianza acumulada explicada. Noto que a partir del segundo factor ya explico un 100% de las tres variables. \n",
    "\n",
    "Ahora tratemos de interpretar cada factor."
   ]
  },
  {
   "cell_type": "code",
   "execution_count": 54,
   "id": "d50d8c50-a839-4e16-8fae-838c4afd379e",
   "metadata": {
    "tags": []
   },
   "outputs": [
    {
     "data": {
      "image/png": "[encoded data removed]",
      "text/plain": [
       "<Figure size 1000x200 with 1 Axes>"
      ]
     },
     "metadata": {},
     "output_type": "display_data"
    }
   ],
   "source": [
    "#Creamos una matriz de cargas rotadas\n",
    "rotated_loadings = fa.loadings_\n",
    "\n",
    "# Transponer la matriz de cargas rotadas para que las columnas coincidan con las variables\n",
    "rotated_loadings_transposed = rotated_loadings.T\n",
    "\n",
    "rotated_df = pd.DataFrame(rotated_loadings_transposed, columns=df.columns)\n",
    "\n",
    "# Definir los colores para el mapa de calor\n",
    "cmap = sns.diverging_palette(20, 220, as_cmap=True)\n",
    "\n",
    "# Crear el mapa de calor\n",
    "plt.figure(figsize=(10, 2)) #Altura y ancho, lo pueden variar\n",
    "sns.heatmap(rotated_df, cmap=cmap, annot=True, fmt=\".2f\", cbar=False, vmin=rotated_df.min().min(), vmax=rotated_df.max().max())\n",
    "plt.title('Mapa de Calor de Cargas Rotadas')\n",
    "plt.xlabel('Variables')\n",
    "plt.ylabel('Factores')\n",
    "plt.show()"
   ]
  },
  {
   "cell_type": "markdown",
   "id": "df28a158-97be-45a0-bee4-abd0de2e7bfe",
   "metadata": {},
   "source": [
    "El primer factor (`0`) es totalmente neutral y para nada positivo. Mientras que el segundo (`1`), es totalmente negativo."
   ]
  },
  {
   "cell_type": "code",
   "execution_count": 55,
   "id": "11d43d7b-f211-483e-8bae-5956770295fc",
   "metadata": {
    "tags": []
   },
   "outputs": [],
   "source": [
    "# Obtener los factores extraídos\n",
    "factors = fa.transform(df)\n",
    "\n",
    "# Agregar los factores al DataFrame original\n",
    "base['Sent_NEU_noPOS'] = factors[:, 0] #Este es el número que me interesa\n",
    "base['Sent_NEG'] = factors[:, 1] #Este es el número que me interesa"
   ]
  },
  {
   "cell_type": "code",
   "execution_count": 56,
   "id": "1f80673d-6292-4d90-9163-db8dcf883e9c",
   "metadata": {
    "tags": []
   },
   "outputs": [],
   "source": [
    "base.to_csv('rawdata/clases/habitaclia5467_ejercicio3-3.csv')"
   ]
  }
 ],
 "metadata": {
  "kernelspec": {
   "display_name": "Python 3 (ipykernel)",
   "language": "python",
   "name": "python3"
  },
  "language_info": {
   "codemirror_mode": {
    "name": "ipython",
    "version": 3
   },
   "file_extension": ".py",
   "mimetype": "text/x-python",
   "name": "python",
   "nbconvert_exporter": "python",
   "pygments_lexer": "ipython3",
   "version": "3.11.5"
  }
 },
 "nbformat": 4,
 "nbformat_minor": 5
}
