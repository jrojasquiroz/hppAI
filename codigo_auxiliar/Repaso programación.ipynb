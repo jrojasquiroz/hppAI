{
 "cells": [
  {
   "cell_type": "markdown",
   "id": "7739aae6-6a50-45b6-af87-78308aa05df3",
   "metadata": {},
   "source": [
    "# Ejercicios de repaso"
   ]
  },
  {
   "cell_type": "markdown",
   "id": "82ade4df-88f5-4421-8525-c03a3f1e80d5",
   "metadata": {},
   "source": [
    "Para resolver estos ejercicios pueden acudir a los cuadernos previos y adaptar el código o pedir ayuda a ChatGPT."
   ]
  },
  {
   "cell_type": "markdown",
   "id": "2b988a66-93d7-4dae-ab17-16a4eb0136d2",
   "metadata": {},
   "source": [
    "## 1. Transformar *csv* a *xlsx*"
   ]
  },
  {
   "cell_type": "markdown",
   "id": "2cf339d1-f4d7-48a5-a310-60987a7016be",
   "metadata": {},
   "source": [
    "Necesito que transformen el archivo `habitaclia4043.csv` a formato *xlsx* y lo exporten a su carpeta *rawdata* bajo el nombre `habitaclia4043.xlsx`. Usen la cantidad de celdas de código que crean necesarias.\n",
    "\n",
    "La [documentación de pandas](https://pandas.pydata.org/pandas-docs/stable/reference/api/pandas.DataFrame.to_excel.html) les puede ser útil."
   ]
  },
  {
   "cell_type": "code",
   "execution_count": null,
   "id": "901524ce-2b18-4697-8996-1690ff1b705c",
   "metadata": {},
   "outputs": [],
   "source": []
  },
  {
   "cell_type": "code",
   "execution_count": null,
   "id": "016ef6e9-c4de-4188-9fa3-fa677d07d71a",
   "metadata": {},
   "outputs": [],
   "source": []
  },
  {
   "cell_type": "markdown",
   "id": "2937d944-f492-4558-8fb2-f63695f4c7dc",
   "metadata": {},
   "source": [
    "## 2. Reconoce el error y completa la tarea"
   ]
  },
  {
   "cell_type": "markdown",
   "id": "f07c9372-d0f1-4f8a-9580-77ccbb4fd58d",
   "metadata": {},
   "source": [
    "En la siguiente celda quiero importar un archivo usando la librería `pandas` y almacenarla en un objeto llamado `df`. ¿Hay algún error?"
   ]
  },
  {
   "cell_type": "code",
   "execution_count": null,
   "id": "bdce8495-bd67-4891-9ed4-b6451bbd9407",
   "metadata": {
    "tags": []
   },
   "outputs": [],
   "source": [
    "import pandas as pd\n",
    "df=pd.read_csv('rawdata/clases/HousingPrices.csv)"
   ]
  },
  {
   "cell_type": "markdown",
   "id": "5e0a508b-0460-4781-be56-114e81c6d950",
   "metadata": {},
   "source": [
    "Si has resuelto la celda anterior, ahora me interesa elaborar un modelo de regresión lineal con los datos de `df`. Para ello, primero importo la librería `statsmodels`."
   ]
  },
  {
   "cell_type": "code",
   "execution_count": null,
   "id": "5337f9d9-169a-431f-8892-1d6d971323ad",
   "metadata": {
    "tags": []
   },
   "outputs": [],
   "source": [
    "import statsmodels.api as sm"
   ]
  },
  {
   "cell_type": "markdown",
   "id": "7e1b9385-a554-494e-9f3c-2e914cb8a413",
   "metadata": {},
   "source": [
    "¿Qué harías para revisar las columnas con las que cuenta `df`?"
   ]
  },
  {
   "cell_type": "code",
   "execution_count": null,
   "id": "e5e6a67d-7f89-4dd6-ae34-7d4f3cff3ff3",
   "metadata": {
    "tags": []
   },
   "outputs": [],
   "source": []
  },
  {
   "cell_type": "markdown",
   "id": "5e9c47e8-f513-4525-b12a-894d96dacd9f",
   "metadata": {
    "tags": []
   },
   "source": [
    "Ahora que ya conozco las columnas, quiero trabajar sólo con tres:\n",
    "\n",
    "- `SalePrice` será mi $y$.\n",
    "- `YearBuilt` y `FullBath` serán mis $X$.\n",
    "\n",
    "Antes de elaborar el modelo necesito añadir una constante usando el paquete `statsmodels`. Vean el código que viene a continuación, ¿creen que haya un error?"
   ]
  },
  {
   "cell_type": "code",
   "execution_count": null,
   "id": "7a64dbc3-377f-460b-8bb1-c5269b176489",
   "metadata": {
    "tags": []
   },
   "outputs": [],
   "source": [
    "X=df.[['YearBuilt','FullBath']]\n",
    "y=df[['SalePrice']]\n",
    "X=pd.add_constant(X)\n",
    "X.head()"
   ]
  },
  {
   "cell_type": "markdown",
   "id": "c0d884ea-3591-4714-ac5f-286cb7f46f41",
   "metadata": {},
   "source": [
    "# 3. Revisión de filas en blanco"
   ]
  },
  {
   "cell_type": "markdown",
   "id": "84f2868f-749d-4bd7-960a-4a5101b4bb1d",
   "metadata": {
    "tags": []
   },
   "source": [
    "¿Cómo saber si `X` tiene filas en blanco? Ojo: de momento no quiero saber qué fila exactamente ni en qué columna, sólo saber si hay o no filas en blanco.\n",
    "\n",
    "Para esto pueden acudir al cuaderno `2-OLS.ipynb`, el código se encuentra ahí. Adáptenlo a este dataframe."
   ]
  },
  {
   "cell_type": "code",
   "execution_count": null,
   "id": "dc6f0bf9-641f-415a-bd13-64403f810027",
   "metadata": {
    "tags": []
   },
   "outputs": [],
   "source": []
  },
  {
   "cell_type": "markdown",
   "id": "33a56bad-e9e8-42b0-98d6-92267c33c33c",
   "metadata": {},
   "source": [
    "# 4. Elaboración del modelo de regresión"
   ]
  },
  {
   "cell_type": "markdown",
   "id": "5daf44c1-184c-4963-b896-30b680c50d7c",
   "metadata": {
    "tags": []
   },
   "source": [
    "Revisen el código y encuentren el error."
   ]
  },
  {
   "cell_type": "code",
   "execution_count": null,
   "id": "7854f843-5005-43c4-9d8f-c287dee839bc",
   "metadata": {
    "tags": []
   },
   "outputs": [],
   "source": [
    "# Crear el modelo de regresión lineal\n",
    "ols = sm.OLS(y, X) \n",
    "\n",
    "# Ajustar el modelo a los datos\n",
    "results = ols.fit()\n",
    "\n",
    "# Imprimir el resumen del modelo\n",
    "print(resultados.summary())"
   ]
  }
 ],
 "metadata": {
  "kernelspec": {
   "display_name": "Python 3 (ipykernel)",
   "language": "python",
   "name": "python3"
  },
  "language_info": {
   "codemirror_mode": {
    "name": "ipython",
    "version": 3
   },
   "file_extension": ".py",
   "mimetype": "text/x-python",
   "name": "python",
   "nbconvert_exporter": "python",
   "pygments_lexer": "ipython3",
   "version": "3.11.5"
  }
 },
 "nbformat": 4,
 "nbformat_minor": 5
}
