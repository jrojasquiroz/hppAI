{
 "cells": [
  {
   "cell_type": "markdown",
   "id": "1a7e905c-24ce-4706-a33d-e8064e087da1",
   "metadata": {
    "tags": []
   },
   "source": [
    "# 1. Limpieza de datos - Ejercicio 1"
   ]
  },
  {
   "cell_type": "markdown",
   "id": "8c5c3c2b-d3a3-486b-a460-cd9cfc60e0c9",
   "metadata": {
    "tags": []
   },
   "source": [
    "Para el primer ejercicio del seminario, usaremos los datos que Carlos ya tiene de un modelo previamente elaborado para un paper. Me restrinjo sólo a aquellos que fueron usados en el modelo para poder comparar lo que encuentran los estudiantes vs. lo que encontró Carlos."
   ]
  },
  {
   "cell_type": "code",
   "execution_count": 1,
   "id": "8ca03570-0d1f-4c40-9880-578904ba2076",
   "metadata": {
    "tags": []
   },
   "outputs": [
    {
     "name": "stdout",
     "output_type": "stream",
     "text": [
      "<class 'pandas.core.frame.DataFrame'>\n",
      "RangeIndex: 4043 entries, 0 to 4042\n",
      "Columns: 203 entries, OBJECTID_1 to EPC_G_emision_2023\n",
      "dtypes: category(1), float64(189), object(13)\n",
      "memory usage: 6.2+ MB\n"
     ]
    }
   ],
   "source": [
    "import pandas as pd #permite manipular los dataframes, que serían el equivalente a los Excel\n",
    "import numpy as np #en caso se necesiten cálculos numéricos, como p. ej. encontrar valores nulos \n",
    "import pyreadstat #para cargar datos que vienen de SPSS\n",
    "import statsmodels.api as sm #para elaborar modelos OLS\n",
    "\n",
    "base=pd.read_spss('rawdata/BDDHabitaclia_4043_join.sav')\n",
    "base.info()"
   ]
  },
  {
   "cell_type": "code",
   "execution_count": 5,
   "id": "2e2eaab6-1ded-409c-87c5-06ab71791a0b",
   "metadata": {
    "tags": []
   },
   "outputs": [
    {
     "data": {
      "text/html": [
       "<div>\n",
       "<style scoped>\n",
       "    .dataframe tbody tr th:only-of-type {\n",
       "        vertical-align: middle;\n",
       "    }\n",
       "\n",
       "    .dataframe tbody tr th {\n",
       "        vertical-align: top;\n",
       "    }\n",
       "\n",
       "    .dataframe thead th {\n",
       "        text-align: right;\n",
       "    }\n",
       "</style>\n",
       "<table border=\"1\" class=\"dataframe\">\n",
       "  <thead>\n",
       "    <tr style=\"text-align: right;\">\n",
       "      <th></th>\n",
       "      <th>DP2e</th>\n",
       "      <th>Dist_CBD2</th>\n",
       "      <th>EPC_A_emision</th>\n",
       "      <th>EPC_B_emision</th>\n",
       "      <th>EPC_C_emision</th>\n",
       "      <th>EPC_D_emision</th>\n",
       "      <th>EPC_E_emision</th>\n",
       "      <th>EPC_F_emision</th>\n",
       "      <th>EPC_G_emision</th>\n",
       "      <th>FAC1_1</th>\n",
       "      <th>...</th>\n",
       "      <th>bool_aire_acondicionado</th>\n",
       "      <th>bool_ascensor</th>\n",
       "      <th>bool_calefaccion</th>\n",
       "      <th>bool_piscina_comunitaria</th>\n",
       "      <th>desplaz_ponderado</th>\n",
       "      <th>dum_mar_200m</th>\n",
       "      <th>grand_terr_20m2</th>\n",
       "      <th>opin_ruido_si_pr</th>\n",
       "      <th>ratio_bano_hab</th>\n",
       "      <th>superficie</th>\n",
       "    </tr>\n",
       "  </thead>\n",
       "  <tbody>\n",
       "    <tr>\n",
       "      <th>0</th>\n",
       "      <td>14.304224</td>\n",
       "      <td>3.143035</td>\n",
       "      <td>0.0</td>\n",
       "      <td>0.0</td>\n",
       "      <td>0.0</td>\n",
       "      <td>0.0</td>\n",
       "      <td>1.0</td>\n",
       "      <td>0.0</td>\n",
       "      <td>0.0</td>\n",
       "      <td>0.191077</td>\n",
       "      <td>...</td>\n",
       "      <td>1.0</td>\n",
       "      <td>1.0</td>\n",
       "      <td>1.0</td>\n",
       "      <td>0.0</td>\n",
       "      <td>27.187629</td>\n",
       "      <td>0.0</td>\n",
       "      <td>1.0</td>\n",
       "      <td>43.530314</td>\n",
       "      <td>1.000000</td>\n",
       "      <td>86.0</td>\n",
       "    </tr>\n",
       "    <tr>\n",
       "      <th>1</th>\n",
       "      <td>9.873995</td>\n",
       "      <td>3.868774</td>\n",
       "      <td>0.0</td>\n",
       "      <td>1.0</td>\n",
       "      <td>0.0</td>\n",
       "      <td>0.0</td>\n",
       "      <td>0.0</td>\n",
       "      <td>0.0</td>\n",
       "      <td>0.0</td>\n",
       "      <td>0.584078</td>\n",
       "      <td>...</td>\n",
       "      <td>0.0</td>\n",
       "      <td>1.0</td>\n",
       "      <td>1.0</td>\n",
       "      <td>0.0</td>\n",
       "      <td>26.831497</td>\n",
       "      <td>0.0</td>\n",
       "      <td>0.0</td>\n",
       "      <td>41.376779</td>\n",
       "      <td>0.666667</td>\n",
       "      <td>97.0</td>\n",
       "    </tr>\n",
       "    <tr>\n",
       "      <th>2</th>\n",
       "      <td>11.400419</td>\n",
       "      <td>4.517012</td>\n",
       "      <td>0.0</td>\n",
       "      <td>0.0</td>\n",
       "      <td>0.0</td>\n",
       "      <td>1.0</td>\n",
       "      <td>0.0</td>\n",
       "      <td>0.0</td>\n",
       "      <td>0.0</td>\n",
       "      <td>-0.151147</td>\n",
       "      <td>...</td>\n",
       "      <td>1.0</td>\n",
       "      <td>0.0</td>\n",
       "      <td>0.0</td>\n",
       "      <td>0.0</td>\n",
       "      <td>27.542064</td>\n",
       "      <td>0.0</td>\n",
       "      <td>0.0</td>\n",
       "      <td>36.155690</td>\n",
       "      <td>0.666667</td>\n",
       "      <td>77.0</td>\n",
       "    </tr>\n",
       "    <tr>\n",
       "      <th>3</th>\n",
       "      <td>11.540736</td>\n",
       "      <td>3.539149</td>\n",
       "      <td>0.0</td>\n",
       "      <td>0.0</td>\n",
       "      <td>0.0</td>\n",
       "      <td>0.0</td>\n",
       "      <td>1.0</td>\n",
       "      <td>0.0</td>\n",
       "      <td>0.0</td>\n",
       "      <td>-0.185340</td>\n",
       "      <td>...</td>\n",
       "      <td>1.0</td>\n",
       "      <td>1.0</td>\n",
       "      <td>0.0</td>\n",
       "      <td>0.0</td>\n",
       "      <td>27.909746</td>\n",
       "      <td>0.0</td>\n",
       "      <td>0.0</td>\n",
       "      <td>36.451325</td>\n",
       "      <td>0.500000</td>\n",
       "      <td>95.0</td>\n",
       "    </tr>\n",
       "    <tr>\n",
       "      <th>4</th>\n",
       "      <td>11.120200</td>\n",
       "      <td>5.277817</td>\n",
       "      <td>0.0</td>\n",
       "      <td>1.0</td>\n",
       "      <td>0.0</td>\n",
       "      <td>0.0</td>\n",
       "      <td>0.0</td>\n",
       "      <td>0.0</td>\n",
       "      <td>0.0</td>\n",
       "      <td>1.479141</td>\n",
       "      <td>...</td>\n",
       "      <td>1.0</td>\n",
       "      <td>1.0</td>\n",
       "      <td>1.0</td>\n",
       "      <td>0.0</td>\n",
       "      <td>24.657258</td>\n",
       "      <td>0.0</td>\n",
       "      <td>0.0</td>\n",
       "      <td>41.172813</td>\n",
       "      <td>0.750000</td>\n",
       "      <td>163.0</td>\n",
       "    </tr>\n",
       "  </tbody>\n",
       "</table>\n",
       "<p>5 rows × 28 columns</p>\n",
       "</div>"
      ],
      "text/plain": [
       "        DP2e  Dist_CBD2  EPC_A_emision  EPC_B_emision  EPC_C_emision  \\\n",
       "0  14.304224   3.143035            0.0            0.0            0.0   \n",
       "1   9.873995   3.868774            0.0            1.0            0.0   \n",
       "2  11.400419   4.517012            0.0            0.0            0.0   \n",
       "3  11.540736   3.539149            0.0            0.0            0.0   \n",
       "4  11.120200   5.277817            0.0            1.0            0.0   \n",
       "\n",
       "   EPC_D_emision  EPC_E_emision  EPC_F_emision  EPC_G_emision    FAC1_1  ...  \\\n",
       "0            0.0            1.0            0.0            0.0  0.191077  ...   \n",
       "1            0.0            0.0            0.0            0.0  0.584078  ...   \n",
       "2            1.0            0.0            0.0            0.0 -0.151147  ...   \n",
       "3            0.0            1.0            0.0            0.0 -0.185340  ...   \n",
       "4            0.0            0.0            0.0            0.0  1.479141  ...   \n",
       "\n",
       "   bool_aire_acondicionado  bool_ascensor  bool_calefaccion  \\\n",
       "0                      1.0            1.0               1.0   \n",
       "1                      0.0            1.0               1.0   \n",
       "2                      1.0            0.0               0.0   \n",
       "3                      1.0            1.0               0.0   \n",
       "4                      1.0            1.0               1.0   \n",
       "\n",
       "   bool_piscina_comunitaria  desplaz_ponderado  dum_mar_200m  grand_terr_20m2  \\\n",
       "0                       0.0          27.187629           0.0              1.0   \n",
       "1                       0.0          26.831497           0.0              0.0   \n",
       "2                       0.0          27.542064           0.0              0.0   \n",
       "3                       0.0          27.909746           0.0              0.0   \n",
       "4                       0.0          24.657258           0.0              0.0   \n",
       "\n",
       "   opin_ruido_si_pr  ratio_bano_hab  superficie  \n",
       "0         43.530314        1.000000        86.0  \n",
       "1         41.376779        0.666667        97.0  \n",
       "2         36.155690        0.666667        77.0  \n",
       "3         36.451325        0.500000        95.0  \n",
       "4         41.172813        0.750000       163.0  \n",
       "\n",
       "[5 rows x 28 columns]"
      ]
     },
     "execution_count": 5,
     "metadata": {},
     "output_type": "execute_result"
    }
   ],
   "source": [
    "# Seleccionar las columnas especificadas\n",
    "selected_columns = ['Ln_total_pr', 'EPC_C_emision', 'EPC_F_emision', 'EPC_B_emision', \n",
    "                    'EPC_A_emision', 'EPC_D_emision',\n",
    "                    'EPC_G_emision', 'EPC_E_emision', 'superficie', \n",
    "                    'bool_ascensor', 'bool_piscina_comunitaria', 'bool_calefaccion', \n",
    "                    'desplaz_ponderado', 'Income_Household_2016', 'FIRE_pr', \n",
    "                    'FAC1_1', 'FAC2_1', \n",
    "                    'grand_terr_20m2', 'Year_After_2007', 'DP2e', \n",
    "                    'dum_mar_200m', \n",
    "                    'bool_aire_acondicionado', 'Precio_red', 'ratio_bano_hab', \n",
    "                    'Year_1982_2006', 'opin_ruido_si_pr', \n",
    "                    'Dist_CBD2', 'H_tamaviv']\n",
    "\n",
    "bdd = base[selected_columns].sort_index(axis=1)\n",
    "\n",
    "# Muestra el DataFrame resultante\n",
    "bdd.head()"
   ]
  },
  {
   "cell_type": "markdown",
   "id": "eb61c435-edd3-4327-b002-1a7616538874",
   "metadata": {},
   "source": [
    "No elijo todas porque algunas variables no están en el diccionario."
   ]
  },
  {
   "cell_type": "code",
   "execution_count": 6,
   "id": "44d839de-b6a2-4c38-bc43-b00cc82322a5",
   "metadata": {
    "tags": []
   },
   "outputs": [],
   "source": [
    "bdd.rename(columns={'FAC1_1': 'Estado_contemporaneidad_calidad'}, inplace=True)"
   ]
  },
  {
   "cell_type": "code",
   "execution_count": 7,
   "id": "2abb30e7-70b4-4814-a66b-b4ce9fba7713",
   "metadata": {
    "tags": []
   },
   "outputs": [],
   "source": [
    "bdd.rename(columns={'FAC2_1': 'Ausencia_singulares_presencia_arm_cocina'}, inplace=True)"
   ]
  },
  {
   "cell_type": "code",
   "execution_count": 8,
   "id": "c16333cf-a8ea-4f97-86ff-7d17c252b358",
   "metadata": {
    "tags": []
   },
   "outputs": [
    {
     "name": "stdout",
     "output_type": "stream",
     "text": [
      "<class 'pandas.core.frame.DataFrame'>\n",
      "RangeIndex: 4043 entries, 0 to 4042\n",
      "Data columns (total 28 columns):\n",
      " #   Column                                    Non-Null Count  Dtype  \n",
      "---  ------                                    --------------  -----  \n",
      " 0   DP2e                                      4043 non-null   float64\n",
      " 1   Dist_CBD2                                 4043 non-null   float64\n",
      " 2   EPC_A_emision                             4043 non-null   float64\n",
      " 3   EPC_B_emision                             4043 non-null   float64\n",
      " 4   EPC_C_emision                             4043 non-null   float64\n",
      " 5   EPC_D_emision                             4043 non-null   float64\n",
      " 6   EPC_E_emision                             4043 non-null   float64\n",
      " 7   EPC_F_emision                             4043 non-null   float64\n",
      " 8   EPC_G_emision                             4043 non-null   float64\n",
      " 9   Estado_contemporaneidad_calidad           3859 non-null   float64\n",
      " 10  Ausencia_singulares_presencia_arm_cocina  3859 non-null   float64\n",
      " 11  FIRE_pr                                   4043 non-null   float64\n",
      " 12  H_tamaviv                                 4043 non-null   float64\n",
      " 13  Income_Household_2016                     4043 non-null   float64\n",
      " 14  Ln_total_pr                               4043 non-null   float64\n",
      " 15  Precio_red                                4043 non-null   float64\n",
      " 16  Year_1982_2006                            4043 non-null   float64\n",
      " 17  Year_After_2007                           4043 non-null   float64\n",
      " 18  bool_aire_acondicionado                   4043 non-null   float64\n",
      " 19  bool_ascensor                             4043 non-null   float64\n",
      " 20  bool_calefaccion                          4043 non-null   float64\n",
      " 21  bool_piscina_comunitaria                  4043 non-null   float64\n",
      " 22  desplaz_ponderado                         4043 non-null   float64\n",
      " 23  dum_mar_200m                              4043 non-null   float64\n",
      " 24  grand_terr_20m2                           4043 non-null   float64\n",
      " 25  opin_ruido_si_pr                          4043 non-null   float64\n",
      " 26  ratio_bano_hab                            4034 non-null   float64\n",
      " 27  superficie                                4043 non-null   float64\n",
      "dtypes: float64(28)\n",
      "memory usage: 884.5 KB\n"
     ]
    }
   ],
   "source": [
    "bdd.info()"
   ]
  },
  {
   "cell_type": "code",
   "execution_count": 9,
   "id": "de6444fb-7084-4e68-8440-63a65be2bdbe",
   "metadata": {
    "tags": []
   },
   "outputs": [],
   "source": [
    "bdd.to_csv('rawdata/Habitaclia4043_ejercicio1.csv')"
   ]
  }
 ],
 "metadata": {
  "kernelspec": {
   "display_name": "Python 3 (ipykernel)",
   "language": "python",
   "name": "python3"
  },
  "language_info": {
   "codemirror_mode": {
    "name": "ipython",
    "version": 3
   },
   "file_extension": ".py",
   "mimetype": "text/x-python",
   "name": "python",
   "nbconvert_exporter": "python",
   "pygments_lexer": "ipython3",
   "version": "3.11.5"
  }
 },
 "nbformat": 4,
 "nbformat_minor": 5
}
