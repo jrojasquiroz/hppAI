{
 "cells": [
  {
   "cell_type": "markdown",
   "id": "189351d4-b2f5-49ce-809b-6b236f07b866",
   "metadata": {},
   "source": [
    "<mark>Antes de revisar este cuaderno sugiero chequear `GuardarANN.ipynb`.</mark>"
   ]
  },
  {
   "cell_type": "markdown",
   "id": "33ecb9d5-9b98-4e7a-bc5c-b2fe8649a89f",
   "metadata": {},
   "source": [
    "# Elaboración del modelo"
   ]
  },
  {
   "cell_type": "code",
   "execution_count": 1,
   "id": "7e178790-f575-43b4-b420-3038d26a3372",
   "metadata": {},
   "outputs": [],
   "source": [
    "from sklearn.ensemble import RandomForestRegressor\n",
    "from sklearn.metrics import r2_score, mean_absolute_error, mean_squared_error\n",
    "import pandas as pd #permite manipular los dataframes, que serían el equivalente a los Excel\n",
    "import numpy as np #en caso se necesiten cálculos numéricos, como p. ej. encontrar valores nulos \n",
    "from sklearn.model_selection import train_test_split #para dividir datos en entrenamiento y testeo\n",
    "from sklearn import preprocessing #para escalar/normalizar variables numéricas\n",
    "import tensorflow as tf #Esta y las de abajo las necesitamos siempre para ANN y RF\n",
    "from keras.models import Sequential\n",
    "from keras.layers import Dense\n",
    "from tensorflow.keras.callbacks import EarlyStopping\n",
    "from sklearn.metrics import mean_absolute_error, mean_squared_error, r2_score #para calcular parámetros del modelo\n",
    "import pickle\n",
    "import numpy as np"
   ]
  },
  {
   "cell_type": "markdown",
   "id": "c3893b34-8d04-4cf4-a740-cf26c2af930c",
   "metadata": {},
   "source": [
    "Como ya había guardado los objetos que contienen mis $X$ y mi $y$, sólo los cargo."
   ]
  },
  {
   "cell_type": "code",
   "execution_count": 2,
   "id": "1c06dd62-09d8-4869-a9cd-63564b5235f0",
   "metadata": {},
   "outputs": [],
   "source": [
    "Xtrain_scale=np.load('data/Xtrain_scale.npy')\n",
    "ytrain_array=np.load('data/ytrain_array.npy')\n",
    "\n",
    "Xtest_scale=np.load('data/Xtest_scale.npy')\n",
    "ytest_array=np.load('data/ytest_array.npy')"
   ]
  },
  {
   "cell_type": "markdown",
   "id": "3830c898-5d4f-40e7-9058-450a3ad9cf02",
   "metadata": {},
   "source": [
    "Los concateno porque en un random forest, al usar muestras out-of-bag (OOB), ya no necesito muestras de entrenamiento y prueba por separado."
   ]
  },
  {
   "cell_type": "code",
   "execution_count": 3,
   "id": "b687911d-b4b2-445a-9da6-446f90c59228",
   "metadata": {},
   "outputs": [],
   "source": [
    "X_RF = np.concatenate([Xtrain_scale, Xtest_scale], axis=0)\n",
    "y_RF = np.concatenate([ytrain_array, ytest_array], axis=0)"
   ]
  },
  {
   "cell_type": "markdown",
   "id": "43ed71d2-011c-44c4-86a5-b87e5f6d613a",
   "metadata": {},
   "source": [
    "Creo el modelo."
   ]
  },
  {
   "cell_type": "code",
   "execution_count": 4,
   "id": "2fe8ae15-aa51-4dfc-9419-de3701671448",
   "metadata": {},
   "outputs": [
    {
     "data": {
      "text/html": [
       "<style>#sk-container-id-1 {color: black;background-color: white;}#sk-container-id-1 pre{padding: 0;}#sk-container-id-1 div.sk-toggleable {background-color: white;}#sk-container-id-1 label.sk-toggleable__label {cursor: pointer;display: block;width: 100%;margin-bottom: 0;padding: 0.3em;box-sizing: border-box;text-align: center;}#sk-container-id-1 label.sk-toggleable__label-arrow:before {content: \"▸\";float: left;margin-right: 0.25em;color: #696969;}#sk-container-id-1 label.sk-toggleable__label-arrow:hover:before {color: black;}#sk-container-id-1 div.sk-estimator:hover label.sk-toggleable__label-arrow:before {color: black;}#sk-container-id-1 div.sk-toggleable__content {max-height: 0;max-width: 0;overflow: hidden;text-align: left;background-color: #f0f8ff;}#sk-container-id-1 div.sk-toggleable__content pre {margin: 0.2em;color: black;border-radius: 0.25em;background-color: #f0f8ff;}#sk-container-id-1 input.sk-toggleable__control:checked~div.sk-toggleable__content {max-height: 200px;max-width: 100%;overflow: auto;}#sk-container-id-1 input.sk-toggleable__control:checked~label.sk-toggleable__label-arrow:before {content: \"▾\";}#sk-container-id-1 div.sk-estimator input.sk-toggleable__control:checked~label.sk-toggleable__label {background-color: #d4ebff;}#sk-container-id-1 div.sk-label input.sk-toggleable__control:checked~label.sk-toggleable__label {background-color: #d4ebff;}#sk-container-id-1 input.sk-hidden--visually {border: 0;clip: rect(1px 1px 1px 1px);clip: rect(1px, 1px, 1px, 1px);height: 1px;margin: -1px;overflow: hidden;padding: 0;position: absolute;width: 1px;}#sk-container-id-1 div.sk-estimator {font-family: monospace;background-color: #f0f8ff;border: 1px dotted black;border-radius: 0.25em;box-sizing: border-box;margin-bottom: 0.5em;}#sk-container-id-1 div.sk-estimator:hover {background-color: #d4ebff;}#sk-container-id-1 div.sk-parallel-item::after {content: \"\";width: 100%;border-bottom: 1px solid gray;flex-grow: 1;}#sk-container-id-1 div.sk-label:hover label.sk-toggleable__label {background-color: #d4ebff;}#sk-container-id-1 div.sk-serial::before {content: \"\";position: absolute;border-left: 1px solid gray;box-sizing: border-box;top: 0;bottom: 0;left: 50%;z-index: 0;}#sk-container-id-1 div.sk-serial {display: flex;flex-direction: column;align-items: center;background-color: white;padding-right: 0.2em;padding-left: 0.2em;position: relative;}#sk-container-id-1 div.sk-item {position: relative;z-index: 1;}#sk-container-id-1 div.sk-parallel {display: flex;align-items: stretch;justify-content: center;background-color: white;position: relative;}#sk-container-id-1 div.sk-item::before, #sk-container-id-1 div.sk-parallel-item::before {content: \"\";position: absolute;border-left: 1px solid gray;box-sizing: border-box;top: 0;bottom: 0;left: 50%;z-index: -1;}#sk-container-id-1 div.sk-parallel-item {display: flex;flex-direction: column;z-index: 1;position: relative;background-color: white;}#sk-container-id-1 div.sk-parallel-item:first-child::after {align-self: flex-end;width: 50%;}#sk-container-id-1 div.sk-parallel-item:last-child::after {align-self: flex-start;width: 50%;}#sk-container-id-1 div.sk-parallel-item:only-child::after {width: 0;}#sk-container-id-1 div.sk-dashed-wrapped {border: 1px dashed gray;margin: 0 0.4em 0.5em 0.4em;box-sizing: border-box;padding-bottom: 0.4em;background-color: white;}#sk-container-id-1 div.sk-label label {font-family: monospace;font-weight: bold;display: inline-block;line-height: 1.2em;}#sk-container-id-1 div.sk-label-container {text-align: center;}#sk-container-id-1 div.sk-container {/* jupyter's `normalize.less` sets `[hidden] { display: none; }` but bootstrap.min.css set `[hidden] { display: none !important; }` so we also need the `!important` here to be able to override the default hidden behavior on the sphinx rendered scikit-learn.org. See: https://github.com/scikit-learn/scikit-learn/issues/21755 */display: inline-block !important;position: relative;}#sk-container-id-1 div.sk-text-repr-fallback {display: none;}</style><div id=\"sk-container-id-1\" class=\"sk-top-container\"><div class=\"sk-text-repr-fallback\"><pre>RandomForestRegressor(max_features=None, n_estimators=50, oob_score=True,\n",
       "                      random_state=42)</pre><b>In a Jupyter environment, please rerun this cell to show the HTML representation or trust the notebook. <br />On GitHub, the HTML representation is unable to render, please try loading this page with nbviewer.org.</b></div><div class=\"sk-container\" hidden><div class=\"sk-item\"><div class=\"sk-estimator sk-toggleable\"><input class=\"sk-toggleable__control sk-hidden--visually\" id=\"sk-estimator-id-1\" type=\"checkbox\" checked><label for=\"sk-estimator-id-1\" class=\"sk-toggleable__label sk-toggleable__label-arrow\">RandomForestRegressor</label><div class=\"sk-toggleable__content\"><pre>RandomForestRegressor(max_features=None, n_estimators=50, oob_score=True,\n",
       "                      random_state=42)</pre></div></div></div></div></div>"
      ],
      "text/plain": [
       "RandomForestRegressor(max_features=None, n_estimators=50, oob_score=True,\n",
       "                      random_state=42)"
      ]
     },
     "execution_count": 4,
     "metadata": {},
     "output_type": "execute_result"
    }
   ],
   "source": [
    "# Crear el modelo de Random Forest\n",
    "rf_model = RandomForestRegressor(criterion=\"squared_error\",\n",
    "                                 n_estimators=50, #N de árboles. Literatura indica que esto es prueba y error \n",
    "                                 max_depth=None,#Se expandirá en función del siguiente parámetro\n",
    "                                 min_samples_split=2, \n",
    "                                 min_samples_leaf=1, \n",
    "                                 max_features=None, #Cantidad máxima de columnas\n",
    "                                 max_samples=None, #Cantidad máxima de observaciones\n",
    "                                 bootstrap=True,\n",
    "                                 oob_score=True, #Muestras OOB\n",
    "                                 random_state=42, #Semilla de aleatorización. Puede ser cualquier número\n",
    "                                 )\n",
    "# Entrenar el modelo\n",
    "rf_model.fit(X_RF, y_RF)"
   ]
  },
  {
   "cell_type": "markdown",
   "id": "e897e596-2539-4c25-a0a8-d5753b7764cb",
   "metadata": {},
   "source": [
    "Reviso las métricas."
   ]
  },
  {
   "cell_type": "code",
   "execution_count": 5,
   "id": "e31e6439-7d16-4f4a-b7a4-dddd8149b439",
   "metadata": {},
   "outputs": [
    {
     "name": "stdout",
     "output_type": "stream",
     "text": [
      "Coefficient of Determination (R2): 0.8664242929641404\n",
      "Adjusted Coefficient of Determination (R2 adj): 0.8056737595382268\n",
      "Root Mean Squared Error (RMSE): 0.2032322313948567\n"
     ]
    }
   ],
   "source": [
    "#Calculo la cantidad de datos que tienen las muestras OOB\n",
    "num_oob_samples = len(y_RF) - int(len(y_RF) * rf_model.oob_score_)\n",
    "\n",
    "# Obtener las predicciones del modelo para las muestras OOB\n",
    "oob_predictions = rf_model.oob_prediction_\n",
    "\n",
    "# Calcular el coeficiente de determinación (R2)\n",
    "r2RF = r2_score(y_RF, oob_predictions)\n",
    "\n",
    "# Calcular n y k\n",
    "n = num_oob_samples  # Número de observaciones\n",
    "k = X_RF.shape[1]  # Número de variables independientes\n",
    "\n",
    "# Calcular R^2 ajustado\n",
    "r2RF_adjusted = 1 - ((1 - r2RF) * (n - 1) / (n - k - 1))\n",
    "\n",
    "# Calcular el error cuadrático medio (RMSE)\n",
    "rmseRF = np.sqrt(mean_squared_error(y_RF, oob_predictions))\n",
    "\n",
    "# Imprimir resultados\n",
    "print(\"Coefficient of Determination (R2):\", r2RF)\n",
    "print(\"Adjusted Coefficient of Determination (R2 adj):\", r2RF_adjusted)\n",
    "print(\"Root Mean Squared Error (RMSE):\", rmseRF)"
   ]
  },
  {
   "cell_type": "markdown",
   "id": "62099052-0a9a-420d-9e96-317fb7781b91",
   "metadata": {},
   "source": [
    "Guardo en formato *.pkl*."
   ]
  },
  {
   "cell_type": "code",
   "execution_count": 6,
   "id": "9ce71782-d986-4b97-aca4-5a111af21705",
   "metadata": {},
   "outputs": [
    {
     "data": {
      "text/plain": [
       "['model/rf.pkl']"
      ]
     },
     "execution_count": 6,
     "metadata": {},
     "output_type": "execute_result"
    }
   ],
   "source": [
    "import joblib\n",
    "\n",
    "# Guardar el modelo de Random Forest\n",
    "joblib.dump(rf_model, 'model/rf.pkl')"
   ]
  },
  {
   "cell_type": "markdown",
   "id": "87cb70f8-3a6c-44c7-a164-72eb11a79845",
   "metadata": {},
   "source": [
    "# Cargo el modelo"
   ]
  },
  {
   "cell_type": "markdown",
   "id": "b2decc52-54cd-4062-891f-ef6709e2a7db",
   "metadata": {},
   "source": [
    "Nos pondremos en la misma situación que con el cuaderno anterior: he obtenido el modelo pero cerré mi sesión en Jupyter Lab y quiero revisar sus métricas de manera idéntica a lo que obtuve antes. Para ello importo el modelo en el objeto `loaded_rf_model`."
   ]
  },
  {
   "cell_type": "code",
   "execution_count": 7,
   "id": "fa280b41-a950-46ca-8281-c8fa382f1350",
   "metadata": {},
   "outputs": [],
   "source": [
    "# Cargar el modelo de Random Forest\n",
    "loaded_rf_model = joblib.load('model/rf.pkl')"
   ]
  },
  {
   "cell_type": "markdown",
   "id": "26a5d237-18a9-43fb-b0ba-de7e6238d146",
   "metadata": {},
   "source": [
    "Volveré a cargar mis arrays y concatenarlos."
   ]
  },
  {
   "cell_type": "code",
   "execution_count": 8,
   "id": "1c35345e-4625-44aa-b8ec-cff5576dc327",
   "metadata": {},
   "outputs": [],
   "source": [
    "Xtrain_scale=np.load('data/Xtrain_scale.npy')\n",
    "ytrain_array=np.load('data/ytrain_array.npy')\n",
    "\n",
    "Xtest_scale=np.load('data/Xtest_scale.npy')\n",
    "ytest_array=np.load('data/ytest_array.npy')\n",
    "\n",
    "X_RF = np.concatenate([Xtrain_scale, Xtest_scale], axis=0)\n",
    "y_RF = np.concatenate([ytrain_array, ytest_array], axis=0)"
   ]
  },
  {
   "cell_type": "markdown",
   "id": "47c0e40b-44d3-4fd9-9ddb-19ea99088003",
   "metadata": {},
   "source": [
    "Y ahora calculo las métricas sobre `loaded_rf_model`."
   ]
  },
  {
   "cell_type": "code",
   "execution_count": 9,
   "id": "e7f61fd9-a549-45e9-9235-c60f6bd83507",
   "metadata": {},
   "outputs": [
    {
     "name": "stdout",
     "output_type": "stream",
     "text": [
      "Coefficient of Determination (R2): 0.8664242929641404\n",
      "Adjusted Coefficient of Determination (R2 adj): 0.8056737595382268\n",
      "Root Mean Squared Error (RMSE): 0.2032322313948567\n"
     ]
    }
   ],
   "source": [
    "#Calculo la cantidad de datos que tienen las muestras OOB\n",
    "num_oob_samples = len(y_RF) - int(len(y_RF) * loaded_rf_model.oob_score_) #noten que llamo a 'loaded_rf_model'\n",
    "\n",
    "# Obtener las predicciones del modelo para las muestras OOB\n",
    "oob_predictions = loaded_rf_model.oob_prediction_ #noten que llamo a 'loaded_rf_model'\n",
    "\n",
    "# Calcular el coeficiente de determinación (R2)\n",
    "r2RF = r2_score(y_RF, oob_predictions)\n",
    "\n",
    "# Calcular n y k\n",
    "n = num_oob_samples  # Número de observaciones\n",
    "k = X_RF.shape[1]  # Número de variables independientes\n",
    "\n",
    "# Calcular R^2 ajustado\n",
    "r2RF_adjusted = 1 - ((1 - r2RF) * (n - 1) / (n - k - 1))\n",
    "\n",
    "# Calcular el error cuadrático medio (RMSE)\n",
    "rmseRF = np.sqrt(mean_squared_error(y_RF, oob_predictions))\n",
    "\n",
    "# Imprimir resultados\n",
    "print(\"Coefficient of Determination (R2):\", r2RF)\n",
    "print(\"Adjusted Coefficient of Determination (R2 adj):\", r2RF_adjusted)\n",
    "print(\"Root Mean Squared Error (RMSE):\", rmseRF)"
   ]
  }
 ],
 "metadata": {
  "kernelspec": {
   "display_name": "Python 3 (ipykernel)",
   "language": "python",
   "name": "python3"
  },
  "language_info": {
   "codemirror_mode": {
    "name": "ipython",
    "version": 3
   },
   "file_extension": ".py",
   "mimetype": "text/x-python",
   "name": "python",
   "nbconvert_exporter": "python",
   "pygments_lexer": "ipython3",
   "version": "3.11.7"
  }
 },
 "nbformat": 4,
 "nbformat_minor": 5
}
