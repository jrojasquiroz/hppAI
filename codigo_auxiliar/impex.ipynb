{
 "cells": [
  {
   "cell_type": "code",
   "execution_count": null,
   "id": "f8ad883e-d6f4-4a6d-aeaa-c83d9f6dcef8",
   "metadata": {},
   "outputs": [],
   "source": [
    "os.chdir(\"G:/Mi unidad/Documentos personales/9-Documentos Doctorado/Doctorado 2023/7-Clases/SRGVUA/rawdata\")"
   ]
  },
  {
   "cell_type": "code",
   "execution_count": 2,
   "id": "81891959-9f51-4e14-bfb0-1ac8c7c0c24f",
   "metadata": {
    "tags": []
   },
   "outputs": [
    {
     "name": "stdout",
     "output_type": "stream",
     "text": [
      "¡Archivo exportado exitosamente a Excel!\n"
     ]
    }
   ],
   "source": [
    "import pandas as pd\n",
    "import pyreadstat\n",
    "\n",
    "# Ruta al archivo SPSS\n",
    "archivo_spss = \"BDD10958EPCandNO_EPC-PEZ_2.sav\"\n",
    "\n",
    "# Cargar el archivo SPSS\n",
    "datos_spss, metadatos = pyreadstat.read_sav(archivo_spss)\n",
    "\n",
    "# Convertir los datos a un DataFrame de pandas\n",
    "df = pd.DataFrame(datos_spss)\n",
    "\n",
    "# Ruta para guardar el archivo Excel\n",
    "archivo_excel = \"BDD10958EPCandNO_EPC-PEZ_2.xlsx\"\n",
    "\n",
    "# Guardar el DataFrame en un archivo Excel\n",
    "df.to_excel(archivo_excel, index=False)\n",
    "\n",
    "print(\"¡Archivo exportado exitosamente a Excel!\")"
   ]
  }
 ],
 "metadata": {
  "kernelspec": {
   "display_name": "Python 3 (ipykernel)",
   "language": "python",
   "name": "python3"
  },
  "language_info": {
   "codemirror_mode": {
    "name": "ipython",
    "version": 3
   },
   "file_extension": ".py",
   "mimetype": "text/x-python",
   "name": "python",
   "nbconvert_exporter": "python",
   "pygments_lexer": "ipython3",
   "version": "3.11.5"
  }
 },
 "nbformat": 4,
 "nbformat_minor": 5
}
