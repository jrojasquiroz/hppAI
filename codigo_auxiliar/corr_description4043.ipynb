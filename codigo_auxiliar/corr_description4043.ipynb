{
 "cells": [
  {
   "cell_type": "markdown",
   "id": "cc3baea8-677c-451f-b310-0a216acbe31a",
   "metadata": {},
   "source": [
    "Corrección de la base de datos `BDDHabitaclia_4043_join.sav`, que me compartió Carlos. En este archivo la descripción (`Description`) está cortada en 250 caracteres. \n",
    "\n",
    "Para corregirlo, Paúl me compartió el archivo `02.Data_Multi_Selling_webscrapped.xlsx`, que tiene la base de datos original de donde salen las 4043 observaciones."
   ]
  },
  {
   "cell_type": "code",
   "execution_count": 1,
   "id": "bee3ecb5-d4b5-42f1-8c87-ccad3bfea6bf",
   "metadata": {
    "tags": []
   },
   "outputs": [],
   "source": [
    "import pandas as pd\n",
    "import numpy as np\n",
    "import re\n",
    "import os"
   ]
  },
  {
   "cell_type": "code",
   "execution_count": null,
   "id": "5fb820db-3a88-4706-8b39-32e6ad7af133",
   "metadata": {},
   "outputs": [],
   "source": [
    "os.chdir(\"G:/Mi unidad/Documentos personales/9-Documentos Doctorado/Doctorado 2023/7-Clases/SRGVUA/rawdata\")"
   ]
  },
  {
   "cell_type": "markdown",
   "id": "d32d337b-a7ba-4227-9012-ddab30ea38b5",
   "metadata": {},
   "source": [
    "# Datos 2020"
   ]
  },
  {
   "cell_type": "code",
   "execution_count": 2,
   "id": "bec3d1b6-7849-499a-9631-9cf1b076f89a",
   "metadata": {
    "tags": []
   },
   "outputs": [
    {
     "name": "stdout",
     "output_type": "stream",
     "text": [
      "['OBJECTID_1', 'codigo_inmueble1', 'Title', 'Type_build', 'Type_opera', 'Link', 'Location', 'Lat_X', 'Lon_Y', 'Climatic_Z', 'Nom_Mun', 'precio_eur', 'superficie', 'superficie_2', 'Unit_price', 'Ln_total_pr', 'Ln_unit_pr', 'numero_habitaciones', 'numero_bano', 'ratio_bano_hab', 'numero_aseo', 'ascensor', 'interac_planta', 'numero_de_piso', 'anyo_constr', 'anyo_constr_ponderad', 'antig_ponderad', 'Inverse_Age', 'Year_Before_1981', 'Year_1982_2006', 'Year_After_2007', 'superficie_terraza_m2', 'grand_terr_20m2', 'superficie_jardin_m2', 'superficie_salon', 'bool_despacho', 'bool_buhardilla', 'bool_trastero', 'bool_lavadero', 'bool_piscina_comunitaria', 'bool_jardin_comunitario', 'bool_amueblado', 'bool_ascensor', 'descripcion', 'bool_aire_acondicionado', 'bool_calefaccion', 'bool_chimenea', 'texto_destacado', 'Description', 'calificacion_consumo_letra', 'calificacion_consumo_valor', 'calificacion_emision_letra', 'calificacion_emision_valor', 'Dum_EPC', 'EPC_A_emision', 'EPC_B_emision', 'EPC_C_emision', 'EPC_D_emision', 'EPC_E_emision', 'EPC_F_emision', 'EPC_G_emision', 'COD_MUN', 'temp_enero', 'temp_julio', 'radiacion_enero', 'radiacion_julio', 'POB_91', 'POB_01', 'POB_06', 'POR_01', 'LTL1991_M', 'LTL_2001', 'DLTL_MUN', 'RW', 'FLE', 'FLS', 'SUP_URB_90', 'SUP_URB_00', 'Job_ratio_01', 'Autocontencion_01', 'Nodalidad_01', 'Dist_CBD', 'Dist_CBD2', 'Dist_sub_center', 'Elevation_Mean', 'dum_acces_viappal', 'IND_pr', 'FIRE_pr', 'Div_LandUse', 'COD_SEC', 'pr_directivo', 'pr_tecnico_prof', 'pr_tecnico_apoyo', 'pr_empl_admin', 'pr_restaur_comer', 'pr_agri_calificado', 'pr_artesano', 'pr_operador', 'pr_no_calif', 'desplaz_ponderado', 'plant_ras_pond', 'edif_ruin_pr', 'edif_malo_pr', 'edif_deficient_pr', 'edif_bueno_pr', 'Doorman_pr', 'opin_ruido_si_pr', 'opin_contam_si_pr', 'opin_calle_sucia_pr', 'opin_mala_comunic_pr', 'opin_pocazonaverde_pr', 'opin_delincuencia_pr', 'opin_falta_aseo_pr', 'local_salud_pr', 'local_edu_pr', 'local_social_pr', 'local_cult_pr', 'local_comerc_pr', 'local_oficinas_pr', 'local_industr_pr', 'local_agrar_pr', 'POB_TOTAL', 'POB_RESID', 'LOC_TOTAL', 'POR_TOTAL', 'LOC_VIV_TOTAL', 'dens_loc_100hab', 'dens_loc_sup', 'dens_pob_sup', 'estud_sin_pr', 'estud_primer_pr', 'estud_segund_pr', 'estud_tercer_pr', 'VIV_ppales_TOTAL', 'Sup_viv_sec', 'viv_ppales_pr', 'viv_no_ppales_pr', 'viv_secundarias_pr', 'viv_vacias_pr', 'viv_unifam_pr', 'viv_aptos_pr', 'resi_euro_pr', 'resi_africa_pr', 'resi_america_pr', 'resi_asia_pr', 'resi_oceania_pr', 'H_ocup_POR', 'H_loc_INE', 'H_tamaviv', 'H_ocup_POR_Xpor', 'H_loc_INE_XLOCS', 'H_tamaviv_Xvivs', 'CT_renta_alta_CPA', 'CT_renta_meda_CPA', 'CT_renta_medb_CPA', 'Income_Household_2016', 'DP2e', 'Dens_Time_total', 'Dens_Time_total_work', 'Dens_Time_total_Nwork', 'Dens_pers_act_total', 'Dens_pers_act_working', 'Dens_pers_act_Nworking', 'Div_total_work', 'Div_act_work', 'Div_socio_work', 'Div_total_Nwork', 'Div_act_Nwork', 'Div_socio_Nwork', 'calidad_cocina', 'diseny_cocina', 'alta_calidad', 'reform_inmob', 'dum_mar_200m', 'dum_ttpp_riel_urb', 'dist_near_riel_km', 'dist_near_viappal_km', 'C_contempo', 'C_estado', 'C_armarios', 'B_contempo', 'B_estado', 'B_lavamano', 'R_contempo', 'R_estado', 'R_carpinte', 'R_singular', 'R_ventana', 'Dum_precio', 'Precio_red', 'scrap_year', 'persona', 'filter_$', 'Estado_contemporaneidad_calidad', 'Ausencia_singulares_presencia_arm_cocina', 'Muestra_2023', 'EPC_A_emision_2023', 'EPC_B_emision_2023', 'EPC_C_emision_2023', 'EPC_D_emision_2023', 'EPC_E_emision_2023', 'EPC_F_emision_2023', 'EPC_G_emision_2023']\n",
      "['codigo_inmueble', 'Lat', 'Lon', 'Title', 'Type_buildings', 'Type_operation', 'Link', 'Location', 'precio_euros', 'superficie_m2', 'superficie', 'numero_habitaciones', 'numero_banyos', 'numero_aseos', 'bool_despacho', 'bool_buhardilla', 'bool_trastero', 'bool_lavadero', 'bool_piscina_propia', 'bool_piscina_comunitaria', 'bool_jardin_comunitario', 'anyo_de_construccion', 'numero_de_planta', 'Terraza', 'Jadin', 'salon', 'bool_amueblado', 'bool_ascensor', 'descripcion_estado_cocina', 'bool_aire_acondicionado', 'bool_calefaccion', 'bool_chimenea', 'texto_destacado', 'Description', 'calificacion_energetica_consumo_letra', 'calificacion_energetica_consumo_valor(kWhm2/año)', 'calificacion_energetica_emisiones_letra', 'calificacion_energetica_emisiones_valor (kgCO2m2/año)']\n"
     ]
    }
   ],
   "source": [
    "df=pd.read_csv('clases/habitaclia4043.csv')\n",
    "df=df.drop(columns=['Unnamed: 0'])\n",
    "\n",
    "df1=pd.read_excel('02.Data_Multi_Selling_webscrapped.xlsx', sheet_name='06. FINAL_44365')\n",
    "\n",
    "print(df.columns.tolist())\n",
    "print(df1.columns.tolist())"
   ]
  },
  {
   "cell_type": "code",
   "execution_count": 3,
   "id": "91300c89-1ebd-465b-ae60-432fd15311ae",
   "metadata": {
    "tags": []
   },
   "outputs": [
    {
     "data": {
      "text/plain": [
       "0    2.872004e+12\n",
       "1    5.020004e+12\n",
       "2    8.700366e+10\n",
       "Name: codigo_inmueble1, dtype: float64"
      ]
     },
     "execution_count": 3,
     "metadata": {},
     "output_type": "execute_result"
    }
   ],
   "source": [
    "df['codigo_inmueble1'].head(3)"
   ]
  },
  {
   "cell_type": "code",
   "execution_count": 4,
   "id": "47f7daf7-6dd1-4670-ad5f-c9bf00db5ceb",
   "metadata": {
    "tags": []
   },
   "outputs": [
    {
     "data": {
      "text/plain": [
       "0    11000410939\n",
       "1    11000503998\n",
       "2    11000577307\n",
       "Name: codigo_inmueble, dtype: int64"
      ]
     },
     "execution_count": 4,
     "metadata": {},
     "output_type": "execute_result"
    }
   ],
   "source": [
    "df1['codigo_inmueble'].head(3)"
   ]
  },
  {
   "cell_type": "code",
   "execution_count": 5,
   "id": "4b426655-e6cd-4454-9ed2-eacb8d868b74",
   "metadata": {
    "tags": []
   },
   "outputs": [],
   "source": [
    "# Define una expresión regular para extraer los números entre \"i\" y \".htm\"\n",
    "regex_patron = r'-i(/d+)/.htm'\n",
    "\n",
    "# Extrae los números y asigna el resultado a una nueva columna 'cod_unico'\n",
    "df['cod_unico'] = df['Link'].str.extract(regex_patron)\n",
    "df1['cod_unico'] = df1['Link'].str.extract(regex_patron)"
   ]
  },
  {
   "cell_type": "code",
   "execution_count": 6,
   "id": "c650cd8a-c3e2-4423-b29e-797355c1cf4c",
   "metadata": {
    "tags": []
   },
   "outputs": [
    {
     "data": {
      "text/plain": [
       "0    2872003742038\n",
       "1    5020003510169\n",
       "Name: cod_unico, dtype: object"
      ]
     },
     "execution_count": 6,
     "metadata": {},
     "output_type": "execute_result"
    }
   ],
   "source": [
    "df['cod_unico'].head(2)"
   ]
  },
  {
   "cell_type": "code",
   "execution_count": 7,
   "id": "43eaab93-2c03-4d33-8741-3625d4b535d9",
   "metadata": {
    "tags": []
   },
   "outputs": [
    {
     "data": {
      "text/plain": [
       "0    11000410939\n",
       "1    11000503998\n",
       "Name: cod_unico, dtype: object"
      ]
     },
     "execution_count": 7,
     "metadata": {},
     "output_type": "execute_result"
    }
   ],
   "source": [
    "df1['cod_unico'].head(2)"
   ]
  },
  {
   "cell_type": "code",
   "execution_count": 8,
   "id": "e5c596f1-5b1f-4d06-8449-b08d6060a1b9",
   "metadata": {
    "tags": []
   },
   "outputs": [
    {
     "data": {
      "text/plain": [
       "4046"
      ]
     },
     "execution_count": 8,
     "metadata": {},
     "output_type": "execute_result"
    }
   ],
   "source": [
    "df_merged = pd.merge(df, df1[['cod_unico','Description']], on='cod_unico', how='left')\n",
    "df_merged.drop_duplicates(inplace=True)\n",
    "len(df_merged)"
   ]
  },
  {
   "cell_type": "code",
   "execution_count": 9,
   "id": "7336cf5b-1752-431f-94fc-3a5bcd3670a1",
   "metadata": {
    "tags": []
   },
   "outputs": [
    {
     "name": "stdout",
     "output_type": "stream",
     "text": [
      "['OBJECTID_1', 'codigo_inmueble1', 'Title', 'Type_build', 'Type_opera', 'Link', 'Location', 'Lat_X', 'Lon_Y', 'Climatic_Z', 'Nom_Mun', 'precio_eur', 'superficie', 'superficie_2', 'Unit_price', 'Ln_total_pr', 'Ln_unit_pr', 'numero_habitaciones', 'numero_bano', 'ratio_bano_hab', 'numero_aseo', 'ascensor', 'interac_planta', 'numero_de_piso', 'anyo_constr', 'anyo_constr_ponderad', 'antig_ponderad', 'Inverse_Age', 'Year_Before_1981', 'Year_1982_2006', 'Year_After_2007', 'superficie_terraza_m2', 'grand_terr_20m2', 'superficie_jardin_m2', 'superficie_salon', 'bool_despacho', 'bool_buhardilla', 'bool_trastero', 'bool_lavadero', 'bool_piscina_comunitaria', 'bool_jardin_comunitario', 'bool_amueblado', 'bool_ascensor', 'descripcion', 'bool_aire_acondicionado', 'bool_calefaccion', 'bool_chimenea', 'texto_destacado', 'Description_x', 'calificacion_consumo_letra', 'calificacion_consumo_valor', 'calificacion_emision_letra', 'calificacion_emision_valor', 'Dum_EPC', 'EPC_A_emision', 'EPC_B_emision', 'EPC_C_emision', 'EPC_D_emision', 'EPC_E_emision', 'EPC_F_emision', 'EPC_G_emision', 'COD_MUN', 'temp_enero', 'temp_julio', 'radiacion_enero', 'radiacion_julio', 'POB_91', 'POB_01', 'POB_06', 'POR_01', 'LTL1991_M', 'LTL_2001', 'DLTL_MUN', 'RW', 'FLE', 'FLS', 'SUP_URB_90', 'SUP_URB_00', 'Job_ratio_01', 'Autocontencion_01', 'Nodalidad_01', 'Dist_CBD', 'Dist_CBD2', 'Dist_sub_center', 'Elevation_Mean', 'dum_acces_viappal', 'IND_pr', 'FIRE_pr', 'Div_LandUse', 'COD_SEC', 'pr_directivo', 'pr_tecnico_prof', 'pr_tecnico_apoyo', 'pr_empl_admin', 'pr_restaur_comer', 'pr_agri_calificado', 'pr_artesano', 'pr_operador', 'pr_no_calif', 'desplaz_ponderado', 'plant_ras_pond', 'edif_ruin_pr', 'edif_malo_pr', 'edif_deficient_pr', 'edif_bueno_pr', 'Doorman_pr', 'opin_ruido_si_pr', 'opin_contam_si_pr', 'opin_calle_sucia_pr', 'opin_mala_comunic_pr', 'opin_pocazonaverde_pr', 'opin_delincuencia_pr', 'opin_falta_aseo_pr', 'local_salud_pr', 'local_edu_pr', 'local_social_pr', 'local_cult_pr', 'local_comerc_pr', 'local_oficinas_pr', 'local_industr_pr', 'local_agrar_pr', 'POB_TOTAL', 'POB_RESID', 'LOC_TOTAL', 'POR_TOTAL', 'LOC_VIV_TOTAL', 'dens_loc_100hab', 'dens_loc_sup', 'dens_pob_sup', 'estud_sin_pr', 'estud_primer_pr', 'estud_segund_pr', 'estud_tercer_pr', 'VIV_ppales_TOTAL', 'Sup_viv_sec', 'viv_ppales_pr', 'viv_no_ppales_pr', 'viv_secundarias_pr', 'viv_vacias_pr', 'viv_unifam_pr', 'viv_aptos_pr', 'resi_euro_pr', 'resi_africa_pr', 'resi_america_pr', 'resi_asia_pr', 'resi_oceania_pr', 'H_ocup_POR', 'H_loc_INE', 'H_tamaviv', 'H_ocup_POR_Xpor', 'H_loc_INE_XLOCS', 'H_tamaviv_Xvivs', 'CT_renta_alta_CPA', 'CT_renta_meda_CPA', 'CT_renta_medb_CPA', 'Income_Household_2016', 'DP2e', 'Dens_Time_total', 'Dens_Time_total_work', 'Dens_Time_total_Nwork', 'Dens_pers_act_total', 'Dens_pers_act_working', 'Dens_pers_act_Nworking', 'Div_total_work', 'Div_act_work', 'Div_socio_work', 'Div_total_Nwork', 'Div_act_Nwork', 'Div_socio_Nwork', 'calidad_cocina', 'diseny_cocina', 'alta_calidad', 'reform_inmob', 'dum_mar_200m', 'dum_ttpp_riel_urb', 'dist_near_riel_km', 'dist_near_viappal_km', 'C_contempo', 'C_estado', 'C_armarios', 'B_contempo', 'B_estado', 'B_lavamano', 'R_contempo', 'R_estado', 'R_carpinte', 'R_singular', 'R_ventana', 'Dum_precio', 'Precio_red', 'scrap_year', 'persona', 'filter_$', 'Estado_contemporaneidad_calidad', 'Ausencia_singulares_presencia_arm_cocina', 'Muestra_2023', 'EPC_A_emision_2023', 'EPC_B_emision_2023', 'EPC_C_emision_2023', 'EPC_D_emision_2023', 'EPC_E_emision_2023', 'EPC_F_emision_2023', 'EPC_G_emision_2023', 'cod_unico', 'Description_y']\n"
     ]
    }
   ],
   "source": [
    "print(df_merged.columns.tolist())"
   ]
  },
  {
   "cell_type": "markdown",
   "id": "e49f6d10-acbb-4714-aabc-52ad485b29fc",
   "metadata": {},
   "source": [
    "# Datos del 2023"
   ]
  },
  {
   "cell_type": "markdown",
   "id": "0e0ddd4c-cd39-4d1e-90e0-34b27a1e042b",
   "metadata": {},
   "source": [
    "Rolando tenía los datos en dos archivos: unos con evaluación completa y otros con la evaluación incompleta."
   ]
  },
  {
   "cell_type": "code",
   "execution_count": 10,
   "id": "6e0a4125-3232-4c7f-a5fa-00f69c2668eb",
   "metadata": {
    "tags": []
   },
   "outputs": [
    {
     "name": "stdout",
     "output_type": "stream",
     "text": [
      "15825\n",
      "                                                Link  \\\n",
      "0  https://www.habitaclia.com/comprar-piso-con_3_...   \n",
      "1  https://www.habitaclia.com/comprar-piso-en-arb...   \n",
      "2  https://www.habitaclia.com/comprar-piso-amplio...   \n",
      "\n",
      "                                         Description  \n",
      "0  Vivienda situada en un edificio de tres altura...  \n",
      "1  Vivienda situada en un edificio de cinco altur...  \n",
      "2  EXCELENTE OPORTUNIDAD !! FINANCIACION BANCARIA...  \n",
      "                                                   Link  \\\n",
      "6362  https://www.habitaclia.com/comprar-piso-obra_n...   \n",
      "6363  https://www.habitaclia.com/comprar-piso-oportu...   \n",
      "6364  https://www.habitaclia.com/comprar-piso-con_3_...   \n",
      "\n",
      "                                            Description  \n",
      "6362  Próxima nueva construcción de 7 VIVIENDAS EXCL...  \n",
      "6363  ¡Oportunidad inversores!Apartamento en pleno c...  \n",
      "6364  VILASSAR DE MAR - INTEGRAL HOME os presenta de...  \n"
     ]
    }
   ],
   "source": [
    "comp=pd.read_excel('2023/795_COMPLETA_00.xlsx')\n",
    "incomp=pd.read_excel('2023/795_INCOMPLETA.xlsx')\n",
    "\n",
    "comp=comp[['Link','Description']]\n",
    "incomp=incomp[['Link','Description']]\n",
    "\n",
    "df2=pd.concat([comp,incomp])\n",
    "\n",
    "print(len(df2))\n",
    "print(df2.head(3))\n",
    "print(df2.tail(3))"
   ]
  },
  {
   "cell_type": "code",
   "execution_count": 11,
   "id": "504ff88f-f538-47c6-8f0a-a8394cac9daf",
   "metadata": {
    "tags": []
   },
   "outputs": [],
   "source": [
    "df2['cod_unico'] = df2['Link'].str.extract(regex_patron)"
   ]
  },
  {
   "cell_type": "code",
   "execution_count": 12,
   "id": "b1826e02-1c07-4096-b19b-c00473327bab",
   "metadata": {
    "tags": []
   },
   "outputs": [
    {
     "name": "stdout",
     "output_type": "stream",
     "text": [
      "Número de valores que se repiten en ambos DataFrames: 1515\n"
     ]
    }
   ],
   "source": [
    "# Calcula la cuenta de valores únicos en cada DataFrame\n",
    "conteo_df2 = df_merged['cod_unico'].value_counts()\n",
    "conteo_df3 = df2['cod_unico'].value_counts()\n",
    "\n",
    "# Encuentra los valores que se repiten en ambos DataFrames\n",
    "valores_repetidos = conteo_df2.index.intersection(conteo_df3.index)\n",
    "\n",
    "# Muestra el número de valores que se repiten en ambos DataFrames\n",
    "num_valores_repetidos = len(valores_repetidos)\n",
    "print(\"Número de valores que se repiten en ambos DataFrames:\", num_valores_repetidos)"
   ]
  },
  {
   "cell_type": "code",
   "execution_count": 13,
   "id": "b27e3624-c5cc-47a2-b261-9e7bc4260acd",
   "metadata": {
    "tags": []
   },
   "outputs": [
    {
     "data": {
      "text/plain": [
       "4068"
      ]
     },
     "execution_count": 13,
     "metadata": {},
     "output_type": "execute_result"
    }
   ],
   "source": [
    "df_merged2 = pd.merge(df_merged, df2[['cod_unico','Description']], on='cod_unico', how='left')\n",
    "df_merged2.drop_duplicates(inplace=True)\n",
    "len(df_merged2)"
   ]
  },
  {
   "cell_type": "code",
   "execution_count": 14,
   "id": "420c72ff-41f9-4b70-b1de-d9ed87663d6c",
   "metadata": {
    "tags": []
   },
   "outputs": [],
   "source": [
    "df_merged2.to_excel('df_merged2.xlsx',index=False)"
   ]
  },
  {
   "cell_type": "code",
   "execution_count": 15,
   "id": "cb6b59cd-2ea8-4f3b-acd1-3f4635e4266a",
   "metadata": {
    "tags": []
   },
   "outputs": [
    {
     "name": "stdout",
     "output_type": "stream",
     "text": [
      "['OBJECTID_1', 'codigo_inmueble1', 'Title', 'Type_build', 'Type_opera', 'Link', 'Location', 'Lat_X', 'Lon_Y', 'Climatic_Z', 'Nom_Mun', 'precio_eur', 'superficie', 'superficie_2', 'Unit_price', 'Ln_total_pr', 'Ln_unit_pr', 'numero_habitaciones', 'numero_bano', 'ratio_bano_hab', 'numero_aseo', 'ascensor', 'interac_planta', 'numero_de_piso', 'anyo_constr', 'anyo_constr_ponderad', 'antig_ponderad', 'Inverse_Age', 'Year_Before_1981', 'Year_1982_2006', 'Year_After_2007', 'superficie_terraza_m2', 'grand_terr_20m2', 'superficie_jardin_m2', 'superficie_salon', 'bool_despacho', 'bool_buhardilla', 'bool_trastero', 'bool_lavadero', 'bool_piscina_comunitaria', 'bool_jardin_comunitario', 'bool_amueblado', 'bool_ascensor', 'descripcion', 'bool_aire_acondicionado', 'bool_calefaccion', 'bool_chimenea', 'texto_destacado', 'Description_x', 'calificacion_consumo_letra', 'calificacion_consumo_valor', 'calificacion_emision_letra', 'calificacion_emision_valor', 'Dum_EPC', 'EPC_A_emision', 'EPC_B_emision', 'EPC_C_emision', 'EPC_D_emision', 'EPC_E_emision', 'EPC_F_emision', 'EPC_G_emision', 'COD_MUN', 'temp_enero', 'temp_julio', 'radiacion_enero', 'radiacion_julio', 'POB_91', 'POB_01', 'POB_06', 'POR_01', 'LTL1991_M', 'LTL_2001', 'DLTL_MUN', 'RW', 'FLE', 'FLS', 'SUP_URB_90', 'SUP_URB_00', 'Job_ratio_01', 'Autocontencion_01', 'Nodalidad_01', 'Dist_CBD', 'Dist_CBD2', 'Dist_sub_center', 'Elevation_Mean', 'dum_acces_viappal', 'IND_pr', 'FIRE_pr', 'Div_LandUse', 'COD_SEC', 'pr_directivo', 'pr_tecnico_prof', 'pr_tecnico_apoyo', 'pr_empl_admin', 'pr_restaur_comer', 'pr_agri_calificado', 'pr_artesano', 'pr_operador', 'pr_no_calif', 'desplaz_ponderado', 'plant_ras_pond', 'edif_ruin_pr', 'edif_malo_pr', 'edif_deficient_pr', 'edif_bueno_pr', 'Doorman_pr', 'opin_ruido_si_pr', 'opin_contam_si_pr', 'opin_calle_sucia_pr', 'opin_mala_comunic_pr', 'opin_pocazonaverde_pr', 'opin_delincuencia_pr', 'opin_falta_aseo_pr', 'local_salud_pr', 'local_edu_pr', 'local_social_pr', 'local_cult_pr', 'local_comerc_pr', 'local_oficinas_pr', 'local_industr_pr', 'local_agrar_pr', 'POB_TOTAL', 'POB_RESID', 'LOC_TOTAL', 'POR_TOTAL', 'LOC_VIV_TOTAL', 'dens_loc_100hab', 'dens_loc_sup', 'dens_pob_sup', 'estud_sin_pr', 'estud_primer_pr', 'estud_segund_pr', 'estud_tercer_pr', 'VIV_ppales_TOTAL', 'Sup_viv_sec', 'viv_ppales_pr', 'viv_no_ppales_pr', 'viv_secundarias_pr', 'viv_vacias_pr', 'viv_unifam_pr', 'viv_aptos_pr', 'resi_euro_pr', 'resi_africa_pr', 'resi_america_pr', 'resi_asia_pr', 'resi_oceania_pr', 'H_ocup_POR', 'H_loc_INE', 'H_tamaviv', 'H_ocup_POR_Xpor', 'H_loc_INE_XLOCS', 'H_tamaviv_Xvivs', 'CT_renta_alta_CPA', 'CT_renta_meda_CPA', 'CT_renta_medb_CPA', 'Income_Household_2016', 'DP2e', 'Dens_Time_total', 'Dens_Time_total_work', 'Dens_Time_total_Nwork', 'Dens_pers_act_total', 'Dens_pers_act_working', 'Dens_pers_act_Nworking', 'Div_total_work', 'Div_act_work', 'Div_socio_work', 'Div_total_Nwork', 'Div_act_Nwork', 'Div_socio_Nwork', 'calidad_cocina', 'diseny_cocina', 'alta_calidad', 'reform_inmob', 'dum_mar_200m', 'dum_ttpp_riel_urb', 'dist_near_riel_km', 'dist_near_viappal_km', 'C_contempo', 'C_estado', 'C_armarios', 'B_contempo', 'B_estado', 'B_lavamano', 'R_contempo', 'R_estado', 'R_carpinte', 'R_singular', 'R_ventana', 'Dum_precio', 'Precio_red', 'scrap_year', 'persona', 'filter_$', 'Estado_contemporaneidad_calidad', 'Ausencia_singulares_presencia_arm_cocina', 'Muestra_2023', 'EPC_A_emision_2023', 'EPC_B_emision_2023', 'EPC_C_emision_2023', 'EPC_D_emision_2023', 'EPC_E_emision_2023', 'EPC_F_emision_2023', 'EPC_G_emision_2023', 'cod_unico', 'Description_y', 'Description']\n"
     ]
    }
   ],
   "source": [
    "print(df_merged2.columns.tolist())"
   ]
  },
  {
   "cell_type": "code",
   "execution_count": 16,
   "id": "53e4a3c5-dceb-4933-841c-91b9d02dce6b",
   "metadata": {
    "tags": []
   },
   "outputs": [],
   "source": [
    "df_merged2.rename(columns={'Description':'Description_z'},inplace=True)"
   ]
  },
  {
   "cell_type": "code",
   "execution_count": 17,
   "id": "397c3450-645e-405f-9acc-b9582c2955b2",
   "metadata": {
    "tags": []
   },
   "outputs": [],
   "source": [
    "# Crear un nuevo campo 'Description' basado en las condiciones dadas\n",
    "df_merged2['Description'] = df_merged2['Description_y'].fillna(df_merged2['Description_z'])\n",
    "df_merged2['Description'] = df_merged2['Description'].fillna(df_merged2['Description_y'])"
   ]
  },
  {
   "cell_type": "code",
   "execution_count": 18,
   "id": "8e15e20c-5ca3-417f-803c-b53446b5e896",
   "metadata": {
    "tags": []
   },
   "outputs": [],
   "source": [
    "df_merged3=df_merged2"
   ]
  },
  {
   "cell_type": "markdown",
   "id": "2ebcd3aa-e5a4-41ba-8299-a793f2e60c75",
   "metadata": {},
   "source": [
    "Hago una limpieza de duplicados basándome en `cod_unico` (previamente lo revisé manualmente y sí corresponden a reales duplicados)."
   ]
  },
  {
   "cell_type": "code",
   "execution_count": 19,
   "id": "8b85abba-5d4c-46ab-9ed6-8161a9783ddf",
   "metadata": {
    "tags": []
   },
   "outputs": [
    {
     "data": {
      "text/plain": [
       "4005"
      ]
     },
     "execution_count": 19,
     "metadata": {},
     "output_type": "execute_result"
    }
   ],
   "source": [
    "# Eliminar las columnas 'Description_y' y 'Description_z' si ya no son necesarias\n",
    "df_merged3.drop(columns=['Description_y', 'Description_z'], inplace=True)\n",
    "df_merged3.drop_duplicates(subset=['cod_unico'],inplace=True)\n",
    "\n",
    "# Mostrar el DataFrame resultante\n",
    "len(df_merged3)"
   ]
  },
  {
   "cell_type": "markdown",
   "id": "e1f64aff-544a-462b-83db-e33f71690905",
   "metadata": {},
   "source": [
    "También debo eliminar los duplicados de las 4043 observaciones iniciales."
   ]
  },
  {
   "cell_type": "code",
   "execution_count": 20,
   "id": "3a888487-e080-499e-8577-5539092762eb",
   "metadata": {
    "tags": []
   },
   "outputs": [
    {
     "data": {
      "text/plain": [
       "4005"
      ]
     },
     "execution_count": 20,
     "metadata": {},
     "output_type": "execute_result"
    }
   ],
   "source": [
    "df.drop_duplicates(subset=['cod_unico'],inplace=True)\n",
    "\n",
    "# Mostrar el DataFrame resultante\n",
    "len(df)"
   ]
  },
  {
   "cell_type": "code",
   "execution_count": 21,
   "id": "7c77c89b-2950-4706-900d-37be6f329dad",
   "metadata": {
    "tags": []
   },
   "outputs": [
    {
     "data": {
      "text/plain": [
       "4005"
      ]
     },
     "execution_count": 21,
     "metadata": {},
     "output_type": "execute_result"
    }
   ],
   "source": [
    "df_merged4=pd.merge(df.drop(columns=['Description']),\n",
    "                    df_merged3[['cod_unico','Description']], \n",
    "                    on='cod_unico', \n",
    "                    how='left')\n",
    "\n",
    "len(df_merged4)"
   ]
  },
  {
   "cell_type": "markdown",
   "id": "acbbbba8-bc37-422e-a13e-9023455702b0",
   "metadata": {},
   "source": [
    "Ahora divido mi dataframe en dos: aquellos que tienen `Description` y aquellos que no. Con esto, elimino duplicados de los que sí tienen basándome en tres columnas a la vez (`precio_eur`, `superficie`, `Description` - ya me di cuenta que si es sólo basándome en `Description` puedo tener problemas con obras nuevas).  "
   ]
  },
  {
   "cell_type": "code",
   "execution_count": 27,
   "id": "842c6f7c-240a-4af9-912a-7969b5d23681",
   "metadata": {
    "tags": []
   },
   "outputs": [
    {
     "name": "stderr",
     "output_type": "stream",
     "text": [
      "C:\\Users\\Usuari\\AppData\\Local\\Temp\\ipykernel_8040\\4067813526.py:2: SettingWithCopyWarning: \n",
      "A value is trying to be set on a copy of a slice from a DataFrame\n",
      "\n",
      "See the caveats in the documentation: https://pandas.pydata.org/pandas-docs/stable/user_guide/indexing.html#returning-a-view-versus-a-copy\n",
      "  df_con_texto.drop_duplicates(subset=['precio_eur','superficie','Description'], inplace=True)\n",
      "C:\\Users\\Usuari\\AppData\\Local\\Temp\\ipykernel_8040\\4067813526.py:5: SettingWithCopyWarning: \n",
      "A value is trying to be set on a copy of a slice from a DataFrame\n",
      "\n",
      "See the caveats in the documentation: https://pandas.pydata.org/pandas-docs/stable/user_guide/indexing.html#returning-a-view-versus-a-copy\n",
      "  df_sin_texto.drop_duplicates(subset=['cod_unico'], inplace=True)\n"
     ]
    },
    {
     "data": {
      "text/plain": [
       "3971"
      ]
     },
     "execution_count": 27,
     "metadata": {},
     "output_type": "execute_result"
    }
   ],
   "source": [
    "df_con_texto = df_merged4[~df_merged4['Description'].isna()]\n",
    "df_con_texto.drop_duplicates(subset=['precio_eur','superficie','Description'], inplace=True)\n",
    "\n",
    "df_sin_texto = df_merged4[df_merged4['Description'].isna()]\n",
    "df_sin_texto.drop_duplicates(subset=['cod_unico'], inplace=True)\n",
    "\n",
    "df_final=pd.concat([df_con_texto, df_sin_texto])\n",
    "len(df_final)"
   ]
  },
  {
   "cell_type": "markdown",
   "id": "454fb812-69ae-4383-b790-1ad6059f2fde",
   "metadata": {},
   "source": [
    "Exporto."
   ]
  },
  {
   "cell_type": "code",
   "execution_count": 26,
   "id": "8d47be96-ecb9-46a4-80f4-f6678898a7ad",
   "metadata": {
    "tags": []
   },
   "outputs": [],
   "source": [
    "df_final.to_excel('clases/habitaclia3971.xlsx',index=False)"
   ]
  }
 ],
 "metadata": {
  "kernelspec": {
   "display_name": "Python 3 (ipykernel)",
   "language": "python",
   "name": "python3"
  },
  "language_info": {
   "codemirror_mode": {
    "name": "ipython",
    "version": 3
   },
   "file_extension": ".py",
   "mimetype": "text/x-python",
   "name": "python",
   "nbconvert_exporter": "python",
   "pygments_lexer": "ipython3",
   "version": "3.11.5"
  }
 },
 "nbformat": 4,
 "nbformat_minor": 5
}
