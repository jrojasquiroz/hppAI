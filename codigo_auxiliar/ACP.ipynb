{
 "cells": [
  {
   "cell_type": "markdown",
   "id": "6acad551-a218-4815-a9d4-6dbd134c6ff1",
   "metadata": {},
   "source": [
    "Carlos me ha compartido una base de datos de alrededor de cuatro mil observaciones, con diferentes características físicas de inmuebles en venta en Barcelona. Algunas de esas características físicas son parte de una evaluación detallada sobre la calidad arquitectónica de estos inmuebles. Veamos qué apariencia tienen."
   ]
  },
  {
   "cell_type": "markdown",
   "id": "3ad8ee86-f2d8-42b0-b4bf-9d18b1e244e8",
   "metadata": {},
   "source": [
    "# 1. Revisión y limpieza de datos"
   ]
  },
  {
   "cell_type": "markdown",
   "id": "ece98de6-db71-478c-96a9-2572d940f8c9",
   "metadata": {
    "tags": []
   },
   "source": [
    "Primero, cargamos las librerías a usar."
   ]
  },
  {
   "cell_type": "code",
   "execution_count": 2,
   "id": "b44d00c4-772f-4374-82f3-9e55ff075a4c",
   "metadata": {
    "tags": []
   },
   "outputs": [],
   "source": [
    "import pandas as pd\n",
    "import numpy as np\n",
    "import pyreadstat"
   ]
  },
  {
   "cell_type": "markdown",
   "id": "a0e987af-c66d-43e4-8529-51791927640f",
   "metadata": {
    "tags": []
   },
   "source": [
    "Importamos el archivo y revisamos si tiene filas vacías."
   ]
  },
  {
   "cell_type": "code",
   "execution_count": 3,
   "id": "a03fb492-546b-4538-86e2-2f7b464f8e23",
   "metadata": {
    "tags": []
   },
   "outputs": [
    {
     "data": {
      "text/plain": [
       "True"
      ]
     },
     "execution_count": 3,
     "metadata": {},
     "output_type": "execute_result"
    }
   ],
   "source": [
    "h=pd.read_spss('rawdata/BDDHabitaclia_4043_join.sav')\n",
    "h.isnull().values.any()"
   ]
  },
  {
   "cell_type": "markdown",
   "id": "285ab26b-8b5b-4d3f-9041-2a7698eb9c3c",
   "metadata": {},
   "source": [
    "El código nos indica que sí. Antes de pasar a eliminar aquellas filas vacías, veamos cuántas filas tiene de momento la base de datos."
   ]
  },
  {
   "cell_type": "code",
   "execution_count": 6,
   "id": "8abc0343-cf28-4ce7-a4b3-25b2e5c8dbd1",
   "metadata": {
    "tags": []
   },
   "outputs": [
    {
     "data": {
      "text/plain": [
       "4043"
      ]
     },
     "execution_count": 6,
     "metadata": {},
     "output_type": "execute_result"
    }
   ],
   "source": [
    "len(h)"
   ]
  },
  {
   "cell_type": "markdown",
   "id": "bca24419-be0d-4f6a-a273-0c708af8826b",
   "metadata": {
    "tags": []
   },
   "source": [
    "Ahora sí elimino las filas vacías."
   ]
  },
  {
   "cell_type": "code",
   "execution_count": 4,
   "id": "59b495c5-510a-4706-b60c-819efd8e060a",
   "metadata": {
    "tags": []
   },
   "outputs": [],
   "source": [
    "h = h.dropna()"
   ]
  },
  {
   "cell_type": "markdown",
   "id": "91e2cb05-1747-4474-b6c0-48b6e838101f",
   "metadata": {
    "tags": []
   },
   "source": [
    "Vuelvo a revisar cuántas filas tiene ahora."
   ]
  },
  {
   "cell_type": "code",
   "execution_count": 9,
   "id": "3c3998b3-1f73-4ea7-8f73-e5765434af50",
   "metadata": {
    "tags": []
   },
   "outputs": [
    {
     "data": {
      "text/plain": [
       "3846"
      ]
     },
     "execution_count": 9,
     "metadata": {},
     "output_type": "execute_result"
    }
   ],
   "source": [
    "len(h)"
   ]
  },
  {
   "cell_type": "markdown",
   "id": "5c1dfe22-7612-4c81-89ce-99d0f7544d9d",
   "metadata": {
    "tags": []
   },
   "source": [
    "Ahora reviso las columnas."
   ]
  },
  {
   "cell_type": "code",
   "execution_count": 12,
   "id": "ab0fddb9-272c-4c00-8867-65ff8b82cdf7",
   "metadata": {
    "collapsed": true,
    "jupyter": {
     "outputs_hidden": true
    },
    "tags": []
   },
   "outputs": [
    {
     "name": "stdout",
     "output_type": "stream",
     "text": [
      "['OBJECTID_1', 'codigo_inmueble1', 'Title', 'Type_build', 'Type_opera', 'Link', 'Location', 'Lat_X', 'Lon_Y', 'Climatic_Z', 'Nom_Mun', 'precio_eur', 'superficie', 'superficie_2', 'Unit_price', 'Ln_total_pr', 'Ln_unit_pr', 'numero_habitaciones', 'numero_bano', 'ratio_bano_hab', 'numero_aseo', 'ascensor', 'interac_planta', 'numero_de_piso', 'anyo_constr', 'anyo_constr_ponderad', 'antig_ponderad', 'Inverse_Age', 'Year_Before_1981', 'Year_1982_2006', 'Year_After_2007', 'superficie_terraza_m2', 'grand_terr_20m2', 'superficie_jardin_m2', 'superficie_salon', 'bool_despacho', 'bool_buhardilla', 'bool_trastero', 'bool_lavadero', 'bool_piscina_comunitaria', 'bool_jardin_comunitario', 'bool_amueblado', 'bool_ascensor', 'descripcion', 'bool_aire_acondicionado', 'bool_calefaccion', 'bool_chimenea', 'texto_destacado', 'Description', 'calificacion_consumo_letra', 'calificacion_consumo_valor', 'calificacion_emision_letra', 'calificacion_emision_valor', 'Dum_EPC', 'EPC_A_emision', 'EPC_B_emision', 'EPC_C_emision', 'EPC_D_emision', 'EPC_E_emision', 'EPC_F_emision', 'EPC_G_emision', 'COD_MUN', 'temp_enero', 'temp_julio', 'radiacion_enero', 'radiacion_julio', 'POB_91', 'POB_01', 'POB_06', 'POR_01', 'LTL1991_M', 'LTL_2001', 'DLTL_MUN', 'RW', 'FLE', 'FLS', 'SUP_URB_90', 'SUP_URB_00', 'Job_ratio_01', 'Autocontencion_01', 'Nodalidad_01', 'Dist_CBD', 'Dist_CBD2', 'Dist_sub_center', 'Elevation_Mean', 'dum_acces_viappal', 'IND_pr', 'FIRE_pr', 'Div_LandUse', 'COD_SEC', 'pr_directivo', 'pr_tecnico_prof', 'pr_tecnico_apoyo', 'pr_empl_admin', 'pr_restaur_comer', 'pr_agri_calificado', 'pr_artesano', 'pr_operador', 'pr_no_calif', 'desplaz_ponderado', 'plant_ras_pond', 'edif_ruin_pr', 'edif_malo_pr', 'edif_deficient_pr', 'edif_bueno_pr', 'Doorman_pr', 'opin_ruido_si_pr', 'opin_contam_si_pr', 'opin_calle_sucia_pr', 'opin_mala_comunic_pr', 'opin_pocazonaverde_pr', 'opin_delincuencia_pr', 'opin_falta_aseo_pr', 'local_salud_pr', 'local_edu_pr', 'local_social_pr', 'local_cult_pr', 'local_comerc_pr', 'local_oficinas_pr', 'local_industr_pr', 'local_agrar_pr', 'POB_TOTAL', 'POB_RESID', 'LOC_TOTAL', 'POR_TOTAL', 'LOC_VIV_TOTAL', 'dens_loc_100hab', 'dens_loc_sup', 'dens_pob_sup', 'estud_sin_pr', 'estud_primer_pr', 'estud_segund_pr', 'estud_tercer_pr', 'VIV_ppales_TOTAL', 'Sup_viv_sec', 'viv_ppales_pr', 'viv_no_ppales_pr', 'viv_secundarias_pr', 'viv_vacias_pr', 'viv_unifam_pr', 'viv_aptos_pr', 'resi_euro_pr', 'resi_africa_pr', 'resi_america_pr', 'resi_asia_pr', 'resi_oceania_pr', 'H_ocup_POR', 'H_loc_INE', 'H_tamaviv', 'H_ocup_POR_Xpor', 'H_loc_INE_XLOCS', 'H_tamaviv_Xvivs', 'CT_renta_alta_CPA', 'CT_renta_meda_CPA', 'CT_renta_medb_CPA', 'Income_Household_2016', 'DP2e', 'Dens_Time_total', 'Dens_Time_total_work', 'Dens_Time_total_Nwork', 'Dens_pers_act_total', 'Dens_pers_act_working', 'Dens_pers_act_Nworking', 'Div_total_work', 'Div_act_work', 'Div_socio_work', 'Div_total_Nwork', 'Div_act_Nwork', 'Div_socio_Nwork', 'calidad_cocina', 'diseny_cocina', 'alta_calidad', 'reform_inmob', 'dum_mar_200m', 'dum_ttpp_riel_urb', 'dist_near_riel_km', 'dist_near_viappal_km', 'C_contempo', 'C_estado', 'C_armarios', 'B_contempo', 'B_estado', 'B_lavamano', 'R_contempo', 'R_estado', 'R_carpinte', 'R_singular', 'R_ventana', 'Dum_precio', 'Precio_red', 'scrap_year', 'persona', 'filter_$', 'FAC1_1', 'FAC2_1', 'Muestra_2023', 'EPC_A_emision_2023', 'EPC_B_emision_2023', 'EPC_C_emision_2023', 'EPC_D_emision_2023', 'EPC_E_emision_2023', 'EPC_F_emision_2023', 'EPC_G_emision_2023']\n"
     ]
    }
   ],
   "source": [
    "print(h.columns.tolist())"
   ]
  },
  {
   "cell_type": "markdown",
   "id": "b2d8be59-ae50-4f46-8de2-cf03422ce647",
   "metadata": {
    "tags": []
   },
   "source": [
    "Son muchas, y como no quiero marearme, debo ver la forma de identificarlas de una mejora manera. \n",
    "\n",
    "Recuerdo que Carlos me comentó que estas columnas eran o categóricas; por tanto, tienen poca variedad de datos. Vamos a ejecutar un línea de código que me permita buscar columnas con estas características."
   ]
  },
  {
   "cell_type": "code",
   "execution_count": 5,
   "id": "396d6967-16db-4e24-92a9-6a8d04db9398",
   "metadata": {
    "collapsed": true,
    "jupyter": {
     "outputs_hidden": true
    },
    "tags": []
   },
   "outputs": [
    {
     "data": {
      "text/plain": [
       "Index(['Type_build', 'Type_opera', 'Climatic_Z', 'numero_aseo', 'ascensor',\n",
       "       'Year_Before_1981', 'Year_1982_2006', 'Year_After_2007',\n",
       "       'grand_terr_20m2', 'superficie_jardin_m2', 'bool_despacho',\n",
       "       'bool_buhardilla', 'bool_trastero', 'bool_lavadero',\n",
       "       'bool_piscina_comunitaria', 'bool_jardin_comunitario', 'bool_amueblado',\n",
       "       'bool_ascensor', 'bool_aire_acondicionado', 'bool_calefaccion',\n",
       "       'bool_chimenea', 'Dum_EPC', 'EPC_A_emision', 'EPC_B_emision',\n",
       "       'EPC_C_emision', 'EPC_D_emision', 'EPC_E_emision', 'EPC_F_emision',\n",
       "       'EPC_G_emision', 'dum_acces_viappal', 'calidad_cocina', 'diseny_cocina',\n",
       "       'alta_calidad', 'reform_inmob', 'dum_mar_200m', 'dum_ttpp_riel_urb',\n",
       "       'C_contempo', 'C_estado', 'C_armarios', 'B_contempo', 'B_estado',\n",
       "       'B_lavamano', 'R_contempo', 'R_estado', 'R_carpinte', 'R_singular',\n",
       "       'R_ventana', 'Dum_precio', 'scrap_year', 'filter_$', 'Muestra_2023',\n",
       "       'EPC_A_emision_2023', 'EPC_B_emision_2023', 'EPC_C_emision_2023',\n",
       "       'EPC_D_emision_2023', 'EPC_E_emision_2023', 'EPC_F_emision_2023',\n",
       "       'EPC_G_emision_2023'],\n",
       "      dtype='object')"
      ]
     },
     "execution_count": 5,
     "metadata": {},
     "output_type": "execute_result"
    }
   ],
   "source": [
    "unique_counts = h.nunique()\n",
    "colinteres = unique_counts[unique_counts < 5].index\n",
    "colinteres"
   ]
  },
  {
   "cell_type": "markdown",
   "id": "844a45b3-eb31-4e4b-b5d5-5e8e9af6b3a3",
   "metadata": {},
   "source": [
    "Y ahora las puedo identificar con mayor facilidad. Son todas aquellas desde `C_contempo` hasta `R_ventana`. Vamos a revisar rápidamente cómo se ven."
   ]
  },
  {
   "cell_type": "code",
   "execution_count": 6,
   "id": "3628dac0-04cb-4a07-97f4-b74661e2a59d",
   "metadata": {
    "tags": []
   },
   "outputs": [
    {
     "data": {
      "text/html": [
       "<div>\n",
       "<style scoped>\n",
       "    .dataframe tbody tr th:only-of-type {\n",
       "        vertical-align: middle;\n",
       "    }\n",
       "\n",
       "    .dataframe tbody tr th {\n",
       "        vertical-align: top;\n",
       "    }\n",
       "\n",
       "    .dataframe thead th {\n",
       "        text-align: right;\n",
       "    }\n",
       "</style>\n",
       "<table border=\"1\" class=\"dataframe\">\n",
       "  <thead>\n",
       "    <tr style=\"text-align: right;\">\n",
       "      <th></th>\n",
       "      <th>C_contempo</th>\n",
       "      <th>C_estado</th>\n",
       "      <th>C_armarios</th>\n",
       "      <th>B_contempo</th>\n",
       "      <th>B_estado</th>\n",
       "      <th>B_lavamano</th>\n",
       "      <th>R_contempo</th>\n",
       "      <th>R_estado</th>\n",
       "      <th>R_carpinte</th>\n",
       "      <th>R_singular</th>\n",
       "      <th>R_ventana</th>\n",
       "    </tr>\n",
       "  </thead>\n",
       "  <tbody>\n",
       "    <tr>\n",
       "      <th>0</th>\n",
       "      <td>1.0</td>\n",
       "      <td>1.0</td>\n",
       "      <td>1.0</td>\n",
       "      <td>1.0</td>\n",
       "      <td>1.0</td>\n",
       "      <td>0.0</td>\n",
       "      <td>1.0</td>\n",
       "      <td>1.0</td>\n",
       "      <td>1.0</td>\n",
       "      <td>0.0</td>\n",
       "      <td>0.0</td>\n",
       "    </tr>\n",
       "    <tr>\n",
       "      <th>1</th>\n",
       "      <td>1.0</td>\n",
       "      <td>2.0</td>\n",
       "      <td>0.0</td>\n",
       "      <td>1.0</td>\n",
       "      <td>1.0</td>\n",
       "      <td>0.0</td>\n",
       "      <td>1.0</td>\n",
       "      <td>1.0</td>\n",
       "      <td>1.0</td>\n",
       "      <td>0.0</td>\n",
       "      <td>0.0</td>\n",
       "    </tr>\n",
       "    <tr>\n",
       "      <th>2</th>\n",
       "      <td>0.0</td>\n",
       "      <td>1.0</td>\n",
       "      <td>1.0</td>\n",
       "      <td>0.0</td>\n",
       "      <td>1.0</td>\n",
       "      <td>0.0</td>\n",
       "      <td>1.0</td>\n",
       "      <td>2.0</td>\n",
       "      <td>1.0</td>\n",
       "      <td>0.0</td>\n",
       "      <td>1.0</td>\n",
       "    </tr>\n",
       "    <tr>\n",
       "      <th>3</th>\n",
       "      <td>1.0</td>\n",
       "      <td>2.0</td>\n",
       "      <td>1.0</td>\n",
       "      <td>0.0</td>\n",
       "      <td>1.0</td>\n",
       "      <td>0.0</td>\n",
       "      <td>0.0</td>\n",
       "      <td>1.0</td>\n",
       "      <td>1.0</td>\n",
       "      <td>0.0</td>\n",
       "      <td>1.0</td>\n",
       "    </tr>\n",
       "    <tr>\n",
       "      <th>4</th>\n",
       "      <td>1.0</td>\n",
       "      <td>2.0</td>\n",
       "      <td>1.0</td>\n",
       "      <td>1.0</td>\n",
       "      <td>2.0</td>\n",
       "      <td>1.0</td>\n",
       "      <td>1.0</td>\n",
       "      <td>2.0</td>\n",
       "      <td>1.0</td>\n",
       "      <td>0.0</td>\n",
       "      <td>1.0</td>\n",
       "    </tr>\n",
       "  </tbody>\n",
       "</table>\n",
       "</div>"
      ],
      "text/plain": [
       "   C_contempo  C_estado  C_armarios  B_contempo  B_estado  B_lavamano  \\\n",
       "0         1.0       1.0         1.0         1.0       1.0         0.0   \n",
       "1         1.0       2.0         0.0         1.0       1.0         0.0   \n",
       "2         0.0       1.0         1.0         0.0       1.0         0.0   \n",
       "3         1.0       2.0         1.0         0.0       1.0         0.0   \n",
       "4         1.0       2.0         1.0         1.0       2.0         1.0   \n",
       "\n",
       "   R_contempo  R_estado  R_carpinte  R_singular  R_ventana  \n",
       "0         1.0       1.0         1.0         0.0        0.0  \n",
       "1         1.0       1.0         1.0         0.0        0.0  \n",
       "2         1.0       2.0         1.0         0.0        1.0  \n",
       "3         0.0       1.0         1.0         0.0        1.0  \n",
       "4         1.0       2.0         1.0         0.0        1.0  "
      ]
     },
     "execution_count": 6,
     "metadata": {},
     "output_type": "execute_result"
    }
   ],
   "source": [
    "calidad=['C_contempo', 'C_estado', 'C_armarios', 'B_contempo', 'B_estado',\n",
    "       'B_lavamano', 'R_contempo', 'R_estado', 'R_carpinte', 'R_singular',\n",
    "       'R_ventana']\n",
    "h[calidad].head()"
   ]
  },
  {
   "cell_type": "markdown",
   "id": "6c0c8ea2-969c-4fef-a5bd-9191f50da297",
   "metadata": {},
   "source": [
    "# 2. Análisis de Componentes Principales"
   ]
  },
  {
   "cell_type": "markdown",
   "id": "8603e8f7-8b89-4fd7-9a4b-3568cdef1ffd",
   "metadata": {
    "tags": []
   },
   "source": [
    "Para reducirlas, voy a hacer un Análisis de Componentes Principales. Una de las reglas para decidir en cuántos factores se va a sintetizar la información de todas es que la varianza acumulada de esa cantidad de factores pase el 70%."
   ]
  },
  {
   "cell_type": "code",
   "execution_count": 15,
   "id": "c18e78e9-2974-4330-82e8-3252702d1942",
   "metadata": {
    "tags": []
   },
   "outputs": [
    {
     "name": "stdout",
     "output_type": "stream",
     "text": [
      "Tabla de Varianza Total Explicada:\n",
      "         SS Loadings  Proportion Var  Cumulative Var\n",
      "Factor1     4.650263        0.422751        0.422751\n",
      "Factor2     1.143429        0.103948        0.526699\n"
     ]
    }
   ],
   "source": [
    "from factor_analyzer import FactorAnalyzer #librería especializada para hacer ACP\n",
    "\n",
    "#Le indicamos en qué columnas se va a centrar\n",
    "df = h[calidad]\n",
    "\n",
    "#Le pedimos un ACP con rotación varimax y N factores\n",
    "fa = FactorAnalyzer(rotation='varimax', n_factors=2, #esto lo indican ustedes, deben ir probanod \n",
    "                    method='principal')\n",
    "fa.fit(df)\n",
    "\n",
    "# Obtener la varianza total explicada\n",
    "total_variance = fa.get_factor_variance()\n",
    "\n",
    "# Crear un DataFrame para mostrar la tabla de la varianza total explicada\n",
    "explained_variance_df = pd.DataFrame(total_variance, columns=['Factor1', 'Factor2'], #Deben aumentar o disminuir según la \n",
    "                                                                         #cantidad de factores que hayan indicado\n",
    "                                     index=['SS Loadings', 'Proportion Var', 'Cumulative Var'])\n",
    "\n",
    "#Esto es solo para que la tabla se vea mejor\n",
    "explained_variance_df = explained_variance_df.transpose()\n",
    "\n",
    "print(\"Tabla de Varianza Total Explicada:\")\n",
    "print(explained_variance_df)"
   ]
  },
  {
   "cell_type": "code",
   "execution_count": 16,
   "id": "7a1e5475-1fd7-4238-94c1-6423e6becf3e",
   "metadata": {},
   "outputs": [
    {
     "data": {
      "text/html": [
       "<div>\n",
       "<style scoped>\n",
       "    .dataframe tbody tr th:only-of-type {\n",
       "        vertical-align: middle;\n",
       "    }\n",
       "\n",
       "    .dataframe tbody tr th {\n",
       "        vertical-align: top;\n",
       "    }\n",
       "\n",
       "    .dataframe thead th {\n",
       "        text-align: right;\n",
       "    }\n",
       "</style>\n",
       "<table border=\"1\" class=\"dataframe\">\n",
       "  <thead>\n",
       "    <tr style=\"text-align: right;\">\n",
       "      <th></th>\n",
       "      <th>C_contempo</th>\n",
       "      <th>C_estado</th>\n",
       "      <th>C_armarios</th>\n",
       "      <th>B_contempo</th>\n",
       "      <th>B_estado</th>\n",
       "      <th>B_lavamano</th>\n",
       "      <th>R_contempo</th>\n",
       "      <th>R_estado</th>\n",
       "      <th>R_carpinte</th>\n",
       "      <th>R_singular</th>\n",
       "      <th>R_ventana</th>\n",
       "    </tr>\n",
       "  </thead>\n",
       "  <tbody>\n",
       "    <tr>\n",
       "      <th>0</th>\n",
       "      <td>0.775212</td>\n",
       "      <td>0.814762</td>\n",
       "      <td>0.169968</td>\n",
       "      <td>0.813414</td>\n",
       "      <td>0.811986</td>\n",
       "      <td>0.510539</td>\n",
       "      <td>0.788460</td>\n",
       "      <td>0.789415</td>\n",
       "      <td>0.537582</td>\n",
       "      <td>0.383279</td>\n",
       "      <td>0.306966</td>\n",
       "    </tr>\n",
       "    <tr>\n",
       "      <th>1</th>\n",
       "      <td>-0.033660</td>\n",
       "      <td>0.190629</td>\n",
       "      <td>0.724323</td>\n",
       "      <td>-0.067055</td>\n",
       "      <td>0.143722</td>\n",
       "      <td>0.172656</td>\n",
       "      <td>-0.035688</td>\n",
       "      <td>0.165068</td>\n",
       "      <td>0.297338</td>\n",
       "      <td>-0.532695</td>\n",
       "      <td>0.354480</td>\n",
       "    </tr>\n",
       "  </tbody>\n",
       "</table>\n",
       "</div>"
      ],
      "text/plain": [
       "   C_contempo  C_estado  C_armarios  B_contempo  B_estado  B_lavamano  \\\n",
       "0    0.775212  0.814762    0.169968    0.813414  0.811986    0.510539   \n",
       "1   -0.033660  0.190629    0.724323   -0.067055  0.143722    0.172656   \n",
       "\n",
       "   R_contempo  R_estado  R_carpinte  R_singular  R_ventana  \n",
       "0    0.788460  0.789415    0.537582    0.383279   0.306966  \n",
       "1   -0.035688  0.165068    0.297338   -0.532695   0.354480  "
      ]
     },
     "execution_count": 16,
     "metadata": {},
     "output_type": "execute_result"
    }
   ],
   "source": [
    "rotated_loadings = fa.loadings_\n",
    "\n",
    "# Transponer la matriz de cargas rotadas para que las columnas coincidan con las variables\n",
    "rotated_loadings_transposed = rotated_loadings.T\n",
    "\n",
    "rotated_df = pd.DataFrame(rotated_loadings_transposed, columns=df.columns)\n",
    "\n",
    "rotated_df"
   ]
  },
  {
   "cell_type": "markdown",
   "id": "31e28736-3cfb-4aa5-a75d-1ea5fd693d63",
   "metadata": {},
   "source": [
    "Para que se entienda mejor lo podemos ordenar por colores."
   ]
  },
  {
   "cell_type": "code",
   "execution_count": 20,
   "id": "164d76ed-b859-43dd-b2ad-5e8a2690bb22",
   "metadata": {
    "tags": []
   },
   "outputs": [
    {
     "data": {
      "image/png": "[encoded data removed]",
      "text/plain": [
       "<Figure size 1000x200 with 1 Axes>"
      ]
     },
     "metadata": {},
     "output_type": "display_data"
    }
   ],
   "source": [
    "import seaborn as sns\n",
    "import matplotlib.pyplot as plt\n",
    "\n",
    "# Definir los colores para el mapa de calor\n",
    "cmap = sns.diverging_palette(20, 220, as_cmap=True)\n",
    "\n",
    "# Crear el mapa de calor\n",
    "plt.figure(figsize=(10, 2)) #Altura y ancho, lo pueden variar\n",
    "sns.heatmap(rotated_df, cmap=cmap, annot=True, fmt=\".2f\", cbar=False, vmin=rotated_df.min().min(), vmax=rotated_df.max().max())\n",
    "plt.title('Mapa de Calor de Cargas Rotadas')\n",
    "plt.xlabel('Variables')\n",
    "plt.ylabel('Factores')\n",
    "plt.show()"
   ]
  },
  {
   "cell_type": "markdown",
   "id": "d62a696c-e006-4ea3-a892-ac200425f2b9",
   "metadata": {},
   "source": [
    "Veo que los valores `0` me acercan a medir el estado de la contemporaneidad y calidad, mientras que los `1` me acercan a medir la ausencia de singularidad y a la posibilidad de tener armarios en la cocina. \n",
    "\n",
    "Por tanto, los denomino así y los incluyo en mi base de datos inicial."
   ]
  },
  {
   "cell_type": "code",
   "execution_count": 21,
   "id": "0a84b011-5703-4c0a-9a92-6016ad6d962c",
   "metadata": {},
   "outputs": [],
   "source": [
    "# Obtener los factores extraídos\n",
    "factors = fa.transform(df)\n",
    "\n",
    "# Agregar los factores al DataFrame original\n",
    "h['Estado_contemporaneidad_calidad'] = factors[:, 0] #Este es el número que me interesa\n",
    "h['Ausencia_singulares_presencia_arm_cocina'] = factors[:, 1] #Este es el número que me interesa"
   ]
  },
  {
   "cell_type": "code",
   "execution_count": 23,
   "id": "f183ec9b-2efb-43cb-9082-8c5d511e4192",
   "metadata": {
    "tags": []
   },
   "outputs": [
    {
     "name": "stdout",
     "output_type": "stream",
     "text": [
      "['OBJECTID_1', 'codigo_inmueble1', 'Title', 'Type_build', 'Type_opera', 'Link', 'Location', 'Lat_X', 'Lon_Y', 'Climatic_Z', 'Nom_Mun', 'precio_eur', 'superficie', 'superficie_2', 'Unit_price', 'Ln_total_pr', 'Ln_unit_pr', 'numero_habitaciones', 'numero_bano', 'ratio_bano_hab', 'numero_aseo', 'ascensor', 'interac_planta', 'numero_de_piso', 'anyo_constr', 'anyo_constr_ponderad', 'antig_ponderad', 'Inverse_Age', 'Year_Before_1981', 'Year_1982_2006', 'Year_After_2007', 'superficie_terraza_m2', 'grand_terr_20m2', 'superficie_jardin_m2', 'superficie_salon', 'bool_despacho', 'bool_buhardilla', 'bool_trastero', 'bool_lavadero', 'bool_piscina_comunitaria', 'bool_jardin_comunitario', 'bool_amueblado', 'bool_ascensor', 'descripcion', 'bool_aire_acondicionado', 'bool_calefaccion', 'bool_chimenea', 'texto_destacado', 'Description', 'calificacion_consumo_letra', 'calificacion_consumo_valor', 'calificacion_emision_letra', 'calificacion_emision_valor', 'Dum_EPC', 'EPC_A_emision', 'EPC_B_emision', 'EPC_C_emision', 'EPC_D_emision', 'EPC_E_emision', 'EPC_F_emision', 'EPC_G_emision', 'COD_MUN', 'temp_enero', 'temp_julio', 'radiacion_enero', 'radiacion_julio', 'POB_91', 'POB_01', 'POB_06', 'POR_01', 'LTL1991_M', 'LTL_2001', 'DLTL_MUN', 'RW', 'FLE', 'FLS', 'SUP_URB_90', 'SUP_URB_00', 'Job_ratio_01', 'Autocontencion_01', 'Nodalidad_01', 'Dist_CBD', 'Dist_CBD2', 'Dist_sub_center', 'Elevation_Mean', 'dum_acces_viappal', 'IND_pr', 'FIRE_pr', 'Div_LandUse', 'COD_SEC', 'pr_directivo', 'pr_tecnico_prof', 'pr_tecnico_apoyo', 'pr_empl_admin', 'pr_restaur_comer', 'pr_agri_calificado', 'pr_artesano', 'pr_operador', 'pr_no_calif', 'desplaz_ponderado', 'plant_ras_pond', 'edif_ruin_pr', 'edif_malo_pr', 'edif_deficient_pr', 'edif_bueno_pr', 'Doorman_pr', 'opin_ruido_si_pr', 'opin_contam_si_pr', 'opin_calle_sucia_pr', 'opin_mala_comunic_pr', 'opin_pocazonaverde_pr', 'opin_delincuencia_pr', 'opin_falta_aseo_pr', 'local_salud_pr', 'local_edu_pr', 'local_social_pr', 'local_cult_pr', 'local_comerc_pr', 'local_oficinas_pr', 'local_industr_pr', 'local_agrar_pr', 'POB_TOTAL', 'POB_RESID', 'LOC_TOTAL', 'POR_TOTAL', 'LOC_VIV_TOTAL', 'dens_loc_100hab', 'dens_loc_sup', 'dens_pob_sup', 'estud_sin_pr', 'estud_primer_pr', 'estud_segund_pr', 'estud_tercer_pr', 'VIV_ppales_TOTAL', 'Sup_viv_sec', 'viv_ppales_pr', 'viv_no_ppales_pr', 'viv_secundarias_pr', 'viv_vacias_pr', 'viv_unifam_pr', 'viv_aptos_pr', 'resi_euro_pr', 'resi_africa_pr', 'resi_america_pr', 'resi_asia_pr', 'resi_oceania_pr', 'H_ocup_POR', 'H_loc_INE', 'H_tamaviv', 'H_ocup_POR_Xpor', 'H_loc_INE_XLOCS', 'H_tamaviv_Xvivs', 'CT_renta_alta_CPA', 'CT_renta_meda_CPA', 'CT_renta_medb_CPA', 'Income_Household_2016', 'DP2e', 'Dens_Time_total', 'Dens_Time_total_work', 'Dens_Time_total_Nwork', 'Dens_pers_act_total', 'Dens_pers_act_working', 'Dens_pers_act_Nworking', 'Div_total_work', 'Div_act_work', 'Div_socio_work', 'Div_total_Nwork', 'Div_act_Nwork', 'Div_socio_Nwork', 'calidad_cocina', 'diseny_cocina', 'alta_calidad', 'reform_inmob', 'dum_mar_200m', 'dum_ttpp_riel_urb', 'dist_near_riel_km', 'dist_near_viappal_km', 'C_contempo', 'C_estado', 'C_armarios', 'B_contempo', 'B_estado', 'B_lavamano', 'R_contempo', 'R_estado', 'R_carpinte', 'R_singular', 'R_ventana', 'Dum_precio', 'Precio_red', 'scrap_year', 'persona', 'filter_$', 'FAC1_1', 'FAC2_1', 'Muestra_2023', 'EPC_A_emision_2023', 'EPC_B_emision_2023', 'EPC_C_emision_2023', 'EPC_D_emision_2023', 'EPC_E_emision_2023', 'EPC_F_emision_2023', 'EPC_G_emision_2023', 'Estado_contemporaneidad_calidad', 'Ausencia_singulares_presencia_arm_cocina']\n"
     ]
    }
   ],
   "source": [
    "print(h.columns.tolist())"
   ]
  },
  {
   "cell_type": "markdown",
   "id": "6b84f498-53c2-4c02-b019-c3edae8fb1a6",
   "metadata": {},
   "source": [
    "Ya están mis dos factores nuevos. Ahora guardo mi nueva base de datos."
   ]
  },
  {
   "cell_type": "code",
   "execution_count": 24,
   "id": "872a4610-a930-4574-b68f-81a1c85e9980",
   "metadata": {
    "tags": []
   },
   "outputs": [],
   "source": [
    "h.to_csv('data/datos4k.csv')"
   ]
  }
 ],
 "metadata": {
  "kernelspec": {
   "display_name": "Python 3 (ipykernel)",
   "language": "python",
   "name": "python3"
  },
  "language_info": {
   "codemirror_mode": {
    "name": "ipython",
    "version": 3
   },
   "file_extension": ".py",
   "mimetype": "text/x-python",
   "name": "python",
   "nbconvert_exporter": "python",
   "pygments_lexer": "ipython3",
   "version": "3.11.5"
  }
 },
 "nbformat": 4,
 "nbformat_minor": 5
}
