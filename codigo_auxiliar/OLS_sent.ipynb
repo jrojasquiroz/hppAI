{
 "cells": [
  {
   "cell_type": "markdown",
   "id": "8f5e75e5-2a5f-4b21-a7d3-79b9d376a631",
   "metadata": {},
   "source": [
    "# Impacto de BERT y análisis de sentimiento en el modelo OLS"
   ]
  },
  {
   "cell_type": "markdown",
   "id": "cdb70fe1-0733-4818-b2c6-26f6d234be7a",
   "metadata": {
    "jp-MarkdownHeadingCollapsed": true,
    "tags": []
   },
   "source": [
    "## Importación de datos y limpieza del *dataframe*."
   ]
  },
  {
   "cell_type": "code",
   "execution_count": 1,
   "id": "999ffdb6-5c01-4de7-9134-94dc32042035",
   "metadata": {
    "jupyter": {
     "source_hidden": true
    },
    "tags": []
   },
   "outputs": [],
   "source": [
    "import pandas as pd #permite manipular los dataframes, que serían el equivalente a los Excel\n",
    "import numpy as np #en caso se necesiten cálculos numéricos, como p. ej. encontrar valores nulos \n",
    "import statsmodels.api as sm #para elaborar modelos OLS\n",
    "\n",
    "base=pd.read_csv('data/clases/habitaclia4043_1y2.csv') #aquí embedding BERT\n",
    "base2=pd.read_csv('data/clases/habitaclia4043_3.csv') #aquí el análisis de sentimiento"
   ]
  },
  {
   "cell_type": "code",
   "execution_count": 2,
   "id": "52f9eee3-d1f1-4f35-9cdc-d34e7e35ebd9",
   "metadata": {
    "collapsed": true,
    "jupyter": {
     "outputs_hidden": true,
     "source_hidden": true
    },
    "tags": []
   },
   "outputs": [
    {
     "name": "stdout",
     "output_type": "stream",
     "text": [
      "['Unnamed: 0.2', 'Unnamed: 0.1', 'Unnamed: 0', 'OBJECTID_1', 'codigo_inmueble1', 'Title', 'Type_build', 'Type_opera', 'Link', 'Location', 'Lat_X', 'Lon_Y', 'Climatic_Z', 'Nom_Mun', 'precio_eur', 'superficie', 'superficie_2', 'Unit_price', 'Ln_total_pr', 'Ln_unit_pr', 'numero_habitaciones', 'numero_bano', 'ratio_bano_hab', 'numero_aseo', 'ascensor', 'interac_planta', 'numero_de_piso', 'anyo_constr', 'anyo_constr_ponderad', 'antig_ponderad', 'Inverse_Age', 'Year_Before_1981', 'Year_1982_2006', 'Year_After_2007', 'superficie_terraza_m2', 'grand_terr_20m2', 'superficie_jardin_m2', 'superficie_salon', 'bool_despacho', 'bool_buhardilla', 'bool_trastero', 'bool_lavadero', 'bool_piscina_comunitaria', 'bool_jardin_comunitario', 'bool_amueblado', 'bool_ascensor', 'descripcion', 'bool_aire_acondicionado', 'bool_calefaccion', 'bool_chimenea', 'texto_destacado', 'Description', 'calificacion_consumo_letra', 'calificacion_consumo_valor', 'calificacion_emision_letra', 'calificacion_emision_valor', 'Dum_EPC', 'EPC_A_emision', 'EPC_B_emision', 'EPC_C_emision', 'EPC_D_emision', 'EPC_E_emision', 'EPC_F_emision', 'EPC_G_emision', 'COD_MUN', 'temp_enero', 'temp_julio', 'radiacion_enero', 'radiacion_julio', 'POB_91', 'POB_01', 'POB_06', 'POR_01', 'LTL1991_M', 'LTL_2001', 'DLTL_MUN', 'RW', 'FLE', 'FLS', 'SUP_URB_90', 'SUP_URB_00', 'Job_ratio_01', 'Autocontencion_01', 'Nodalidad_01', 'Dist_CBD', 'Dist_CBD2', 'Dist_sub_center', 'Elevation_Mean', 'dum_acces_viappal', 'IND_pr', 'FIRE_pr', 'Div_LandUse', 'COD_SEC', 'pr_directivo', 'pr_tecnico_prof', 'pr_tecnico_apoyo', 'pr_empl_admin', 'pr_restaur_comer', 'pr_agri_calificado', 'pr_artesano', 'pr_operador', 'pr_no_calif', 'desplaz_ponderado', 'plant_ras_pond', 'edif_ruin_pr', 'edif_malo_pr', 'edif_deficient_pr', 'edif_bueno_pr', 'Doorman_pr', 'opin_ruido_si_pr', 'opin_contam_si_pr', 'opin_calle_sucia_pr', 'opin_mala_comunic_pr', 'opin_pocazonaverde_pr', 'opin_delincuencia_pr', 'opin_falta_aseo_pr', 'local_salud_pr', 'local_edu_pr', 'local_social_pr', 'local_cult_pr', 'local_comerc_pr', 'local_oficinas_pr', 'local_industr_pr', 'local_agrar_pr', 'POB_TOTAL', 'POB_RESID', 'LOC_TOTAL', 'POR_TOTAL', 'LOC_VIV_TOTAL', 'dens_loc_100hab', 'dens_loc_sup', 'dens_pob_sup', 'estud_sin_pr', 'estud_primer_pr', 'estud_segund_pr', 'estud_tercer_pr', 'VIV_ppales_TOTAL', 'Sup_viv_sec', 'viv_ppales_pr', 'viv_no_ppales_pr', 'viv_secundarias_pr', 'viv_vacias_pr', 'viv_unifam_pr', 'viv_aptos_pr', 'resi_euro_pr', 'resi_africa_pr', 'resi_america_pr', 'resi_asia_pr', 'resi_oceania_pr', 'H_ocup_POR', 'H_loc_INE', 'H_tamaviv', 'H_ocup_POR_Xpor', 'H_loc_INE_XLOCS', 'H_tamaviv_Xvivs', 'CT_renta_alta_CPA', 'CT_renta_meda_CPA', 'CT_renta_medb_CPA', 'Income_Household_2016', 'DP2e', 'Dens_Time_total', 'Dens_Time_total_work', 'Dens_Time_total_Nwork', 'Dens_pers_act_total', 'Dens_pers_act_working', 'Dens_pers_act_Nworking', 'Div_total_work', 'Div_act_work', 'Div_socio_work', 'Div_total_Nwork', 'Div_act_Nwork', 'Div_socio_Nwork', 'calidad_cocina', 'diseny_cocina', 'alta_calidad', 'reform_inmob', 'dum_mar_200m', 'dum_ttpp_riel_urb', 'dist_near_riel_km', 'dist_near_viappal_km', 'C_contempo', 'C_estado', 'C_armarios', 'B_contempo', 'B_estado', 'B_lavamano', 'R_contempo', 'R_estado', 'R_carpinte', 'R_singular', 'R_ventana', 'Dum_precio', 'Precio_red', 'scrap_year', 'persona', 'filter_$', 'Estado_contemporaneidad_calidad', 'Ausencia_singulares_presencia_arm_cocina', 'Muestra_2023', 'EPC_A_emision_2023', 'EPC_B_emision_2023', 'EPC_C_emision_2023', 'EPC_D_emision_2023', 'EPC_E_emision_2023', 'EPC_F_emision_2023', 'EPC_G_emision_2023', 'cl_descrip', 'cantidad_palabras', 'Language', 'BERT', 'mpBERT', 'POS', 'NEU', 'NEG', 'ACP_NEU_noPOS', 'ACP_NEG']\n"
     ]
    }
   ],
   "source": [
    "print(base2.columns.tolist())"
   ]
  },
  {
   "cell_type": "code",
   "execution_count": 3,
   "id": "77bf6792-a706-44aa-91b4-ba5b90308610",
   "metadata": {
    "collapsed": true,
    "jupyter": {
     "outputs_hidden": true,
     "source_hidden": true
    },
    "tags": []
   },
   "outputs": [
    {
     "name": "stdout",
     "output_type": "stream",
     "text": [
      "['Unnamed: 0.1', 'Unnamed: 0', 'OBJECTID_1', 'codigo_inmueble1', 'Title', 'Type_build', 'Type_opera', 'Link', 'Location', 'Lat_X', 'Lon_Y', 'Climatic_Z', 'Nom_Mun', 'precio_eur', 'superficie', 'superficie_2', 'Unit_price', 'Ln_total_pr', 'Ln_unit_pr', 'numero_habitaciones', 'numero_bano', 'ratio_bano_hab', 'numero_aseo', 'ascensor', 'interac_planta', 'numero_de_piso', 'anyo_constr', 'anyo_constr_ponderad', 'antig_ponderad', 'Inverse_Age', 'Year_Before_1981', 'Year_1982_2006', 'Year_After_2007', 'superficie_terraza_m2', 'grand_terr_20m2', 'superficie_jardin_m2', 'superficie_salon', 'bool_despacho', 'bool_buhardilla', 'bool_trastero', 'bool_lavadero', 'bool_piscina_comunitaria', 'bool_jardin_comunitario', 'bool_amueblado', 'bool_ascensor', 'descripcion', 'bool_aire_acondicionado', 'bool_calefaccion', 'bool_chimenea', 'texto_destacado', 'Description', 'calificacion_consumo_letra', 'calificacion_consumo_valor', 'calificacion_emision_letra', 'calificacion_emision_valor', 'Dum_EPC', 'EPC_A_emision', 'EPC_B_emision', 'EPC_C_emision', 'EPC_D_emision', 'EPC_E_emision', 'EPC_F_emision', 'EPC_G_emision', 'COD_MUN', 'temp_enero', 'temp_julio', 'radiacion_enero', 'radiacion_julio', 'POB_91', 'POB_01', 'POB_06', 'POR_01', 'LTL1991_M', 'LTL_2001', 'DLTL_MUN', 'RW', 'FLE', 'FLS', 'SUP_URB_90', 'SUP_URB_00', 'Job_ratio_01', 'Autocontencion_01', 'Nodalidad_01', 'Dist_CBD', 'Dist_CBD2', 'Dist_sub_center', 'Elevation_Mean', 'dum_acces_viappal', 'IND_pr', 'FIRE_pr', 'Div_LandUse', 'COD_SEC', 'pr_directivo', 'pr_tecnico_prof', 'pr_tecnico_apoyo', 'pr_empl_admin', 'pr_restaur_comer', 'pr_agri_calificado', 'pr_artesano', 'pr_operador', 'pr_no_calif', 'desplaz_ponderado', 'plant_ras_pond', 'edif_ruin_pr', 'edif_malo_pr', 'edif_deficient_pr', 'edif_bueno_pr', 'Doorman_pr', 'opin_ruido_si_pr', 'opin_contam_si_pr', 'opin_calle_sucia_pr', 'opin_mala_comunic_pr', 'opin_pocazonaverde_pr', 'opin_delincuencia_pr', 'opin_falta_aseo_pr', 'local_salud_pr', 'local_edu_pr', 'local_social_pr', 'local_cult_pr', 'local_comerc_pr', 'local_oficinas_pr', 'local_industr_pr', 'local_agrar_pr', 'POB_TOTAL', 'POB_RESID', 'LOC_TOTAL', 'POR_TOTAL', 'LOC_VIV_TOTAL', 'dens_loc_100hab', 'dens_loc_sup', 'dens_pob_sup', 'estud_sin_pr', 'estud_primer_pr', 'estud_segund_pr', 'estud_tercer_pr', 'VIV_ppales_TOTAL', 'Sup_viv_sec', 'viv_ppales_pr', 'viv_no_ppales_pr', 'viv_secundarias_pr', 'viv_vacias_pr', 'viv_unifam_pr', 'viv_aptos_pr', 'resi_euro_pr', 'resi_africa_pr', 'resi_america_pr', 'resi_asia_pr', 'resi_oceania_pr', 'H_ocup_POR', 'H_loc_INE', 'H_tamaviv', 'H_ocup_POR_Xpor', 'H_loc_INE_XLOCS', 'H_tamaviv_Xvivs', 'CT_renta_alta_CPA', 'CT_renta_meda_CPA', 'CT_renta_medb_CPA', 'Income_Household_2016', 'DP2e', 'Dens_Time_total', 'Dens_Time_total_work', 'Dens_Time_total_Nwork', 'Dens_pers_act_total', 'Dens_pers_act_working', 'Dens_pers_act_Nworking', 'Div_total_work', 'Div_act_work', 'Div_socio_work', 'Div_total_Nwork', 'Div_act_Nwork', 'Div_socio_Nwork', 'calidad_cocina', 'diseny_cocina', 'alta_calidad', 'reform_inmob', 'dum_mar_200m', 'dum_ttpp_riel_urb', 'dist_near_riel_km', 'dist_near_viappal_km', 'C_contempo', 'C_estado', 'C_armarios', 'B_contempo', 'B_estado', 'B_lavamano', 'R_contempo', 'R_estado', 'R_carpinte', 'R_singular', 'R_ventana', 'Dum_precio', 'Precio_red', 'scrap_year', 'persona', 'filter_$', 'Estado_contemporaneidad_calidad', 'Ausencia_singulares_presencia_arm_cocina', 'Muestra_2023', 'EPC_A_emision_2023', 'EPC_B_emision_2023', 'EPC_C_emision_2023', 'EPC_D_emision_2023', 'EPC_E_emision_2023', 'EPC_F_emision_2023', 'EPC_G_emision_2023', 'cl_descrip', 'cantidad_palabras', 'Language', 'BERT', 'mpBERT']\n"
     ]
    }
   ],
   "source": [
    "print(base.columns.tolist())"
   ]
  },
  {
   "cell_type": "code",
   "execution_count": 4,
   "id": "31cfa74d-594a-4cec-8d65-1d8f3d914d42",
   "metadata": {
    "collapsed": true,
    "jupyter": {
     "outputs_hidden": true,
     "source_hidden": true
    },
    "tags": []
   },
   "outputs": [
    {
     "name": "stdout",
     "output_type": "stream",
     "text": [
      "<class 'pandas.core.frame.DataFrame'>\n",
      "RangeIndex: 4043 entries, 0 to 4042\n",
      "Data columns (total 33 columns):\n",
      " #   Column                                    Non-Null Count  Dtype  \n",
      "---  ------                                    --------------  -----  \n",
      " 0   Ausencia_singulares_presencia_arm_cocina  3859 non-null   float64\n",
      " 1   CT_renta_meda_CPA                         4043 non-null   float64\n",
      " 2   DP2e                                      4043 non-null   float64\n",
      " 3   Dist_CBD2                                 4043 non-null   float64\n",
      " 4   EPC_A_emision                             4043 non-null   float64\n",
      " 5   EPC_B_emision                             4043 non-null   float64\n",
      " 6   EPC_C_emision                             4043 non-null   float64\n",
      " 7   EPC_D_emision                             4043 non-null   float64\n",
      " 8   EPC_E_emision                             4043 non-null   float64\n",
      " 9   EPC_F_emision                             4043 non-null   float64\n",
      " 10  Estado_contemporaneidad_calidad           3859 non-null   float64\n",
      " 11  FIRE_pr                                   4043 non-null   float64\n",
      " 12  H_tamaviv                                 4043 non-null   float64\n",
      " 13  Income_Household_2016                     4043 non-null   float64\n",
      " 14  Ln_total_pr                               4043 non-null   float64\n",
      " 15  OBJECTID_1                                4043 non-null   float64\n",
      " 16  Precio_red                                4043 non-null   float64\n",
      " 17  Year_1982_2006                            4043 non-null   float64\n",
      " 18  Year_After_2007                           4043 non-null   float64\n",
      " 19  bool_aire_acondicionado                   4043 non-null   float64\n",
      " 20  bool_ascensor                             4043 non-null   float64\n",
      " 21  bool_calefaccion                          4043 non-null   float64\n",
      " 22  bool_piscina_comunitaria                  4043 non-null   float64\n",
      " 23  desplaz_ponderado                         4043 non-null   float64\n",
      " 24  dum_mar_200m                              4043 non-null   float64\n",
      " 25  grand_terr_20m2                           4043 non-null   float64\n",
      " 26  interac_planta                            4043 non-null   float64\n",
      " 27  mpBERT                                    4043 non-null   float64\n",
      " 28  opin_ruido_si_pr                          4043 non-null   float64\n",
      " 29  ratio_bano_hab                            4034 non-null   float64\n",
      " 30  superficie                                4043 non-null   float64\n",
      " 31  ACP_NEG                                   4043 non-null   float64\n",
      " 32  ACP_NEU_noPOS                             4043 non-null   float64\n",
      "dtypes: float64(33)\n",
      "memory usage: 1.0 MB\n"
     ]
    }
   ],
   "source": [
    "base_columns=['EPC_A_emision', 'EPC_B_emision','EPC_C_emision','EPC_D_emision','EPC_E_emision','EPC_F_emision',\n",
    "    'superficie', 'bool_ascensor', 'interac_planta','bool_piscina_comunitaria',\n",
    "    'Precio_red','Year_1982_2006','Year_After_2007','Estado_contemporaneidad_calidad',\n",
    "    'Ausencia_singulares_presencia_arm_cocina','bool_calefaccion',\n",
    "    'bool_aire_acondicionado', 'ratio_bano_hab','grand_terr_20m2',\n",
    "    'H_tamaviv','FIRE_pr','desplaz_ponderado','Income_Household_2016', 'DP2e',\n",
    "    'CT_renta_meda_CPA','dum_mar_200m','Dist_CBD2','opin_ruido_si_pr','Ln_total_pr',\n",
    "    'OBJECTID_1']\n",
    "\n",
    "base = base[base_columns + ['mpBERT']].sort_index(axis=1)\n",
    "base2 = base2[['OBJECTID_1', 'ACP_NEU_noPOS', 'ACP_NEG']].sort_index(axis=1)\n",
    "\n",
    "df = pd.merge(base, base2, on='OBJECTID_1')\n",
    "df.info()"
   ]
  },
  {
   "cell_type": "markdown",
   "id": "0014e854-a2d5-4b5a-94c7-4b0436006c5c",
   "metadata": {
    "jupyter": {
     "source_hidden": true
    },
    "tags": []
   },
   "source": [
    "Ahora elimino `OBJECTID_1`, dado que la incluí sólo para hacer un match entre dataframes. Ya no la necesito."
   ]
  },
  {
   "cell_type": "code",
   "execution_count": 5,
   "id": "d79686c4-41dc-42e9-9e3d-94923eba6ab1",
   "metadata": {
    "jupyter": {
     "source_hidden": true
    },
    "tags": []
   },
   "outputs": [],
   "source": [
    "df=df.drop('OBJECTID_1',axis=1) #axis 1 son las columnas"
   ]
  },
  {
   "cell_type": "markdown",
   "id": "42331742-e68f-43a9-8442-74ce9070282f",
   "metadata": {
    "tags": []
   },
   "source": [
    "Hago el **filtro de outliers**."
   ]
  },
  {
   "cell_type": "code",
   "execution_count": 7,
   "id": "fde13920-e63d-4e6d-a8b4-7dc344130023",
   "metadata": {
    "tags": []
   },
   "outputs": [],
   "source": [
    "df = df[(df['Ln_total_pr'] >= 11.2842035426135) & (df['Ln_total_pr'] <= 13.8409882055083)]"
   ]
  },
  {
   "cell_type": "markdown",
   "id": "960b4a9e-c7f0-4fcd-8c84-cb00a8e4db33",
   "metadata": {
    "tags": []
   },
   "source": [
    "En caso haya filas vacías, las elimino."
   ]
  },
  {
   "cell_type": "code",
   "execution_count": 9,
   "id": "16970c61-fdcf-4535-9269-c4785f589d39",
   "metadata": {
    "tags": []
   },
   "outputs": [],
   "source": [
    "#Para no sobreescribir, creo una nueva variable: 'df'\n",
    "df = df.replace([np.inf, -np.inf], np.nan).dropna()"
   ]
  },
  {
   "cell_type": "markdown",
   "id": "afc53353-b4d2-41f5-95f0-3c037882709d",
   "metadata": {
    "tags": []
   },
   "source": [
    "Reviso las **correlaciones**."
   ]
  },
  {
   "cell_type": "code",
   "execution_count": 71,
   "id": "bc2f4a4e-2b3b-434a-8075-d639bd5f9b38",
   "metadata": {
    "jupyter": {
     "source_hidden": true
    },
    "tags": []
   },
   "outputs": [
    {
     "name": "stdout",
     "output_type": "stream",
     "text": [
      "Correlación Ln_total_pr con mpBERT: -0.08386335049257175\n",
      "P-valor asociado: 1.8638283288113262e-07\n"
     ]
    }
   ],
   "source": [
    "# Suponiendo que 'base' es tu dataframe y 'variable1' y 'variable2' son las variables que quieres comparar\n",
    "variable1 = df['mpBERT']\n",
    "variable2 = df['Ln_total_pr']\n",
    "\n",
    "# Calcular la correlación y el p-valor\n",
    "correlacion, p_valor = pearsonr(variable1, variable2)\n",
    "\n",
    "print(\"Correlación Ln_total_pr con mpBERT:\", correlacion)\n",
    "print(\"P-valor asociado:\", p_valor)"
   ]
  },
  {
   "cell_type": "code",
   "execution_count": 72,
   "id": "44e2b167-3a69-4f15-93ec-f814722bd0b2",
   "metadata": {
    "jupyter": {
     "source_hidden": true
    },
    "tags": []
   },
   "outputs": [
    {
     "name": "stdout",
     "output_type": "stream",
     "text": [
      "Correlación Ln_total_pr con ACP_NEG: -0.1005124497652965\n",
      "P-valor asociado: 4.050570276433482e-10\n"
     ]
    }
   ],
   "source": [
    "# Suponiendo que 'base' es tu dataframe y 'variable1' y 'variable2' son las variables que quieres comparar\n",
    "variable1 = df['ACP_NEG']\n",
    "variable2 = df['Ln_total_pr']\n",
    "\n",
    "# Calcular la correlación y el p-valor\n",
    "correlacion, p_valor = pearsonr(variable1, variable2)\n",
    "\n",
    "print(\"Correlación Ln_total_pr con ACP_NEG:\", correlacion)\n",
    "print(\"P-valor asociado:\", p_valor)"
   ]
  },
  {
   "cell_type": "code",
   "execution_count": 73,
   "id": "19a8773c-9f6d-4bdb-bd39-dd28c3d2aeab",
   "metadata": {
    "jupyter": {
     "source_hidden": true
    },
    "tags": []
   },
   "outputs": [
    {
     "name": "stdout",
     "output_type": "stream",
     "text": [
      "Correlación Ln_total_pr con ACP_NEU_noPOS: -0.23196497293686053\n",
      "P-valor asociado: 3.17774381893457e-48\n"
     ]
    }
   ],
   "source": [
    "# Suponiendo que 'base' es tu dataframe y 'variable1' y 'variable2' son las variables que quieres comparar\n",
    "variable1 = df['ACP_NEU_noPOS']\n",
    "variable2 = df['Ln_total_pr']\n",
    "\n",
    "# Calcular la correlación y el p-valor\n",
    "correlacion, p_valor = pearsonr(variable1, variable2)\n",
    "\n",
    "print(\"Correlación Ln_total_pr con ACP_NEU_noPOS:\", correlacion)\n",
    "print(\"P-valor asociado:\", p_valor)"
   ]
  },
  {
   "cell_type": "markdown",
   "id": "0b5bc587-fdf6-4a50-ba9b-d8b6f2445834",
   "metadata": {
    "jp-MarkdownHeadingCollapsed": true,
    "tags": []
   },
   "source": [
    "## 1. Elaboración del modelo 1 - Carlos"
   ]
  },
  {
   "cell_type": "code",
   "execution_count": 10,
   "id": "d7c62e11-05e8-468b-a52e-9b57a314afa7",
   "metadata": {
    "jupyter": {
     "source_hidden": true
    },
    "tags": []
   },
   "outputs": [],
   "source": [
    "from sklearn.model_selection import train_test_split #para dividir datos en entrenamiento y testeo\n",
    "import seaborn as sns #para hacer gráficos, p. ej. el de distribución de una variable\n",
    "import matplotlib.pyplot as plt #complemento de sns para gráficos \n",
    "from sklearn.metrics import mean_absolute_error, mean_squared_error, r2_score #para calcular parámetros del modelo\n",
    "from scipy import stats"
   ]
  },
  {
   "cell_type": "code",
   "execution_count": 47,
   "id": "b588fdac-7f22-497d-b2eb-b7c199cdd743",
   "metadata": {
    "jupyter": {
     "source_hidden": true
    },
    "tags": []
   },
   "outputs": [],
   "source": [
    "X_ols = df.drop(['Ln_total_pr','ACP_NEU_noPOS','ACP_NEG','mpBERT'], axis=1)  # Todas las columnas excepto 'Ln_total_pr'\n",
    "y_ols = df['Ln_total_pr']  # Columna 'Ln_total_pr'"
   ]
  },
  {
   "cell_type": "code",
   "execution_count": 48,
   "id": "4e855512-5c97-4c22-a618-c9d7540d8bd0",
   "metadata": {
    "jupyter": {
     "source_hidden": true
    },
    "tags": []
   },
   "outputs": [
    {
     "name": "stdout",
     "output_type": "stream",
     "text": [
      "                            OLS Regression Results                            \n",
      "==============================================================================\n",
      "Dep. Variable:            Ln_total_pr   R-squared:                       0.862\n",
      "Model:                            OLS   Adj. R-squared:                  0.861\n",
      "Method:                 Least Squares   F-statistic:                     850.3\n",
      "Date:                Tue, 27 Feb 2024   Prob (F-statistic):               0.00\n",
      "Time:                        14:37:53   Log-Likelihood:                 606.35\n",
      "No. Observations:                3852   AIC:                            -1155.\n",
      "Df Residuals:                    3823   BIC:                            -973.3\n",
      "Df Model:                          28                                         \n",
      "Covariance Type:            nonrobust                                         \n",
      "============================================================================================================\n",
      "                                               coef    std err          t      P>|t|      [0.025      0.975]\n",
      "------------------------------------------------------------------------------------------------------------\n",
      "const                                       11.0356      0.090    122.850      0.000      10.860      11.212\n",
      "Ausencia_singulares_presencia_arm_cocina     0.0345      0.004      9.845      0.000       0.028       0.041\n",
      "CT_renta_meda_CPA                            0.0609      0.008      7.704      0.000       0.045       0.076\n",
      "DP2e                                         0.0200      0.003      7.683      0.000       0.015       0.025\n",
      "Dist_CBD2                                   -0.0132      0.002     -6.048      0.000      -0.018      -0.009\n",
      "EPC_A_emision                                0.0755      0.027      2.822      0.005       0.023       0.128\n",
      "EPC_B_emision                                0.1638      0.029      5.583      0.000       0.106       0.221\n",
      "EPC_C_emision                                0.0420      0.024      1.743      0.081      -0.005       0.089\n",
      "EPC_D_emision                               -0.0373      0.016     -2.308      0.021      -0.069      -0.006\n",
      "EPC_E_emision                                0.0038      0.008      0.511      0.609      -0.011       0.019\n",
      "EPC_F_emision                                0.0086      0.016      0.543      0.587      -0.022       0.040\n",
      "Estado_contemporaneidad_calidad              0.0616      0.004     15.936      0.000       0.054       0.069\n",
      "FIRE_pr                                      0.0165      0.001     12.108      0.000       0.014       0.019\n",
      "H_tamaviv                                    0.2005      0.027      7.305      0.000       0.147       0.254\n",
      "Income_Household_2016                     9.517e-06   4.94e-07     19.271      0.000    8.55e-06    1.05e-05\n",
      "Precio_red                                1.686e-07   3.44e-08      4.895      0.000    1.01e-07    2.36e-07\n",
      "Year_1982_2006                               0.0611      0.013      4.732      0.000       0.036       0.086\n",
      "Year_After_2007                              0.1400      0.018      7.962      0.000       0.106       0.175\n",
      "bool_aire_acondicionado                      0.0256      0.008      3.315      0.001       0.010       0.041\n",
      "bool_ascensor                                0.1280      0.014      9.077      0.000       0.100       0.156\n",
      "bool_calefaccion                             0.0522      0.008      6.588      0.000       0.037       0.068\n",
      "bool_piscina_comunitaria                     0.1947      0.020      9.538      0.000       0.155       0.235\n",
      "desplaz_ponderado                           -0.0211      0.002     -8.731      0.000      -0.026      -0.016\n",
      "dum_mar_200m                                 0.3384      0.042      8.023      0.000       0.256       0.421\n",
      "grand_terr_20m2                              0.0933      0.013      6.955      0.000       0.067       0.120\n",
      "interac_planta                               0.0039      0.002      2.336      0.020       0.001       0.007\n",
      "opin_ruido_si_pr                             0.0027      0.001      4.370      0.000       0.001       0.004\n",
      "ratio_bano_hab                               0.0247      0.016      1.584      0.113      -0.006       0.055\n",
      "superficie                                   0.0068      0.000     61.459      0.000       0.007       0.007\n",
      "==============================================================================\n",
      "Omnibus:                      426.264   Durbin-Watson:                   1.842\n",
      "Prob(Omnibus):                  0.000   Jarque-Bera (JB):             1776.465\n",
      "Skew:                          -0.479   Prob(JB):                         0.00\n",
      "Kurtosis:                       6.186   Cond. No.                     2.91e+06\n",
      "==============================================================================\n",
      "\n",
      "Notes:\n",
      "[1] Standard Errors assume that the covariance matrix of the errors is correctly specified.\n",
      "[2] The condition number is large, 2.91e+06. This might indicate that there are\n",
      "strong multicollinearity or other numerical problems.\n"
     ]
    }
   ],
   "source": [
    "# Añadir una constante a X_trainOLS para estimar el intercepto\n",
    "X_ols = sm.add_constant(X_ols)\n",
    "\n",
    "# Crear el modelo de regresión lineal\n",
    "ols = sm.OLS(y_ols, X_ols)\n",
    "\n",
    "# Ajustar el modelo a los datos\n",
    "resOLS = ols.fit()\n",
    "\n",
    "# Imprimir el resumen del modelo\n",
    "print(resOLS.summary())"
   ]
  },
  {
   "cell_type": "code",
   "execution_count": 50,
   "id": "3b8bb3b3-0837-4ed2-8ae2-66ed28250f50",
   "metadata": {
    "jupyter": {
     "source_hidden": true
    },
    "tags": []
   },
   "outputs": [
    {
     "name": "stdout",
     "output_type": "stream",
     "text": [
      "Coefficient of Determination (R2): 0.8616460898195593\n",
      "Mean Absolute Error (MAE): 0.15484612282921958\n",
      "Relative Absolute Error (RAE): 0.012375867077535158\n",
      "Root Relative Squared Error (RRSE): 0.37191127000707497\n",
      "Root Mean Squared Error (RMSE): 0.20672810628760888\n"
     ]
    }
   ],
   "source": [
    "y_pred_ols = resOLS.predict(X_ols)\n",
    "\n",
    "###Ojo que uso los datos de testeo\n",
    "# Calcular el R^2\n",
    "r2OLS = r2_score(y_ols, y_pred_ols)\n",
    "\n",
    "# Calcular el MAE\n",
    "maeOLS = mean_absolute_error(y_ols, y_pred_ols)\n",
    "\n",
    "# Calcular el RMSE\n",
    "rmseOLS = np.sqrt(mean_squared_error(y_ols, y_pred_ols))\n",
    "\n",
    "# Calcular el RAE\n",
    "raeOLS = maeOLS / abs(y_ols).mean()\n",
    "\n",
    "# Calcular el RRSE\n",
    "rrseOLS = rmseOLS / y_ols.std()\n",
    "\n",
    "# Imprimir resultados\n",
    "print(\"Coefficient of Determination (R2):\", r2OLS)\n",
    "print(\"Mean Absolute Error (MAE):\", maeOLS)\n",
    "print(\"Relative Absolute Error (RAE):\", raeOLS)\n",
    "print(\"Root Relative Squared Error (RRSE):\", rrseOLS)\n",
    "print(\"Root Mean Squared Error (RMSE):\", rmseOLS)"
   ]
  },
  {
   "cell_type": "code",
   "execution_count": 51,
   "id": "dafadaf6-cf8e-45db-8071-712ef04fb1da",
   "metadata": {
    "jupyter": {
     "source_hidden": true
    },
    "tags": []
   },
   "outputs": [
    {
     "name": "stdout",
     "output_type": "stream",
     "text": [
      "                                    Variable         VIF\n",
      "0                                      const  721.861549\n",
      "1   Ausencia_singulares_presencia_arm_cocina    1.098543\n",
      "2                          CT_renta_meda_CPA    1.241919\n",
      "3                                       DP2e    3.448971\n",
      "4                                  Dist_CBD2    2.953178\n",
      "5                              EPC_A_emision    1.125151\n",
      "6                              EPC_B_emision    1.083731\n",
      "7                              EPC_C_emision    1.045223\n",
      "8                              EPC_D_emision    1.095702\n",
      "9                              EPC_E_emision    1.142805\n",
      "10                             EPC_F_emision    1.055335\n",
      "11           Estado_contemporaneidad_calidad    1.335591\n",
      "12                                   FIRE_pr    3.316405\n",
      "13                                 H_tamaviv    4.359919\n",
      "14                     Income_Household_2016    2.416702\n",
      "15                                Precio_red    1.053624\n",
      "16                            Year_1982_2006    1.121553\n",
      "17                           Year_After_2007    1.180611\n",
      "18                   bool_aire_acondicionado    1.335326\n",
      "19                             bool_ascensor    3.748409\n",
      "20                          bool_calefaccion    1.393689\n",
      "21                  bool_piscina_comunitaria    1.115636\n",
      "22                         desplaz_ponderado    3.757993\n",
      "23                              dum_mar_200m    1.352127\n",
      "24                           grand_terr_20m2    1.071039\n",
      "25                            interac_planta    3.690015\n",
      "26                          opin_ruido_si_pr    1.556493\n",
      "27                            ratio_bano_hab    1.378557\n",
      "28                                superficie    1.351602\n"
     ]
    }
   ],
   "source": [
    "from statsmodels.stats.outliers_influence import variance_inflation_factor\n",
    "\n",
    "# Calcular el VIF para cada variable independiente\n",
    "vif = pd.DataFrame()\n",
    "vif[\"Variable\"] = X_ols.columns ## revisar 'X' ##\n",
    "vif[\"VIF\"] = [variance_inflation_factor(X_ols.values, i) ## revisar 'X' ##\n",
    "              for i in range(X_ols.shape[1])] ## revisar 'X' ##\n",
    "\n",
    "# Imprimir el resultado\n",
    "print(vif)"
   ]
  },
  {
   "cell_type": "markdown",
   "id": "b183e2b5-5333-4476-a5f0-62d132e91fc8",
   "metadata": {
    "jp-MarkdownHeadingCollapsed": true,
    "tags": []
   },
   "source": [
    "## 2. Elaboración del modelo 2 - sólo mean-pooling BERT"
   ]
  },
  {
   "cell_type": "code",
   "execution_count": 53,
   "id": "c550bbd7-7755-459a-82b2-64edd1f19be9",
   "metadata": {
    "jupyter": {
     "source_hidden": true
    },
    "tags": []
   },
   "outputs": [
    {
     "name": "stdout",
     "output_type": "stream",
     "text": [
      "                            OLS Regression Results                            \n",
      "==============================================================================\n",
      "Dep. Variable:            Ln_total_pr   R-squared:                       0.862\n",
      "Model:                            OLS   Adj. R-squared:                  0.861\n",
      "Method:                 Least Squares   F-statistic:                     820.9\n",
      "Date:                Tue, 27 Feb 2024   Prob (F-statistic):               0.00\n",
      "Time:                        14:46:07   Log-Likelihood:                 606.65\n",
      "No. Observations:                3852   AIC:                            -1153.\n",
      "Df Residuals:                    3822   BIC:                            -965.6\n",
      "Df Model:                          29                                         \n",
      "Covariance Type:            nonrobust                                         \n",
      "============================================================================================================\n",
      "                                               coef    std err          t      P>|t|      [0.025      0.975]\n",
      "------------------------------------------------------------------------------------------------------------\n",
      "const                                       11.0633      0.097    114.405      0.000      10.874      11.253\n",
      "Ausencia_singulares_presencia_arm_cocina     0.0345      0.004      9.839      0.000       0.028       0.041\n",
      "CT_renta_meda_CPA                            0.0612      0.008      7.727      0.000       0.046       0.077\n",
      "DP2e                                         0.0200      0.003      7.683      0.000       0.015       0.025\n",
      "Dist_CBD2                                   -0.0133      0.002     -6.052      0.000      -0.018      -0.009\n",
      "EPC_A_emision                                0.0747      0.027      2.794      0.005       0.022       0.127\n",
      "EPC_B_emision                                0.1637      0.029      5.581      0.000       0.106       0.221\n",
      "EPC_C_emision                                0.0419      0.024      1.735      0.083      -0.005       0.089\n",
      "EPC_D_emision                               -0.0379      0.016     -2.341      0.019      -0.070      -0.006\n",
      "EPC_E_emision                                0.0033      0.008      0.435      0.664      -0.012       0.018\n",
      "EPC_F_emision                                0.0078      0.016      0.489      0.625      -0.023       0.039\n",
      "Estado_contemporaneidad_calidad              0.0616      0.004     15.938      0.000       0.054       0.069\n",
      "FIRE_pr                                      0.0166      0.001     12.132      0.000       0.014       0.019\n",
      "H_tamaviv                                    0.2000      0.027      7.283      0.000       0.146       0.254\n",
      "Income_Household_2016                     9.505e-06   4.94e-07     19.237      0.000    8.54e-06    1.05e-05\n",
      "Precio_red                                1.691e-07   3.44e-08      4.910      0.000    1.02e-07    2.37e-07\n",
      "Year_1982_2006                               0.0612      0.013      4.739      0.000       0.036       0.087\n",
      "Year_After_2007                              0.1403      0.018      7.976      0.000       0.106       0.175\n",
      "bool_aire_acondicionado                      0.0258      0.008      3.335      0.001       0.011       0.041\n",
      "bool_ascensor                                0.1282      0.014      9.091      0.000       0.101       0.156\n",
      "bool_calefaccion                             0.0521      0.008      6.577      0.000       0.037       0.068\n",
      "bool_piscina_comunitaria                     0.1948      0.020      9.543      0.000       0.155       0.235\n",
      "desplaz_ponderado                           -0.0213      0.002     -8.765      0.000      -0.026      -0.017\n",
      "dum_mar_200m                                 0.3377      0.042      8.004      0.000       0.255       0.420\n",
      "grand_terr_20m2                              0.0932      0.013      6.949      0.000       0.067       0.120\n",
      "interac_planta                               0.0038      0.002      2.318      0.020       0.001       0.007\n",
      "mpBERT                                       0.8143      1.053      0.773      0.439      -1.250       2.879\n",
      "opin_ruido_si_pr                             0.0026      0.001      4.351      0.000       0.001       0.004\n",
      "ratio_bano_hab                               0.0245      0.016      1.570      0.116      -0.006       0.055\n",
      "superficie                                   0.0068      0.000     61.455      0.000       0.007       0.007\n",
      "==============================================================================\n",
      "Omnibus:                      426.342   Durbin-Watson:                   1.842\n",
      "Prob(Omnibus):                  0.000   Jarque-Bera (JB):             1777.158\n",
      "Skew:                          -0.480   Prob(JB):                         0.00\n",
      "Kurtosis:                       6.186   Cond. No.                     3.29e+07\n",
      "==============================================================================\n",
      "\n",
      "Notes:\n",
      "[1] Standard Errors assume that the covariance matrix of the errors is correctly specified.\n",
      "[2] The condition number is large, 3.29e+07. This might indicate that there are\n",
      "strong multicollinearity or other numerical problems.\n"
     ]
    }
   ],
   "source": [
    "X_ols2 = df.drop(['Ln_total_pr','ACP_NEU_noPOS','ACP_NEG'], axis=1)\n",
    "y_ols2 = df['Ln_total_pr']  # Columna 'Ln_total_pr'\n",
    "\n",
    "# Añadir una constante a X_trainOLS para estimar el intercepto\n",
    "X_ols2= sm.add_constant(X_ols2)\n",
    "\n",
    "# Crear el modelo de regresión lineal\n",
    "ols2 = sm.OLS(y_ols2, X_ols2)\n",
    "\n",
    "# Ajustar el modelo a los datos\n",
    "resOLS2 = ols2.fit()\n",
    "\n",
    "# Imprimir el resumen del modelo\n",
    "print(resOLS2.summary())"
   ]
  },
  {
   "cell_type": "markdown",
   "id": "ec1f2bf6-2547-4f75-b1b8-f39cf0bd6a0b",
   "metadata": {},
   "source": [
    "`mpBERT` **no resulta significativo**, y **no mejora** ningún parámetro del modelo anterior."
   ]
  },
  {
   "cell_type": "code",
   "execution_count": 56,
   "id": "e511486d-e38c-42ac-a978-ce899d5e340c",
   "metadata": {
    "jupyter": {
     "source_hidden": true
    },
    "tags": []
   },
   "outputs": [
    {
     "name": "stdout",
     "output_type": "stream",
     "text": [
      "Coefficient of Determination (R2): 0.8616677395904545\n",
      "Mean Absolute Error (MAE): 0.15479758221793347\n",
      "Relative Absolute Error (RAE): 0.01237198753478547\n",
      "Root Relative Squared Error (RRSE): 0.3718821703278844\n",
      "Root Mean Squared Error (RMSE): 0.2067119311349373\n"
     ]
    }
   ],
   "source": [
    "y_pred_ols2 = resOLS2.predict(X_ols2)\n",
    "\n",
    "###Ojo que uso los datos de testeo\n",
    "# Calcular el R^2\n",
    "r2OLS2 = r2_score(y_ols2, y_pred_ols2)\n",
    "\n",
    "# Calcular el MAE\n",
    "maeOLS2 = mean_absolute_error(y_ols2, y_pred_ols2)\n",
    "\n",
    "# Calcular el RMSE\n",
    "rmseOLS2 = np.sqrt(mean_squared_error(y_ols2, y_pred_ols2))\n",
    "\n",
    "# Calcular el RAE\n",
    "raeOLS2 = maeOLS2 / abs(y_ols2).mean()\n",
    "\n",
    "# Calcular el RRSE\n",
    "rrseOLS2 = rmseOLS2 / y_ols2.std()\n",
    "\n",
    "# Imprimir resultados\n",
    "print(\"Coefficient of Determination (R2):\", r2OLS2)\n",
    "print(\"Mean Absolute Error (MAE):\", maeOLS2)\n",
    "print(\"Relative Absolute Error (RAE):\", raeOLS2)\n",
    "print(\"Root Relative Squared Error (RRSE):\", rrseOLS2)\n",
    "print(\"Root Mean Squared Error (RMSE):\", rmseOLS2)"
   ]
  },
  {
   "cell_type": "code",
   "execution_count": 55,
   "id": "f656ec46-1535-41b0-8ebf-718f940c4e37",
   "metadata": {
    "jupyter": {
     "source_hidden": true
    },
    "tags": []
   },
   "outputs": [
    {
     "name": "stdout",
     "output_type": "stream",
     "text": [
      "                                    Variable         VIF\n",
      "0                                      const  836.457875\n",
      "1   Ausencia_singulares_presencia_arm_cocina    1.098602\n",
      "2                          CT_renta_meda_CPA    1.243686\n",
      "3                                       DP2e    3.448974\n",
      "4                                  Dist_CBD2    2.953295\n",
      "5                              EPC_A_emision    1.126509\n",
      "6                              EPC_B_emision    1.083737\n",
      "7                              EPC_C_emision    1.045331\n",
      "8                              EPC_D_emision    1.098024\n",
      "9                              EPC_E_emision    1.153282\n",
      "10                             EPC_F_emision    1.060224\n",
      "11           Estado_contemporaneidad_calidad    1.335605\n",
      "12                                   FIRE_pr    3.333632\n",
      "13                                 H_tamaviv    4.362522\n",
      "14                     Income_Household_2016    2.418961\n",
      "15                                Precio_red    1.054128\n",
      "16                            Year_1982_2006    1.121660\n",
      "17                           Year_After_2007    1.181158\n",
      "18                   bool_aire_acondicionado    1.336416\n",
      "19                             bool_ascensor    3.750145\n",
      "20                          bool_calefaccion    1.393917\n",
      "21                  bool_piscina_comunitaria    1.115712\n",
      "22                         desplaz_ponderado    3.784488\n",
      "23                              dum_mar_200m    1.352730\n",
      "24                           grand_terr_20m2    1.071096\n",
      "25                            interac_planta    3.691862\n",
      "26                                    mpBERT    1.046451\n",
      "27                          opin_ruido_si_pr    1.557330\n",
      "28                            ratio_bano_hab    1.378953\n",
      "29                                superficie    1.351604\n"
     ]
    }
   ],
   "source": [
    "from statsmodels.stats.outliers_influence import variance_inflation_factor\n",
    "\n",
    "# Calcular el VIF para cada variable independiente\n",
    "vif = pd.DataFrame()\n",
    "vif[\"Variable\"] = X_ols2.columns ## revisar 'X' ##\n",
    "vif[\"VIF\"] = [variance_inflation_factor(X_ols2.values, i) ## revisar 'X' ##\n",
    "              for i in range(X_ols2.shape[1])] ## revisar 'X' ##\n",
    "\n",
    "# Imprimir el resultado\n",
    "print(vif)"
   ]
  },
  {
   "cell_type": "markdown",
   "id": "0dea9edb-1096-40a0-a0c8-b6e27d553e5a",
   "metadata": {
    "jp-MarkdownHeadingCollapsed": true,
    "tags": []
   },
   "source": [
    "## 3. Elaboración del modelo 3 - sólo análisis de sentimiento"
   ]
  },
  {
   "cell_type": "markdown",
   "id": "fc448ce2-1924-4e8d-9c08-05a0ce6edda2",
   "metadata": {},
   "source": [
    "### 3.1. `ACP_NEG` y `ACP_NEU_noPOS`"
   ]
  },
  {
   "cell_type": "code",
   "execution_count": 86,
   "id": "96faacdb-42b1-45a3-8a28-8ff5a525f75a",
   "metadata": {
    "jupyter": {
     "source_hidden": true
    },
    "tags": []
   },
   "outputs": [
    {
     "name": "stdout",
     "output_type": "stream",
     "text": [
      "                            OLS Regression Results                            \n",
      "==============================================================================\n",
      "Dep. Variable:            Ln_total_pr   R-squared:                       0.864\n",
      "Model:                            OLS   Adj. R-squared:                  0.863\n",
      "Method:                 Least Squares   F-statistic:                     806.9\n",
      "Date:                Tue, 27 Feb 2024   Prob (F-statistic):               0.00\n",
      "Time:                        15:30:07   Log-Likelihood:                 634.86\n",
      "No. Observations:                3852   AIC:                            -1208.\n",
      "Df Residuals:                    3821   BIC:                            -1014.\n",
      "Df Model:                          30                                         \n",
      "Covariance Type:            nonrobust                                         \n",
      "============================================================================================================\n",
      "                                               coef    std err          t      P>|t|      [0.025      0.975]\n",
      "------------------------------------------------------------------------------------------------------------\n",
      "const                                       11.0567      0.089    123.607      0.000      10.881      11.232\n",
      "Ausencia_singulares_presencia_arm_cocina     0.0338      0.003      9.688      0.000       0.027       0.041\n",
      "CT_renta_meda_CPA                            0.0625      0.008      7.947      0.000       0.047       0.078\n",
      "DP2e                                         0.0199      0.003      7.674      0.000       0.015       0.025\n",
      "Dist_CBD2                                   -0.0132      0.002     -6.070      0.000      -0.017      -0.009\n",
      "EPC_A_emision                                0.0777      0.027      2.927      0.003       0.026       0.130\n",
      "EPC_B_emision                                0.1583      0.029      5.432      0.000       0.101       0.215\n",
      "EPC_C_emision                                0.0431      0.024      1.800      0.072      -0.004       0.090\n",
      "EPC_D_emision                               -0.0390      0.016     -2.430      0.015      -0.070      -0.008\n",
      "EPC_E_emision                                0.0031      0.007      0.412      0.681      -0.012       0.018\n",
      "EPC_F_emision                                0.0109      0.016      0.690      0.490      -0.020       0.042\n",
      "Estado_contemporaneidad_calidad              0.0588      0.004     15.262      0.000       0.051       0.066\n",
      "FIRE_pr                                      0.0163      0.001     12.039      0.000       0.014       0.019\n",
      "H_tamaviv                                    0.1964      0.027      7.206      0.000       0.143       0.250\n",
      "Income_Household_2016                      9.57e-06   4.91e-07     19.493      0.000    8.61e-06    1.05e-05\n",
      "Precio_red                                 1.68e-07   3.42e-08      4.912      0.000    1.01e-07    2.35e-07\n",
      "Year_1982_2006                               0.0609      0.013      4.745      0.000       0.036       0.086\n",
      "Year_After_2007                              0.1427      0.017      8.167      0.000       0.108       0.177\n",
      "bool_aire_acondicionado                      0.0238      0.008      3.103      0.002       0.009       0.039\n",
      "bool_ascensor                                0.1293      0.014      9.235      0.000       0.102       0.157\n",
      "bool_calefaccion                             0.0490      0.008      6.224      0.000       0.034       0.064\n",
      "bool_piscina_comunitaria                     0.1958      0.020      9.661      0.000       0.156       0.236\n",
      "desplaz_ponderado                           -0.0212      0.002     -8.810      0.000      -0.026      -0.016\n",
      "dum_mar_200m                                 0.3345      0.042      7.985      0.000       0.252       0.417\n",
      "grand_terr_20m2                              0.0895      0.013      6.711      0.000       0.063       0.116\n",
      "interac_planta                               0.0035      0.002      2.108      0.035       0.000       0.007\n",
      "opin_ruido_si_pr                             0.0027      0.001      4.398      0.000       0.001       0.004\n",
      "ratio_bano_hab                               0.0221      0.015      1.428      0.154      -0.008       0.052\n",
      "superficie                                   0.0068      0.000     61.138      0.000       0.007       0.007\n",
      "ACP_NEG                                     -0.0032      0.003     -0.963      0.336      -0.010       0.003\n",
      "ACP_NEU_noPOS                               -0.0258      0.003     -7.503      0.000      -0.033      -0.019\n",
      "==============================================================================\n",
      "Omnibus:                      402.865   Durbin-Watson:                   1.852\n",
      "Prob(Omnibus):                  0.000   Jarque-Bera (JB):             1640.628\n",
      "Skew:                          -0.453   Prob(JB):                         0.00\n",
      "Kurtosis:                       6.066   Cond. No.                     2.92e+06\n",
      "==============================================================================\n",
      "\n",
      "Notes:\n",
      "[1] Standard Errors assume that the covariance matrix of the errors is correctly specified.\n",
      "[2] The condition number is large, 2.92e+06. This might indicate that there are\n",
      "strong multicollinearity or other numerical problems.\n"
     ]
    }
   ],
   "source": [
    "X_ols3 = df.drop(['Ln_total_pr','mpBERT'], axis=1)\n",
    "y_ols3 = df['Ln_total_pr']  # Columna 'Ln_total_pr'\n",
    "\n",
    "# Añadir una constante a X_trainOLS para estimar el intercepto\n",
    "X_ols3= sm.add_constant(X_ols3)\n",
    "\n",
    "# Crear el modelo de regresión lineal\n",
    "ols3 = sm.OLS(y_ols3, X_ols3)\n",
    "\n",
    "# Ajustar el modelo a los datos\n",
    "resOLS3 = ols3.fit()\n",
    "\n",
    "# Imprimir el resumen del modelo\n",
    "print(resOLS3.summary())"
   ]
  },
  {
   "cell_type": "code",
   "execution_count": 87,
   "id": "ed05a172-5415-47f0-afb8-6624492e24cd",
   "metadata": {
    "jupyter": {
     "source_hidden": true
    },
    "tags": []
   },
   "outputs": [
    {
     "name": "stdout",
     "output_type": "stream",
     "text": [
      "Coefficient of Determination (R2): 0.8636790484530849\n",
      "Mean Absolute Error (MAE): 0.15409740452777476\n",
      "Relative Absolute Error (RAE): 0.01231602677925776\n",
      "Root Relative Squared Error (RRSE): 0.3691687444676061\n",
      "Root Mean Squared Error (RMSE): 0.2052036644195014\n"
     ]
    }
   ],
   "source": [
    "y_pred_ols3 = resOLS3.predict(X_ols3)\n",
    "\n",
    "###Ojo que uso los datos de testeo\n",
    "# Calcular el R^2\n",
    "r2OLS3 = r2_score(y_ols3, y_pred_ols3)\n",
    "\n",
    "# Calcular el MAE\n",
    "maeOLS3 = mean_absolute_error(y_ols3, y_pred_ols3)\n",
    "\n",
    "# Calcular el RMSE\n",
    "rmseOLS3 = np.sqrt(mean_squared_error(y_ols3, y_pred_ols3))\n",
    "\n",
    "# Calcular el RAE\n",
    "raeOLS3 = maeOLS3 / abs(y_ols3).mean()\n",
    "\n",
    "# Calcular el RRSE\n",
    "rrseOLS3 = rmseOLS3 / y_ols3.std()\n",
    "\n",
    "# Imprimir resultados\n",
    "print(\"Coefficient of Determination (R2):\", r2OLS3)\n",
    "print(\"Mean Absolute Error (MAE):\", maeOLS3)\n",
    "print(\"Relative Absolute Error (RAE):\", raeOLS3)\n",
    "print(\"Root Relative Squared Error (RRSE):\", rrseOLS3)\n",
    "print(\"Root Mean Squared Error (RMSE):\", rmseOLS3)"
   ]
  },
  {
   "cell_type": "markdown",
   "id": "dc189766-f15a-4ccf-a7a7-f0cd38eec5b4",
   "metadata": {
    "tags": []
   },
   "source": [
    "Revisamos el VIF."
   ]
  },
  {
   "cell_type": "code",
   "execution_count": 59,
   "id": "e1d58409-693f-411a-a6ef-667fe520cbdd",
   "metadata": {
    "jupyter": {
     "source_hidden": true
    },
    "tags": []
   },
   "outputs": [
    {
     "name": "stdout",
     "output_type": "stream",
     "text": [
      "                                    Variable         VIF\n",
      "0                                      const  726.056026\n",
      "1   Ausencia_singulares_presencia_arm_cocina    1.099526\n",
      "2                          CT_renta_meda_CPA    1.245983\n",
      "3                                       DP2e    3.450488\n",
      "4                                  Dist_CBD2    2.953920\n",
      "5                              EPC_A_emision    1.125977\n",
      "6                              EPC_B_emision    1.084710\n",
      "7                              EPC_C_emision    1.045541\n",
      "8                              EPC_D_emision    1.096300\n",
      "9                              EPC_E_emision    1.148649\n",
      "10                             EPC_F_emision    1.056774\n",
      "11           Estado_contemporaneidad_calidad    1.347712\n",
      "12                                   FIRE_pr    3.332679\n",
      "13                                 H_tamaviv    4.362291\n",
      "14                     Income_Household_2016    2.422888\n",
      "15                                Precio_red    1.053927\n",
      "16                            Year_1982_2006    1.121690\n",
      "17                           Year_After_2007    1.181202\n",
      "18                   bool_aire_acondicionado    1.336611\n",
      "19                             bool_ascensor    3.749371\n",
      "20                          bool_calefaccion    1.398485\n",
      "21                  bool_piscina_comunitaria    1.115731\n",
      "22                         desplaz_ponderado    3.777769\n",
      "23                              dum_mar_200m    1.352621\n",
      "24                           grand_terr_20m2    1.074290\n",
      "25                            interac_planta    3.694396\n",
      "26                          opin_ruido_si_pr    1.561846\n",
      "27                            ratio_bano_hab    1.379413\n",
      "28                                superficie    1.359687\n",
      "29                                   ACP_NEG    1.046522\n",
      "30                             ACP_NEU_noPOS    1.069717\n"
     ]
    }
   ],
   "source": [
    "from statsmodels.stats.outliers_influence import variance_inflation_factor\n",
    "\n",
    "# Calcular el VIF para cada variable independiente\n",
    "vif = pd.DataFrame()\n",
    "vif[\"Variable\"] = X_ols3.columns ## revisar 'X' ##\n",
    "vif[\"VIF\"] = [variance_inflation_factor(X_ols3.values, i) ## revisar 'X' ##\n",
    "              for i in range(X_ols3.shape[1])] ## revisar 'X' ##\n",
    "\n",
    "# Imprimir el resultado\n",
    "print(vif)"
   ]
  },
  {
   "cell_type": "markdown",
   "id": "1766778e-62cf-4132-9f1c-a0ad64eb0c57",
   "metadata": {
    "tags": []
   },
   "source": [
    "### 3.2. `ACP_NEU_noPOS`"
   ]
  },
  {
   "cell_type": "markdown",
   "id": "30f1ef0f-41da-4291-ad61-009a9f822bf3",
   "metadata": {
    "tags": []
   },
   "source": [
    "Dado que sólo esta variable tiene relación significativa, pruebo cómo quedaría el modelo."
   ]
  },
  {
   "cell_type": "code",
   "execution_count": 84,
   "id": "e18385ab-ad5f-431c-9fe5-513bca10ff99",
   "metadata": {
    "jupyter": {
     "source_hidden": true
    },
    "tags": []
   },
   "outputs": [
    {
     "name": "stdout",
     "output_type": "stream",
     "text": [
      "                            OLS Regression Results                            \n",
      "==============================================================================\n",
      "Dep. Variable:            Ln_total_pr   R-squared:                       0.864\n",
      "Model:                            OLS   Adj. R-squared:                  0.863\n",
      "Method:                 Least Squares   F-statistic:                     834.8\n",
      "Date:                Tue, 27 Feb 2024   Prob (F-statistic):               0.00\n",
      "Time:                        15:29:38   Log-Likelihood:                 634.40\n",
      "No. Observations:                3852   AIC:                            -1209.\n",
      "Df Residuals:                    3822   BIC:                            -1021.\n",
      "Df Model:                          29                                         \n",
      "Covariance Type:            nonrobust                                         \n",
      "============================================================================================================\n",
      "                                               coef    std err          t      P>|t|      [0.025      0.975]\n",
      "------------------------------------------------------------------------------------------------------------\n",
      "const                                       11.0623      0.089    123.931      0.000      10.887      11.237\n",
      "Ausencia_singulares_presencia_arm_cocina     0.0338      0.003      9.697      0.000       0.027       0.041\n",
      "CT_renta_meda_CPA                            0.0629      0.008      8.001      0.000       0.047       0.078\n",
      "DP2e                                         0.0198      0.003      7.658      0.000       0.015       0.025\n",
      "Dist_CBD2                                   -0.0132      0.002     -6.086      0.000      -0.017      -0.009\n",
      "EPC_A_emision                                0.0783      0.027      2.950      0.003       0.026       0.130\n",
      "EPC_B_emision                                0.1588      0.029      5.452      0.000       0.102       0.216\n",
      "EPC_C_emision                                0.0435      0.024      1.815      0.070      -0.003       0.090\n",
      "EPC_D_emision                               -0.0387      0.016     -2.411      0.016      -0.070      -0.007\n",
      "EPC_E_emision                                0.0036      0.007      0.481      0.630      -0.011       0.018\n",
      "EPC_F_emision                                0.0113      0.016      0.718      0.473      -0.020       0.042\n",
      "Estado_contemporaneidad_calidad              0.0589      0.004     15.275      0.000       0.051       0.066\n",
      "FIRE_pr                                      0.0164      0.001     12.136      0.000       0.014       0.019\n",
      "H_tamaviv                                    0.1962      0.027      7.197      0.000       0.143       0.250\n",
      "Income_Household_2016                     9.547e-06    4.9e-07     19.470      0.000    8.59e-06    1.05e-05\n",
      "Precio_red                                1.685e-07   3.42e-08      4.929      0.000    1.01e-07    2.36e-07\n",
      "Year_1982_2006                               0.0608      0.013      4.736      0.000       0.036       0.086\n",
      "Year_After_2007                              0.1428      0.017      8.175      0.000       0.109       0.177\n",
      "bool_aire_acondicionado                      0.0238      0.008      3.106      0.002       0.009       0.039\n",
      "bool_ascensor                                0.1294      0.014      9.243      0.000       0.102       0.157\n",
      "bool_calefaccion                             0.0489      0.008      6.208      0.000       0.033       0.064\n",
      "bool_piscina_comunitaria                     0.1959      0.020      9.666      0.000       0.156       0.236\n",
      "desplaz_ponderado                           -0.0214      0.002     -8.901      0.000      -0.026      -0.017\n",
      "dum_mar_200m                                 0.3340      0.042      7.973      0.000       0.252       0.416\n",
      "grand_terr_20m2                              0.0891      0.013      6.681      0.000       0.063       0.115\n",
      "interac_planta                               0.0035      0.002      2.123      0.034       0.000       0.007\n",
      "opin_ruido_si_pr                             0.0026      0.001      4.350      0.000       0.001       0.004\n",
      "ratio_bano_hab                               0.0223      0.015      1.441      0.150      -0.008       0.053\n",
      "superficie                                   0.0068      0.000     61.171      0.000       0.007       0.007\n",
      "ACP_NEU_noPOS                               -0.0257      0.003     -7.487      0.000      -0.032      -0.019\n",
      "==============================================================================\n",
      "Omnibus:                      402.865   Durbin-Watson:                   1.853\n",
      "Prob(Omnibus):                  0.000   Jarque-Bera (JB):             1629.591\n",
      "Skew:                          -0.456   Prob(JB):                         0.00\n",
      "Kurtosis:                       6.053   Cond. No.                     2.91e+06\n",
      "==============================================================================\n",
      "\n",
      "Notes:\n",
      "[1] Standard Errors assume that the covariance matrix of the errors is correctly specified.\n",
      "[2] The condition number is large, 2.91e+06. This might indicate that there are\n",
      "strong multicollinearity or other numerical problems.\n"
     ]
    }
   ],
   "source": [
    "X_ols4 = df.drop(['Ln_total_pr','mpBERT','ACP_NEG'], axis=1)\n",
    "y_ols4 = df['Ln_total_pr']  # Columna 'Ln_total_pr'\n",
    "\n",
    "# Añadir una constante a X_trainOLS para estimar el intercepto\n",
    "X_ols4= sm.add_constant(X_ols4)\n",
    "\n",
    "# Crear el modelo de regresión lineal\n",
    "ols4 = sm.OLS(y_ols4, X_ols4)\n",
    "\n",
    "# Ajustar el modelo a los datos\n",
    "resOLS4 = ols4.fit()\n",
    "\n",
    "# Imprimir el resumen del modelo\n",
    "print(resOLS4.summary())"
   ]
  },
  {
   "cell_type": "code",
   "execution_count": 88,
   "id": "d24c096c-0b60-4964-ad1f-57700960fdf7",
   "metadata": {
    "jupyter": {
     "source_hidden": true
    },
    "tags": []
   },
   "outputs": [
    {
     "name": "stdout",
     "output_type": "stream",
     "text": [
      "Coefficient of Determination (R2): 0.8636459950734368\n",
      "Mean Absolute Error (MAE): 0.15411759189969557\n",
      "Relative Absolute Error (RAE): 0.012317640227673335\n",
      "Root Relative Squared Error (RRSE): 0.36921349743827203\n",
      "Root Mean Squared Error (RMSE): 0.20522854050587636\n"
     ]
    }
   ],
   "source": [
    "y_pred_ols4 = resOLS4.predict(X_ols4)\n",
    "\n",
    "###Ojo que uso los datos de testeo\n",
    "# Calcular el R^2\n",
    "r2OLS4 = r2_score(y_ols4, y_pred_ols4)\n",
    "\n",
    "# Calcular el MAE\n",
    "maeOLS4 = mean_absolute_error(y_ols4, y_pred_ols4)\n",
    "\n",
    "# Calcular el RMSE\n",
    "rmseOLS4 = np.sqrt(mean_squared_error(y_ols4, y_pred_ols4))\n",
    "\n",
    "# Calcular el RAE\n",
    "raeOLS4 = maeOLS4 / abs(y_ols4).mean()\n",
    "\n",
    "# Calcular el RRSE\n",
    "rrseOLS4 = rmseOLS4 / y_ols4.std()\n",
    "\n",
    "# Imprimir resultados\n",
    "print(\"Coefficient of Determination (R2):\", r2OLS4)\n",
    "print(\"Mean Absolute Error (MAE):\", maeOLS4)\n",
    "print(\"Relative Absolute Error (RAE):\", raeOLS4)\n",
    "print(\"Root Relative Squared Error (RRSE):\", rrseOLS4)\n",
    "print(\"Root Mean Squared Error (RMSE):\", rmseOLS4)"
   ]
  },
  {
   "cell_type": "markdown",
   "id": "e66b4518-d2ea-475c-916b-0a790b2e90d2",
   "metadata": {
    "tags": []
   },
   "source": [
    "Ya no reviso el VIF, pues no tendría sentido que haya aumentado."
   ]
  },
  {
   "cell_type": "markdown",
   "id": "f86378e7-78e5-4111-b095-eac24284e204",
   "metadata": {
    "jp-MarkdownHeadingCollapsed": true,
    "tags": []
   },
   "source": [
    "## 4. Elaboración del modelo 4 - BERT y análisis de sentimiento"
   ]
  },
  {
   "cell_type": "code",
   "execution_count": 68,
   "id": "6b96e026-3953-460a-959e-51055b4e5417",
   "metadata": {
    "jupyter": {
     "source_hidden": true
    },
    "tags": []
   },
   "outputs": [
    {
     "name": "stdout",
     "output_type": "stream",
     "text": [
      "                            OLS Regression Results                            \n",
      "==============================================================================\n",
      "Dep. Variable:            Ln_total_pr   R-squared:                       0.864\n",
      "Model:                            OLS   Adj. R-squared:                  0.863\n",
      "Method:                 Least Squares   F-statistic:                     780.8\n",
      "Date:                Tue, 27 Feb 2024   Prob (F-statistic):               0.00\n",
      "Time:                        15:02:27   Log-Likelihood:                 635.09\n",
      "No. Observations:                3852   AIC:                            -1206.\n",
      "Df Residuals:                    3820   BIC:                            -1006.\n",
      "Df Model:                          31                                         \n",
      "Covariance Type:            nonrobust                                         \n",
      "============================================================================================================\n",
      "                                               coef    std err          t      P>|t|      [0.025      0.975]\n",
      "------------------------------------------------------------------------------------------------------------\n",
      "const                                       11.0319      0.097    114.055      0.000      10.842      11.222\n",
      "Ausencia_singulares_presencia_arm_cocina     0.0338      0.003      9.689      0.000       0.027       0.041\n",
      "CT_renta_meda_CPA                            0.0623      0.008      7.913      0.000       0.047       0.078\n",
      "DP2e                                         0.0199      0.003      7.673      0.000       0.015       0.025\n",
      "Dist_CBD2                                   -0.0132      0.002     -6.064      0.000      -0.017      -0.009\n",
      "EPC_A_emision                                0.0784      0.027      2.949      0.003       0.026       0.130\n",
      "EPC_B_emision                                0.1582      0.029      5.428      0.000       0.101       0.215\n",
      "EPC_C_emision                                0.0433      0.024      1.806      0.071      -0.004       0.090\n",
      "EPC_D_emision                               -0.0386      0.016     -2.400      0.016      -0.070      -0.007\n",
      "EPC_E_emision                                0.0035      0.008      0.468      0.640      -0.011       0.018\n",
      "EPC_F_emision                                0.0116      0.016      0.735      0.462      -0.019       0.043\n",
      "Estado_contemporaneidad_calidad              0.0588      0.004     15.243      0.000       0.051       0.066\n",
      "FIRE_pr                                      0.0162      0.001     11.936      0.000       0.014       0.019\n",
      "H_tamaviv                                    0.1969      0.027      7.219      0.000       0.143       0.250\n",
      "Income_Household_2016                     9.584e-06   4.91e-07     19.503      0.000    8.62e-06    1.05e-05\n",
      "Precio_red                                1.674e-07   3.42e-08      4.893      0.000       1e-07    2.34e-07\n",
      "Year_1982_2006                               0.0608      0.013      4.738      0.000       0.036       0.086\n",
      "Year_After_2007                              0.1424      0.017      8.151      0.000       0.108       0.177\n",
      "bool_aire_acondicionado                      0.0236      0.008      3.077      0.002       0.009       0.039\n",
      "bool_ascensor                                0.1291      0.014      9.218      0.000       0.102       0.157\n",
      "bool_calefaccion                             0.0490      0.008      6.228      0.000       0.034       0.064\n",
      "bool_piscina_comunitaria                     0.1957      0.020      9.655      0.000       0.156       0.235\n",
      "desplaz_ponderado                           -0.0210      0.002     -8.707      0.000      -0.026      -0.016\n",
      "dum_mar_200m                                 0.3351      0.042      7.996      0.000       0.253       0.417\n",
      "grand_terr_20m2                              0.0896      0.013      6.714      0.000       0.063       0.116\n",
      "interac_planta                               0.0035      0.002      2.118      0.034       0.000       0.007\n",
      "mpBERT                                      -0.7234      1.074     -0.674      0.501      -2.829       1.382\n",
      "opin_ruido_si_pr                             0.0027      0.001      4.417      0.000       0.001       0.004\n",
      "ratio_bano_hab                               0.0222      0.015      1.435      0.151      -0.008       0.053\n",
      "superficie                                   0.0068      0.000     61.117      0.000       0.007       0.007\n",
      "ACP_NEG                                     -0.0036      0.003     -1.055      0.292      -0.010       0.003\n",
      "ACP_NEU_noPOS                               -0.0262      0.003     -7.504      0.000      -0.033      -0.019\n",
      "==============================================================================\n",
      "Omnibus:                      402.536   Durbin-Watson:                   1.852\n",
      "Prob(Omnibus):                  0.000   Jarque-Bera (JB):             1639.475\n",
      "Skew:                          -0.453   Prob(JB):                         0.00\n",
      "Kurtosis:                       6.065   Cond. No.                     3.38e+07\n",
      "==============================================================================\n",
      "\n",
      "Notes:\n",
      "[1] Standard Errors assume that the covariance matrix of the errors is correctly specified.\n",
      "[2] The condition number is large, 3.38e+07. This might indicate that there are\n",
      "strong multicollinearity or other numerical problems.\n"
     ]
    }
   ],
   "source": [
    "X_ols5 = df.drop(['Ln_total_pr'], axis=1)\n",
    "y_ols5 = df['Ln_total_pr']  # Columna 'Ln_total_pr'\n",
    "\n",
    "# Añadir una constante a X_trainOLS para estimar el intercepto\n",
    "X_ols5= sm.add_constant(X_ols5)\n",
    "\n",
    "# Crear el modelo de regresión lineal\n",
    "ols5 = sm.OLS(y_ols5, X_ols5)\n",
    "\n",
    "# Ajustar el modelo a los datos\n",
    "resOLS5 = ols5.fit()\n",
    "\n",
    "# Imprimir el resumen del modelo\n",
    "print(resOLS5.summary())"
   ]
  },
  {
   "cell_type": "code",
   "execution_count": 70,
   "id": "6c6edc07-884e-4d95-9d7e-d9554b050cca",
   "metadata": {
    "jupyter": {
     "source_hidden": true
    },
    "tags": []
   },
   "outputs": [
    {
     "name": "stdout",
     "output_type": "stream",
     "text": [
      "Coefficient of Determination (R2): 0.8636952341238748\n",
      "Mean Absolute Error (MAE): 0.15412919759419133\n",
      "Relative Absolute Error (RAE): 0.012318567797119684\n",
      "Root Relative Squared Error (RRSE): 0.36914682772968027\n",
      "Root Mean Squared Error (RMSE): 0.2051914819284268\n"
     ]
    }
   ],
   "source": [
    "y_pred_ols5 = resOLS5.predict(X_ols5)\n",
    "\n",
    "###Ojo que uso los datos de testeo\n",
    "# Calcular el R^2\n",
    "r2OLS5 = r2_score(y_ols5, y_pred_ols5)\n",
    "\n",
    "# Calcular el MAE\n",
    "maeOLS5 = mean_absolute_error(y_ols5, y_pred_ols5)\n",
    "\n",
    "# Calcular el RMSE\n",
    "rmseOLS5 = np.sqrt(mean_squared_error(y_ols5, y_pred_ols5))\n",
    "\n",
    "# Calcular el RAE\n",
    "raeOLS5 = maeOLS5 / abs(y_ols5).mean()\n",
    "\n",
    "# Calcular el RRSE\n",
    "rrseOLS5 = rmseOLS5 / y_ols5.std()\n",
    "\n",
    "# Imprimir resultados\n",
    "print(\"Coefficient of Determination (R2):\", r2OLS5)\n",
    "print(\"Mean Absolute Error (MAE):\", maeOLS5)\n",
    "print(\"Relative Absolute Error (RAE):\", raeOLS5)\n",
    "print(\"Root Relative Squared Error (RRSE):\", rrseOLS5)\n",
    "print(\"Root Mean Squared Error (RMSE):\", rmseOLS5)"
   ]
  },
  {
   "cell_type": "code",
   "execution_count": 69,
   "id": "e5543c21-4471-426e-a9b3-3228b8858875",
   "metadata": {
    "jupyter": {
     "source_hidden": true
    },
    "tags": []
   },
   "outputs": [
    {
     "name": "stdout",
     "output_type": "stream",
     "text": [
      "                                    Variable         VIF\n",
      "0                                      const  848.831873\n",
      "1   Ausencia_singulares_presencia_arm_cocina    1.099527\n",
      "2                          CT_renta_meda_CPA    1.247994\n",
      "3                                       DP2e    3.450488\n",
      "4                                  Dist_CBD2    2.954161\n",
      "5                              EPC_A_emision    1.127329\n",
      "6                              EPC_B_emision    1.084735\n",
      "7                              EPC_C_emision    1.045634\n",
      "8                              EPC_D_emision    1.098240\n",
      "9                              EPC_E_emision    1.157193\n",
      "10                             EPC_F_emision    1.061866\n",
      "11           Estado_contemporaneidad_calidad    1.348353\n",
      "12                                   FIRE_pr    3.357369\n",
      "13                                 H_tamaviv    4.364570\n",
      "14                     Income_Household_2016    2.426880\n",
      "15                                Precio_red    1.054592\n",
      "16                            Year_1982_2006    1.121783\n",
      "17                           Year_After_2007    1.181655\n",
      "18                   bool_aire_acondicionado    1.338268\n",
      "19                             bool_ascensor    3.751022\n",
      "20                          bool_calefaccion    1.398536\n",
      "21                  bool_piscina_comunitaria    1.115799\n",
      "22                         desplaz_ponderado    3.811543\n",
      "23                              dum_mar_200m    1.353228\n",
      "24                           grand_terr_20m2    1.074323\n",
      "25                            interac_planta    3.695238\n",
      "26                                    mpBERT    1.104548\n",
      "27                          opin_ruido_si_pr    1.563407\n",
      "28                            ratio_bano_hab    1.379598\n",
      "29                                superficie    1.359998\n",
      "30                                   ACP_NEG    1.071895\n",
      "31                             ACP_NEU_noPOS    1.104241\n"
     ]
    }
   ],
   "source": [
    "from statsmodels.stats.outliers_influence import variance_inflation_factor\n",
    "\n",
    "# Calcular el VIF para cada variable independiente\n",
    "vif = pd.DataFrame()\n",
    "vif[\"Variable\"] = X_ols5.columns ## revisar 'X' ##\n",
    "vif[\"VIF\"] = [variance_inflation_factor(X_ols5.values, i) ## revisar 'X' ##\n",
    "              for i in range(X_ols5.shape[1])] ## revisar 'X' ##\n",
    "\n",
    "# Imprimir el resultado\n",
    "print(vif)"
   ]
  },
  {
   "cell_type": "markdown",
   "id": "706590f9-b995-4109-81a6-590b9844dd0e",
   "metadata": {},
   "source": [
    "Ningún VIF va por arriba de 5."
   ]
  },
  {
   "cell_type": "markdown",
   "id": "fd76780f-0432-40c5-8d91-91b652e34d0d",
   "metadata": {},
   "source": [
    "# Comparación de modelos"
   ]
  },
  {
   "cell_type": "code",
   "execution_count": 90,
   "id": "c4e8c034-da94-4c23-b490-00b289d08c5b",
   "metadata": {
    "jupyter": {
     "source_hidden": true
    },
    "tags": []
   },
   "outputs": [
    {
     "name": "stdout",
     "output_type": "stream",
     "text": [
      "  Model       R^2       MAE          AIC          BIC  \\\n",
      "0   OLS  0.861646  0.154846 -1206.182705 -1005.979576   \n",
      "1  OLS2  0.861668  0.154798 -1153.307265  -965.616832   \n",
      "2  OLS3  0.863679  0.154097 -1207.725321 -1013.778540   \n",
      "3  OLS4  0.863646  0.154118 -1208.791450 -1021.101017   \n",
      "4  OLS5  0.863695  0.154129 -1206.182705 -1005.979576   \n",
      "\n",
      "                      Descripción  \n",
      "0         Modelo inicial - Carlos  \n",
      "1                       Sólo BERT  \n",
      "2         ACP_NEG y ACP_NEU_noPOS  \n",
      "3              Sólo ACP_NEU_noPOS  \n",
      "4  BERT y análisis de sentimiento  \n"
     ]
    }
   ],
   "source": [
    "import pandas as pd\n",
    "from sklearn.metrics import r2_score, mean_absolute_error, mean_squared_error\n",
    "import numpy as np\n",
    "\n",
    "# Crear listas para almacenar los resultados de cada modelo\n",
    "r2_values = []\n",
    "mae_values = []\n",
    "aic_values = []\n",
    "bic_values = []\n",
    "\n",
    "# Iterar sobre cada modelo\n",
    "for i in range(2, 6):  # Iterar desde 2 hasta 5 para los modelos ols2, ols3, ..., ols5\n",
    "    # Obtener X y y para el modelo actual\n",
    "    X_ols = globals()['X_ols{}'.format(i)]\n",
    "    y_ols = globals()['y_ols{}'.format(i)]\n",
    "    \n",
    "    # Añadir una constante a X_trainOLS para estimar el intercepto\n",
    "    X_ols = sm.add_constant(X_ols)\n",
    "\n",
    "    # Crear el modelo de regresión lineal\n",
    "    ols = sm.OLS(y_ols, X_ols)\n",
    "\n",
    "    # Ajustar el modelo a los datos\n",
    "    resOLS = ols.fit()\n",
    "    \n",
    "    # Guardar los valores de interés\n",
    "    r2_values.append(r2_score(y_ols, resOLS.predict(X_ols)))\n",
    "    mae_values.append(mean_absolute_error(y_ols, resOLS.predict(X_ols)))\n",
    "    aic_values.append(resOLS.aic)\n",
    "    bic_values.append(resOLS.bic)\n",
    "\n",
    "# Crear un DataFrame con los resultados\n",
    "results_df = pd.DataFrame({\n",
    "    'Model': ['OLS{}'.format(i) for i in range(2, 6)],\n",
    "    'R^2': r2_values,\n",
    "    'MAE': mae_values,\n",
    "    'AIC': aic_values,\n",
    "    'BIC': bic_values\n",
    "})\n",
    "\n",
    "\n",
    "# Concatenar el DataFrame del modelo OLS con el DataFrame de resultados\n",
    "results_df = pd.concat([ols_results_df, results_df]).reset_index(drop=True)\n",
    "\n",
    "\n",
    "# Lista de descripciones para cada modelo\n",
    "descriptions = [\n",
    "    'Modelo inicial - Carlos',\n",
    "    'Sólo BERT',\n",
    "    'ACP_NEG y ACP_NEU_noPOS',\n",
    "    'Sólo ACP_NEU_noPOS',\n",
    "    'BERT y análisis de sentimiento'\n",
    "]\n",
    "\n",
    "# Añadir la columna Descripción al DataFrame\n",
    "results_df['Descripción'] = descriptions\n",
    "\n",
    "# Imprimir el DataFrame\n",
    "print(results_df)"
   ]
  },
  {
   "cell_type": "markdown",
   "id": "d6f841dd-d0b9-49e3-9177-2366b51a084b",
   "metadata": {},
   "source": [
    "El que más aumenta el R$^2$ y más reduce el MAE (Error Medio Absoluto) es el modelo que considera sólo el análisis de sentimiento, con `ACP_NEG` y `ACP_NEU_noPOS`. Aún así, el impacto es bastante limitado."
   ]
  },
  {
   "cell_type": "markdown",
   "id": "60368f2f-c0bd-443d-ad6e-ec7d38636999",
   "metadata": {},
   "source": [
    "Sin embargo, el que tiene menor AIC y BIC (que miden el balance entre capacidad predictiva y complejidad) es el modelo que toma en cuenta sólo a `ACP_NEG`, que es la única del análisis de sentimiento con coeficiente significativo dentro de los modelos.."
   ]
  }
 ],
 "metadata": {
  "kernelspec": {
   "display_name": "Python 3 (ipykernel)",
   "language": "python",
   "name": "python3"
  },
  "language_info": {
   "codemirror_mode": {
    "name": "ipython",
    "version": 3
   },
   "file_extension": ".py",
   "mimetype": "text/x-python",
   "name": "python",
   "nbconvert_exporter": "python",
   "pygments_lexer": "ipython3",
   "version": "3.11.5"
  }
 },
 "nbformat": 4,
 "nbformat_minor": 5
}
