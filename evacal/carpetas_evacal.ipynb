{
  "nbformat": 4,
  "nbformat_minor": 0,
  "metadata": {
    "colab": {
      "provenance": [],
      "authorship_tag": "ABX9TyMbCD2hHnHFwwaImr6Kbf4H",
      "include_colab_link": true
    },
    "kernelspec": {
      "name": "python3",
      "display_name": "Python 3"
    },
    "language_info": {
      "name": "python"
    }
  },
  "cells": [
    {
      "cell_type": "markdown",
      "metadata": {
        "id": "view-in-github",
        "colab_type": "text"
      },
      "source": [
        "<a href=\"https://colab.research.google.com/github/jrojasquiroz/hppAI/blob/main/evacal/carpetas_evacal.ipynb\" target=\"_parent\"><img src=\"https://colab.research.google.com/assets/colab-badge.svg\" alt=\"Open In Colab\"/></a>"
      ]
    },
    {
      "cell_type": "code",
      "execution_count": 39,
      "metadata": {
        "colab": {
          "base_uri": "https://localhost:8080/"
        },
        "id": "a1ga8WNdqqj7",
        "outputId": "6b3120b2-ec96-481c-c319-2471d134d20d"
      },
      "outputs": [
        {
          "output_type": "stream",
          "name": "stdout",
          "text": [
            "Drive already mounted at /content/drive; to attempt to forcibly remount, call drive.mount(\"/content/drive\", force_remount=True).\n"
          ]
        }
      ],
      "source": [
        "from google.colab import drive\n",
        "drive.mount('/content/drive')"
      ]
    },
    {
      "cell_type": "code",
      "source": [
        "import os\n",
        "import pandas as pd\n",
        "import shutil\n",
        "from PIL import Image\n",
        "import random"
      ],
      "metadata": {
        "id": "i718uNJNtrqx"
      },
      "execution_count": 40,
      "outputs": []
    },
    {
      "cell_type": "markdown",
      "source": [
        "Con el siguiente código creo carpetas tal y como lo he pensado: una por cada columna, y dentro de ellas `train`, `test` y `validation`, tal como en [el ejemplo](https://www.youtube.com/watch?v=KZwuhl4hXok&t=83s) que revisado.\n",
        "\n",
        "En este caso, las creo dentro de `orden_tercer_intento`."
      ],
      "metadata": {
        "id": "yVZ3B2xE4ulv"
      }
    },
    {
      "cell_type": "code",
      "source": [
        "# Ruta base\n",
        "ruta_base = \"/content/drive/MyDrive/Documentos personales/9-Documentos Doctorado/Doctorado 2023/7-Clases/SRGVUA/evacal/orden_tercer_intento\"\n",
        "\n",
        "# Lista de carpetas y subcarpetas\n",
        "carpetas = {\n",
        "    \"C_contempo\": [\"train\", \"test\", \"validation\"],\n",
        "    \"C_estado\": [\"train\", \"test\", \"validation\"],\n",
        "    \"C_armarios\": [\"train\", \"test\", \"validation\"],\n",
        "    \"B_contempo\": [\"train\", \"test\", \"validation\"],\n",
        "    \"B_estado\": [\"train\", \"test\", \"validation\"],\n",
        "    \"B_lavamano\": [\"train\", \"test\", \"validation\"],\n",
        "    \"R_contempo\": [\"train\", \"test\", \"validation\"],\n",
        "    \"R_estado\": [\"train\", \"test\", \"validation\"],\n",
        "    \"R_carpinteria\": [\"train\", \"test\", \"validation\"],\n",
        "    \"R_singular\": [\"train\", \"test\", \"validation\"],\n",
        "    \"R_ventana\": [\"train\", \"test\", \"validation\"]\n",
        "}\n",
        "\n",
        "# Crear las carpetas y subcarpetas\n",
        "for carpeta, subcarpetas in carpetas.items():\n",
        "    carpeta_path = os.path.join(ruta_base, carpeta)\n",
        "    os.makedirs(carpeta_path, exist_ok=True)\n",
        "    for subcarpeta in subcarpetas:\n",
        "        subcarpeta_path = os.path.join(carpeta_path, subcarpeta)\n",
        "        os.makedirs(subcarpeta_path, exist_ok=True)\n",
        "        # Crear subcarpetas adicionales dentro de train, test y validation\n",
        "        if carpeta == \"C_estado\" or carpeta == \"B_estado\" or carpeta == \"R_estado\":\n",
        "            for i in range(3):\n",
        "                subcarpeta_adicional_path = os.path.join(subcarpeta_path, str(i))\n",
        "                os.makedirs(subcarpeta_adicional_path, exist_ok=True)\n",
        "        else:\n",
        "            subcarpeta_adicional_path = os.path.join(subcarpeta_path, \"0\")\n",
        "            os.makedirs(subcarpeta_adicional_path, exist_ok=True)\n",
        "            subcarpeta_adicional_path = os.path.join(subcarpeta_path, \"1\")\n",
        "            os.makedirs(subcarpeta_adicional_path, exist_ok=True)"
      ],
      "metadata": {
        "id": "cv0HBecW4X7X"
      },
      "execution_count": 51,
      "outputs": []
    },
    {
      "cell_type": "markdown",
      "source": [
        "Ahora voy a limpiar el dataframe que tiene la evaluación de cada caso."
      ],
      "metadata": {
        "id": "fwjVE63s24kk"
      }
    },
    {
      "cell_type": "code",
      "source": [
        "df=pd.read_excel('/content/drive/MyDrive/Documentos personales/9-Documentos Doctorado/Doctorado 2023/7-Clases/SRGVUA/evacal/tercer_intento/evaluacion_inicio.xlsx')\n",
        "print(df.columns.tolist())"
      ],
      "metadata": {
        "colab": {
          "base_uri": "https://localhost:8080/"
        },
        "id": "Lj6RQGXW272f",
        "outputId": "0e542490-75a3-4a14-b087-586d9dd5e9bd"
      },
      "execution_count": 43,
      "outputs": [
        {
          "output_type": "stream",
          "name": "stdout",
          "text": [
            "['ID_general', 'ID', 'Title', 'Link', 'precio_euros', 'codigo_inmueble', 'Description', 'last_mod', 'dummy_indice', 'indice_alquiler', 'area', 'n_rooms', 'price_m2', 'n_baths', 'n_aseo', 'laundry', 'buhardilla', 'despacho', 'trastero', 'terrace', 'kwhm2_year', 'kgCO2m2_year', 'dummy_consum_EPC', 'dummy_emission_EPC', 'consum_A', 'consum_B', 'consum_C', 'consum_D', 'consum_E', 'consum_F', 'consum_G', 'emission_A', 'emission_B', 'emission_C', 'emission_D', 'emission_E', 'emission_F', 'emission_G', 'AC', 'parking', 'pool', 'lift', 'furniture', 'public_transp', 'barrio', 'codigo_inmueble_numero', 'Lat_Y', 'Lon_X', 'multifam', 'atico', 'duplex', 'estudio', 'loft', 'piso', 'triplex', 'AMB', 'MAD', 'C_contempo', 'C_estado', 'C_armarios', 'B_contempo', 'B_estado', 'B_lavamano', 'R_contempo', 'R_estado', 'R_carpinteria', 'R_singular', 'R_ventana', 'dumi_precio_reduccion', 'Precio_reduccion', 'Anuncio_invalido', 'Responsable']\n"
          ]
        }
      ]
    },
    {
      "cell_type": "code",
      "source": [
        "df= df[df['Anuncio_invalido'].isna()]"
      ],
      "metadata": {
        "id": "5rKNNWbS42D6"
      },
      "execution_count": 44,
      "outputs": []
    },
    {
      "cell_type": "code",
      "source": [
        "df=df[['ID_general','C_contempo', 'C_estado', 'C_armarios', 'B_contempo', 'B_estado', 'B_lavamano',\n",
        "       'R_contempo', 'R_estado', 'R_carpinteria', 'R_singular', 'R_ventana']]"
      ],
      "metadata": {
        "id": "14tlZrTu4fPK"
      },
      "execution_count": 45,
      "outputs": []
    },
    {
      "cell_type": "code",
      "source": [
        "len(df)"
      ],
      "metadata": {
        "colab": {
          "base_uri": "https://localhost:8080/"
        },
        "id": "_mgY1WeD5Zzw",
        "outputId": "e002dc2e-8529-4420-a013-a9c7d61d79e4"
      },
      "execution_count": 46,
      "outputs": [
        {
          "output_type": "execute_result",
          "data": {
            "text/plain": [
              "86"
            ]
          },
          "metadata": {},
          "execution_count": 46
        }
      ]
    },
    {
      "cell_type": "code",
      "source": [
        "df['R_singular'].isna().sum()"
      ],
      "metadata": {
        "colab": {
          "base_uri": "https://localhost:8080/"
        },
        "id": "eU7ZNgppBfZC",
        "outputId": "22e25eab-884d-4d88-94e4-1018100c8a61"
      },
      "execution_count": 47,
      "outputs": [
        {
          "output_type": "execute_result",
          "data": {
            "text/plain": [
              "0"
            ]
          },
          "metadata": {},
          "execution_count": 47
        }
      ]
    },
    {
      "cell_type": "code",
      "source": [
        "df[['C_contempo', 'C_estado', 'C_armarios', 'B_contempo', 'B_estado', 'B_lavamano',\n",
        "       'R_contempo', 'R_estado', 'R_carpinteria', 'R_singular', 'R_ventana']]=df[['C_contempo', 'C_estado', 'C_armarios', 'B_contempo', 'B_estado', 'B_lavamano',\n",
        "       'R_contempo', 'R_estado', 'R_carpinteria', 'R_singular', 'R_ventana']].astype(int)"
      ],
      "metadata": {
        "id": "m_bYy7bI8H-1"
      },
      "execution_count": 48,
      "outputs": []
    },
    {
      "cell_type": "markdown",
      "source": [
        "Hay que tener cuidado que `df` siempre tenga esta apariencia. Si, por ejemplo, en lugar de valores enteros hubieran decimales, la operación hacia adelante puede arrojar errores.\n",
        "\n",
        "Otra de las situaciones que observé fue que habían algunas columnas habían sido dejadas en blanco por error durante el llenado de datos."
      ],
      "metadata": {
        "id": "ZFedKUjDJsYU"
      }
    },
    {
      "cell_type": "code",
      "source": [
        "df.head()"
      ],
      "metadata": {
        "colab": {
          "base_uri": "https://localhost:8080/",
          "height": 206
        },
        "id": "TrlnuNcJ7zl0",
        "outputId": "1063f036-2544-4620-b31b-17cba01fb050"
      },
      "execution_count": 49,
      "outputs": [
        {
          "output_type": "execute_result",
          "data": {
            "text/plain": [
              "    ID_general  C_contempo  C_estado  C_armarios  B_contempo  B_estado  \\\n",
              "3            4           1         2           1           1         2   \n",
              "5            6           1         2           1           1         2   \n",
              "6            7           1         2           1           1         2   \n",
              "11          12           1         2           1           1         2   \n",
              "12          13           1         2           1           1         2   \n",
              "\n",
              "    B_lavamano  R_contempo  R_estado  R_carpinteria  R_singular  R_ventana  \n",
              "3            1           0         1              1           0          1  \n",
              "5            1           1         2              1           0          0  \n",
              "6            1           1         2              1           0          1  \n",
              "11           1           1         2              1           0          1  \n",
              "12           1           1         2              2           0          1  "
            ],
            "text/html": [
              "\n",
              "  <div id=\"df-a09e44b4-cdc4-4576-bbe9-c1487553584d\" class=\"colab-df-container\">\n",
              "    <div>\n",
              "<style scoped>\n",
              "    .dataframe tbody tr th:only-of-type {\n",
              "        vertical-align: middle;\n",
              "    }\n",
              "\n",
              "    .dataframe tbody tr th {\n",
              "        vertical-align: top;\n",
              "    }\n",
              "\n",
              "    .dataframe thead th {\n",
              "        text-align: right;\n",
              "    }\n",
              "</style>\n",
              "<table border=\"1\" class=\"dataframe\">\n",
              "  <thead>\n",
              "    <tr style=\"text-align: right;\">\n",
              "      <th></th>\n",
              "      <th>ID_general</th>\n",
              "      <th>C_contempo</th>\n",
              "      <th>C_estado</th>\n",
              "      <th>C_armarios</th>\n",
              "      <th>B_contempo</th>\n",
              "      <th>B_estado</th>\n",
              "      <th>B_lavamano</th>\n",
              "      <th>R_contempo</th>\n",
              "      <th>R_estado</th>\n",
              "      <th>R_carpinteria</th>\n",
              "      <th>R_singular</th>\n",
              "      <th>R_ventana</th>\n",
              "    </tr>\n",
              "  </thead>\n",
              "  <tbody>\n",
              "    <tr>\n",
              "      <th>3</th>\n",
              "      <td>4</td>\n",
              "      <td>1</td>\n",
              "      <td>2</td>\n",
              "      <td>1</td>\n",
              "      <td>1</td>\n",
              "      <td>2</td>\n",
              "      <td>1</td>\n",
              "      <td>0</td>\n",
              "      <td>1</td>\n",
              "      <td>1</td>\n",
              "      <td>0</td>\n",
              "      <td>1</td>\n",
              "    </tr>\n",
              "    <tr>\n",
              "      <th>5</th>\n",
              "      <td>6</td>\n",
              "      <td>1</td>\n",
              "      <td>2</td>\n",
              "      <td>1</td>\n",
              "      <td>1</td>\n",
              "      <td>2</td>\n",
              "      <td>1</td>\n",
              "      <td>1</td>\n",
              "      <td>2</td>\n",
              "      <td>1</td>\n",
              "      <td>0</td>\n",
              "      <td>0</td>\n",
              "    </tr>\n",
              "    <tr>\n",
              "      <th>6</th>\n",
              "      <td>7</td>\n",
              "      <td>1</td>\n",
              "      <td>2</td>\n",
              "      <td>1</td>\n",
              "      <td>1</td>\n",
              "      <td>2</td>\n",
              "      <td>1</td>\n",
              "      <td>1</td>\n",
              "      <td>2</td>\n",
              "      <td>1</td>\n",
              "      <td>0</td>\n",
              "      <td>1</td>\n",
              "    </tr>\n",
              "    <tr>\n",
              "      <th>11</th>\n",
              "      <td>12</td>\n",
              "      <td>1</td>\n",
              "      <td>2</td>\n",
              "      <td>1</td>\n",
              "      <td>1</td>\n",
              "      <td>2</td>\n",
              "      <td>1</td>\n",
              "      <td>1</td>\n",
              "      <td>2</td>\n",
              "      <td>1</td>\n",
              "      <td>0</td>\n",
              "      <td>1</td>\n",
              "    </tr>\n",
              "    <tr>\n",
              "      <th>12</th>\n",
              "      <td>13</td>\n",
              "      <td>1</td>\n",
              "      <td>2</td>\n",
              "      <td>1</td>\n",
              "      <td>1</td>\n",
              "      <td>2</td>\n",
              "      <td>1</td>\n",
              "      <td>1</td>\n",
              "      <td>2</td>\n",
              "      <td>2</td>\n",
              "      <td>0</td>\n",
              "      <td>1</td>\n",
              "    </tr>\n",
              "  </tbody>\n",
              "</table>\n",
              "</div>\n",
              "    <div class=\"colab-df-buttons\">\n",
              "\n",
              "  <div class=\"colab-df-container\">\n",
              "    <button class=\"colab-df-convert\" onclick=\"convertToInteractive('df-a09e44b4-cdc4-4576-bbe9-c1487553584d')\"\n",
              "            title=\"Convert this dataframe to an interactive table.\"\n",
              "            style=\"display:none;\">\n",
              "\n",
              "  <svg xmlns=\"http://www.w3.org/2000/svg\" height=\"24px\" viewBox=\"0 -960 960 960\">\n",
              "    <path d=\"M120-120v-720h720v720H120Zm60-500h600v-160H180v160Zm220 220h160v-160H400v160Zm0 220h160v-160H400v160ZM180-400h160v-160H180v160Zm440 0h160v-160H620v160ZM180-180h160v-160H180v160Zm440 0h160v-160H620v160Z\"/>\n",
              "  </svg>\n",
              "    </button>\n",
              "\n",
              "  <style>\n",
              "    .colab-df-container {\n",
              "      display:flex;\n",
              "      gap: 12px;\n",
              "    }\n",
              "\n",
              "    .colab-df-convert {\n",
              "      background-color: #E8F0FE;\n",
              "      border: none;\n",
              "      border-radius: 50%;\n",
              "      cursor: pointer;\n",
              "      display: none;\n",
              "      fill: #1967D2;\n",
              "      height: 32px;\n",
              "      padding: 0 0 0 0;\n",
              "      width: 32px;\n",
              "    }\n",
              "\n",
              "    .colab-df-convert:hover {\n",
              "      background-color: #E2EBFA;\n",
              "      box-shadow: 0px 1px 2px rgba(60, 64, 67, 0.3), 0px 1px 3px 1px rgba(60, 64, 67, 0.15);\n",
              "      fill: #174EA6;\n",
              "    }\n",
              "\n",
              "    .colab-df-buttons div {\n",
              "      margin-bottom: 4px;\n",
              "    }\n",
              "\n",
              "    [theme=dark] .colab-df-convert {\n",
              "      background-color: #3B4455;\n",
              "      fill: #D2E3FC;\n",
              "    }\n",
              "\n",
              "    [theme=dark] .colab-df-convert:hover {\n",
              "      background-color: #434B5C;\n",
              "      box-shadow: 0px 1px 3px 1px rgba(0, 0, 0, 0.15);\n",
              "      filter: drop-shadow(0px 1px 2px rgba(0, 0, 0, 0.3));\n",
              "      fill: #FFFFFF;\n",
              "    }\n",
              "  </style>\n",
              "\n",
              "    <script>\n",
              "      const buttonEl =\n",
              "        document.querySelector('#df-a09e44b4-cdc4-4576-bbe9-c1487553584d button.colab-df-convert');\n",
              "      buttonEl.style.display =\n",
              "        google.colab.kernel.accessAllowed ? 'block' : 'none';\n",
              "\n",
              "      async function convertToInteractive(key) {\n",
              "        const element = document.querySelector('#df-a09e44b4-cdc4-4576-bbe9-c1487553584d');\n",
              "        const dataTable =\n",
              "          await google.colab.kernel.invokeFunction('convertToInteractive',\n",
              "                                                    [key], {});\n",
              "        if (!dataTable) return;\n",
              "\n",
              "        const docLinkHtml = 'Like what you see? Visit the ' +\n",
              "          '<a target=\"_blank\" href=https://colab.research.google.com/notebooks/data_table.ipynb>data table notebook</a>'\n",
              "          + ' to learn more about interactive tables.';\n",
              "        element.innerHTML = '';\n",
              "        dataTable['output_type'] = 'display_data';\n",
              "        await google.colab.output.renderOutput(dataTable, element);\n",
              "        const docLink = document.createElement('div');\n",
              "        docLink.innerHTML = docLinkHtml;\n",
              "        element.appendChild(docLink);\n",
              "      }\n",
              "    </script>\n",
              "  </div>\n",
              "\n",
              "\n",
              "<div id=\"df-3e9411d1-51a0-47b8-bbc6-7f308bac7ecb\">\n",
              "  <button class=\"colab-df-quickchart\" onclick=\"quickchart('df-3e9411d1-51a0-47b8-bbc6-7f308bac7ecb')\"\n",
              "            title=\"Suggest charts\"\n",
              "            style=\"display:none;\">\n",
              "\n",
              "<svg xmlns=\"http://www.w3.org/2000/svg\" height=\"24px\"viewBox=\"0 0 24 24\"\n",
              "     width=\"24px\">\n",
              "    <g>\n",
              "        <path d=\"M19 3H5c-1.1 0-2 .9-2 2v14c0 1.1.9 2 2 2h14c1.1 0 2-.9 2-2V5c0-1.1-.9-2-2-2zM9 17H7v-7h2v7zm4 0h-2V7h2v10zm4 0h-2v-4h2v4z\"/>\n",
              "    </g>\n",
              "</svg>\n",
              "  </button>\n",
              "\n",
              "<style>\n",
              "  .colab-df-quickchart {\n",
              "      --bg-color: #E8F0FE;\n",
              "      --fill-color: #1967D2;\n",
              "      --hover-bg-color: #E2EBFA;\n",
              "      --hover-fill-color: #174EA6;\n",
              "      --disabled-fill-color: #AAA;\n",
              "      --disabled-bg-color: #DDD;\n",
              "  }\n",
              "\n",
              "  [theme=dark] .colab-df-quickchart {\n",
              "      --bg-color: #3B4455;\n",
              "      --fill-color: #D2E3FC;\n",
              "      --hover-bg-color: #434B5C;\n",
              "      --hover-fill-color: #FFFFFF;\n",
              "      --disabled-bg-color: #3B4455;\n",
              "      --disabled-fill-color: #666;\n",
              "  }\n",
              "\n",
              "  .colab-df-quickchart {\n",
              "    background-color: var(--bg-color);\n",
              "    border: none;\n",
              "    border-radius: 50%;\n",
              "    cursor: pointer;\n",
              "    display: none;\n",
              "    fill: var(--fill-color);\n",
              "    height: 32px;\n",
              "    padding: 0;\n",
              "    width: 32px;\n",
              "  }\n",
              "\n",
              "  .colab-df-quickchart:hover {\n",
              "    background-color: var(--hover-bg-color);\n",
              "    box-shadow: 0 1px 2px rgba(60, 64, 67, 0.3), 0 1px 3px 1px rgba(60, 64, 67, 0.15);\n",
              "    fill: var(--button-hover-fill-color);\n",
              "  }\n",
              "\n",
              "  .colab-df-quickchart-complete:disabled,\n",
              "  .colab-df-quickchart-complete:disabled:hover {\n",
              "    background-color: var(--disabled-bg-color);\n",
              "    fill: var(--disabled-fill-color);\n",
              "    box-shadow: none;\n",
              "  }\n",
              "\n",
              "  .colab-df-spinner {\n",
              "    border: 2px solid var(--fill-color);\n",
              "    border-color: transparent;\n",
              "    border-bottom-color: var(--fill-color);\n",
              "    animation:\n",
              "      spin 1s steps(1) infinite;\n",
              "  }\n",
              "\n",
              "  @keyframes spin {\n",
              "    0% {\n",
              "      border-color: transparent;\n",
              "      border-bottom-color: var(--fill-color);\n",
              "      border-left-color: var(--fill-color);\n",
              "    }\n",
              "    20% {\n",
              "      border-color: transparent;\n",
              "      border-left-color: var(--fill-color);\n",
              "      border-top-color: var(--fill-color);\n",
              "    }\n",
              "    30% {\n",
              "      border-color: transparent;\n",
              "      border-left-color: var(--fill-color);\n",
              "      border-top-color: var(--fill-color);\n",
              "      border-right-color: var(--fill-color);\n",
              "    }\n",
              "    40% {\n",
              "      border-color: transparent;\n",
              "      border-right-color: var(--fill-color);\n",
              "      border-top-color: var(--fill-color);\n",
              "    }\n",
              "    60% {\n",
              "      border-color: transparent;\n",
              "      border-right-color: var(--fill-color);\n",
              "    }\n",
              "    80% {\n",
              "      border-color: transparent;\n",
              "      border-right-color: var(--fill-color);\n",
              "      border-bottom-color: var(--fill-color);\n",
              "    }\n",
              "    90% {\n",
              "      border-color: transparent;\n",
              "      border-bottom-color: var(--fill-color);\n",
              "    }\n",
              "  }\n",
              "</style>\n",
              "\n",
              "  <script>\n",
              "    async function quickchart(key) {\n",
              "      const quickchartButtonEl =\n",
              "        document.querySelector('#' + key + ' button');\n",
              "      quickchartButtonEl.disabled = true;  // To prevent multiple clicks.\n",
              "      quickchartButtonEl.classList.add('colab-df-spinner');\n",
              "      try {\n",
              "        const charts = await google.colab.kernel.invokeFunction(\n",
              "            'suggestCharts', [key], {});\n",
              "      } catch (error) {\n",
              "        console.error('Error during call to suggestCharts:', error);\n",
              "      }\n",
              "      quickchartButtonEl.classList.remove('colab-df-spinner');\n",
              "      quickchartButtonEl.classList.add('colab-df-quickchart-complete');\n",
              "    }\n",
              "    (() => {\n",
              "      let quickchartButtonEl =\n",
              "        document.querySelector('#df-3e9411d1-51a0-47b8-bbc6-7f308bac7ecb button');\n",
              "      quickchartButtonEl.style.display =\n",
              "        google.colab.kernel.accessAllowed ? 'block' : 'none';\n",
              "    })();\n",
              "  </script>\n",
              "</div>\n",
              "    </div>\n",
              "  </div>\n"
            ],
            "application/vnd.google.colaboratory.intrinsic+json": {
              "type": "dataframe",
              "variable_name": "df",
              "summary": "{\n  \"name\": \"df\",\n  \"rows\": 86,\n  \"fields\": [\n    {\n      \"column\": \"ID_general\",\n      \"properties\": {\n        \"dtype\": \"number\",\n        \"std\": 39,\n        \"min\": 4,\n        \"max\": 140,\n        \"num_unique_values\": 85,\n        \"samples\": [\n          131,\n          4,\n          120\n        ],\n        \"semantic_type\": \"\",\n        \"description\": \"\"\n      }\n    },\n    {\n      \"column\": \"C_contempo\",\n      \"properties\": {\n        \"dtype\": \"number\",\n        \"std\": 0,\n        \"min\": 0,\n        \"max\": 1,\n        \"num_unique_values\": 2,\n        \"samples\": [\n          0,\n          1\n        ],\n        \"semantic_type\": \"\",\n        \"description\": \"\"\n      }\n    },\n    {\n      \"column\": \"C_estado\",\n      \"properties\": {\n        \"dtype\": \"number\",\n        \"std\": 0,\n        \"min\": 0,\n        \"max\": 2,\n        \"num_unique_values\": 3,\n        \"samples\": [\n          2,\n          1\n        ],\n        \"semantic_type\": \"\",\n        \"description\": \"\"\n      }\n    },\n    {\n      \"column\": \"C_armarios\",\n      \"properties\": {\n        \"dtype\": \"number\",\n        \"std\": 0,\n        \"min\": 0,\n        \"max\": 1,\n        \"num_unique_values\": 2,\n        \"samples\": [\n          0,\n          1\n        ],\n        \"semantic_type\": \"\",\n        \"description\": \"\"\n      }\n    },\n    {\n      \"column\": \"B_contempo\",\n      \"properties\": {\n        \"dtype\": \"number\",\n        \"std\": 0,\n        \"min\": 0,\n        \"max\": 1,\n        \"num_unique_values\": 2,\n        \"samples\": [\n          0,\n          1\n        ],\n        \"semantic_type\": \"\",\n        \"description\": \"\"\n      }\n    },\n    {\n      \"column\": \"B_estado\",\n      \"properties\": {\n        \"dtype\": \"number\",\n        \"std\": 0,\n        \"min\": 0,\n        \"max\": 2,\n        \"num_unique_values\": 3,\n        \"samples\": [\n          2,\n          1\n        ],\n        \"semantic_type\": \"\",\n        \"description\": \"\"\n      }\n    },\n    {\n      \"column\": \"B_lavamano\",\n      \"properties\": {\n        \"dtype\": \"number\",\n        \"std\": 0,\n        \"min\": 0,\n        \"max\": 2,\n        \"num_unique_values\": 3,\n        \"samples\": [\n          1,\n          0\n        ],\n        \"semantic_type\": \"\",\n        \"description\": \"\"\n      }\n    },\n    {\n      \"column\": \"R_contempo\",\n      \"properties\": {\n        \"dtype\": \"number\",\n        \"std\": 0,\n        \"min\": 0,\n        \"max\": 1,\n        \"num_unique_values\": 2,\n        \"samples\": [\n          1,\n          0\n        ],\n        \"semantic_type\": \"\",\n        \"description\": \"\"\n      }\n    },\n    {\n      \"column\": \"R_estado\",\n      \"properties\": {\n        \"dtype\": \"number\",\n        \"std\": 0,\n        \"min\": 0,\n        \"max\": 3,\n        \"num_unique_values\": 4,\n        \"samples\": [\n          2,\n          3\n        ],\n        \"semantic_type\": \"\",\n        \"description\": \"\"\n      }\n    },\n    {\n      \"column\": \"R_carpinteria\",\n      \"properties\": {\n        \"dtype\": \"number\",\n        \"std\": 0,\n        \"min\": 0,\n        \"max\": 2,\n        \"num_unique_values\": 3,\n        \"samples\": [\n          1,\n          2\n        ],\n        \"semantic_type\": \"\",\n        \"description\": \"\"\n      }\n    },\n    {\n      \"column\": \"R_singular\",\n      \"properties\": {\n        \"dtype\": \"number\",\n        \"std\": 0,\n        \"min\": 0,\n        \"max\": 1,\n        \"num_unique_values\": 2,\n        \"samples\": [\n          1,\n          0\n        ],\n        \"semantic_type\": \"\",\n        \"description\": \"\"\n      }\n    },\n    {\n      \"column\": \"R_ventana\",\n      \"properties\": {\n        \"dtype\": \"number\",\n        \"std\": 0,\n        \"min\": 0,\n        \"max\": 1,\n        \"num_unique_values\": 2,\n        \"samples\": [\n          0,\n          1\n        ],\n        \"semantic_type\": \"\",\n        \"description\": \"\"\n      }\n    }\n  ]\n}"
            }
          },
          "metadata": {},
          "execution_count": 49
        }
      ]
    },
    {
      "cell_type": "markdown",
      "source": [
        "A continuación, dado que en `tercer_intento` es en donde están almacenadas las imágenes tal y como los chicos las descargarán, reviso esa carpeta y correspondientes sub-carpetas para trasladarlas hacia `orden_tercer_intento`.\n",
        "\n",
        "He preferido hacerlo con Google Colab porque al hacerlo directamente con Jupyter Notebook recibía el mensaje de que no tenía permiso de administrador del sistema (esto en la PC del CPSV, no lo probé en la laptop)."
      ],
      "metadata": {
        "id": "VLMyd9Pe5JVG"
      }
    },
    {
      "cell_type": "code",
      "source": [
        "# Ruta del archivo Excel\n",
        "#excel_path = \"/content/drive/MyDrive/Documentos personales/9-Documentos Doctorado/Doctorado 2023/7-Clases/SRGVUA/evacal/tercer_intento/evaluacion_inicio.xlsx\"\n",
        "\n",
        "# Ruta base para las imágenes\n",
        "imagenes_base = \"/content/drive/MyDrive/Documentos personales/9-Documentos Doctorado/Doctorado 2023/7-Clases/SRGVUA/evacal/tercer_intento/imagenes\"\n",
        "\n",
        "# Ruta base para las imágenes modificadas\n",
        "imagenes_mod = \"/content/drive/MyDrive/Documentos personales/9-Documentos Doctorado/Doctorado 2023/7-Clases/SRGVUA/evacal/orden_tercer_intento\"\n",
        "\n",
        "# Leer el archivo Excel\n",
        "#df = pd.read_excel(excel_path)\n",
        "\n",
        "# Iterar sobre cada fila del DataFrame\n",
        "for index, row in df.iterrows():\n",
        "    caso_id = str(row['ID_general'])  # Obtener el ID del caso\n",
        "\n",
        "    # Iterar sobre las letras (B, C, R)\n",
        "    for letra in ['B', 'C', 'R']:\n",
        "        carpeta_caso = os.path.join(imagenes_base, caso_id, letra)\n",
        "\n",
        "        # Iterar sobre las columnas relevantes\n",
        "        for columna in ['C_contempo', 'C_estado', 'C_armarios', 'B_contempo', 'B_estado', 'B_lavamano',\n",
        "                        'R_contempo', 'R_estado', 'R_carpinteria', 'R_singular', 'R_ventana']:\n",
        "            valor = row[columna]\n",
        "            # Determinar la ruta de destino según la calificación\n",
        "            ruta_destino = os.path.join(imagenes_mod, columna, 'train', str(valor))\n",
        "\n",
        "            # Copiar la imagen a la carpeta de destino\n",
        "            for item in os.listdir(carpeta_caso):\n",
        "                # Obtener la ruta completa del elemento\n",
        "                item_path = os.path.join(carpeta_caso, item)\n",
        "                # Verificar si el elemento es un archivo y si tiene la extensión .png\n",
        "                if os.path.isfile(item_path) and item.endswith('.png'):\n",
        "                    # Obtener la letra de la carpeta de origen\n",
        "                    letra_origen = carpeta_caso.split('/')[-1]\n",
        "                    # Verificar si la letra de la carpeta de origen coincide con la letra de la columna\n",
        "                    if letra_origen == columna.split('_')[0]:\n",
        "                        # Copiar el archivo a la carpeta de destino\n",
        "                        shutil.copy(item_path, ruta_destino)\n"
      ],
      "metadata": {
        "id": "JKaWuLf33J2K"
      },
      "execution_count": 52,
      "outputs": []
    },
    {
      "cell_type": "markdown",
      "source": [
        "# 1. `B_contempo`"
      ],
      "metadata": {
        "id": "ZwPbbgTTKb-E"
      }
    },
    {
      "cell_type": "markdown",
      "source": [
        "## 1.1. Muestras de testeo"
      ],
      "metadata": {
        "id": "pLpun3JAKgUS"
      }
    },
    {
      "cell_type": "markdown",
      "source": [
        "Ahora corresponde mover imágenes desde `train` hacia `test`. Tomaré el 20% de cada categoría, `0` y `1` en este caso.\n",
        "\n",
        "Previamente he notado que habían <mark>imágenes corruptas</mark> (cuando intentaba abrirlas, el visor indicaba problemas. Eran aquellas que iniciaban su nombre con un punto. P. ej. \"._B1.png\"), las he tenido que sacar de la carpeta.\n"
      ],
      "metadata": {
        "id": "kBBRVGt6GHy-"
      }
    },
    {
      "cell_type": "code",
      "source": [
        "# Ruta de la carpeta de entrenamiento y prueba para la clase 0\n",
        "train_folder_0 = \"/content/drive/MyDrive/Documentos personales/9-Documentos Doctorado/Doctorado 2023/7-Clases/SRGVUA/evacal/orden_tercer_intento/B_contempo/train/0\"\n",
        "test_folder_0 = \"/content/drive/MyDrive/Documentos personales/9-Documentos Doctorado/Doctorado 2023/7-Clases/SRGVUA/evacal/orden_tercer_intento/B_contempo/test/0\"\n",
        "\n",
        "# Ruta de la carpeta de entrenamiento y prueba para la clase 1\n",
        "train_folder_1 = \"/content/drive/MyDrive/Documentos personales/9-Documentos Doctorado/Doctorado 2023/7-Clases/SRGVUA/evacal/orden_tercer_intento/B_contempo/train/1\"\n",
        "test_folder_1 = \"/content/drive/MyDrive/Documentos personales/9-Documentos Doctorado/Doctorado 2023/7-Clases/SRGVUA/evacal/orden_tercer_intento/B_contempo/test/1\"\n",
        "\n",
        "# Función para mover imágenes aleatorias a la carpeta de prueba\n",
        "def move_random_images(source_folder, destination_folder, percentage):\n",
        "    # Obtener la lista de archivos en la carpeta de origen\n",
        "    files = os.listdir(source_folder)\n",
        "    # Calcular el número de imágenes que representan el porcentaje dado\n",
        "    num_images_to_move = int(len(files) * percentage / 100)\n",
        "    # Elegir imágenes al azar\n",
        "    images_to_move = random.sample(files, num_images_to_move)\n",
        "    # Mover las imágenes seleccionadas a la carpeta de destino\n",
        "    for image in images_to_move:\n",
        "        shutil.move(os.path.join(source_folder, image), destination_folder)\n",
        "\n",
        "# Contar el número total de imágenes en la carpeta de entrenamiento para la clase 0\n",
        "num_images_train_0 = len(os.listdir(train_folder_0))\n",
        "print(\"Número total de imágenes en la carpeta de entrenamiento para la clase 0:\", num_images_train_0)\n",
        "\n",
        "# Calcular el 10% de esa cantidad\n",
        "percentage_20_train_0 = 20\n",
        "print(\"El 20% del número total de imágenes para la clase 0 es:\", percentage_20_train_0)\n",
        "\n",
        "# Mover imágenes aleatorias a la carpeta de prueba para la clase 0\n",
        "move_random_images(train_folder_0, test_folder_0, percentage_20_train_0)\n",
        "\n",
        "# Repetir el proceso para la clase 1\n",
        "num_images_train_1 = len(os.listdir(train_folder_1))\n",
        "print(\"Número total de imágenes en la carpeta de entrenamiento para la clase 1:\", num_images_train_1)\n",
        "\n",
        "# Calcular el 10% de esa cantidad\n",
        "percentage_20_train_1 = 20\n",
        "print(\"El 20% del número total de imágenes para la clase 1 es:\", percentage_20_train_1)\n",
        "\n",
        "# Mover imágenes aleatorias a la carpeta de prueba para la clase 1\n",
        "move_random_images(train_folder_1, test_folder_1, percentage_20_train_1)\n"
      ],
      "metadata": {
        "colab": {
          "base_uri": "https://localhost:8080/"
        },
        "id": "UR-SRq7XGGWf",
        "outputId": "288fe582-416c-4368-cd0a-9dab3b41daa1"
      },
      "execution_count": 54,
      "outputs": [
        {
          "output_type": "stream",
          "name": "stdout",
          "text": [
            "Número total de imágenes en la carpeta de entrenamiento para la clase 0: 29\n",
            "El 20% del número total de imágenes para la clase 0 es: 20\n",
            "Número total de imágenes en la carpeta de entrenamiento para la clase 1: 69\n",
            "El 20% del número total de imágenes para la clase 1 es: 20\n"
          ]
        }
      ]
    },
    {
      "cell_type": "markdown",
      "source": [
        "## 1.2. Elaboración del modelo"
      ],
      "metadata": {
        "id": "EFYwwW5PKk7e"
      }
    },
    {
      "cell_type": "markdown",
      "source": [
        "Y ahora pruebo con una Red Neuronal Convulacional (CNN)."
      ],
      "metadata": {
        "id": "eTlB6sIfHGar"
      }
    },
    {
      "cell_type": "code",
      "source": [
        "import tensorflow as tf\n",
        "from keras import layers,models\n",
        "import os\n",
        "import numpy as np\n",
        "import cv2\n",
        "import random"
      ],
      "metadata": {
        "id": "S3zlyqrcHKuZ"
      },
      "execution_count": 55,
      "outputs": []
    },
    {
      "cell_type": "code",
      "source": [
        "width = 240\n",
        "height = 240\n",
        "\n",
        "ruta_train = '/content/drive/MyDrive/Documentos personales/9-Documentos Doctorado/Doctorado 2023/7-Clases/SRGVUA/evacal/orden_tercer_intento/B_contempo/train/'\n",
        "\n",
        "train_x = []\n",
        "train_y = []\n",
        "\n",
        "labels = os.listdir(ruta_train)\n",
        "\n",
        "for i in os.listdir(ruta_train):\n",
        "    for j in os.listdir(ruta_train + i):\n",
        "        img = cv2.imread(ruta_train+i+'/'+j)\n",
        "        resized_image = cv2.resize(img, (width,height))\n",
        "\n",
        "        train_x.append(resized_image)\n",
        "\n",
        "        for x,y in enumerate(labels):\n",
        "            if y == i:\n",
        "                array = np.zeros(len(labels))\n",
        "                array[x]=1\n",
        "                train_y.append(array)\n",
        "\n",
        "x_data = np.array(train_x)\n",
        "y_data = np.array(train_y)\n",
        "\n",
        "model = tf.keras.Sequential([\n",
        "    layers.Conv2D(32, 3,3, input_shape=(width, height, 3)),\n",
        "    layers.Activation('relu'),\n",
        "    layers.MaxPooling2D(pool_size=(2,2)),\n",
        "    layers.Conv2D(32, 3,3),\n",
        "    layers.Activation('relu'),\n",
        "    layers.MaxPooling2D(pool_size=(2,2)),\n",
        "    layers.Conv2D(64, 3,3),\n",
        "    layers.Activation('relu'),\n",
        "    layers.MaxPooling2D(pool_size=(2,2)),\n",
        "    layers.Flatten(),\n",
        "    layers.Dense(64),\n",
        "    layers.Activation('relu'),\n",
        "    layers.Dropout(0.5),\n",
        "    layers.Dense(2),\n",
        "    layers.Activation('sigmoid')\n",
        "])\n",
        "\n",
        "model.compile(loss='binary_crossentropy', optimizer='adam', metrics=['accuracy'])\n",
        "\n",
        "epochs = 80\n",
        "\n",
        "model.fit(x_data, y_data, epochs = epochs)\n",
        "\n",
        "models.save_model(model, '/content/drive/MyDrive/Documentos personales/9-Documentos Doctorado/Doctorado 2023/7-Clases/SRGVUA/evacal/orden_tercer_intento/B_contempo/mimodelo.keras')\n",
        "\n",
        "#model = models.load_model('/content/drive/MyDrive/Documentos personales/9-Documentos Doctorado/Doctorado 2023/7-Clases/SRGVUA/evacal/orden_tercer_intento/B_contempo/mimodelo.keras')"
      ],
      "metadata": {
        "id": "pHzR5WrUHR5I",
        "colab": {
          "base_uri": "https://localhost:8080/"
        },
        "outputId": "f494f013-f20e-41ce-8257-71f89c5e43ff"
      },
      "execution_count": 56,
      "outputs": [
        {
          "output_type": "stream",
          "name": "stdout",
          "text": [
            "Epoch 1/80\n",
            "3/3 [==============================] - 2s 160ms/step - loss: 5.2590 - accuracy: 0.6875\n",
            "Epoch 2/80\n",
            "3/3 [==============================] - 1s 198ms/step - loss: 2.2559 - accuracy: 0.6250\n",
            "Epoch 3/80\n",
            "3/3 [==============================] - 1s 166ms/step - loss: 1.6068 - accuracy: 0.5750\n",
            "Epoch 4/80\n",
            "3/3 [==============================] - 1s 153ms/step - loss: 1.0106 - accuracy: 0.6250\n",
            "Epoch 5/80\n",
            "3/3 [==============================] - 0s 139ms/step - loss: 0.8869 - accuracy: 0.5250\n",
            "Epoch 6/80\n",
            "3/3 [==============================] - 1s 163ms/step - loss: 0.8566 - accuracy: 0.7000\n",
            "Epoch 7/80\n",
            "3/3 [==============================] - 0s 148ms/step - loss: 0.6999 - accuracy: 0.7000\n",
            "Epoch 8/80\n",
            "3/3 [==============================] - 0s 137ms/step - loss: 0.6424 - accuracy: 0.6750\n",
            "Epoch 9/80\n",
            "3/3 [==============================] - 0s 92ms/step - loss: 0.6691 - accuracy: 0.6375\n",
            "Epoch 10/80\n",
            "3/3 [==============================] - 0s 93ms/step - loss: 0.6087 - accuracy: 0.7125\n",
            "Epoch 11/80\n",
            "3/3 [==============================] - 0s 88ms/step - loss: 0.5985 - accuracy: 0.7625\n",
            "Epoch 12/80\n",
            "3/3 [==============================] - 0s 86ms/step - loss: 0.5275 - accuracy: 0.7375\n",
            "Epoch 13/80\n",
            "3/3 [==============================] - 0s 101ms/step - loss: 0.5382 - accuracy: 0.7250\n",
            "Epoch 14/80\n",
            "3/3 [==============================] - 0s 93ms/step - loss: 0.5577 - accuracy: 0.7250\n",
            "Epoch 15/80\n",
            "3/3 [==============================] - 0s 90ms/step - loss: 0.5398 - accuracy: 0.7500\n",
            "Epoch 16/80\n",
            "3/3 [==============================] - 0s 91ms/step - loss: 0.4948 - accuracy: 0.7000\n",
            "Epoch 17/80\n",
            "3/3 [==============================] - 0s 88ms/step - loss: 0.4529 - accuracy: 0.8250\n",
            "Epoch 18/80\n",
            "3/3 [==============================] - 0s 88ms/step - loss: 0.4798 - accuracy: 0.7875\n",
            "Epoch 19/80\n",
            "3/3 [==============================] - 0s 92ms/step - loss: 0.4170 - accuracy: 0.8125\n",
            "Epoch 20/80\n",
            "3/3 [==============================] - 0s 92ms/step - loss: 0.4412 - accuracy: 0.7875\n",
            "Epoch 21/80\n",
            "3/3 [==============================] - 0s 85ms/step - loss: 0.4044 - accuracy: 0.8125\n",
            "Epoch 22/80\n",
            "3/3 [==============================] - 0s 97ms/step - loss: 0.3379 - accuracy: 0.8375\n",
            "Epoch 23/80\n",
            "3/3 [==============================] - 0s 86ms/step - loss: 0.3532 - accuracy: 0.8375\n",
            "Epoch 24/80\n",
            "3/3 [==============================] - 0s 86ms/step - loss: 0.3387 - accuracy: 0.9125\n",
            "Epoch 25/80\n",
            "3/3 [==============================] - 0s 87ms/step - loss: 0.2827 - accuracy: 0.9375\n",
            "Epoch 26/80\n",
            "3/3 [==============================] - 0s 88ms/step - loss: 0.2847 - accuracy: 0.9250\n",
            "Epoch 27/80\n",
            "3/3 [==============================] - 0s 94ms/step - loss: 0.2963 - accuracy: 0.9125\n",
            "Epoch 28/80\n",
            "3/3 [==============================] - 0s 87ms/step - loss: 0.2597 - accuracy: 0.9375\n",
            "Epoch 29/80\n",
            "3/3 [==============================] - 0s 89ms/step - loss: 0.2355 - accuracy: 0.9375\n",
            "Epoch 30/80\n",
            "3/3 [==============================] - 0s 89ms/step - loss: 0.1731 - accuracy: 0.9375\n",
            "Epoch 31/80\n",
            "3/3 [==============================] - 0s 88ms/step - loss: 0.1818 - accuracy: 0.9500\n",
            "Epoch 32/80\n",
            "3/3 [==============================] - 0s 84ms/step - loss: 0.1851 - accuracy: 0.9500\n",
            "Epoch 33/80\n",
            "3/3 [==============================] - 0s 94ms/step - loss: 0.1957 - accuracy: 0.9500\n",
            "Epoch 34/80\n",
            "3/3 [==============================] - 0s 94ms/step - loss: 0.1493 - accuracy: 0.9750\n",
            "Epoch 35/80\n",
            "3/3 [==============================] - 0s 85ms/step - loss: 0.1369 - accuracy: 0.9750\n",
            "Epoch 36/80\n",
            "3/3 [==============================] - 0s 92ms/step - loss: 0.1054 - accuracy: 0.9875\n",
            "Epoch 37/80\n",
            "3/3 [==============================] - 0s 86ms/step - loss: 0.1309 - accuracy: 0.9500\n",
            "Epoch 38/80\n",
            "3/3 [==============================] - 0s 85ms/step - loss: 0.1253 - accuracy: 0.9625\n",
            "Epoch 39/80\n",
            "3/3 [==============================] - 0s 93ms/step - loss: 0.1143 - accuracy: 0.9625\n",
            "Epoch 40/80\n",
            "3/3 [==============================] - 0s 84ms/step - loss: 0.1279 - accuracy: 0.9750\n",
            "Epoch 41/80\n",
            "3/3 [==============================] - 0s 93ms/step - loss: 0.1041 - accuracy: 0.9875\n",
            "Epoch 42/80\n",
            "3/3 [==============================] - 0s 112ms/step - loss: 0.0682 - accuracy: 0.9875\n",
            "Epoch 43/80\n",
            "3/3 [==============================] - 0s 144ms/step - loss: 0.0531 - accuracy: 1.0000\n",
            "Epoch 44/80\n",
            "3/3 [==============================] - 1s 156ms/step - loss: 0.0609 - accuracy: 0.9875\n",
            "Epoch 45/80\n",
            "3/3 [==============================] - 1s 150ms/step - loss: 0.0532 - accuracy: 1.0000\n",
            "Epoch 46/80\n",
            "3/3 [==============================] - 0s 143ms/step - loss: 0.0634 - accuracy: 0.9875\n",
            "Epoch 47/80\n",
            "3/3 [==============================] - 1s 160ms/step - loss: 0.0481 - accuracy: 1.0000\n",
            "Epoch 48/80\n",
            "3/3 [==============================] - 0s 146ms/step - loss: 0.0405 - accuracy: 1.0000\n",
            "Epoch 49/80\n",
            "3/3 [==============================] - 1s 147ms/step - loss: 0.0289 - accuracy: 1.0000\n",
            "Epoch 50/80\n",
            "3/3 [==============================] - 0s 142ms/step - loss: 0.0651 - accuracy: 0.9875\n",
            "Epoch 51/80\n",
            "3/3 [==============================] - 1s 163ms/step - loss: 0.0308 - accuracy: 0.9875\n",
            "Epoch 52/80\n",
            "3/3 [==============================] - 1s 190ms/step - loss: 0.0387 - accuracy: 0.9875\n",
            "Epoch 53/80\n",
            "3/3 [==============================] - 0s 138ms/step - loss: 0.0346 - accuracy: 1.0000\n",
            "Epoch 54/80\n",
            "3/3 [==============================] - 0s 87ms/step - loss: 0.0261 - accuracy: 1.0000\n",
            "Epoch 55/80\n",
            "3/3 [==============================] - 0s 89ms/step - loss: 0.0484 - accuracy: 0.9875\n",
            "Epoch 56/80\n",
            "3/3 [==============================] - 0s 85ms/step - loss: 0.0176 - accuracy: 1.0000\n",
            "Epoch 57/80\n",
            "3/3 [==============================] - 0s 87ms/step - loss: 0.0257 - accuracy: 1.0000\n",
            "Epoch 58/80\n",
            "3/3 [==============================] - 0s 92ms/step - loss: 0.0379 - accuracy: 1.0000\n",
            "Epoch 59/80\n",
            "3/3 [==============================] - 0s 86ms/step - loss: 0.0145 - accuracy: 1.0000\n",
            "Epoch 60/80\n",
            "3/3 [==============================] - 0s 93ms/step - loss: 0.0196 - accuracy: 1.0000\n",
            "Epoch 61/80\n",
            "3/3 [==============================] - 0s 87ms/step - loss: 0.0195 - accuracy: 1.0000\n",
            "Epoch 62/80\n",
            "3/3 [==============================] - 0s 87ms/step - loss: 0.0118 - accuracy: 1.0000\n",
            "Epoch 63/80\n",
            "3/3 [==============================] - 0s 86ms/step - loss: 0.0300 - accuracy: 1.0000\n",
            "Epoch 64/80\n",
            "3/3 [==============================] - 0s 89ms/step - loss: 0.0110 - accuracy: 1.0000\n",
            "Epoch 65/80\n",
            "3/3 [==============================] - 0s 98ms/step - loss: 0.0116 - accuracy: 1.0000\n",
            "Epoch 66/80\n",
            "3/3 [==============================] - 0s 99ms/step - loss: 0.0249 - accuracy: 1.0000\n",
            "Epoch 67/80\n",
            "3/3 [==============================] - 0s 94ms/step - loss: 0.0130 - accuracy: 1.0000\n",
            "Epoch 68/80\n",
            "3/3 [==============================] - 0s 89ms/step - loss: 0.0111 - accuracy: 1.0000\n",
            "Epoch 69/80\n",
            "3/3 [==============================] - 0s 85ms/step - loss: 0.0114 - accuracy: 1.0000\n",
            "Epoch 70/80\n",
            "3/3 [==============================] - 0s 86ms/step - loss: 0.0131 - accuracy: 1.0000\n",
            "Epoch 71/80\n",
            "3/3 [==============================] - 0s 87ms/step - loss: 0.0214 - accuracy: 1.0000\n",
            "Epoch 72/80\n",
            "3/3 [==============================] - 0s 93ms/step - loss: 0.0095 - accuracy: 1.0000\n",
            "Epoch 73/80\n",
            "3/3 [==============================] - 0s 101ms/step - loss: 0.0127 - accuracy: 1.0000\n",
            "Epoch 74/80\n",
            "3/3 [==============================] - 0s 94ms/step - loss: 0.0231 - accuracy: 1.0000\n",
            "Epoch 75/80\n",
            "3/3 [==============================] - 0s 93ms/step - loss: 0.0058 - accuracy: 1.0000\n",
            "Epoch 76/80\n",
            "3/3 [==============================] - 0s 98ms/step - loss: 0.0174 - accuracy: 1.0000\n",
            "Epoch 77/80\n",
            "3/3 [==============================] - 0s 98ms/step - loss: 0.0137 - accuracy: 1.0000\n",
            "Epoch 78/80\n",
            "3/3 [==============================] - 0s 93ms/step - loss: 0.0235 - accuracy: 0.9875\n",
            "Epoch 79/80\n",
            "3/3 [==============================] - 0s 93ms/step - loss: 0.0050 - accuracy: 1.0000\n",
            "Epoch 80/80\n",
            "3/3 [==============================] - 0s 89ms/step - loss: 0.0056 - accuracy: 1.0000\n"
          ]
        }
      ]
    },
    {
      "cell_type": "markdown",
      "source": [
        "## 1.3. Pruebas con los datos de entrenamiento"
      ],
      "metadata": {
        "id": "5RsZfUOcKrE7"
      }
    },
    {
      "cell_type": "markdown",
      "source": [
        "Cuando pruebo el modelo con los datos de entrenamiento, sí predice bien."
      ],
      "metadata": {
        "id": "BpU9WYQ-Bw14"
      }
    },
    {
      "cell_type": "code",
      "source": [
        "ruta_predict = '/content/drive/MyDrive/Documentos personales/9-Documentos Doctorado/Doctorado 2023/7-Clases/SRGVUA/evacal/orden_tercer_intento/B_contempo/train/0/Screenshot 2024-05-08 at 12-57-06 Ático por 595.000 € de 104 metros calle de rufino blanco áticos en madrid en Fuente del Berro Madrid - habitaclia.png'\n",
        "\n",
        "my_image = cv2.imread(ruta_predict)\n",
        "my_image = cv2.resize(my_image, (width, height))\n",
        "\n",
        "result = model.predict(np.array([my_image]))\n",
        "print(result)"
      ],
      "metadata": {
        "colab": {
          "base_uri": "https://localhost:8080/"
        },
        "id": "UOU1R4BAsU5V",
        "outputId": "285f83f8-90aa-408d-a02d-129437dd46e0"
      },
      "execution_count": 57,
      "outputs": [
        {
          "output_type": "stream",
          "name": "stdout",
          "text": [
            "1/1 [==============================] - 0s 88ms/step\n",
            "[[9.9999088e-01 2.2426262e-05]]\n"
          ]
        }
      ]
    },
    {
      "cell_type": "markdown",
      "source": [
        "Pero cuando paso a los datos de testeo, ya es más variable. En estos primeros ejemplos, falla."
      ],
      "metadata": {
        "id": "zyBW7AbMB0mZ"
      }
    },
    {
      "cell_type": "code",
      "source": [
        "ruta_predict = '/content/drive/MyDrive/Documentos personales/9-Documentos Doctorado/Doctorado 2023/7-Clases/SRGVUA/evacal/orden_tercer_intento/B_contempo/test/0/Screenshot 2024-05-07 at 13-59-12 Piso por 146.500 € de 74 metros carrer de la sardana piso alquilado en venta en calle sardana sant andreu de la barca en Sant Andreu de la Barca - habitaclia.png'\n",
        "\n",
        "my_image = cv2.imread(ruta_predict)\n",
        "my_image = cv2.resize(my_image, (width, height))\n",
        "\n",
        "result = model.predict(np.array([my_image]))\n",
        "print(result)"
      ],
      "metadata": {
        "colab": {
          "base_uri": "https://localhost:8080/"
        },
        "id": "tKJ2eyHAsDnf",
        "outputId": "f152cb96-a6c1-4f15-f66e-1b3ec1c9d8ae"
      },
      "execution_count": 60,
      "outputs": [
        {
          "output_type": "stream",
          "name": "stdout",
          "text": [
            "1/1 [==============================] - 0s 27ms/step\n",
            "[[0.4373248  0.77704704]]\n"
          ]
        }
      ]
    },
    {
      "cell_type": "code",
      "source": [
        "ruta_predict = '/content/drive/MyDrive/Documentos personales/9-Documentos Doctorado/Doctorado 2023/7-Clases/SRGVUA/evacal/orden_tercer_intento/B_contempo/test/0/B3.png'\n",
        "\n",
        "my_image = cv2.imread(ruta_predict)\n",
        "my_image = cv2.resize(my_image, (width, height))\n",
        "\n",
        "result = model.predict(np.array([my_image]))\n",
        "print(result)"
      ],
      "metadata": {
        "colab": {
          "base_uri": "https://localhost:8080/"
        },
        "id": "eCOxRUxZDkaB",
        "outputId": "3e08b08c-92fc-406e-d7c9-25128ddde33d"
      },
      "execution_count": 61,
      "outputs": [
        {
          "output_type": "stream",
          "name": "stdout",
          "text": [
            "1/1 [==============================] - 0s 31ms/step\n",
            "[[0.02163234 0.99166715]]\n"
          ]
        }
      ]
    },
    {
      "cell_type": "markdown",
      "source": [
        "Y en este acierta. Podemos estar ante un caso de <mark>overtfitting</mark>."
      ],
      "metadata": {
        "id": "daOLcEclDWRW"
      }
    },
    {
      "cell_type": "code",
      "source": [
        "ruta_predict = '/content/drive/MyDrive/Documentos personales/9-Documentos Doctorado/Doctorado 2023/7-Clases/SRGVUA/evacal/orden_tercer_intento/B_contempo/test/1/Screenshot 2024-05-07 at 15-15-54 Piso por 1.550.000 € de 139 metros piso de 3 dormitorios en el paseo de gràcia en el eixample derecho barcelona en Dreta de l´Eixample Barcelona - habitaclia.png'\n",
        "\n",
        "my_image = cv2.imread(ruta_predict)\n",
        "my_image = cv2.resize(my_image, (width, height))\n",
        "\n",
        "result = model.predict(np.array([my_image]))\n",
        "print(result)"
      ],
      "metadata": {
        "colab": {
          "base_uri": "https://localhost:8080/"
        },
        "id": "XJWm3ozcD1-e",
        "outputId": "7ddc5218-21ab-4f7f-dbc7-6a32ae281a4c"
      },
      "execution_count": 62,
      "outputs": [
        {
          "output_type": "stream",
          "name": "stdout",
          "text": [
            "1/1 [==============================] - 0s 23ms/step\n",
            "[[0.00139691 0.9993208 ]]\n"
          ]
        }
      ]
    },
    {
      "cell_type": "markdown",
      "source": [
        "## 1.4. Pruebas con los datos de testeo"
      ],
      "metadata": {
        "id": "7k8WJTfpKviP"
      }
    },
    {
      "cell_type": "markdown",
      "source": [
        "Volveré a correr el modelo pero tomando los datos de la carpeta `test` para calcular el accuracy."
      ],
      "metadata": {
        "id": "trO9eY-_C2wz"
      }
    },
    {
      "cell_type": "code",
      "source": [
        "# Definir el ancho y alto de las imágenes\n",
        "width = 240\n",
        "height = 240\n",
        "\n",
        "# Ruta de los datos de prueba\n",
        "ruta_test = '/content/drive/MyDrive/Documentos personales/9-Documentos Doctorado/Doctorado 2023/7-Clases/SRGVUA/evacal/orden_tercer_intento/B_contempo/test/'\n",
        "\n",
        "test_x = []\n",
        "test_y = []\n",
        "\n",
        "# Obtener la lista de etiquetas\n",
        "labels = os.listdir(ruta_test)\n",
        "\n",
        "# Iterar sobre las carpetas de las etiquetas\n",
        "for i in os.listdir(ruta_test):\n",
        "    # Iterar sobre las imágenes dentro de cada carpeta\n",
        "    for j in os.listdir(ruta_test + i):\n",
        "        # Leer la imagen y redimensionarla\n",
        "        img = cv2.imread(ruta_test+i+'/'+j)\n",
        "        resized_image = cv2.resize(img, (width,height))\n",
        "\n",
        "        test_x.append(resized_image)\n",
        "\n",
        "        # Crear la etiqueta correspondiente\n",
        "        for x,y in enumerate(labels):\n",
        "            if y == i:\n",
        "                array = np.zeros(len(labels))\n",
        "                array[x]=1\n",
        "                test_y.append(array)\n",
        "\n",
        "# Convertir los datos a arrays numpy\n",
        "x_test = np.array(test_x)\n",
        "y_test = np.array(test_y)\n",
        "\n",
        "# Cargar el modelo entrenado\n",
        "model = models.load_model('/content/drive/MyDrive/Documentos personales/9-Documentos Doctorado/Doctorado 2023/7-Clases/SRGVUA/evacal/orden_tercer_intento/B_contempo/mimodelo.keras')\n",
        "\n",
        "# Evaluar el modelo con los datos de prueba\n",
        "loss, accuracy = model.evaluate(x_test, y_test)\n",
        "print(\"Accuracy en los datos de prueba:\", accuracy)"
      ],
      "metadata": {
        "id": "Tls1zucbDJMX",
        "colab": {
          "base_uri": "https://localhost:8080/"
        },
        "outputId": "0aff0787-a874-45d7-f02a-01d9abcddd71"
      },
      "execution_count": 63,
      "outputs": [
        {
          "output_type": "stream",
          "name": "stdout",
          "text": [
            "1/1 [==============================] - 0s 301ms/step - loss: 1.2869 - accuracy: 0.6667\n",
            "Accuracy en los datos de prueba: 0.6666666865348816\n"
          ]
        }
      ]
    },
    {
      "cell_type": "markdown",
      "source": [
        "# 2. `B_estado`"
      ],
      "metadata": {
        "id": "gfXcpH5XdpEw"
      }
    },
    {
      "cell_type": "code",
      "source": [
        "# Ruta de la carpeta de entrenamiento y prueba para la clase 0\n",
        "train_folder_0 = \"/content/drive/MyDrive/Documentos personales/9-Documentos Doctorado/Doctorado 2023/7-Clases/SRGVUA/evacal/orden_tercer_intento/B_estado/train/0\"\n",
        "test_folder_0 = \"/content/drive/MyDrive/Documentos personales/9-Documentos Doctorado/Doctorado 2023/7-Clases/SRGVUA/evacal/orden_tercer_intento/B_estado/test/0\"\n",
        "\n",
        "# Ruta de la carpeta de entrenamiento y prueba para la clase 1\n",
        "train_folder_1 = \"/content/drive/MyDrive/Documentos personales/9-Documentos Doctorado/Doctorado 2023/7-Clases/SRGVUA/evacal/orden_tercer_intento/B_estado/train/1\"\n",
        "test_folder_1 = \"/content/drive/MyDrive/Documentos personales/9-Documentos Doctorado/Doctorado 2023/7-Clases/SRGVUA/evacal/orden_tercer_intento/B_estado/test/1\"\n",
        "\n",
        "# Ruta de la carpeta de entrenamiento y prueba para la clase 2\n",
        "train_folder_2 = \"/content/drive/MyDrive/Documentos personales/9-Documentos Doctorado/Doctorado 2023/7-Clases/SRGVUA/evacal/orden_tercer_intento/B_estado/train/2\"\n",
        "test_folder_2 = \"/content/drive/MyDrive/Documentos personales/9-Documentos Doctorado/Doctorado 2023/7-Clases/SRGVUA/evacal/orden_tercer_intento/B_estado/test/2\"\n",
        "\n",
        "# Función para mover imágenes aleatorias a la carpeta de prueba\n",
        "def move_random_images(source_folder, destination_folder, percentage):\n",
        "    # Obtener la lista de archivos en la carpeta de origen\n",
        "    files = os.listdir(source_folder)\n",
        "    # Calcular el número de imágenes que representan el porcentaje dado\n",
        "    num_images_to_move = int(len(files) * percentage / 100)\n",
        "    # Elegir imágenes al azar\n",
        "    images_to_move = random.sample(files, num_images_to_move)\n",
        "    # Mover las imágenes seleccionadas a la carpeta de destino\n",
        "    for image in images_to_move:\n",
        "        shutil.move(os.path.join(source_folder, image), destination_folder)\n",
        "\n",
        "### Contar el número total de imágenes en la carpeta de entrenamiento para la clase 0\n",
        "num_images_train_0 = len(os.listdir(train_folder_0))\n",
        "print(\"Número total de imágenes en la carpeta de entrenamiento para la clase 0:\", num_images_train_0)\n",
        "\n",
        "# Calcular el 10% de esa cantidad\n",
        "percentage_20_train_0 = 20\n",
        "print(\"El 20% del número total de imágenes para la clase 0 es:\", percentage_20_train_0)\n",
        "\n",
        "# Mover imágenes aleatorias a la carpeta de prueba para la clase 0\n",
        "move_random_images(train_folder_0, test_folder_0, percentage_20_train_0)\n",
        "\n",
        "### Repetir el proceso para la clase 1\n",
        "num_images_train_1 = len(os.listdir(train_folder_1))\n",
        "print(\"Número total de imágenes en la carpeta de entrenamiento para la clase 1:\", num_images_train_1)\n",
        "\n",
        "# Calcular el 10% de esa cantidad\n",
        "percentage_20_train_1 = 20\n",
        "print(\"El 20% del número total de imágenes para la clase 1 es:\", percentage_20_train_1)\n",
        "\n",
        "# Mover imágenes aleatorias a la carpeta de prueba para la clase 1\n",
        "move_random_images(train_folder_1, test_folder_1, percentage_20_train_1)\n",
        "\n",
        "### Repetir el proceso para la clase 2\n",
        "num_images_train_2 = len(os.listdir(train_folder_2))\n",
        "print(\"Número total de imágenes en la carpeta de entrenamiento para la clase 2:\", num_images_train_2)\n",
        "\n",
        "# Calcular el 20% de esa cantidad\n",
        "percentage_20_train_2 = 20\n",
        "print(\"El 20% del número total de imágenes para la clase 2 es:\", percentage_20_train_2)\n",
        "\n",
        "# Mover imágenes aleatorias a la carpeta de prueba para la clase 2\n",
        "move_random_images(train_folder_2, test_folder_2, percentage_20_train_2)\n"
      ],
      "metadata": {
        "colab": {
          "base_uri": "https://localhost:8080/"
        },
        "id": "kmyUvcZidsrU",
        "outputId": "5bf6d1d3-0482-4631-ab3f-450ee26f2881"
      },
      "execution_count": 64,
      "outputs": [
        {
          "output_type": "stream",
          "name": "stdout",
          "text": [
            "Número total de imágenes en la carpeta de entrenamiento para la clase 0: 9\n",
            "El 20% del número total de imágenes para la clase 0 es: 20\n",
            "Número total de imágenes en la carpeta de entrenamiento para la clase 1: 34\n",
            "El 20% del número total de imágenes para la clase 1 es: 20\n",
            "Número total de imágenes en la carpeta de entrenamiento para la clase 2: 67\n",
            "El 20% del número total de imágenes para la clase 2 es: 20\n"
          ]
        }
      ]
    },
    {
      "cell_type": "code",
      "source": [
        "width = 240\n",
        "height = 240\n",
        "\n",
        "ruta_train = '/content/drive/MyDrive/Documentos personales/9-Documentos Doctorado/Doctorado 2023/7-Clases/SRGVUA/evacal/orden_tercer_intento/B_estado/train/'\n",
        "\n",
        "train_x = []\n",
        "train_y = []\n",
        "\n",
        "labels = os.listdir(ruta_train)\n",
        "\n",
        "for i in os.listdir(ruta_train):\n",
        "    for j in os.listdir(ruta_train + i):\n",
        "        img = cv2.imread(ruta_train+i+'/'+j)\n",
        "        resized_image = cv2.resize(img, (width,height))\n",
        "\n",
        "        train_x.append(resized_image)\n",
        "\n",
        "        for x,y in enumerate(labels):\n",
        "            if y == i:\n",
        "                array = np.zeros(len(labels))\n",
        "                array[x]=1\n",
        "                train_y.append(array)\n",
        "\n",
        "x_data = np.array(train_x)\n",
        "y_data = np.array(train_y)\n",
        "\n",
        "model = tf.keras.Sequential([\n",
        "    layers.Conv2D(32, 3,3, input_shape=(width, height, 3)),\n",
        "    layers.Activation('relu'),\n",
        "    layers.MaxPooling2D(pool_size=(2,2)),\n",
        "    layers.Conv2D(32, 3,3),\n",
        "    layers.Activation('relu'),\n",
        "    layers.MaxPooling2D(pool_size=(2,2)),\n",
        "    layers.Conv2D(64, 3,3),\n",
        "    layers.Activation('relu'),\n",
        "    layers.MaxPooling2D(pool_size=(2,2)),\n",
        "    layers.Flatten(),\n",
        "    layers.Dense(64),\n",
        "    layers.Activation('relu'),\n",
        "    layers.Dropout(0.5),\n",
        "    layers.Dense(3),\n",
        "    layers.Activation('sigmoid')\n",
        "])\n",
        "\n",
        "model.compile(loss='binary_crossentropy', optimizer='adam', metrics=['accuracy'])\n",
        "\n",
        "epochs = 80\n",
        "\n",
        "model.fit(x_data, y_data, epochs = epochs, verbose=0)\n",
        "\n",
        "models.save_model(model, '/content/drive/MyDrive/Documentos personales/9-Documentos Doctorado/Doctorado 2023/7-Clases/SRGVUA/evacal/orden_tercer_intento/B_estado/mimodelo.keras')\n",
        "\n",
        "#####AQUI CALCULO EL ACCURACY CON LOS DATOS DE TESTEO\n",
        "\n",
        "# Ruta de los datos de prueba\n",
        "ruta_test = '/content/drive/MyDrive/Documentos personales/9-Documentos Doctorado/Doctorado 2023/7-Clases/SRGVUA/evacal/orden_tercer_intento/B_estado/test/'\n",
        "\n",
        "test_x = []\n",
        "test_y = []\n",
        "\n",
        "# Obtener la lista de etiquetas\n",
        "labels = os.listdir(ruta_test)\n",
        "\n",
        "# Iterar sobre las carpetas de las etiquetas\n",
        "for i in os.listdir(ruta_test):\n",
        "    # Iterar sobre las imágenes dentro de cada carpeta\n",
        "    for j in os.listdir(ruta_test + i):\n",
        "        # Leer la imagen y redimensionarla\n",
        "        img = cv2.imread(ruta_test+i+'/'+j)\n",
        "        resized_image = cv2.resize(img, (width,height))\n",
        "\n",
        "        test_x.append(resized_image)\n",
        "\n",
        "        # Crear la etiqueta correspondiente\n",
        "        for x,y in enumerate(labels):\n",
        "            if y == i:\n",
        "                array = np.zeros(len(labels))\n",
        "                array[x]=1\n",
        "                test_y.append(array)\n",
        "\n",
        "# Convertir los datos a arrays numpy\n",
        "x_test = np.array(test_x)\n",
        "y_test = np.array(test_y)\n",
        "\n",
        "# Cargar el modelo entrenado\n",
        "model = models.load_model('/content/drive/MyDrive/Documentos personales/9-Documentos Doctorado/Doctorado 2023/7-Clases/SRGVUA/evacal/orden_tercer_intento/B_estado/mimodelo.keras')\n",
        "\n",
        "# Evaluar el modelo con los datos de prueba\n",
        "loss, accuracy = model.evaluate(x_test, y_test)\n",
        "print(\"Accuracy en los datos de prueba:\", accuracy)"
      ],
      "metadata": {
        "colab": {
          "base_uri": "https://localhost:8080/"
        },
        "id": "7uqdYQAbeRvS",
        "outputId": "e3d243be-cf4b-4d33-d472-597a0b5b3f44"
      },
      "execution_count": 66,
      "outputs": [
        {
          "output_type": "stream",
          "name": "stdout",
          "text": [
            "1/1 [==============================] - 0s 303ms/step - loss: 0.8539 - accuracy: 0.6000\n",
            "Accuracy en los datos de prueba: 0.6000000238418579\n"
          ]
        }
      ]
    },
    {
      "cell_type": "markdown",
      "source": [
        "# 3. `B_lavamano`"
      ],
      "metadata": {
        "id": "iXi2PXLOgeYM"
      }
    },
    {
      "cell_type": "code",
      "source": [
        "# Ruta de la carpeta de entrenamiento y prueba para la clase 0\n",
        "train_folder_0 = \"/content/drive/MyDrive/Documentos personales/9-Documentos Doctorado/Doctorado 2023/7-Clases/SRGVUA/evacal/orden_tercer_intento/B_lavamano/train/0\"\n",
        "test_folder_0 = \"/content/drive/MyDrive/Documentos personales/9-Documentos Doctorado/Doctorado 2023/7-Clases/SRGVUA/evacal/orden_tercer_intento/B_lavamano/test/0\"\n",
        "\n",
        "# Ruta de la carpeta de entrenamiento y prueba para la clase 1\n",
        "train_folder_1 = \"/content/drive/MyDrive/Documentos personales/9-Documentos Doctorado/Doctorado 2023/7-Clases/SRGVUA/evacal/orden_tercer_intento/B_lavamano/train/1\"\n",
        "test_folder_1 = \"/content/drive/MyDrive/Documentos personales/9-Documentos Doctorado/Doctorado 2023/7-Clases/SRGVUA/evacal/orden_tercer_intento/B_lavamano/test/1\"\n",
        "\n",
        "# Función para mover imágenes aleatorias a la carpeta de prueba\n",
        "def move_random_images(source_folder, destination_folder, percentage):\n",
        "    # Obtener la lista de archivos en la carpeta de origen\n",
        "    files = os.listdir(source_folder)\n",
        "    # Calcular el número de imágenes que representan el porcentaje dado\n",
        "    num_images_to_move = int(len(files) * percentage / 100)\n",
        "    # Elegir imágenes al azar\n",
        "    images_to_move = random.sample(files, num_images_to_move)\n",
        "    # Mover las imágenes seleccionadas a la carpeta de destino\n",
        "    for image in images_to_move:\n",
        "        shutil.move(os.path.join(source_folder, image), destination_folder)\n",
        "\n",
        "### Contar el número total de imágenes en la carpeta de entrenamiento para la clase 0\n",
        "num_images_train_0 = len(os.listdir(train_folder_0))\n",
        "print(\"Número total de imágenes en la carpeta de entrenamiento para la clase 0:\", num_images_train_0)\n",
        "\n",
        "# Calcular el 10% de esa cantidad\n",
        "percentage_20_train_0 = 20\n",
        "print(\"El 20% del número total de imágenes para la clase 0 es:\", percentage_20_train_0)\n",
        "\n",
        "# Mover imágenes aleatorias a la carpeta de prueba para la clase 0\n",
        "move_random_images(train_folder_0, test_folder_0, percentage_20_train_0)\n",
        "\n",
        "### Repetir el proceso para la clase 1\n",
        "num_images_train_1 = len(os.listdir(train_folder_1))\n",
        "print(\"Número total de imágenes en la carpeta de entrenamiento para la clase 1:\", num_images_train_1)\n",
        "\n",
        "# Calcular el 10% de esa cantidad\n",
        "percentage_20_train_1 = 20\n",
        "print(\"El 20% del número total de imágenes para la clase 1 es:\", percentage_20_train_1)\n",
        "\n",
        "# Mover imágenes aleatorias a la carpeta de prueba para la clase 1\n",
        "move_random_images(train_folder_1, test_folder_1, percentage_20_train_1)\n"
      ],
      "metadata": {
        "colab": {
          "base_uri": "https://localhost:8080/"
        },
        "id": "_pPdlHJuggYv",
        "outputId": "d9c4027e-24a6-4c0c-d8ce-b4aabab6fe78"
      },
      "execution_count": 67,
      "outputs": [
        {
          "output_type": "stream",
          "name": "stdout",
          "text": [
            "Número total de imágenes en la carpeta de entrenamiento para la clase 0: 41\n",
            "El 20% del número total de imágenes para la clase 0 es: 20\n",
            "Número total de imágenes en la carpeta de entrenamiento para la clase 1: 53\n",
            "El 20% del número total de imágenes para la clase 1 es: 20\n"
          ]
        }
      ]
    },
    {
      "cell_type": "code",
      "source": [
        "width = 240\n",
        "height = 240\n",
        "\n",
        "ruta_train = '/content/drive/MyDrive/Documentos personales/9-Documentos Doctorado/Doctorado 2023/7-Clases/SRGVUA/evacal/orden_tercer_intento/B_lavamano/train/'\n",
        "\n",
        "train_x = []\n",
        "train_y = []\n",
        "\n",
        "labels = os.listdir(ruta_train)\n",
        "\n",
        "for i in os.listdir(ruta_train):\n",
        "    for j in os.listdir(ruta_train + i):\n",
        "        img = cv2.imread(ruta_train+i+'/'+j)\n",
        "        resized_image = cv2.resize(img, (width,height))\n",
        "\n",
        "        train_x.append(resized_image)\n",
        "\n",
        "        for x,y in enumerate(labels):\n",
        "            if y == i:\n",
        "                array = np.zeros(len(labels))\n",
        "                array[x]=1\n",
        "                train_y.append(array)\n",
        "\n",
        "x_data = np.array(train_x)\n",
        "y_data = np.array(train_y)\n",
        "\n",
        "model = tf.keras.Sequential([\n",
        "    layers.Conv2D(32, 3,3, input_shape=(width, height, 3)),\n",
        "    layers.Activation('relu'),\n",
        "    layers.MaxPooling2D(pool_size=(2,2)),\n",
        "    layers.Conv2D(32, 3,3),\n",
        "    layers.Activation('relu'),\n",
        "    layers.MaxPooling2D(pool_size=(2,2)),\n",
        "    layers.Conv2D(64, 3,3),\n",
        "    layers.Activation('relu'),\n",
        "    layers.MaxPooling2D(pool_size=(2,2)),\n",
        "    layers.Flatten(),\n",
        "    layers.Dense(64),\n",
        "    layers.Activation('relu'),\n",
        "    layers.Dropout(0.5),\n",
        "    layers.Dense(2),\n",
        "    layers.Activation('sigmoid')\n",
        "])\n",
        "\n",
        "model.compile(loss='binary_crossentropy', optimizer='adam', metrics=['accuracy'])\n",
        "\n",
        "epochs = 80\n",
        "\n",
        "model.fit(x_data, y_data, epochs = epochs, verbose=0)\n",
        "\n",
        "models.save_model(model, '/content/drive/MyDrive/Documentos personales/9-Documentos Doctorado/Doctorado 2023/7-Clases/SRGVUA/evacal/orden_tercer_intento/B_lavamano/mimodelo.keras')\n",
        "\n",
        "#####AQUI CALCULO EL ACCURACY CON LOS DATOS DE TESTEO\n",
        "\n",
        "# Ruta de los datos de prueba\n",
        "ruta_test = '/content/drive/MyDrive/Documentos personales/9-Documentos Doctorado/Doctorado 2023/7-Clases/SRGVUA/evacal/orden_tercer_intento/B_lavamano/test/'\n",
        "\n",
        "test_x = []\n",
        "test_y = []\n",
        "\n",
        "# Obtener la lista de etiquetas\n",
        "labels = os.listdir(ruta_test)\n",
        "\n",
        "# Iterar sobre las carpetas de las etiquetas\n",
        "for i in os.listdir(ruta_test):\n",
        "    # Iterar sobre las imágenes dentro de cada carpeta\n",
        "    for j in os.listdir(ruta_test + i):\n",
        "        # Leer la imagen y redimensionarla\n",
        "        img = cv2.imread(ruta_test+i+'/'+j)\n",
        "        resized_image = cv2.resize(img, (width,height))\n",
        "\n",
        "        test_x.append(resized_image)\n",
        "\n",
        "        # Crear la etiqueta correspondiente\n",
        "        for x,y in enumerate(labels):\n",
        "            if y == i:\n",
        "                array = np.zeros(len(labels))\n",
        "                array[x]=1\n",
        "                test_y.append(array)\n",
        "\n",
        "# Convertir los datos a arrays numpy\n",
        "x_test = np.array(test_x)\n",
        "y_test = np.array(test_y)\n",
        "\n",
        "# Cargar el modelo entrenado\n",
        "model = models.load_model('/content/drive/MyDrive/Documentos personales/9-Documentos Doctorado/Doctorado 2023/7-Clases/SRGVUA/evacal/orden_tercer_intento/B_lavamano/mimodelo.keras')\n",
        "\n",
        "# Evaluar el modelo con los datos de prueba\n",
        "loss, accuracy = model.evaluate(x_test, y_test)\n",
        "print(\"Accuracy en los datos de prueba:\", accuracy)"
      ],
      "metadata": {
        "colab": {
          "base_uri": "https://localhost:8080/"
        },
        "id": "byrpT8IJgsB7",
        "outputId": "a6d73b8d-e85a-4c3d-8f62-ec27c77d5812"
      },
      "execution_count": 68,
      "outputs": [
        {
          "output_type": "stream",
          "name": "stdout",
          "text": [
            "1/1 [==============================] - 0s 293ms/step - loss: 0.7347 - accuracy: 0.5000\n",
            "Accuracy en los datos de prueba: 0.5\n"
          ]
        }
      ]
    },
    {
      "cell_type": "markdown",
      "source": [
        "# 4. `C_contempo`"
      ],
      "metadata": {
        "id": "8-6VhpQLhXb9"
      }
    },
    {
      "cell_type": "code",
      "source": [
        "# Ruta de la carpeta de entrenamiento y prueba para la clase 0\n",
        "train_folder_0 = \"/content/drive/MyDrive/Documentos personales/9-Documentos Doctorado/Doctorado 2023/7-Clases/SRGVUA/evacal/orden_tercer_intento/C_contempo/train/0\"\n",
        "test_folder_0 = \"/content/drive/MyDrive/Documentos personales/9-Documentos Doctorado/Doctorado 2023/7-Clases/SRGVUA/evacal/orden_tercer_intento/C_contempo/test/0\"\n",
        "\n",
        "# Ruta de la carpeta de entrenamiento y prueba para la clase 1\n",
        "train_folder_1 = \"/content/drive/MyDrive/Documentos personales/9-Documentos Doctorado/Doctorado 2023/7-Clases/SRGVUA/evacal/orden_tercer_intento/C_contempo/train/1\"\n",
        "test_folder_1 = \"/content/drive/MyDrive/Documentos personales/9-Documentos Doctorado/Doctorado 2023/7-Clases/SRGVUA/evacal/orden_tercer_intento/C_contempo/test/1\"\n",
        "\n",
        "# Función para mover imágenes aleatorias a la carpeta de prueba\n",
        "def move_random_images(source_folder, destination_folder, percentage):\n",
        "    # Obtener la lista de archivos en la carpeta de origen\n",
        "    files = os.listdir(source_folder)\n",
        "    # Calcular el número de imágenes que representan el porcentaje dado\n",
        "    num_images_to_move = int(len(files) * percentage / 100)\n",
        "    # Elegir imágenes al azar\n",
        "    images_to_move = random.sample(files, num_images_to_move)\n",
        "    # Mover las imágenes seleccionadas a la carpeta de destino\n",
        "    for image in images_to_move:\n",
        "        shutil.move(os.path.join(source_folder, image), destination_folder)\n",
        "\n",
        "### Contar el número total de imágenes en la carpeta de entrenamiento para la clase 0\n",
        "num_images_train_0 = len(os.listdir(train_folder_0))\n",
        "print(\"Número total de imágenes en la carpeta de entrenamiento para la clase 0:\", num_images_train_0)\n",
        "\n",
        "# Calcular el 10% de esa cantidad\n",
        "percentage_20_train_0 = 20\n",
        "print(\"El 20% del número total de imágenes para la clase 0 es:\", percentage_20_train_0)\n",
        "\n",
        "# Mover imágenes aleatorias a la carpeta de prueba para la clase 0\n",
        "move_random_images(train_folder_0, test_folder_0, percentage_20_train_0)\n",
        "\n",
        "### Repetir el proceso para la clase 1\n",
        "num_images_train_1 = len(os.listdir(train_folder_1))\n",
        "print(\"Número total de imágenes en la carpeta de entrenamiento para la clase 1:\", num_images_train_1)\n",
        "\n",
        "# Calcular el 10% de esa cantidad\n",
        "percentage_20_train_1 = 20\n",
        "print(\"El 20% del número total de imágenes para la clase 1 es:\", percentage_20_train_1)\n",
        "\n",
        "# Mover imágenes aleatorias a la carpeta de prueba para la clase 1\n",
        "move_random_images(train_folder_1, test_folder_1, percentage_20_train_1)\n"
      ],
      "metadata": {
        "colab": {
          "base_uri": "https://localhost:8080/"
        },
        "id": "TtwUlWu2hchg",
        "outputId": "761dbf05-6855-4499-e0d0-ef18fbb3877d"
      },
      "execution_count": 69,
      "outputs": [
        {
          "output_type": "stream",
          "name": "stdout",
          "text": [
            "Número total de imágenes en la carpeta de entrenamiento para la clase 0: 38\n",
            "El 20% del número total de imágenes para la clase 0 es: 20\n",
            "Número total de imágenes en la carpeta de entrenamiento para la clase 1: 57\n",
            "El 20% del número total de imágenes para la clase 1 es: 20\n"
          ]
        }
      ]
    },
    {
      "cell_type": "code",
      "source": [
        "width = 240\n",
        "height = 240\n",
        "\n",
        "ruta_train = '/content/drive/MyDrive/Documentos personales/9-Documentos Doctorado/Doctorado 2023/7-Clases/SRGVUA/evacal/orden_tercer_intento/C_contempo/train/'\n",
        "\n",
        "train_x = []\n",
        "train_y = []\n",
        "\n",
        "labels = os.listdir(ruta_train)\n",
        "\n",
        "for i in os.listdir(ruta_train):\n",
        "    for j in os.listdir(ruta_train + i):\n",
        "        img = cv2.imread(ruta_train+i+'/'+j)\n",
        "        resized_image = cv2.resize(img, (width,height))\n",
        "\n",
        "        train_x.append(resized_image)\n",
        "\n",
        "        for x,y in enumerate(labels):\n",
        "            if y == i:\n",
        "                array = np.zeros(len(labels))\n",
        "                array[x]=1\n",
        "                train_y.append(array)\n",
        "\n",
        "x_data = np.array(train_x)\n",
        "y_data = np.array(train_y)\n",
        "\n",
        "model = tf.keras.Sequential([\n",
        "    layers.Conv2D(32, 3,3, input_shape=(width, height, 3)),\n",
        "    layers.Activation('relu'),\n",
        "    layers.MaxPooling2D(pool_size=(2,2)),\n",
        "    layers.Conv2D(32, 3,3),\n",
        "    layers.Activation('relu'),\n",
        "    layers.MaxPooling2D(pool_size=(2,2)),\n",
        "    layers.Conv2D(64, 3,3),\n",
        "    layers.Activation('relu'),\n",
        "    layers.MaxPooling2D(pool_size=(2,2)),\n",
        "    layers.Flatten(),\n",
        "    layers.Dense(64),\n",
        "    layers.Activation('relu'),\n",
        "    layers.Dropout(0.5),\n",
        "    layers.Dense(2),\n",
        "    layers.Activation('sigmoid')\n",
        "])\n",
        "\n",
        "model.compile(loss='binary_crossentropy', optimizer='adam', metrics=['accuracy'])\n",
        "\n",
        "epochs = 80\n",
        "\n",
        "model.fit(x_data, y_data, epochs = epochs, verbose=0)\n",
        "\n",
        "models.save_model(model, '/content/drive/MyDrive/Documentos personales/9-Documentos Doctorado/Doctorado 2023/7-Clases/SRGVUA/evacal/orden_tercer_intento/C_contempo/mimodelo.keras')\n",
        "\n",
        "#####AQUI CALCULO EL ACCURACY CON LOS DATOS DE TESTEO\n",
        "\n",
        "# Ruta de los datos de prueba\n",
        "ruta_test = '/content/drive/MyDrive/Documentos personales/9-Documentos Doctorado/Doctorado 2023/7-Clases/SRGVUA/evacal/orden_tercer_intento/C_contempo/test/'\n",
        "\n",
        "test_x = []\n",
        "test_y = []\n",
        "\n",
        "# Obtener la lista de etiquetas\n",
        "labels = os.listdir(ruta_test)\n",
        "\n",
        "# Iterar sobre las carpetas de las etiquetas\n",
        "for i in os.listdir(ruta_test):\n",
        "    # Iterar sobre las imágenes dentro de cada carpeta\n",
        "    for j in os.listdir(ruta_test + i):\n",
        "        # Leer la imagen y redimensionarla\n",
        "        img = cv2.imread(ruta_test+i+'/'+j)\n",
        "        resized_image = cv2.resize(img, (width,height))\n",
        "\n",
        "        test_x.append(resized_image)\n",
        "\n",
        "        # Crear la etiqueta correspondiente\n",
        "        for x,y in enumerate(labels):\n",
        "            if y == i:\n",
        "                array = np.zeros(len(labels))\n",
        "                array[x]=1\n",
        "                test_y.append(array)\n",
        "\n",
        "# Convertir los datos a arrays numpy\n",
        "x_test = np.array(test_x)\n",
        "y_test = np.array(test_y)\n",
        "\n",
        "# Cargar el modelo entrenado\n",
        "model = models.load_model('/content/drive/MyDrive/Documentos personales/9-Documentos Doctorado/Doctorado 2023/7-Clases/SRGVUA/evacal/orden_tercer_intento/C_contempo/mimodelo.keras')\n",
        "\n",
        "# Evaluar el modelo con los datos de prueba\n",
        "loss, accuracy = model.evaluate(x_test, y_test)\n",
        "print(\"Accuracy en los datos de prueba:\", accuracy)"
      ],
      "metadata": {
        "colab": {
          "base_uri": "https://localhost:8080/"
        },
        "id": "R2Ap3WLjhiF2",
        "outputId": "931cddf9-9be2-4a8a-bce1-81e442846ac8"
      },
      "execution_count": 71,
      "outputs": [
        {
          "output_type": "stream",
          "name": "stderr",
          "text": [
            "WARNING:tensorflow:5 out of the last 5 calls to <function Model.make_test_function.<locals>.test_function at 0x7df49d3e01f0> triggered tf.function retracing. Tracing is expensive and the excessive number of tracings could be due to (1) creating @tf.function repeatedly in a loop, (2) passing tensors with different shapes, (3) passing Python objects instead of tensors. For (1), please define your @tf.function outside of the loop. For (2), @tf.function has reduce_retracing=True option that can avoid unnecessary retracing. For (3), please refer to https://www.tensorflow.org/guide/function#controlling_retracing and https://www.tensorflow.org/api_docs/python/tf/function for  more details.\n"
          ]
        },
        {
          "output_type": "stream",
          "name": "stdout",
          "text": [
            "1/1 [==============================] - 0s 443ms/step - loss: 1.4484 - accuracy: 0.6471\n",
            "Accuracy en los datos de prueba: 0.6470588445663452\n"
          ]
        }
      ]
    },
    {
      "cell_type": "markdown",
      "source": [
        "# 5. `C_estado`"
      ],
      "metadata": {
        "id": "S7FPyceJkVCd"
      }
    },
    {
      "cell_type": "code",
      "source": [
        "# Ruta de la carpeta de entrenamiento y prueba para la clase 0\n",
        "train_folder_0 = \"/content/drive/MyDrive/Documentos personales/9-Documentos Doctorado/Doctorado 2023/7-Clases/SRGVUA/evacal/orden_tercer_intento/C_estado/train/0\"\n",
        "test_folder_0 = \"/content/drive/MyDrive/Documentos personales/9-Documentos Doctorado/Doctorado 2023/7-Clases/SRGVUA/evacal/orden_tercer_intento/C_estado/test/0\"\n",
        "\n",
        "# Ruta de la carpeta de entrenamiento y prueba para la clase 1\n",
        "train_folder_1 = \"/content/drive/MyDrive/Documentos personales/9-Documentos Doctorado/Doctorado 2023/7-Clases/SRGVUA/evacal/orden_tercer_intento/C_estado/train/1\"\n",
        "test_folder_1 = \"/content/drive/MyDrive/Documentos personales/9-Documentos Doctorado/Doctorado 2023/7-Clases/SRGVUA/evacal/orden_tercer_intento/C_estado/test/1\"\n",
        "\n",
        "# Ruta de la carpeta de entrenamiento y prueba para la clase 2\n",
        "train_folder_2 = \"/content/drive/MyDrive/Documentos personales/9-Documentos Doctorado/Doctorado 2023/7-Clases/SRGVUA/evacal/orden_tercer_intento/C_estado/train/2\"\n",
        "test_folder_2 = \"/content/drive/MyDrive/Documentos personales/9-Documentos Doctorado/Doctorado 2023/7-Clases/SRGVUA/evacal/orden_tercer_intento/C_estado/test/2\"\n",
        "\n",
        "# Función para mover imágenes aleatorias a la carpeta de prueba\n",
        "def move_random_images(source_folder, destination_folder, percentage):\n",
        "    # Obtener la lista de archivos en la carpeta de origen\n",
        "    files = os.listdir(source_folder)\n",
        "    # Calcular el número de imágenes que representan el porcentaje dado\n",
        "    num_images_to_move = int(len(files) * percentage / 100)\n",
        "    # Elegir imágenes al azar\n",
        "    images_to_move = random.sample(files, num_images_to_move)\n",
        "    # Mover las imágenes seleccionadas a la carpeta de destino\n",
        "    for image in images_to_move:\n",
        "        shutil.move(os.path.join(source_folder, image), destination_folder)\n",
        "\n",
        "### Contar el número total de imágenes en la carpeta de entrenamiento para la clase 0\n",
        "num_images_train_0 = len(os.listdir(train_folder_0))\n",
        "print(\"Número total de imágenes en la carpeta de entrenamiento para la clase 0:\", num_images_train_0)\n",
        "\n",
        "# Calcular el 10% de esa cantidad\n",
        "percentage_20_train_0 = 20\n",
        "print(\"El 20% del número total de imágenes para la clase 0 es:\", percentage_20_train_0)\n",
        "\n",
        "# Mover imágenes aleatorias a la carpeta de prueba para la clase 0\n",
        "move_random_images(train_folder_0, test_folder_0, percentage_20_train_0)\n",
        "\n",
        "### Repetir el proceso para la clase 1\n",
        "num_images_train_1 = len(os.listdir(train_folder_1))\n",
        "print(\"Número total de imágenes en la carpeta de entrenamiento para la clase 1:\", num_images_train_1)\n",
        "\n",
        "# Calcular el 10% de esa cantidad\n",
        "percentage_20_train_1 = 20\n",
        "print(\"El 20% del número total de imágenes para la clase 1 es:\", percentage_20_train_1)\n",
        "\n",
        "# Mover imágenes aleatorias a la carpeta de prueba para la clase 1\n",
        "move_random_images(train_folder_1, test_folder_1, percentage_20_train_1)\n",
        "\n",
        "### Repetir el proceso para la clase 2\n",
        "num_images_train_2 = len(os.listdir(train_folder_2))\n",
        "print(\"Número total de imágenes en la carpeta de entrenamiento para la clase 2:\", num_images_train_2)\n",
        "\n",
        "# Calcular el 20% de esa cantidad\n",
        "percentage_20_train_2 = 20\n",
        "print(\"El 20% del número total de imágenes para la clase 2 es:\", percentage_20_train_2)\n",
        "\n",
        "# Mover imágenes aleatorias a la carpeta de prueba para la clase 2\n",
        "move_random_images(train_folder_2, test_folder_2, percentage_20_train_2)"
      ],
      "metadata": {
        "colab": {
          "base_uri": "https://localhost:8080/"
        },
        "id": "dROS6_QJkXd1",
        "outputId": "c476c1e4-63fd-4ed0-c313-b66ace3e3f8f"
      },
      "execution_count": 72,
      "outputs": [
        {
          "output_type": "stream",
          "name": "stdout",
          "text": [
            "Número total de imágenes en la carpeta de entrenamiento para la clase 0: 6\n",
            "El 20% del número total de imágenes para la clase 0 es: 20\n",
            "Número total de imágenes en la carpeta de entrenamiento para la clase 1: 28\n",
            "El 20% del número total de imágenes para la clase 1 es: 20\n",
            "Número total de imágenes en la carpeta de entrenamiento para la clase 2: 61\n",
            "El 20% del número total de imágenes para la clase 2 es: 20\n"
          ]
        }
      ]
    },
    {
      "cell_type": "code",
      "source": [
        "width = 240\n",
        "height = 240\n",
        "\n",
        "ruta_train = '/content/drive/MyDrive/Documentos personales/9-Documentos Doctorado/Doctorado 2023/7-Clases/SRGVUA/evacal/orden_tercer_intento/C_estado/train/'\n",
        "\n",
        "train_x = []\n",
        "train_y = []\n",
        "\n",
        "labels = os.listdir(ruta_train)\n",
        "\n",
        "for i in os.listdir(ruta_train):\n",
        "    for j in os.listdir(ruta_train + i):\n",
        "        img = cv2.imread(ruta_train+i+'/'+j)\n",
        "        resized_image = cv2.resize(img, (width,height))\n",
        "\n",
        "        train_x.append(resized_image)\n",
        "\n",
        "        for x,y in enumerate(labels):\n",
        "            if y == i:\n",
        "                array = np.zeros(len(labels))\n",
        "                array[x]=1\n",
        "                train_y.append(array)\n",
        "\n",
        "x_data = np.array(train_x)\n",
        "y_data = np.array(train_y)\n",
        "\n",
        "model = tf.keras.Sequential([\n",
        "    layers.Conv2D(32, 3,3, input_shape=(width, height, 3)),\n",
        "    layers.Activation('relu'),\n",
        "    layers.MaxPooling2D(pool_size=(2,2)),\n",
        "    layers.Conv2D(32, 3,3),\n",
        "    layers.Activation('relu'),\n",
        "    layers.MaxPooling2D(pool_size=(2,2)),\n",
        "    layers.Conv2D(64, 3,3),\n",
        "    layers.Activation('relu'),\n",
        "    layers.MaxPooling2D(pool_size=(2,2)),\n",
        "    layers.Flatten(),\n",
        "    layers.Dense(64),\n",
        "    layers.Activation('relu'),\n",
        "    layers.Dropout(0.5),\n",
        "    layers.Dense(3),\n",
        "    layers.Activation('sigmoid')\n",
        "])\n",
        "\n",
        "model.compile(loss='binary_crossentropy', optimizer='adam', metrics=['accuracy'])\n",
        "\n",
        "epochs = 80\n",
        "\n",
        "model.fit(x_data, y_data, epochs = epochs, verbose=0)\n",
        "\n",
        "models.save_model(model, '/content/drive/MyDrive/Documentos personales/9-Documentos Doctorado/Doctorado 2023/7-Clases/SRGVUA/evacal/orden_tercer_intento/C_estado/mimodelo.keras')\n",
        "\n",
        "#####AQUI CALCULO EL ACCURACY CON LOS DATOS DE TESTEO\n",
        "\n",
        "# Ruta de los datos de prueba\n",
        "ruta_test = '/content/drive/MyDrive/Documentos personales/9-Documentos Doctorado/Doctorado 2023/7-Clases/SRGVUA/evacal/orden_tercer_intento/C_estado/test/'\n",
        "\n",
        "test_x = []\n",
        "test_y = []\n",
        "\n",
        "# Obtener la lista de etiquetas\n",
        "labels = os.listdir(ruta_test)\n",
        "\n",
        "# Iterar sobre las carpetas de las etiquetas\n",
        "for i in os.listdir(ruta_test):\n",
        "    # Iterar sobre las imágenes dentro de cada carpeta\n",
        "    for j in os.listdir(ruta_test + i):\n",
        "        # Leer la imagen y redimensionarla\n",
        "        img = cv2.imread(ruta_test+i+'/'+j)\n",
        "        resized_image = cv2.resize(img, (width,height))\n",
        "\n",
        "        test_x.append(resized_image)\n",
        "\n",
        "        # Crear la etiqueta correspondiente\n",
        "        for x,y in enumerate(labels):\n",
        "            if y == i:\n",
        "                array = np.zeros(len(labels))\n",
        "                array[x]=1\n",
        "                test_y.append(array)\n",
        "\n",
        "# Convertir los datos a arrays numpy\n",
        "x_test = np.array(test_x)\n",
        "y_test = np.array(test_y)\n",
        "\n",
        "# Cargar el modelo entrenado\n",
        "model = models.load_model('/content/drive/MyDrive/Documentos personales/9-Documentos Doctorado/Doctorado 2023/7-Clases/SRGVUA/evacal/orden_tercer_intento/C_estado/mimodelo.keras')\n",
        "\n",
        "# Evaluar el modelo con los datos de prueba\n",
        "loss, accuracy = model.evaluate(x_test, y_test)\n",
        "print(\"Accuracy en los datos de prueba:\", accuracy)"
      ],
      "metadata": {
        "colab": {
          "base_uri": "https://localhost:8080/"
        },
        "id": "PAVl-T3Ukn1L",
        "outputId": "8ec6887a-fc71-46ee-ee5e-9ce49a27d93f"
      },
      "execution_count": 74,
      "outputs": [
        {
          "output_type": "stream",
          "name": "stderr",
          "text": [
            "WARNING:tensorflow:6 out of the last 6 calls to <function Model.make_test_function.<locals>.test_function at 0x7df4889fe3b0> triggered tf.function retracing. Tracing is expensive and the excessive number of tracings could be due to (1) creating @tf.function repeatedly in a loop, (2) passing tensors with different shapes, (3) passing Python objects instead of tensors. For (1), please define your @tf.function outside of the loop. For (2), @tf.function has reduce_retracing=True option that can avoid unnecessary retracing. For (3), please refer to https://www.tensorflow.org/guide/function#controlling_retracing and https://www.tensorflow.org/api_docs/python/tf/function for  more details.\n"
          ]
        },
        {
          "output_type": "stream",
          "name": "stdout",
          "text": [
            "1/1 [==============================] - 0s 273ms/step - loss: 1.0441 - accuracy: 0.4118\n",
            "Accuracy en los datos de prueba: 0.4117647111415863\n"
          ]
        }
      ]
    },
    {
      "cell_type": "markdown",
      "source": [
        "# 6. `C_armarios`"
      ],
      "metadata": {
        "id": "_spHUPH_lg8q"
      }
    },
    {
      "cell_type": "code",
      "source": [
        "# Ruta de la carpeta de entrenamiento y prueba para la clase 0\n",
        "train_folder_0 = \"/content/drive/MyDrive/Documentos personales/9-Documentos Doctorado/Doctorado 2023/7-Clases/SRGVUA/evacal/orden_tercer_intento/C_armarios/train/0\"\n",
        "test_folder_0 = \"/content/drive/MyDrive/Documentos personales/9-Documentos Doctorado/Doctorado 2023/7-Clases/SRGVUA/evacal/orden_tercer_intento/C_armarios/test/0\"\n",
        "\n",
        "# Ruta de la carpeta de entrenamiento y prueba para la clase 1\n",
        "train_folder_1 = \"/content/drive/MyDrive/Documentos personales/9-Documentos Doctorado/Doctorado 2023/7-Clases/SRGVUA/evacal/orden_tercer_intento/C_armarios/train/1\"\n",
        "test_folder_1 = \"/content/drive/MyDrive/Documentos personales/9-Documentos Doctorado/Doctorado 2023/7-Clases/SRGVUA/evacal/orden_tercer_intento/C_armarios/test/1\"\n",
        "\n",
        "# Función para mover imágenes aleatorias a la carpeta de prueba\n",
        "def move_random_images(source_folder, destination_folder, percentage):\n",
        "    # Obtener la lista de archivos en la carpeta de origen\n",
        "    files = os.listdir(source_folder)\n",
        "    # Calcular el número de imágenes que representan el porcentaje dado\n",
        "    num_images_to_move = int(len(files) * percentage / 100)\n",
        "    # Elegir imágenes al azar\n",
        "    images_to_move = random.sample(files, num_images_to_move)\n",
        "    # Mover las imágenes seleccionadas a la carpeta de destino\n",
        "    for image in images_to_move:\n",
        "        shutil.move(os.path.join(source_folder, image), destination_folder)\n",
        "\n",
        "### Contar el número total de imágenes en la carpeta de entrenamiento para la clase 0\n",
        "num_images_train_0 = len(os.listdir(train_folder_0))\n",
        "print(\"Número total de imágenes en la carpeta de entrenamiento para la clase 0:\", num_images_train_0)\n",
        "\n",
        "# Calcular el 10% de esa cantidad\n",
        "percentage_20_train_0 = 20\n",
        "print(\"El 20% del número total de imágenes para la clase 0 es:\", percentage_20_train_0)\n",
        "\n",
        "# Mover imágenes aleatorias a la carpeta de prueba para la clase 0\n",
        "move_random_images(train_folder_0, test_folder_0, percentage_20_train_0)\n",
        "\n",
        "### Repetir el proceso para la clase 1\n",
        "num_images_train_1 = len(os.listdir(train_folder_1))\n",
        "print(\"Número total de imágenes en la carpeta de entrenamiento para la clase 1:\", num_images_train_1)\n",
        "\n",
        "# Calcular el 10% de esa cantidad\n",
        "percentage_20_train_1 = 20\n",
        "print(\"El 20% del número total de imágenes para la clase 1 es:\", percentage_20_train_1)\n",
        "\n",
        "# Mover imágenes aleatorias a la carpeta de prueba para la clase 1\n",
        "move_random_images(train_folder_1, test_folder_1, percentage_20_train_1)\n"
      ],
      "metadata": {
        "colab": {
          "base_uri": "https://localhost:8080/"
        },
        "id": "9JVjBFgWlk4e",
        "outputId": "8797349d-535c-4a32-9b1b-fc3a4e515e6b"
      },
      "execution_count": 75,
      "outputs": [
        {
          "output_type": "stream",
          "name": "stdout",
          "text": [
            "Número total de imágenes en la carpeta de entrenamiento para la clase 0: 4\n",
            "El 20% del número total de imágenes para la clase 0 es: 20\n",
            "Número total de imágenes en la carpeta de entrenamiento para la clase 1: 85\n",
            "El 20% del número total de imágenes para la clase 1 es: 20\n"
          ]
        }
      ]
    },
    {
      "cell_type": "code",
      "source": [
        "width = 240\n",
        "height = 240\n",
        "\n",
        "ruta_train = '/content/drive/MyDrive/Documentos personales/9-Documentos Doctorado/Doctorado 2023/7-Clases/SRGVUA/evacal/orden_tercer_intento/C_armarios/train/'\n",
        "\n",
        "train_x = []\n",
        "train_y = []\n",
        "\n",
        "labels = os.listdir(ruta_train)\n",
        "\n",
        "for i in os.listdir(ruta_train):\n",
        "    for j in os.listdir(ruta_train + i):\n",
        "        img = cv2.imread(ruta_train+i+'/'+j)\n",
        "        resized_image = cv2.resize(img, (width,height))\n",
        "\n",
        "        train_x.append(resized_image)\n",
        "\n",
        "        for x,y in enumerate(labels):\n",
        "            if y == i:\n",
        "                array = np.zeros(len(labels))\n",
        "                array[x]=1\n",
        "                train_y.append(array)\n",
        "\n",
        "x_data = np.array(train_x)\n",
        "y_data = np.array(train_y)\n",
        "\n",
        "model = tf.keras.Sequential([\n",
        "    layers.Conv2D(32, 3,3, input_shape=(width, height, 3)),\n",
        "    layers.Activation('relu'),\n",
        "    layers.MaxPooling2D(pool_size=(2,2)),\n",
        "    layers.Conv2D(32, 3,3),\n",
        "    layers.Activation('relu'),\n",
        "    layers.MaxPooling2D(pool_size=(2,2)),\n",
        "    layers.Conv2D(64, 3,3),\n",
        "    layers.Activation('relu'),\n",
        "    layers.MaxPooling2D(pool_size=(2,2)),\n",
        "    layers.Flatten(),\n",
        "    layers.Dense(64),\n",
        "    layers.Activation('relu'),\n",
        "    layers.Dropout(0.5),\n",
        "    layers.Dense(2),\n",
        "    layers.Activation('sigmoid')\n",
        "])\n",
        "\n",
        "model.compile(loss='binary_crossentropy', optimizer='adam', metrics=['accuracy'])\n",
        "\n",
        "epochs = 80\n",
        "\n",
        "model.fit(x_data, y_data, epochs = epochs, verbose=0)\n",
        "\n",
        "models.save_model(model, '/content/drive/MyDrive/Documentos personales/9-Documentos Doctorado/Doctorado 2023/7-Clases/SRGVUA/evacal/orden_tercer_intento/C_armarios/mimodelo.keras')\n",
        "\n",
        "#####AQUI CALCULO EL ACCURACY CON LOS DATOS DE TESTEO\n",
        "\n",
        "# Ruta de los datos de prueba\n",
        "ruta_test = '/content/drive/MyDrive/Documentos personales/9-Documentos Doctorado/Doctorado 2023/7-Clases/SRGVUA/evacal/orden_tercer_intento/C_armarios/test/'\n",
        "\n",
        "test_x = []\n",
        "test_y = []\n",
        "\n",
        "# Obtener la lista de etiquetas\n",
        "labels = os.listdir(ruta_test)\n",
        "\n",
        "# Iterar sobre las carpetas de las etiquetas\n",
        "for i in os.listdir(ruta_test):\n",
        "    # Iterar sobre las imágenes dentro de cada carpeta\n",
        "    for j in os.listdir(ruta_test + i):\n",
        "        # Leer la imagen y redimensionarla\n",
        "        img = cv2.imread(ruta_test+i+'/'+j)\n",
        "        resized_image = cv2.resize(img, (width,height))\n",
        "\n",
        "        test_x.append(resized_image)\n",
        "\n",
        "        # Crear la etiqueta correspondiente\n",
        "        for x,y in enumerate(labels):\n",
        "            if y == i:\n",
        "                array = np.zeros(len(labels))\n",
        "                array[x]=1\n",
        "                test_y.append(array)\n",
        "\n",
        "# Convertir los datos a arrays numpy\n",
        "x_test = np.array(test_x)\n",
        "y_test = np.array(test_y)\n",
        "\n",
        "# Cargar el modelo entrenado\n",
        "model = models.load_model('/content/drive/MyDrive/Documentos personales/9-Documentos Doctorado/Doctorado 2023/7-Clases/SRGVUA/evacal/orden_tercer_intento/C_armarios/mimodelo.keras')\n",
        "\n",
        "# Evaluar el modelo con los datos de prueba\n",
        "loss, accuracy = model.evaluate(x_test, y_test)\n",
        "print(\"Accuracy en los datos de prueba:\", accuracy)"
      ],
      "metadata": {
        "colab": {
          "base_uri": "https://localhost:8080/"
        },
        "id": "q_TTIvrIlvN6",
        "outputId": "3236487d-a7f8-4cdd-b22a-7da3b9d12ac7"
      },
      "execution_count": 76,
      "outputs": [
        {
          "output_type": "stream",
          "name": "stdout",
          "text": [
            "1/1 [==============================] - 0s 374ms/step - loss: 0.0075 - accuracy: 1.0000\n",
            "Accuracy en los datos de prueba: 1.0\n"
          ]
        }
      ]
    },
    {
      "cell_type": "markdown",
      "source": [
        "# 7. `R_contemporaneo`"
      ],
      "metadata": {
        "id": "c0HbWvJ0ofrl"
      }
    },
    {
      "cell_type": "code",
      "source": [
        "# Ruta de la carpeta de entrenamiento y prueba para la clase 0\n",
        "train_folder_0 = \"/content/drive/MyDrive/Documentos personales/9-Documentos Doctorado/Doctorado 2023/7-Clases/SRGVUA/evacal/orden_tercer_intento/R_contempo/train/0\"\n",
        "test_folder_0 = \"/content/drive/MyDrive/Documentos personales/9-Documentos Doctorado/Doctorado 2023/7-Clases/SRGVUA/evacal/orden_tercer_intento/R_contempo/test/0\"\n",
        "\n",
        "# Ruta de la carpeta de entrenamiento y prueba para la clase 1\n",
        "train_folder_1 = \"/content/drive/MyDrive/Documentos personales/9-Documentos Doctorado/Doctorado 2023/7-Clases/SRGVUA/evacal/orden_tercer_intento/R_contempo/train/1\"\n",
        "test_folder_1 = \"/content/drive/MyDrive/Documentos personales/9-Documentos Doctorado/Doctorado 2023/7-Clases/SRGVUA/evacal/orden_tercer_intento/R_contempo/test/1\"\n",
        "\n",
        "# Función para mover imágenes aleatorias a la carpeta de prueba\n",
        "def move_random_images(source_folder, destination_folder, percentage):\n",
        "    # Obtener la lista de archivos en la carpeta de origen\n",
        "    files = os.listdir(source_folder)\n",
        "    # Calcular el número de imágenes que representan el porcentaje dado\n",
        "    num_images_to_move = int(len(files) * percentage / 100)\n",
        "    # Elegir imágenes al azar\n",
        "    images_to_move = random.sample(files, num_images_to_move)\n",
        "    # Mover las imágenes seleccionadas a la carpeta de destino\n",
        "    for image in images_to_move:\n",
        "        shutil.move(os.path.join(source_folder, image), destination_folder)\n",
        "\n",
        "### Contar el número total de imágenes en la carpeta de entrenamiento para la clase 0\n",
        "num_images_train_0 = len(os.listdir(train_folder_0))\n",
        "print(\"Número total de imágenes en la carpeta de entrenamiento para la clase 0:\", num_images_train_0)\n",
        "\n",
        "# Calcular el 10% de esa cantidad\n",
        "percentage_20_train_0 = 20\n",
        "print(\"El 20% del número total de imágenes para la clase 0 es:\", percentage_20_train_0)\n",
        "\n",
        "# Mover imágenes aleatorias a la carpeta de prueba para la clase 0\n",
        "move_random_images(train_folder_0, test_folder_0, percentage_20_train_0)\n",
        "\n",
        "### Repetir el proceso para la clase 1\n",
        "num_images_train_1 = len(os.listdir(train_folder_1))\n",
        "print(\"Número total de imágenes en la carpeta de entrenamiento para la clase 1:\", num_images_train_1)\n",
        "\n",
        "# Calcular el 10% de esa cantidad\n",
        "percentage_20_train_1 = 20\n",
        "print(\"El 20% del número total de imágenes para la clase 1 es:\", percentage_20_train_1)\n",
        "\n",
        "# Mover imágenes aleatorias a la carpeta de prueba para la clase 1\n",
        "move_random_images(train_folder_1, test_folder_1, percentage_20_train_1)"
      ],
      "metadata": {
        "colab": {
          "base_uri": "https://localhost:8080/"
        },
        "id": "89P79eidozI2",
        "outputId": "74213e78-b60c-4bf8-91c5-949a75b57d0b"
      },
      "execution_count": 77,
      "outputs": [
        {
          "output_type": "stream",
          "name": "stdout",
          "text": [
            "Número total de imágenes en la carpeta de entrenamiento para la clase 0: 68\n",
            "El 20% del número total de imágenes para la clase 0 es: 20\n",
            "Número total de imágenes en la carpeta de entrenamiento para la clase 1: 71\n",
            "El 20% del número total de imágenes para la clase 1 es: 20\n"
          ]
        }
      ]
    },
    {
      "cell_type": "code",
      "source": [
        "width = 240\n",
        "height = 240\n",
        "\n",
        "ruta_train = '/content/drive/MyDrive/Documentos personales/9-Documentos Doctorado/Doctorado 2023/7-Clases/SRGVUA/evacal/orden_tercer_intento/R_contempo/train/'\n",
        "\n",
        "train_x = []\n",
        "train_y = []\n",
        "\n",
        "labels = os.listdir(ruta_train)\n",
        "\n",
        "for i in os.listdir(ruta_train):\n",
        "    for j in os.listdir(ruta_train + i):\n",
        "        img = cv2.imread(ruta_train+i+'/'+j)\n",
        "        resized_image = cv2.resize(img, (width,height))\n",
        "\n",
        "        train_x.append(resized_image)\n",
        "\n",
        "        for x,y in enumerate(labels):\n",
        "            if y == i:\n",
        "                array = np.zeros(len(labels))\n",
        "                array[x]=1\n",
        "                train_y.append(array)\n",
        "\n",
        "x_data = np.array(train_x)\n",
        "y_data = np.array(train_y)\n",
        "\n",
        "model = tf.keras.Sequential([\n",
        "    layers.Conv2D(32, 3,3, input_shape=(width, height, 3)),\n",
        "    layers.Activation('relu'),\n",
        "    layers.MaxPooling2D(pool_size=(2,2)),\n",
        "    layers.Conv2D(32, 3,3),\n",
        "    layers.Activation('relu'),\n",
        "    layers.MaxPooling2D(pool_size=(2,2)),\n",
        "    layers.Conv2D(64, 3,3),\n",
        "    layers.Activation('relu'),\n",
        "    layers.MaxPooling2D(pool_size=(2,2)),\n",
        "    layers.Flatten(),\n",
        "    layers.Dense(64),\n",
        "    layers.Activation('relu'),\n",
        "    layers.Dropout(0.5),\n",
        "    layers.Dense(2),\n",
        "    layers.Activation('sigmoid')\n",
        "])\n",
        "\n",
        "model.compile(loss='binary_crossentropy', optimizer='adam', metrics=['accuracy'])\n",
        "\n",
        "epochs = 80\n",
        "\n",
        "model.fit(x_data, y_data, epochs = epochs, verbose=0)\n",
        "\n",
        "models.save_model(model, '/content/drive/MyDrive/Documentos personales/9-Documentos Doctorado/Doctorado 2023/7-Clases/SRGVUA/evacal/orden_tercer_intento/R_contempo/mimodelo.keras')\n",
        "\n",
        "#####AQUI CALCULO EL ACCURACY CON LOS DATOS DE TESTEO\n",
        "\n",
        "# Ruta de los datos de prueba\n",
        "ruta_test = '/content/drive/MyDrive/Documentos personales/9-Documentos Doctorado/Doctorado 2023/7-Clases/SRGVUA/evacal/orden_tercer_intento/R_contempo/test/'\n",
        "\n",
        "test_x = []\n",
        "test_y = []\n",
        "\n",
        "# Obtener la lista de etiquetas\n",
        "labels = os.listdir(ruta_test)\n",
        "\n",
        "# Iterar sobre las carpetas de las etiquetas\n",
        "for i in os.listdir(ruta_test):\n",
        "    # Iterar sobre las imágenes dentro de cada carpeta\n",
        "    for j in os.listdir(ruta_test + i):\n",
        "        # Leer la imagen y redimensionarla\n",
        "        img = cv2.imread(ruta_test+i+'/'+j)\n",
        "        resized_image = cv2.resize(img, (width,height))\n",
        "\n",
        "        test_x.append(resized_image)\n",
        "\n",
        "        # Crear la etiqueta correspondiente\n",
        "        for x,y in enumerate(labels):\n",
        "            if y == i:\n",
        "                array = np.zeros(len(labels))\n",
        "                array[x]=1\n",
        "                test_y.append(array)\n",
        "\n",
        "# Convertir los datos a arrays numpy\n",
        "x_test = np.array(test_x)\n",
        "y_test = np.array(test_y)\n",
        "\n",
        "# Cargar el modelo entrenado\n",
        "model = models.load_model('/content/drive/MyDrive/Documentos personales/9-Documentos Doctorado/Doctorado 2023/7-Clases/SRGVUA/evacal/orden_tercer_intento/R_contempo/mimodelo.keras')\n",
        "\n",
        "# Evaluar el modelo con los datos de prueba\n",
        "loss, accuracy = model.evaluate(x_test, y_test)\n",
        "print(\"Accuracy en los datos de prueba:\", accuracy)"
      ],
      "metadata": {
        "colab": {
          "base_uri": "https://localhost:8080/"
        },
        "id": "eKjlsk_MqlXS",
        "outputId": "103b76dd-8a3c-4d9c-cb66-e030e3311c28"
      },
      "execution_count": 78,
      "outputs": [
        {
          "output_type": "stream",
          "name": "stdout",
          "text": [
            "1/1 [==============================] - 0s 458ms/step - loss: 1.2742 - accuracy: 0.6296\n",
            "Accuracy en los datos de prueba: 0.6296296119689941\n"
          ]
        }
      ]
    },
    {
      "cell_type": "markdown",
      "source": [
        "# 8. `R_estado`"
      ],
      "metadata": {
        "id": "GdRW1snGrLS9"
      }
    },
    {
      "cell_type": "code",
      "source": [
        "# Ruta de la carpeta de entrenamiento y prueba para la clase 0\n",
        "train_folder_0 = \"/content/drive/MyDrive/Documentos personales/9-Documentos Doctorado/Doctorado 2023/7-Clases/SRGVUA/evacal/orden_tercer_intento/R_estado/train/0\"\n",
        "test_folder_0 = \"/content/drive/MyDrive/Documentos personales/9-Documentos Doctorado/Doctorado 2023/7-Clases/SRGVUA/evacal/orden_tercer_intento/R_estado/test/0\"\n",
        "\n",
        "# Ruta de la carpeta de entrenamiento y prueba para la clase 1\n",
        "train_folder_1 = \"/content/drive/MyDrive/Documentos personales/9-Documentos Doctorado/Doctorado 2023/7-Clases/SRGVUA/evacal/orden_tercer_intento/R_estado/train/1\"\n",
        "test_folder_1 = \"/content/drive/MyDrive/Documentos personales/9-Documentos Doctorado/Doctorado 2023/7-Clases/SRGVUA/evacal/orden_tercer_intento/R_estado/test/1\"\n",
        "\n",
        "# Ruta de la carpeta de entrenamiento y prueba para la clase 2\n",
        "train_folder_2 = \"/content/drive/MyDrive/Documentos personales/9-Documentos Doctorado/Doctorado 2023/7-Clases/SRGVUA/evacal/orden_tercer_intento/R_estado/train/2\"\n",
        "test_folder_2 = \"/content/drive/MyDrive/Documentos personales/9-Documentos Doctorado/Doctorado 2023/7-Clases/SRGVUA/evacal/orden_tercer_intento/R_estado/test/2\"\n",
        "\n",
        "# Función para mover imágenes aleatorias a la carpeta de prueba\n",
        "def move_random_images(source_folder, destination_folder, percentage):\n",
        "    # Obtener la lista de archivos en la carpeta de origen\n",
        "    files = os.listdir(source_folder)\n",
        "    # Calcular el número de imágenes que representan el porcentaje dado\n",
        "    num_images_to_move = int(len(files) * percentage / 100)\n",
        "    # Elegir imágenes al azar\n",
        "    images_to_move = random.sample(files, num_images_to_move)\n",
        "    # Mover las imágenes seleccionadas a la carpeta de destino\n",
        "    for image in images_to_move:\n",
        "        shutil.move(os.path.join(source_folder, image), destination_folder)\n",
        "\n",
        "### Contar el número total de imágenes en la carpeta de entrenamiento para la clase 0\n",
        "num_images_train_0 = len(os.listdir(train_folder_0))\n",
        "print(\"Número total de imágenes en la carpeta de entrenamiento para la clase 0:\", num_images_train_0)\n",
        "\n",
        "# Calcular el 10% de esa cantidad\n",
        "percentage_20_train_0 = 20\n",
        "print(\"El 20% del número total de imágenes para la clase 0 es:\", percentage_20_train_0)\n",
        "\n",
        "# Mover imágenes aleatorias a la carpeta de prueba para la clase 0\n",
        "move_random_images(train_folder_0, test_folder_0, percentage_20_train_0)\n",
        "\n",
        "### Repetir el proceso para la clase 1\n",
        "num_images_train_1 = len(os.listdir(train_folder_1))\n",
        "print(\"Número total de imágenes en la carpeta de entrenamiento para la clase 1:\", num_images_train_1)\n",
        "\n",
        "# Calcular el 10% de esa cantidad\n",
        "percentage_20_train_1 = 20\n",
        "print(\"El 20% del número total de imágenes para la clase 1 es:\", percentage_20_train_1)\n",
        "\n",
        "# Mover imágenes aleatorias a la carpeta de prueba para la clase 1\n",
        "move_random_images(train_folder_1, test_folder_1, percentage_20_train_1)\n",
        "\n",
        "### Repetir el proceso para la clase 2\n",
        "num_images_train_2 = len(os.listdir(train_folder_2))\n",
        "print(\"Número total de imágenes en la carpeta de entrenamiento para la clase 2:\", num_images_train_2)\n",
        "\n",
        "# Calcular el 20% de esa cantidad\n",
        "percentage_20_train_2 = 20\n",
        "print(\"El 20% del número total de imágenes para la clase 2 es:\", percentage_20_train_2)\n",
        "\n",
        "# Mover imágenes aleatorias a la carpeta de prueba para la clase 2\n",
        "move_random_images(train_folder_2, test_folder_2, percentage_20_train_2)"
      ],
      "metadata": {
        "colab": {
          "base_uri": "https://localhost:8080/"
        },
        "id": "THmXdIZarN9x",
        "outputId": "44143636-1fe5-4c4b-fc02-80b1cc98d4c2"
      },
      "execution_count": 79,
      "outputs": [
        {
          "output_type": "stream",
          "name": "stdout",
          "text": [
            "Número total de imágenes en la carpeta de entrenamiento para la clase 0: 3\n",
            "El 20% del número total de imágenes para la clase 0 es: 20\n",
            "Número total de imágenes en la carpeta de entrenamiento para la clase 1: 59\n",
            "El 20% del número total de imágenes para la clase 1 es: 20\n",
            "Número total de imágenes en la carpeta de entrenamiento para la clase 2: 77\n",
            "El 20% del número total de imágenes para la clase 2 es: 20\n"
          ]
        }
      ]
    },
    {
      "cell_type": "code",
      "source": [
        "width = 240\n",
        "height = 240\n",
        "\n",
        "ruta_train = '/content/drive/MyDrive/Documentos personales/9-Documentos Doctorado/Doctorado 2023/7-Clases/SRGVUA/evacal/orden_tercer_intento/R_estado/train/'\n",
        "\n",
        "train_x = []\n",
        "train_y = []\n",
        "\n",
        "labels = os.listdir(ruta_train)\n",
        "\n",
        "for i in os.listdir(ruta_train):\n",
        "    for j in os.listdir(ruta_train + i):\n",
        "        img = cv2.imread(ruta_train+i+'/'+j)\n",
        "        resized_image = cv2.resize(img, (width,height))\n",
        "\n",
        "        train_x.append(resized_image)\n",
        "\n",
        "        for x,y in enumerate(labels):\n",
        "            if y == i:\n",
        "                array = np.zeros(len(labels))\n",
        "                array[x]=1\n",
        "                train_y.append(array)\n",
        "\n",
        "x_data = np.array(train_x)\n",
        "y_data = np.array(train_y)\n",
        "\n",
        "model = tf.keras.Sequential([\n",
        "    layers.Conv2D(32, 3,3, input_shape=(width, height, 3)),\n",
        "    layers.Activation('relu'),\n",
        "    layers.MaxPooling2D(pool_size=(2,2)),\n",
        "    layers.Conv2D(32, 3,3),\n",
        "    layers.Activation('relu'),\n",
        "    layers.MaxPooling2D(pool_size=(2,2)),\n",
        "    layers.Conv2D(64, 3,3),\n",
        "    layers.Activation('relu'),\n",
        "    layers.MaxPooling2D(pool_size=(2,2)),\n",
        "    layers.Flatten(),\n",
        "    layers.Dense(64),\n",
        "    layers.Activation('relu'),\n",
        "    layers.Dropout(0.5),\n",
        "    layers.Dense(3),\n",
        "    layers.Activation('sigmoid')\n",
        "])\n",
        "\n",
        "model.compile(loss='binary_crossentropy', optimizer='adam', metrics=['accuracy'])\n",
        "\n",
        "epochs = 80\n",
        "\n",
        "model.fit(x_data, y_data, epochs = epochs, verbose=0)\n",
        "\n",
        "models.save_model(model, '/content/drive/MyDrive/Documentos personales/9-Documentos Doctorado/Doctorado 2023/7-Clases/SRGVUA/evacal/orden_tercer_intento/R_estado/mimodelo.keras')\n",
        "\n",
        "#####AQUI CALCULO EL ACCURACY CON LOS DATOS DE TESTEO\n",
        "\n",
        "# Ruta de los datos de prueba\n",
        "ruta_test = '/content/drive/MyDrive/Documentos personales/9-Documentos Doctorado/Doctorado 2023/7-Clases/SRGVUA/evacal/orden_tercer_intento/R_estado/test/'\n",
        "\n",
        "test_x = []\n",
        "test_y = []\n",
        "\n",
        "# Obtener la lista de etiquetas\n",
        "labels = os.listdir(ruta_test)\n",
        "\n",
        "# Iterar sobre las carpetas de las etiquetas\n",
        "for i in os.listdir(ruta_test):\n",
        "    # Iterar sobre las imágenes dentro de cada carpeta\n",
        "    for j in os.listdir(ruta_test + i):\n",
        "        # Leer la imagen y redimensionarla\n",
        "        img = cv2.imread(ruta_test+i+'/'+j)\n",
        "        resized_image = cv2.resize(img, (width,height))\n",
        "\n",
        "        test_x.append(resized_image)\n",
        "\n",
        "        # Crear la etiqueta correspondiente\n",
        "        for x,y in enumerate(labels):\n",
        "            if y == i:\n",
        "                array = np.zeros(len(labels))\n",
        "                array[x]=1\n",
        "                test_y.append(array)\n",
        "\n",
        "# Convertir los datos a arrays numpy\n",
        "x_test = np.array(test_x)\n",
        "y_test = np.array(test_y)\n",
        "\n",
        "# Cargar el modelo entrenado\n",
        "model = models.load_model('/content/drive/MyDrive/Documentos personales/9-Documentos Doctorado/Doctorado 2023/7-Clases/SRGVUA/evacal/orden_tercer_intento/R_estado/mimodelo.keras')\n",
        "\n",
        "# Evaluar el modelo con los datos de prueba\n",
        "loss, accuracy = model.evaluate(x_test, y_test)\n",
        "print(\"Accuracy en los datos de prueba:\", accuracy)"
      ],
      "metadata": {
        "colab": {
          "base_uri": "https://localhost:8080/"
        },
        "id": "dcAa9ddwrxTD",
        "outputId": "d2eb7c91-0f0b-45a8-d4ab-f9db2d51a84b"
      },
      "execution_count": 80,
      "outputs": [
        {
          "output_type": "stream",
          "name": "stdout",
          "text": [
            "1/1 [==============================] - 0s 280ms/step - loss: 1.0142 - accuracy: 0.5769\n",
            "Accuracy en los datos de prueba: 0.5769230723381042\n"
          ]
        }
      ]
    },
    {
      "cell_type": "markdown",
      "source": [
        "# 9. `R_singular`"
      ],
      "metadata": {
        "id": "g9PrpH1ys_DA"
      }
    },
    {
      "cell_type": "code",
      "source": [
        "# Ruta de la carpeta de entrenamiento y prueba para la clase 0\n",
        "train_folder_0 = \"/content/drive/MyDrive/Documentos personales/9-Documentos Doctorado/Doctorado 2023/7-Clases/SRGVUA/evacal/orden_tercer_intento/R_singular/train/0\"\n",
        "test_folder_0 = \"/content/drive/MyDrive/Documentos personales/9-Documentos Doctorado/Doctorado 2023/7-Clases/SRGVUA/evacal/orden_tercer_intento/R_singular/test/0\"\n",
        "\n",
        "# Ruta de la carpeta de entrenamiento y prueba para la clase 1\n",
        "train_folder_1 = \"/content/drive/MyDrive/Documentos personales/9-Documentos Doctorado/Doctorado 2023/7-Clases/SRGVUA/evacal/orden_tercer_intento/R_singular/train/1\"\n",
        "test_folder_1 = \"/content/drive/MyDrive/Documentos personales/9-Documentos Doctorado/Doctorado 2023/7-Clases/SRGVUA/evacal/orden_tercer_intento/R_singular/test/1\"\n",
        "\n",
        "# Función para mover imágenes aleatorias a la carpeta de prueba\n",
        "def move_random_images(source_folder, destination_folder, percentage):\n",
        "    # Obtener la lista de archivos en la carpeta de origen\n",
        "    files = os.listdir(source_folder)\n",
        "    # Calcular el número de imágenes que representan el porcentaje dado\n",
        "    num_images_to_move = int(len(files) * percentage / 100)\n",
        "    # Elegir imágenes al azar\n",
        "    images_to_move = random.sample(files, num_images_to_move)\n",
        "    # Mover las imágenes seleccionadas a la carpeta de destino\n",
        "    for image in images_to_move:\n",
        "        shutil.move(os.path.join(source_folder, image), destination_folder)\n",
        "\n",
        "### Contar el número total de imágenes en la carpeta de entrenamiento para la clase 0\n",
        "num_images_train_0 = len(os.listdir(train_folder_0))\n",
        "print(\"Número total de imágenes en la carpeta de entrenamiento para la clase 0:\", num_images_train_0)\n",
        "\n",
        "# Calcular el 10% de esa cantidad\n",
        "percentage_20_train_0 = 20\n",
        "print(\"El 20% del número total de imágenes para la clase 0 es:\", percentage_20_train_0)\n",
        "\n",
        "# Mover imágenes aleatorias a la carpeta de prueba para la clase 0\n",
        "move_random_images(train_folder_0, test_folder_0, percentage_20_train_0)\n",
        "\n",
        "### Repetir el proceso para la clase 1\n",
        "num_images_train_1 = len(os.listdir(train_folder_1))\n",
        "print(\"Número total de imágenes en la carpeta de entrenamiento para la clase 1:\", num_images_train_1)\n",
        "\n",
        "# Calcular el 10% de esa cantidad\n",
        "percentage_20_train_1 = 20\n",
        "print(\"El 20% del número total de imágenes para la clase 1 es:\", percentage_20_train_1)\n",
        "\n",
        "# Mover imágenes aleatorias a la carpeta de prueba para la clase 1\n",
        "move_random_images(train_folder_1, test_folder_1, percentage_20_train_1)"
      ],
      "metadata": {
        "colab": {
          "base_uri": "https://localhost:8080/"
        },
        "id": "PNedbeYxtBxN",
        "outputId": "88e410cc-0d96-44e5-e5f3-a91005a7e80f"
      },
      "execution_count": 81,
      "outputs": [
        {
          "output_type": "stream",
          "name": "stdout",
          "text": [
            "Número total de imágenes en la carpeta de entrenamiento para la clase 0: 113\n",
            "El 20% del número total de imágenes para la clase 0 es: 20\n",
            "Número total de imágenes en la carpeta de entrenamiento para la clase 1: 26\n",
            "El 20% del número total de imágenes para la clase 1 es: 20\n"
          ]
        }
      ]
    },
    {
      "cell_type": "code",
      "source": [
        "width = 240\n",
        "height = 240\n",
        "\n",
        "ruta_train = '/content/drive/MyDrive/Documentos personales/9-Documentos Doctorado/Doctorado 2023/7-Clases/SRGVUA/evacal/orden_tercer_intento/R_singular/train/'\n",
        "\n",
        "train_x = []\n",
        "train_y = []\n",
        "\n",
        "labels = os.listdir(ruta_train)\n",
        "\n",
        "for i in os.listdir(ruta_train):\n",
        "    for j in os.listdir(ruta_train + i):\n",
        "        img = cv2.imread(ruta_train+i+'/'+j)\n",
        "        resized_image = cv2.resize(img, (width,height))\n",
        "\n",
        "        train_x.append(resized_image)\n",
        "\n",
        "        for x,y in enumerate(labels):\n",
        "            if y == i:\n",
        "                array = np.zeros(len(labels))\n",
        "                array[x]=1\n",
        "                train_y.append(array)\n",
        "\n",
        "x_data = np.array(train_x)\n",
        "y_data = np.array(train_y)\n",
        "\n",
        "model = tf.keras.Sequential([\n",
        "    layers.Conv2D(32, 3,3, input_shape=(width, height, 3)),\n",
        "    layers.Activation('relu'),\n",
        "    layers.MaxPooling2D(pool_size=(2,2)),\n",
        "    layers.Conv2D(32, 3,3),\n",
        "    layers.Activation('relu'),\n",
        "    layers.MaxPooling2D(pool_size=(2,2)),\n",
        "    layers.Conv2D(64, 3,3),\n",
        "    layers.Activation('relu'),\n",
        "    layers.MaxPooling2D(pool_size=(2,2)),\n",
        "    layers.Flatten(),\n",
        "    layers.Dense(64),\n",
        "    layers.Activation('relu'),\n",
        "    layers.Dropout(0.5),\n",
        "    layers.Dense(2),\n",
        "    layers.Activation('sigmoid')\n",
        "])\n",
        "\n",
        "model.compile(loss='binary_crossentropy', optimizer='adam', metrics=['accuracy'])\n",
        "\n",
        "epochs = 80\n",
        "\n",
        "model.fit(x_data, y_data, epochs = epochs, verbose=0)\n",
        "\n",
        "models.save_model(model, '/content/drive/MyDrive/Documentos personales/9-Documentos Doctorado/Doctorado 2023/7-Clases/SRGVUA/evacal/orden_tercer_intento/R_singular/mimodelo.keras')\n",
        "\n",
        "#####AQUI CALCULO EL ACCURACY CON LOS DATOS DE TESTEO\n",
        "\n",
        "# Ruta de los datos de prueba\n",
        "ruta_test = '/content/drive/MyDrive/Documentos personales/9-Documentos Doctorado/Doctorado 2023/7-Clases/SRGVUA/evacal/orden_tercer_intento/R_singular/test/'\n",
        "\n",
        "test_x = []\n",
        "test_y = []\n",
        "\n",
        "# Obtener la lista de etiquetas\n",
        "labels = os.listdir(ruta_test)\n",
        "\n",
        "# Iterar sobre las carpetas de las etiquetas\n",
        "for i in os.listdir(ruta_test):\n",
        "    # Iterar sobre las imágenes dentro de cada carpeta\n",
        "    for j in os.listdir(ruta_test + i):\n",
        "        # Leer la imagen y redimensionarla\n",
        "        img = cv2.imread(ruta_test+i+'/'+j)\n",
        "        resized_image = cv2.resize(img, (width,height))\n",
        "\n",
        "        test_x.append(resized_image)\n",
        "\n",
        "        # Crear la etiqueta correspondiente\n",
        "        for x,y in enumerate(labels):\n",
        "            if y == i:\n",
        "                array = np.zeros(len(labels))\n",
        "                array[x]=1\n",
        "                test_y.append(array)\n",
        "\n",
        "# Convertir los datos a arrays numpy\n",
        "x_test = np.array(test_x)\n",
        "y_test = np.array(test_y)\n",
        "\n",
        "# Cargar el modelo entrenado\n",
        "model = models.load_model('/content/drive/MyDrive/Documentos personales/9-Documentos Doctorado/Doctorado 2023/7-Clases/SRGVUA/evacal/orden_tercer_intento/R_singular/mimodelo.keras')\n",
        "\n",
        "# Evaluar el modelo con los datos de prueba\n",
        "loss, accuracy = model.evaluate(x_test, y_test)\n",
        "print(\"Accuracy en los datos de prueba:\", accuracy)"
      ],
      "metadata": {
        "colab": {
          "base_uri": "https://localhost:8080/"
        },
        "id": "CFpeYxfbtJSY",
        "outputId": "7a382375-e07e-49cf-b4af-c4408e4e52e3"
      },
      "execution_count": 83,
      "outputs": [
        {
          "output_type": "stream",
          "name": "stdout",
          "text": [
            "1/1 [==============================] - 0s 291ms/step - loss: 1.7829 - accuracy: 0.8148\n",
            "Accuracy en los datos de prueba: 0.8148148059844971\n"
          ]
        }
      ]
    },
    {
      "cell_type": "markdown",
      "source": [
        "# 10. `R_ventana`"
      ],
      "metadata": {
        "id": "MoNDCsUYuti9"
      }
    },
    {
      "cell_type": "code",
      "source": [
        "# Ruta de la carpeta de entrenamiento y prueba para la clase 0\n",
        "train_folder_0 = \"/content/drive/MyDrive/Documentos personales/9-Documentos Doctorado/Doctorado 2023/7-Clases/SRGVUA/evacal/orden_tercer_intento/R_ventana/train/0\"\n",
        "test_folder_0 = \"/content/drive/MyDrive/Documentos personales/9-Documentos Doctorado/Doctorado 2023/7-Clases/SRGVUA/evacal/orden_tercer_intento/R_ventana/test/0\"\n",
        "\n",
        "# Ruta de la carpeta de entrenamiento y prueba para la clase 1\n",
        "train_folder_1 = \"/content/drive/MyDrive/Documentos personales/9-Documentos Doctorado/Doctorado 2023/7-Clases/SRGVUA/evacal/orden_tercer_intento/R_ventana/train/1\"\n",
        "test_folder_1 = \"/content/drive/MyDrive/Documentos personales/9-Documentos Doctorado/Doctorado 2023/7-Clases/SRGVUA/evacal/orden_tercer_intento/R_ventana/test/1\"\n",
        "\n",
        "# Función para mover imágenes aleatorias a la carpeta de prueba\n",
        "def move_random_images(source_folder, destination_folder, percentage):\n",
        "    # Obtener la lista de archivos en la carpeta de origen\n",
        "    files = os.listdir(source_folder)\n",
        "    # Calcular el número de imágenes que representan el porcentaje dado\n",
        "    num_images_to_move = int(len(files) * percentage / 100)\n",
        "    # Elegir imágenes al azar\n",
        "    images_to_move = random.sample(files, num_images_to_move)\n",
        "    # Mover las imágenes seleccionadas a la carpeta de destino\n",
        "    for image in images_to_move:\n",
        "        shutil.move(os.path.join(source_folder, image), destination_folder)\n",
        "\n",
        "### Contar el número total de imágenes en la carpeta de entrenamiento para la clase 0\n",
        "num_images_train_0 = len(os.listdir(train_folder_0))\n",
        "print(\"Número total de imágenes en la carpeta de entrenamiento para la clase 0:\", num_images_train_0)\n",
        "\n",
        "# Calcular el 10% de esa cantidad\n",
        "percentage_20_train_0 = 20\n",
        "print(\"El 20% del número total de imágenes para la clase 0 es:\", percentage_20_train_0)\n",
        "\n",
        "# Mover imágenes aleatorias a la carpeta de prueba para la clase 0\n",
        "move_random_images(train_folder_0, test_folder_0, percentage_20_train_0)\n",
        "\n",
        "### Repetir el proceso para la clase 1\n",
        "num_images_train_1 = len(os.listdir(train_folder_1))\n",
        "print(\"Número total de imágenes en la carpeta de entrenamiento para la clase 1:\", num_images_train_1)\n",
        "\n",
        "# Calcular el 10% de esa cantidad\n",
        "percentage_20_train_1 = 20\n",
        "print(\"El 20% del número total de imágenes para la clase 1 es:\", percentage_20_train_1)\n",
        "\n",
        "# Mover imágenes aleatorias a la carpeta de prueba para la clase 1\n",
        "move_random_images(train_folder_1, test_folder_1, percentage_20_train_1)"
      ],
      "metadata": {
        "colab": {
          "base_uri": "https://localhost:8080/"
        },
        "id": "nxuPjo3iuvuM",
        "outputId": "a22e8ba3-f96e-4483-e820-d080d7e87c15"
      },
      "execution_count": 84,
      "outputs": [
        {
          "output_type": "stream",
          "name": "stdout",
          "text": [
            "Número total de imágenes en la carpeta de entrenamiento para la clase 0: 80\n",
            "El 20% del número total de imágenes para la clase 0 es: 20\n",
            "Número total de imágenes en la carpeta de entrenamiento para la clase 1: 56\n",
            "El 20% del número total de imágenes para la clase 1 es: 20\n"
          ]
        }
      ]
    },
    {
      "cell_type": "code",
      "source": [
        "width = 240\n",
        "height = 240\n",
        "\n",
        "ruta_train = '/content/drive/MyDrive/Documentos personales/9-Documentos Doctorado/Doctorado 2023/7-Clases/SRGVUA/evacal/orden_tercer_intento/R_ventana/train/'\n",
        "\n",
        "train_x = []\n",
        "train_y = []\n",
        "\n",
        "labels = os.listdir(ruta_train)\n",
        "\n",
        "for i in os.listdir(ruta_train):\n",
        "    for j in os.listdir(ruta_train + i):\n",
        "        img = cv2.imread(ruta_train+i+'/'+j)\n",
        "        resized_image = cv2.resize(img, (width,height))\n",
        "\n",
        "        train_x.append(resized_image)\n",
        "\n",
        "        for x,y in enumerate(labels):\n",
        "            if y == i:\n",
        "                array = np.zeros(len(labels))\n",
        "                array[x]=1\n",
        "                train_y.append(array)\n",
        "\n",
        "x_data = np.array(train_x)\n",
        "y_data = np.array(train_y)\n",
        "\n",
        "model = tf.keras.Sequential([\n",
        "    layers.Conv2D(32, 3,3, input_shape=(width, height, 3)),\n",
        "    layers.Activation('relu'),\n",
        "    layers.MaxPooling2D(pool_size=(2,2)),\n",
        "    layers.Conv2D(32, 3,3),\n",
        "    layers.Activation('relu'),\n",
        "    layers.MaxPooling2D(pool_size=(2,2)),\n",
        "    layers.Conv2D(64, 3,3),\n",
        "    layers.Activation('relu'),\n",
        "    layers.MaxPooling2D(pool_size=(2,2)),\n",
        "    layers.Flatten(),\n",
        "    layers.Dense(64),\n",
        "    layers.Activation('relu'),\n",
        "    layers.Dropout(0.5),\n",
        "    layers.Dense(2),\n",
        "    layers.Activation('sigmoid')\n",
        "])\n",
        "\n",
        "model.compile(loss='binary_crossentropy', optimizer='adam', metrics=['accuracy'])\n",
        "\n",
        "epochs = 80\n",
        "\n",
        "model.fit(x_data, y_data, epochs = epochs, verbose=0)\n",
        "\n",
        "models.save_model(model, '/content/drive/MyDrive/Documentos personales/9-Documentos Doctorado/Doctorado 2023/7-Clases/SRGVUA/evacal/orden_tercer_intento/R_ventana/mimodelo.keras')\n",
        "\n",
        "#####AQUI CALCULO EL ACCURACY CON LOS DATOS DE TESTEO\n",
        "\n",
        "# Ruta de los datos de prueba\n",
        "ruta_test = '/content/drive/MyDrive/Documentos personales/9-Documentos Doctorado/Doctorado 2023/7-Clases/SRGVUA/evacal/orden_tercer_intento/R_ventana/test/'\n",
        "\n",
        "test_x = []\n",
        "test_y = []\n",
        "\n",
        "# Obtener la lista de etiquetas\n",
        "labels = os.listdir(ruta_test)\n",
        "\n",
        "# Iterar sobre las carpetas de las etiquetas\n",
        "for i in os.listdir(ruta_test):\n",
        "    # Iterar sobre las imágenes dentro de cada carpeta\n",
        "    for j in os.listdir(ruta_test + i):\n",
        "        # Leer la imagen y redimensionarla\n",
        "        img = cv2.imread(ruta_test+i+'/'+j)\n",
        "        resized_image = cv2.resize(img, (width,height))\n",
        "\n",
        "        test_x.append(resized_image)\n",
        "\n",
        "        # Crear la etiqueta correspondiente\n",
        "        for x,y in enumerate(labels):\n",
        "            if y == i:\n",
        "                array = np.zeros(len(labels))\n",
        "                array[x]=1\n",
        "                test_y.append(array)\n",
        "\n",
        "# Convertir los datos a arrays numpy\n",
        "x_test = np.array(test_x)\n",
        "y_test = np.array(test_y)\n",
        "\n",
        "# Cargar el modelo entrenado\n",
        "model = models.load_model('/content/drive/MyDrive/Documentos personales/9-Documentos Doctorado/Doctorado 2023/7-Clases/SRGVUA/evacal/orden_tercer_intento/R_ventana/mimodelo.keras')\n",
        "\n",
        "# Evaluar el modelo con los datos de prueba\n",
        "loss, accuracy = model.evaluate(x_test, y_test)\n",
        "print(\"Accuracy en los datos de prueba:\", accuracy)"
      ],
      "metadata": {
        "colab": {
          "base_uri": "https://localhost:8080/"
        },
        "id": "C7f0ygFju0u1",
        "outputId": "cd7bc0f2-5c7c-45f6-8f45-a414b5eafef7"
      },
      "execution_count": 85,
      "outputs": [
        {
          "output_type": "stream",
          "name": "stdout",
          "text": [
            "1/1 [==============================] - 0s 432ms/step - loss: 1.5806 - accuracy: 0.6296\n",
            "Accuracy en los datos de prueba: 0.6296296119689941\n"
          ]
        }
      ]
    },
    {
      "cell_type": "markdown",
      "source": [
        "# 11. `R_carpinteria`"
      ],
      "metadata": {
        "id": "YDZIfd1SvcNN"
      }
    },
    {
      "cell_type": "code",
      "source": [
        "# Ruta de la carpeta de entrenamiento y prueba para la clase 0\n",
        "train_folder_0 = \"/content/drive/MyDrive/Documentos personales/9-Documentos Doctorado/Doctorado 2023/7-Clases/SRGVUA/evacal/orden_tercer_intento/R_carpinteria/train/0\"\n",
        "test_folder_0 = \"/content/drive/MyDrive/Documentos personales/9-Documentos Doctorado/Doctorado 2023/7-Clases/SRGVUA/evacal/orden_tercer_intento/R_carpinteria/test/0\"\n",
        "\n",
        "# Ruta de la carpeta de entrenamiento y prueba para la clase 1\n",
        "train_folder_1 = \"/content/drive/MyDrive/Documentos personales/9-Documentos Doctorado/Doctorado 2023/7-Clases/SRGVUA/evacal/orden_tercer_intento/R_carpinteria/train/1\"\n",
        "test_folder_1 = \"/content/drive/MyDrive/Documentos personales/9-Documentos Doctorado/Doctorado 2023/7-Clases/SRGVUA/evacal/orden_tercer_intento/R_carpinteria/test/1\"\n",
        "\n",
        "# Función para mover imágenes aleatorias a la carpeta de prueba\n",
        "def move_random_images(source_folder, destination_folder, percentage):\n",
        "    # Obtener la lista de archivos en la carpeta de origen\n",
        "    files = os.listdir(source_folder)\n",
        "    # Calcular el número de imágenes que representan el porcentaje dado\n",
        "    num_images_to_move = int(len(files) * percentage / 100)\n",
        "    # Elegir imágenes al azar\n",
        "    images_to_move = random.sample(files, num_images_to_move)\n",
        "    # Mover las imágenes seleccionadas a la carpeta de destino\n",
        "    for image in images_to_move:\n",
        "        shutil.move(os.path.join(source_folder, image), destination_folder)\n",
        "\n",
        "### Contar el número total de imágenes en la carpeta de entrenamiento para la clase 0\n",
        "num_images_train_0 = len(os.listdir(train_folder_0))\n",
        "print(\"Número total de imágenes en la carpeta de entrenamiento para la clase 0:\", num_images_train_0)\n",
        "\n",
        "# Calcular el 10% de esa cantidad\n",
        "percentage_20_train_0 = 20\n",
        "print(\"El 20% del número total de imágenes para la clase 0 es:\", percentage_20_train_0)\n",
        "\n",
        "# Mover imágenes aleatorias a la carpeta de prueba para la clase 0\n",
        "move_random_images(train_folder_0, test_folder_0, percentage_20_train_0)\n",
        "\n",
        "### Repetir el proceso para la clase 1\n",
        "num_images_train_1 = len(os.listdir(train_folder_1))\n",
        "print(\"Número total de imágenes en la carpeta de entrenamiento para la clase 1:\", num_images_train_1)\n",
        "\n",
        "# Calcular el 10% de esa cantidad\n",
        "percentage_20_train_1 = 20\n",
        "print(\"El 20% del número total de imágenes para la clase 1 es:\", percentage_20_train_1)\n",
        "\n",
        "# Mover imágenes aleatorias a la carpeta de prueba para la clase 1\n",
        "move_random_images(train_folder_1, test_folder_1, percentage_20_train_1)"
      ],
      "metadata": {
        "colab": {
          "base_uri": "https://localhost:8080/"
        },
        "id": "lr88wmcVvfXq",
        "outputId": "a0d37749-9b6b-4198-d6d7-bb958fd84e93"
      },
      "execution_count": 86,
      "outputs": [
        {
          "output_type": "stream",
          "name": "stdout",
          "text": [
            "Número total de imágenes en la carpeta de entrenamiento para la clase 0: 25\n",
            "El 20% del número total de imágenes para la clase 0 es: 20\n",
            "Número total de imágenes en la carpeta de entrenamiento para la clase 1: 114\n",
            "El 20% del número total de imágenes para la clase 1 es: 20\n"
          ]
        }
      ]
    },
    {
      "cell_type": "code",
      "source": [
        "width = 240\n",
        "height = 240\n",
        "\n",
        "ruta_train = '/content/drive/MyDrive/Documentos personales/9-Documentos Doctorado/Doctorado 2023/7-Clases/SRGVUA/evacal/orden_tercer_intento/R_carpinteria/train/'\n",
        "\n",
        "train_x = []\n",
        "train_y = []\n",
        "\n",
        "labels = os.listdir(ruta_train)\n",
        "\n",
        "for i in os.listdir(ruta_train):\n",
        "    for j in os.listdir(ruta_train + i):\n",
        "        img = cv2.imread(ruta_train+i+'/'+j)\n",
        "        resized_image = cv2.resize(img, (width,height))\n",
        "\n",
        "        train_x.append(resized_image)\n",
        "\n",
        "        for x,y in enumerate(labels):\n",
        "            if y == i:\n",
        "                array = np.zeros(len(labels))\n",
        "                array[x]=1\n",
        "                train_y.append(array)\n",
        "\n",
        "x_data = np.array(train_x)\n",
        "y_data = np.array(train_y)\n",
        "\n",
        "model = tf.keras.Sequential([\n",
        "    layers.Conv2D(32, 3,3, input_shape=(width, height, 3)),\n",
        "    layers.Activation('relu'),\n",
        "    layers.MaxPooling2D(pool_size=(2,2)),\n",
        "    layers.Conv2D(32, 3,3),\n",
        "    layers.Activation('relu'),\n",
        "    layers.MaxPooling2D(pool_size=(2,2)),\n",
        "    layers.Conv2D(64, 3,3),\n",
        "    layers.Activation('relu'),\n",
        "    layers.MaxPooling2D(pool_size=(2,2)),\n",
        "    layers.Flatten(),\n",
        "    layers.Dense(64),\n",
        "    layers.Activation('relu'),\n",
        "    layers.Dropout(0.5),\n",
        "    layers.Dense(2),\n",
        "    layers.Activation('sigmoid')\n",
        "])\n",
        "\n",
        "model.compile(loss='binary_crossentropy', optimizer='adam', metrics=['accuracy'])\n",
        "\n",
        "epochs = 80\n",
        "\n",
        "model.fit(x_data, y_data, epochs = epochs, verbose=0)\n",
        "\n",
        "models.save_model(model, '/content/drive/MyDrive/Documentos personales/9-Documentos Doctorado/Doctorado 2023/7-Clases/SRGVUA/evacal/orden_tercer_intento/R_carpinteria/mimodelo.keras')\n",
        "\n",
        "#####AQUI CALCULO EL ACCURACY CON LOS DATOS DE TESTEO\n",
        "\n",
        "# Ruta de los datos de prueba\n",
        "ruta_test = '/content/drive/MyDrive/Documentos personales/9-Documentos Doctorado/Doctorado 2023/7-Clases/SRGVUA/evacal/orden_tercer_intento/R_carpinteria/test/'\n",
        "\n",
        "test_x = []\n",
        "test_y = []\n",
        "\n",
        "# Obtener la lista de etiquetas\n",
        "labels = os.listdir(ruta_test)\n",
        "\n",
        "# Iterar sobre las carpetas de las etiquetas\n",
        "for i in os.listdir(ruta_test):\n",
        "    # Iterar sobre las imágenes dentro de cada carpeta\n",
        "    for j in os.listdir(ruta_test + i):\n",
        "        # Leer la imagen y redimensionarla\n",
        "        img = cv2.imread(ruta_test+i+'/'+j)\n",
        "        resized_image = cv2.resize(img, (width,height))\n",
        "\n",
        "        test_x.append(resized_image)\n",
        "\n",
        "        # Crear la etiqueta correspondiente\n",
        "        for x,y in enumerate(labels):\n",
        "            if y == i:\n",
        "                array = np.zeros(len(labels))\n",
        "                array[x]=1\n",
        "                test_y.append(array)\n",
        "\n",
        "# Convertir los datos a arrays numpy\n",
        "x_test = np.array(test_x)\n",
        "y_test = np.array(test_y)\n",
        "\n",
        "# Cargar el modelo entrenado\n",
        "model = models.load_model('/content/drive/MyDrive/Documentos personales/9-Documentos Doctorado/Doctorado 2023/7-Clases/SRGVUA/evacal/orden_tercer_intento/R_carpinteria/mimodelo.keras')\n",
        "\n",
        "# Evaluar el modelo con los datos de prueba\n",
        "loss, accuracy = model.evaluate(x_test, y_test)\n",
        "print(\"Accuracy en los datos de prueba:\", accuracy)"
      ],
      "metadata": {
        "colab": {
          "base_uri": "https://localhost:8080/"
        },
        "id": "-b6RLr7bvnPG",
        "outputId": "71291cde-e768-4c32-81ba-fa574b2f5bfe"
      },
      "execution_count": 87,
      "outputs": [
        {
          "output_type": "stream",
          "name": "stdout",
          "text": [
            "1/1 [==============================] - 0s 285ms/step - loss: 1.4781 - accuracy: 0.7407\n",
            "Accuracy en los datos de prueba: 0.7407407164573669\n"
          ]
        }
      ]
    }
  ]
}