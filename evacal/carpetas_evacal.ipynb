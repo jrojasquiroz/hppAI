{
  "nbformat": 4,
  "nbformat_minor": 0,
  "metadata": {
    "colab": {
      "provenance": []
    },
    "kernelspec": {
      "name": "python3",
      "display_name": "Python 3"
    },
    "language_info": {
      "name": "python"
    }
  },
  "cells": [
    {
      "cell_type": "code",
      "execution_count": 1,
      "metadata": {
        "colab": {
          "base_uri": "https://localhost:8080/"
        },
        "id": "a1ga8WNdqqj7",
        "outputId": "e1a97ee1-7b4f-451f-97bf-3e44d5bea938"
      },
      "outputs": [
        {
          "output_type": "stream",
          "name": "stdout",
          "text": [
            "Mounted at /content/drive\n"
          ]
        }
      ],
      "source": [
        "from google.colab import drive\n",
        "drive.mount('/content/drive')"
      ]
    },
    {
      "cell_type": "code",
      "source": [
        "import os\n",
        "import pandas as pd\n",
        "import shutil"
      ],
      "metadata": {
        "id": "i718uNJNtrqx"
      },
      "execution_count": 2,
      "outputs": []
    },
    {
      "cell_type": "markdown",
      "source": [
        "Con el siguiente código creo carpetas tal y como lo he pensado: una por cada columna, y dentro de ellas `train`, `test` y `validation`, tal como en [el ejemplo](https://www.youtube.com/watch?v=KZwuhl4hXok&t=83s) que revisado.\n",
        "\n",
        "En este caso, las creo dentro de `orden_segundo_intento`."
      ],
      "metadata": {
        "id": "yVZ3B2xE4ulv"
      }
    },
    {
      "cell_type": "code",
      "source": [
        "# Ruta base\n",
        "ruta_base = \"/content/drive/MyDrive/Documentos personales/9-Documentos Doctorado/Doctorado 2023/7-Clases/SRGVUA/evacal/orden_segundo_intento\"\n",
        "\n",
        "# Lista de carpetas y subcarpetas\n",
        "carpetas = {\n",
        "    \"C_contempo\": [\"train\", \"test\", \"validation\"],\n",
        "    \"C_estado\": [\"train\", \"test\", \"validation\"],\n",
        "    \"C_armarios\": [\"train\", \"test\", \"validation\"],\n",
        "    \"B_contempo\": [\"train\", \"test\", \"validation\"],\n",
        "    \"B_estado\": [\"train\", \"test\", \"validation\"],\n",
        "    \"B_lavamano\": [\"train\", \"test\", \"validation\"],\n",
        "    \"R_contempo\": [\"train\", \"test\", \"validation\"],\n",
        "    \"R_estado\": [\"train\", \"test\", \"validation\"],\n",
        "    \"R_carpinteria\": [\"train\", \"test\", \"validation\"],\n",
        "    \"R_singular\": [\"train\", \"test\", \"validation\"],\n",
        "    \"R_ventana\": [\"train\", \"test\", \"validation\"]\n",
        "}\n",
        "\n",
        "# Crear las carpetas y subcarpetas\n",
        "for carpeta, subcarpetas in carpetas.items():\n",
        "    carpeta_path = os.path.join(ruta_base, carpeta)\n",
        "    os.makedirs(carpeta_path, exist_ok=True)\n",
        "    for subcarpeta in subcarpetas:\n",
        "        subcarpeta_path = os.path.join(carpeta_path, subcarpeta)\n",
        "        os.makedirs(subcarpeta_path, exist_ok=True)\n",
        "        # Crear subcarpetas adicionales dentro de train, test y validation\n",
        "        if carpeta == \"C_estado\" or carpeta == \"B_estado\" or carpeta == \"R_estado\":\n",
        "            for i in range(3):\n",
        "                subcarpeta_adicional_path = os.path.join(subcarpeta_path, str(i))\n",
        "                os.makedirs(subcarpeta_adicional_path, exist_ok=True)\n",
        "        else:\n",
        "            subcarpeta_adicional_path = os.path.join(subcarpeta_path, \"0\")\n",
        "            os.makedirs(subcarpeta_adicional_path, exist_ok=True)\n",
        "            subcarpeta_adicional_path = os.path.join(subcarpeta_path, \"1\")\n",
        "            os.makedirs(subcarpeta_adicional_path, exist_ok=True)"
      ],
      "metadata": {
        "id": "cv0HBecW4X7X"
      },
      "execution_count": null,
      "outputs": []
    },
    {
      "cell_type": "markdown",
      "source": [
        "A continuación, dado que en `segundo_intento` es en donde están almacenadas las imágenes tal y como los chicos las descargarán, reviso esa carpeta y correspondientes sub-carpetas para trasladarlas hacia `orden_segundo_intento`.\n",
        "\n",
        "He preferido hacerlo con Google Colab porque al hacerlo directamente con Jupyter Notebook recibía el mensaje de que no tenía permiso de administrador del sistema (esto en la PC del CPSV, no lo probé en la laptop)."
      ],
      "metadata": {
        "id": "VLMyd9Pe5JVG"
      }
    },
    {
      "cell_type": "code",
      "source": [
        "# Ruta del archivo Excel\n",
        "excel_path = \"/content/drive/MyDrive/Documentos personales/9-Documentos Doctorado/Doctorado 2023/7-Clases/SRGVUA/evacal/segundo_intento/bdd_evacal.xlsx\"\n",
        "\n",
        "# Ruta base para las imágenes\n",
        "imagenes_base = \"/content/drive/MyDrive/Documentos personales/9-Documentos Doctorado/Doctorado 2023/7-Clases/SRGVUA/evacal/segundo_intento\"\n",
        "\n",
        "# Ruta base para las imágenes modificadas\n",
        "imagenes_mod = \"/content/drive/MyDrive/Documentos personales/9-Documentos Doctorado/Doctorado 2023/7-Clases/SRGVUA/evacal/orden_segundo_intento\"\n",
        "\n",
        "# Leer el archivo Excel\n",
        "df = pd.read_excel(excel_path)\n",
        "\n",
        "# Iterar sobre cada fila del DataFrame\n",
        "for index, row in df.iterrows():\n",
        "    caso_id = str(row['ID'])  # Obtener el ID del caso\n",
        "\n",
        "    # Iterar sobre las letras (B, C, R)\n",
        "    for letra in ['B', 'C', 'R']:\n",
        "        carpeta_caso = os.path.join(imagenes_base, caso_id, letra)\n",
        "\n",
        "        # Iterar sobre las columnas relevantes\n",
        "        for columna in ['C_contempo', 'C_estado', 'C_armarios', 'B_contempo', 'B_estado', 'B_lavamano',\n",
        "                        'R_contempo', 'R_estado', 'R_carpinteria', 'R_singular', 'R_ventana']:\n",
        "            valor = row[columna]\n",
        "            # Determinar la ruta de destino según la calificación\n",
        "            ruta_destino = os.path.join(imagenes_mod, columna, 'train', str(valor))\n",
        "\n",
        "            # Copiar la imagen a la carpeta de destino\n",
        "            for item in os.listdir(carpeta_caso):\n",
        "                # Obtener la ruta completa del elemento\n",
        "                item_path = os.path.join(carpeta_caso, item)\n",
        "                # Verificar si el elemento es un archivo y si tiene la extensión .png\n",
        "                if os.path.isfile(item_path) and item.endswith('.png'):\n",
        "                    # Obtener la letra de la carpeta de origen\n",
        "                    letra_origen = carpeta_caso.split('/')[-1]\n",
        "                    # Verificar si la letra de la carpeta de origen coincide con la letra de la columna\n",
        "                    if letra_origen == columna.split('_')[0]:\n",
        "                        # Copiar el archivo a la carpeta de destino\n",
        "                        shutil.copy(item_path, ruta_destino)\n"
      ],
      "metadata": {
        "id": "JKaWuLf33J2K"
      },
      "execution_count": 14,
      "outputs": []
    }
  ]
}