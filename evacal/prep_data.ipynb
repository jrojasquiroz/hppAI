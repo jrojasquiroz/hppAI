{
  "cells": [
    {
      "cell_type": "markdown",
      "metadata": {
        "id": "view-in-github",
        "colab_type": "text"
      },
      "source": [
        "<a href=\"https://colab.research.google.com/github/jrojasquiroz/hppAI/blob/main/evacal/prep_data.ipynb\" target=\"_parent\"><img src=\"https://colab.research.google.com/assets/colab-badge.svg\" alt=\"Open In Colab\"/></a>"
      ]
    },
    {
      "cell_type": "code",
      "source": [
        "from google.colab import drive\n",
        "drive.mount('/content/drive/')"
      ],
      "metadata": {
        "colab": {
          "base_uri": "https://localhost:8080/"
        },
        "id": "_rUz2f6bmdji",
        "outputId": "0be37a56-ca2c-4432-8634-9f41a4f28528"
      },
      "id": "_rUz2f6bmdji",
      "execution_count": 1,
      "outputs": [
        {
          "output_type": "stream",
          "name": "stdout",
          "text": [
            "Mounted at /content/drive/\n"
          ]
        }
      ]
    },
    {
      "cell_type": "code",
      "execution_count": 2,
      "id": "a2ce36be-9bec-4022-8e28-82faf7338b7f",
      "metadata": {
        "tags": [],
        "id": "a2ce36be-9bec-4022-8e28-82faf7338b7f"
      },
      "outputs": [],
      "source": [
        "import pandas as pd\n",
        "import numpy as np"
      ]
    },
    {
      "cell_type": "markdown",
      "id": "1350c622-9a35-4850-81d4-ba48c6334e28",
      "metadata": {
        "id": "1350c622-9a35-4850-81d4-ba48c6334e28"
      },
      "source": [
        "# Lista de participantes"
      ]
    },
    {
      "cell_type": "code",
      "execution_count": 3,
      "id": "bf330163-2565-4a85-b5cf-bac9b3d739de",
      "metadata": {
        "tags": [],
        "id": "bf330163-2565-4a85-b5cf-bac9b3d739de"
      },
      "outputs": [],
      "source": [
        "nombres = [\n",
        "    \"AD\",\n",
        "    \"JCRQ\",\n",
        "    \"GSG\",\n",
        "    \"INHD\",\n",
        "    \"LLVS\",\n",
        "    \"PCLB\",\n",
        "    \"RMMA\",\n",
        "    \"RAT\",\n",
        "    \"RAK\",\n",
        "    \"TS\",\n",
        "    \"VUJD\"\n",
        "]"
      ]
    },
    {
      "cell_type": "markdown",
      "id": "535c6cb0-1084-4342-9c21-18721b38faaf",
      "metadata": {
        "id": "535c6cb0-1084-4342-9c21-18721b38faaf"
      },
      "source": [
        "# Distribución"
      ]
    },
    {
      "cell_type": "code",
      "execution_count": 6,
      "id": "e3e37c7d-be30-490f-bda1-fdeab118e6d6",
      "metadata": {
        "tags": [],
        "colab": {
          "base_uri": "https://localhost:8080/"
        },
        "id": "e3e37c7d-be30-490f-bda1-fdeab118e6d6",
        "outputId": "affd0739-3f35-4643-cbc2-d21b3d18d6a6"
      },
      "outputs": [
        {
          "output_type": "execute_result",
          "data": {
            "text/plain": [
              "3355"
            ]
          },
          "metadata": {},
          "execution_count": 6
        }
      ],
      "source": [
        "df=pd.read_excel('/content/drive/MyDrive/Documentos personales/9-Documentos Doctorado/Doctorado 2023/7-Clases/SRGVUA/evacal/cuarto_intento/rawdata/v-muestra_rmb-abril24.xlsx', sheet_name='Sheet1')\n",
        "len(df)"
      ]
    },
    {
      "cell_type": "code",
      "execution_count": 7,
      "id": "f14fb862-835c-4197-9065-1da43e17f839",
      "metadata": {
        "tags": [],
        "colab": {
          "base_uri": "https://localhost:8080/",
          "height": 228
        },
        "id": "f14fb862-835c-4197-9065-1da43e17f839",
        "outputId": "530332ce-7654-4cf3-bb9c-5e23277fb7b0"
      },
      "outputs": [
        {
          "output_type": "execute_result",
          "data": {
            "text/plain": [
              "      ID                                              Title  \\\n",
              "0  10631  Piso  en  Abrera. Estudic zona tranquila y cen...   \n",
              "1  10440  Piso  en  De la estación 20. Piso en venta en ...   \n",
              "\n",
              "                                                Link  precio_euros  \\\n",
              "0  https://www.habitaclia.com/comprar-piso-estudi...        131000   \n",
              "1  https://www.habitaclia.com/comprar-piso-en_ven...        171500   \n",
              "\n",
              "           codigo_inmueble                                        Description  \\\n",
              "0  Anuncio: 38298000000306  PISO ESTUDIO DE UNA HABITACION,  MUY SOLEDADO,...   \n",
              "1  Anuncio: 36906000006906  Piso totalmente exterior en Abrera: la viviend...   \n",
              "\n",
              "     last_mod  dummy_indice  indice_alquiler  area  ...  atico  duplex  \\\n",
              "0  19/02/2024             0                0    43  ...      0       0   \n",
              "1  22/03/2024             0                0    85  ...      0       0   \n",
              "\n",
              "   estudio  loft  piso  triplex  invalido  qprecio     MUN  qprecio_municipio  \n",
              "0        0     0     1        0         0        0  Abrera                0.0  \n",
              "1        0     0     1        0         0        1  Abrera                1.0  \n",
              "\n",
              "[2 rows x 58 columns]"
            ],
            "text/html": [
              "\n",
              "  <div id=\"df-ae409d73-43c9-4360-b7b2-f62bb4d835c5\" class=\"colab-df-container\">\n",
              "    <div>\n",
              "<style scoped>\n",
              "    .dataframe tbody tr th:only-of-type {\n",
              "        vertical-align: middle;\n",
              "    }\n",
              "\n",
              "    .dataframe tbody tr th {\n",
              "        vertical-align: top;\n",
              "    }\n",
              "\n",
              "    .dataframe thead th {\n",
              "        text-align: right;\n",
              "    }\n",
              "</style>\n",
              "<table border=\"1\" class=\"dataframe\">\n",
              "  <thead>\n",
              "    <tr style=\"text-align: right;\">\n",
              "      <th></th>\n",
              "      <th>ID</th>\n",
              "      <th>Title</th>\n",
              "      <th>Link</th>\n",
              "      <th>precio_euros</th>\n",
              "      <th>codigo_inmueble</th>\n",
              "      <th>Description</th>\n",
              "      <th>last_mod</th>\n",
              "      <th>dummy_indice</th>\n",
              "      <th>indice_alquiler</th>\n",
              "      <th>area</th>\n",
              "      <th>...</th>\n",
              "      <th>atico</th>\n",
              "      <th>duplex</th>\n",
              "      <th>estudio</th>\n",
              "      <th>loft</th>\n",
              "      <th>piso</th>\n",
              "      <th>triplex</th>\n",
              "      <th>invalido</th>\n",
              "      <th>qprecio</th>\n",
              "      <th>MUN</th>\n",
              "      <th>qprecio_municipio</th>\n",
              "    </tr>\n",
              "  </thead>\n",
              "  <tbody>\n",
              "    <tr>\n",
              "      <th>0</th>\n",
              "      <td>10631</td>\n",
              "      <td>Piso  en  Abrera. Estudic zona tranquila y cen...</td>\n",
              "      <td>https://www.habitaclia.com/comprar-piso-estudi...</td>\n",
              "      <td>131000</td>\n",
              "      <td>Anuncio: 38298000000306</td>\n",
              "      <td>PISO ESTUDIO DE UNA HABITACION,  MUY SOLEDADO,...</td>\n",
              "      <td>19/02/2024</td>\n",
              "      <td>0</td>\n",
              "      <td>0</td>\n",
              "      <td>43</td>\n",
              "      <td>...</td>\n",
              "      <td>0</td>\n",
              "      <td>0</td>\n",
              "      <td>0</td>\n",
              "      <td>0</td>\n",
              "      <td>1</td>\n",
              "      <td>0</td>\n",
              "      <td>0</td>\n",
              "      <td>0</td>\n",
              "      <td>Abrera</td>\n",
              "      <td>0.0</td>\n",
              "    </tr>\n",
              "    <tr>\n",
              "      <th>1</th>\n",
              "      <td>10440</td>\n",
              "      <td>Piso  en  De la estación 20. Piso en venta en ...</td>\n",
              "      <td>https://www.habitaclia.com/comprar-piso-en_ven...</td>\n",
              "      <td>171500</td>\n",
              "      <td>Anuncio: 36906000006906</td>\n",
              "      <td>Piso totalmente exterior en Abrera: la viviend...</td>\n",
              "      <td>22/03/2024</td>\n",
              "      <td>0</td>\n",
              "      <td>0</td>\n",
              "      <td>85</td>\n",
              "      <td>...</td>\n",
              "      <td>0</td>\n",
              "      <td>0</td>\n",
              "      <td>0</td>\n",
              "      <td>0</td>\n",
              "      <td>1</td>\n",
              "      <td>0</td>\n",
              "      <td>0</td>\n",
              "      <td>1</td>\n",
              "      <td>Abrera</td>\n",
              "      <td>1.0</td>\n",
              "    </tr>\n",
              "  </tbody>\n",
              "</table>\n",
              "<p>2 rows × 58 columns</p>\n",
              "</div>\n",
              "    <div class=\"colab-df-buttons\">\n",
              "\n",
              "  <div class=\"colab-df-container\">\n",
              "    <button class=\"colab-df-convert\" onclick=\"convertToInteractive('df-ae409d73-43c9-4360-b7b2-f62bb4d835c5')\"\n",
              "            title=\"Convert this dataframe to an interactive table.\"\n",
              "            style=\"display:none;\">\n",
              "\n",
              "  <svg xmlns=\"http://www.w3.org/2000/svg\" height=\"24px\" viewBox=\"0 -960 960 960\">\n",
              "    <path d=\"M120-120v-720h720v720H120Zm60-500h600v-160H180v160Zm220 220h160v-160H400v160Zm0 220h160v-160H400v160ZM180-400h160v-160H180v160Zm440 0h160v-160H620v160ZM180-180h160v-160H180v160Zm440 0h160v-160H620v160Z\"/>\n",
              "  </svg>\n",
              "    </button>\n",
              "\n",
              "  <style>\n",
              "    .colab-df-container {\n",
              "      display:flex;\n",
              "      gap: 12px;\n",
              "    }\n",
              "\n",
              "    .colab-df-convert {\n",
              "      background-color: #E8F0FE;\n",
              "      border: none;\n",
              "      border-radius: 50%;\n",
              "      cursor: pointer;\n",
              "      display: none;\n",
              "      fill: #1967D2;\n",
              "      height: 32px;\n",
              "      padding: 0 0 0 0;\n",
              "      width: 32px;\n",
              "    }\n",
              "\n",
              "    .colab-df-convert:hover {\n",
              "      background-color: #E2EBFA;\n",
              "      box-shadow: 0px 1px 2px rgba(60, 64, 67, 0.3), 0px 1px 3px 1px rgba(60, 64, 67, 0.15);\n",
              "      fill: #174EA6;\n",
              "    }\n",
              "\n",
              "    .colab-df-buttons div {\n",
              "      margin-bottom: 4px;\n",
              "    }\n",
              "\n",
              "    [theme=dark] .colab-df-convert {\n",
              "      background-color: #3B4455;\n",
              "      fill: #D2E3FC;\n",
              "    }\n",
              "\n",
              "    [theme=dark] .colab-df-convert:hover {\n",
              "      background-color: #434B5C;\n",
              "      box-shadow: 0px 1px 3px 1px rgba(0, 0, 0, 0.15);\n",
              "      filter: drop-shadow(0px 1px 2px rgba(0, 0, 0, 0.3));\n",
              "      fill: #FFFFFF;\n",
              "    }\n",
              "  </style>\n",
              "\n",
              "    <script>\n",
              "      const buttonEl =\n",
              "        document.querySelector('#df-ae409d73-43c9-4360-b7b2-f62bb4d835c5 button.colab-df-convert');\n",
              "      buttonEl.style.display =\n",
              "        google.colab.kernel.accessAllowed ? 'block' : 'none';\n",
              "\n",
              "      async function convertToInteractive(key) {\n",
              "        const element = document.querySelector('#df-ae409d73-43c9-4360-b7b2-f62bb4d835c5');\n",
              "        const dataTable =\n",
              "          await google.colab.kernel.invokeFunction('convertToInteractive',\n",
              "                                                    [key], {});\n",
              "        if (!dataTable) return;\n",
              "\n",
              "        const docLinkHtml = 'Like what you see? Visit the ' +\n",
              "          '<a target=\"_blank\" href=https://colab.research.google.com/notebooks/data_table.ipynb>data table notebook</a>'\n",
              "          + ' to learn more about interactive tables.';\n",
              "        element.innerHTML = '';\n",
              "        dataTable['output_type'] = 'display_data';\n",
              "        await google.colab.output.renderOutput(dataTable, element);\n",
              "        const docLink = document.createElement('div');\n",
              "        docLink.innerHTML = docLinkHtml;\n",
              "        element.appendChild(docLink);\n",
              "      }\n",
              "    </script>\n",
              "  </div>\n",
              "\n",
              "\n",
              "<div id=\"df-50457929-b4c4-4cd2-9d68-08930da8d105\">\n",
              "  <button class=\"colab-df-quickchart\" onclick=\"quickchart('df-50457929-b4c4-4cd2-9d68-08930da8d105')\"\n",
              "            title=\"Suggest charts\"\n",
              "            style=\"display:none;\">\n",
              "\n",
              "<svg xmlns=\"http://www.w3.org/2000/svg\" height=\"24px\"viewBox=\"0 0 24 24\"\n",
              "     width=\"24px\">\n",
              "    <g>\n",
              "        <path d=\"M19 3H5c-1.1 0-2 .9-2 2v14c0 1.1.9 2 2 2h14c1.1 0 2-.9 2-2V5c0-1.1-.9-2-2-2zM9 17H7v-7h2v7zm4 0h-2V7h2v10zm4 0h-2v-4h2v4z\"/>\n",
              "    </g>\n",
              "</svg>\n",
              "  </button>\n",
              "\n",
              "<style>\n",
              "  .colab-df-quickchart {\n",
              "      --bg-color: #E8F0FE;\n",
              "      --fill-color: #1967D2;\n",
              "      --hover-bg-color: #E2EBFA;\n",
              "      --hover-fill-color: #174EA6;\n",
              "      --disabled-fill-color: #AAA;\n",
              "      --disabled-bg-color: #DDD;\n",
              "  }\n",
              "\n",
              "  [theme=dark] .colab-df-quickchart {\n",
              "      --bg-color: #3B4455;\n",
              "      --fill-color: #D2E3FC;\n",
              "      --hover-bg-color: #434B5C;\n",
              "      --hover-fill-color: #FFFFFF;\n",
              "      --disabled-bg-color: #3B4455;\n",
              "      --disabled-fill-color: #666;\n",
              "  }\n",
              "\n",
              "  .colab-df-quickchart {\n",
              "    background-color: var(--bg-color);\n",
              "    border: none;\n",
              "    border-radius: 50%;\n",
              "    cursor: pointer;\n",
              "    display: none;\n",
              "    fill: var(--fill-color);\n",
              "    height: 32px;\n",
              "    padding: 0;\n",
              "    width: 32px;\n",
              "  }\n",
              "\n",
              "  .colab-df-quickchart:hover {\n",
              "    background-color: var(--hover-bg-color);\n",
              "    box-shadow: 0 1px 2px rgba(60, 64, 67, 0.3), 0 1px 3px 1px rgba(60, 64, 67, 0.15);\n",
              "    fill: var(--button-hover-fill-color);\n",
              "  }\n",
              "\n",
              "  .colab-df-quickchart-complete:disabled,\n",
              "  .colab-df-quickchart-complete:disabled:hover {\n",
              "    background-color: var(--disabled-bg-color);\n",
              "    fill: var(--disabled-fill-color);\n",
              "    box-shadow: none;\n",
              "  }\n",
              "\n",
              "  .colab-df-spinner {\n",
              "    border: 2px solid var(--fill-color);\n",
              "    border-color: transparent;\n",
              "    border-bottom-color: var(--fill-color);\n",
              "    animation:\n",
              "      spin 1s steps(1) infinite;\n",
              "  }\n",
              "\n",
              "  @keyframes spin {\n",
              "    0% {\n",
              "      border-color: transparent;\n",
              "      border-bottom-color: var(--fill-color);\n",
              "      border-left-color: var(--fill-color);\n",
              "    }\n",
              "    20% {\n",
              "      border-color: transparent;\n",
              "      border-left-color: var(--fill-color);\n",
              "      border-top-color: var(--fill-color);\n",
              "    }\n",
              "    30% {\n",
              "      border-color: transparent;\n",
              "      border-left-color: var(--fill-color);\n",
              "      border-top-color: var(--fill-color);\n",
              "      border-right-color: var(--fill-color);\n",
              "    }\n",
              "    40% {\n",
              "      border-color: transparent;\n",
              "      border-right-color: var(--fill-color);\n",
              "      border-top-color: var(--fill-color);\n",
              "    }\n",
              "    60% {\n",
              "      border-color: transparent;\n",
              "      border-right-color: var(--fill-color);\n",
              "    }\n",
              "    80% {\n",
              "      border-color: transparent;\n",
              "      border-right-color: var(--fill-color);\n",
              "      border-bottom-color: var(--fill-color);\n",
              "    }\n",
              "    90% {\n",
              "      border-color: transparent;\n",
              "      border-bottom-color: var(--fill-color);\n",
              "    }\n",
              "  }\n",
              "</style>\n",
              "\n",
              "  <script>\n",
              "    async function quickchart(key) {\n",
              "      const quickchartButtonEl =\n",
              "        document.querySelector('#' + key + ' button');\n",
              "      quickchartButtonEl.disabled = true;  // To prevent multiple clicks.\n",
              "      quickchartButtonEl.classList.add('colab-df-spinner');\n",
              "      try {\n",
              "        const charts = await google.colab.kernel.invokeFunction(\n",
              "            'suggestCharts', [key], {});\n",
              "      } catch (error) {\n",
              "        console.error('Error during call to suggestCharts:', error);\n",
              "      }\n",
              "      quickchartButtonEl.classList.remove('colab-df-spinner');\n",
              "      quickchartButtonEl.classList.add('colab-df-quickchart-complete');\n",
              "    }\n",
              "    (() => {\n",
              "      let quickchartButtonEl =\n",
              "        document.querySelector('#df-50457929-b4c4-4cd2-9d68-08930da8d105 button');\n",
              "      quickchartButtonEl.style.display =\n",
              "        google.colab.kernel.accessAllowed ? 'block' : 'none';\n",
              "    })();\n",
              "  </script>\n",
              "</div>\n",
              "    </div>\n",
              "  </div>\n"
            ],
            "application/vnd.google.colaboratory.intrinsic+json": {
              "type": "dataframe",
              "variable_name": "df"
            }
          },
          "metadata": {},
          "execution_count": 7
        }
      ],
      "source": [
        "df.head(2)"
      ]
    },
    {
      "cell_type": "code",
      "execution_count": 8,
      "id": "9a830fae-ff10-4280-be55-2c89c1a3d0fd",
      "metadata": {
        "tags": [],
        "id": "9a830fae-ff10-4280-be55-2c89c1a3d0fd"
      },
      "outputs": [],
      "source": [
        "df['C_contempo']=None\n",
        "df['C_estado']=None\n",
        "df['C_armarios']=None\n",
        "\n",
        "df['B_contempo']=None\n",
        "df['B_estado']=None\n",
        "df['B_lavamano']=None\n",
        "\n",
        "df['R_contempo']=None\n",
        "df['R_estado']=None\n",
        "df['R_carpinteria']=None\n",
        "df['R_singular']=None\n",
        "df['R_ventana']=None\n",
        "\n",
        "df['dumi_precio_reduccion']=None\n",
        "df['Precio_reduccion']=None\n",
        "df['Anuncio_invalido']=None"
      ]
    },
    {
      "cell_type": "code",
      "execution_count": 9,
      "id": "ccbaa06e-3075-423c-8cd7-fb396d62b82c",
      "metadata": {
        "tags": [],
        "colab": {
          "base_uri": "https://localhost:8080/"
        },
        "id": "ccbaa06e-3075-423c-8cd7-fb396d62b82c",
        "outputId": "1facd1c5-ab8d-43b6-94a6-9e6a32dd0b75"
      },
      "outputs": [
        {
          "output_type": "stream",
          "name": "stdout",
          "text": [
            "['ID', 'Title', 'Link', 'precio_euros', 'codigo_inmueble', 'Description', 'last_mod', 'dummy_indice', 'indice_alquiler', 'area', 'n_rooms', 'price_m2', 'n_baths', 'n_aseo', 'laundry', 'buhardilla', 'despacho', 'trastero', 'terrace', 'kwhm2_year', 'kgCO2m2_year', 'dummy_consum_EPC', 'dummy_emission_EPC', 'consum_A', 'consum_B', 'consum_C', 'consum_D', 'consum_E', 'consum_F', 'consum_G', 'emission_A', 'emission_B', 'emission_C', 'emission_D', 'emission_E', 'emission_F', 'emission_G', 'AC', 'parking', 'pool', 'lift', 'furniture', 'public_transp', 'barrio', 'codigo_inmueble_numero', 'Lat_Y', 'Lon_X', 'multifam', 'atico', 'duplex', 'estudio', 'loft', 'piso', 'triplex', 'invalido', 'qprecio', 'MUN', 'qprecio_municipio', 'C_contempo', 'C_estado', 'C_armarios', 'B_contempo', 'B_estado', 'B_lavamano', 'R_contempo', 'R_estado', 'R_carpinteria', 'R_singular', 'R_ventana', 'dumi_precio_reduccion', 'Precio_reduccion', 'Anuncio_invalido']\n"
          ]
        }
      ],
      "source": [
        "print(df.columns.tolist())"
      ]
    },
    {
      "cell_type": "code",
      "execution_count": 10,
      "id": "97e764a2-cb4f-4d7d-ae5a-513d31b7061e",
      "metadata": {
        "tags": [],
        "id": "97e764a2-cb4f-4d7d-ae5a-513d31b7061e"
      },
      "outputs": [],
      "source": [
        "# Ordenar la lista de nombres según la columna 'ID'\n",
        "nombres_ordenados = sorted(nombres)\n",
        "\n",
        "# Calcular el tamaño de cada parte\n",
        "part_size = len(df) // len(nombres_ordenados)\n",
        "remainder = len(df) % len(nombres_ordenados)\n",
        "\n",
        "# Dividir df en partes\n",
        "partes_df = np.split(df.sample(frac=1).sort_values(by='ID'), np.cumsum([part_size] * (len(nombres_ordenados) - 1) + [part_size + remainder]))\n",
        "\n",
        "# Asignar los nombres a cada parte\n",
        "for i, parte in enumerate(partes_df):\n",
        "    if i < len(nombres_ordenados):\n",
        "        parte['Responsable'] = nombres_ordenados[i]\n",
        "    else:\n",
        "        parte['Responsable'] = nombres_ordenados[-1]  # Asignar el último nombre en caso de que haya más partes que nombres\n",
        "\n",
        "# Concatenar las partes nuevamente en un solo DataFrame\n",
        "df = pd.concat(partes_df)"
      ]
    },
    {
      "cell_type": "code",
      "source": [
        "df['ID'] = (df.reset_index().index)+1"
      ],
      "metadata": {
        "id": "QZ6U76KHtbVY"
      },
      "id": "QZ6U76KHtbVY",
      "execution_count": 11,
      "outputs": []
    },
    {
      "cell_type": "code",
      "execution_count": 12,
      "id": "9b678715-517d-46d6-931c-2f2b9fd11ee1",
      "metadata": {
        "tags": [],
        "id": "9b678715-517d-46d6-931c-2f2b9fd11ee1"
      },
      "outputs": [],
      "source": [
        "df.to_excel('/content/drive/MyDrive/Documentos personales/9-Documentos Doctorado/Doctorado 2023/7-Clases/SRGVUA/evacal/cuarto_intento/data/v-muestra_rmb-abril24-responsables.xlsx', index=False)"
      ]
    }
  ],
  "metadata": {
    "kernelspec": {
      "display_name": "Python 3 (ipykernel)",
      "language": "python",
      "name": "python3"
    },
    "language_info": {
      "codemirror_mode": {
        "name": "ipython",
        "version": 3
      },
      "file_extension": ".py",
      "mimetype": "text/x-python",
      "name": "python",
      "nbconvert_exporter": "python",
      "pygments_lexer": "ipython3",
      "version": "3.11.5"
    },
    "colab": {
      "provenance": [],
      "include_colab_link": true
    }
  },
  "nbformat": 4,
  "nbformat_minor": 5
}