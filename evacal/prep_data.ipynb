{
 "cells": [
  {
   "cell_type": "markdown",
   "id": "658476be-6f54-4fff-bfc4-4733d8ed07ef",
   "metadata": {},
   "source": [
    "En este cuaderno, sobre la base de datos de Habitaclia obtenida en 2024, obtendremos dos nuevas bases de datos para entrenar un modelo que nos acerque a medir la calidad a través del texto. \n",
    "\n",
    "1. Sólo texto - calidad del 1 al 10. \n",
    "2. Texto + enlace a fotos - calidad del 1 al 10."
   ]
  },
  {
   "cell_type": "code",
   "execution_count": 10,
   "id": "a2ce36be-9bec-4022-8e28-82faf7338b7f",
   "metadata": {
    "tags": []
   },
   "outputs": [],
   "source": [
    "import pandas as pd\n",
    "import numpy as np"
   ]
  },
  {
   "cell_type": "markdown",
   "id": "1350c622-9a35-4850-81d4-ba48c6334e28",
   "metadata": {},
   "source": [
    "# Lista de participantes"
   ]
  },
  {
   "cell_type": "code",
   "execution_count": 11,
   "id": "bf330163-2565-4a85-b5cf-bac9b3d739de",
   "metadata": {
    "tags": []
   },
   "outputs": [],
   "source": [
    "nombres = [\n",
    "    \"Alsharif, Dareen\",\n",
    "    \"José Carlos\",\n",
    "    \"Gonzalo\",\n",
    "    \"Izumi Noda, Henry Daisuke\",\n",
    "    \"Lopez Lopez, Víctor Stheffano\",\n",
    "    \"Peralta Carvallo, Loreto Beatriz\",\n",
    "    \"Román Mantilla, María Alejandra\",\n",
    "    \"Ruiz Amezquita, Tatiana\",\n",
    "    \"Ruiz Acha, Kathia\",\n",
    "    \"Tian, Shiduo (Leo)\",\n",
    "    \"Vásquez Umaña, José Daniel\"\n",
    "]"
   ]
  },
  {
   "cell_type": "markdown",
   "id": "535c6cb0-1084-4342-9c21-18721b38faaf",
   "metadata": {},
   "source": [
    "# Texto"
   ]
  },
  {
   "cell_type": "code",
   "execution_count": 12,
   "id": "e3e37c7d-be30-490f-bda1-fdeab118e6d6",
   "metadata": {
    "tags": []
   },
   "outputs": [
    {
     "data": {
      "text/plain": [
       "3020"
      ]
     },
     "execution_count": 12,
     "metadata": {},
     "output_type": "execute_result"
    }
   ],
   "source": [
    "df1=pd.read_excel('data/a-amb+mad-marzo24.xlsx')\n",
    "len(df1)"
   ]
  },
  {
   "cell_type": "code",
   "execution_count": 13,
   "id": "f14fb862-835c-4197-9065-1da43e17f839",
   "metadata": {
    "tags": []
   },
   "outputs": [
    {
     "data": {
      "text/html": [
       "<div>\n",
       "<style scoped>\n",
       "    .dataframe tbody tr th:only-of-type {\n",
       "        vertical-align: middle;\n",
       "    }\n",
       "\n",
       "    .dataframe tbody tr th {\n",
       "        vertical-align: top;\n",
       "    }\n",
       "\n",
       "    .dataframe thead th {\n",
       "        text-align: right;\n",
       "    }\n",
       "</style>\n",
       "<table border=\"1\" class=\"dataframe\">\n",
       "  <thead>\n",
       "    <tr style=\"text-align: right;\">\n",
       "      <th></th>\n",
       "      <th>ID</th>\n",
       "      <th>Title</th>\n",
       "      <th>Link</th>\n",
       "      <th>precio_euros</th>\n",
       "      <th>codigo_inmueble</th>\n",
       "      <th>Description</th>\n",
       "      <th>last_mod</th>\n",
       "      <th>dummy_indice</th>\n",
       "      <th>indice_alquiler</th>\n",
       "      <th>area</th>\n",
       "      <th>...</th>\n",
       "      <th>Lon_X</th>\n",
       "      <th>multifam</th>\n",
       "      <th>atico</th>\n",
       "      <th>duplex</th>\n",
       "      <th>estudio</th>\n",
       "      <th>loft</th>\n",
       "      <th>piso</th>\n",
       "      <th>triplex</th>\n",
       "      <th>AMB</th>\n",
       "      <th>MAD</th>\n",
       "    </tr>\n",
       "  </thead>\n",
       "  <tbody>\n",
       "    <tr>\n",
       "      <th>0</th>\n",
       "      <td>1</td>\n",
       "      <td>Alquiler Piso  en  Carrer del consell de cent 451</td>\n",
       "      <td>https://www.habitaclia.com/alquiler-piso-calle...</td>\n",
       "      <td>1250</td>\n",
       "      <td>Anuncio: 49444000000010</td>\n",
       "      <td>OPORTUNIDAD EN EIXAMPLE DRETA!PISO ESPECIALMEN...</td>\n",
       "      <td>27/02/2024</td>\n",
       "      <td>0</td>\n",
       "      <td>0.0</td>\n",
       "      <td>85</td>\n",
       "      <td>...</td>\n",
       "      <td>2.174846</td>\n",
       "      <td>1</td>\n",
       "      <td>0</td>\n",
       "      <td>0</td>\n",
       "      <td>0</td>\n",
       "      <td>0</td>\n",
       "      <td>1</td>\n",
       "      <td>0</td>\n",
       "      <td>1</td>\n",
       "      <td>0</td>\n",
       "    </tr>\n",
       "    <tr>\n",
       "      <th>1</th>\n",
       "      <td>2</td>\n",
       "      <td>Alquiler Piso  en  Avinguda de cerdanyola 47. ...</td>\n",
       "      <td>https://www.habitaclia.com/alquiler-piso-moder...</td>\n",
       "      <td>1250</td>\n",
       "      <td>Anuncio: 1903004403789</td>\n",
       "      <td>Bonito y moderno piso de alquiler de dos habit...</td>\n",
       "      <td>06/03/2024</td>\n",
       "      <td>0</td>\n",
       "      <td>0.0</td>\n",
       "      <td>68</td>\n",
       "      <td>...</td>\n",
       "      <td>2.090375</td>\n",
       "      <td>1</td>\n",
       "      <td>0</td>\n",
       "      <td>0</td>\n",
       "      <td>0</td>\n",
       "      <td>0</td>\n",
       "      <td>1</td>\n",
       "      <td>0</td>\n",
       "      <td>1</td>\n",
       "      <td>0</td>\n",
       "    </tr>\n",
       "  </tbody>\n",
       "</table>\n",
       "<p>2 rows × 56 columns</p>\n",
       "</div>"
      ],
      "text/plain": [
       "   ID                                              Title  \\\n",
       "0   1  Alquiler Piso  en  Carrer del consell de cent 451   \n",
       "1   2  Alquiler Piso  en  Avinguda de cerdanyola 47. ...   \n",
       "\n",
       "                                                Link  precio_euros  \\\n",
       "0  https://www.habitaclia.com/alquiler-piso-calle...          1250   \n",
       "1  https://www.habitaclia.com/alquiler-piso-moder...          1250   \n",
       "\n",
       "           codigo_inmueble                                        Description  \\\n",
       "0  Anuncio: 49444000000010  OPORTUNIDAD EN EIXAMPLE DRETA!PISO ESPECIALMEN...   \n",
       "1   Anuncio: 1903004403789  Bonito y moderno piso de alquiler de dos habit...   \n",
       "\n",
       "     last_mod  dummy_indice  indice_alquiler  area  ...     Lon_X  multifam  \\\n",
       "0  27/02/2024             0              0.0    85  ...  2.174846         1   \n",
       "1  06/03/2024             0              0.0    68  ...  2.090375         1   \n",
       "\n",
       "   atico  duplex  estudio  loft  piso  triplex  AMB  MAD  \n",
       "0      0       0        0     0     1        0    1    0  \n",
       "1      0       0        0     0     1        0    1    0  \n",
       "\n",
       "[2 rows x 56 columns]"
      ]
     },
     "execution_count": 13,
     "metadata": {},
     "output_type": "execute_result"
    }
   ],
   "source": [
    "df1.head(2)"
   ]
  },
  {
   "cell_type": "code",
   "execution_count": 14,
   "id": "9a830fae-ff10-4280-be55-2c89c1a3d0fd",
   "metadata": {
    "tags": []
   },
   "outputs": [],
   "source": [
    "df1['C_contempo']=None\n",
    "df1['C_estado']=None\n",
    "df1['C_armarios']=None\n",
    "\n",
    "df1['B_contempo']=None\n",
    "df1['B_estado']=None\n",
    "df1['B_lavamano']=None\n",
    "\n",
    "df1['R_contempo']=None\n",
    "df1['R_estado']=None\n",
    "df1['R_carpinteria']=None\n",
    "df1['R_singular']=None\n",
    "df1['R_ventana']=None\n",
    "\n",
    "df1['dumi_precio_reduccion']=None\n",
    "df1['Precio_reduccion']=None\n",
    "df1['Anuncio_invalido']=None"
   ]
  },
  {
   "cell_type": "code",
   "execution_count": 15,
   "id": "ccbaa06e-3075-423c-8cd7-fb396d62b82c",
   "metadata": {
    "tags": []
   },
   "outputs": [
    {
     "name": "stdout",
     "output_type": "stream",
     "text": [
      "['ID', 'Title', 'Link', 'precio_euros', 'codigo_inmueble', 'Description', 'last_mod', 'dummy_indice', 'indice_alquiler', 'area', 'n_rooms', 'price_m2', 'n_baths', 'n_aseo', 'laundry', 'buhardilla', 'despacho', 'trastero', 'terrace', 'kwhm2_year', 'kgCO2m2_year', 'dummy_consum_EPC', 'dummy_emission_EPC', 'consum_A', 'consum_B', 'consum_C', 'consum_D', 'consum_E', 'consum_F', 'consum_G', 'emission_A', 'emission_B', 'emission_C', 'emission_D', 'emission_E', 'emission_F', 'emission_G', 'AC', 'parking', 'pool', 'lift', 'furniture', 'public_transp', 'barrio', 'codigo_inmueble_numero', 'Lat_Y', 'Lon_X', 'multifam', 'atico', 'duplex', 'estudio', 'loft', 'piso', 'triplex', 'AMB', 'MAD', 'C_contempo', 'C_estado', 'C_armarios', 'B_contempo', 'B_estado', 'B_lavamano', 'R_contempo', 'R_estado', 'R_carpinteria', 'R_singular', 'R_ventana', 'dumi_precio_reduccion', 'Precio_reduccion', 'Anuncio_invalido']\n"
     ]
    }
   ],
   "source": [
    "print(df1.columns.tolist())"
   ]
  },
  {
   "cell_type": "code",
   "execution_count": 16,
   "id": "df5a1b1f-cae1-44b5-8843-73e611a449fc",
   "metadata": {
    "tags": []
   },
   "outputs": [],
   "source": [
    "df2=df1[['ID', 'Title', 'Link',\n",
    "         'C_contempo', 'C_estado', 'C_armarios', 'B_contempo', 'B_estado', 'B_lavamano', 'R_contempo', \n",
    "         'R_estado', 'R_carpinteria', 'R_singular', 'R_ventana', 'dumi_precio_reduccion', \n",
    "         'Precio_reduccion', 'Anuncio_invalido']]"
   ]
  },
  {
   "cell_type": "code",
   "execution_count": 17,
   "id": "18161218-ddfd-4d1b-b5af-114e5395965c",
   "metadata": {
    "tags": []
   },
   "outputs": [
    {
     "name": "stderr",
     "output_type": "stream",
     "text": [
      "C:\\Users\\Usuari\\AppData\\Local\\Temp\\ipykernel_8908\\1556412764.py:1: SettingWithCopyWarning: \n",
      "A value is trying to be set on a copy of a slice from a DataFrame.\n",
      "Try using .loc[row_indexer,col_indexer] = value instead\n",
      "\n",
      "See the caveats in the documentation: https://pandas.pydata.org/pandas-docs/stable/user_guide/indexing.html#returning-a-view-versus-a-copy\n",
      "  df2['fquem'] = None\n",
      "C:\\Users\\Usuari\\AppData\\Local\\Temp\\ipykernel_8908\\1556412764.py:2: SettingWithCopyWarning: \n",
      "A value is trying to be set on a copy of a slice from a DataFrame.\n",
      "Try using .loc[row_indexer,col_indexer] = value instead\n",
      "\n",
      "See the caveats in the documentation: https://pandas.pydata.org/pandas-docs/stable/user_guide/indexing.html#returning-a-view-versus-a-copy\n",
      "  df2['luzart'] = None\n",
      "C:\\Users\\Usuari\\AppData\\Local\\Temp\\ipykernel_8908\\1556412764.py:3: SettingWithCopyWarning: \n",
      "A value is trying to be set on a copy of a slice from a DataFrame.\n",
      "Try using .loc[row_indexer,col_indexer] = value instead\n",
      "\n",
      "See the caveats in the documentation: https://pandas.pydata.org/pandas-docs/stable/user_guide/indexing.html#returning-a-view-versus-a-copy\n",
      "  df2['mdeag'] = None\n"
     ]
    }
   ],
   "source": [
    "df2['fquem'] = None\n",
    "df2['luzart'] = None\n",
    "df2['mdeag'] = None"
   ]
  },
  {
   "cell_type": "code",
   "execution_count": 19,
   "id": "97e764a2-cb4f-4d7d-ae5a-513d31b7061e",
   "metadata": {
    "tags": []
   },
   "outputs": [],
   "source": [
    "# Ordenar la lista de nombres según la columna 'IDtext'\n",
    "nombres_ordenados = sorted(nombres)\n",
    "\n",
    "# Calcular el tamaño de cada parte\n",
    "part_size = len(df2) // len(nombres_ordenados)\n",
    "remainder = len(df2) % len(nombres_ordenados)\n",
    "\n",
    "# Dividir df1 en partes\n",
    "partes_df = np.split(df1.sample(frac=1).sort_values(by='ID'), np.cumsum([part_size] * (len(nombres_ordenados) - 1) + [part_size + remainder]))\n",
    "\n",
    "# Asignar los nombres a cada parte\n",
    "for i, parte in enumerate(partes_df):\n",
    "    if i < len(nombres_ordenados):\n",
    "        parte['Responsable texto'] = nombres_ordenados[i]\n",
    "    else:\n",
    "        parte['Responsable texto'] = nombres_ordenados[-1]  # Asignar el último nombre en caso de que haya más partes que nombres\n",
    "\n",
    "# Concatenar las partes nuevamente en un solo DataFrame\n",
    "df2 = pd.concat(partes_df)"
   ]
  },
  {
   "cell_type": "code",
   "execution_count": 21,
   "id": "57abf831-5600-4bc6-9687-bde5f15f928f",
   "metadata": {
    "tags": []
   },
   "outputs": [],
   "source": [
    "df2['qprecio'] = pd.qcut(df2['precio_euros'], 5, labels=False)"
   ]
  },
  {
   "cell_type": "code",
   "execution_count": 22,
   "id": "9b678715-517d-46d6-931c-2f2b9fd11ee1",
   "metadata": {
    "tags": []
   },
   "outputs": [],
   "source": [
    "df2.to_excel('data/eva_tex-amb+mad-marzo24.xlsx', index=False)"
   ]
  },
  {
   "cell_type": "markdown",
   "id": "e03f5655-6b84-4da8-982e-2b5ea24e20be",
   "metadata": {},
   "source": [
    "Para no sesgar la calificación, vamos a darles diferentes muestras entre la evaluación del texto y de las imágenes. Para ello creamos dos IDs: `IDtext` y `IDimg`. Aquí creo el primero, que es exactamente igual al ID original del dataframe."
   ]
  },
  {
   "cell_type": "code",
   "execution_count": 7,
   "id": "af8d3f87-a889-4c8e-9441-d084361c3dd0",
   "metadata": {
    "tags": []
   },
   "outputs": [],
   "source": [
    "df1['IDtext']=df1['ID']"
   ]
  },
  {
   "cell_type": "markdown",
   "id": "6594f26f-c757-470b-b71b-55c37a05b626",
   "metadata": {},
   "source": [
    "Y ahora asigno responsables."
   ]
  },
  {
   "cell_type": "markdown",
   "id": "dc6835c3-c7ee-4434-a69a-dab127a3c629",
   "metadata": {},
   "source": [
    "La tabla se vería así."
   ]
  },
  {
   "cell_type": "code",
   "execution_count": 9,
   "id": "cf9c869e-c0c1-4e95-b050-c62a3075502c",
   "metadata": {
    "tags": []
   },
   "outputs": [
    {
     "data": {
      "text/html": [
       "<div>\n",
       "<style scoped>\n",
       "    .dataframe tbody tr th:only-of-type {\n",
       "        vertical-align: middle;\n",
       "    }\n",
       "\n",
       "    .dataframe tbody tr th {\n",
       "        vertical-align: top;\n",
       "    }\n",
       "\n",
       "    .dataframe thead th {\n",
       "        text-align: right;\n",
       "    }\n",
       "</style>\n",
       "<table border=\"1\" class=\"dataframe\">\n",
       "  <thead>\n",
       "    <tr style=\"text-align: right;\">\n",
       "      <th></th>\n",
       "      <th>IDtext</th>\n",
       "      <th>Description</th>\n",
       "      <th>cal_texto</th>\n",
       "      <th>Responsable texto</th>\n",
       "    </tr>\n",
       "  </thead>\n",
       "  <tbody>\n",
       "    <tr>\n",
       "      <th>0</th>\n",
       "      <td>1</td>\n",
       "      <td>OPORTUNIDAD EN EIXAMPLE DRETA!PISO ESPECIALMEN...</td>\n",
       "      <td>None</td>\n",
       "      <td>Alsharif, Dareen</td>\n",
       "    </tr>\n",
       "    <tr>\n",
       "      <th>1</th>\n",
       "      <td>2</td>\n",
       "      <td>Bonito y moderno piso de alquiler de dos habit...</td>\n",
       "      <td>None</td>\n",
       "      <td>Alsharif, Dareen</td>\n",
       "    </tr>\n",
       "    <tr>\n",
       "      <th>2</th>\n",
       "      <td>3</td>\n",
       "      <td>Piso de 100m², compuesto de 4 dormitorios (2 d...</td>\n",
       "      <td>None</td>\n",
       "      <td>Alsharif, Dareen</td>\n",
       "    </tr>\n",
       "  </tbody>\n",
       "</table>\n",
       "</div>"
      ],
      "text/plain": [
       "   IDtext                                        Description cal_texto  \\\n",
       "0       1  OPORTUNIDAD EN EIXAMPLE DRETA!PISO ESPECIALMEN...      None   \n",
       "1       2  Bonito y moderno piso de alquiler de dos habit...      None   \n",
       "2       3  Piso de 100m², compuesto de 4 dormitorios (2 d...      None   \n",
       "\n",
       "  Responsable texto  \n",
       "0  Alsharif, Dareen  \n",
       "1  Alsharif, Dareen  \n",
       "2  Alsharif, Dareen  "
      ]
     },
     "execution_count": 9,
     "metadata": {},
     "output_type": "execute_result"
    }
   ],
   "source": [
    "df1[['IDtext','Description','cal_texto','Responsable texto']].head(3)"
   ]
  },
  {
   "cell_type": "markdown",
   "id": "c969ca88-8908-426a-b0c0-0bb3ba79af14",
   "metadata": {},
   "source": [
    "Por defecto ya está ordenado de menor a mayor según el `IDtext`."
   ]
  },
  {
   "cell_type": "code",
   "execution_count": 10,
   "id": "de6a1b12-eb72-47c0-a778-800fd8e229f5",
   "metadata": {
    "tags": []
   },
   "outputs": [],
   "source": [
    "df1[['IDtext','Description','cal_texto','Responsable texto']].to_excel('data/eva_tex-amb+mad-marzo24.xlsx', index=False)"
   ]
  },
  {
   "cell_type": "markdown",
   "id": "12f5256f-35fc-4288-9f54-d2099a397bef",
   "metadata": {},
   "source": [
    "Tras la revisión de la columna `Description` deberán indicar un valor del 1 al 10 en la columna `cal_texto` sobre la siguiente pregunta: *¿De qué tan buena calidad arquitectónica crees que es el piso en oferta?*. \n",
    "\n",
    "Si consideran que la descripción **no** ofrece suficiente información para dar un veredicto sobre la calidad del inmueble, indicar el valor 0."
   ]
  },
  {
   "cell_type": "markdown",
   "id": "e847abe0-1f6f-4c05-9278-dcbc25171f50",
   "metadata": {},
   "source": [
    "# Imagen"
   ]
  },
  {
   "cell_type": "code",
   "execution_count": 11,
   "id": "d378aa6f-3a93-4f0d-ab97-353793309621",
   "metadata": {
    "tags": []
   },
   "outputs": [],
   "source": [
    "df1['dum_ext']=None\n",
    "df1['dum_render']=None\n",
    "#df1['dum_no_varios']=None\n",
    "df1['dum_no_link']=None\n",
    "df1['cal_img']=None"
   ]
  },
  {
   "cell_type": "markdown",
   "id": "250f64ea-35cb-4d12-a2e0-cf7cb3626030",
   "metadata": {},
   "source": [
    "La columna `IDimg`, será el resultado de multiplicar por 2 los valores pares de `IDtext`, y por 3 los valores impares."
   ]
  },
  {
   "cell_type": "code",
   "execution_count": 12,
   "id": "d28f3492-68be-4c43-99a9-a7e28ab1c6fd",
   "metadata": {
    "tags": []
   },
   "outputs": [],
   "source": [
    "df1['IDimg'] = df1['IDtext'].apply(lambda x: x * 2 if x % 2 == 0 else x * 3)"
   ]
  },
  {
   "cell_type": "markdown",
   "id": "f011913b-9e0b-41b1-8f47-a5c27558be30",
   "metadata": {
    "tags": []
   },
   "source": [
    "Ordeno de menor a mayor con base en esa nueva columna para exportar."
   ]
  },
  {
   "cell_type": "code",
   "execution_count": 13,
   "id": "10c86e15-94d1-4329-a5d7-983ebc390248",
   "metadata": {
    "tags": []
   },
   "outputs": [],
   "source": [
    "df1 = df1.sort_values(by='IDimg')"
   ]
  },
  {
   "cell_type": "markdown",
   "id": "f1db68ab-8ee8-4338-98bd-a308dfeda128",
   "metadata": {},
   "source": [
    "Y ahora asigno responsables."
   ]
  },
  {
   "cell_type": "code",
   "execution_count": 14,
   "id": "23d161c8-20ed-4496-bd43-2463d461ae48",
   "metadata": {
    "tags": []
   },
   "outputs": [],
   "source": [
    "# Ordenar la lista de nombres según la columna 'IDtext'\n",
    "nombres_ordenados = sorted(nombres)\n",
    "\n",
    "# Calcular el tamaño de cada parte\n",
    "part_size = len(df1) // len(nombres_ordenados)\n",
    "remainder = len(df1) % len(nombres_ordenados)\n",
    "\n",
    "# Dividir df1 en partes\n",
    "partes_df = np.split(df1.sample(frac=1).sort_values(by='IDimg'), np.cumsum([part_size] * (len(nombres_ordenados) - 1) + [part_size + remainder]))\n",
    "\n",
    "# Asignar los nombres a cada parte\n",
    "for i, parte in enumerate(partes_df):\n",
    "    if i < len(nombres_ordenados):\n",
    "        parte['Responsable img'] = nombres_ordenados[i]\n",
    "    else:\n",
    "        parte['Responsable img'] = nombres_ordenados[-1]  # Asignar el último nombre en caso de que haya más partes que nombres\n",
    "\n",
    "# Concatenar las partes nuevamente en un solo DataFrame\n",
    "df1 = pd.concat(partes_df)"
   ]
  },
  {
   "cell_type": "markdown",
   "id": "0ad6530e-80fd-4ce8-8b1b-fbb01af27f9a",
   "metadata": {},
   "source": [
    "Para esta etapa deberán revisar las fotografías del interior del inmueble para completar la columna `cal_img` en  una escala del 1 al 10 con base en la siguiente pregunta: *¿De qué tan buena calidad arquitectónica crees que es el piso en oferta?* \n",
    "\n",
    "Si consideran que las imágenes **no** ofrecen suficiente información para dar un veredicto sobre la calidad del inmueble, indicar el valor 0.\n",
    "\n",
    "Únicamente **los casos que no cumplan con tener al menos una fotografía del interior** deberán considerar las siguientes situaciones:\n",
    "1. Si hay fotos del exterior del inmueble, indicar 1 en la columna `dum_ext`. Si no es el caso, dejarla vacía.\n",
    "2. Si hay renders, indicar 1 en la columna `dum_render`. Si no es el caso, dejarla vacía.\n",
    "3. Si el enlace está obsoleto indicar 1 en la columna `dum_no_link`. Si no es el caso, dejarla vacía."
   ]
  },
  {
   "cell_type": "markdown",
   "id": "f81e3c4d-e639-4f21-8c0c-1ad8619e151a",
   "metadata": {},
   "source": [
    "Reviso la cabecera."
   ]
  },
  {
   "cell_type": "code",
   "execution_count": 15,
   "id": "71ebfd38-6f89-4488-8952-9b89b9119068",
   "metadata": {
    "tags": []
   },
   "outputs": [
    {
     "data": {
      "text/html": [
       "<div>\n",
       "<style scoped>\n",
       "    .dataframe tbody tr th:only-of-type {\n",
       "        vertical-align: middle;\n",
       "    }\n",
       "\n",
       "    .dataframe tbody tr th {\n",
       "        vertical-align: top;\n",
       "    }\n",
       "\n",
       "    .dataframe thead th {\n",
       "        text-align: right;\n",
       "    }\n",
       "</style>\n",
       "<table border=\"1\" class=\"dataframe\">\n",
       "  <thead>\n",
       "    <tr style=\"text-align: right;\">\n",
       "      <th></th>\n",
       "      <th>IDimg</th>\n",
       "      <th>cal_img</th>\n",
       "      <th>dum_ext</th>\n",
       "      <th>dum_render</th>\n",
       "      <th>dum_no_link</th>\n",
       "      <th>Responsable img</th>\n",
       "    </tr>\n",
       "  </thead>\n",
       "  <tbody>\n",
       "    <tr>\n",
       "      <th>0</th>\n",
       "      <td>3</td>\n",
       "      <td>None</td>\n",
       "      <td>None</td>\n",
       "      <td>None</td>\n",
       "      <td>None</td>\n",
       "      <td>Alsharif, Dareen</td>\n",
       "    </tr>\n",
       "    <tr>\n",
       "      <th>1</th>\n",
       "      <td>4</td>\n",
       "      <td>None</td>\n",
       "      <td>None</td>\n",
       "      <td>None</td>\n",
       "      <td>None</td>\n",
       "      <td>Alsharif, Dareen</td>\n",
       "    </tr>\n",
       "    <tr>\n",
       "      <th>3</th>\n",
       "      <td>8</td>\n",
       "      <td>None</td>\n",
       "      <td>None</td>\n",
       "      <td>None</td>\n",
       "      <td>None</td>\n",
       "      <td>Alsharif, Dareen</td>\n",
       "    </tr>\n",
       "  </tbody>\n",
       "</table>\n",
       "</div>"
      ],
      "text/plain": [
       "   IDimg cal_img dum_ext dum_render dum_no_link   Responsable img\n",
       "0      3    None    None       None        None  Alsharif, Dareen\n",
       "1      4    None    None       None        None  Alsharif, Dareen\n",
       "3      8    None    None       None        None  Alsharif, Dareen"
      ]
     },
     "execution_count": 15,
     "metadata": {},
     "output_type": "execute_result"
    }
   ],
   "source": [
    "df1[['IDimg','cal_img','dum_ext','dum_render','dum_no_link','Responsable img']].head(3)"
   ]
  },
  {
   "cell_type": "code",
   "execution_count": 16,
   "id": "4201a1a3-7bed-4a69-ae78-5a10c81d8434",
   "metadata": {
    "tags": []
   },
   "outputs": [],
   "source": [
    "df1[['IDimg','Link','cal_img','dum_ext','dum_render',\n",
    "     'dum_no_link','Responsable img']].to_excel(\n",
    "    'data/eva_img-amb+mad-marzo24.xlsx',\n",
    "    index=False)"
   ]
  },
  {
   "cell_type": "markdown",
   "id": "bc9db97b-6fea-45ad-af14-e228e95466f4",
   "metadata": {
    "tags": []
   },
   "source": [
    "<mark>Consultar con Carlos</mark>: \n",
    "\n",
    "1. Podríamos reducir `dum_ext`, `dum_render` y `dum_no_link` a una sola columna que sea `dum_invalid`.\n",
    "2. Los chicos deberán crear una carpeta por cada *IDimg* y cargar en ella un mínimo de dos y un máximo de cinco imágenes. El enlace ya está preparado en mi drive personal: https://drive.google.com/drive/folders/1kWvQSJK-Ogy1ZC1iV9HhoAK73mHVgLSe?usp=sharing.\n",
    "3. Si encuentran algún duplicado (que no debería existir, pero por si las dudas) deberán pintar la columna *Link* con amarillo.\n",
    "4. ¿Haremos participar a Gonzalo? ¿Nosotros?"
   ]
  }
 ],
 "metadata": {
  "kernelspec": {
   "display_name": "Python 3 (ipykernel)",
   "language": "python",
   "name": "python3"
  },
  "language_info": {
   "codemirror_mode": {
    "name": "ipython",
    "version": 3
   },
   "file_extension": ".py",
   "mimetype": "text/x-python",
   "name": "python",
   "nbconvert_exporter": "python",
   "pygments_lexer": "ipython3",
   "version": "3.11.5"
  }
 },
 "nbformat": 4,
 "nbformat_minor": 5
}
