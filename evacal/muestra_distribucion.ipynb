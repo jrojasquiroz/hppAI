{
 "cells": [
  {
   "cell_type": "code",
   "execution_count": 1,
   "id": "a452b5d6-2717-42a4-a5b0-2807d5461f9b",
   "metadata": {
    "tags": []
   },
   "outputs": [],
   "source": [
    "import pandas as pd\n",
    "import numpy as np\n",
    "import geopandas as gpd\n",
    "from shapely.geometry import Point\n",
    "import matplotlib.pyplot as plt\n",
    "import requests"
   ]
  },
  {
   "cell_type": "markdown",
   "id": "b1426d22-114f-4549-a289-f2e6e4360f08",
   "metadata": {},
   "source": [
    "# Alquiler"
   ]
  },
  {
   "cell_type": "markdown",
   "id": "d66dc79d-795c-424b-bd26-dd5c4bfcda2b",
   "metadata": {},
   "source": [
    "En el caso de Madrid tenía casos para toda la CC.AA., pero en realidad sólo necesito para el municipio de Madrid. Por tanto importo la geometría del municipio y filtro sólo las observaciones que están en él. "
   ]
  },
  {
   "cell_type": "code",
   "execution_count": 2,
   "id": "6fd85e80-5464-45dc-b603-c4adec1e1315",
   "metadata": {
    "tags": []
   },
   "outputs": [],
   "source": [
    "amb=pd.read_excel('G:/Mi unidad/Documentos personales/9-Documentos Doctorado/Doctorado 2023/11-Web scrapping/data/primera_ronda/a-amb-marzo24.xlsx')\n",
    "mad=pd.read_excel('G:/Mi unidad/Documentos personales/9-Documentos Doctorado/Doctorado 2023/11-Web scrapping/data/primera_ronda/a-prov_mad-marzo24.xlsx')\n",
    "\n",
    "# Convertir el DataFrame a un GeoDataFrame\n",
    "geometry = [Point(lon, lat) for lon, lat in zip(mad['Lon_X'], mad['Lat_Y'])]\n",
    "crs = 'epsg:4326'  # Definir sistema de coordenadas WGS84\n",
    "gdf_puntos = gpd.GeoDataFrame(mad, crs=crs, geometry=geometry)\n",
    "gdf_puntos = gdf_puntos.to_crs(epsg=32631)\n",
    "\n",
    "geomad=gpd.read_file('G:/Mi unidad/Datos/españa/vectores/MUNICIPOS-ESPAÑA-31N.gpkg')\n",
    "geomad=geomad[geomad['NAMEUNIT']=='Madrid']\n",
    "\n",
    "munmad = gpd.sjoin(gdf_puntos, geomad[['geometry']], how='inner', predicate='intersects')\n",
    "munmad=munmad.drop(['geometry','index_right'],axis=1)"
   ]
  },
  {
   "cell_type": "code",
   "execution_count": 3,
   "id": "d6a87bf4-3678-49e9-a296-3ee040b75c35",
   "metadata": {
    "tags": []
   },
   "outputs": [
    {
     "name": "stdout",
     "output_type": "stream",
     "text": [
      "2405\n",
      "1983\n"
     ]
    }
   ],
   "source": [
    "print(len(mad))\n",
    "print(len(munmad))"
   ]
  },
  {
   "cell_type": "markdown",
   "id": "c9c87248-945b-469c-8a28-ccc03ef946d7",
   "metadata": {},
   "source": [
    "Creo una columna que me indique los quintiles a los que pertenece cada observación."
   ]
  },
  {
   "cell_type": "code",
   "execution_count": 4,
   "id": "34a5cd99-bd3f-450c-88db-91fcf9474efd",
   "metadata": {
    "tags": []
   },
   "outputs": [],
   "source": [
    "# Creas una nueva columna en cada DataFrame con los quintiles\n",
    "amb['qprecio'] = pd.qcut(amb['precio_euros'], 5, labels=False)\n",
    "munmad['qprecio'] = pd.qcut(munmad['precio_euros'], 5, labels=False)"
   ]
  },
  {
   "cell_type": "code",
   "execution_count": 5,
   "id": "8eeea929-7213-4521-8a32-f18360d867f7",
   "metadata": {
    "tags": []
   },
   "outputs": [
    {
     "data": {
      "text/plain": [
       "2417"
      ]
     },
     "execution_count": 5,
     "metadata": {},
     "output_type": "execute_result"
    }
   ],
   "source": [
    "len(amb)"
   ]
  },
  {
   "cell_type": "code",
   "execution_count": 6,
   "id": "103c5d52-319c-4f3d-a4c3-745bc48969e1",
   "metadata": {
    "tags": []
   },
   "outputs": [
    {
     "name": "stdout",
     "output_type": "stream",
     "text": [
      "[0 1 2 3 4]\n",
      "[0 1 4 2 3]\n"
     ]
    }
   ],
   "source": [
    "print(amb['qprecio'].unique())\n",
    "print(munmad['qprecio'].unique())"
   ]
  },
  {
   "cell_type": "code",
   "execution_count": 7,
   "id": "b5543045-d6d6-4040-8717-b50c5432ea78",
   "metadata": {
    "tags": []
   },
   "outputs": [
    {
     "name": "stdout",
     "output_type": "stream",
     "text": [
      "517\n",
      "467\n",
      "468\n",
      "489\n",
      "476\n"
     ]
    }
   ],
   "source": [
    "print(len(amb[amb['qprecio']==0]))\n",
    "print(len(amb[amb['qprecio']==1]))\n",
    "print(len(amb[amb['qprecio']==2]))\n",
    "print(len(amb[amb['qprecio']==3]))\n",
    "print(len(amb[amb['qprecio']==4]))"
   ]
  },
  {
   "cell_type": "markdown",
   "id": "34f9a322-35aa-457c-a002-8c95967f7993",
   "metadata": {},
   "source": [
    "Calculo la muestra aleatoria.\n",
    "\n",
    "En teoría debería elegir un valor cercano al 10%, pero como queremos tener sólo 140 observaciones para la primera revisión, procedo a usar sólo el 0.3%."
   ]
  },
  {
   "cell_type": "code",
   "execution_count": 8,
   "id": "2753c4b5-f61a-4868-9182-3643c3edfb2f",
   "metadata": {
    "tags": []
   },
   "outputs": [
    {
     "data": {
      "text/plain": [
       "15"
      ]
     },
     "execution_count": 8,
     "metadata": {},
     "output_type": "execute_result"
    }
   ],
   "source": [
    "# Calcula el tamaño de muestra deseado para cada quintil\n",
    "tamano_muestra_por_quintil = int(len(amb) * 0.0015)  \n",
    "\n",
    "# Define una función para muestrear estratificadamente cada DataFrame\n",
    "def muestreo_estratificado(df):\n",
    "    # Realiza el muestreo estratificado por quintil\n",
    "    muestra_estratificada = df.groupby('qprecio').apply(lambda x: x.sample(tamano_muestra_por_quintil, random_state=42))\n",
    "    # Reinicia el índice\n",
    "    muestra_estratificada.reset_index(drop=True, inplace=True)\n",
    "    return muestra_estratificada\n",
    "\n",
    "# Aplica la función a cada DataFrame\n",
    "muestra_amb = muestreo_estratificado(amb)\n",
    "len(muestra_amb)"
   ]
  },
  {
   "cell_type": "code",
   "execution_count": 9,
   "id": "9efe90c8-7825-4d7d-a2b2-b74f75ccf30a",
   "metadata": {
    "tags": []
   },
   "outputs": [
    {
     "name": "stdout",
     "output_type": "stream",
     "text": [
      "3\n",
      "3\n",
      "3\n",
      "3\n",
      "3\n"
     ]
    }
   ],
   "source": [
    "print(len(muestra_amb[muestra_amb['qprecio']==0]))\n",
    "print(len(muestra_amb[muestra_amb['qprecio']==1]))\n",
    "print(len(muestra_amb[muestra_amb['qprecio']==2]))\n",
    "print(len(muestra_amb[muestra_amb['qprecio']==3]))\n",
    "print(len(muestra_amb[muestra_amb['qprecio']==4]))"
   ]
  },
  {
   "cell_type": "code",
   "execution_count": 10,
   "id": "7922f14b-b785-4cc0-8103-65b0c106aa00",
   "metadata": {
    "tags": []
   },
   "outputs": [
    {
     "data": {
      "text/plain": [
       "15"
      ]
     },
     "execution_count": 10,
     "metadata": {},
     "output_type": "execute_result"
    }
   ],
   "source": [
    "# Calcula el tamaño de muestra deseado para cada quintil\n",
    "tamano_muestra_por_quintil = int(len(munmad) * 0.002)\n",
    "\n",
    "# Define una función para muestrear estratificadamente cada DataFrame\n",
    "def muestreo_estratificado(df):\n",
    "    # Realiza el muestreo estratificado por quintil\n",
    "    muestra_estratificada = df.groupby('qprecio').apply(lambda x: x.sample(tamano_muestra_por_quintil, random_state=42))\n",
    "    # Reinicia el índice\n",
    "    muestra_estratificada.reset_index(drop=True, inplace=True)\n",
    "    return muestra_estratificada\n",
    "\n",
    "# Aplica la función a cada DataFrame\n",
    "muestra_munmad = muestreo_estratificado(munmad)\n",
    "len(muestra_munmad)"
   ]
  },
  {
   "cell_type": "code",
   "execution_count": 11,
   "id": "951fbd5a-eb9e-403a-8162-7c93ed6e5dbc",
   "metadata": {
    "tags": []
   },
   "outputs": [
    {
     "name": "stdout",
     "output_type": "stream",
     "text": [
      "3\n",
      "3\n",
      "3\n",
      "3\n",
      "3\n"
     ]
    }
   ],
   "source": [
    "print(len(muestra_munmad[muestra_munmad['qprecio']==0]))\n",
    "print(len(muestra_munmad[muestra_munmad['qprecio']==1]))\n",
    "print(len(muestra_munmad[muestra_munmad['qprecio']==2]))\n",
    "print(len(muestra_munmad[muestra_munmad['qprecio']==3]))\n",
    "print(len(muestra_munmad[muestra_munmad['qprecio']==4]))"
   ]
  },
  {
   "cell_type": "markdown",
   "id": "7df2022a-0baa-4dad-a15a-17bb21111b44",
   "metadata": {},
   "source": [
    "Reviso la distribución tanto de los datos originales como de la muestra."
   ]
  },
  {
   "cell_type": "code",
   "execution_count": 12,
   "id": "520b84bf-18c9-49b2-aad6-229703255ebd",
   "metadata": {
    "tags": []
   },
   "outputs": [
    {
     "data": {
      "image/png": "[encoded data removed]",
      "text/plain": [
       "<Figure size 1200x800 with 4 Axes>"
      ]
     },
     "metadata": {},
     "output_type": "display_data"
    }
   ],
   "source": [
    "# Crear subgráficos para mostrar los histogramas\n",
    "fig, axs = plt.subplots(2, 2, figsize=(12, 8))\n",
    "\n",
    "# Definir los límites y la separación del eje x\n",
    "x_min = 0\n",
    "x_max = 15000\n",
    "bin_width = 1500\n",
    "num_bins = int((x_max - x_min) / bin_width)\n",
    "\n",
    "# Histograma de los datos originales de amb\n",
    "axs[0, 0].hist(amb['precio_euros'], bins=np.arange(x_min, x_max + bin_width, bin_width), color='blue', alpha=0.5, label='Original')\n",
    "axs[0, 0].set_title('Distribución de precios en amb (Original)')\n",
    "axs[0, 0].legend()\n",
    "\n",
    "# Histograma de los datos de la muestra de amb\n",
    "axs[0, 1].hist(muestra_amb['precio_euros'], bins=np.arange(x_min, x_max + bin_width, bin_width), color='green', alpha=0.5, label='Muestra')\n",
    "axs[0, 1].set_title('Distribución de precios en amb (Muestra)')\n",
    "axs[0, 1].legend()\n",
    "\n",
    "# Histograma de los datos originales de munmad\n",
    "axs[1, 0].hist(munmad['precio_euros'], bins=np.arange(x_min, x_max + bin_width, bin_width), color='red', alpha=0.5, label='Original')\n",
    "axs[1, 0].set_title('Distribución de precios en munmad (Original)')\n",
    "axs[1, 0].legend()\n",
    "\n",
    "# Histograma de los datos de la muestra de munmad\n",
    "axs[1, 1].hist(muestra_munmad['precio_euros'], bins=np.arange(x_min, x_max + bin_width, bin_width), color='orange', alpha=0.5, label='Muestra')\n",
    "axs[1, 1].set_title('Distribución de precios en munmad (Muestra)')\n",
    "axs[1, 1].legend()\n",
    "\n",
    "# Ajustar los límites del eje x\n",
    "for ax in axs.flat:\n",
    "    ax.set_xlim(x_min, x_max)\n",
    "\n",
    "plt.tight_layout()\n",
    "plt.show()"
   ]
  },
  {
   "cell_type": "code",
   "execution_count": 13,
   "id": "6497e4d2-a551-4b0a-8168-26fee9e0468f",
   "metadata": {
    "tags": []
   },
   "outputs": [
    {
     "name": "stdout",
     "output_type": "stream",
     "text": [
      "['ID', 'Title', 'Link', 'precio_euros', 'codigo_inmueble', 'Description', 'last_mod', 'dummy_indice', 'indice_alquiler', 'area', 'n_rooms', 'price_m2', 'n_baths', 'n_aseo', 'laundry', 'buhardilla', 'despacho', 'trastero', 'terrace', 'kwhm2_year', 'kgCO2m2_year', 'dummy_consum_EPC', 'dummy_emission_EPC', 'consum_A', 'consum_B', 'consum_C', 'consum_D', 'consum_E', 'consum_F', 'consum_G', 'emission_A', 'emission_B', 'emission_C', 'emission_D', 'emission_E', 'emission_F', 'emission_G', 'AC', 'parking', 'pool', 'lift', 'furniture', 'public_transp', 'barrio', 'codigo_inmueble_numero', 'Lat_Y', 'Lon_X', 'multifam', 'atico', 'duplex', 'estudio', 'loft', 'piso', 'triplex', 'qprecio']\n",
      "['ID', 'Title', 'Link', 'precio_euros', 'codigo_inmueble', 'Description', 'last_mod', 'dummy_indice', 'indice_alquiler', 'area', 'n_rooms', 'price_m2', 'n_baths', 'n_aseo', 'laundry', 'buhardilla', 'despacho', 'trastero', 'terrace', 'kwhm2_year', 'kgCO2m2_year', 'dummy_consum_EPC', 'dummy_emission_EPC', 'consum_A', 'consum_B', 'consum_C', 'consum_D', 'consum_E', 'consum_F', 'consum_G', 'emission_A', 'emission_B', 'emission_C', 'emission_D', 'emission_E', 'emission_F', 'emission_G', 'AC', 'parking', 'pool', 'lift', 'furniture', 'public_transp', 'barrio', 'codigo_inmueble_numero', 'Lat_Y', 'Lon_X', 'multifam', 'atico', 'duplex', 'estudio', 'loft', 'piso', 'triplex', 'qprecio']\n"
     ]
    }
   ],
   "source": [
    "print(muestra_amb.columns.tolist())\n",
    "print(muestra_munmad.columns.tolist())"
   ]
  },
  {
   "cell_type": "code",
   "execution_count": 14,
   "id": "acc89863-956b-4936-9e9e-7ea67e001a49",
   "metadata": {
    "tags": []
   },
   "outputs": [],
   "source": [
    "muestra_amb2=muestra_amb.drop(columns=['qprecio'])\n",
    "muestra_amb2['AMB']=1\n",
    "muestra_amb2['MAD']=0\n",
    "\n",
    "muestra_munmad2=muestra_munmad.drop(columns=['qprecio'])\n",
    "muestra_munmad2['AMB']=0\n",
    "muestra_munmad2['MAD']=1"
   ]
  },
  {
   "cell_type": "code",
   "execution_count": 15,
   "id": "ac0f24db-8403-4de2-b866-f2119abce7f5",
   "metadata": {
    "tags": []
   },
   "outputs": [],
   "source": [
    "eva_alquiler = pd.concat([muestra_amb2, muestra_munmad2], ignore_index=True)"
   ]
  },
  {
   "cell_type": "markdown",
   "id": "2a68f080-a66f-4d7e-8603-3080a4ac6200",
   "metadata": {},
   "source": [
    "# Venta"
   ]
  },
  {
   "cell_type": "code",
   "execution_count": 16,
   "id": "5b14bb3b-f5ca-4d3a-9d70-adf792cdc1e7",
   "metadata": {
    "tags": []
   },
   "outputs": [],
   "source": [
    "amb=pd.read_excel('G:/Mi unidad/Documentos personales/9-Documentos Doctorado/Doctorado 2023/11-Web scrapping/data/primera_ronda/v-amb-abril24.xlsx')\n",
    "mad=pd.read_excel('G:/Mi unidad/Documentos personales/9-Documentos Doctorado/Doctorado 2023/11-Web scrapping/data/primera_ronda/v-prov_mad-abril24.xlsx')\n",
    "\n",
    "# Convertir el DataFrame a un GeoDataFrame\n",
    "geometry = [Point(lon, lat) for lon, lat in zip(mad['Lon_X'], mad['Lat_Y'])]\n",
    "crs = 'epsg:4326'  # Definir sistema de coordenadas WGS84\n",
    "gdf_puntos = gpd.GeoDataFrame(mad, crs=crs, geometry=geometry)\n",
    "gdf_puntos = gdf_puntos.to_crs(epsg=32631)\n",
    "\n",
    "geomad=gpd.read_file('G:/Mi unidad/Datos/españa/vectores/MUNICIPOS-ESPAÑA-31N.gpkg')\n",
    "geomad=geomad[geomad['NAMEUNIT']=='Madrid']\n",
    "\n",
    "munmad = gpd.sjoin(gdf_puntos, geomad[['geometry']], how='inner', predicate='intersects')\n",
    "munmad=munmad.drop(['geometry','index_right'],axis=1)"
   ]
  },
  {
   "cell_type": "code",
   "execution_count": 17,
   "id": "ac33d48f-4cc6-4378-87d5-52220cf1aec7",
   "metadata": {
    "tags": []
   },
   "outputs": [],
   "source": [
    "# Creas una nueva columna en cada DataFrame con los quintiles\n",
    "amb['qprecio'] = pd.qcut(amb['precio_euros'], 5, labels=False)\n",
    "munmad['qprecio'] = pd.qcut(munmad['precio_euros'], 5, labels=False)"
   ]
  },
  {
   "cell_type": "code",
   "execution_count": 18,
   "id": "2668de3b-ea9e-4750-b895-795cf31ca8d7",
   "metadata": {
    "tags": []
   },
   "outputs": [
    {
     "data": {
      "text/plain": [
       "55"
      ]
     },
     "execution_count": 18,
     "metadata": {},
     "output_type": "execute_result"
    }
   ],
   "source": [
    "# Calcula el tamaño de muestra deseado para cada quintil\n",
    "tamano_muestra_por_quintil = int(len(amb) * 0.0011)  \n",
    "\n",
    "# Define una función para muestrear estratificadamente cada DataFrame\n",
    "def muestreo_estratificado(df):\n",
    "    # Realiza el muestreo estratificado por quintil\n",
    "    muestra_estratificada = df.groupby('qprecio').apply(lambda x: x.sample(tamano_muestra_por_quintil, random_state=42))\n",
    "    # Reinicia el índice\n",
    "    muestra_estratificada.reset_index(drop=True, inplace=True)\n",
    "    return muestra_estratificada\n",
    "\n",
    "# Aplica la función a cada DataFrame\n",
    "muestra_amb = muestreo_estratificado(amb)\n",
    "len(muestra_amb)"
   ]
  },
  {
   "cell_type": "code",
   "execution_count": 19,
   "id": "d3bc6ed9-0bb4-47bf-866e-3a817445aa98",
   "metadata": {
    "tags": []
   },
   "outputs": [
    {
     "data": {
      "text/plain": [
       "55"
      ]
     },
     "execution_count": 19,
     "metadata": {},
     "output_type": "execute_result"
    }
   ],
   "source": [
    "# Calcula el tamaño de muestra deseado para cada quintil\n",
    "tamano_muestra_por_quintil = int(len(munmad) * 0.0025)\n",
    "\n",
    "# Define una función para muestrear estratificadamente cada DataFrame\n",
    "def muestreo_estratificado(df):\n",
    "    # Realiza el muestreo estratificado por quintil\n",
    "    muestra_estratificada = df.groupby('qprecio').apply(lambda x: x.sample(tamano_muestra_por_quintil, random_state=42))\n",
    "    # Reinicia el índice\n",
    "    muestra_estratificada.reset_index(drop=True, inplace=True)\n",
    "    return muestra_estratificada\n",
    "\n",
    "# Aplica la función a cada DataFrame\n",
    "muestra_munmad = muestreo_estratificado(munmad)\n",
    "len(muestra_munmad)"
   ]
  },
  {
   "cell_type": "code",
   "execution_count": 20,
   "id": "bcf8c93a-2c4c-44df-9784-12e63810248c",
   "metadata": {
    "tags": []
   },
   "outputs": [],
   "source": [
    "muestra_amb2=muestra_amb.drop(columns=['qprecio'])\n",
    "muestra_amb2['AMB']=1\n",
    "muestra_amb2['MAD']=0\n",
    "\n",
    "muestra_munmad2=muestra_munmad.drop(columns=['qprecio'])\n",
    "muestra_munmad2['AMB']=0\n",
    "muestra_munmad2['MAD']=1"
   ]
  },
  {
   "cell_type": "code",
   "execution_count": 21,
   "id": "f570ce42-9afd-417a-8b4b-fb8373abe5f2",
   "metadata": {
    "tags": []
   },
   "outputs": [],
   "source": [
    "eva_venta = pd.concat([muestra_amb2, muestra_munmad2], ignore_index=True)"
   ]
  },
  {
   "cell_type": "markdown",
   "id": "bcb59eee-44fd-4485-83c5-6cf0a3642dbf",
   "metadata": {},
   "source": [
    "# Unión de alquiler y venta"
   ]
  },
  {
   "cell_type": "code",
   "execution_count": 22,
   "id": "d0f6f370-af6c-4174-b537-0bbb69ee1c77",
   "metadata": {
    "tags": []
   },
   "outputs": [
    {
     "data": {
      "text/html": [
       "<div>\n",
       "<style scoped>\n",
       "    .dataframe tbody tr th:only-of-type {\n",
       "        vertical-align: middle;\n",
       "    }\n",
       "\n",
       "    .dataframe tbody tr th {\n",
       "        vertical-align: top;\n",
       "    }\n",
       "\n",
       "    .dataframe thead th {\n",
       "        text-align: right;\n",
       "    }\n",
       "</style>\n",
       "<table border=\"1\" class=\"dataframe\">\n",
       "  <thead>\n",
       "    <tr style=\"text-align: right;\">\n",
       "      <th></th>\n",
       "      <th>ID</th>\n",
       "      <th>Title</th>\n",
       "      <th>Link</th>\n",
       "      <th>precio_euros</th>\n",
       "      <th>codigo_inmueble</th>\n",
       "      <th>Description</th>\n",
       "      <th>last_mod</th>\n",
       "      <th>dummy_indice</th>\n",
       "      <th>indice_alquiler</th>\n",
       "      <th>area</th>\n",
       "      <th>...</th>\n",
       "      <th>Lon_X</th>\n",
       "      <th>multifam</th>\n",
       "      <th>atico</th>\n",
       "      <th>duplex</th>\n",
       "      <th>estudio</th>\n",
       "      <th>loft</th>\n",
       "      <th>piso</th>\n",
       "      <th>triplex</th>\n",
       "      <th>AMB</th>\n",
       "      <th>MAD</th>\n",
       "    </tr>\n",
       "  </thead>\n",
       "  <tbody>\n",
       "    <tr>\n",
       "      <th>0</th>\n",
       "      <td>1855</td>\n",
       "      <td>Alquiler Piso  en  Carrer del consell de cent 451</td>\n",
       "      <td>https://www.habitaclia.com/alquiler-piso-calle...</td>\n",
       "      <td>1250</td>\n",
       "      <td>Anuncio: 49444000000010</td>\n",
       "      <td>OPORTUNIDAD EN EIXAMPLE DRETA!PISO ESPECIALMEN...</td>\n",
       "      <td>27/02/2024</td>\n",
       "      <td>0</td>\n",
       "      <td>0.0</td>\n",
       "      <td>85</td>\n",
       "      <td>...</td>\n",
       "      <td>2.174846</td>\n",
       "      <td>1</td>\n",
       "      <td>0</td>\n",
       "      <td>0</td>\n",
       "      <td>0</td>\n",
       "      <td>0</td>\n",
       "      <td>1</td>\n",
       "      <td>0</td>\n",
       "      <td>1</td>\n",
       "      <td>0</td>\n",
       "    </tr>\n",
       "    <tr>\n",
       "      <th>1</th>\n",
       "      <td>2520</td>\n",
       "      <td>Alquiler Piso  en  Avinguda de cerdanyola 47. ...</td>\n",
       "      <td>https://www.habitaclia.com/alquiler-piso-moder...</td>\n",
       "      <td>1250</td>\n",
       "      <td>Anuncio: 1903004403789</td>\n",
       "      <td>Bonito y moderno piso de alquiler de dos habit...</td>\n",
       "      <td>06/03/2024</td>\n",
       "      <td>0</td>\n",
       "      <td>0.0</td>\n",
       "      <td>68</td>\n",
       "      <td>...</td>\n",
       "      <td>2.090375</td>\n",
       "      <td>1</td>\n",
       "      <td>0</td>\n",
       "      <td>0</td>\n",
       "      <td>0</td>\n",
       "      <td>0</td>\n",
       "      <td>1</td>\n",
       "      <td>0</td>\n",
       "      <td>1</td>\n",
       "      <td>0</td>\n",
       "    </tr>\n",
       "    <tr>\n",
       "      <th>2</th>\n",
       "      <td>2370</td>\n",
       "      <td>Alquiler Piso  Avinguda de martí pujol. Piso e...</td>\n",
       "      <td>https://www.habitaclia.com/alquiler-piso-en_en...</td>\n",
       "      <td>1350</td>\n",
       "      <td>Anuncio: 11639004448685</td>\n",
       "      <td>Piso de 100m², compuesto de 4 dormitorios (2 d...</td>\n",
       "      <td>14/03/2024</td>\n",
       "      <td>0</td>\n",
       "      <td>0.0</td>\n",
       "      <td>105</td>\n",
       "      <td>...</td>\n",
       "      <td>2.245174</td>\n",
       "      <td>1</td>\n",
       "      <td>0</td>\n",
       "      <td>0</td>\n",
       "      <td>0</td>\n",
       "      <td>0</td>\n",
       "      <td>1</td>\n",
       "      <td>0</td>\n",
       "      <td>1</td>\n",
       "      <td>0</td>\n",
       "    </tr>\n",
       "    <tr>\n",
       "      <th>3</th>\n",
       "      <td>259</td>\n",
       "      <td>Alquiler Piso  en  C/ bach de roda. Solvia inm...</td>\n",
       "      <td>https://www.habitaclia.com/alquiler-piso-solvi...</td>\n",
       "      <td>1550</td>\n",
       "      <td>Anuncio: 44419000002484</td>\n",
       "      <td>PROMOCIÓN: ¡ALTA DE SUMINISTROS GRATIS si rese...</td>\n",
       "      <td>14/03/2024</td>\n",
       "      <td>0</td>\n",
       "      <td>0.0</td>\n",
       "      <td>77</td>\n",
       "      <td>...</td>\n",
       "      <td>2.205807</td>\n",
       "      <td>1</td>\n",
       "      <td>0</td>\n",
       "      <td>0</td>\n",
       "      <td>0</td>\n",
       "      <td>0</td>\n",
       "      <td>1</td>\n",
       "      <td>0</td>\n",
       "      <td>1</td>\n",
       "      <td>0</td>\n",
       "    </tr>\n",
       "    <tr>\n",
       "      <th>4</th>\n",
       "      <td>311</td>\n",
       "      <td>Alquiler Piso  Carrer de montmany</td>\n",
       "      <td>https://www.habitaclia.com/alquiler-piso-vila_...</td>\n",
       "      <td>1400</td>\n",
       "      <td>Anuncio: 27784003851232</td>\n",
       "      <td>MAGNÍFICA VIVIENDA A ESTRENAR-RECIÉN REFORMADA...</td>\n",
       "      <td>12/03/2024</td>\n",
       "      <td>0</td>\n",
       "      <td>0.0</td>\n",
       "      <td>85</td>\n",
       "      <td>...</td>\n",
       "      <td>2.160815</td>\n",
       "      <td>1</td>\n",
       "      <td>0</td>\n",
       "      <td>0</td>\n",
       "      <td>0</td>\n",
       "      <td>0</td>\n",
       "      <td>1</td>\n",
       "      <td>0</td>\n",
       "      <td>1</td>\n",
       "      <td>0</td>\n",
       "    </tr>\n",
       "  </tbody>\n",
       "</table>\n",
       "<p>5 rows × 56 columns</p>\n",
       "</div>"
      ],
      "text/plain": [
       "     ID                                              Title  \\\n",
       "0  1855  Alquiler Piso  en  Carrer del consell de cent 451   \n",
       "1  2520  Alquiler Piso  en  Avinguda de cerdanyola 47. ...   \n",
       "2  2370  Alquiler Piso  Avinguda de martí pujol. Piso e...   \n",
       "3   259  Alquiler Piso  en  C/ bach de roda. Solvia inm...   \n",
       "4   311                  Alquiler Piso  Carrer de montmany   \n",
       "\n",
       "                                                Link  precio_euros  \\\n",
       "0  https://www.habitaclia.com/alquiler-piso-calle...          1250   \n",
       "1  https://www.habitaclia.com/alquiler-piso-moder...          1250   \n",
       "2  https://www.habitaclia.com/alquiler-piso-en_en...          1350   \n",
       "3  https://www.habitaclia.com/alquiler-piso-solvi...          1550   \n",
       "4  https://www.habitaclia.com/alquiler-piso-vila_...          1400   \n",
       "\n",
       "           codigo_inmueble                                        Description  \\\n",
       "0  Anuncio: 49444000000010  OPORTUNIDAD EN EIXAMPLE DRETA!PISO ESPECIALMEN...   \n",
       "1   Anuncio: 1903004403789  Bonito y moderno piso de alquiler de dos habit...   \n",
       "2  Anuncio: 11639004448685  Piso de 100m², compuesto de 4 dormitorios (2 d...   \n",
       "3  Anuncio: 44419000002484  PROMOCIÓN: ¡ALTA DE SUMINISTROS GRATIS si rese...   \n",
       "4  Anuncio: 27784003851232  MAGNÍFICA VIVIENDA A ESTRENAR-RECIÉN REFORMADA...   \n",
       "\n",
       "     last_mod  dummy_indice  indice_alquiler  area  ...     Lon_X  multifam  \\\n",
       "0  27/02/2024             0              0.0    85  ...  2.174846         1   \n",
       "1  06/03/2024             0              0.0    68  ...  2.090375         1   \n",
       "2  14/03/2024             0              0.0   105  ...  2.245174         1   \n",
       "3  14/03/2024             0              0.0    77  ...  2.205807         1   \n",
       "4  12/03/2024             0              0.0    85  ...  2.160815         1   \n",
       "\n",
       "   atico  duplex  estudio  loft  piso  triplex  AMB  MAD  \n",
       "0      0       0        0     0     1        0    1    0  \n",
       "1      0       0        0     0     1        0    1    0  \n",
       "2      0       0        0     0     1        0    1    0  \n",
       "3      0       0        0     0     1        0    1    0  \n",
       "4      0       0        0     0     1        0    1    0  \n",
       "\n",
       "[5 rows x 56 columns]"
      ]
     },
     "execution_count": 22,
     "metadata": {},
     "output_type": "execute_result"
    }
   ],
   "source": [
    "eva_inicio=pd.concat([eva_alquiler, eva_venta])\n",
    "eva_inicio.head()"
   ]
  },
  {
   "cell_type": "code",
   "execution_count": 23,
   "id": "c7caba52-057e-4a50-a672-d94dfc008dfa",
   "metadata": {
    "tags": []
   },
   "outputs": [],
   "source": [
    "eva_inicio.reset_index(drop=True, inplace=True)\n",
    "eva_inicio.index = eva_inicio.index + 1\n",
    "eva_inicio.insert(0, 'ID_general', eva_inicio.index)"
   ]
  },
  {
   "cell_type": "code",
   "execution_count": 24,
   "id": "90692c1a-20d7-4bd2-a4eb-02d532345b1c",
   "metadata": {
    "tags": []
   },
   "outputs": [],
   "source": [
    "eva_inicio['C_contempo']=None\n",
    "eva_inicio['C_estado']=None\n",
    "eva_inicio['C_armarios']=None\n",
    "\n",
    "eva_inicio['B_contempo']=None\n",
    "eva_inicio['B_estado']=None\n",
    "eva_inicio['B_lavamano']=None\n",
    "\n",
    "eva_inicio['R_contempo']=None\n",
    "eva_inicio['R_estado']=None\n",
    "eva_inicio['R_carpinteria']=None\n",
    "eva_inicio['R_singular']=None\n",
    "eva_inicio['R_ventana']=None\n",
    "\n",
    "eva_inicio['dumi_precio_reduccion']=None\n",
    "eva_inicio['Precio_reduccion']=None\n",
    "eva_inicio['Anuncio_invalido']=None"
   ]
  },
  {
   "cell_type": "code",
   "execution_count": 25,
   "id": "faab1256-a756-41ba-b44c-b453c0c4f732",
   "metadata": {},
   "outputs": [
    {
     "data": {
      "text/plain": [
       "140"
      ]
     },
     "execution_count": 25,
     "metadata": {},
     "output_type": "execute_result"
    }
   ],
   "source": [
    "len(eva_inicio)"
   ]
  },
  {
   "cell_type": "code",
   "execution_count": 26,
   "id": "7a94ece2-fb66-4a7b-83b2-91f0cdd6d6b8",
   "metadata": {
    "tags": []
   },
   "outputs": [],
   "source": [
    "eva_inicio.to_excel('tercer_intento/evaluacion_inicio.xlsx', index=False)"
   ]
  }
 ],
 "metadata": {
  "kernelspec": {
   "display_name": "Python 3 (ipykernel)",
   "language": "python",
   "name": "python3"
  },
  "language_info": {
   "codemirror_mode": {
    "name": "ipython",
    "version": 3
   },
   "file_extension": ".py",
   "mimetype": "text/x-python",
   "name": "python",
   "nbconvert_exporter": "python",
   "pygments_lexer": "ipython3",
   "version": "3.11.5"
  }
 },
 "nbformat": 4,
 "nbformat_minor": 5
}
