{
  "cells": [
    {
      "cell_type": "markdown",
      "metadata": {
        "id": "view-in-github",
        "colab_type": "text"
      },
      "source": [
        "<a href=\"https://colab.research.google.com/github/jrojasquiroz/hppAI/blob/main/evacal/muestra_distribucion.ipynb\" target=\"_parent\"><img src=\"https://colab.research.google.com/assets/colab-badge.svg\" alt=\"Open In Colab\"/></a>"
      ]
    },
    {
      "cell_type": "markdown",
      "id": "2385ce0e-1e04-4e99-96bb-42044c9ccd85",
      "metadata": {
        "id": "2385ce0e-1e04-4e99-96bb-42044c9ccd85"
      },
      "source": [
        "Con Carlos coordinamos que sólo tomaríamos en cuenta datos de venta. No dejamos en claro si sería sobre toda la RMB o sólo sobre el AMB, <mark> debo consultarle para estar seguro </mark>. De momento trabajo con datos para toda la RMB."
      ]
    },
    {
      "cell_type": "code",
      "source": [
        "from google.colab import drive\n",
        "drive.mount('/content/drive/')"
      ],
      "metadata": {
        "colab": {
          "base_uri": "https://localhost:8080/"
        },
        "id": "zdJmLKsxqGtr",
        "outputId": "e70f7325-2ac2-4a5f-d3d2-f5d0db459966"
      },
      "id": "zdJmLKsxqGtr",
      "execution_count": 1,
      "outputs": [
        {
          "output_type": "stream",
          "name": "stdout",
          "text": [
            "Mounted at /content/drive/\n"
          ]
        }
      ]
    },
    {
      "cell_type": "markdown",
      "id": "7b13e2e1-7305-4c2e-9624-0e6e9db79151",
      "metadata": {
        "id": "7b13e2e1-7305-4c2e-9624-0e6e9db79151"
      },
      "source": [
        "# 1. Muestreo por distribución por quintiles"
      ]
    },
    {
      "cell_type": "code",
      "execution_count": 2,
      "id": "a452b5d6-2717-42a4-a5b0-2807d5461f9b",
      "metadata": {
        "tags": [],
        "id": "a452b5d6-2717-42a4-a5b0-2807d5461f9b"
      },
      "outputs": [],
      "source": [
        "import pandas as pd\n",
        "import numpy as np\n",
        "import geopandas as gpd\n",
        "import matplotlib.pyplot as plt\n",
        "import requests\n",
        "from urllib.parse import urlparse\n",
        "import geopandas as gpd\n",
        "from shapely.geometry import Point"
      ]
    },
    {
      "cell_type": "code",
      "execution_count": 3,
      "id": "ea8659c5-0eb1-48db-b6e6-04669d61c061",
      "metadata": {
        "tags": [],
        "colab": {
          "base_uri": "https://localhost:8080/"
        },
        "id": "ea8659c5-0eb1-48db-b6e6-04669d61c061",
        "outputId": "7e47feea-bbf8-4c17-f0c6-b9f2dcb930b9"
      },
      "outputs": [
        {
          "output_type": "execute_result",
          "data": {
            "text/plain": [
              "18670"
            ]
          },
          "metadata": {},
          "execution_count": 3
        }
      ],
      "source": [
        "rmb=pd.read_excel('/content/drive/MyDrive/Documentos personales/9-Documentos Doctorado/Doctorado 2023/11-Web scrapping/data/primera_ronda/v-rmb-abril24.xlsx')\n",
        "len(rmb)"
      ]
    },
    {
      "cell_type": "markdown",
      "id": "b1426c03-b830-4531-99af-506aebec98e3",
      "metadata": {
        "id": "b1426c03-b830-4531-99af-506aebec98e3"
      },
      "source": [
        "Antes de elegir una muestra, voy a eliminar todas aquellos casos que no tienen un enlace válido. El método que voy a usar no es perfecto para los enlaces válidos (es decir, se puede colar algún inválido), pero sí para los inválidos (todos son enlaces que ya no funcionan)."
      ]
    },
    {
      "cell_type": "code",
      "execution_count": null,
      "id": "837c7e17-bab2-48e6-b22c-f6b4574715d3",
      "metadata": {
        "tags": [],
        "id": "837c7e17-bab2-48e6-b22c-f6b4574715d3"
      },
      "outputs": [],
      "source": [
        "# Función para verificar si un enlace es válido\n",
        "def verificar_enlace_valido(link):\n",
        "    try:\n",
        "        # Realizamos una solicitud HEAD al enlace\n",
        "        response = requests.head(link, headers={'user-agent': 'Mozilla/5.0 (Macintosh; Intel Mac OS X 10_15_7) AppleWebKit/537.36 (KHTML, like Gecko) Chrome/124.0.0.0 Safari/537.36'})\n",
        "\n",
        "        # Verificar si el código de estado comienza con '3'\n",
        "        if str(response.status_code).startswith('3'):\n",
        "            return 1  # Enlace inválido\n",
        "        else:\n",
        "            return 0  # Enlace válido\n",
        "    except:\n",
        "        return 1  # En caso de algún error al abrir el enlace, lo marcamos como inválido\n",
        "\n",
        "# Aplicamos la función a la columna 'Link' y guardamos los resultados en una nueva columna 'invalido'\n",
        "rmb['invalido'] = rmb['Link'].apply(verificar_enlace_valido)\n",
        "\n",
        "rmb.to_excel('/content/drive/MyDrive/Documentos personales/9-Documentos Doctorado/Doctorado 2023/7-Clases/SRGVUA/evacal/cuarto_intento/rawdata/v-rmb-abril24-invalidos.xlsx', index=False)"
      ]
    },
    {
      "cell_type": "markdown",
      "source": [
        "Como he guardado el avance en `v-rmb-abril24-invalidos.xlsx`, vuelvo a llamar al archivo para no tener que repetir el proceso."
      ],
      "metadata": {
        "id": "0X3fzBaaiR5B"
      },
      "id": "0X3fzBaaiR5B"
    },
    {
      "cell_type": "code",
      "source": [
        "rmb=pd.read_excel('/content/drive/MyDrive/Documentos personales/9-Documentos Doctorado/Doctorado 2023/7-Clases/SRGVUA/evacal/cuarto_intento/rawdata/v-rmb-abril24-invalidos.xlsx')\n",
        "len(rmb)"
      ],
      "metadata": {
        "colab": {
          "base_uri": "https://localhost:8080/"
        },
        "id": "5krTFodvUe7d",
        "outputId": "f47b0bec-b48c-4008-a7c5-5cbd05e25601"
      },
      "id": "5krTFodvUe7d",
      "execution_count": 4,
      "outputs": [
        {
          "output_type": "execute_result",
          "data": {
            "text/plain": [
              "18670"
            ]
          },
          "metadata": {},
          "execution_count": 4
        }
      ]
    },
    {
      "cell_type": "markdown",
      "id": "eb1854cb-4c1c-4210-81f2-06119c3af5f4",
      "metadata": {
        "id": "eb1854cb-4c1c-4210-81f2-06119c3af5f4"
      },
      "source": [
        "¿Cuántos son inválidos?"
      ]
    },
    {
      "cell_type": "code",
      "execution_count": 5,
      "id": "d7283a14-0036-4c09-9f41-cf922c129189",
      "metadata": {
        "colab": {
          "base_uri": "https://localhost:8080/"
        },
        "id": "d7283a14-0036-4c09-9f41-cf922c129189",
        "outputId": "9732b312-5039-4026-a1f1-83779f3badca"
      },
      "outputs": [
        {
          "output_type": "execute_result",
          "data": {
            "text/plain": [
              "72"
            ]
          },
          "metadata": {},
          "execution_count": 5
        }
      ],
      "source": [
        "len(rmb[rmb['invalido']==1])"
      ]
    },
    {
      "cell_type": "markdown",
      "id": "573392df-a7d3-4264-a974-d6ae8b8a40e0",
      "metadata": {
        "id": "573392df-a7d3-4264-a974-d6ae8b8a40e0"
      },
      "source": [
        "Ahora el dataframe lo dejo sólo con las observaciones válidas y procedo a elegir una muestra por quintil de ingreso."
      ]
    },
    {
      "cell_type": "code",
      "execution_count": 6,
      "id": "bf3e676b-41e6-4b38-bb69-1b357ea5980e",
      "metadata": {
        "colab": {
          "base_uri": "https://localhost:8080/"
        },
        "id": "bf3e676b-41e6-4b38-bb69-1b357ea5980e",
        "outputId": "2ef58ba9-b72a-4549-f062-1ad85bd98420"
      },
      "outputs": [
        {
          "output_type": "stream",
          "name": "stderr",
          "text": [
            "<ipython-input-6-9d19da11d5a4>:2: SettingWithCopyWarning: \n",
            "A value is trying to be set on a copy of a slice from a DataFrame.\n",
            "Try using .loc[row_indexer,col_indexer] = value instead\n",
            "\n",
            "See the caveats in the documentation: https://pandas.pydata.org/pandas-docs/stable/user_guide/indexing.html#returning-a-view-versus-a-copy\n",
            "  df['qprecio'] = pd.qcut(df['precio_euros'], 5, labels=False)\n"
          ]
        },
        {
          "output_type": "execute_result",
          "data": {
            "text/plain": [
              "18598"
            ]
          },
          "metadata": {},
          "execution_count": 6
        }
      ],
      "source": [
        "df=rmb[rmb['invalido']==0]\n",
        "df['qprecio'] = pd.qcut(df['precio_euros'], 5, labels=False)\n",
        "len(df)"
      ]
    },
    {
      "cell_type": "code",
      "source": [
        "df.to_excel('/content/drive/MyDrive/Documentos personales/9-Documentos Doctorado/Doctorado 2023/7-Clases/SRGVUA/evacal/cuarto_intento/v-rmb-abril24-validos.xlsx', index=False)"
      ],
      "metadata": {
        "id": "dCpszF2agTz2"
      },
      "id": "dCpszF2agTz2",
      "execution_count": 51,
      "outputs": []
    },
    {
      "cell_type": "markdown",
      "source": [
        "Lo que reviso al exportar es que hay 18 casos que no tienen ubicación (info en `Lon_X` y `Lat_Y`)."
      ],
      "metadata": {
        "id": "x2z5to2KiDXc"
      },
      "id": "x2z5to2KiDXc"
    },
    {
      "cell_type": "markdown",
      "id": "4cdf5177-3a19-4471-b407-38da064a33fe",
      "metadata": {
        "id": "4cdf5177-3a19-4471-b407-38da064a33fe"
      },
      "source": [
        "Reviso la cantidad de casos por cada quintil."
      ]
    },
    {
      "cell_type": "code",
      "execution_count": 7,
      "id": "186d43a7-1e63-47bf-9fe4-adfab23e1e42",
      "metadata": {
        "colab": {
          "base_uri": "https://localhost:8080/"
        },
        "id": "186d43a7-1e63-47bf-9fe4-adfab23e1e42",
        "outputId": "f36d0899-6a29-444d-c6d9-5e822e01fb7f"
      },
      "outputs": [
        {
          "output_type": "stream",
          "name": "stdout",
          "text": [
            "3728\n",
            "3711\n",
            "3720\n",
            "3728\n",
            "3711\n"
          ]
        }
      ],
      "source": [
        "print(len(df[df['qprecio']==0]))\n",
        "print(len(df[df['qprecio']==1]))\n",
        "print(len(df[df['qprecio']==2]))\n",
        "print(len(df[df['qprecio']==3]))\n",
        "print(len(df[df['qprecio']==4]))"
      ]
    },
    {
      "cell_type": "markdown",
      "source": [
        "Ahora voy a añadir el dataframe de municipios de España para que cada punto embeba el municipio al que pertenece."
      ],
      "metadata": {
        "id": "086riR23_AR8"
      },
      "id": "086riR23_AR8"
    },
    {
      "cell_type": "code",
      "source": [
        "geomun=gpd.read_file('/content/drive/MyDrive/Datos/españa/vectores/MUNICIPOS-ESPAÑA-31N.gpkg')\n",
        "\n",
        "# Convertir el DataFrame a un GeoDataFrame\n",
        "geometry = [Point(lon, lat) for lon, lat in zip(df['Lon_X'], df['Lat_Y'])]\n",
        "crs = 'epsg:4326'  # Definir sistema de coordenadas WGS84\n",
        "gdf_puntos = gpd.GeoDataFrame(df, crs=crs, geometry=geometry)\n",
        "gdf_puntos = gdf_puntos.to_crs(epsg=32631)"
      ],
      "metadata": {
        "id": "eAoFIIss_F8f"
      },
      "id": "eAoFIIss_F8f",
      "execution_count": 8,
      "outputs": []
    },
    {
      "cell_type": "code",
      "source": [
        "print(geomun.crs)\n",
        "print(gdf_puntos.crs)"
      ],
      "metadata": {
        "colab": {
          "base_uri": "https://localhost:8080/"
        },
        "id": "EpyIrSeUU7sl",
        "outputId": "8955bd05-c9b0-4a3d-e363-1eab445ba818"
      },
      "id": "EpyIrSeUU7sl",
      "execution_count": 9,
      "outputs": [
        {
          "output_type": "stream",
          "name": "stdout",
          "text": [
            "EPSG:32631\n",
            "EPSG:32631\n"
          ]
        }
      ]
    },
    {
      "cell_type": "code",
      "source": [
        "print(geomun.columns.tolist())"
      ],
      "metadata": {
        "colab": {
          "base_uri": "https://localhost:8080/"
        },
        "id": "5D9ycI_tCfl5",
        "outputId": "6283e6c4-a40d-4505-8d38-132c6f14b73e"
      },
      "id": "5D9ycI_tCfl5",
      "execution_count": null,
      "outputs": [
        {
          "output_type": "stream",
          "name": "stdout",
          "text": [
            "['INSPIREID', 'COUNTRY', 'NATLEV', 'NATLEVNAME', 'NATCODE', 'NAMEUNIT', 'CODNUT1', 'CODNUT2', 'CODNUT3', 'geometry']\n"
          ]
        }
      ]
    },
    {
      "cell_type": "code",
      "source": [
        "gdf_rmb = gpd.sjoin(gdf_puntos, geomun[['NAMEUNIT','geometry']], how='inner', predicate='intersects')\n",
        "gdf_rmb=gdf_rmb.drop(['geometry','index_right'],axis=1)\n",
        "\n",
        "len(gdf_rmb)"
      ],
      "metadata": {
        "colab": {
          "base_uri": "https://localhost:8080/"
        },
        "id": "980OYchz_GEX",
        "outputId": "70c4807c-970c-42fa-f987-66edce8c6762"
      },
      "id": "980OYchz_GEX",
      "execution_count": 10,
      "outputs": [
        {
          "output_type": "execute_result",
          "data": {
            "text/plain": [
              "18580"
            ]
          },
          "metadata": {},
          "execution_count": 10
        }
      ]
    },
    {
      "cell_type": "markdown",
      "source": [
        "Hay 18 observaciones menos que en `df` debido a que esas no tenían información de su ubicación."
      ],
      "metadata": {
        "id": "CyQ2e-flioxa"
      },
      "id": "CyQ2e-flioxa"
    },
    {
      "cell_type": "code",
      "source": [
        "print(gdf_rmb.columns.tolist())"
      ],
      "metadata": {
        "colab": {
          "base_uri": "https://localhost:8080/"
        },
        "id": "cHFk8TXN_GGq",
        "outputId": "f928d987-f3d1-42c2-eac4-e152d4042d8f"
      },
      "id": "cHFk8TXN_GGq",
      "execution_count": 11,
      "outputs": [
        {
          "output_type": "stream",
          "name": "stdout",
          "text": [
            "['Unnamed: 0', 'ID', 'Title', 'Link', 'precio_euros', 'codigo_inmueble', 'Description', 'last_mod', 'dummy_indice', 'indice_alquiler', 'area', 'n_rooms', 'price_m2', 'n_baths', 'n_aseo', 'laundry', 'buhardilla', 'despacho', 'trastero', 'terrace', 'kwhm2_year', 'kgCO2m2_year', 'dummy_consum_EPC', 'dummy_emission_EPC', 'consum_A', 'consum_B', 'consum_C', 'consum_D', 'consum_E', 'consum_F', 'consum_G', 'emission_A', 'emission_B', 'emission_C', 'emission_D', 'emission_E', 'emission_F', 'emission_G', 'AC', 'parking', 'pool', 'lift', 'furniture', 'public_transp', 'barrio', 'codigo_inmueble_numero', 'Lat_Y', 'Lon_X', 'multifam', 'atico', 'duplex', 'estudio', 'loft', 'piso', 'triplex', 'invalido', 'qprecio', 'NAMEUNIT']\n"
          ]
        }
      ]
    },
    {
      "cell_type": "code",
      "source": [
        "gdf_rmb.rename(columns={'NAMEUNIT':'MUN'}, inplace=True)"
      ],
      "metadata": {
        "id": "OGNe-sxpVke0"
      },
      "id": "OGNe-sxpVke0",
      "execution_count": 19,
      "outputs": []
    },
    {
      "cell_type": "markdown",
      "source": [
        "Ahora voy a crear una columna que identifique el quintil por municipio."
      ],
      "metadata": {
        "id": "NgXHe-ncyhbX"
      },
      "id": "NgXHe-ncyhbX"
    },
    {
      "cell_type": "markdown",
      "id": "78819bf1-e788-4c41-a242-12bf6afc8564",
      "metadata": {
        "id": "78819bf1-e788-4c41-a242-12bf6afc8564"
      },
      "source": [
        "Ahora voy a calcular una muestra sobre el total de `df`, pero quiero darle mayor peso a las observaciones de los quintiles más bajos debido a que la evaluación previa que he hecho (`tercer_intento` y `orden_tercer_intento`) me ha hecho darme cuenta que las peores características (*contemporaneidad*, *estado*, entre otras) están infrarepresentadas.\n",
        "\n",
        "Este muestreo se hace por municipio (por eso el `groupby`), y se considera lo siguiente: Si el municipio tiene diez o menos observaciones, se mantienen todas (ya no es necesaria una muestra); si tiene más de diez observaciones: siempre respetar el muestreo estratificado con base en `porcentajes_quintiles`, pero considerando que como mínimo haya una observación por quintil.\n",
        "\n",
        "Vale la pena tener en cuenta que los valores de `porcentajes_quintiles` los he ido ajustando hasta tener una muestra de aproximadamente 3000 observaciones. Dado el tiempo que resta del Seminario, consideramos necesario no sobrepasar ese límite."
      ]
    },
    {
      "cell_type": "code",
      "execution_count": 67,
      "id": "e7251d29-5dd4-4f33-bb95-f375c374cea7",
      "metadata": {
        "id": "e7251d29-5dd4-4f33-bb95-f375c374cea7"
      },
      "outputs": [],
      "source": [
        "# Define los porcentajes deseados para cada quintil\n",
        "porcentajes_quintiles = [0.05, 0.03, 0.03, 0.02, 0.015]\n",
        "\n",
        "def muestreo_estratificado_por_municipio(df):\n",
        "    muestra_estratificada = pd.DataFrame()\n",
        "    for municipio, df_municipio in df.groupby('MUN'):\n",
        "        if len(df_municipio) <= 10:\n",
        "            # Si el municipio tiene 10 o menos observaciones, se agregan todas al DataFrame de muestra\n",
        "            muestra_estratificada = pd.concat([muestra_estratificada, df_municipio])\n",
        "        else:\n",
        "            # Calcula los quintiles para el municipio actual\n",
        "            df_municipio['qprecio_municipio'] = pd.qcut(df_municipio['precio_euros'], 5, labels=False, duplicates='drop')\n",
        "            # Calcula el tamaño mínimo de muestra deseado para cada quintil dentro del municipio (1 observación por quintil)\n",
        "            tamano_muestra_minimo = [1] * 5\n",
        "            # Calcula el tamaño de muestra deseado para cada quintil dentro del municipio\n",
        "            tamano_muestra_por_quintil_municipio = [\n",
        "                max(tamano_muestra_minimo[q], int(len(df_municipio) * p)) for q, p in enumerate(porcentajes_quintiles)]\n",
        "            for quintil, tamano_muestra in zip(range(5), tamano_muestra_por_quintil_municipio):\n",
        "                # Filtra el DataFrame del municipio para el quintil actual\n",
        "                df_quintil = df_municipio[df_municipio['qprecio_municipio'] == quintil]\n",
        "                # Calcula el tamaño de muestra real para este quintil dentro del municipio\n",
        "                tamano_quintil_real = len(df_quintil)\n",
        "                # Ajusta el tamaño de muestra si es mayor que el tamaño real del quintil dentro del municipio\n",
        "                tamano_muestra_actual = min(tamano_muestra, tamano_quintil_real)\n",
        "                # Muestrea el quintil dentro del municipio según el tamaño deseado\n",
        "                muestra_quintil = df_quintil.sample(tamano_muestra_actual, random_state=42)\n",
        "                # Agrega la muestra del quintil al DataFrame final\n",
        "                muestra_estratificada = pd.concat([muestra_estratificada, muestra_quintil])\n",
        "            # Agrega las observaciones restantes (si las hay) para asegurar que cada quintil tenga al menos una observación\n",
        "            for quintil in range(5):\n",
        "                df_quintil = df_municipio[df_municipio['qprecio_municipio'] == quintil]\n",
        "                if len(df_quintil) > tamano_muestra_por_quintil_municipio[quintil]:\n",
        "                    muestra_estratificada = pd.concat([muestra_estratificada, df_quintil.sample(1)])\n",
        "    # Reinicia el índice\n",
        "    muestra_estratificada.reset_index(drop=True, inplace=True)\n",
        "    return muestra_estratificada\n",
        "\n",
        "# Aplica la función a tu DataFrame\n",
        "muestra_rmb = muestreo_estratificado_por_municipio(gdf_rmb)"
      ]
    },
    {
      "cell_type": "markdown",
      "id": "7eb50e03-aba2-436e-aaed-c1ae8e136f35",
      "metadata": {
        "id": "7eb50e03-aba2-436e-aaed-c1ae8e136f35"
      },
      "source": [
        "Reviso cuántas observaciones hay por quintil en la muestra."
      ]
    },
    {
      "cell_type": "code",
      "execution_count": 68,
      "id": "e8bfc51a-6c47-4bd9-9eb5-7086e16cc546",
      "metadata": {
        "colab": {
          "base_uri": "https://localhost:8080/"
        },
        "id": "e8bfc51a-6c47-4bd9-9eb5-7086e16cc546",
        "outputId": "41140382-5b2d-4892-ba00-d2995a5cb25b"
      },
      "outputs": [
        {
          "output_type": "stream",
          "name": "stdout",
          "text": [
            "917\n",
            "771\n",
            "667\n",
            "539\n",
            "412\n",
            "3306\n"
          ]
        }
      ],
      "source": [
        "print(len(muestra_rmb[muestra_rmb['qprecio']==0]))\n",
        "print(len(muestra_rmb[muestra_rmb['qprecio']==1]))\n",
        "print(len(muestra_rmb[muestra_rmb['qprecio']==2]))\n",
        "print(len(muestra_rmb[muestra_rmb['qprecio']==3]))\n",
        "print(len(muestra_rmb[muestra_rmb['qprecio']==4]))\n",
        "\n",
        "print(len(muestra_rmb))"
      ]
    },
    {
      "cell_type": "code",
      "execution_count": 69,
      "id": "877aaa24-4d04-4930-9bd6-382a5db8efe9",
      "metadata": {
        "colab": {
          "base_uri": "https://localhost:8080/",
          "height": 806
        },
        "id": "877aaa24-4d04-4930-9bd6-382a5db8efe9",
        "outputId": "1714cacb-1a53-4b38-f068-0f3a4e51687c"
      },
      "outputs": [
        {
          "output_type": "display_data",
          "data": {
            "text/plain": [
              "<Figure size 1200x800 with 4 Axes>"
            ],
            "image/png": "[encoded data removed]"
          },
          "metadata": {}
        }
      ],
      "source": [
        "# Crear subgráficos para mostrar los histogramas\n",
        "fig, axs = plt.subplots(2, 2, figsize=(12, 8))\n",
        "\n",
        "# Definir los límites y la separación del eje x\n",
        "x_min = 0\n",
        "x_max = 2000000\n",
        "bin_width = 20000\n",
        "num_bins = int((x_max - x_min) / bin_width)\n",
        "\n",
        "# Histograma de los datos originales de amb\n",
        "axs[0, 0].hist(df['precio_euros'], bins=np.arange(x_min, x_max + bin_width, bin_width), color='blue', alpha=0.5, label='Original')\n",
        "axs[0, 0].set_title('Distribución de precios en RMB (Original)')\n",
        "axs[0, 0].legend()\n",
        "\n",
        "# Histograma de los datos de la muestra de amb\n",
        "axs[0, 1].hist(muestra_rmb['precio_euros'], bins=np.arange(x_min, x_max + bin_width, bin_width), color='green', alpha=0.5, label='Muestra')\n",
        "axs[0, 1].set_title('Distribución de precios en RMB (Muestra)')\n",
        "axs[0, 1].legend()\n",
        "\n",
        "# Eliminar los subgráficos sobrantes\n",
        "axs[1, 0].axis('off')\n",
        "axs[1, 1].axis('off')\n",
        "\n",
        "# Ajustar los límites del eje x\n",
        "for ax in axs.flat:\n",
        "    ax.set_xlim(x_min, x_max)\n",
        "\n",
        "plt.tight_layout()\n",
        "plt.show()"
      ]
    },
    {
      "cell_type": "markdown",
      "id": "e00e70d2-7da7-4c2d-9fc5-6a9bbed1a4e7",
      "metadata": {
        "id": "e00e70d2-7da7-4c2d-9fc5-6a9bbed1a4e7"
      },
      "source": [
        "Inicialmente, conversamos con Carlos sobre la posibilidad de incluir pisos de Madrid. <mark>Me parece necesario que en este caso sólo tengamos evaluaciones sobre la RMB</mark> debido a dos motivos:\n",
        "1. Calidad arquitectónica no tendría por qué cambiar drásticamente de una ciudad hacia otra.\n",
        "2. Para mantener registro histórico de evaluación (2020, 2023, 2024)."
      ]
    },
    {
      "cell_type": "markdown",
      "id": "d2df54b5-c7cd-4aed-9ff7-a1e7899cf870",
      "metadata": {
        "id": "d2df54b5-c7cd-4aed-9ff7-a1e7899cf870"
      },
      "source": [
        "Exporto para luego hacer reparto por estudiante."
      ]
    },
    {
      "cell_type": "code",
      "execution_count": 70,
      "id": "0af6c240-1902-4426-a2a4-c4e16fe53780",
      "metadata": {
        "id": "0af6c240-1902-4426-a2a4-c4e16fe53780"
      },
      "outputs": [],
      "source": [
        "muestra_rmb.to_excel('/content/drive/MyDrive/Documentos personales/9-Documentos Doctorado/Doctorado 2023/7-Clases/SRGVUA/evacal/cuarto_intento/rawdata/v-muestra_rmb-abril24.xlsx', index=False)"
      ]
    }
  ],
  "metadata": {
    "kernelspec": {
      "display_name": "Python 3",
      "name": "python3"
    },
    "language_info": {
      "codemirror_mode": {
        "name": "ipython",
        "version": 3
      },
      "file_extension": ".py",
      "mimetype": "text/x-python",
      "name": "python",
      "nbconvert_exporter": "python",
      "pygments_lexer": "ipython3",
      "version": "3.11.5"
    },
    "colab": {
      "provenance": [],
      "gpuType": "T4",
      "include_colab_link": true
    },
    "accelerator": "GPU"
  },
  "nbformat": 4,
  "nbformat_minor": 5
}