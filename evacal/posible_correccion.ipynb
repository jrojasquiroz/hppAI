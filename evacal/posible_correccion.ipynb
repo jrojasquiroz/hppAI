{
  "nbformat": 4,
  "nbformat_minor": 0,
  "metadata": {
    "colab": {
      "provenance": [],
      "authorship_tag": "ABX9TyOpDBXKUy//I8Zzdh5ECMTV",
      "include_colab_link": true
    },
    "kernelspec": {
      "name": "python3",
      "display_name": "Python 3"
    },
    "language_info": {
      "name": "python"
    }
  },
  "cells": [
    {
      "cell_type": "markdown",
      "metadata": {
        "id": "view-in-github",
        "colab_type": "text"
      },
      "source": [
        "<a href=\"https://colab.research.google.com/github/jrojasquiroz/hppAI/blob/main/evacal/posible_correccion.ipynb\" target=\"_parent\"><img src=\"https://colab.research.google.com/assets/colab-badge.svg\" alt=\"Open In Colab\"/></a>"
      ]
    },
    {
      "cell_type": "markdown",
      "metadata": {
        "id": "2385ce0e-1e04-4e99-96bb-42044c9ccd85"
      },
      "source": [
        "\n",
        "En este cuaderno me dedico a corregir la base de datos original que le dimos a los chicos del Seminario (`v-muestra_rmb-abril24-responsables`). En ella hay observaciones que tienen pisos *okupados* y por tanto sin fotos.\n",
        "\n",
        "Voy a reemplazarlas por otras ofertas."
      ]
    },
    {
      "cell_type": "code",
      "source": [
        "from google.colab import drive\n",
        "drive.mount('/content/drive/')"
      ],
      "metadata": {
        "colab": {
          "base_uri": "https://localhost:8080/"
        },
        "id": "zdJmLKsxqGtr",
        "outputId": "3a3448c3-38f2-413c-8a83-8438ef09f806"
      },
      "execution_count": 2,
      "outputs": [
        {
          "output_type": "stream",
          "name": "stdout",
          "text": [
            "Drive already mounted at /content/drive/; to attempt to forcibly remount, call drive.mount(\"/content/drive/\", force_remount=True).\n"
          ]
        }
      ]
    },
    {
      "cell_type": "markdown",
      "source": [
        "## Verificación de enlaces"
      ],
      "metadata": {
        "id": "vWVM0kx8FslV"
      }
    },
    {
      "cell_type": "markdown",
      "source": [
        "Dado que el corte inicial fue el 13 de mayo, hoy 22 de mayo volveré a revisar los enlaces inválidos para quitarlos de la base de datos original."
      ],
      "metadata": {
        "id": "OrXXZjCwFv-2"
      }
    },
    {
      "cell_type": "code",
      "execution_count": 3,
      "metadata": {
        "tags": [],
        "id": "a452b5d6-2717-42a4-a5b0-2807d5461f9b"
      },
      "outputs": [],
      "source": [
        "import pandas as pd\n",
        "import numpy as np\n",
        "import geopandas as gpd\n",
        "import matplotlib.pyplot as plt\n",
        "import requests\n",
        "from urllib.parse import urlparse\n",
        "import geopandas as gpd\n",
        "from shapely.geometry import Point\n",
        "import re"
      ]
    },
    {
      "cell_type": "code",
      "execution_count": null,
      "metadata": {
        "tags": [],
        "colab": {
          "base_uri": "https://localhost:8080/"
        },
        "id": "ea8659c5-0eb1-48db-b6e6-04669d61c061",
        "outputId": "e041f713-a795-4b01-bf77-20d49c620287"
      },
      "outputs": [
        {
          "output_type": "execute_result",
          "data": {
            "text/plain": [
              "24688"
            ]
          },
          "metadata": {},
          "execution_count": 3
        }
      ],
      "source": [
        "rmb=pd.read_excel('/content/drive/MyDrive/Documentos personales/9-Documentos Doctorado/Doctorado 2023/11-Web scrapping/data/primera_ronda/v-rmb-abril24.xlsx', sheet_name='Sheet1')\n",
        "len(rmb)"
      ]
    },
    {
      "cell_type": "markdown",
      "source": [
        "Le voy a hacer un filtro de precios, dado que he visto casos con `precio_euros` 0, 1 y de hasta 1800."
      ],
      "metadata": {
        "id": "1AJ-jFyljYw1"
      }
    },
    {
      "cell_type": "code",
      "source": [
        "rmb=rmb[rmb['precio_euros']>10000]\n",
        "len(rmb)"
      ],
      "metadata": {
        "colab": {
          "base_uri": "https://localhost:8080/"
        },
        "id": "8rI9FVBWje9I",
        "outputId": "ded4ff10-c8e3-4879-9211-5b66c2ceb3c0"
      },
      "execution_count": null,
      "outputs": [
        {
          "output_type": "execute_result",
          "data": {
            "text/plain": [
              "24688"
            ]
          },
          "metadata": {},
          "execution_count": 4
        }
      ]
    },
    {
      "cell_type": "markdown",
      "metadata": {
        "id": "b1426c03-b830-4531-99af-506aebec98e3"
      },
      "source": [
        "Antes de elegir una muestra, voy a eliminar todas aquellos casos que no tienen un enlace válido. El método que voy a usar no es perfecto para los enlaces válidos (es decir, se puede colar algún inválido), pero sí para los inválidos (todos son enlaces que ya no funcionan)."
      ]
    },
    {
      "cell_type": "code",
      "execution_count": null,
      "metadata": {
        "tags": [],
        "id": "837c7e17-bab2-48e6-b22c-f6b4574715d3"
      },
      "outputs": [],
      "source": [
        "# Función para verificar si un enlace es válido\n",
        "def verificar_enlace_valido(link):\n",
        "    try:\n",
        "        # Realizamos una solicitud HEAD al enlace\n",
        "        response = requests.head(link, headers={'user-agent': 'Mozilla/5.0 (Macintosh; Intel Mac OS X 10_15_7) AppleWebKit/537.36 (KHTML, like Gecko) Chrome/124.0.0.0 Safari/537.36'})\n",
        "\n",
        "        # Verificar si el código de estado comienza con '3'\n",
        "        if str(response.status_code).startswith('3'):\n",
        "            return 1  # Enlace inválido\n",
        "        else:\n",
        "            return 0  # Enlace válido\n",
        "    except:\n",
        "        return 1  # En caso de algún error al abrir el enlace, lo marcamos como inválido\n",
        "\n",
        "# Aplicamos la función a la columna 'Link' y guardamos los resultados en una nueva columna 'invalido'\n",
        "rmb['invalido'] = rmb['Link'].apply(verificar_enlace_valido) #Con corte al 22 de mayo\n",
        "\n",
        "rmb.to_excel('/content/drive/MyDrive/Documentos personales/9-Documentos Doctorado/Doctorado 2023/7-Clases/SRGVUA/evacal/cuarto_intento/rawdata/1-v-rmb-abril24-invalidos-v2.xlsx', index=False)"
      ]
    },
    {
      "cell_type": "markdown",
      "source": [
        "Como he guardado el avance en `v-rmb-abril24-invalidos.xlsx`, vuelvo a llamar al archivo para no tener que repetir el proceso."
      ],
      "metadata": {
        "id": "0X3fzBaaiR5B"
      }
    },
    {
      "cell_type": "code",
      "source": [
        "rmb=pd.read_excel('/content/drive/MyDrive/Documentos personales/9-Documentos Doctorado/Doctorado 2023/7-Clases/SRGVUA/evacal/cuarto_intento/rawdata/1-v-rmb-abril24-invalidos-v2.xlsx')\n",
        "len(rmb)"
      ],
      "metadata": {
        "colab": {
          "base_uri": "https://localhost:8080/"
        },
        "id": "5krTFodvUe7d",
        "outputId": "def820cb-8dd6-45b9-bf3c-49eaaef869c2"
      },
      "execution_count": null,
      "outputs": [
        {
          "output_type": "execute_result",
          "data": {
            "text/plain": [
              "24688"
            ]
          },
          "metadata": {},
          "execution_count": 6
        }
      ]
    },
    {
      "cell_type": "markdown",
      "metadata": {
        "id": "eb1854cb-4c1c-4210-81f2-06119c3af5f4"
      },
      "source": [
        "¿Cuántos son inválidos?"
      ]
    },
    {
      "cell_type": "code",
      "execution_count": null,
      "metadata": {
        "colab": {
          "base_uri": "https://localhost:8080/"
        },
        "id": "d7283a14-0036-4c09-9f41-cf922c129189",
        "outputId": "d66590a5-d567-49b0-9112-930f841bea33"
      },
      "outputs": [
        {
          "output_type": "execute_result",
          "data": {
            "text/plain": [
              "57"
            ]
          },
          "metadata": {},
          "execution_count": 7
        }
      ],
      "source": [
        "len(rmb[rmb['invalido']==1])"
      ]
    },
    {
      "cell_type": "markdown",
      "metadata": {
        "id": "573392df-a7d3-4264-a974-d6ae8b8a40e0"
      },
      "source": [
        "Ahora el dataframe lo dejo sólo con las observaciones válidas."
      ]
    },
    {
      "cell_type": "code",
      "execution_count": null,
      "metadata": {
        "colab": {
          "base_uri": "https://localhost:8080/"
        },
        "id": "bf3e676b-41e6-4b38-bb69-1b357ea5980e",
        "outputId": "17c49248-fab1-4a0d-9638-289bef6779dd"
      },
      "outputs": [
        {
          "output_type": "execute_result",
          "data": {
            "text/plain": [
              "24631"
            ]
          },
          "metadata": {},
          "execution_count": 8
        }
      ],
      "source": [
        "df=rmb[rmb['invalido']==0]\n",
        "len(df)"
      ]
    },
    {
      "cell_type": "markdown",
      "source": [
        "## Verificación de pisos *okupados*"
      ],
      "metadata": {
        "id": "AcXVT2z9F5Vt"
      }
    },
    {
      "cell_type": "markdown",
      "source": [
        "Ya había hecho esto antes, pero ahora añado algunas palabras clave más."
      ],
      "metadata": {
        "id": "XfPgZRWuF7qW"
      }
    },
    {
      "cell_type": "code",
      "source": [
        "keywords = [\n",
        "    'ocupado', 'piso ocupado', 'sin justo título', 'no admite visitas',\n",
        "    'ocupa', 'okupa', 'no se puede ver interiormente', 'no se puede ver', 'con inquilinos',\n",
        "    'ilegalmente', 'ilegal', 'situación ocupacional', 'posesión', 'procedimiento judicial', 'judicial',\n",
        "    'judicialmente'\n",
        "]\n",
        "\n",
        "# Función para detectar palabras clave en la descripción\n",
        "def detect_keywords(description):\n",
        "    description_lower = description.lower()\n",
        "    for keyword in keywords:\n",
        "        # Usar una expresión regular para detectar la palabra clave\n",
        "        if re.search(r'\\b' + re.escape(keyword) + r'\\b', description_lower):\n",
        "            return 1\n",
        "    return 0\n",
        "\n",
        "# Crear la nueva columna 'prob_sin_foto' usando la función anterior\n",
        "df['prob_sin_foto'] = df['Description'].apply(detect_keywords)"
      ],
      "metadata": {
        "colab": {
          "base_uri": "https://localhost:8080/"
        },
        "id": "QyQZvGIzipUh",
        "outputId": "fa44ad6b-b6f6-4483-e72c-2e85491321cd"
      },
      "execution_count": null,
      "outputs": [
        {
          "output_type": "stream",
          "name": "stderr",
          "text": [
            "<ipython-input-9-78dd05086781>:18: SettingWithCopyWarning: \n",
            "A value is trying to be set on a copy of a slice from a DataFrame.\n",
            "Try using .loc[row_indexer,col_indexer] = value instead\n",
            "\n",
            "See the caveats in the documentation: https://pandas.pydata.org/pandas-docs/stable/user_guide/indexing.html#returning-a-view-versus-a-copy\n",
            "  df['prob_sin_foto'] = df['Description'].apply(detect_keywords)\n"
          ]
        }
      ]
    },
    {
      "cell_type": "code",
      "source": [
        "len(df[df['prob_sin_foto']==1])"
      ],
      "metadata": {
        "colab": {
          "base_uri": "https://localhost:8080/"
        },
        "id": "oSchLKbQjy2v",
        "outputId": "df48fac2-91bc-458a-c4a1-90add8052183"
      },
      "execution_count": null,
      "outputs": [
        {
          "output_type": "execute_result",
          "data": {
            "text/plain": [
              "1879"
            ]
          },
          "metadata": {},
          "execution_count": 10
        }
      ]
    },
    {
      "cell_type": "markdown",
      "source": [
        "Y procedo a explorar los quintiles de ingreso."
      ],
      "metadata": {
        "id": "0WaJZcQ_jDqa"
      }
    },
    {
      "cell_type": "code",
      "source": [
        "df=df[df['prob_sin_foto']==0]\n",
        "df['qprecio'] = pd.qcut(df['precio_euros'], 5, labels=False)"
      ],
      "metadata": {
        "colab": {
          "base_uri": "https://localhost:8080/"
        },
        "id": "vsTWEgqEj9dG",
        "outputId": "97628589-c706-4ced-ff42-51cd564a716b"
      },
      "execution_count": null,
      "outputs": [
        {
          "output_type": "stream",
          "name": "stderr",
          "text": [
            "<ipython-input-11-14a15170a0ea>:2: SettingWithCopyWarning: \n",
            "A value is trying to be set on a copy of a slice from a DataFrame.\n",
            "Try using .loc[row_indexer,col_indexer] = value instead\n",
            "\n",
            "See the caveats in the documentation: https://pandas.pydata.org/pandas-docs/stable/user_guide/indexing.html#returning-a-view-versus-a-copy\n",
            "  df['qprecio'] = pd.qcut(df['precio_euros'], 5, labels=False)\n"
          ]
        }
      ]
    },
    {
      "cell_type": "code",
      "source": [
        "len(df)"
      ],
      "metadata": {
        "colab": {
          "base_uri": "https://localhost:8080/"
        },
        "id": "TTH9X6x0kdDx",
        "outputId": "0ea6fdce-ee69-4054-a52c-dd1513764f57"
      },
      "execution_count": null,
      "outputs": [
        {
          "output_type": "execute_result",
          "data": {
            "text/plain": [
              "22752"
            ]
          },
          "metadata": {},
          "execution_count": 12
        }
      ]
    },
    {
      "cell_type": "markdown",
      "source": [
        "## Calculo quintiles a nivel general"
      ],
      "metadata": {
        "id": "fmao-MZmGBSY"
      }
    },
    {
      "cell_type": "markdown",
      "metadata": {
        "id": "4cdf5177-3a19-4471-b407-38da064a33fe"
      },
      "source": [
        "Reviso la cantidad de casos por cada quintil."
      ]
    },
    {
      "cell_type": "code",
      "execution_count": null,
      "metadata": {
        "colab": {
          "base_uri": "https://localhost:8080/"
        },
        "id": "186d43a7-1e63-47bf-9fe4-adfab23e1e42",
        "outputId": "afb94765-b833-4a9b-b381-6c608517fdd9"
      },
      "outputs": [
        {
          "output_type": "stream",
          "name": "stdout",
          "text": [
            "4599\n",
            "4519\n",
            "4574\n",
            "4509\n",
            "4551\n"
          ]
        }
      ],
      "source": [
        "print(len(df[df['qprecio']==0]))\n",
        "print(len(df[df['qprecio']==1]))\n",
        "print(len(df[df['qprecio']==2]))\n",
        "print(len(df[df['qprecio']==3]))\n",
        "print(len(df[df['qprecio']==4]))"
      ]
    },
    {
      "cell_type": "markdown",
      "source": [
        "Ahora voy a añadir el dataframe de municipios de España para que cada punto embeba el municipio al que pertenece."
      ],
      "metadata": {
        "id": "086riR23_AR8"
      }
    },
    {
      "cell_type": "code",
      "source": [
        "geomun=gpd.read_file('/content/drive/MyDrive/Datos/españa/vectores/MUNICIPOS-ESPAÑA-31N.gpkg')\n",
        "\n",
        "# Convertir el DataFrame a un GeoDataFrame\n",
        "geometry = [Point(lon, lat) for lon, lat in zip(df['Lon_X'], df['Lat_Y'])]\n",
        "crs = 'epsg:4326'  # Definir sistema de coordenadas WGS84\n",
        "gdf_puntos = gpd.GeoDataFrame(df, crs=crs, geometry=geometry)\n",
        "gdf_puntos = gdf_puntos.to_crs(epsg=32631)"
      ],
      "metadata": {
        "id": "eAoFIIss_F8f"
      },
      "execution_count": null,
      "outputs": []
    },
    {
      "cell_type": "code",
      "source": [
        "print(geomun.crs)\n",
        "print(gdf_puntos.crs)"
      ],
      "metadata": {
        "colab": {
          "base_uri": "https://localhost:8080/"
        },
        "id": "EpyIrSeUU7sl",
        "outputId": "9571369a-33d0-4473-e1b2-73c723922eb5"
      },
      "execution_count": null,
      "outputs": [
        {
          "output_type": "stream",
          "name": "stdout",
          "text": [
            "EPSG:32631\n",
            "EPSG:32631\n"
          ]
        }
      ]
    },
    {
      "cell_type": "code",
      "source": [
        "print(geomun.columns.tolist())"
      ],
      "metadata": {
        "colab": {
          "base_uri": "https://localhost:8080/"
        },
        "id": "5D9ycI_tCfl5",
        "outputId": "8ccebae7-ee0e-43f8-d066-63349d5fe9cb"
      },
      "execution_count": null,
      "outputs": [
        {
          "output_type": "stream",
          "name": "stdout",
          "text": [
            "['INSPIREID', 'COUNTRY', 'NATLEV', 'NATLEVNAME', 'NATCODE', 'NAMEUNIT', 'CODNUT1', 'CODNUT2', 'CODNUT3', 'geometry']\n"
          ]
        }
      ]
    },
    {
      "cell_type": "code",
      "source": [
        "gdf_rmb = gpd.sjoin(gdf_puntos, geomun[['NAMEUNIT','geometry']], how='inner', predicate='intersects')\n",
        "gdf_rmb=gdf_rmb.drop(['geometry','index_right'],axis=1)\n",
        "\n",
        "len(gdf_rmb)"
      ],
      "metadata": {
        "colab": {
          "base_uri": "https://localhost:8080/"
        },
        "id": "980OYchz_GEX",
        "outputId": "e213d4f9-858b-4570-d574-aeddaaf015d9"
      },
      "execution_count": null,
      "outputs": [
        {
          "output_type": "execute_result",
          "data": {
            "text/plain": [
              "22718"
            ]
          },
          "metadata": {},
          "execution_count": 17
        }
      ]
    },
    {
      "cell_type": "code",
      "source": [
        "22752-22718"
      ],
      "metadata": {
        "colab": {
          "base_uri": "https://localhost:8080/"
        },
        "id": "d6K7UVn70_kg",
        "outputId": "b7d831ac-b9f8-4c79-fdd2-5c95e696c71e"
      },
      "execution_count": null,
      "outputs": [
        {
          "output_type": "execute_result",
          "data": {
            "text/plain": [
              "34"
            ]
          },
          "metadata": {},
          "execution_count": 18
        }
      ]
    },
    {
      "cell_type": "markdown",
      "source": [
        "Hay 34 observaciones menos que en `df` debido a que esas no tenían información de su ubicación."
      ],
      "metadata": {
        "id": "CyQ2e-flioxa"
      }
    },
    {
      "cell_type": "code",
      "source": [
        "print(gdf_rmb.columns.tolist())"
      ],
      "metadata": {
        "colab": {
          "base_uri": "https://localhost:8080/"
        },
        "id": "cHFk8TXN_GGq",
        "outputId": "1a2f9fa2-9b2d-40c5-db33-e604c28a031b"
      },
      "execution_count": null,
      "outputs": [
        {
          "output_type": "stream",
          "name": "stdout",
          "text": [
            "['ID', 'Title', 'Link', 'precio_euros', 'codigo_inmueble', 'Description', 'last_mod', 'dummy_indice', 'indice_alquiler', 'area', 'n_rooms', 'price_m2', 'n_baths', 'n_aseo', 'laundry', 'buhardilla', 'despacho', 'trastero', 'terrace', 'kwhm2_year', 'kgCO2m2_year', 'dummy_consum_EPC', 'dummy_emission_EPC', 'consum_A', 'consum_B', 'consum_C', 'consum_D', 'consum_E', 'consum_F', 'consum_G', 'emission_A', 'emission_B', 'emission_C', 'emission_D', 'emission_E', 'emission_F', 'emission_G', 'AC', 'parking', 'pool', 'lift', 'furniture', 'public_transp', 'barrio', 'codigo_inmueble_numero', 'Lat_Y', 'Lon_X', 'multifam', 'atico', 'duplex', 'estudio', 'loft', 'piso', 'triplex', 'invalido', 'prob_sin_foto', 'qprecio', 'NAMEUNIT']\n"
          ]
        }
      ]
    },
    {
      "cell_type": "code",
      "source": [
        "gdf_rmb.rename(columns={'NAMEUNIT':'MUN'}, inplace=True)"
      ],
      "metadata": {
        "id": "OGNe-sxpVke0"
      },
      "execution_count": null,
      "outputs": []
    },
    {
      "cell_type": "markdown",
      "source": [
        "`gdf_rmb` es el base sobre la cual se calcula la muestra; es decir, el universo de nuestros datos. La exporto para tenerla a la mano."
      ],
      "metadata": {
        "id": "E1BeyUWf0-MF"
      }
    },
    {
      "cell_type": "markdown",
      "source": [
        "## Calculo quintiles por municipio"
      ],
      "metadata": {
        "id": "ddTg3LQDGFIF"
      }
    },
    {
      "cell_type": "code",
      "source": [
        "def calcular_quintiles_por_municipio(df):\n",
        "    for municipio, df_municipio in df.groupby('MUN'):\n",
        "        if len(df_municipio) > 10:\n",
        "            # Calcula los quintiles para el municipio actual\n",
        "            df.loc[df['MUN'] == municipio, 'qprecio_municipio'] = pd.qcut(df_municipio['precio_euros'], 5, labels=False, duplicates='drop')\n",
        "        else:\n",
        "            # Si el municipio tiene 10 o menos observaciones, asigna pd.NA a los quintiles\n",
        "            df.loc[df['MUN'] == municipio, 'qprecio_municipio'] = pd.NA\n",
        "    return df\n",
        "\n",
        "# Aplica la función a tu DataFrame\n",
        "gdf_rmb = calcular_quintiles_por_municipio(gdf_rmb)"
      ],
      "metadata": {
        "id": "7aS9wk5hFKHZ"
      },
      "execution_count": 9,
      "outputs": []
    },
    {
      "cell_type": "code",
      "source": [
        "gdf_rmb.to_excel('/content/drive/MyDrive/Documentos personales/9-Documentos Doctorado/Doctorado 2023/7-Clases/SRGVUA/evacal/cuarto_intento/rawdata/2-v-universo_rmb-abril24-v2.xlsx', index=False)"
      ],
      "metadata": {
        "id": "WBMvxkhq1O2E"
      },
      "execution_count": 10,
      "outputs": []
    },
    {
      "cell_type": "markdown",
      "source": [
        "# Revisión del dataframe"
      ],
      "metadata": {
        "id": "kmArHCcyGSCX"
      }
    },
    {
      "cell_type": "markdown",
      "source": [
        "Si las columnas de calidad ( `C_contempo`, `C_estado`, ...) están vacías, revisar (1) que el link siga siendo válido y (2) que la descripción no haga referencia a un piso okupado.\n",
        "\n",
        "Todos aquellos casos que no cumplan esas dos condiciones serán reemplazados por alguna otra observación del mismo `MUN` y del mismo `qprecio_municipio`."
      ],
      "metadata": {
        "id": "ntYDuirdGZ0r"
      }
    },
    {
      "cell_type": "code",
      "source": [
        "muestra=pd.read_excel('/content/drive/MyDrive/Documentos personales/9-Documentos Doctorado/Doctorado 2023/7-Clases/SRGVUA/evacal/cuarto_intento/data/v-muestra_rmb-abril24-responsables.xlsx')\n",
        "print(muestra.columns.tolist())"
      ],
      "metadata": {
        "colab": {
          "base_uri": "https://localhost:8080/"
        },
        "id": "9o1_Mef-GpMB",
        "outputId": "fbbc4cd6-1fec-4483-f5c8-cb20d81b512b"
      },
      "execution_count": 15,
      "outputs": [
        {
          "output_type": "stream",
          "name": "stdout",
          "text": [
            "['ID', 'Title', 'Link', 'precio_euros', 'codigo_inmueble', 'Description', 'last_mod', 'dummy_indice', 'indice_alquiler', 'area', 'n_rooms', 'price_m2', 'n_baths', 'n_aseo', 'laundry', 'buhardilla', 'despacho', 'trastero', 'terrace', 'kwhm2_year', 'kgCO2m2_year', 'dummy_consum_EPC', 'dummy_emission_EPC', 'consum_A', 'consum_B', 'consum_C', 'consum_D', 'consum_E', 'consum_F', 'consum_G', 'emission_A', 'emission_B', 'emission_C', 'emission_D', 'emission_E', 'emission_F', 'emission_G', 'AC', 'parking', 'pool', 'lift', 'furniture', 'public_transp', 'barrio', 'codigo_inmueble_numero', 'Lat_Y', 'Lon_X', 'multifam', 'atico', 'duplex', 'estudio', 'loft', 'piso', 'triplex', 'invalido', 'prob_sin_foto', 'qprecio', 'MUN', 'qprecio_municipio', 'C_contempo', 'C_estado', 'C_armarios', 'B_contempo', 'B_estado', 'B_lavamano', 'R_contempo', 'R_estado', 'R_carpinteria', 'R_singular', 'R_ventana', 'dumi_precio_reduccion', 'Precio_reduccion', 'Anuncio_invalido', 'Responsable', 'REV']\n"
          ]
        }
      ]
    },
    {
      "cell_type": "code",
      "source": [
        "# Función para verificar si un enlace es válido\n",
        "def verificar_enlace_valido(link):\n",
        "    try:\n",
        "        # Realizamos una solicitud HEAD al enlace\n",
        "        response = requests.head(link, headers={'user-agent': 'Mozilla/5.0 (Macintosh; Intel Mac OS X 10_15_7) AppleWebKit/537.36 (KHTML, like Gecko) Chrome/124.0.0.0 Safari/537.36'})\n",
        "        # Verificar si el código de estado comienza con '3'\n",
        "        if str(response.status_code).startswith('3'):\n",
        "            return 1  # Enlace inválido\n",
        "        else:\n",
        "            return 0  # Enlace válido\n",
        "    except:\n",
        "        return 1  # En caso de algún error al abrir el enlace, lo marcamos como inválido\n",
        "\n",
        "# Columnas a verificar para NaNs\n",
        "columnas_verificar = [\n",
        "    'C_estado', 'C_armarios', 'B_contempo', 'B_estado',\n",
        "    'B_lavamano', 'R_contempo', 'R_estado', 'R_carpinteria', 'R_singular',\n",
        "    'R_ventana', 'dumi_precio_reduccion', 'Precio_reduccion', 'Anuncio_invalido', 'REV'\n",
        "]\n",
        "\n",
        "# Filtrar los casos con NaNs en las columnas especificadas\n",
        "casos_con_nans = muestra[muestra[columnas_verificar].isna().all(axis=1)]\n",
        "\n",
        "# Aplicar la función de verificación de enlaces y actualizar la columna 'invalido'\n",
        "muestra.loc[casos_con_nans.index, 'invalido'] = casos_con_nans.apply(lambda row: verificar_enlace_valido(row['Link']), axis=1)\n",
        "\n",
        "# Asegurar que los valores de 'invalido' sean enteros\n",
        "muestra['invalido'] = muestra['invalido'].astype(int)"
      ],
      "metadata": {
        "id": "Z0gUxVN6I5MU"
      },
      "execution_count": 16,
      "outputs": []
    },
    {
      "cell_type": "markdown",
      "source": [
        "Ojo: no estoy considerando `C_contempo` porque tiene relleno un espacio en blanco en todas las filas."
      ],
      "metadata": {
        "id": "glKZC_ncNRWu"
      }
    },
    {
      "cell_type": "code",
      "source": [
        "# Lista de palabras clave\n",
        "keywords = [\n",
        "    'ocupado', 'piso ocupado', 'sin justo título', 'no admite visitas',\n",
        "    'ocupa', 'okupa', 'no se puede ver interiormente', 'no se puede ver', 'con inquilinos',\n",
        "    'ilegalmente', 'ilegal', 'situación ocupacional', 'posesión', 'procedimiento judicial', 'judicial',\n",
        "    'judicialmente'\n",
        "]\n",
        "\n",
        "# Función para detectar palabras clave en la descripción\n",
        "def detect_keywords(description):\n",
        "    if pd.isna(description):\n",
        "        return 0\n",
        "    description_lower = description.lower()\n",
        "    for keyword in keywords:\n",
        "        if re.search(r'\\b' + re.escape(keyword) + r'\\b', description_lower):\n",
        "            return 1\n",
        "    return 0\n",
        "\n",
        "# Columnas a verificar para NaNs\n",
        "columnas_verificar = [\n",
        "    'C_estado', 'C_armarios', 'B_contempo', 'B_estado',\n",
        "    'B_lavamano', 'R_contempo', 'R_estado', 'R_carpinteria', 'R_singular',\n",
        "    'R_ventana', 'dumi_precio_reduccion', 'Precio_reduccion', 'Anuncio_invalido', 'REV'\n",
        "]\n",
        "\n",
        "# Filtrar los casos con NaNs en las columnas especificadas\n",
        "casos_con_nans = muestra[muestra[columnas_verificar].isna().all(axis=1)]\n",
        "\n",
        "# Aplicar la función detect_keywords y actualizar la columna 'prob_sin_foto'\n",
        "muestra.loc[casos_con_nans.index, 'prob_sin_foto'] = casos_con_nans['Description'].apply(detect_keywords)\n",
        "\n",
        "# Asegurar que los valores de 'prob_sin_foto' sean enteros\n",
        "muestra['prob_sin_foto'] = muestra['prob_sin_foto'].astype(int)"
      ],
      "metadata": {
        "id": "dU-vb3JkJ9Kn"
      },
      "execution_count": 17,
      "outputs": []
    },
    {
      "cell_type": "code",
      "source": [
        "len(muestra)"
      ],
      "metadata": {
        "colab": {
          "base_uri": "https://localhost:8080/"
        },
        "id": "o42VVMjSK52_",
        "outputId": "5c79c453-f82f-4273-b18c-59f6407a9b10"
      },
      "execution_count": 18,
      "outputs": [
        {
          "output_type": "execute_result",
          "data": {
            "text/plain": [
              "3456"
            ]
          },
          "metadata": {},
          "execution_count": 18
        }
      ]
    },
    {
      "cell_type": "code",
      "source": [
        "muestra.to_excel('/content/drive/MyDrive/Documentos personales/9-Documentos Doctorado/Doctorado 2023/7-Clases/SRGVUA/evacal/cuarto_intento/data/v-muestra_rmb-abril24-responsables-v2.xlsx',index=False)"
      ],
      "metadata": {
        "id": "sOF8u13iLdLx"
      },
      "execution_count": 19,
      "outputs": []
    },
    {
      "cell_type": "markdown",
      "source": [
        "Al final veo que sólo ha reconcido 35 casos nuevos como `prob_sin_foto`==1. Me parece que no vale la pena hacer el cambio de base de datos. Lo dejo aquí."
      ],
      "metadata": {
        "id": "iVuTxh5RQwGg"
      }
    },
    {
      "cell_type": "markdown",
      "source": [
        "Importo `gdf_rmb` porque de ahí sacaré los datos para reemplazar en `muestra`."
      ],
      "metadata": {
        "id": "9BqrYySpLWtm"
      }
    },
    {
      "cell_type": "code",
      "source": [
        "gdf_rmb=pd.read_excel('/content/drive/MyDrive/Documentos personales/9-Documentos Doctorado/Doctorado 2023/7-Clases/SRGVUA/evacal/cuarto_intento/rawdata/2-v-universo_rmb-abril24-v2.xlsx')"
      ],
      "metadata": {
        "id": "wLPvVSAwLEnr"
      },
      "execution_count": 8,
      "outputs": []
    }
  ]
}