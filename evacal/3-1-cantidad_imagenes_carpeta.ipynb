{
  "nbformat": 4,
  "nbformat_minor": 0,
  "metadata": {
    "colab": {
      "provenance": [],
      "authorship_tag": "ABX9TyOBDYeS81rgPI6u7pvqVqtL",
      "include_colab_link": true
    },
    "kernelspec": {
      "name": "python3",
      "display_name": "Python 3"
    },
    "language_info": {
      "name": "python"
    }
  },
  "cells": [
    {
      "cell_type": "markdown",
      "metadata": {
        "id": "view-in-github",
        "colab_type": "text"
      },
      "source": [
        "<a href=\"https://colab.research.google.com/github/jrojasquiroz/hppAI/blob/main/evacal/0-cantidad_imagenes_carpeta.ipynb\" target=\"_parent\"><img src=\"https://colab.research.google.com/assets/colab-badge.svg\" alt=\"Open In Colab\"/></a>"
      ]
    },
    {
      "cell_type": "code",
      "execution_count": null,
      "metadata": {
        "colab": {
          "base_uri": "https://localhost:8080/"
        },
        "id": "Wx3xnd2OiZ78",
        "outputId": "d8f6b042-6775-4c1b-ba9e-14722614d164"
      },
      "outputs": [
        {
          "output_type": "stream",
          "name": "stdout",
          "text": [
            "Mounted at /content/drive\n"
          ]
        }
      ],
      "source": [
        "from google.colab import drive\n",
        "drive.mount('/content/drive')"
      ]
    },
    {
      "cell_type": "code",
      "source": [
        "import os"
      ],
      "metadata": {
        "id": "hwWUwW_-jJFD"
      },
      "execution_count": null,
      "outputs": []
    },
    {
      "cell_type": "code",
      "source": [
        "def contar_imagenes(ruta_base):\n",
        "    total_imagenes = 0\n",
        "\n",
        "    # Recorrer todas las carpetas y subcarpetas en ruta_base\n",
        "    for root, dirs, files in os.walk(ruta_base):\n",
        "        for file in files:\n",
        "            # Verificar si el archivo es una imagen (jpg o png)\n",
        "            if file.endswith('.jpg') or file.endswith('.png'):\n",
        "                total_imagenes += 1\n",
        "\n",
        "    return total_imagenes"
      ],
      "metadata": {
        "id": "U5tS3ltxjBrD"
      },
      "execution_count": null,
      "outputs": []
    },
    {
      "cell_type": "markdown",
      "source": [
        "# `B_contempo`"
      ],
      "metadata": {
        "id": "WFODY6sIkeer"
      }
    },
    {
      "cell_type": "code",
      "source": [
        "# Ruta base para las imágenes\n",
        "base_path = \"/content/drive/MyDrive/Documentos personales/9-Documentos Doctorado/Doctorado 2023/7-Clases/SRGVUA/evacal/orden_cuarto_intento/B_contempo\"\n",
        "\n",
        "# Listas de categorías\n",
        "categorias = ['0', '1', '2', '3']\n",
        "tipos = ['train', 'test']\n",
        "\n",
        "# Generar las rutas y contar imágenes\n",
        "for tipo in tipos:\n",
        "    for categoria in categorias:\n",
        "        path = f\"{base_path}/{tipo}/{categoria}\"\n",
        "        num_imagenes = contar_imagenes(path)\n",
        "        print(f\"En *{tipo}* categoría *{categoria}* hay '{num_imagenes}' imagenes\")"
      ],
      "metadata": {
        "colab": {
          "base_uri": "https://localhost:8080/"
        },
        "id": "R8_eEGCtkTe2",
        "outputId": "fd3f4477-e060-4c9d-dba8-a75c933cfba7"
      },
      "execution_count": null,
      "outputs": [
        {
          "output_type": "stream",
          "name": "stdout",
          "text": [
            "En *train* categoría *0* hay '428' imagenes\n",
            "En *train* categoría *1* hay '314' imagenes\n",
            "En *train* categoría *2* hay '50' imagenes\n",
            "En *train* categoría *3* hay '38' imagenes\n",
            "En *test* categoría *0* hay '107' imagenes\n",
            "En *test* categoría *1* hay '78' imagenes\n",
            "En *test* categoría *2* hay '12' imagenes\n",
            "En *test* categoría *3* hay '9' imagenes\n"
          ]
        }
      ]
    },
    {
      "cell_type": "markdown",
      "source": [
        "# `B_estado`"
      ],
      "metadata": {
        "id": "cJ3Ek1cQkg0g"
      }
    },
    {
      "cell_type": "code",
      "source": [
        "# Ruta base para las imágenes\n",
        "base_path = \"/content/drive/MyDrive/Documentos personales/9-Documentos Doctorado/Doctorado 2023/7-Clases/SRGVUA/evacal/orden_cuarto_intento/B_estado\"\n",
        "\n",
        "# Listas de categorías\n",
        "categorias = ['0', '1', '2']\n",
        "tipos = ['train', 'test']\n",
        "\n",
        "# Generar las rutas y contar imágenes\n",
        "for tipo in tipos:\n",
        "    for categoria in categorias:\n",
        "        path = f\"{base_path}/{tipo}/{categoria}\"\n",
        "        num_imagenes = contar_imagenes(path)\n",
        "        print(f\"En *{tipo}* categoría *{categoria}* hay '{num_imagenes}' imagenes\")"
      ],
      "metadata": {
        "colab": {
          "base_uri": "https://localhost:8080/"
        },
        "id": "R8l8U33qkibG",
        "outputId": "a0919db7-fbca-4678-dd61-830f0384fc1a"
      },
      "execution_count": null,
      "outputs": [
        {
          "output_type": "stream",
          "name": "stdout",
          "text": [
            "En *train* categoría *0* hay '135' imagenes\n",
            "En *train* categoría *1* hay '414' imagenes\n",
            "En *train* categoría *2* hay '276' imagenes\n",
            "En *test* categoría *0* hay '33' imagenes\n",
            "En *test* categoría *1* hay '103' imagenes\n",
            "En *test* categoría *2* hay '69' imagenes\n"
          ]
        }
      ]
    },
    {
      "cell_type": "markdown",
      "source": [
        "# `B_lavamano`"
      ],
      "metadata": {
        "id": "SABCO7SPkp6t"
      }
    },
    {
      "cell_type": "code",
      "source": [
        "# Ruta base para las imágenes\n",
        "base_path = \"/content/drive/MyDrive/Documentos personales/9-Documentos Doctorado/Doctorado 2023/7-Clases/SRGVUA/evacal/orden_cuarto_intento/B_lavamano\"\n",
        "\n",
        "# Listas de categorías\n",
        "categorias = ['0', '1']\n",
        "tipos = ['train', 'test']\n",
        "\n",
        "# Generar las rutas y contar imágenes\n",
        "for tipo in tipos:\n",
        "    for categoria in categorias:\n",
        "        path = f\"{base_path}/{tipo}/{categoria}\"\n",
        "        num_imagenes = contar_imagenes(path)\n",
        "        print(f\"En *{tipo}* categoría *{categoria}* hay '{num_imagenes}' imagenes\")"
      ],
      "metadata": {
        "colab": {
          "base_uri": "https://localhost:8080/"
        },
        "id": "Quab_APEkriB",
        "outputId": "bbb5bf4d-fcc0-4cc8-9029-b352efd880e8"
      },
      "execution_count": null,
      "outputs": [
        {
          "output_type": "stream",
          "name": "stdout",
          "text": [
            "En *train* categoría *0* hay '371' imagenes\n",
            "En *train* categoría *1* hay '407' imagenes\n",
            "En *test* categoría *0* hay '93' imagenes\n",
            "En *test* categoría *1* hay '73' imagenes\n"
          ]
        }
      ]
    },
    {
      "cell_type": "markdown",
      "source": [
        "# `C_contempo`"
      ],
      "metadata": {
        "id": "VD1p7_qTkySs"
      }
    },
    {
      "cell_type": "code",
      "source": [
        "# Ruta base para las imágenes\n",
        "base_path = \"/content/drive/MyDrive/Documentos personales/9-Documentos Doctorado/Doctorado 2023/7-Clases/SRGVUA/evacal/orden_cuarto_intento/C_contempo\"\n",
        "\n",
        "# Listas de categorías\n",
        "categorias = ['0', '1', '2', '3']\n",
        "tipos = ['train', 'test']\n",
        "\n",
        "# Generar las rutas y contar imágenes\n",
        "for tipo in tipos:\n",
        "    for categoria in categorias:\n",
        "        path = f\"{base_path}/{tipo}/{categoria}\"\n",
        "        num_imagenes = contar_imagenes(path)\n",
        "        print(f\"En *{tipo}* categoría *{categoria}* hay '{num_imagenes}' imagenes\")"
      ],
      "metadata": {
        "colab": {
          "base_uri": "https://localhost:8080/"
        },
        "id": "LJnCdso4k0ku",
        "outputId": "bce6a2e7-6f02-47d2-981b-58c0737f6ddf"
      },
      "execution_count": null,
      "outputs": [
        {
          "output_type": "stream",
          "name": "stdout",
          "text": [
            "En *train* categoría *0* hay '394' imagenes\n",
            "En *train* categoría *1* hay '321' imagenes\n",
            "En *train* categoría *2* hay '78' imagenes\n",
            "En *train* categoría *3* hay '44' imagenes\n",
            "En *test* categoría *0* hay '99' imagenes\n",
            "En *test* categoría *1* hay '80' imagenes\n",
            "En *test* categoría *2* hay '18' imagenes\n",
            "En *test* categoría *3* hay '10' imagenes\n"
          ]
        }
      ]
    },
    {
      "cell_type": "markdown",
      "source": [
        "# `C_estado`"
      ],
      "metadata": {
        "id": "XaP6pYjNk8ZA"
      }
    },
    {
      "cell_type": "code",
      "source": [
        "# Ruta base para las imágenes\n",
        "base_path = \"/content/drive/MyDrive/Documentos personales/9-Documentos Doctorado/Doctorado 2023/7-Clases/SRGVUA/evacal/orden_cuarto_intento/C_estado\"\n",
        "\n",
        "# Listas de categorías\n",
        "categorias = ['0', '1', '2']\n",
        "tipos = ['train', 'test']\n",
        "\n",
        "# Generar las rutas y contar imágenes\n",
        "for tipo in tipos:\n",
        "    for categoria in categorias:\n",
        "        path = f\"{base_path}/{tipo}/{categoria}\"\n",
        "        num_imagenes = contar_imagenes(path)\n",
        "        print(f\"En *{tipo}* categoría *{categoria}* hay '{num_imagenes}' imagenes\")"
      ],
      "metadata": {
        "colab": {
          "base_uri": "https://localhost:8080/"
        },
        "id": "M5XB9cNfk91c",
        "outputId": "7ba515db-47a2-455e-9a37-c5667ed49508"
      },
      "execution_count": null,
      "outputs": [
        {
          "output_type": "stream",
          "name": "stdout",
          "text": [
            "En *train* categoría *0* hay '139' imagenes\n",
            "En *train* categoría *1* hay '409' imagenes\n",
            "En *train* categoría *2* hay '294' imagenes\n",
            "En *test* categoría *0* hay '35' imagenes\n",
            "En *test* categoría *1* hay '102' imagenes\n",
            "En *test* categoría *2* hay '74' imagenes\n"
          ]
        }
      ]
    },
    {
      "cell_type": "markdown",
      "source": [
        "# `C_armarios`"
      ],
      "metadata": {
        "id": "dXJlmV4ZlE7l"
      }
    },
    {
      "cell_type": "code",
      "source": [
        "# Ruta base para las imágenes\n",
        "base_path = \"/content/drive/MyDrive/Documentos personales/9-Documentos Doctorado/Doctorado 2023/7-Clases/SRGVUA/evacal/orden_cuarto_intento/C_armarios\"\n",
        "\n",
        "# Listas de categorías\n",
        "categorias = ['0', '1']\n",
        "tipos = ['train', 'test']\n",
        "\n",
        "# Generar las rutas y contar imágenes\n",
        "for tipo in tipos:\n",
        "    for categoria in categorias:\n",
        "        path = f\"{base_path}/{tipo}/{categoria}\"\n",
        "        num_imagenes = contar_imagenes(path)\n",
        "        print(f\"En *{tipo}* categoría *{categoria}* hay '{num_imagenes}' imagenes\")"
      ],
      "metadata": {
        "colab": {
          "base_uri": "https://localhost:8080/"
        },
        "id": "BY2Lr_d9lG_s",
        "outputId": "f08ddeff-8247-4cd3-94a5-d589377c3750"
      },
      "execution_count": null,
      "outputs": [
        {
          "output_type": "stream",
          "name": "stdout",
          "text": [
            "En *train* categoría *0* hay '181' imagenes\n",
            "En *train* categoría *1* hay '548' imagenes\n",
            "En *test* categoría *0* hay '46' imagenes\n",
            "En *test* categoría *1* hay '136' imagenes\n"
          ]
        }
      ]
    },
    {
      "cell_type": "markdown",
      "source": [
        "A partir de <mark>aquí</mark> la división ya empieza a arreglarse."
      ],
      "metadata": {
        "id": "Rw80uZOGlewF"
      }
    },
    {
      "cell_type": "markdown",
      "source": [
        "# `R_contempo`"
      ],
      "metadata": {
        "id": "LEQZJhdRlORz"
      }
    },
    {
      "cell_type": "code",
      "source": [
        "# Ruta base para las imágenes\n",
        "base_path = \"/content/drive/MyDrive/Documentos personales/9-Documentos Doctorado/Doctorado 2023/7-Clases/SRGVUA/evacal/orden_cuarto_intento/R_contempo\"\n",
        "\n",
        "# Listas de categorías\n",
        "categorias = ['0', '1', '2', '3']\n",
        "tipos = ['train', 'test']\n",
        "\n",
        "# Generar las rutas y contar imágenes\n",
        "for tipo in tipos:\n",
        "    for categoria in categorias:\n",
        "        path = f\"{base_path}/{tipo}/{categoria}\"\n",
        "        num_imagenes = contar_imagenes(path)\n",
        "        print(f\"En *{tipo}* categoría *{categoria}* hay '{num_imagenes}' imagenes\")"
      ],
      "metadata": {
        "colab": {
          "base_uri": "https://localhost:8080/"
        },
        "id": "k3tAsM4SlP2T",
        "outputId": "9640c9bf-3699-44e1-8906-a234c86f879b"
      },
      "execution_count": null,
      "outputs": [
        {
          "output_type": "stream",
          "name": "stdout",
          "text": [
            "En *train* categoría *0* hay '988' imagenes\n",
            "En *train* categoría *1* hay '665' imagenes\n",
            "En *train* categoría *2* hay '236' imagenes\n",
            "En *train* categoría *3* hay '111' imagenes\n",
            "En *test* categoría *0* hay '246' imagenes\n",
            "En *test* categoría *1* hay '166' imagenes\n",
            "En *test* categoría *2* hay '59' imagenes\n",
            "En *test* categoría *3* hay '27' imagenes\n"
          ]
        }
      ]
    },
    {
      "cell_type": "markdown",
      "source": [
        "# `R_estado`"
      ],
      "metadata": {
        "id": "xlX2RaySlk7d"
      }
    },
    {
      "cell_type": "code",
      "source": [
        "# Ruta base para las imágenes\n",
        "base_path = \"/content/drive/MyDrive/Documentos personales/9-Documentos Doctorado/Doctorado 2023/7-Clases/SRGVUA/evacal/orden_cuarto_intento/R_estado\"\n",
        "\n",
        "# Listas de categorías\n",
        "categorias = ['0', '1', '2']\n",
        "tipos = ['train', 'test']\n",
        "\n",
        "# Generar las rutas y contar imágenes\n",
        "for tipo in tipos:\n",
        "    for categoria in categorias:\n",
        "        path = f\"{base_path}/{tipo}/{categoria}\"\n",
        "        num_imagenes = contar_imagenes(path)\n",
        "        print(f\"En *{tipo}* categoría *{categoria}* hay '{num_imagenes}' imagenes\")"
      ],
      "metadata": {
        "colab": {
          "base_uri": "https://localhost:8080/"
        },
        "id": "YSzGDlj3lmuT",
        "outputId": "53bdf5b1-bf9f-4141-8bf3-91b166705b62"
      },
      "execution_count": null,
      "outputs": [
        {
          "output_type": "stream",
          "name": "stdout",
          "text": [
            "En *train* categoría *0* hay '376' imagenes\n",
            "En *train* categoría *1* hay '1011' imagenes\n",
            "En *train* categoría *2* hay '552' imagenes\n",
            "En *test* categoría *0* hay '94' imagenes\n",
            "En *test* categoría *1* hay '252' imagenes\n",
            "En *test* categoría *2* hay '137' imagenes\n"
          ]
        }
      ]
    },
    {
      "cell_type": "markdown",
      "source": [
        "# `R_singular`"
      ],
      "metadata": {
        "id": "4Q3AFzHoltUt"
      }
    },
    {
      "cell_type": "code",
      "source": [
        "# Ruta base para las imágenes\n",
        "base_path = \"/content/drive/MyDrive/Documentos personales/9-Documentos Doctorado/Doctorado 2023/7-Clases/SRGVUA/evacal/orden_cuarto_intento/R_singular\"\n",
        "\n",
        "# Listas de categorías\n",
        "categorias = ['0', '1']\n",
        "tipos = ['train', 'test']\n",
        "\n",
        "# Generar las rutas y contar imágenes\n",
        "for tipo in tipos:\n",
        "    for categoria in categorias:\n",
        "        path = f\"{base_path}/{tipo}/{categoria}\"\n",
        "        num_imagenes = contar_imagenes(path)\n",
        "        print(f\"En *{tipo}* categoría *{categoria}* hay '{num_imagenes}' imagenes\")"
      ],
      "metadata": {
        "colab": {
          "base_uri": "https://localhost:8080/"
        },
        "id": "Tuw11VRRlvnM",
        "outputId": "9f8ce997-40a4-4a1d-de4e-bbfe134678d9"
      },
      "execution_count": null,
      "outputs": [
        {
          "output_type": "stream",
          "name": "stdout",
          "text": [
            "En *train* categoría *0* hay '1376' imagenes\n",
            "En *train* categoría *1* hay '311' imagenes\n",
            "En *test* categoría *0* hay '344' imagenes\n",
            "En *test* categoría *1* hay '77' imagenes\n"
          ]
        }
      ]
    },
    {
      "cell_type": "markdown",
      "source": [
        "# `R_ventana`"
      ],
      "metadata": {
        "id": "bWyHtoAXl01X"
      }
    },
    {
      "cell_type": "code",
      "source": [
        "# Ruta base para las imágenes\n",
        "base_path = \"/content/drive/MyDrive/Documentos personales/9-Documentos Doctorado/Doctorado 2023/7-Clases/SRGVUA/evacal/orden_cuarto_intento/R_ventana\"\n",
        "\n",
        "# Listas de categorías\n",
        "categorias = ['0', '1']\n",
        "tipos = ['train', 'test']\n",
        "\n",
        "# Generar las rutas y contar imágenes\n",
        "for tipo in tipos:\n",
        "    for categoria in categorias:\n",
        "        path = f\"{base_path}/{tipo}/{categoria}\"\n",
        "        num_imagenes = contar_imagenes(path)\n",
        "        print(f\"En *{tipo}* categoría *{categoria}* hay '{num_imagenes}' imagenes\")"
      ],
      "metadata": {
        "colab": {
          "base_uri": "https://localhost:8080/"
        },
        "id": "PLtH2ybjl3sD",
        "outputId": "671a8f9d-6d09-4232-fd46-0a547e5b7144"
      },
      "execution_count": null,
      "outputs": [
        {
          "output_type": "stream",
          "name": "stdout",
          "text": [
            "En *train* categoría *0* hay '936' imagenes\n",
            "En *train* categoría *1* hay '823' imagenes\n",
            "En *test* categoría *0* hay '234' imagenes\n",
            "En *test* categoría *1* hay '205' imagenes\n"
          ]
        }
      ]
    },
    {
      "cell_type": "markdown",
      "source": [
        "# `R_carpinteria`"
      ],
      "metadata": {
        "id": "bT_qVA2fl8ur"
      }
    },
    {
      "cell_type": "code",
      "source": [
        "# Ruta base para las imágenes\n",
        "base_path = \"/content/drive/MyDrive/Documentos personales/9-Documentos Doctorado/Doctorado 2023/7-Clases/SRGVUA/evacal/orden_cuarto_intento/R_carpinteria\"\n",
        "\n",
        "# Listas de categorías\n",
        "categorias = ['0', '1']\n",
        "tipos = ['train', 'test']\n",
        "\n",
        "# Generar las rutas y contar imágenes\n",
        "for tipo in tipos:\n",
        "    for categoria in categorias:\n",
        "        path = f\"{base_path}/{tipo}/{categoria}\"\n",
        "        num_imagenes = contar_imagenes(path)\n",
        "        print(f\"En *{tipo}* categoría *{categoria}* hay '{num_imagenes}' imagenes\")"
      ],
      "metadata": {
        "colab": {
          "base_uri": "https://localhost:8080/"
        },
        "id": "DOTr2iypl-ZB",
        "outputId": "1603ff28-46c0-4c15-9964-477d044564dc"
      },
      "execution_count": null,
      "outputs": [
        {
          "output_type": "stream",
          "name": "stdout",
          "text": [
            "En *train* categoría *0* hay '534' imagenes\n",
            "En *train* categoría *1* hay '1003' imagenes\n",
            "En *test* categoría *0* hay '299' imagenes\n",
            "En *test* categoría *1* hay '395' imagenes\n"
          ]
        }
      ]
    },
    {
      "cell_type": "markdown",
      "source": [
        "# Conclusión"
      ],
      "metadata": {
        "id": "hRE1pGW4oeq7"
      }
    },
    {
      "cell_type": "markdown",
      "source": [
        "Desde `R_contempo` hasta `R_carpinteria` la división entre archivos de entrenamiento y prueba es correcta; en las carpetas anteriores (con excepción de `B_contempo` y `B_estado`), debido a un error en el código, debo rehacerla. Lo haré manualmente para no tardar mucho.\n",
        "\n",
        "Una vez hecho, vuelvo a correr todo el código para estar seguro de que todo se hizo bien."
      ],
      "metadata": {
        "id": "8dqDHQkvnrql"
      }
    }
  ]
}
