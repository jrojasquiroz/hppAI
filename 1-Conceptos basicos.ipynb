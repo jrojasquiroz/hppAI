{
 "cells": [
  {
   "cell_type": "markdown",
   "id": "2548a9c9-1ce6-47f5-ac5c-b941bd30af86",
   "metadata": {
    "tags": []
   },
   "source": [
    "# 1. Conceptos básicos de Python"
   ]
  },
  {
   "cell_type": "markdown",
   "id": "c86aca46-fc64-4231-a350-d24af9061bf9",
   "metadata": {},
   "source": [
    "Como todo lenguaje de programación, Python nos permite comunicarnos con la computadora y pedirle que haga cosas por nosotros. Por ejemplo, podemos pedirle que imprima un texto.\n",
    "\n",
    "Para ejecutar una celda de código deben presionar `Ctrl+Enter`."
   ]
  },
  {
   "cell_type": "code",
   "execution_count": null,
   "id": "bfde861f-b648-470c-b2aa-275aac9ccd88",
   "metadata": {
    "tags": []
   },
   "outputs": [],
   "source": [
    "print (\"¡Hola mundo! Este es mi primer código con Python\")"
   ]
  },
  {
   "cell_type": "code",
   "execution_count": null,
   "id": "7a505d1a-4fc6-481e-b56e-8c06ef89af5c",
   "metadata": {
    "tags": []
   },
   "outputs": [],
   "source": [
    "#Esto, en cambio, es un comentario.\n",
    "#Si ejecutas esta celda de código, Python no hará nada."
   ]
  },
  {
   "cell_type": "markdown",
   "id": "da710804-e465-42c3-a2ae-99e4a1267938",
   "metadata": {},
   "source": [
    "Siempre que uses el `#`, Python ignorará lo que haya en esa línea."
   ]
  },
  {
   "cell_type": "code",
   "execution_count": null,
   "id": "ee703c38-37aa-4504-94e3-71d72810a313",
   "metadata": {
    "tags": []
   },
   "outputs": [],
   "source": [
    "#print(\"El profesor Marmolejo nos deja mucho trabajo.\")\n",
    "print(\"El profesor Marmolejo es muy bueno.\")"
   ]
  },
  {
   "cell_type": "markdown",
   "id": "83adaa98-c569-4f0d-8904-6247fa01724f",
   "metadata": {
    "tags": []
   },
   "source": [
    "## 1.1. Matemática en Python"
   ]
  },
  {
   "cell_type": "markdown",
   "id": "561b9b0a-e30d-4a3f-a03a-55ec4d961369",
   "metadata": {},
   "source": [
    "Python puede funcionar como una calculadora."
   ]
  },
  {
   "cell_type": "code",
   "execution_count": null,
   "id": "d108f2fe-f1a2-4402-8bbb-2a0ecedb0076",
   "metadata": {
    "tags": []
   },
   "outputs": [],
   "source": [
    "1+1"
   ]
  },
  {
   "cell_type": "code",
   "execution_count": null,
   "id": "3a10531e-ec4c-47d1-b5af-e078ee3a8e96",
   "metadata": {
    "tags": []
   },
   "outputs": [],
   "source": [
    "#los espacios no importan\n",
    "2 *    3"
   ]
  },
  {
   "cell_type": "markdown",
   "id": "ed95f2a8-8cbd-4dec-90e9-d20868d79d28",
   "metadata": {
    "tags": []
   },
   "source": [
    "## 1.2. Las variables"
   ]
  },
  {
   "cell_type": "markdown",
   "id": "e4478cb0-0cfd-4a77-825f-35df687e6fbf",
   "metadata": {},
   "source": [
    "No. No estamos hablando de las variables de nuestro modelo de regresión.\n",
    "\n",
    "Python puede almacenar nuestras operaciones en algo que se llaman *variables*. Veamos cómo funcionan.\n"
   ]
  },
  {
   "cell_type": "code",
   "execution_count": null,
   "id": "2cefc565-7237-415d-bb90-0440dc18b24e",
   "metadata": {
    "tags": []
   },
   "outputs": [],
   "source": [
    "x=10"
   ]
  },
  {
   "cell_type": "code",
   "execution_count": null,
   "id": "7070b0bf-719c-4da1-bca5-5283860ca681",
   "metadata": {
    "tags": []
   },
   "outputs": [],
   "source": [
    "#Ojo: Python si distingue entre mayúsculas y minúsculas.\n",
    "x"
   ]
  },
  {
   "cell_type": "code",
   "execution_count": null,
   "id": "abcd37e7-9f0d-4d4e-a1b0-09e087cccdec",
   "metadata": {
    "tags": []
   },
   "outputs": [],
   "source": [
    "X"
   ]
  },
  {
   "cell_type": "code",
   "execution_count": null,
   "id": "e188a218-84b5-43d5-a716-7a92c538303a",
   "metadata": {
    "tags": []
   },
   "outputs": [],
   "source": [
    "x*10/3.5"
   ]
  },
  {
   "cell_type": "markdown",
   "id": "bfd00bd9-9f6a-4fa4-bb93-c03e40d961b1",
   "metadata": {},
   "source": [
    "En una misma celda de código puedo almacenar varias variables."
   ]
  },
  {
   "cell_type": "code",
   "execution_count": null,
   "id": "172a3e79-a126-41df-9f09-a6f215be5efb",
   "metadata": {
    "tags": []
   },
   "outputs": [],
   "source": [
    "x=11 #sobrescribo el valor de 'x'\n",
    "y=2\n",
    "z=99\n",
    "#Noten que arriba sólo le estoy pidiendo almacenar datos\n",
    "#en unas variables. No me va a mostrar nada."
   ]
  },
  {
   "cell_type": "code",
   "execution_count": null,
   "id": "360a5eaa-1c73-40d4-a076-3effe397f3b2",
   "metadata": {
    "tags": []
   },
   "outputs": [],
   "source": [
    "#En cambio, para visualizar esa variable, \n",
    "#debo escribir su nombre.\n",
    "x"
   ]
  },
  {
   "cell_type": "code",
   "execution_count": null,
   "id": "66d6163d-5796-4bb3-8706-07481ad1dbcf",
   "metadata": {
    "tags": []
   },
   "outputs": [],
   "source": [
    "#Si escribo una variable encima de otra, sólo\n",
    "#me mostrará la de la última línea de código\n",
    "x\n",
    "z"
   ]
  },
  {
   "cell_type": "code",
   "execution_count": null,
   "id": "6fc6a5a3-45cb-4e75-8d99-d9ef37ed81a5",
   "metadata": {
    "tags": []
   },
   "outputs": [],
   "source": [
    "#Para verlas ambas, debería pedirle que las imprima\n",
    "print(x)\n",
    "print(z)"
   ]
  },
  {
   "cell_type": "code",
   "execution_count": null,
   "id": "aa096722-37d0-4ae3-a104-e4e9d963ccf6",
   "metadata": {
    "tags": []
   },
   "outputs": [],
   "source": [
    "print (z,y)"
   ]
  },
  {
   "cell_type": "markdown",
   "id": "49888ea7-fd3e-402f-b3fb-1112e908f01d",
   "metadata": {
    "tags": []
   },
   "source": [
    "## 1.3. Ayuda"
   ]
  },
  {
   "cell_type": "markdown",
   "id": "9e0ec3d5-b0bd-43e2-8f9f-c5fcc97051a4",
   "metadata": {},
   "source": [
    "Si escuchan de alguna función y no saben cómo actua, pueden preguntarle a Python con un signo de interrogación."
   ]
  },
  {
   "cell_type": "code",
   "execution_count": null,
   "id": "f42e3b75-d5f1-4347-944e-54ca6e823e1e",
   "metadata": {
    "tags": []
   },
   "outputs": [],
   "source": [
    "len?"
   ]
  },
  {
   "cell_type": "markdown",
   "id": "c4e00673-7bcc-4f92-a09c-95549fdf6bbb",
   "metadata": {
    "tags": []
   },
   "source": [
    "Además, presionando la tecla `tab` pueden autocompletar funciones o variables."
   ]
  },
  {
   "cell_type": "code",
   "execution_count": null,
   "id": "f11c0833-477e-4014-a2f7-bae00384e54f",
   "metadata": {
    "tags": []
   },
   "outputs": [],
   "source": [
    "prin"
   ]
  },
  {
   "cell_type": "code",
   "execution_count": null,
   "id": "759a6706-e9b2-4a95-856c-46730d141f6b",
   "metadata": {
    "tags": []
   },
   "outputs": [],
   "source": [
    "numero_de_estudiantes=18"
   ]
  },
  {
   "cell_type": "code",
   "execution_count": null,
   "id": "f9ea956e-816e-4be0-b342-30e22bea4b86",
   "metadata": {},
   "outputs": [],
   "source": [
    "numer"
   ]
  },
  {
   "cell_type": "markdown",
   "id": "e4975ec5-b37f-4059-925a-68df46f7ff2e",
   "metadata": {},
   "source": [
    "¿Qué pasa si obtengo errores?"
   ]
  },
  {
   "cell_type": "code",
   "execution_count": null,
   "id": "b793e9e6-e671-4648-846a-0d046d6472f0",
   "metadata": {
    "tags": []
   },
   "outputs": [],
   "source": [
    "12/0"
   ]
  },
  {
   "cell_type": "markdown",
   "id": "e02c61f4-2d16-4b33-8d7e-f9890f48e8a7",
   "metadata": {},
   "source": [
    "ChatGPT es muy bueno ayudándote a entender los errores y buscar soluciones. Puedes copiar solo parte final (*'**ZeroDivisionError**: division by zero'*) o el código entero (incluyendo el error, la parte señalada en rojo) para que entienda mejor el contexto. Si no te funciona, puedes acudir a StackOverFlow."
   ]
  },
  {
   "cell_type": "markdown",
   "id": "8a85126e-e1f7-43ee-a564-5e3712092da4",
   "metadata": {},
   "source": [
    "## 1.4. Importación de datos"
   ]
  },
  {
   "cell_type": "markdown",
   "id": "37eaa4d6-71f2-4212-9183-cdd50da712c4",
   "metadata": {},
   "source": [
    "¿Les suenan los *plug-ins*? Bueno, Python trabaja con algo similar: **librerías**. Cada una de ellas tiene una función en específico. Una de las más usadas es `pandas`, que sirve para importar datos, manipularlos (por ejemplo, crear nuevas variables a partir de las ya existentes) y exportarlos. "
   ]
  },
  {
   "cell_type": "code",
   "execution_count": null,
   "id": "6de47052-0b8e-4aa8-bda3-12f6440310b2",
   "metadata": {
    "tags": []
   },
   "outputs": [],
   "source": [
    "#si ya la tienen instalada, solo deben poner lo siguiente\n",
    "import pandas as pd #Para no estar escribiendo 'pandas' a cada rato, le \n",
    "                    #indico que quiero que la reconozca cada vez que use 'pd'."
   ]
  },
  {
   "cell_type": "code",
   "execution_count": null,
   "id": "e2d072fb-2544-477c-806d-5e6984cb2405",
   "metadata": {
    "tags": []
   },
   "outputs": [],
   "source": [
    "#Si quisieras instalar la librería\n",
    "#pip import pandas"
   ]
  },
  {
   "cell_type": "code",
   "execution_count": null,
   "id": "aef723a5-a203-4e4a-ab66-5fd41496a7d1",
   "metadata": {
    "tags": []
   },
   "outputs": [],
   "source": [
    "pd.read_csv('rawdata/HousingPrices.csv')"
   ]
  },
  {
   "cell_type": "markdown",
   "id": "65118078-2f6a-4c79-9ad6-07f33c812a72",
   "metadata": {},
   "source": [
    "Usualmente se recomienda que los datos importados sean almacenados en una variable."
   ]
  },
  {
   "cell_type": "code",
   "execution_count": null,
   "id": "50a4c5ee-ffc8-43ab-9c99-6b15f3c26050",
   "metadata": {
    "tags": []
   },
   "outputs": [],
   "source": [
    "bdd=pd.read_csv('rawdata/HousingPrices.csv') #Al igual que antes, no me mostrará nada.\n",
    "                                             #Sólo ha almacenado los datos en 'bdd'."
   ]
  },
  {
   "cell_type": "markdown",
   "id": "27b7cf66-717f-4735-9ad4-ccd25a345944",
   "metadata": {
    "tags": []
   },
   "source": [
    "¿Qué pasa si quiero ver cómo está conformada `bdd`? "
   ]
  },
  {
   "cell_type": "code",
   "execution_count": null,
   "id": "fc642633-3e74-4636-b1ab-7f98a20fe8c6",
   "metadata": {
    "tags": []
   },
   "outputs": [],
   "source": [
    "bdd.head()"
   ]
  },
  {
   "cell_type": "code",
   "execution_count": null,
   "id": "5999a3b2-96b7-42b5-91ae-25dfbffa579a",
   "metadata": {
    "tags": []
   },
   "outputs": [],
   "source": [
    "bdd.tail()"
   ]
  },
  {
   "cell_type": "code",
   "execution_count": null,
   "id": "f1d7f4cc-c6a1-4e35-88e6-88caaec3ca72",
   "metadata": {
    "tags": []
   },
   "outputs": [],
   "source": [
    "type(bdd)"
   ]
  },
  {
   "cell_type": "markdown",
   "id": "bdcd9199-0f0d-4f1f-a94c-03b6054155bd",
   "metadata": {},
   "source": [
    "¿Ven los números que aparecen la izquierda en negrita y que no tienen ningún nombre de columna? Es es el índice (*index*). Todos los dataframes tienen uno. Es importante tenerlo en cuenta."
   ]
  },
  {
   "cell_type": "code",
   "execution_count": null,
   "id": "bbd6dc7d-4230-47ac-ae44-24e738e47cc9",
   "metadata": {
    "tags": []
   },
   "outputs": [],
   "source": [
    "bdd.info()"
   ]
  },
  {
   "cell_type": "markdown",
   "id": "51021cfb-a62c-4f99-ae15-334bf1e57d11",
   "metadata": {
    "tags": []
   },
   "source": [
    "A veces, tras la ejecución de funciones, un *dataframe* se puede convertir en un *array*."
   ]
  },
  {
   "cell_type": "code",
   "execution_count": null,
   "id": "f62fa464-6ee8-4ba5-911e-6261a89f5f0c",
   "metadata": {
    "tags": []
   },
   "outputs": [],
   "source": [
    "base_de_datos = bdd.values #esto ocurre indirectamente al hacer algunas funciones"
   ]
  },
  {
   "cell_type": "code",
   "execution_count": null,
   "id": "0ed09b9b-eff4-4e2d-b502-66d5c1af2f73",
   "metadata": {
    "tags": []
   },
   "outputs": [],
   "source": [
    "base_de_datos.head() "
   ]
  },
  {
   "cell_type": "code",
   "execution_count": null,
   "id": "54253057-7605-43de-99e7-483b105cc766",
   "metadata": {
    "tags": []
   },
   "outputs": [],
   "source": [
    "type(base_de_datos)"
   ]
  },
  {
   "cell_type": "code",
   "execution_count": null,
   "id": "f932e79b-01db-47f1-bb6d-019bdb5f3c7e",
   "metadata": {
    "tags": []
   },
   "outputs": [],
   "source": [
    "base_de_datos #Quiero ver su estructura y valores"
   ]
  },
  {
   "cell_type": "markdown",
   "id": "de50e62a-ec0b-4689-ba88-bf4b9e381ceb",
   "metadata": {},
   "source": [
    "¿Lo notaron? Es el mismo archivo, pero con distinto formato. Como si pasaras un XLSX a CSV. Es importante ser consciente cuando eso sucede, porque un *dataframe* no puede unirse con un *array*. Tendrás que transformarlos para que puedan trabajar juntos."
   ]
  },
  {
   "cell_type": "markdown",
   "id": "9da7abb5-a853-4592-baff-b65df9403272",
   "metadata": {},
   "source": [
    "### 1.4.1. ¿Los datos se quedan guardados en mi sesión?"
   ]
  },
  {
   "cell_type": "markdown",
   "id": "27cd1374-5f3c-43e2-b431-67dd2f20169b",
   "metadata": {},
   "source": [
    "Hemos almacenado nuestros datos en una variable llamada `bdd`. Si abrimos un nuevo cuaderno **no** podremos trabajar directamente, sino que tendremos que volver a importarla. De la misma manera si cerramos nuestra sesión.\n",
    "\n",
    "Si no le hemos hecho cambios esto no supone mayor problema. En cambio, si hemos creado una variable nueva será un pérdida de tiempo volver a correr el código para obtener el resultado de nuestra sesión."
   ]
  },
  {
   "cell_type": "markdown",
   "id": "065ccd6b-c5bf-4cb9-839b-ab7a12d8ea83",
   "metadata": {},
   "source": [
    "## 1.5. Exportar datos"
   ]
  },
  {
   "cell_type": "code",
   "execution_count": null,
   "id": "c6a1bd79-41d0-4e89-bf54-21add59e2184",
   "metadata": {},
   "outputs": [],
   "source": [
    "bdd.to_excel('data/exportacion-de-prueba.xlsx') #'bdd' es el nombre de mi variable\n",
    "#bdd.to_csv('data/exportacion-de-prueba.csv')"
   ]
  }
 ],
 "metadata": {
  "kernelspec": {
   "display_name": "Python 3 (ipykernel)",
   "language": "python",
   "name": "python3"
  },
  "language_info": {
   "codemirror_mode": {
    "name": "ipython",
    "version": 3
   },
   "file_extension": ".py",
   "mimetype": "text/x-python",
   "name": "python",
   "nbconvert_exporter": "python",
   "pygments_lexer": "ipython3",
   "version": "3.11.5"
  }
 },
 "nbformat": 4,
 "nbformat_minor": 5
}
