{
 "cells": [
  {
   "cell_type": "code",
   "execution_count": 1,
   "id": "48d7e649-4ffa-4391-b9b1-982adda43f92",
   "metadata": {
    "tags": []
   },
   "outputs": [
    {
     "name": "stdout",
     "output_type": "stream",
     "text": [
      "<class 'pandas.core.frame.DataFrame'>\n",
      "RangeIndex: 4043 entries, 0 to 4042\n",
      "Columns: 203 entries, OBJECTID_1 to EPC_G_emision_2023\n",
      "dtypes: category(1), float64(189), object(13)\n",
      "memory usage: 6.2+ MB\n"
     ]
    }
   ],
   "source": [
    "import pandas as pd\n",
    "import numpy as np\n",
    "import pyreadstat\n",
    "\n",
    "base=pd.read_spss('rawdata/BDDHabitaclia_4043_join.sav')\n",
    "base.info()"
   ]
  },
  {
   "cell_type": "markdown",
   "id": "057b86e6-c982-4799-a9e7-5dd2eb8f6a11",
   "metadata": {},
   "source": [
    "Reviso los nombres de las columnas"
   ]
  },
  {
   "cell_type": "code",
   "execution_count": 2,
   "id": "8c3ddf85-45b8-4e49-989f-46a70f073389",
   "metadata": {
    "tags": []
   },
   "outputs": [
    {
     "name": "stdout",
     "output_type": "stream",
     "text": [
      "['OBJECTID_1', 'codigo_inmueble1', 'Title', 'Type_build', 'Type_opera', 'Link', 'Location', 'Lat_X', 'Lon_Y', 'Climatic_Z', 'Nom_Mun', 'precio_eur', 'superficie', 'superficie_2', 'Unit_price', 'Ln_total_pr', 'Ln_unit_pr', 'numero_habitaciones', 'numero_bano', 'ratio_bano_hab', 'numero_aseo', 'ascensor', 'interac_planta', 'numero_de_piso', 'anyo_constr', 'anyo_constr_ponderad', 'antig_ponderad', 'Inverse_Age', 'Year_Before_1981', 'Year_1982_2006', 'Year_After_2007', 'superficie_terraza_m2', 'grand_terr_20m2', 'superficie_jardin_m2', 'superficie_salon', 'bool_despacho', 'bool_buhardilla', 'bool_trastero', 'bool_lavadero', 'bool_piscina_comunitaria', 'bool_jardin_comunitario', 'bool_amueblado', 'bool_ascensor', 'descripcion', 'bool_aire_acondicionado', 'bool_calefaccion', 'bool_chimenea', 'texto_destacado', 'Description', 'calificacion_consumo_letra', 'calificacion_consumo_valor', 'calificacion_emision_letra', 'calificacion_emision_valor', 'Dum_EPC', 'EPC_A_emision', 'EPC_B_emision', 'EPC_C_emision', 'EPC_D_emision', 'EPC_E_emision', 'EPC_F_emision', 'EPC_G_emision', 'COD_MUN', 'temp_enero', 'temp_julio', 'radiacion_enero', 'radiacion_julio', 'POB_91', 'POB_01', 'POB_06', 'POR_01', 'LTL1991_M', 'LTL_2001', 'DLTL_MUN', 'RW', 'FLE', 'FLS', 'SUP_URB_90', 'SUP_URB_00', 'Job_ratio_01', 'Autocontencion_01', 'Nodalidad_01', 'Dist_CBD', 'Dist_CBD2', 'Dist_sub_center', 'Elevation_Mean', 'dum_acces_viappal', 'IND_pr', 'FIRE_pr', 'Div_LandUse', 'COD_SEC', 'pr_directivo', 'pr_tecnico_prof', 'pr_tecnico_apoyo', 'pr_empl_admin', 'pr_restaur_comer', 'pr_agri_calificado', 'pr_artesano', 'pr_operador', 'pr_no_calif', 'desplaz_ponderado', 'plant_ras_pond', 'edif_ruin_pr', 'edif_malo_pr', 'edif_deficient_pr', 'edif_bueno_pr', 'Doorman_pr', 'opin_ruido_si_pr', 'opin_contam_si_pr', 'opin_calle_sucia_pr', 'opin_mala_comunic_pr', 'opin_pocazonaverde_pr', 'opin_delincuencia_pr', 'opin_falta_aseo_pr', 'local_salud_pr', 'local_edu_pr', 'local_social_pr', 'local_cult_pr', 'local_comerc_pr', 'local_oficinas_pr', 'local_industr_pr', 'local_agrar_pr', 'POB_TOTAL', 'POB_RESID', 'LOC_TOTAL', 'POR_TOTAL', 'LOC_VIV_TOTAL', 'dens_loc_100hab', 'dens_loc_sup', 'dens_pob_sup', 'estud_sin_pr', 'estud_primer_pr', 'estud_segund_pr', 'estud_tercer_pr', 'VIV_ppales_TOTAL', 'Sup_viv_sec', 'viv_ppales_pr', 'viv_no_ppales_pr', 'viv_secundarias_pr', 'viv_vacias_pr', 'viv_unifam_pr', 'viv_aptos_pr', 'resi_euro_pr', 'resi_africa_pr', 'resi_america_pr', 'resi_asia_pr', 'resi_oceania_pr', 'H_ocup_POR', 'H_loc_INE', 'H_tamaviv', 'H_ocup_POR_Xpor', 'H_loc_INE_XLOCS', 'H_tamaviv_Xvivs', 'CT_renta_alta_CPA', 'CT_renta_meda_CPA', 'CT_renta_medb_CPA', 'Income_Household_2016', 'DP2e', 'Dens_Time_total', 'Dens_Time_total_work', 'Dens_Time_total_Nwork', 'Dens_pers_act_total', 'Dens_pers_act_working', 'Dens_pers_act_Nworking', 'Div_total_work', 'Div_act_work', 'Div_socio_work', 'Div_total_Nwork', 'Div_act_Nwork', 'Div_socio_Nwork', 'calidad_cocina', 'diseny_cocina', 'alta_calidad', 'reform_inmob', 'dum_mar_200m', 'dum_ttpp_riel_urb', 'dist_near_riel_km', 'dist_near_viappal_km', 'C_contempo', 'C_estado', 'C_armarios', 'B_contempo', 'B_estado', 'B_lavamano', 'R_contempo', 'R_estado', 'R_carpinte', 'R_singular', 'R_ventana', 'Dum_precio', 'Precio_red', 'scrap_year', 'persona', 'filter_$', 'FAC1_1', 'FAC2_1', 'Muestra_2023', 'EPC_A_emision_2023', 'EPC_B_emision_2023', 'EPC_C_emision_2023', 'EPC_D_emision_2023', 'EPC_E_emision_2023', 'EPC_F_emision_2023', 'EPC_G_emision_2023']\n"
     ]
    }
   ],
   "source": [
    "print(base.columns.tolist())"
   ]
  },
  {
   "cell_type": "markdown",
   "id": "b36af588-ec28-4280-a0f8-445a9552ac09",
   "metadata": {},
   "source": [
    "En su modelo, Carlos usa las siguientes variables."
   ]
  },
  {
   "cell_type": "code",
   "execution_count": 3,
   "id": "42afdc16-f71d-4b98-b001-7d2bb8bc79ae",
   "metadata": {
    "tags": []
   },
   "outputs": [
    {
     "data": {
      "text/html": [
       "<div>\n",
       "<style scoped>\n",
       "    .dataframe tbody tr th:only-of-type {\n",
       "        vertical-align: middle;\n",
       "    }\n",
       "\n",
       "    .dataframe tbody tr th {\n",
       "        vertical-align: top;\n",
       "    }\n",
       "\n",
       "    .dataframe thead th {\n",
       "        text-align: right;\n",
       "    }\n",
       "</style>\n",
       "<table border=\"1\" class=\"dataframe\">\n",
       "  <thead>\n",
       "    <tr style=\"text-align: right;\">\n",
       "      <th></th>\n",
       "      <th>CT_renta_alta_CPA</th>\n",
       "      <th>CT_renta_meda_CPA</th>\n",
       "      <th>DP2e</th>\n",
       "      <th>Dist_CBD2</th>\n",
       "      <th>EPC_A_emision</th>\n",
       "      <th>EPC_B_emision</th>\n",
       "      <th>EPC_C_emision</th>\n",
       "      <th>EPC_D_emision</th>\n",
       "      <th>EPC_E_emision</th>\n",
       "      <th>EPC_F_emision</th>\n",
       "      <th>...</th>\n",
       "      <th>bool_calefaccion</th>\n",
       "      <th>bool_piscina_comunitaria</th>\n",
       "      <th>desplaz_ponderado</th>\n",
       "      <th>dum_mar_200m</th>\n",
       "      <th>grand_terr_20m2</th>\n",
       "      <th>interac_planta</th>\n",
       "      <th>opin_ruido_si_pr</th>\n",
       "      <th>ratio_bano_hab</th>\n",
       "      <th>superficie</th>\n",
       "      <th>superficie_2</th>\n",
       "    </tr>\n",
       "  </thead>\n",
       "  <tbody>\n",
       "    <tr>\n",
       "      <th>0</th>\n",
       "      <td>0.179265</td>\n",
       "      <td>0.629695</td>\n",
       "      <td>14.304224</td>\n",
       "      <td>3.143035</td>\n",
       "      <td>0.0</td>\n",
       "      <td>0.0</td>\n",
       "      <td>0.0</td>\n",
       "      <td>0.0</td>\n",
       "      <td>1.0</td>\n",
       "      <td>0.0</td>\n",
       "      <td>...</td>\n",
       "      <td>1.0</td>\n",
       "      <td>0.0</td>\n",
       "      <td>27.187629</td>\n",
       "      <td>0.0</td>\n",
       "      <td>1.0</td>\n",
       "      <td>2.0</td>\n",
       "      <td>43.530314</td>\n",
       "      <td>1.000000</td>\n",
       "      <td>86.0</td>\n",
       "      <td>7396.0</td>\n",
       "    </tr>\n",
       "    <tr>\n",
       "      <th>1</th>\n",
       "      <td>-0.400132</td>\n",
       "      <td>0.678419</td>\n",
       "      <td>9.873995</td>\n",
       "      <td>3.868774</td>\n",
       "      <td>0.0</td>\n",
       "      <td>1.0</td>\n",
       "      <td>0.0</td>\n",
       "      <td>0.0</td>\n",
       "      <td>0.0</td>\n",
       "      <td>0.0</td>\n",
       "      <td>...</td>\n",
       "      <td>1.0</td>\n",
       "      <td>0.0</td>\n",
       "      <td>26.831497</td>\n",
       "      <td>0.0</td>\n",
       "      <td>0.0</td>\n",
       "      <td>3.0</td>\n",
       "      <td>41.376779</td>\n",
       "      <td>0.666667</td>\n",
       "      <td>97.0</td>\n",
       "      <td>9409.0</td>\n",
       "    </tr>\n",
       "    <tr>\n",
       "      <th>2</th>\n",
       "      <td>-0.763527</td>\n",
       "      <td>0.215970</td>\n",
       "      <td>11.400419</td>\n",
       "      <td>4.517012</td>\n",
       "      <td>0.0</td>\n",
       "      <td>0.0</td>\n",
       "      <td>0.0</td>\n",
       "      <td>1.0</td>\n",
       "      <td>0.0</td>\n",
       "      <td>0.0</td>\n",
       "      <td>...</td>\n",
       "      <td>0.0</td>\n",
       "      <td>0.0</td>\n",
       "      <td>27.542064</td>\n",
       "      <td>0.0</td>\n",
       "      <td>0.0</td>\n",
       "      <td>-3.0</td>\n",
       "      <td>36.155690</td>\n",
       "      <td>0.666667</td>\n",
       "      <td>77.0</td>\n",
       "      <td>5929.0</td>\n",
       "    </tr>\n",
       "    <tr>\n",
       "      <th>3</th>\n",
       "      <td>-0.520908</td>\n",
       "      <td>0.403254</td>\n",
       "      <td>11.540736</td>\n",
       "      <td>3.539149</td>\n",
       "      <td>0.0</td>\n",
       "      <td>0.0</td>\n",
       "      <td>0.0</td>\n",
       "      <td>0.0</td>\n",
       "      <td>1.0</td>\n",
       "      <td>0.0</td>\n",
       "      <td>...</td>\n",
       "      <td>0.0</td>\n",
       "      <td>0.0</td>\n",
       "      <td>27.909746</td>\n",
       "      <td>0.0</td>\n",
       "      <td>0.0</td>\n",
       "      <td>2.0</td>\n",
       "      <td>36.451325</td>\n",
       "      <td>0.500000</td>\n",
       "      <td>95.0</td>\n",
       "      <td>9025.0</td>\n",
       "    </tr>\n",
       "    <tr>\n",
       "      <th>4</th>\n",
       "      <td>-0.069044</td>\n",
       "      <td>1.017454</td>\n",
       "      <td>11.120200</td>\n",
       "      <td>5.277817</td>\n",
       "      <td>0.0</td>\n",
       "      <td>1.0</td>\n",
       "      <td>0.0</td>\n",
       "      <td>0.0</td>\n",
       "      <td>0.0</td>\n",
       "      <td>0.0</td>\n",
       "      <td>...</td>\n",
       "      <td>1.0</td>\n",
       "      <td>0.0</td>\n",
       "      <td>24.657258</td>\n",
       "      <td>0.0</td>\n",
       "      <td>0.0</td>\n",
       "      <td>2.0</td>\n",
       "      <td>41.172813</td>\n",
       "      <td>0.750000</td>\n",
       "      <td>163.0</td>\n",
       "      <td>26569.0</td>\n",
       "    </tr>\n",
       "  </tbody>\n",
       "</table>\n",
       "<p>5 rows × 33 columns</p>\n",
       "</div>"
      ],
      "text/plain": [
       "   CT_renta_alta_CPA  CT_renta_meda_CPA       DP2e  Dist_CBD2  EPC_A_emision  \\\n",
       "0           0.179265           0.629695  14.304224   3.143035            0.0   \n",
       "1          -0.400132           0.678419   9.873995   3.868774            0.0   \n",
       "2          -0.763527           0.215970  11.400419   4.517012            0.0   \n",
       "3          -0.520908           0.403254  11.540736   3.539149            0.0   \n",
       "4          -0.069044           1.017454  11.120200   5.277817            0.0   \n",
       "\n",
       "   EPC_B_emision  EPC_C_emision  EPC_D_emision  EPC_E_emision  EPC_F_emision  \\\n",
       "0            0.0            0.0            0.0            1.0            0.0   \n",
       "1            1.0            0.0            0.0            0.0            0.0   \n",
       "2            0.0            0.0            1.0            0.0            0.0   \n",
       "3            0.0            0.0            0.0            1.0            0.0   \n",
       "4            1.0            0.0            0.0            0.0            0.0   \n",
       "\n",
       "   ...  bool_calefaccion  bool_piscina_comunitaria  desplaz_ponderado  \\\n",
       "0  ...               1.0                       0.0          27.187629   \n",
       "1  ...               1.0                       0.0          26.831497   \n",
       "2  ...               0.0                       0.0          27.542064   \n",
       "3  ...               0.0                       0.0          27.909746   \n",
       "4  ...               1.0                       0.0          24.657258   \n",
       "\n",
       "   dum_mar_200m  grand_terr_20m2  interac_planta  opin_ruido_si_pr  \\\n",
       "0           0.0              1.0             2.0         43.530314   \n",
       "1           0.0              0.0             3.0         41.376779   \n",
       "2           0.0              0.0            -3.0         36.155690   \n",
       "3           0.0              0.0             2.0         36.451325   \n",
       "4           0.0              0.0             2.0         41.172813   \n",
       "\n",
       "   ratio_bano_hab  superficie  superficie_2  \n",
       "0        1.000000        86.0        7396.0  \n",
       "1        0.666667        97.0        9409.0  \n",
       "2        0.666667        77.0        5929.0  \n",
       "3        0.500000        95.0        9025.0  \n",
       "4        0.750000       163.0       26569.0  \n",
       "\n",
       "[5 rows x 33 columns]"
      ]
     },
     "execution_count": 3,
     "metadata": {},
     "output_type": "execute_result"
    }
   ],
   "source": [
    "# Seleccionar las columnas especificadas\n",
    "selected_columns = ['Ln_total_pr','Muestra_2023', 'EPC_C_emision', 'EPC_F_emision', 'EPC_B_emision', 'EPC_A_emision', 'EPC_D_emision', \n",
    "                    'EPC_G_emision', 'EPC_E_emision', 'superficie', 'CT_renta_alta_CPA', 'superficie_2', \n",
    "                    'bool_ascensor', 'bool_piscina_comunitaria', 'bool_calefaccion', \n",
    "                    'desplaz_ponderado', 'Income_Household_2016', 'FIRE_pr', 'FAC1_1', 'FAC2_1', \n",
    "                    'grand_terr_20m2', 'Year_After_2007', 'CT_renta_meda_CPA', 'DP2e', 'dum_mar_200m', \n",
    "                    'bool_aire_acondicionado', 'Precio_red', 'ratio_bano_hab', 'Year_1982_2006', 'opin_ruido_si_pr', \n",
    "                    'Dist_CBD2', 'H_tamaviv', 'interac_planta']\n",
    "\n",
    "#FAC1_1 y FAC2_1 hacen referencia a 'Estado_contemporaneidad_calidad' y 'Ausencia_singulares_presencia_arm_cocina'\n",
    "\n",
    "# Seleccionar las columnas y ordenarlas alfabéticamente\n",
    "bdd = base[selected_columns].sort_index(axis=1)\n",
    "\n",
    "# Muestra el DataFrame resultante\n",
    "bdd.head()"
   ]
  },
  {
   "cell_type": "markdown",
   "id": "7f2efe82-7b0b-4fc2-bc50-ce33c562cb69",
   "metadata": {},
   "source": [
    "Luego, hizo un filtro para eliminar outliers."
   ]
  },
  {
   "cell_type": "code",
   "execution_count": 4,
   "id": "4ff4bcad-d4c5-44a5-85bc-244048636257",
   "metadata": {
    "collapsed": true,
    "jupyter": {
     "outputs_hidden": true
    },
    "tags": []
   },
   "outputs": [
    {
     "name": "stdout",
     "output_type": "stream",
     "text": [
      "<class 'pandas.core.frame.DataFrame'>\n",
      "Index: 3859 entries, 0 to 4042\n",
      "Data columns (total 33 columns):\n",
      " #   Column                    Non-Null Count  Dtype  \n",
      "---  ------                    --------------  -----  \n",
      " 0   CT_renta_alta_CPA         3859 non-null   float64\n",
      " 1   CT_renta_meda_CPA         3859 non-null   float64\n",
      " 2   DP2e                      3859 non-null   float64\n",
      " 3   Dist_CBD2                 3859 non-null   float64\n",
      " 4   EPC_A_emision             3859 non-null   float64\n",
      " 5   EPC_B_emision             3859 non-null   float64\n",
      " 6   EPC_C_emision             3859 non-null   float64\n",
      " 7   EPC_D_emision             3859 non-null   float64\n",
      " 8   EPC_E_emision             3859 non-null   float64\n",
      " 9   EPC_F_emision             3859 non-null   float64\n",
      " 10  EPC_G_emision             3859 non-null   float64\n",
      " 11  FAC1_1                    3859 non-null   float64\n",
      " 12  FAC2_1                    3859 non-null   float64\n",
      " 13  FIRE_pr                   3859 non-null   float64\n",
      " 14  H_tamaviv                 3859 non-null   float64\n",
      " 15  Income_Household_2016     3859 non-null   float64\n",
      " 16  Ln_total_pr               3859 non-null   float64\n",
      " 17  Muestra_2023              3859 non-null   float64\n",
      " 18  Precio_red                3859 non-null   float64\n",
      " 19  Year_1982_2006            3859 non-null   float64\n",
      " 20  Year_After_2007           3859 non-null   float64\n",
      " 21  bool_aire_acondicionado   3859 non-null   float64\n",
      " 22  bool_ascensor             3859 non-null   float64\n",
      " 23  bool_calefaccion          3859 non-null   float64\n",
      " 24  bool_piscina_comunitaria  3859 non-null   float64\n",
      " 25  desplaz_ponderado         3859 non-null   float64\n",
      " 26  dum_mar_200m              3859 non-null   float64\n",
      " 27  grand_terr_20m2           3859 non-null   float64\n",
      " 28  interac_planta            3859 non-null   float64\n",
      " 29  opin_ruido_si_pr          3859 non-null   float64\n",
      " 30  ratio_bano_hab            3852 non-null   float64\n",
      " 31  superficie                3859 non-null   float64\n",
      " 32  superficie_2              3859 non-null   float64\n",
      "dtypes: float64(33)\n",
      "memory usage: 1.0 MB\n"
     ]
    }
   ],
   "source": [
    "df = bdd[(bdd['Ln_total_pr'] >= 11.2842035426135) & (bdd['Ln_total_pr'] <= 13.8409882055083)]\n",
    "df.info()"
   ]
  },
  {
   "cell_type": "code",
   "execution_count": 5,
   "id": "4834d721-53ea-450d-bfc8-aee249ea1a1c",
   "metadata": {
    "tags": []
   },
   "outputs": [
    {
     "name": "stdout",
     "output_type": "stream",
     "text": [
      "                            OLS Regression Results                            \n",
      "==============================================================================\n",
      "Dep. Variable:            Ln_total_pr   R-squared:                       0.883\n",
      "Model:                            OLS   Adj. R-squared:                  0.882\n",
      "Method:                 Least Squares   F-statistic:                     901.0\n",
      "Date:                Wed, 07 Feb 2024   Prob (F-statistic):               0.00\n",
      "Time:                        14:14:33   Log-Likelihood:                 929.80\n",
      "No. Observations:                3852   AIC:                            -1794.\n",
      "Df Residuals:                    3819   BIC:                            -1587.\n",
      "Df Model:                          32                                         \n",
      "Covariance Type:            nonrobust                                         \n",
      "============================================================================================\n",
      "                               coef    std err          t      P>|t|      [0.025      0.975]\n",
      "--------------------------------------------------------------------------------------------\n",
      "const                       10.9711      0.091    120.837      0.000      10.793      11.149\n",
      "CT_renta_alta_CPA            0.0996      0.016      6.387      0.000       0.069       0.130\n",
      "CT_renta_meda_CPA            0.0573      0.007      7.851      0.000       0.043       0.072\n",
      "DP2e                         0.0148      0.002      5.967      0.000       0.010       0.020\n",
      "Dist_CBD2                   -0.0071      0.002     -3.138      0.002      -0.011      -0.003\n",
      "EPC_A_emision                0.0496      0.025      2.006      0.045       0.001       0.098\n",
      "EPC_B_emision                0.1730      0.027      6.391      0.000       0.120       0.226\n",
      "EPC_C_emision                0.0374      0.022      1.681      0.093      -0.006       0.081\n",
      "EPC_D_emision               -0.0513      0.015     -3.426      0.001      -0.081      -0.022\n",
      "EPC_E_emision                0.0021      0.007      0.290      0.772      -0.012       0.016\n",
      "EPC_F_emision                0.0038      0.015      0.260      0.795      -0.025       0.033\n",
      "EPC_G_emision                0.0052      0.013      0.399      0.690      -0.020       0.031\n",
      "FAC1_1                       0.0566      0.004     15.854      0.000       0.050       0.064\n",
      "FAC2_1                       0.0255      0.003      7.852      0.000       0.019       0.032\n",
      "FIRE_pr                      0.0119      0.002      7.873      0.000       0.009       0.015\n",
      "H_tamaviv                    0.0976      0.029      3.362      0.001       0.041       0.154\n",
      "Income_Household_2016     7.244e-06   5.11e-07     14.173      0.000    6.24e-06    8.25e-06\n",
      "Muestra_2023                 0.0026      0.007      0.355      0.723      -0.012       0.017\n",
      "Precio_red                 1.56e-07   3.33e-08      4.682      0.000    9.07e-08    2.21e-07\n",
      "Year_1982_2006               0.0350      0.012      2.922      0.003       0.012       0.058\n",
      "Year_After_2007              0.1231      0.016      7.568      0.000       0.091       0.155\n",
      "bool_aire_acondicionado      0.0309      0.007      4.324      0.000       0.017       0.045\n",
      "bool_ascensor                0.1024      0.013      7.809      0.000       0.077       0.128\n",
      "bool_calefaccion             0.0432      0.007      5.923      0.000       0.029       0.058\n",
      "bool_piscina_comunitaria     0.1710      0.019      9.088      0.000       0.134       0.208\n",
      "desplaz_ponderado           -0.0192      0.002     -8.494      0.000      -0.024      -0.015\n",
      "dum_mar_200m                 0.2777      0.040      6.904      0.000       0.199       0.357\n",
      "grand_terr_20m2              0.0981      0.012      7.889      0.000       0.074       0.122\n",
      "interac_planta               0.0034      0.002      2.240      0.025       0.000       0.006\n",
      "opin_ruido_si_pr             0.0016      0.001      2.838      0.005       0.000       0.003\n",
      "ratio_bano_hab               0.0549      0.014      3.809      0.000       0.027       0.083\n",
      "superficie                   0.0145      0.000     46.266      0.000       0.014       0.015\n",
      "superficie_2             -3.046e-05   1.18e-06    -25.902      0.000   -3.28e-05   -2.82e-05\n",
      "==============================================================================\n",
      "Omnibus:                      132.311   Durbin-Watson:                   1.845\n",
      "Prob(Omnibus):                  0.000   Jarque-Bera (JB):              299.480\n",
      "Skew:                          -0.191   Prob(JB):                     9.30e-66\n",
      "Kurtosis:                       4.312   Cond. No.                     3.23e+06\n",
      "==============================================================================\n",
      "\n",
      "Notes:\n",
      "[1] Standard Errors assume that the covariance matrix of the errors is correctly specified.\n",
      "[2] The condition number is large, 3.23e+06. This might indicate that there are\n",
      "strong multicollinearity or other numerical problems.\n"
     ]
    }
   ],
   "source": [
    "import statsmodels.api as sm\n",
    "\n",
    "# Eliminar filas con valores infinitos o NaN en las variables independientes (X) y dependiente (y)\n",
    "df = df.replace([np.inf, -np.inf], np.nan).dropna()  #Me he dado cuenta que hay filas vacías, las elimino.\n",
    "\n",
    "# Definir las variables independientes (X) y dependiente (y)\n",
    "X = df.drop('Ln_total_pr', axis=1)  # Todas las columnas excepto 'Ln_total_pr'\n",
    "y = df['Ln_total_pr']  # Columna 'Ln_total_pr'\n",
    "\n",
    "# Agregar una constante a la matriz X para el término de intercepción del modelo\n",
    "X = sm.add_constant(X)\n",
    "\n",
    "# Crear el modelo de regresión lineal\n",
    "model = sm.OLS(y, X)\n",
    "\n",
    "# Ajustar el modelo a los datos\n",
    "results = model.fit()\n",
    "\n",
    "# Imprimir el resumen del modelo\n",
    "print(results.summary())"
   ]
  },
  {
   "cell_type": "code",
   "execution_count": 6,
   "id": "41b40090-2f09-4c2a-87e9-b1560560f57d",
   "metadata": {
    "tags": []
   },
   "outputs": [
    {
     "name": "stdout",
     "output_type": "stream",
     "text": [
      "Error estándar de la estimación (RMSE): 0.19089770514695886\n",
      "Error absoluto medio (MAE): 0.14451785358103253\n"
     ]
    }
   ],
   "source": [
    "import numpy as np\n",
    "\n",
    "# Calcular y_pred (valores predichos por el modelo)\n",
    "y_pred = results.predict(X)\n",
    "\n",
    "# Calcular el error estándar de la estimación (SEE o RMSE)\n",
    "rmse = np.sqrt(results.mse_resid)\n",
    "\n",
    "# Calcular el error absoluto medio (MAE)\n",
    "mae = np.mean(np.abs(y - y_pred))\n",
    "\n",
    "# Imprimir las métricas\n",
    "print(\"Error estándar de la estimación (RMSE):\", rmse)\n",
    "print(\"Error absoluto medio (MAE):\", mae)"
   ]
  },
  {
   "cell_type": "code",
   "execution_count": null,
   "id": "472a932e-ff29-4464-a916-287a58102cc5",
   "metadata": {},
   "outputs": [],
   "source": [
    "# Predicciones del modelo OLS\n",
    "y_pred_ols = results.predict(X)\n",
    "\n",
    "# Calcular MAE\n",
    "mae_ols = mean_absolute_error(y_test, y_pred_ols)\n",
    "\n",
    "# Calcular RAE\n",
    "rae_ols = mae_ols / np.mean(np.abs(y_test))\n",
    "\n",
    "# Calcular RMSE\n",
    "rmse_ols = np.sqrt(mean_squared_error(y_test, y_pred_ols))\n",
    "\n",
    "# Calcular RRSE\n",
    "rrse_ols = rmse_ols / np.std(y_test)\n",
    "\n",
    "# Imprimir las métricas\n",
    "print(\"OLS - MAE:\", mae_ols)\n",
    "print(\"OLS - RAE:\", rae_ols)\n",
    "print(\"OLS - RMSE:\", rmse_ols)\n",
    "print(\"OLS - RRSE:\", rrse_ols)"
   ]
  },
  {
   "cell_type": "markdown",
   "id": "12d22c16-3793-40a4-97aa-28ee0ca83fdd",
   "metadata": {},
   "source": [
    "## Red neuronal"
   ]
  },
  {
   "cell_type": "code",
   "execution_count": 7,
   "id": "a10ce92e-671c-480d-9865-9e46a16bd1c2",
   "metadata": {
    "tags": []
   },
   "outputs": [],
   "source": [
    "from sklearn.neural_network import MLPRegressor\n",
    "from sklearn.metrics import r2_score, mean_absolute_error, mean_squared_error\n",
    "from sklearn.model_selection import train_test_split\n",
    "from sklearn import preprocessing\n",
    "\n",
    "#Para el OLS hice un filtro sobre los datos, porque es sensible a outliers; los RF, no.\n",
    "\n",
    "# Eliminar filas con valores infinitos o NaN en las variables independientes (X) y dependiente (y)\n",
    "base = base.replace([np.inf, -np.inf], np.nan).dropna()  #Me he dado cuenta que hay filas vacías, las elimino.\n",
    "#Antes hice este paso, pero para 'df', no para 'bdd'.\n",
    "\n",
    "# Definir las variables independientes (X) y dependiente (y)\n",
    "X1 = base.drop(['Ln_total_pr','Type_build','Type_opera','OBJECTID_1', 'codigo_inmueble1', 'Title', 'Link', 'Location', 'Lat_X', 'Lon_Y', \n",
    "               'Nom_Mun', 'precio_eur', 'Ln_unit_pr', 'Year_Before_1981', 'Year_1982_2006', 'Lat_X','Lon_Y', \n",
    "               'Year_After_2007', 'descripcion', 'texto_destacado', 'Description', 'Dist_CBD2', \n",
    "               'Dist_sub_center', 'COD_SEC', 'Dum_precio', 'Precio_red', 'scrap_year', 'filter_$', \n",
    "               'Muestra_2023','Climatic_Z','calificacion_consumo_letra',\n",
    "               'calificacion_emision_letra','persona','COD_MUN',\n",
    "               #Todas las que vienen han sido convertidas a FAC1_1 y FAC2_1\n",
    "               'C_contempo', 'C_estado', 'C_armarios', 'B_contempo', 'B_estado',\n",
    "               'B_lavamano', 'R_contempo', 'R_estado', 'R_carpinte', 'R_singular',\n",
    "               'R_ventana'], axis=1)  # Todas las columnas excepto las mencionadas.\n",
    "y2 = base[['Ln_total_pr']]  # Columna 'Ln_total_pr'"
   ]
  },
  {
   "cell_type": "markdown",
   "id": "f3087843-bfbe-457e-95d2-bc9804ca61e9",
   "metadata": {},
   "source": [
    "### Estandarización de los datos"
   ]
  },
  {
   "cell_type": "markdown",
   "id": "877b2828-6f2c-4f76-8410-da95e00a7180",
   "metadata": {},
   "source": [
    "De las variables de mi base de datos, debo hacer un one-hot encoding para las categóricas y una estandarización para las numéricas. Empiezo buscando aquellas que pueden ser categóricas: contaré los valores únicos en cada columna y consideraré a aquellas con un número relativamente bajo de valores únicos como categóricas."
   ]
  },
  {
   "cell_type": "code",
   "execution_count": 10,
   "id": "076983d4-e0c5-4471-b1f5-a01f7888ef19",
   "metadata": {
    "tags": []
   },
   "outputs": [
    {
     "data": {
      "text/plain": [
       "Index(['numero_aseo', 'ascensor', 'grand_terr_20m2', 'superficie_jardin_m2',\n",
       "       'bool_despacho', 'bool_buhardilla', 'bool_trastero', 'bool_lavadero',\n",
       "       'bool_piscina_comunitaria', 'bool_jardin_comunitario', 'bool_amueblado',\n",
       "       'bool_ascensor', 'bool_aire_acondicionado', 'bool_calefaccion',\n",
       "       'bool_chimenea', 'Dum_EPC', 'EPC_A_emision', 'EPC_B_emision',\n",
       "       'EPC_C_emision', 'EPC_D_emision', 'EPC_E_emision', 'EPC_F_emision',\n",
       "       'EPC_G_emision', 'dum_acces_viappal', 'calidad_cocina', 'diseny_cocina',\n",
       "       'alta_calidad', 'reform_inmob', 'dum_mar_200m', 'dum_ttpp_riel_urb',\n",
       "       'EPC_A_emision_2023', 'EPC_B_emision_2023', 'EPC_C_emision_2023',\n",
       "       'EPC_D_emision_2023', 'EPC_E_emision_2023', 'EPC_F_emision_2023',\n",
       "       'EPC_G_emision_2023'],\n",
       "      dtype='object')"
      ]
     },
     "execution_count": 10,
     "metadata": {},
     "output_type": "execute_result"
    }
   ],
   "source": [
    "# Contar los valores únicos en cada columna\n",
    "unique_counts = X1.nunique()\n",
    "\n",
    "# Filtrar las columnas con un número bajo de valores únicos (puedes ajustar este umbral según tu criterio)\n",
    "categoricas = unique_counts[unique_counts < 5].index\n",
    "\n",
    "categoricas"
   ]
  },
  {
   "cell_type": "markdown",
   "id": "e3ee6d10-16ed-4a4f-9f7b-a92f3af724af",
   "metadata": {},
   "source": [
    "He ido haciendo una revisión en Excel para diferenciar aquellas que ya están convertidas a un one-hot encoding (dummies) de aquellas que son categóricas y aún necesitan el one-hot encoding."
   ]
  },
  {
   "cell_type": "code",
   "execution_count": 11,
   "id": "a7c2f76b-6648-484b-a366-9c45ea5e8b77",
   "metadata": {
    "tags": []
   },
   "outputs": [],
   "source": [
    "#Estas ya tienen el one-hot encoding\n",
    "OHE=X1[['bool_despacho', 'bool_buhardilla',\n",
    "       'bool_trastero', 'bool_lavadero', 'bool_piscina_comunitaria',\n",
    "       'bool_jardin_comunitario', 'bool_amueblado', 'bool_ascensor',\n",
    "       'bool_aire_acondicionado', 'bool_calefaccion', 'bool_chimenea',\n",
    "       'Dum_EPC', 'EPC_A_emision', 'EPC_B_emision', 'EPC_C_emision',\n",
    "       'EPC_D_emision', 'EPC_E_emision', 'EPC_F_emision', 'EPC_G_emision',\n",
    "       'dum_acces_viappal','calidad_cocina', 'diseny_cocina', 'alta_calidad', \n",
    "        'reform_inmob', 'dum_mar_200m', 'dum_ttpp_riel_urb',\n",
    "        'EPC_A_emision_2023', 'EPC_B_emision_2023',\n",
    "       'EPC_C_emision_2023', 'EPC_D_emision_2023', 'EPC_E_emision_2023',\n",
    "       'EPC_F_emision_2023', 'EPC_G_emision_2023', 'grand_terr_20m2', 'ascensor']]\n",
    "        \n",
    "#Estas necesitan el one-hot encoding\n",
    "OHEno = X1[['RW', 'FLE', 'FLS']]"
   ]
  },
  {
   "cell_type": "markdown",
   "id": "fb01fe30-00e3-42e7-b4f2-f01623048d01",
   "metadata": {},
   "source": [
    "Realizo el one-hot encoding."
   ]
  },
  {
   "cell_type": "code",
   "execution_count": 12,
   "id": "b28430fe-3d30-4ea3-bb3b-008384d59d58",
   "metadata": {
    "tags": []
   },
   "outputs": [
    {
     "data": {
      "text/html": [
       "<div>\n",
       "<style scoped>\n",
       "    .dataframe tbody tr th:only-of-type {\n",
       "        vertical-align: middle;\n",
       "    }\n",
       "\n",
       "    .dataframe tbody tr th {\n",
       "        vertical-align: top;\n",
       "    }\n",
       "\n",
       "    .dataframe thead th {\n",
       "        text-align: right;\n",
       "    }\n",
       "</style>\n",
       "<table border=\"1\" class=\"dataframe\">\n",
       "  <thead>\n",
       "    <tr style=\"text-align: right;\">\n",
       "      <th></th>\n",
       "      <th>RW_3100.0</th>\n",
       "      <th>RW_4716.0</th>\n",
       "      <th>RW_9850.0</th>\n",
       "      <th>RW_12513.0</th>\n",
       "      <th>RW_32424.0</th>\n",
       "      <th>RW_34028.0</th>\n",
       "      <th>RW_501803.0</th>\n",
       "      <th>FLE_6736.0</th>\n",
       "      <th>FLE_7456.0</th>\n",
       "      <th>FLE_10661.0</th>\n",
       "      <th>...</th>\n",
       "      <th>FLE_20970.0</th>\n",
       "      <th>FLE_34244.0</th>\n",
       "      <th>FLE_277493.0</th>\n",
       "      <th>FLS_9687.0</th>\n",
       "      <th>FLS_15966.0</th>\n",
       "      <th>FLS_25455.0</th>\n",
       "      <th>FLS_36350.0</th>\n",
       "      <th>FLS_53139.0</th>\n",
       "      <th>FLS_70816.0</th>\n",
       "      <th>FLS_143879.0</th>\n",
       "    </tr>\n",
       "  </thead>\n",
       "  <tbody>\n",
       "    <tr>\n",
       "      <th>0</th>\n",
       "      <td>False</td>\n",
       "      <td>False</td>\n",
       "      <td>False</td>\n",
       "      <td>False</td>\n",
       "      <td>True</td>\n",
       "      <td>False</td>\n",
       "      <td>False</td>\n",
       "      <td>False</td>\n",
       "      <td>False</td>\n",
       "      <td>False</td>\n",
       "      <td>...</td>\n",
       "      <td>False</td>\n",
       "      <td>True</td>\n",
       "      <td>False</td>\n",
       "      <td>False</td>\n",
       "      <td>False</td>\n",
       "      <td>False</td>\n",
       "      <td>False</td>\n",
       "      <td>False</td>\n",
       "      <td>True</td>\n",
       "      <td>False</td>\n",
       "    </tr>\n",
       "    <tr>\n",
       "      <th>1</th>\n",
       "      <td>False</td>\n",
       "      <td>False</td>\n",
       "      <td>False</td>\n",
       "      <td>False</td>\n",
       "      <td>True</td>\n",
       "      <td>False</td>\n",
       "      <td>False</td>\n",
       "      <td>False</td>\n",
       "      <td>False</td>\n",
       "      <td>False</td>\n",
       "      <td>...</td>\n",
       "      <td>False</td>\n",
       "      <td>True</td>\n",
       "      <td>False</td>\n",
       "      <td>False</td>\n",
       "      <td>False</td>\n",
       "      <td>False</td>\n",
       "      <td>False</td>\n",
       "      <td>False</td>\n",
       "      <td>True</td>\n",
       "      <td>False</td>\n",
       "    </tr>\n",
       "    <tr>\n",
       "      <th>2</th>\n",
       "      <td>False</td>\n",
       "      <td>False</td>\n",
       "      <td>False</td>\n",
       "      <td>False</td>\n",
       "      <td>True</td>\n",
       "      <td>False</td>\n",
       "      <td>False</td>\n",
       "      <td>False</td>\n",
       "      <td>False</td>\n",
       "      <td>False</td>\n",
       "      <td>...</td>\n",
       "      <td>False</td>\n",
       "      <td>True</td>\n",
       "      <td>False</td>\n",
       "      <td>False</td>\n",
       "      <td>False</td>\n",
       "      <td>False</td>\n",
       "      <td>False</td>\n",
       "      <td>False</td>\n",
       "      <td>True</td>\n",
       "      <td>False</td>\n",
       "    </tr>\n",
       "    <tr>\n",
       "      <th>3</th>\n",
       "      <td>False</td>\n",
       "      <td>False</td>\n",
       "      <td>False</td>\n",
       "      <td>False</td>\n",
       "      <td>True</td>\n",
       "      <td>False</td>\n",
       "      <td>False</td>\n",
       "      <td>False</td>\n",
       "      <td>False</td>\n",
       "      <td>False</td>\n",
       "      <td>...</td>\n",
       "      <td>False</td>\n",
       "      <td>True</td>\n",
       "      <td>False</td>\n",
       "      <td>False</td>\n",
       "      <td>False</td>\n",
       "      <td>False</td>\n",
       "      <td>False</td>\n",
       "      <td>False</td>\n",
       "      <td>True</td>\n",
       "      <td>False</td>\n",
       "    </tr>\n",
       "    <tr>\n",
       "      <th>4</th>\n",
       "      <td>False</td>\n",
       "      <td>False</td>\n",
       "      <td>False</td>\n",
       "      <td>False</td>\n",
       "      <td>True</td>\n",
       "      <td>False</td>\n",
       "      <td>False</td>\n",
       "      <td>False</td>\n",
       "      <td>False</td>\n",
       "      <td>False</td>\n",
       "      <td>...</td>\n",
       "      <td>False</td>\n",
       "      <td>True</td>\n",
       "      <td>False</td>\n",
       "      <td>False</td>\n",
       "      <td>False</td>\n",
       "      <td>False</td>\n",
       "      <td>False</td>\n",
       "      <td>False</td>\n",
       "      <td>True</td>\n",
       "      <td>False</td>\n",
       "    </tr>\n",
       "  </tbody>\n",
       "</table>\n",
       "<p>5 rows × 21 columns</p>\n",
       "</div>"
      ],
      "text/plain": [
       "   RW_3100.0  RW_4716.0  RW_9850.0  RW_12513.0  RW_32424.0  RW_34028.0  \\\n",
       "0      False      False      False       False        True       False   \n",
       "1      False      False      False       False        True       False   \n",
       "2      False      False      False       False        True       False   \n",
       "3      False      False      False       False        True       False   \n",
       "4      False      False      False       False        True       False   \n",
       "\n",
       "   RW_501803.0  FLE_6736.0  FLE_7456.0  FLE_10661.0  ...  FLE_20970.0  \\\n",
       "0        False       False       False        False  ...        False   \n",
       "1        False       False       False        False  ...        False   \n",
       "2        False       False       False        False  ...        False   \n",
       "3        False       False       False        False  ...        False   \n",
       "4        False       False       False        False  ...        False   \n",
       "\n",
       "   FLE_34244.0  FLE_277493.0  FLS_9687.0  FLS_15966.0  FLS_25455.0  \\\n",
       "0         True         False       False        False        False   \n",
       "1         True         False       False        False        False   \n",
       "2         True         False       False        False        False   \n",
       "3         True         False       False        False        False   \n",
       "4         True         False       False        False        False   \n",
       "\n",
       "   FLS_36350.0  FLS_53139.0  FLS_70816.0  FLS_143879.0  \n",
       "0        False        False         True         False  \n",
       "1        False        False         True         False  \n",
       "2        False        False         True         False  \n",
       "3        False        False         True         False  \n",
       "4        False        False         True         False  \n",
       "\n",
       "[5 rows x 21 columns]"
      ]
     },
     "execution_count": 12,
     "metadata": {},
     "output_type": "execute_result"
    }
   ],
   "source": [
    "# Crear codificación one-hot para las columnas 'RW', 'FLE' y 'FLS'\n",
    "one_hot_rw = pd.get_dummies(OHEno['RW'], prefix='RW')\n",
    "one_hot_fle = pd.get_dummies(OHEno['FLE'], prefix='FLE')\n",
    "one_hot_fls = pd.get_dummies(OHEno['FLS'], prefix='FLS')\n",
    "\n",
    "# Concatenar los DataFrames de codificación one-hot\n",
    "X2 = pd.concat([one_hot_rw, one_hot_fle, one_hot_fls], axis=1)\n",
    "\n",
    "X2.head()"
   ]
  },
  {
   "cell_type": "markdown",
   "id": "da79f0a1-8d53-4500-94eb-c1793227d6bc",
   "metadata": {},
   "source": [
    "Y ahora hago la estandarización sobre las X que son numéricas."
   ]
  },
  {
   "cell_type": "code",
   "execution_count": 14,
   "id": "674f5da1-063f-4303-8f1c-8483073df711",
   "metadata": {
    "tags": []
   },
   "outputs": [],
   "source": [
    "# Crear una lista con todas las columnas de OHE y OHEno\n",
    "columnas_a_eliminar = list(OHE.columns) + list(OHEno.columns)\n",
    "\n",
    "# Eliminar las columnas de OHE y OHEno de X1\n",
    "X3 = X1.drop(columns=columnas_a_eliminar)"
   ]
  },
  {
   "cell_type": "code",
   "execution_count": 15,
   "id": "e56f2c64-c28d-46be-904a-2356678ac14a",
   "metadata": {
    "tags": []
   },
   "outputs": [],
   "source": [
    "#Estandarizamos los valores de X\n",
    "min_max_scaler = preprocessing.MinMaxScaler()\n",
    "X4 = min_max_scaler.fit_transform(X3)"
   ]
  },
  {
   "cell_type": "code",
   "execution_count": 19,
   "id": "15fb4da4-d13b-497d-ac34-7cd179d0a3f8",
   "metadata": {
    "tags": []
   },
   "outputs": [],
   "source": [
    "# Convertir X2 y OHE a un array NumPy\n",
    "X2_array = X2.values\n",
    "OHE_array=OHE.values\n",
    "\n",
    "# Concatenar X4, X2_array y OHE_array a lo largo del eje de las columnas (axis=1)\n",
    "X_scale = np.concatenate((X4, X2_array,OHE_array), axis=1)"
   ]
  },
  {
   "cell_type": "code",
   "execution_count": 98,
   "id": "8184d7df-d24a-4c7b-9dd2-2e23b877672d",
   "metadata": {
    "jupyter": {
     "source_hidden": true
    },
    "tags": []
   },
   "outputs": [],
   "source": [
    "############# NO LO ESTOY USANDO ESTA VEZ\n",
    "\n",
    "#Unimos todas las X que son útiles\n",
    "# Convertir las matrices NumPy a DataFrames\n",
    "X6_df = pd.DataFrame(X6)\n",
    "X4_df = pd.DataFrame(X4)\n",
    "X2_df = pd.DataFrame(X2)\n",
    "\n",
    "# Reiniciar el índice de cada DataFrame para que no produzca más columnas de las esperadas\n",
    "X6_reset = X6_df.reset_index(drop=True)\n",
    "X4_reset = X4_df.reset_index(drop=True)\n",
    "X2_reset = X2_df.reset_index(drop=True)\n",
    "\n",
    "# Concatenar los DataFrames a lo largo del eje de las columnas (axis=1)\n",
    "X_scale = pd.concat([X6_reset, X4_reset, X2_reset], axis=1)"
   ]
  },
  {
   "cell_type": "code",
   "execution_count": 22,
   "id": "7cb37db7-7bc9-4aee-ac44-537a90a02bed",
   "metadata": {
    "tags": []
   },
   "outputs": [
    {
     "name": "stdout",
     "output_type": "stream",
     "text": [
      "<class 'pandas.core.frame.DataFrame'>\n",
      "RangeIndex: 3846 entries, 0 to 3845\n",
      "Columns: 178 entries, 0 to 177\n",
      "dtypes: float64(178)\n",
      "memory usage: 5.2 MB\n"
     ]
    }
   ],
   "source": [
    "X_scale_df = pd.DataFrame(X_scale)\n",
    "X_scale_df.info()"
   ]
  },
  {
   "cell_type": "code",
   "execution_count": 20,
   "id": "6d7cece3-13e0-43f0-9067-8f73d049a3d2",
   "metadata": {
    "tags": []
   },
   "outputs": [],
   "source": [
    "# Dividir los datos en conjuntos de entrenamiento y prueba\n",
    "X_train, X_test, y_train, y_test = train_test_split(X_scale, y2, \n",
    "                                                    test_size=0.2, random_state=42)"
   ]
  },
  {
   "cell_type": "code",
   "execution_count": 23,
   "id": "223e31f6-8c21-4a99-ac97-ade8a2f74ceb",
   "metadata": {
    "tags": []
   },
   "outputs": [
    {
     "name": "stdout",
     "output_type": "stream",
     "text": [
      "WARNING:tensorflow:From C:\\Users\\Usuari\\anaconda3\\Lib\\site-packages\\keras\\src\\utils\\tf_utils.py:492: The name tf.ragged.RaggedTensorValue is deprecated. Please use tf.compat.v1.ragged.RaggedTensorValue instead.\n",
      "\n",
      "WARNING:tensorflow:From C:\\Users\\Usuari\\anaconda3\\Lib\\site-packages\\keras\\src\\engine\\base_layer_utils.py:384: The name tf.executing_eagerly_outside_functions is deprecated. Please use tf.compat.v1.executing_eagerly_outside_functions instead.\n",
      "\n"
     ]
    }
   ],
   "source": [
    "import tensorflow as tf\n",
    "from keras.models import Sequential\n",
    "from keras.layers import Dense\n",
    "from tensorflow.keras.callbacks import EarlyStopping\n",
    "\n",
    "\n",
    "model = Sequential([\n",
    "    Dense(128, activation='relu', input_shape=(178,)),\n",
    "    Dense(64, activation='relu'), \n",
    "    Dense(1)  \n",
    "])\n",
    "\n",
    "model.compile(\n",
    "    optimizer=tf.keras.optimizers.Adam(0.005),\n",
    "    loss='mean_squared_error', \n",
    "    metrics=['accuracy'] \n",
    ")\n",
    "\n",
    "nnmodel = model.fit(X_train, y_train, epochs=1000,\n",
    "               callbacks=[EarlyStopping(monitor='val_loss', patience=500, restore_best_weights=True)],#Datos que vienen de Akram et al. (2024)\n",
    "               batch_size=6, \n",
    "               verbose=False, \n",
    "               validation_split=0.3 \n",
    "              )"
   ]
  },
  {
   "cell_type": "code",
   "execution_count": 24,
   "id": "491ece16-0e2d-4e53-b1af-791c0321d238",
   "metadata": {
    "tags": []
   },
   "outputs": [
    {
     "name": "stdout",
     "output_type": "stream",
     "text": [
      "25/25 [==============================] - 0s 2ms/step\n",
      "Coefficient of Determination (R2): 0.9834009127191782\n",
      "Mean Absolute Error (MAE): 0.05113581232038538\n",
      "Relative Absolute Error (RAE): Ln_total_pr    0.110236\n",
      "dtype: float64\n",
      "Root Relative Squared Error (RRSE): Ln_total_pr    0.128837\n",
      "dtype: float64\n",
      "Root Mean Squared Error (RMSE): 0.07167571005532877\n"
     ]
    }
   ],
   "source": [
    "from sklearn.metrics import r2_score, mean_absolute_error, mean_squared_error\n",
    "import numpy as np\n",
    "\n",
    "# Suponiendo que 'tm' es tu modelo ya entrenado\n",
    "\n",
    "# Predicciones en el conjunto de prueba\n",
    "y_pred = model.predict(X_test)\n",
    "\n",
    "# Coefficient of determination (R2)\n",
    "r2 = r2_score(y_test, y_pred)\n",
    "\n",
    "# Mean Absolute Error (MAE)\n",
    "mae = mean_absolute_error(y_test, y_pred)\n",
    "\n",
    "# Relative Absolute Error (RAE)\n",
    "rae = np.sum(np.abs(y_pred - y_test)) / np.sum(np.abs(np.mean(y_test) - y_test))\n",
    "\n",
    "# Root Relative Squared Error (RRSE)\n",
    "rrse = np.sqrt(np.sum((y_pred - y_test) ** 2) / np.sum((np.mean(y_test) - y_test) ** 2))\n",
    "\n",
    "# Root Mean Squared Error (RMSE)\n",
    "rmse = np.sqrt(mean_squared_error(y_test, y_pred))\n",
    "\n",
    "# Imprimir resultados\n",
    "print(\"Coefficient of Determination (R2):\", r2)\n",
    "print(\"Mean Absolute Error (MAE):\", mae)\n",
    "print(\"Relative Absolute Error (RAE):\", rae)\n",
    "print(\"Root Relative Squared Error (RRSE):\", rrse)\n",
    "print(\"Root Mean Squared Error (RMSE):\", rmse)"
   ]
  },
  {
   "cell_type": "markdown",
   "id": "ad37736b-59ff-4ccd-b876-036e5c8e0335",
   "metadata": {},
   "source": [
    "Guardamos"
   ]
  },
  {
   "cell_type": "code",
   "execution_count": 27,
   "id": "87ef32ae-2205-4a46-b6e9-3d46baa9488d",
   "metadata": {
    "tags": []
   },
   "outputs": [
    {
     "name": "stdout",
     "output_type": "stream",
     "text": [
      "INFO:tensorflow:Assets written to: modelos/NN1-BCN4K\\assets\n"
     ]
    },
    {
     "name": "stderr",
     "output_type": "stream",
     "text": [
      "INFO:tensorflow:Assets written to: modelos/NN1-BCN4K\\assets\n"
     ]
    }
   ],
   "source": [
    "import pickle\n",
    "\n",
    "# Guardar el modelo\n",
    "model.save(\"modelos/NN1-BCN4K\")\n",
    "\n",
    "# Guardar el historial\n",
    "with open(\"modelos/NN1-BCN4K/history.pkl\", \"wb\") as f:\n",
    "    pickle.dump(nnmodel.history, f)"
   ]
  },
  {
   "cell_type": "markdown",
   "id": "487f3b1f-9a0f-4794-9fd9-82e893b9c7ba",
   "metadata": {},
   "source": [
    "## Random Forest"
   ]
  },
  {
   "cell_type": "code",
   "execution_count": 31,
   "id": "9d47e066-576f-4448-a30c-c1366b0f0be5",
   "metadata": {
    "tags": []
   },
   "outputs": [
    {
     "name": "stdout",
     "output_type": "stream",
     "text": [
      "<class 'pandas.core.frame.DataFrame'>\n",
      "Index: 3846 entries, 0 to 4042\n",
      "Data columns (total 1 columns):\n",
      " #   Column       Non-Null Count  Dtype  \n",
      "---  ------       --------------  -----  \n",
      " 0   Ln_total_pr  3846 non-null   float64\n",
      "dtypes: float64(1)\n",
      "memory usage: 60.1 KB\n"
     ]
    }
   ],
   "source": [
    "y2.info()"
   ]
  },
  {
   "cell_type": "code",
   "execution_count": 32,
   "id": "99068364-b3f5-43d1-bec3-4465bab20935",
   "metadata": {
    "tags": []
   },
   "outputs": [],
   "source": [
    "y3 = y2.values"
   ]
  },
  {
   "cell_type": "code",
   "execution_count": 34,
   "id": "58df85d5-36d7-4652-8b63-639cf6fef252",
   "metadata": {
    "tags": []
   },
   "outputs": [],
   "source": [
    "# Dividir los datos en conjuntos de entrenamiento y prueba\n",
    "X_trainRF, X_testRF, y_trainRF, y_testRF = train_test_split(X_scale, y3, \n",
    "                                                    test_size=0.2, random_state=42)"
   ]
  },
  {
   "cell_type": "code",
   "execution_count": 35,
   "id": "fab547e2-a2b5-4fac-8e36-fee9229b96c3",
   "metadata": {
    "tags": []
   },
   "outputs": [
    {
     "name": "stderr",
     "output_type": "stream",
     "text": [
      "C:\\Users\\Usuari\\anaconda3\\Lib\\site-packages\\sklearn\\base.py:1151: DataConversionWarning: A column-vector y was passed when a 1d array was expected. Please change the shape of y to (n_samples,), for example using ravel().\n",
      "  return fit_method(estimator, *args, **kwargs)\n"
     ]
    },
    {
     "name": "stdout",
     "output_type": "stream",
     "text": [
      "Random Forest - MSE: 0.00183643179647293\n",
      "Random Forest - R^2: 0.9940664445642153\n"
     ]
    }
   ],
   "source": [
    "from sklearn.ensemble import RandomForestRegressor\n",
    "from sklearn.metrics import mean_squared_error, r2_score\n",
    "\n",
    "# Crear el modelo de Random Forest\n",
    "rf_model = RandomForestRegressor(n_estimators=100, random_state=42)\n",
    "\n",
    "# Entrenar el modelo\n",
    "rf_model.fit(X_train, y_train)\n",
    "\n",
    "# Predecir sobre los datos de prueba\n",
    "y_pred_rf = rf_model.predict(X_test)\n",
    "\n",
    "# Calcular métricas de evaluación\n",
    "mse_rf = mean_squared_error(y_test, y_pred_rf)\n",
    "r2_rf = r2_score(y_test, y_pred_rf)\n",
    "\n",
    "# Imprimir las métricas\n",
    "print(\"Random Forest - MSE:\", mse_rf)\n",
    "print(\"Random Forest - R^2:\", r2_rf)"
   ]
  },
  {
   "cell_type": "code",
   "execution_count": 36,
   "id": "065326de-9745-413b-ba77-1d06413e3e67",
   "metadata": {
    "tags": []
   },
   "outputs": [
    {
     "name": "stdout",
     "output_type": "stream",
     "text": [
      "Random Forest - MAE: 0.021052431830905965\n",
      "Random Forest - RAE: 0.001682215985027641\n",
      "Random Forest - RMSE: 0.042853608908386354\n",
      "Random Forest - RRSE: Ln_total_pr    0.07703\n",
      "dtype: float64\n"
     ]
    }
   ],
   "source": [
    "from sklearn.metrics import mean_absolute_error\n",
    "\n",
    "# Calcular MAE\n",
    "mae_rf = mean_absolute_error(y_test, y_pred_rf)\n",
    "\n",
    "# Calcular RAE\n",
    "rae_rf = mae_rf / np.mean(np.abs(y_test))\n",
    "\n",
    "# Calcular RMSE\n",
    "rmse_rf = np.sqrt(mean_squared_error(y_test, y_pred_rf))\n",
    "\n",
    "# Calcular RRSE\n",
    "rrse_rf = rmse_rf / np.std(y_test)\n",
    "\n",
    "# Imprimir las métricas\n",
    "print(\"Random Forest - MAE:\", mae_rf)\n",
    "print(\"Random Forest - RAE:\", rae_rf)\n",
    "print(\"Random Forest - RMSE:\", rmse_rf)\n",
    "print(\"Random Forest - RRSE:\", rrse_rf)"
   ]
  },
  {
   "cell_type": "markdown",
   "id": "c708461d-356d-4b20-bf1f-e1a421904c8f",
   "metadata": {},
   "source": [
    "Guardamos."
   ]
  },
  {
   "cell_type": "code",
   "execution_count": 40,
   "id": "83739793-7f3c-4882-bb41-c05581cda9f1",
   "metadata": {
    "tags": []
   },
   "outputs": [],
   "source": [
    "import joblib\n",
    "import json\n",
    "\n",
    "# Guardar el modelo de Random Forest\n",
    "joblib.dump(rf_model, 'modelos/RF1-BCN4K.pkl')\n",
    "\n",
    "# Guardar el historial del modelo (history)\n",
    "with open('modelos/RF1-BCN4K-history.json', 'w') as file:\n",
    "    json.dump(nnmodel.history, file)"
   ]
  }
 ],
 "metadata": {
  "kernelspec": {
   "display_name": "Python 3 (ipykernel)",
   "language": "python",
   "name": "python3"
  },
  "language_info": {
   "codemirror_mode": {
    "name": "ipython",
    "version": 3
   },
   "file_extension": ".py",
   "mimetype": "text/x-python",
   "name": "python",
   "nbconvert_exporter": "python",
   "pygments_lexer": "ipython3",
   "version": "3.11.5"
  }
 },
 "nbformat": 4,
 "nbformat_minor": 5
}
