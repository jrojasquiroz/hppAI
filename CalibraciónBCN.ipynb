{
 "cells": [
  {
   "cell_type": "markdown",
   "id": "561a5bb2-e9a2-4219-b3eb-027d8c438cbb",
   "metadata": {
    "tags": []
   },
   "source": [
    "# 1. Modelo de precios hedónicos (OLS)"
   ]
  },
  {
   "cell_type": "markdown",
   "id": "6490d187-6936-4789-bdfa-4c847a490122",
   "metadata": {
    "tags": []
   },
   "source": [
    "## 1.1. Obtención y limpieza de datos"
   ]
  },
  {
   "cell_type": "markdown",
   "id": "ec11f79c-ddae-4ee0-a5c6-4d7f2b3e7c1e",
   "metadata": {},
   "source": [
    "Primero vamos a cargar las librerías que usaremos para elaborar un modelo de precios hedónicos (OLS), y con ello la base de datos que compartió Carlos."
   ]
  },
  {
   "cell_type": "code",
   "execution_count": 1,
   "id": "48d7e649-4ffa-4391-b9b1-982adda43f92",
   "metadata": {
    "tags": []
   },
   "outputs": [
    {
     "name": "stdout",
     "output_type": "stream",
     "text": [
      "<class 'pandas.core.frame.DataFrame'>\n",
      "RangeIndex: 4043 entries, 0 to 4042\n",
      "Columns: 203 entries, OBJECTID_1 to EPC_G_emision_2023\n",
      "dtypes: category(1), float64(189), object(13)\n",
      "memory usage: 6.2+ MB\n"
     ]
    }
   ],
   "source": [
    "import pandas as pd #permite manipular los dataframes, que serían el equivalente a los Excel\n",
    "import numpy as np #en caso se necesiten cálculos numéricos, como p. ej. encontrar valores nulos \n",
    "import pyreadstat #para cargar datos que vienen de SPSS\n",
    "import statsmodels.api as sm #para elaborar modelos OLS\n",
    "\n",
    "base=pd.read_spss('rawdata/BDDHabitaclia_4043_join.sav')\n",
    "base.info()"
   ]
  },
  {
   "cell_type": "markdown",
   "id": "057b86e6-c982-4799-a9e7-5dd2eb8f6a11",
   "metadata": {},
   "source": [
    "Reviso los nombres de las columnas"
   ]
  },
  {
   "cell_type": "code",
   "execution_count": 2,
   "id": "8c3ddf85-45b8-4e49-989f-46a70f073389",
   "metadata": {
    "tags": []
   },
   "outputs": [
    {
     "name": "stdout",
     "output_type": "stream",
     "text": [
      "['OBJECTID_1', 'codigo_inmueble1', 'Title', 'Type_build', 'Type_opera', 'Link', 'Location', 'Lat_X', 'Lon_Y', 'Climatic_Z', 'Nom_Mun', 'precio_eur', 'superficie', 'superficie_2', 'Unit_price', 'Ln_total_pr', 'Ln_unit_pr', 'numero_habitaciones', 'numero_bano', 'ratio_bano_hab', 'numero_aseo', 'ascensor', 'interac_planta', 'numero_de_piso', 'anyo_constr', 'anyo_constr_ponderad', 'antig_ponderad', 'Inverse_Age', 'Year_Before_1981', 'Year_1982_2006', 'Year_After_2007', 'superficie_terraza_m2', 'grand_terr_20m2', 'superficie_jardin_m2', 'superficie_salon', 'bool_despacho', 'bool_buhardilla', 'bool_trastero', 'bool_lavadero', 'bool_piscina_comunitaria', 'bool_jardin_comunitario', 'bool_amueblado', 'bool_ascensor', 'descripcion', 'bool_aire_acondicionado', 'bool_calefaccion', 'bool_chimenea', 'texto_destacado', 'Description', 'calificacion_consumo_letra', 'calificacion_consumo_valor', 'calificacion_emision_letra', 'calificacion_emision_valor', 'Dum_EPC', 'EPC_A_emision', 'EPC_B_emision', 'EPC_C_emision', 'EPC_D_emision', 'EPC_E_emision', 'EPC_F_emision', 'EPC_G_emision', 'COD_MUN', 'temp_enero', 'temp_julio', 'radiacion_enero', 'radiacion_julio', 'POB_91', 'POB_01', 'POB_06', 'POR_01', 'LTL1991_M', 'LTL_2001', 'DLTL_MUN', 'RW', 'FLE', 'FLS', 'SUP_URB_90', 'SUP_URB_00', 'Job_ratio_01', 'Autocontencion_01', 'Nodalidad_01', 'Dist_CBD', 'Dist_CBD2', 'Dist_sub_center', 'Elevation_Mean', 'dum_acces_viappal', 'IND_pr', 'FIRE_pr', 'Div_LandUse', 'COD_SEC', 'pr_directivo', 'pr_tecnico_prof', 'pr_tecnico_apoyo', 'pr_empl_admin', 'pr_restaur_comer', 'pr_agri_calificado', 'pr_artesano', 'pr_operador', 'pr_no_calif', 'desplaz_ponderado', 'plant_ras_pond', 'edif_ruin_pr', 'edif_malo_pr', 'edif_deficient_pr', 'edif_bueno_pr', 'Doorman_pr', 'opin_ruido_si_pr', 'opin_contam_si_pr', 'opin_calle_sucia_pr', 'opin_mala_comunic_pr', 'opin_pocazonaverde_pr', 'opin_delincuencia_pr', 'opin_falta_aseo_pr', 'local_salud_pr', 'local_edu_pr', 'local_social_pr', 'local_cult_pr', 'local_comerc_pr', 'local_oficinas_pr', 'local_industr_pr', 'local_agrar_pr', 'POB_TOTAL', 'POB_RESID', 'LOC_TOTAL', 'POR_TOTAL', 'LOC_VIV_TOTAL', 'dens_loc_100hab', 'dens_loc_sup', 'dens_pob_sup', 'estud_sin_pr', 'estud_primer_pr', 'estud_segund_pr', 'estud_tercer_pr', 'VIV_ppales_TOTAL', 'Sup_viv_sec', 'viv_ppales_pr', 'viv_no_ppales_pr', 'viv_secundarias_pr', 'viv_vacias_pr', 'viv_unifam_pr', 'viv_aptos_pr', 'resi_euro_pr', 'resi_africa_pr', 'resi_america_pr', 'resi_asia_pr', 'resi_oceania_pr', 'H_ocup_POR', 'H_loc_INE', 'H_tamaviv', 'H_ocup_POR_Xpor', 'H_loc_INE_XLOCS', 'H_tamaviv_Xvivs', 'CT_renta_alta_CPA', 'CT_renta_meda_CPA', 'CT_renta_medb_CPA', 'Income_Household_2016', 'DP2e', 'Dens_Time_total', 'Dens_Time_total_work', 'Dens_Time_total_Nwork', 'Dens_pers_act_total', 'Dens_pers_act_working', 'Dens_pers_act_Nworking', 'Div_total_work', 'Div_act_work', 'Div_socio_work', 'Div_total_Nwork', 'Div_act_Nwork', 'Div_socio_Nwork', 'calidad_cocina', 'diseny_cocina', 'alta_calidad', 'reform_inmob', 'dum_mar_200m', 'dum_ttpp_riel_urb', 'dist_near_riel_km', 'dist_near_viappal_km', 'C_contempo', 'C_estado', 'C_armarios', 'B_contempo', 'B_estado', 'B_lavamano', 'R_contempo', 'R_estado', 'R_carpinte', 'R_singular', 'R_ventana', 'Dum_precio', 'Precio_red', 'scrap_year', 'persona', 'filter_$', 'FAC1_1', 'FAC2_1', 'Muestra_2023', 'EPC_A_emision_2023', 'EPC_B_emision_2023', 'EPC_C_emision_2023', 'EPC_D_emision_2023', 'EPC_E_emision_2023', 'EPC_F_emision_2023', 'EPC_G_emision_2023']\n"
     ]
    }
   ],
   "source": [
    "print(base.columns.tolist())"
   ]
  },
  {
   "cell_type": "markdown",
   "id": "b36af588-ec28-4280-a0f8-445a9552ac09",
   "metadata": {},
   "source": [
    "En su modelo, Carlos usa las siguientes variables."
   ]
  },
  {
   "cell_type": "code",
   "execution_count": 9,
   "id": "42afdc16-f71d-4b98-b001-7d2bb8bc79ae",
   "metadata": {
    "tags": []
   },
   "outputs": [
    {
     "data": {
      "text/html": [
       "<div>\n",
       "<style scoped>\n",
       "    .dataframe tbody tr th:only-of-type {\n",
       "        vertical-align: middle;\n",
       "    }\n",
       "\n",
       "    .dataframe tbody tr th {\n",
       "        vertical-align: top;\n",
       "    }\n",
       "\n",
       "    .dataframe thead th {\n",
       "        text-align: right;\n",
       "    }\n",
       "</style>\n",
       "<table border=\"1\" class=\"dataframe\">\n",
       "  <thead>\n",
       "    <tr style=\"text-align: right;\">\n",
       "      <th></th>\n",
       "      <th>CT_renta_alta_CPA</th>\n",
       "      <th>CT_renta_meda_CPA</th>\n",
       "      <th>DP2e</th>\n",
       "      <th>Dist_CBD2</th>\n",
       "      <th>EPC_A_emision</th>\n",
       "      <th>EPC_B_emision</th>\n",
       "      <th>EPC_C_emision</th>\n",
       "      <th>EPC_D_emision</th>\n",
       "      <th>EPC_E_emision</th>\n",
       "      <th>EPC_F_emision</th>\n",
       "      <th>...</th>\n",
       "      <th>bool_calefaccion</th>\n",
       "      <th>bool_piscina_comunitaria</th>\n",
       "      <th>desplaz_ponderado</th>\n",
       "      <th>dum_mar_200m</th>\n",
       "      <th>grand_terr_20m2</th>\n",
       "      <th>interac_planta</th>\n",
       "      <th>opin_ruido_si_pr</th>\n",
       "      <th>ratio_bano_hab</th>\n",
       "      <th>superficie</th>\n",
       "      <th>superficie_2</th>\n",
       "    </tr>\n",
       "  </thead>\n",
       "  <tbody>\n",
       "    <tr>\n",
       "      <th>0</th>\n",
       "      <td>0.179265</td>\n",
       "      <td>0.629695</td>\n",
       "      <td>14.304224</td>\n",
       "      <td>3.143035</td>\n",
       "      <td>0.0</td>\n",
       "      <td>0.0</td>\n",
       "      <td>0.0</td>\n",
       "      <td>0.0</td>\n",
       "      <td>1.0</td>\n",
       "      <td>0.0</td>\n",
       "      <td>...</td>\n",
       "      <td>1.0</td>\n",
       "      <td>0.0</td>\n",
       "      <td>27.187629</td>\n",
       "      <td>0.0</td>\n",
       "      <td>1.0</td>\n",
       "      <td>2.0</td>\n",
       "      <td>43.530314</td>\n",
       "      <td>1.000000</td>\n",
       "      <td>86.0</td>\n",
       "      <td>7396.0</td>\n",
       "    </tr>\n",
       "    <tr>\n",
       "      <th>1</th>\n",
       "      <td>-0.400132</td>\n",
       "      <td>0.678419</td>\n",
       "      <td>9.873995</td>\n",
       "      <td>3.868774</td>\n",
       "      <td>0.0</td>\n",
       "      <td>1.0</td>\n",
       "      <td>0.0</td>\n",
       "      <td>0.0</td>\n",
       "      <td>0.0</td>\n",
       "      <td>0.0</td>\n",
       "      <td>...</td>\n",
       "      <td>1.0</td>\n",
       "      <td>0.0</td>\n",
       "      <td>26.831497</td>\n",
       "      <td>0.0</td>\n",
       "      <td>0.0</td>\n",
       "      <td>3.0</td>\n",
       "      <td>41.376779</td>\n",
       "      <td>0.666667</td>\n",
       "      <td>97.0</td>\n",
       "      <td>9409.0</td>\n",
       "    </tr>\n",
       "    <tr>\n",
       "      <th>2</th>\n",
       "      <td>-0.763527</td>\n",
       "      <td>0.215970</td>\n",
       "      <td>11.400419</td>\n",
       "      <td>4.517012</td>\n",
       "      <td>0.0</td>\n",
       "      <td>0.0</td>\n",
       "      <td>0.0</td>\n",
       "      <td>1.0</td>\n",
       "      <td>0.0</td>\n",
       "      <td>0.0</td>\n",
       "      <td>...</td>\n",
       "      <td>0.0</td>\n",
       "      <td>0.0</td>\n",
       "      <td>27.542064</td>\n",
       "      <td>0.0</td>\n",
       "      <td>0.0</td>\n",
       "      <td>-3.0</td>\n",
       "      <td>36.155690</td>\n",
       "      <td>0.666667</td>\n",
       "      <td>77.0</td>\n",
       "      <td>5929.0</td>\n",
       "    </tr>\n",
       "    <tr>\n",
       "      <th>3</th>\n",
       "      <td>-0.520908</td>\n",
       "      <td>0.403254</td>\n",
       "      <td>11.540736</td>\n",
       "      <td>3.539149</td>\n",
       "      <td>0.0</td>\n",
       "      <td>0.0</td>\n",
       "      <td>0.0</td>\n",
       "      <td>0.0</td>\n",
       "      <td>1.0</td>\n",
       "      <td>0.0</td>\n",
       "      <td>...</td>\n",
       "      <td>0.0</td>\n",
       "      <td>0.0</td>\n",
       "      <td>27.909746</td>\n",
       "      <td>0.0</td>\n",
       "      <td>0.0</td>\n",
       "      <td>2.0</td>\n",
       "      <td>36.451325</td>\n",
       "      <td>0.500000</td>\n",
       "      <td>95.0</td>\n",
       "      <td>9025.0</td>\n",
       "    </tr>\n",
       "    <tr>\n",
       "      <th>4</th>\n",
       "      <td>-0.069044</td>\n",
       "      <td>1.017454</td>\n",
       "      <td>11.120200</td>\n",
       "      <td>5.277817</td>\n",
       "      <td>0.0</td>\n",
       "      <td>1.0</td>\n",
       "      <td>0.0</td>\n",
       "      <td>0.0</td>\n",
       "      <td>0.0</td>\n",
       "      <td>0.0</td>\n",
       "      <td>...</td>\n",
       "      <td>1.0</td>\n",
       "      <td>0.0</td>\n",
       "      <td>24.657258</td>\n",
       "      <td>0.0</td>\n",
       "      <td>0.0</td>\n",
       "      <td>2.0</td>\n",
       "      <td>41.172813</td>\n",
       "      <td>0.750000</td>\n",
       "      <td>163.0</td>\n",
       "      <td>26569.0</td>\n",
       "    </tr>\n",
       "  </tbody>\n",
       "</table>\n",
       "<p>5 rows × 32 columns</p>\n",
       "</div>"
      ],
      "text/plain": [
       "   CT_renta_alta_CPA  CT_renta_meda_CPA       DP2e  Dist_CBD2  EPC_A_emision  \\\n",
       "0           0.179265           0.629695  14.304224   3.143035            0.0   \n",
       "1          -0.400132           0.678419   9.873995   3.868774            0.0   \n",
       "2          -0.763527           0.215970  11.400419   4.517012            0.0   \n",
       "3          -0.520908           0.403254  11.540736   3.539149            0.0   \n",
       "4          -0.069044           1.017454  11.120200   5.277817            0.0   \n",
       "\n",
       "   EPC_B_emision  EPC_C_emision  EPC_D_emision  EPC_E_emision  EPC_F_emision  \\\n",
       "0            0.0            0.0            0.0            1.0            0.0   \n",
       "1            1.0            0.0            0.0            0.0            0.0   \n",
       "2            0.0            0.0            1.0            0.0            0.0   \n",
       "3            0.0            0.0            0.0            1.0            0.0   \n",
       "4            1.0            0.0            0.0            0.0            0.0   \n",
       "\n",
       "   ...  bool_calefaccion  bool_piscina_comunitaria  desplaz_ponderado  \\\n",
       "0  ...               1.0                       0.0          27.187629   \n",
       "1  ...               1.0                       0.0          26.831497   \n",
       "2  ...               0.0                       0.0          27.542064   \n",
       "3  ...               0.0                       0.0          27.909746   \n",
       "4  ...               1.0                       0.0          24.657258   \n",
       "\n",
       "   dum_mar_200m  grand_terr_20m2  interac_planta  opin_ruido_si_pr  \\\n",
       "0           0.0              1.0             2.0         43.530314   \n",
       "1           0.0              0.0             3.0         41.376779   \n",
       "2           0.0              0.0            -3.0         36.155690   \n",
       "3           0.0              0.0             2.0         36.451325   \n",
       "4           0.0              0.0             2.0         41.172813   \n",
       "\n",
       "   ratio_bano_hab  superficie  superficie_2  \n",
       "0        1.000000        86.0        7396.0  \n",
       "1        0.666667        97.0        9409.0  \n",
       "2        0.666667        77.0        5929.0  \n",
       "3        0.500000        95.0        9025.0  \n",
       "4        0.750000       163.0       26569.0  \n",
       "\n",
       "[5 rows x 32 columns]"
      ]
     },
     "execution_count": 9,
     "metadata": {},
     "output_type": "execute_result"
    }
   ],
   "source": [
    "# Seleccionar las columnas especificadas\n",
    "selected_columns = ['Ln_total_pr', 'EPC_C_emision', 'EPC_F_emision', 'EPC_B_emision', 'EPC_A_emision', 'EPC_D_emision', \n",
    "                    'EPC_G_emision', 'EPC_E_emision', 'superficie', 'CT_renta_alta_CPA', 'superficie_2', \n",
    "                    'bool_ascensor', 'bool_piscina_comunitaria', 'bool_calefaccion', \n",
    "                    'desplaz_ponderado', 'Income_Household_2016', 'FIRE_pr', 'FAC1_1', 'FAC2_1', \n",
    "                    'grand_terr_20m2', 'Year_After_2007', 'CT_renta_meda_CPA', 'DP2e', 'dum_mar_200m', \n",
    "                    'bool_aire_acondicionado', 'Precio_red', 'ratio_bano_hab', 'Year_1982_2006', 'opin_ruido_si_pr', \n",
    "                    'Dist_CBD2', 'H_tamaviv', 'interac_planta']\n",
    "\n",
    "#FAC1_1 y FAC2_1 hacen referencia a 'Estado_contemporaneidad_calidad' y 'Ausencia_singulares_presencia_arm_cocina'\n",
    "\n",
    "# Seleccionar las columnas y ordenarlas alfabéticamente para que los resultados sean como\n",
    "# el Excel de Carlos\n",
    "bdd = base[selected_columns].sort_index(axis=1)\n",
    "\n",
    "# Muestra el DataFrame resultante\n",
    "bdd.head()"
   ]
  },
  {
   "cell_type": "markdown",
   "id": "7f2efe82-7b0b-4fc2-bc50-ce33c562cb69",
   "metadata": {},
   "source": [
    "Luego, hizo un filtro para eliminar outliers tomando en consideración la media y la desviación estándar."
   ]
  },
  {
   "cell_type": "code",
   "execution_count": 4,
   "id": "4ff4bcad-d4c5-44a5-85bc-244048636257",
   "metadata": {
    "tags": []
   },
   "outputs": [
    {
     "name": "stdout",
     "output_type": "stream",
     "text": [
      "<class 'pandas.core.frame.DataFrame'>\n",
      "Index: 3859 entries, 0 to 4042\n",
      "Data columns (total 33 columns):\n",
      " #   Column                    Non-Null Count  Dtype  \n",
      "---  ------                    --------------  -----  \n",
      " 0   CT_renta_alta_CPA         3859 non-null   float64\n",
      " 1   CT_renta_meda_CPA         3859 non-null   float64\n",
      " 2   DP2e                      3859 non-null   float64\n",
      " 3   Dist_CBD2                 3859 non-null   float64\n",
      " 4   EPC_A_emision             3859 non-null   float64\n",
      " 5   EPC_B_emision             3859 non-null   float64\n",
      " 6   EPC_C_emision             3859 non-null   float64\n",
      " 7   EPC_D_emision             3859 non-null   float64\n",
      " 8   EPC_E_emision             3859 non-null   float64\n",
      " 9   EPC_F_emision             3859 non-null   float64\n",
      " 10  EPC_G_emision             3859 non-null   float64\n",
      " 11  FAC1_1                    3859 non-null   float64\n",
      " 12  FAC2_1                    3859 non-null   float64\n",
      " 13  FIRE_pr                   3859 non-null   float64\n",
      " 14  H_tamaviv                 3859 non-null   float64\n",
      " 15  Income_Household_2016     3859 non-null   float64\n",
      " 16  Ln_total_pr               3859 non-null   float64\n",
      " 17  Muestra_2023              3859 non-null   float64\n",
      " 18  Precio_red                3859 non-null   float64\n",
      " 19  Year_1982_2006            3859 non-null   float64\n",
      " 20  Year_After_2007           3859 non-null   float64\n",
      " 21  bool_aire_acondicionado   3859 non-null   float64\n",
      " 22  bool_ascensor             3859 non-null   float64\n",
      " 23  bool_calefaccion          3859 non-null   float64\n",
      " 24  bool_piscina_comunitaria  3859 non-null   float64\n",
      " 25  desplaz_ponderado         3859 non-null   float64\n",
      " 26  dum_mar_200m              3859 non-null   float64\n",
      " 27  grand_terr_20m2           3859 non-null   float64\n",
      " 28  interac_planta            3859 non-null   float64\n",
      " 29  opin_ruido_si_pr          3859 non-null   float64\n",
      " 30  ratio_bano_hab            3852 non-null   float64\n",
      " 31  superficie                3859 non-null   float64\n",
      " 32  superficie_2              3859 non-null   float64\n",
      "dtypes: float64(33)\n",
      "memory usage: 1.0 MB\n"
     ]
    }
   ],
   "source": [
    "df = bdd[(bdd['Ln_total_pr'] >= 11.2842035426135) & (bdd['Ln_total_pr'] <= 13.8409882055083)]\n",
    "df.info()"
   ]
  },
  {
   "cell_type": "markdown",
   "id": "916b4ecd-c922-402c-be9d-9260c030cf95",
   "metadata": {},
   "source": [
    "Los resultados nos muestran que hay 3859 observaciones y no hay valores nulos (noten los *non-null*). Sin embargo, cuando a continuación intento hacer el modelo de precios hedónicos, me sale un mensaje de que existen filas vacías (en Python se les conoce como valores *NaN*-Not a Number). A veces pasan esas cosas, y diferenciar entre un valor *null* y un *NaN* suele ser complejo para quienes no venimos del mundo de la programación.\n",
    "\n",
    "Para no hacernos problemas, el primer paso es eliminar aquellas filas vacías. A continuación, identificamos las variables independientes o **explicativas** (**X**) y la dependiente o **a explicar** (**Y**), y corremos el modelo."
   ]
  },
  {
   "cell_type": "markdown",
   "id": "6e7f3630-09c4-4cfc-913d-d69c677209ea",
   "metadata": {
    "tags": []
   },
   "source": [
    "## 1.2. Elaboración del modelo"
   ]
  },
  {
   "cell_type": "code",
   "execution_count": 5,
   "id": "4834d721-53ea-450d-bfc8-aee249ea1a1c",
   "metadata": {
    "tags": []
   },
   "outputs": [
    {
     "name": "stdout",
     "output_type": "stream",
     "text": [
      "                            OLS Regression Results                            \n",
      "==============================================================================\n",
      "Dep. Variable:            Ln_total_pr   R-squared:                       0.883\n",
      "Model:                            OLS   Adj. R-squared:                  0.882\n",
      "Method:                 Least Squares   F-statistic:                     901.0\n",
      "Date:                Wed, 07 Feb 2024   Prob (F-statistic):               0.00\n",
      "Time:                        18:02:01   Log-Likelihood:                 929.80\n",
      "No. Observations:                3852   AIC:                            -1794.\n",
      "Df Residuals:                    3819   BIC:                            -1587.\n",
      "Df Model:                          32                                         \n",
      "Covariance Type:            nonrobust                                         \n",
      "============================================================================================\n",
      "                               coef    std err          t      P>|t|      [0.025      0.975]\n",
      "--------------------------------------------------------------------------------------------\n",
      "const                       10.9711      0.091    120.837      0.000      10.793      11.149\n",
      "CT_renta_alta_CPA            0.0996      0.016      6.387      0.000       0.069       0.130\n",
      "CT_renta_meda_CPA            0.0573      0.007      7.851      0.000       0.043       0.072\n",
      "DP2e                         0.0148      0.002      5.967      0.000       0.010       0.020\n",
      "Dist_CBD2                   -0.0071      0.002     -3.138      0.002      -0.011      -0.003\n",
      "EPC_A_emision                0.0496      0.025      2.006      0.045       0.001       0.098\n",
      "EPC_B_emision                0.1730      0.027      6.391      0.000       0.120       0.226\n",
      "EPC_C_emision                0.0374      0.022      1.681      0.093      -0.006       0.081\n",
      "EPC_D_emision               -0.0513      0.015     -3.426      0.001      -0.081      -0.022\n",
      "EPC_E_emision                0.0021      0.007      0.290      0.772      -0.012       0.016\n",
      "EPC_F_emision                0.0038      0.015      0.260      0.795      -0.025       0.033\n",
      "EPC_G_emision                0.0052      0.013      0.399      0.690      -0.020       0.031\n",
      "FAC1_1                       0.0566      0.004     15.854      0.000       0.050       0.064\n",
      "FAC2_1                       0.0255      0.003      7.852      0.000       0.019       0.032\n",
      "FIRE_pr                      0.0119      0.002      7.873      0.000       0.009       0.015\n",
      "H_tamaviv                    0.0976      0.029      3.362      0.001       0.041       0.154\n",
      "Income_Household_2016     7.244e-06   5.11e-07     14.173      0.000    6.24e-06    8.25e-06\n",
      "Muestra_2023                 0.0026      0.007      0.355      0.723      -0.012       0.017\n",
      "Precio_red                 1.56e-07   3.33e-08      4.682      0.000    9.07e-08    2.21e-07\n",
      "Year_1982_2006               0.0350      0.012      2.922      0.003       0.012       0.058\n",
      "Year_After_2007              0.1231      0.016      7.568      0.000       0.091       0.155\n",
      "bool_aire_acondicionado      0.0309      0.007      4.324      0.000       0.017       0.045\n",
      "bool_ascensor                0.1024      0.013      7.809      0.000       0.077       0.128\n",
      "bool_calefaccion             0.0432      0.007      5.923      0.000       0.029       0.058\n",
      "bool_piscina_comunitaria     0.1710      0.019      9.088      0.000       0.134       0.208\n",
      "desplaz_ponderado           -0.0192      0.002     -8.494      0.000      -0.024      -0.015\n",
      "dum_mar_200m                 0.2777      0.040      6.904      0.000       0.199       0.357\n",
      "grand_terr_20m2              0.0981      0.012      7.889      0.000       0.074       0.122\n",
      "interac_planta               0.0034      0.002      2.240      0.025       0.000       0.006\n",
      "opin_ruido_si_pr             0.0016      0.001      2.838      0.005       0.000       0.003\n",
      "ratio_bano_hab               0.0549      0.014      3.809      0.000       0.027       0.083\n",
      "superficie                   0.0145      0.000     46.266      0.000       0.014       0.015\n",
      "superficie_2             -3.046e-05   1.18e-06    -25.902      0.000   -3.28e-05   -2.82e-05\n",
      "==============================================================================\n",
      "Omnibus:                      132.311   Durbin-Watson:                   1.845\n",
      "Prob(Omnibus):                  0.000   Jarque-Bera (JB):              299.480\n",
      "Skew:                          -0.191   Prob(JB):                     9.30e-66\n",
      "Kurtosis:                       4.312   Cond. No.                     3.23e+06\n",
      "==============================================================================\n",
      "\n",
      "Notes:\n",
      "[1] Standard Errors assume that the covariance matrix of the errors is correctly specified.\n",
      "[2] The condition number is large, 3.23e+06. This might indicate that there are\n",
      "strong multicollinearity or other numerical problems.\n"
     ]
    }
   ],
   "source": [
    "# Eliminar filas con valores infinitos o NaN en las variables independientes (X) y dependiente (y)\n",
    "df = df.replace([np.inf, -np.inf], np.nan).dropna()  #Me he dado cuenta que hay filas vacías, las elimino.\n",
    "\n",
    "# Definir las variables independientes (X) y dependiente (y)\n",
    "X_olsC = df.drop('Ln_total_pr', axis=1)  # Todas las columnas excepto 'Ln_total_pr'\n",
    "y_olsC = df['Ln_total_pr']  # Columna 'Ln_total_pr'\n",
    "\n",
    "# Agregar una constante (Beta) a la matriz X para el término de intercepción del modelo\n",
    "X_olsC = sm.add_constant(X_olsC) #'sm' es la librería 'statsmodels' que cargamos al inicio. Ya\n",
    "                            #está configurada para que 'sepa' qué tiene que hacer\n",
    "\n",
    "# Crear el modelo de regresión lineal\n",
    "olsC = sm.OLS(y_olsC, X_olsC) #noten que seguimos pidiendole que use 'sm' \n",
    "\n",
    "# Ajustar el modelo a los datos\n",
    "results = olsC.fit()\n",
    "\n",
    "# Imprimir el resumen del modelo\n",
    "print(results.summary())"
   ]
  },
  {
   "cell_type": "markdown",
   "id": "0b942857-36a1-475b-8b77-baf50632ca69",
   "metadata": {},
   "source": [
    "Podría haber hecho correlaciones antes de correr el modelo, u obtener los gráficos de distribución del error ahora que ya lo tengo, pero como es un modelo que ya ha sido corroborado por Carlos, sólo quería estar seguro que (**1**) haciéndolo en Python tengo los mismos resultados y (**2**) que estoy manipulando los datos de la misma forma que él."
   ]
  },
  {
   "cell_type": "markdown",
   "id": "501932d7-09c6-4628-8ccc-18ba7721a2d3",
   "metadata": {},
   "source": [
    "Akram et al. (2024) utilizan cinco parámetros para medir el rendimiento del modelo: Mean Absolute Error (MAE), Relative Absolute Error (RAE), Root Mean Squared Error (RMSE), Root Relative Squared Error (RRSE) y el Coeficiente de determinación ($R^2$).\n",
    "\n",
    "Si bien el último ya lo obtengo del modelo de Carlos, para calcular los otros parámetros es mejor subdividir las observaciones en dos muestras: una de entrenamiento (75-80%) y otra de testeo (20-25%), de lo contrario se basarían en los mismos datos que se utilizaron para entrenar el modelo (100%) y no proporcionarían una estimación imparcial de su rendimiento en datos no vistos.\n",
    "\n",
    "Tengan presente, además, que los modelos de regresión se pueden usar para entender un fenómeno (el caso del primero modelo) o para predecirlo (que es lo que intentamos hacer ahora)."
   ]
  },
  {
   "cell_type": "markdown",
   "id": "edeffb30-2628-4958-85e2-cddb1f195a98",
   "metadata": {
    "tags": []
   },
   "source": [
    "## 1.3. Elaboración del segundo modelo"
   ]
  },
  {
   "cell_type": "markdown",
   "id": "92849adc-aaa6-4ab6-923b-d33f453119c6",
   "metadata": {
    "tags": []
   },
   "source": [
    "Primero, cargamos las nuevas librerías que usaremos para esta tarea."
   ]
  },
  {
   "cell_type": "code",
   "execution_count": 5,
   "id": "f9ca7039-0a2a-4141-a364-0e0093cd5b76",
   "metadata": {
    "tags": []
   },
   "outputs": [],
   "source": [
    "from sklearn.model_selection import train_test_split #para dividir datos en entrenamiento y testeo\n",
    "import seaborn as sns #para hacer gráficos, p. ej. el de distribución de una variable\n",
    "import matplotlib.pyplot as plt #completo de sns para gráficos \n",
    "from sklearn.metrics import mean_absolute_error, mean_squared_error, r2_score #para calcular parámetros del modelo"
   ]
  },
  {
   "cell_type": "markdown",
   "id": "59ac89c9-83aa-473e-8605-45f952c83f06",
   "metadata": {},
   "source": [
    "Ya no trabajaremos con el dataframe *df*, sino con *bdd*, porque el primero tiene pre-establecido un filtro para eliminar outliers."
   ]
  },
  {
   "cell_type": "code",
   "execution_count": 4,
   "id": "84cb30d0-7fea-4762-9c4f-f2e368f1fa6a",
   "metadata": {
    "tags": []
   },
   "outputs": [],
   "source": [
    "# Eliminar filas con valores infinitos o NaN en las variables independientes (X) y dependiente (y)\n",
    "bdd = bdd.replace([np.inf, -np.inf], np.nan).dropna()  #Me he dado cuenta que hay filas vacías, las elimino.\n",
    "\n",
    "# Definir las variables independientes (X) y dependiente (y)\n",
    "X_ols = bdd.drop('Ln_total_pr', axis=1)  # Todas las columnas excepto 'Ln_total_pr'\n",
    "y_ols = bdd['Ln_total_pr']  # Columna 'Ln_total_pr'"
   ]
  },
  {
   "cell_type": "code",
   "execution_count": 28,
   "id": "ac06f4a0-1ca4-4725-a513-82cfbc7e7859",
   "metadata": {
    "tags": []
   },
   "outputs": [],
   "source": [
    "# Dividir los datos en conjuntos de entrenamiento y testeo\n",
    "X_trainOLS, X_testOLS, y_trainOLS, y_testOLS = train_test_split(\n",
    "                                                    X_ols, y_ols, \n",
    "                                                    test_size=0.2, \n",
    "                                                    random_state=42 #Puede ser cualquier número\n",
    "                                                    ) "
   ]
  },
  {
   "cell_type": "markdown",
   "id": "6300351e-b971-410c-bfa6-8118b794402d",
   "metadata": {},
   "source": [
    "Ahora debemos asegurarnos que nuestros datos de entrenamiento no tengan outliers. Para eso, vamos a ver la distribución de la Y de entrenamiento (*y_trainOLS*), que debería ser de tipo normal."
   ]
  },
  {
   "cell_type": "code",
   "execution_count": 9,
   "id": "98bb27aa-9596-4644-a7c5-671f9d363710",
   "metadata": {
    "tags": []
   },
   "outputs": [
    {
     "data": {
      "image/png": "[encoded data removed]",
      "text/plain": [
       "<Figure size 640x480 with 1 Axes>"
      ]
     },
     "metadata": {},
     "output_type": "display_data"
    }
   ],
   "source": [
    "# Crear un histograma de los datos con KDE\n",
    "sns.histplot(y_trainOLS, kde=True, color='skyblue', edgecolor='black')\n",
    "\n",
    "# Agregar etiquetas y título\n",
    "plt.xlabel('Valor')\n",
    "plt.ylabel('Frecuencia')\n",
    "plt.title('Distribución de los datos con KDE')\n",
    "\n",
    "# Mostrar el histograma\n",
    "plt.show()"
   ]
  },
  {
   "cell_type": "markdown",
   "id": "f7751963-d836-47c6-a402-69200aed9fc4",
   "metadata": {},
   "source": [
    "¿Qué pasa si le elimino los outliers?"
   ]
  },
  {
   "cell_type": "code",
   "execution_count": 11,
   "id": "caa80b1f-0aab-4a27-a119-5c116e06e782",
   "metadata": {
    "tags": []
   },
   "outputs": [
    {
     "data": {
      "image/png": "[encoded data removed]",
      "text/plain": [
       "<Figure size 640x480 with 1 Axes>"
      ]
     },
     "metadata": {},
     "output_type": "display_data"
    }
   ],
   "source": [
    "mean = y_trainOLS.mean()\n",
    "std_dev = y_trainOLS.std()\n",
    "\n",
    "# Definir los límites para identificar outliers\n",
    "lower_limit = mean - 2 * std_dev\n",
    "upper_limit = mean + 2 * std_dev\n",
    "\n",
    "# Filtrar los datos para eliminar los outliers\n",
    "y_trainOLS_filtered = y_trainOLS[(y_trainOLS >= lower_limit) & (y_trainOLS <= upper_limit)]\n",
    "\n",
    "# Crear un histograma de los datos con KDE\n",
    "sns.histplot(y_trainOLS_filtered, kde=True, color='skyblue', edgecolor='black')\n",
    "\n",
    "# Agregar etiquetas y título\n",
    "plt.xlabel('Valor')\n",
    "plt.ylabel('Frecuencia')\n",
    "plt.title('Distribución de los datos con KDE')\n",
    "\n",
    "# Mostrar el histograma\n",
    "plt.show()"
   ]
  },
  {
   "cell_type": "markdown",
   "id": "93bb875d-1b53-4f1c-97e2-aeab353d7d47",
   "metadata": {},
   "source": [
    "No mejora en gran medida, me parece que antes se acercaba más a una distribución normal, por lo que no eliminaré datos por considerar que no hay outliers.\n",
    "\n",
    "A continuación, elaboro el modelo. Vemos que los resultados son muy similares a los que encontró Carlos."
   ]
  },
  {
   "cell_type": "code",
   "execution_count": 29,
   "id": "39a9e7f5-5e7b-4117-bcbb-2c040c2fa33d",
   "metadata": {
    "tags": []
   },
   "outputs": [
    {
     "name": "stdout",
     "output_type": "stream",
     "text": [
      "                            OLS Regression Results                            \n",
      "==============================================================================\n",
      "Dep. Variable:            Ln_total_pr   R-squared:                       0.882\n",
      "Model:                            OLS   Adj. R-squared:                  0.881\n",
      "Method:                 Least Squares   F-statistic:                     713.4\n",
      "Date:                Thu, 08 Feb 2024   Prob (F-statistic):               0.00\n",
      "Time:                        15:58:53   Log-Likelihood:                 712.48\n",
      "No. Observations:                3081   AIC:                            -1359.\n",
      "Df Residuals:                    3048   BIC:                            -1160.\n",
      "Df Model:                          32                                         \n",
      "Covariance Type:            nonrobust                                         \n",
      "============================================================================================\n",
      "                               coef    std err          t      P>|t|      [0.025      0.975]\n",
      "--------------------------------------------------------------------------------------------\n",
      "const                       10.9776      0.103    106.946      0.000      10.776      11.179\n",
      "CT_renta_alta_CPA            0.0984      0.018      5.561      0.000       0.064       0.133\n",
      "CT_renta_meda_CPA            0.0558      0.008      6.707      0.000       0.039       0.072\n",
      "DP2e                         0.0124      0.003      4.446      0.000       0.007       0.018\n",
      "Dist_CBD2                   -0.0065      0.003     -2.572      0.010      -0.011      -0.002\n",
      "EPC_A_emision                0.0513      0.027      1.899      0.058      -0.002       0.104\n",
      "EPC_B_emision                0.1497      0.029      5.082      0.000       0.092       0.207\n",
      "EPC_C_emision                0.0357      0.025      1.446      0.148      -0.013       0.084\n",
      "EPC_D_emision               -0.0377      0.017     -2.229      0.026      -0.071      -0.005\n",
      "EPC_E_emision                0.0043      0.008      0.532      0.595      -0.012       0.020\n",
      "EPC_F_emision               -0.0020      0.017     -0.118      0.906      -0.034       0.030\n",
      "EPC_G_emision               -0.0048      0.015     -0.320      0.749      -0.034       0.025\n",
      "FAC1_1                       0.0549      0.004     13.604      0.000       0.047       0.063\n",
      "FAC2_1                       0.0261      0.004      7.095      0.000       0.019       0.033\n",
      "FIRE_pr                      0.0130      0.002      7.590      0.000       0.010       0.016\n",
      "H_tamaviv                    0.1141      0.033      3.430      0.001       0.049       0.179\n",
      "Income_Household_2016     7.128e-06   5.79e-07     12.312      0.000    5.99e-06    8.26e-06\n",
      "Muestra_2023              8.233e-05      0.008      0.010      0.992      -0.016       0.017\n",
      "Precio_red                1.569e-07    3.9e-08      4.022      0.000    8.04e-08    2.33e-07\n",
      "Year_1982_2006               0.0424      0.014      3.111      0.002       0.016       0.069\n",
      "Year_After_2007              0.1331      0.018      7.350      0.000       0.098       0.169\n",
      "bool_aire_acondicionado      0.0292      0.008      3.614      0.000       0.013       0.045\n",
      "bool_ascensor                0.1176      0.015      7.901      0.000       0.088       0.147\n",
      "bool_calefaccion             0.0486      0.008      5.882      0.000       0.032       0.065\n",
      "bool_piscina_comunitaria     0.1609      0.022      7.469      0.000       0.119       0.203\n",
      "desplaz_ponderado           -0.0193      0.003     -7.553      0.000      -0.024      -0.014\n",
      "dum_mar_200m                 0.2694      0.048      5.623      0.000       0.175       0.363\n",
      "grand_terr_20m2              0.0962      0.014      6.818      0.000       0.069       0.124\n",
      "interac_planta               0.0025      0.002      1.436      0.151      -0.001       0.006\n",
      "opin_ruido_si_pr             0.0015      0.001      2.279      0.023       0.000       0.003\n",
      "ratio_bano_hab               0.0489      0.016      3.024      0.003       0.017       0.081\n",
      "superficie                   0.0143      0.000     41.201      0.000       0.014       0.015\n",
      "superficie_2             -2.939e-05   1.27e-06    -23.179      0.000   -3.19e-05   -2.69e-05\n",
      "==============================================================================\n",
      "Omnibus:                       93.553   Durbin-Watson:                   1.959\n",
      "Prob(Omnibus):                  0.000   Jarque-Bera (JB):              207.144\n",
      "Skew:                          -0.157   Prob(JB):                     1.05e-45\n",
      "Kurtosis:                       4.231   Cond. No.                     3.14e+06\n",
      "==============================================================================\n",
      "\n",
      "Notes:\n",
      "[1] Standard Errors assume that the covariance matrix of the errors is correctly specified.\n",
      "[2] The condition number is large, 3.14e+06. This might indicate that there are\n",
      "strong multicollinearity or other numerical problems.\n"
     ]
    }
   ],
   "source": [
    "# Añadir una constante a X_trainOLS para estimar el intercepto\n",
    "X_trainOLS = sm.add_constant(X_trainOLS)\n",
    "\n",
    "# Crear el modelo de regresión lineal\n",
    "ols = sm.OLS(y_trainOLS, X_trainOLS)\n",
    "\n",
    "# Ajustar el modelo a los datos\n",
    "resOLS = ols.fit()\n",
    "\n",
    "# Imprimir el resumen del modelo\n",
    "print(resOLS.summary())"
   ]
  },
  {
   "cell_type": "markdown",
   "id": "631d10c7-8ce9-4093-8eb3-72f7b5c4bce9",
   "metadata": {},
   "source": [
    "Ponemos **a prueba** el modelo con los **datos de testeo**."
   ]
  },
  {
   "cell_type": "code",
   "execution_count": 30,
   "id": "41248993-078e-4188-89e1-c0223914e798",
   "metadata": {
    "tags": []
   },
   "outputs": [],
   "source": [
    "X_testOLS = sm.add_constant(X_testOLS)  # Agregar una constante para el término de intercepción\n",
    "y_pred_testOLS = resOLS.predict(X_testOLS)  # Predicciones del modelo para los datos de prueba"
   ]
  },
  {
   "cell_type": "code",
   "execution_count": 31,
   "id": "85894672-724c-4da6-adbf-7909839d8038",
   "metadata": {
    "tags": []
   },
   "outputs": [
    {
     "name": "stdout",
     "output_type": "stream",
     "text": [
      "Coefficient of Determination (R2): 0.8848420106419187\n",
      "Mean Absolute Error (MAE): 0.13847767719336038\n",
      "Relative Absolute Error (RAE): 0.011076586971280096\n",
      "Root Relative Squared Error (RRSE): 0.33912921947862257\n",
      "Root Mean Squared Error (RMSE): 0.18347096277291666\n"
     ]
    }
   ],
   "source": [
    "###Ojo que uso los datos de testeo\n",
    "# Calcular el R^2\n",
    "r2OLS = r2_score(y_testOLS, y_pred_testOLS)\n",
    "\n",
    "# Calcular el MAE\n",
    "maeOLS = mean_absolute_error(y_testOLS, y_pred_testOLS)\n",
    "\n",
    "# Calcular el RMSE\n",
    "rmseOLS = np.sqrt(mean_squared_error(y_testOLS, y_pred_testOLS))\n",
    "\n",
    "# Calcular el RAE\n",
    "raeOLS = maeOLS / abs(y_testOLS).mean()\n",
    "\n",
    "# Calcular el RRSE\n",
    "rrseOLS = rmseOLS / y_testOLS.std()\n",
    "\n",
    "# Imprimir resultados\n",
    "print(\"Coefficient of Determination (R2):\", r2OLS)\n",
    "print(\"Mean Absolute Error (MAE):\", maeOLS)\n",
    "print(\"Relative Absolute Error (RAE):\", raeOLS)\n",
    "print(\"Root Relative Squared Error (RRSE):\", rrseOLS)\n",
    "print(\"Root Mean Squared Error (RMSE):\", rmseOLS)"
   ]
  },
  {
   "cell_type": "markdown",
   "id": "12d22c16-3793-40a4-97aa-28ee0ca83fdd",
   "metadata": {
    "tags": []
   },
   "source": [
    "# 2. Red neuronal"
   ]
  },
  {
   "cell_type": "markdown",
   "id": "10c10fbe-2837-4675-81f8-f8094f6e977b",
   "metadata": {
    "jp-MarkdownHeadingCollapsed": true,
    "tags": []
   },
   "source": [
    "## 2.1. Obtención y limpieza de datos"
   ]
  },
  {
   "cell_type": "markdown",
   "id": "4cc6d10a-f9ec-4e96-9d6f-b1799adb4bac",
   "metadata": {
    "tags": []
   },
   "source": [
    "Cargamos las librerías necesarias."
   ]
  },
  {
   "cell_type": "code",
   "execution_count": 6,
   "id": "072dcc56-2fbb-4718-9aea-509b7b71e381",
   "metadata": {
    "tags": []
   },
   "outputs": [
    {
     "name": "stdout",
     "output_type": "stream",
     "text": [
      "WARNING:tensorflow:From C:\\Users\\Usuari\\anaconda3\\Lib\\site-packages\\keras\\src\\losses.py:2976: The name tf.losses.sparse_softmax_cross_entropy is deprecated. Please use tf.compat.v1.losses.sparse_softmax_cross_entropy instead.\n",
      "\n"
     ]
    }
   ],
   "source": [
    "from sklearn import preprocessing #para escalar/normalizar variables numéricas\n",
    "import tensorflow as tf #Esta y las de abajo las necesitamos siempre para ANN y RF\n",
    "from keras.models import Sequential\n",
    "from keras.layers import Dense\n",
    "from tensorflow.keras.callbacks import EarlyStopping"
   ]
  },
  {
   "cell_type": "markdown",
   "id": "f3087843-bfbe-457e-95d2-bc9804ca61e9",
   "metadata": {
    "jp-MarkdownHeadingCollapsed": true,
    "tags": []
   },
   "source": [
    "## 2.2. Estandarización de los datos"
   ]
  },
  {
   "cell_type": "markdown",
   "id": "877b2828-6f2c-4f76-8410-da95e00a7180",
   "metadata": {},
   "source": [
    "De las variables de mi base de datos, debo hacer un **one-hot encoding** para las categóricas y una **estandarización para las numéricas**. \n",
    "\n",
    "Empiezo buscando aquellas que pueden ser categóricas: contaré los valores únicos en cada columna y consideraré a aquellas con un número relativamente bajo de valores únicos como categóricas."
   ]
  },
  {
   "cell_type": "code",
   "execution_count": 10,
   "id": "076983d4-e0c5-4471-b1f5-a01f7888ef19",
   "metadata": {
    "tags": []
   },
   "outputs": [
    {
     "data": {
      "text/plain": [
       "Index(['EPC_A_emision', 'EPC_B_emision', 'EPC_C_emision', 'EPC_D_emision',\n",
       "       'EPC_E_emision', 'EPC_F_emision', 'EPC_G_emision', 'Muestra_2023',\n",
       "       'Year_1982_2006', 'Year_After_2007', 'bool_aire_acondicionado',\n",
       "       'bool_ascensor', 'bool_calefaccion', 'bool_piscina_comunitaria',\n",
       "       'dum_mar_200m', 'grand_terr_20m2'],\n",
       "      dtype='object')"
      ]
     },
     "execution_count": 10,
     "metadata": {},
     "output_type": "execute_result"
    }
   ],
   "source": [
    "# Contar los valores únicos en cada columna\n",
    "unique_counts = X_ols.nunique()\n",
    "\n",
    "# Filtrar las columnas con un número bajo de valores únicos (puedes ajustar este umbral según tu criterio)\n",
    "categoricas = unique_counts[unique_counts < 5].index\n",
    "\n",
    "categoricas"
   ]
  },
  {
   "cell_type": "markdown",
   "id": "e3ee6d10-16ed-4a4f-9f7b-a92f3af724af",
   "metadata": {},
   "source": [
    "He ido haciendo una revisión en Excel para diferenciar aquellas que ya están convertidas a un one-hot encoding (dummies) de aquellas que aún necesitan pasar por ese proceso. **Ninguna necesita pasar el proceso de one-hote encoding**."
   ]
  },
  {
   "cell_type": "code",
   "execution_count": 15,
   "id": "88b240ed-f056-47c6-9ffc-91ae5bb5c778",
   "metadata": {
    "tags": []
   },
   "outputs": [],
   "source": [
    "OHE=X_ols[['EPC_A_emision', 'EPC_B_emision', 'EPC_C_emision', 'EPC_D_emision',\n",
    "       'EPC_E_emision', 'EPC_F_emision', 'EPC_G_emision', 'Muestra_2023',\n",
    "       'Year_1982_2006', 'Year_After_2007', 'bool_aire_acondicionado',\n",
    "       'bool_ascensor', 'bool_calefaccion', 'bool_piscina_comunitaria',\n",
    "       'dum_mar_200m', 'grand_terr_20m2']]"
   ]
  },
  {
   "cell_type": "markdown",
   "id": "da79f0a1-8d53-4500-94eb-c1793227d6bc",
   "metadata": {},
   "source": [
    "Ahora hago la **estandarización** sobre las X que son numéricas."
   ]
  },
  {
   "cell_type": "code",
   "execution_count": 11,
   "id": "674f5da1-063f-4303-8f1c-8483073df711",
   "metadata": {
    "tags": []
   },
   "outputs": [],
   "source": [
    "# Crear una lista con todas las columnas dummies\n",
    "columnas_a_eliminar = list(OHE.columns)\n",
    "\n",
    "# Eliminar las columnas dummies de X_ols para quedarme sólo con las numéricas\n",
    "X2 = X_ols.drop(columns=columnas_a_eliminar)"
   ]
  },
  {
   "cell_type": "code",
   "execution_count": 12,
   "id": "e56f2c64-c28d-46be-904a-2356678ac14a",
   "metadata": {
    "tags": []
   },
   "outputs": [],
   "source": [
    "#Estandarizamos los valores de X3\n",
    "min_max_scaler = preprocessing.MinMaxScaler() #preprocessing es una función de la librearía \n",
    "                                              #sklearn, ya sabe lo que hacer\n",
    "X3 = min_max_scaler.fit_transform(X2)"
   ]
  },
  {
   "cell_type": "markdown",
   "id": "2a8a5d6e-8df4-41f3-94d2-df3267b1571f",
   "metadata": {},
   "source": [
    "Si quiero ver información sobre X3 me encontraré lo siguiente..."
   ]
  },
  {
   "cell_type": "code",
   "execution_count": 13,
   "id": "0268e313-5969-4a7a-ad0b-e35eff74151e",
   "metadata": {
    "tags": []
   },
   "outputs": [
    {
     "ename": "AttributeError",
     "evalue": "'numpy.ndarray' object has no attribute 'info'",
     "output_type": "error",
     "traceback": [
      "\u001b[1;31m---------------------------------------------------------------------------\u001b[0m",
      "\u001b[1;31mAttributeError\u001b[0m                            Traceback (most recent call last)",
      "Cell \u001b[1;32mIn[13], line 1\u001b[0m\n\u001b[1;32m----> 1\u001b[0m X3\u001b[38;5;241m.\u001b[39minfo()\n",
      "\u001b[1;31mAttributeError\u001b[0m: 'numpy.ndarray' object has no attribute 'info'"
     ]
    }
   ],
   "source": [
    "X3.info()"
   ]
  },
  {
   "cell_type": "markdown",
   "id": "54387335-8821-4181-89b4-13f954571907",
   "metadata": {},
   "source": [
    "X4 ya no es un dataframe, sino un array. Python los entiende de manera distinta. Es como si uno fuera un archivo XLSX y el otro un archivo CSV; es decir, contienen la misma información pero un formato distinto. Sin embargo, *keras* y *tensorflow* suelen preferir los arrays (son menos pesados); por tanto, vamos a convertir **OHE** para luego unir todos en un mismo objeto. \n",
    "\n",
    "Recuerden que tanto OHE como **X4** son las variables independientes de nuestro modelo: la primera tiene variables dummies o binarias (valores 0 y 1), mientras que X4 son las variables numéricas que ya hemos estandarizado."
   ]
  },
  {
   "cell_type": "code",
   "execution_count": 16,
   "id": "15fb4da4-d13b-497d-ac34-7cd179d0a3f8",
   "metadata": {
    "tags": []
   },
   "outputs": [],
   "source": [
    "# Convertir OHE a un array NumPy\n",
    "OHE_array=OHE.values\n",
    "\n",
    "# Concatenar X3, y OHE_array a lo largo del eje de las columnas (axis=1)\n",
    "X_scale = np.concatenate((X3,OHE_array), axis=1)"
   ]
  },
  {
   "cell_type": "markdown",
   "id": "f02145d7-1da5-42a7-aeae-06d67086a1b7",
   "metadata": {
    "tags": []
   },
   "source": [
    "Cuando elabore el modelo de redes neuronales, voy a necesitar saber cuántas variables independientes tengo (X), asi que para eso cuento la cantidad de columnas que tienen mi array *X_scale*."
   ]
  },
  {
   "cell_type": "code",
   "execution_count": 17,
   "id": "383c364e-7f24-410d-a91a-ca87c511466f",
   "metadata": {
    "tags": []
   },
   "outputs": [
    {
     "data": {
      "text/plain": [
       "32"
      ]
     },
     "execution_count": 17,
     "metadata": {},
     "output_type": "execute_result"
    }
   ],
   "source": [
    "X_scale.shape[1]"
   ]
  },
  {
   "cell_type": "markdown",
   "id": "5fccb1e8-9392-4374-8db6-7739104bc073",
   "metadata": {},
   "source": [
    "Por si acaso, también convierto las Y en array."
   ]
  },
  {
   "cell_type": "code",
   "execution_count": 19,
   "id": "e2fcfdba-71b2-42b4-95e8-becd1ef49530",
   "metadata": {
    "tags": []
   },
   "outputs": [],
   "source": [
    "y2 = y_ols.values"
   ]
  },
  {
   "cell_type": "code",
   "execution_count": 20,
   "id": "6d7cece3-13e0-43f0-9067-8f73d049a3d2",
   "metadata": {
    "tags": []
   },
   "outputs": [],
   "source": [
    "# Dividir los datos en conjuntos de entrenamiento y prueba\n",
    "X_train, X_test, y_train, y_test = train_test_split(X_scale, y2, \n",
    "                                                    test_size=0.2, random_state=42)"
   ]
  },
  {
   "cell_type": "markdown",
   "id": "b2dfa886-3f4d-45dd-bfcd-ddc953cbc364",
   "metadata": {
    "jp-MarkdownHeadingCollapsed": true,
    "tags": []
   },
   "source": [
    "## 2.3. Elaboración del modelo"
   ]
  },
  {
   "cell_type": "code",
   "execution_count": 21,
   "id": "223e31f6-8c21-4a99-ac97-ade8a2f74ceb",
   "metadata": {
    "tags": []
   },
   "outputs": [
    {
     "name": "stdout",
     "output_type": "stream",
     "text": [
      "WARNING:tensorflow:From C:\\Users\\Usuari\\anaconda3\\Lib\\site-packages\\keras\\src\\backend.py:873: The name tf.get_default_graph is deprecated. Please use tf.compat.v1.get_default_graph instead.\n",
      "\n",
      "WARNING:tensorflow:From C:\\Users\\Usuari\\anaconda3\\Lib\\site-packages\\keras\\src\\utils\\tf_utils.py:492: The name tf.ragged.RaggedTensorValue is deprecated. Please use tf.compat.v1.ragged.RaggedTensorValue instead.\n",
      "\n",
      "WARNING:tensorflow:From C:\\Users\\Usuari\\anaconda3\\Lib\\site-packages\\keras\\src\\engine\\base_layer_utils.py:384: The name tf.executing_eagerly_outside_functions is deprecated. Please use tf.compat.v1.executing_eagerly_outside_functions instead.\n",
      "\n"
     ]
    }
   ],
   "source": [
    "model = Sequential([\n",
    "    Dense(128, activation='relu', #Valor usado en la literatura\n",
    "    input_shape=(32,)), #Noten que acá van la cantidad de X\n",
    "    Dense(64, activation='relu'), #Valor usado en la literatura\n",
    "    Dense(1)  #Queremos una sola salida\n",
    "])\n",
    "\n",
    "model.compile(\n",
    "    optimizer=tf.keras.optimizers.Adam(0.005), #Valor usado en la literatura\n",
    "    loss='mean_squared_error', #Valor usado en la literatura\n",
    "    metrics=['accuracy'] #Valor usado en la literatura\n",
    ")\n",
    "\n",
    "nnmodel = model.fit(X_train, y_train, epochs=1000, #Valor usado en la literatura\n",
    "               callbacks=[EarlyStopping(monitor='val_loss', patience=500, restore_best_weights=True)], #Valores usados en la literatura\n",
    "               batch_size=6, #Valor usado en la literatura\n",
    "               verbose=False, #Sólo para que no imprima muchas cosas mientras procesa el modelo\n",
    "               validation_split=0.3 #Valor usado en la literatura\n",
    "              )"
   ]
  },
  {
   "cell_type": "code",
   "execution_count": 22,
   "id": "491ece16-0e2d-4e53-b1af-791c0321d238",
   "metadata": {
    "tags": []
   },
   "outputs": [
    {
     "name": "stdout",
     "output_type": "stream",
     "text": [
      "25/25 [==============================] - 0s 1ms/step\n",
      "Coefficient of Determination (R2): 0.8799211779394784\n",
      "Mean Absolute Error (MAE): 0.1426096845883721\n",
      "Relative Absolute Error (RAE): 1049.0943549091419\n",
      "Root Relative Squared Error (RRSE): 38.38393978916689\n",
      "Root Mean Squared Error (RMSE): 0.1873499202865381\n"
     ]
    }
   ],
   "source": [
    "# Predicciones en el conjunto de testeo\n",
    "y_predANN = model.predict(X_test)\n",
    "\n",
    "# Coefficient of determination (R2)\n",
    "r2ANN = r2_score(y_test, y_predANN)\n",
    "\n",
    "# Mean Absolute Error (MAE)\n",
    "maeANN = mean_absolute_error(y_test, y_predANN)\n",
    "\n",
    "# Relative Absolute Error (RAE)\n",
    "raeANN = np.sum(np.abs(y_predANN - y_test)) / np.sum(np.abs(np.mean(y_test) - y_test))\n",
    "\n",
    "# Root Relative Squared Error (RRSE)\n",
    "rrseANN = np.sqrt(np.sum((y_predANN - y_test) ** 2) / np.sum((np.mean(y_test) - y_test) ** 2))\n",
    "\n",
    "# Root Mean Squared Error (RMSE)\n",
    "rmseANN = np.sqrt(mean_squared_error(y_test, y_predANN))\n",
    "\n",
    "# Imprimir resultados\n",
    "print(\"Coefficient of Determination (R2):\", r2ANN)\n",
    "print(\"Mean Absolute Error (MAE):\", maeANN)\n",
    "print(\"Relative Absolute Error (RAE):\", raeANN)\n",
    "print(\"Root Relative Squared Error (RRSE):\", rrseANN)\n",
    "print(\"Root Mean Squared Error (RMSE):\", rmseANN)"
   ]
  },
  {
   "cell_type": "markdown",
   "id": "ad37736b-59ff-4ccd-b876-036e5c8e0335",
   "metadata": {},
   "source": [
    "Guardamos."
   ]
  },
  {
   "cell_type": "code",
   "execution_count": 23,
   "id": "87ef32ae-2205-4a46-b6e9-3d46baa9488d",
   "metadata": {
    "tags": []
   },
   "outputs": [
    {
     "name": "stdout",
     "output_type": "stream",
     "text": [
      "INFO:tensorflow:Assets written to: modelos/NN2-BCN4K\\assets\n"
     ]
    },
    {
     "name": "stderr",
     "output_type": "stream",
     "text": [
      "INFO:tensorflow:Assets written to: modelos/NN2-BCN4K\\assets\n"
     ]
    }
   ],
   "source": [
    "import pickle\n",
    "\n",
    "# Guardar el modelo\n",
    "model.save(\"modelos/NN2-BCN4K\")\n",
    "\n",
    "# Guardar el historial\n",
    "with open(\"modelos/NN2-BCN4K/history.pkl\", \"wb\") as f:\n",
    "    pickle.dump(nnmodel.history, f)"
   ]
  },
  {
   "cell_type": "markdown",
   "id": "487f3b1f-9a0f-4794-9fd9-82e893b9c7ba",
   "metadata": {
    "tags": []
   },
   "source": [
    "# 3. Random Forest"
   ]
  },
  {
   "cell_type": "markdown",
   "id": "ff9c4036-ccaa-4ae4-b42d-2d44140acb92",
   "metadata": {
    "jp-MarkdownHeadingCollapsed": true,
    "tags": []
   },
   "source": [
    "## 3.1. División de los datos"
   ]
  },
  {
   "cell_type": "code",
   "execution_count": 24,
   "id": "58df85d5-36d7-4652-8b63-639cf6fef252",
   "metadata": {
    "tags": []
   },
   "outputs": [],
   "source": [
    "# Dividir los datos en conjuntos de entrenamiento y prueba\n",
    "X_trainRF, X_testRF, y_trainRF, y_testRF = train_test_split(X_scale, y2, \n",
    "                                                    test_size=0.2, random_state=42)"
   ]
  },
  {
   "cell_type": "markdown",
   "id": "472f596f-21cf-4a88-b702-fcc96f30d1a8",
   "metadata": {
    "jp-MarkdownHeadingCollapsed": true,
    "tags": []
   },
   "source": [
    "## 3.2. Elaboración del modelo"
   ]
  },
  {
   "cell_type": "code",
   "execution_count": 25,
   "id": "fab547e2-a2b5-4fac-8e36-fee9229b96c3",
   "metadata": {
    "tags": []
   },
   "outputs": [],
   "source": [
    "from sklearn.ensemble import RandomForestRegressor\n",
    "from sklearn.metrics import mean_squared_error, r2_score\n",
    "\n",
    "# Crear el modelo de Random Forest\n",
    "rf_model = RandomForestRegressor(n_estimators=100, #Literatura indica que esto es prueba y error \n",
    "                                 random_state=42) #Puede ser cualquier número\n",
    "\n",
    "# Entrenar el modelo\n",
    "rf_model.fit(X_trainRF, y_trainRF)\n",
    "\n",
    "# Predecir sobre los datos de prueba\n",
    "y_predRF = rf_model.predict(X_testRF)"
   ]
  },
  {
   "cell_type": "code",
   "execution_count": 26,
   "id": "065326de-9745-413b-ba77-1d06413e3e67",
   "metadata": {
    "tags": []
   },
   "outputs": [
    {
     "name": "stdout",
     "output_type": "stream",
     "text": [
      "Coefficient of Determination (R2): 0.887514129651001\n",
      "Mean Absolute Error (MAE): 0.13459569435489374\n",
      "Relative Absolute Error (RAE): 0.010766073960065648\n",
      "Root Relative Squared Error (RRSE): 0.3353891327234665\n",
      "Root Mean Squared Error (RMSE): 0.18132984472663147\n"
     ]
    }
   ],
   "source": [
    "#Calcular coeficiente de determinación\n",
    "r2RF = r2_score(y_testRF, y_predRF)\n",
    "\n",
    "# Calcular MAE\n",
    "maeRF = mean_absolute_error(y_testRF, y_predRF)\n",
    "\n",
    "# Calcular RAE\n",
    "raeRF = maeRF / np.mean(np.abs(y_testRF))\n",
    "\n",
    "# Calcular RMSE\n",
    "rmseRF = np.sqrt(mean_squared_error(y_testRF, y_predRF))\n",
    "\n",
    "# Calcular RRSE\n",
    "rrseRF = rmseRF / np.std(y_test)\n",
    "\n",
    "# Imprimir resultados\n",
    "print(\"Coefficient of Determination (R2):\", r2RF)\n",
    "print(\"Mean Absolute Error (MAE):\", maeRF)\n",
    "print(\"Relative Absolute Error (RAE):\", raeRF)\n",
    "print(\"Root Relative Squared Error (RRSE):\", rrseRF)\n",
    "print(\"Root Mean Squared Error (RMSE):\", rmseRF)"
   ]
  },
  {
   "cell_type": "markdown",
   "id": "c708461d-356d-4b20-bf1f-e1a421904c8f",
   "metadata": {},
   "source": [
    "Guardamos."
   ]
  },
  {
   "cell_type": "code",
   "execution_count": 35,
   "id": "83739793-7f3c-4882-bb41-c05581cda9f1",
   "metadata": {
    "tags": []
   },
   "outputs": [],
   "source": [
    "import joblib\n",
    "import json\n",
    "\n",
    "# Guardar el modelo de Random Forest\n",
    "joblib.dump(rf_model, 'modelos/RF1-BCN4K.pkl')"
   ]
  },
  {
   "cell_type": "markdown",
   "id": "95a23b89-3b0d-41de-84d5-9b8ae81a6240",
   "metadata": {},
   "source": [
    "# 4. Comparación de modelos"
   ]
  },
  {
   "cell_type": "code",
   "execution_count": 32,
   "id": "25ddeabd-92f5-4fe6-b2b9-8be2f5b287e1",
   "metadata": {
    "tags": []
   },
   "outputs": [
    {
     "name": "stdout",
     "output_type": "stream",
     "text": [
      "  Modelo        R2       MAE          RAE       RRSE      RMSE\n",
      "0    OLS  0.884842  0.138478     0.011077   0.339129  0.183471\n",
      "1    ANN  0.879921  0.142610  1049.094355  38.383940  0.187350\n",
      "2     RF  0.887514  0.134596     0.010766   0.335389  0.181330\n"
     ]
    }
   ],
   "source": [
    "# Crear un diccionario con los datos\n",
    "data = {\n",
    "    'Modelo': ['OLS', 'ANN', 'RF'],\n",
    "    'R2': [r2OLS, r2ANN, r2RF],\n",
    "    'MAE': [maeOLS, maeANN, maeRF],\n",
    "    'RAE': [raeOLS, raeANN, raeRF],\n",
    "    'RRSE': [rrseOLS, rrseANN, rrseRF],\n",
    "    'RMSE': [rmseOLS, rmseANN, rmseRF ]\n",
    "}\n",
    "\n",
    "# Crear un DataFrame con los datos\n",
    "comparacion2 = pd.DataFrame(data)\n",
    "\n",
    "# Mostrar la tabla\n",
    "print(comparacion2)"
   ]
  },
  {
   "cell_type": "markdown",
   "id": "7d0328cb-924f-48be-9534-171d2563bda6",
   "metadata": {},
   "source": [
    "El RF es ligeramente mejor que el OLS."
   ]
  },
  {
   "cell_type": "markdown",
   "id": "4d71fdc6-857f-45d7-bc31-20f6cd233c1d",
   "metadata": {},
   "source": [
    "Los chicos pueden intentar mejorar el modelo OLS inicial, para que no considere sólo las columnas que Carlos indicó."
   ]
  }
 ],
 "metadata": {
  "kernelspec": {
   "display_name": "Python 3 (ipykernel)",
   "language": "python",
   "name": "python3"
  },
  "language_info": {
   "codemirror_mode": {
    "name": "ipython",
    "version": 3
   },
   "file_extension": ".py",
   "mimetype": "text/x-python",
   "name": "python",
   "nbconvert_exporter": "python",
   "pygments_lexer": "ipython3",
   "version": "3.11.5"
  }
 },
 "nbformat": 4,
 "nbformat_minor": 5
}
